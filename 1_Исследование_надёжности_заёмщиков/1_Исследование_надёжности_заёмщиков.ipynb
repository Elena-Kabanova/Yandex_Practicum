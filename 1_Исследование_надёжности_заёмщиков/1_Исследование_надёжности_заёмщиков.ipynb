{
  "cells": [
    {
      "cell_type": "markdown",
      "source": [
        "# **Предобработка данных**\n",
        "\n",
        "Работа с пропусками. Определение аномальных значений. Преобразование типов данных. Основные методы поиска дубликатов. Работа с несовершенными реальными наборами данных. Проект. Проверить гипотезу о влиянии email-рассылки на динамику повторных покупок."
      ],
      "metadata": {
        "id": "R9_MoyCso3pM"
      },
      "id": "R9_MoyCso3pM"
    },
    {
      "cell_type": "markdown",
      "source": [
        "# **Описание проекта**\n",
        "Заказчик — кредитный отдел банка. Нужно разобраться, влияет ли семейное положение и количество детей клиента на факт погашения кредита в срок. Входные данные от банка — статистика о платёжеспособности клиентов.\n",
        "Результаты исследования будут учтены при построении модели кредитного скоринга — специальной системы, которая оценивает способность потенциального заёмщика вернуть кредит банку.\n",
        "# **Описание данных**\n",
        "\n",
        "    children — количество детей в семье\n",
        "    days_employed — общий трудовой стаж в днях\n",
        "    dob_years — возраст клиента в годах\n",
        "    education — уровень образования клиента\n",
        "    education_id — идентификатор уровня образования\n",
        "    family_status — семейное положение\n",
        "    family_status_id — идентификатор семейного положения\n",
        "    gender — пол клиента\n",
        "    income_type — тип занятости\n",
        "    debt — имел ли задолженность по возврату кредитов\n",
        "    total_income — ежемесячный доход\n",
        "    purpose — цель получения кредита"
      ],
      "metadata": {
        "id": "mQ52WCRQpOHJ"
      },
      "id": "mQ52WCRQpOHJ"
    },
    {
      "cell_type": "markdown",
      "id": "4a9869f6",
      "metadata": {
        "deletable": false,
        "editable": false,
        "id": "4a9869f6"
      },
      "source": [
        "# Исследование надежности заемщиков\n"
      ]
    },
    {
      "cell_type": "markdown",
      "id": "8ea23a64",
      "metadata": {
        "deletable": false,
        "editable": false,
        "id": "8ea23a64"
      },
      "source": [
        "## Откройте таблицу и изучите общую информацию о данных"
      ]
    },
    {
      "cell_type": "markdown",
      "id": "c5117d9b",
      "metadata": {
        "deletable": false,
        "editable": false,
        "id": "c5117d9b"
      },
      "source": [
        "**Импортируем библиотеку pandas. Считаем данные из csv-файла в датафрейм и сохраним в переменную `data`.** \n"
      ]
    },
    {
      "cell_type": "code",
      "execution_count": null,
      "id": "a0cff94a",
      "metadata": {
        "deletable": false,
        "id": "a0cff94a"
      },
      "outputs": [],
      "source": [
        "import pandas as pd\n",
        "\n",
        "try:\n",
        "    data = pd.read_csv('/datasets/data.csv')\n",
        "except:\n",
        "    data = pd.read_csv('https://code.s3.yandex.net/datasets/data.csv')"
      ]
    },
    {
      "cell_type": "markdown",
      "id": "8bef5b05",
      "metadata": {
        "deletable": false,
        "editable": false,
        "id": "8bef5b05"
      },
      "source": [
        "**Выведем первые 20 строчек датафрейма `data` на экран.**"
      ]
    },
    {
      "cell_type": "code",
      "execution_count": null,
      "id": "e1d34f17",
      "metadata": {
        "deletable": false,
        "id": "e1d34f17",
        "outputId": "1a8f3ef2-d323-4ec2-ddf7-89670b5944c4"
      },
      "outputs": [
        {
          "data": {
            "text/html": [
              "<div>\n",
              "<style scoped>\n",
              "    .dataframe tbody tr th:only-of-type {\n",
              "        vertical-align: middle;\n",
              "    }\n",
              "\n",
              "    .dataframe tbody tr th {\n",
              "        vertical-align: top;\n",
              "    }\n",
              "\n",
              "    .dataframe thead th {\n",
              "        text-align: right;\n",
              "    }\n",
              "</style>\n",
              "<table border=\"1\" class=\"dataframe\">\n",
              "  <thead>\n",
              "    <tr style=\"text-align: right;\">\n",
              "      <th></th>\n",
              "      <th>children</th>\n",
              "      <th>days_employed</th>\n",
              "      <th>dob_years</th>\n",
              "      <th>education</th>\n",
              "      <th>education_id</th>\n",
              "      <th>family_status</th>\n",
              "      <th>family_status_id</th>\n",
              "      <th>gender</th>\n",
              "      <th>income_type</th>\n",
              "      <th>debt</th>\n",
              "      <th>total_income</th>\n",
              "      <th>purpose</th>\n",
              "    </tr>\n",
              "  </thead>\n",
              "  <tbody>\n",
              "    <tr>\n",
              "      <th>0</th>\n",
              "      <td>1</td>\n",
              "      <td>-8437.673028</td>\n",
              "      <td>42</td>\n",
              "      <td>высшее</td>\n",
              "      <td>0</td>\n",
              "      <td>женат / замужем</td>\n",
              "      <td>0</td>\n",
              "      <td>F</td>\n",
              "      <td>сотрудник</td>\n",
              "      <td>0</td>\n",
              "      <td>253875.639453</td>\n",
              "      <td>покупка жилья</td>\n",
              "    </tr>\n",
              "    <tr>\n",
              "      <th>1</th>\n",
              "      <td>1</td>\n",
              "      <td>-4024.803754</td>\n",
              "      <td>36</td>\n",
              "      <td>среднее</td>\n",
              "      <td>1</td>\n",
              "      <td>женат / замужем</td>\n",
              "      <td>0</td>\n",
              "      <td>F</td>\n",
              "      <td>сотрудник</td>\n",
              "      <td>0</td>\n",
              "      <td>112080.014102</td>\n",
              "      <td>приобретение автомобиля</td>\n",
              "    </tr>\n",
              "    <tr>\n",
              "      <th>2</th>\n",
              "      <td>0</td>\n",
              "      <td>-5623.422610</td>\n",
              "      <td>33</td>\n",
              "      <td>Среднее</td>\n",
              "      <td>1</td>\n",
              "      <td>женат / замужем</td>\n",
              "      <td>0</td>\n",
              "      <td>M</td>\n",
              "      <td>сотрудник</td>\n",
              "      <td>0</td>\n",
              "      <td>145885.952297</td>\n",
              "      <td>покупка жилья</td>\n",
              "    </tr>\n",
              "    <tr>\n",
              "      <th>3</th>\n",
              "      <td>3</td>\n",
              "      <td>-4124.747207</td>\n",
              "      <td>32</td>\n",
              "      <td>среднее</td>\n",
              "      <td>1</td>\n",
              "      <td>женат / замужем</td>\n",
              "      <td>0</td>\n",
              "      <td>M</td>\n",
              "      <td>сотрудник</td>\n",
              "      <td>0</td>\n",
              "      <td>267628.550329</td>\n",
              "      <td>дополнительное образование</td>\n",
              "    </tr>\n",
              "    <tr>\n",
              "      <th>4</th>\n",
              "      <td>0</td>\n",
              "      <td>340266.072047</td>\n",
              "      <td>53</td>\n",
              "      <td>среднее</td>\n",
              "      <td>1</td>\n",
              "      <td>гражданский брак</td>\n",
              "      <td>1</td>\n",
              "      <td>F</td>\n",
              "      <td>пенсионер</td>\n",
              "      <td>0</td>\n",
              "      <td>158616.077870</td>\n",
              "      <td>сыграть свадьбу</td>\n",
              "    </tr>\n",
              "    <tr>\n",
              "      <th>5</th>\n",
              "      <td>0</td>\n",
              "      <td>-926.185831</td>\n",
              "      <td>27</td>\n",
              "      <td>высшее</td>\n",
              "      <td>0</td>\n",
              "      <td>гражданский брак</td>\n",
              "      <td>1</td>\n",
              "      <td>M</td>\n",
              "      <td>компаньон</td>\n",
              "      <td>0</td>\n",
              "      <td>255763.565419</td>\n",
              "      <td>покупка жилья</td>\n",
              "    </tr>\n",
              "    <tr>\n",
              "      <th>6</th>\n",
              "      <td>0</td>\n",
              "      <td>-2879.202052</td>\n",
              "      <td>43</td>\n",
              "      <td>высшее</td>\n",
              "      <td>0</td>\n",
              "      <td>женат / замужем</td>\n",
              "      <td>0</td>\n",
              "      <td>F</td>\n",
              "      <td>компаньон</td>\n",
              "      <td>0</td>\n",
              "      <td>240525.971920</td>\n",
              "      <td>операции с жильем</td>\n",
              "    </tr>\n",
              "    <tr>\n",
              "      <th>7</th>\n",
              "      <td>0</td>\n",
              "      <td>-152.779569</td>\n",
              "      <td>50</td>\n",
              "      <td>СРЕДНЕЕ</td>\n",
              "      <td>1</td>\n",
              "      <td>женат / замужем</td>\n",
              "      <td>0</td>\n",
              "      <td>M</td>\n",
              "      <td>сотрудник</td>\n",
              "      <td>0</td>\n",
              "      <td>135823.934197</td>\n",
              "      <td>образование</td>\n",
              "    </tr>\n",
              "    <tr>\n",
              "      <th>8</th>\n",
              "      <td>2</td>\n",
              "      <td>-6929.865299</td>\n",
              "      <td>35</td>\n",
              "      <td>ВЫСШЕЕ</td>\n",
              "      <td>0</td>\n",
              "      <td>гражданский брак</td>\n",
              "      <td>1</td>\n",
              "      <td>F</td>\n",
              "      <td>сотрудник</td>\n",
              "      <td>0</td>\n",
              "      <td>95856.832424</td>\n",
              "      <td>на проведение свадьбы</td>\n",
              "    </tr>\n",
              "    <tr>\n",
              "      <th>9</th>\n",
              "      <td>0</td>\n",
              "      <td>-2188.756445</td>\n",
              "      <td>41</td>\n",
              "      <td>среднее</td>\n",
              "      <td>1</td>\n",
              "      <td>женат / замужем</td>\n",
              "      <td>0</td>\n",
              "      <td>M</td>\n",
              "      <td>сотрудник</td>\n",
              "      <td>0</td>\n",
              "      <td>144425.938277</td>\n",
              "      <td>покупка жилья для семьи</td>\n",
              "    </tr>\n",
              "    <tr>\n",
              "      <th>10</th>\n",
              "      <td>2</td>\n",
              "      <td>-4171.483647</td>\n",
              "      <td>36</td>\n",
              "      <td>высшее</td>\n",
              "      <td>0</td>\n",
              "      <td>женат / замужем</td>\n",
              "      <td>0</td>\n",
              "      <td>M</td>\n",
              "      <td>компаньон</td>\n",
              "      <td>0</td>\n",
              "      <td>113943.491460</td>\n",
              "      <td>покупка недвижимости</td>\n",
              "    </tr>\n",
              "    <tr>\n",
              "      <th>11</th>\n",
              "      <td>0</td>\n",
              "      <td>-792.701887</td>\n",
              "      <td>40</td>\n",
              "      <td>среднее</td>\n",
              "      <td>1</td>\n",
              "      <td>женат / замужем</td>\n",
              "      <td>0</td>\n",
              "      <td>F</td>\n",
              "      <td>сотрудник</td>\n",
              "      <td>0</td>\n",
              "      <td>77069.234271</td>\n",
              "      <td>покупка коммерческой недвижимости</td>\n",
              "    </tr>\n",
              "    <tr>\n",
              "      <th>12</th>\n",
              "      <td>0</td>\n",
              "      <td>NaN</td>\n",
              "      <td>65</td>\n",
              "      <td>среднее</td>\n",
              "      <td>1</td>\n",
              "      <td>гражданский брак</td>\n",
              "      <td>1</td>\n",
              "      <td>M</td>\n",
              "      <td>пенсионер</td>\n",
              "      <td>0</td>\n",
              "      <td>NaN</td>\n",
              "      <td>сыграть свадьбу</td>\n",
              "    </tr>\n",
              "    <tr>\n",
              "      <th>13</th>\n",
              "      <td>0</td>\n",
              "      <td>-1846.641941</td>\n",
              "      <td>54</td>\n",
              "      <td>неоконченное высшее</td>\n",
              "      <td>2</td>\n",
              "      <td>женат / замужем</td>\n",
              "      <td>0</td>\n",
              "      <td>F</td>\n",
              "      <td>сотрудник</td>\n",
              "      <td>0</td>\n",
              "      <td>130458.228857</td>\n",
              "      <td>приобретение автомобиля</td>\n",
              "    </tr>\n",
              "    <tr>\n",
              "      <th>14</th>\n",
              "      <td>0</td>\n",
              "      <td>-1844.956182</td>\n",
              "      <td>56</td>\n",
              "      <td>высшее</td>\n",
              "      <td>0</td>\n",
              "      <td>гражданский брак</td>\n",
              "      <td>1</td>\n",
              "      <td>F</td>\n",
              "      <td>компаньон</td>\n",
              "      <td>1</td>\n",
              "      <td>165127.911772</td>\n",
              "      <td>покупка жилой недвижимости</td>\n",
              "    </tr>\n",
              "    <tr>\n",
              "      <th>15</th>\n",
              "      <td>1</td>\n",
              "      <td>-972.364419</td>\n",
              "      <td>26</td>\n",
              "      <td>среднее</td>\n",
              "      <td>1</td>\n",
              "      <td>женат / замужем</td>\n",
              "      <td>0</td>\n",
              "      <td>F</td>\n",
              "      <td>сотрудник</td>\n",
              "      <td>0</td>\n",
              "      <td>116820.904450</td>\n",
              "      <td>строительство собственной недвижимости</td>\n",
              "    </tr>\n",
              "    <tr>\n",
              "      <th>16</th>\n",
              "      <td>0</td>\n",
              "      <td>-1719.934226</td>\n",
              "      <td>35</td>\n",
              "      <td>среднее</td>\n",
              "      <td>1</td>\n",
              "      <td>женат / замужем</td>\n",
              "      <td>0</td>\n",
              "      <td>F</td>\n",
              "      <td>сотрудник</td>\n",
              "      <td>0</td>\n",
              "      <td>289202.704229</td>\n",
              "      <td>недвижимость</td>\n",
              "    </tr>\n",
              "    <tr>\n",
              "      <th>17</th>\n",
              "      <td>0</td>\n",
              "      <td>-2369.999720</td>\n",
              "      <td>33</td>\n",
              "      <td>высшее</td>\n",
              "      <td>0</td>\n",
              "      <td>гражданский брак</td>\n",
              "      <td>1</td>\n",
              "      <td>M</td>\n",
              "      <td>сотрудник</td>\n",
              "      <td>0</td>\n",
              "      <td>90410.586745</td>\n",
              "      <td>строительство недвижимости</td>\n",
              "    </tr>\n",
              "    <tr>\n",
              "      <th>18</th>\n",
              "      <td>0</td>\n",
              "      <td>400281.136913</td>\n",
              "      <td>53</td>\n",
              "      <td>среднее</td>\n",
              "      <td>1</td>\n",
              "      <td>вдовец / вдова</td>\n",
              "      <td>2</td>\n",
              "      <td>F</td>\n",
              "      <td>пенсионер</td>\n",
              "      <td>0</td>\n",
              "      <td>56823.777243</td>\n",
              "      <td>на покупку подержанного автомобиля</td>\n",
              "    </tr>\n",
              "    <tr>\n",
              "      <th>19</th>\n",
              "      <td>0</td>\n",
              "      <td>-10038.818549</td>\n",
              "      <td>48</td>\n",
              "      <td>СРЕДНЕЕ</td>\n",
              "      <td>1</td>\n",
              "      <td>в разводе</td>\n",
              "      <td>3</td>\n",
              "      <td>F</td>\n",
              "      <td>сотрудник</td>\n",
              "      <td>0</td>\n",
              "      <td>242831.107982</td>\n",
              "      <td>на покупку своего автомобиля</td>\n",
              "    </tr>\n",
              "  </tbody>\n",
              "</table>\n",
              "</div>"
            ],
            "text/plain": [
              "    children  days_employed  dob_years            education  education_id  \\\n",
              "0          1   -8437.673028         42               высшее             0   \n",
              "1          1   -4024.803754         36              среднее             1   \n",
              "2          0   -5623.422610         33              Среднее             1   \n",
              "3          3   -4124.747207         32              среднее             1   \n",
              "4          0  340266.072047         53              среднее             1   \n",
              "5          0    -926.185831         27               высшее             0   \n",
              "6          0   -2879.202052         43               высшее             0   \n",
              "7          0    -152.779569         50              СРЕДНЕЕ             1   \n",
              "8          2   -6929.865299         35               ВЫСШЕЕ             0   \n",
              "9          0   -2188.756445         41              среднее             1   \n",
              "10         2   -4171.483647         36               высшее             0   \n",
              "11         0    -792.701887         40              среднее             1   \n",
              "12         0            NaN         65              среднее             1   \n",
              "13         0   -1846.641941         54  неоконченное высшее             2   \n",
              "14         0   -1844.956182         56               высшее             0   \n",
              "15         1    -972.364419         26              среднее             1   \n",
              "16         0   -1719.934226         35              среднее             1   \n",
              "17         0   -2369.999720         33               высшее             0   \n",
              "18         0  400281.136913         53              среднее             1   \n",
              "19         0  -10038.818549         48              СРЕДНЕЕ             1   \n",
              "\n",
              "       family_status  family_status_id gender income_type  debt  \\\n",
              "0    женат / замужем                 0      F   сотрудник     0   \n",
              "1    женат / замужем                 0      F   сотрудник     0   \n",
              "2    женат / замужем                 0      M   сотрудник     0   \n",
              "3    женат / замужем                 0      M   сотрудник     0   \n",
              "4   гражданский брак                 1      F   пенсионер     0   \n",
              "5   гражданский брак                 1      M   компаньон     0   \n",
              "6    женат / замужем                 0      F   компаньон     0   \n",
              "7    женат / замужем                 0      M   сотрудник     0   \n",
              "8   гражданский брак                 1      F   сотрудник     0   \n",
              "9    женат / замужем                 0      M   сотрудник     0   \n",
              "10   женат / замужем                 0      M   компаньон     0   \n",
              "11   женат / замужем                 0      F   сотрудник     0   \n",
              "12  гражданский брак                 1      M   пенсионер     0   \n",
              "13   женат / замужем                 0      F   сотрудник     0   \n",
              "14  гражданский брак                 1      F   компаньон     1   \n",
              "15   женат / замужем                 0      F   сотрудник     0   \n",
              "16   женат / замужем                 0      F   сотрудник     0   \n",
              "17  гражданский брак                 1      M   сотрудник     0   \n",
              "18    вдовец / вдова                 2      F   пенсионер     0   \n",
              "19         в разводе                 3      F   сотрудник     0   \n",
              "\n",
              "     total_income                                 purpose  \n",
              "0   253875.639453                           покупка жилья  \n",
              "1   112080.014102                 приобретение автомобиля  \n",
              "2   145885.952297                           покупка жилья  \n",
              "3   267628.550329              дополнительное образование  \n",
              "4   158616.077870                         сыграть свадьбу  \n",
              "5   255763.565419                           покупка жилья  \n",
              "6   240525.971920                       операции с жильем  \n",
              "7   135823.934197                             образование  \n",
              "8    95856.832424                   на проведение свадьбы  \n",
              "9   144425.938277                 покупка жилья для семьи  \n",
              "10  113943.491460                    покупка недвижимости  \n",
              "11   77069.234271       покупка коммерческой недвижимости  \n",
              "12            NaN                         сыграть свадьбу  \n",
              "13  130458.228857                 приобретение автомобиля  \n",
              "14  165127.911772              покупка жилой недвижимости  \n",
              "15  116820.904450  строительство собственной недвижимости  \n",
              "16  289202.704229                            недвижимость  \n",
              "17   90410.586745              строительство недвижимости  \n",
              "18   56823.777243      на покупку подержанного автомобиля  \n",
              "19  242831.107982            на покупку своего автомобиля  "
            ]
          },
          "execution_count": 465,
          "metadata": {},
          "output_type": "execute_result"
        }
      ],
      "source": [
        "data.head(20)"
      ]
    },
    {
      "cell_type": "markdown",
      "id": "7b548540",
      "metadata": {
        "deletable": false,
        "editable": false,
        "id": "7b548540"
      },
      "source": [
        "**Выведем основную информацию о датафрейме с помощью метода `info()`.**"
      ]
    },
    {
      "cell_type": "code",
      "execution_count": null,
      "id": "c2a0b7b5",
      "metadata": {
        "deletable": false,
        "id": "c2a0b7b5",
        "outputId": "15376089-8dad-46c9-b520-c05248d43158"
      },
      "outputs": [
        {
          "name": "stdout",
          "output_type": "stream",
          "text": [
            "<class 'pandas.core.frame.DataFrame'>\n",
            "RangeIndex: 21525 entries, 0 to 21524\n",
            "Data columns (total 12 columns):\n",
            " #   Column            Non-Null Count  Dtype  \n",
            "---  ------            --------------  -----  \n",
            " 0   children          21525 non-null  int64  \n",
            " 1   days_employed     19351 non-null  float64\n",
            " 2   dob_years         21525 non-null  int64  \n",
            " 3   education         21525 non-null  object \n",
            " 4   education_id      21525 non-null  int64  \n",
            " 5   family_status     21525 non-null  object \n",
            " 6   family_status_id  21525 non-null  int64  \n",
            " 7   gender            21525 non-null  object \n",
            " 8   income_type       21525 non-null  object \n",
            " 9   debt              21525 non-null  int64  \n",
            " 10  total_income      19351 non-null  float64\n",
            " 11  purpose           21525 non-null  object \n",
            "dtypes: float64(2), int64(5), object(5)\n",
            "memory usage: 2.0+ MB\n"
          ]
        }
      ],
      "source": [
        "data.info()"
      ]
    },
    {
      "cell_type": "markdown",
      "id": "3f833471",
      "metadata": {
        "deletable": false,
        "editable": false,
        "id": "3f833471"
      },
      "source": [
        "## Предобработка данных"
      ]
    },
    {
      "cell_type": "markdown",
      "id": "4540ddd4",
      "metadata": {
        "deletable": false,
        "editable": false,
        "id": "4540ddd4"
      },
      "source": [
        "### Удаление пропусков"
      ]
    },
    {
      "cell_type": "markdown",
      "id": "489bdb5a",
      "metadata": {
        "deletable": false,
        "editable": false,
        "id": "489bdb5a"
      },
      "source": [
        "**Выведем количество пропущенных значений для каждого столбца. Используем комбинацию двух методов.**"
      ]
    },
    {
      "cell_type": "code",
      "execution_count": null,
      "id": "f334f412",
      "metadata": {
        "deletable": false,
        "id": "f334f412",
        "outputId": "81f4d817-781c-465c-ed15-91ce4446810d"
      },
      "outputs": [
        {
          "data": {
            "text/plain": [
              "children               0\n",
              "days_employed       2174\n",
              "dob_years              0\n",
              "education              0\n",
              "education_id           0\n",
              "family_status          0\n",
              "family_status_id       0\n",
              "gender                 0\n",
              "income_type            0\n",
              "debt                   0\n",
              "total_income        2174\n",
              "purpose                0\n",
              "dtype: int64"
            ]
          },
          "execution_count": 467,
          "metadata": {},
          "output_type": "execute_result"
        }
      ],
      "source": [
        "data.isna().sum()"
      ]
    },
    {
      "cell_type": "code",
      "execution_count": null,
      "id": "66bbc5f3",
      "metadata": {
        "id": "66bbc5f3",
        "outputId": "f2c27f4f-0715-418a-9b64-417380f83290"
      },
      "outputs": [
        {
          "data": {
            "text/html": [
              "<div>\n",
              "<style scoped>\n",
              "    .dataframe tbody tr th:only-of-type {\n",
              "        vertical-align: middle;\n",
              "    }\n",
              "\n",
              "    .dataframe tbody tr th {\n",
              "        vertical-align: top;\n",
              "    }\n",
              "\n",
              "    .dataframe thead th {\n",
              "        text-align: right;\n",
              "    }\n",
              "</style>\n",
              "<table border=\"1\" class=\"dataframe\">\n",
              "  <thead>\n",
              "    <tr style=\"text-align: right;\">\n",
              "      <th></th>\n",
              "      <th>children</th>\n",
              "      <th>days_employed</th>\n",
              "      <th>dob_years</th>\n",
              "      <th>education</th>\n",
              "      <th>education_id</th>\n",
              "      <th>family_status</th>\n",
              "      <th>family_status_id</th>\n",
              "      <th>gender</th>\n",
              "      <th>income_type</th>\n",
              "      <th>debt</th>\n",
              "      <th>total_income</th>\n",
              "      <th>purpose</th>\n",
              "    </tr>\n",
              "  </thead>\n",
              "  <tbody>\n",
              "    <tr>\n",
              "      <th>12</th>\n",
              "      <td>0</td>\n",
              "      <td>NaN</td>\n",
              "      <td>65</td>\n",
              "      <td>среднее</td>\n",
              "      <td>1</td>\n",
              "      <td>гражданский брак</td>\n",
              "      <td>1</td>\n",
              "      <td>M</td>\n",
              "      <td>пенсионер</td>\n",
              "      <td>0</td>\n",
              "      <td>NaN</td>\n",
              "      <td>сыграть свадьбу</td>\n",
              "    </tr>\n",
              "    <tr>\n",
              "      <th>26</th>\n",
              "      <td>0</td>\n",
              "      <td>NaN</td>\n",
              "      <td>41</td>\n",
              "      <td>среднее</td>\n",
              "      <td>1</td>\n",
              "      <td>женат / замужем</td>\n",
              "      <td>0</td>\n",
              "      <td>M</td>\n",
              "      <td>госслужащий</td>\n",
              "      <td>0</td>\n",
              "      <td>NaN</td>\n",
              "      <td>образование</td>\n",
              "    </tr>\n",
              "    <tr>\n",
              "      <th>29</th>\n",
              "      <td>0</td>\n",
              "      <td>NaN</td>\n",
              "      <td>63</td>\n",
              "      <td>среднее</td>\n",
              "      <td>1</td>\n",
              "      <td>Не женат / не замужем</td>\n",
              "      <td>4</td>\n",
              "      <td>F</td>\n",
              "      <td>пенсионер</td>\n",
              "      <td>0</td>\n",
              "      <td>NaN</td>\n",
              "      <td>строительство жилой недвижимости</td>\n",
              "    </tr>\n",
              "    <tr>\n",
              "      <th>41</th>\n",
              "      <td>0</td>\n",
              "      <td>NaN</td>\n",
              "      <td>50</td>\n",
              "      <td>среднее</td>\n",
              "      <td>1</td>\n",
              "      <td>женат / замужем</td>\n",
              "      <td>0</td>\n",
              "      <td>F</td>\n",
              "      <td>госслужащий</td>\n",
              "      <td>0</td>\n",
              "      <td>NaN</td>\n",
              "      <td>сделка с подержанным автомобилем</td>\n",
              "    </tr>\n",
              "    <tr>\n",
              "      <th>55</th>\n",
              "      <td>0</td>\n",
              "      <td>NaN</td>\n",
              "      <td>54</td>\n",
              "      <td>среднее</td>\n",
              "      <td>1</td>\n",
              "      <td>гражданский брак</td>\n",
              "      <td>1</td>\n",
              "      <td>F</td>\n",
              "      <td>пенсионер</td>\n",
              "      <td>1</td>\n",
              "      <td>NaN</td>\n",
              "      <td>сыграть свадьбу</td>\n",
              "    </tr>\n",
              "    <tr>\n",
              "      <th>...</th>\n",
              "      <td>...</td>\n",
              "      <td>...</td>\n",
              "      <td>...</td>\n",
              "      <td>...</td>\n",
              "      <td>...</td>\n",
              "      <td>...</td>\n",
              "      <td>...</td>\n",
              "      <td>...</td>\n",
              "      <td>...</td>\n",
              "      <td>...</td>\n",
              "      <td>...</td>\n",
              "      <td>...</td>\n",
              "    </tr>\n",
              "    <tr>\n",
              "      <th>21489</th>\n",
              "      <td>2</td>\n",
              "      <td>NaN</td>\n",
              "      <td>47</td>\n",
              "      <td>Среднее</td>\n",
              "      <td>1</td>\n",
              "      <td>женат / замужем</td>\n",
              "      <td>0</td>\n",
              "      <td>M</td>\n",
              "      <td>компаньон</td>\n",
              "      <td>0</td>\n",
              "      <td>NaN</td>\n",
              "      <td>сделка с автомобилем</td>\n",
              "    </tr>\n",
              "    <tr>\n",
              "      <th>21495</th>\n",
              "      <td>1</td>\n",
              "      <td>NaN</td>\n",
              "      <td>50</td>\n",
              "      <td>среднее</td>\n",
              "      <td>1</td>\n",
              "      <td>гражданский брак</td>\n",
              "      <td>1</td>\n",
              "      <td>F</td>\n",
              "      <td>сотрудник</td>\n",
              "      <td>0</td>\n",
              "      <td>NaN</td>\n",
              "      <td>свадьба</td>\n",
              "    </tr>\n",
              "    <tr>\n",
              "      <th>21497</th>\n",
              "      <td>0</td>\n",
              "      <td>NaN</td>\n",
              "      <td>48</td>\n",
              "      <td>ВЫСШЕЕ</td>\n",
              "      <td>0</td>\n",
              "      <td>женат / замужем</td>\n",
              "      <td>0</td>\n",
              "      <td>F</td>\n",
              "      <td>компаньон</td>\n",
              "      <td>0</td>\n",
              "      <td>NaN</td>\n",
              "      <td>строительство недвижимости</td>\n",
              "    </tr>\n",
              "    <tr>\n",
              "      <th>21502</th>\n",
              "      <td>1</td>\n",
              "      <td>NaN</td>\n",
              "      <td>42</td>\n",
              "      <td>среднее</td>\n",
              "      <td>1</td>\n",
              "      <td>женат / замужем</td>\n",
              "      <td>0</td>\n",
              "      <td>F</td>\n",
              "      <td>сотрудник</td>\n",
              "      <td>0</td>\n",
              "      <td>NaN</td>\n",
              "      <td>строительство жилой недвижимости</td>\n",
              "    </tr>\n",
              "    <tr>\n",
              "      <th>21510</th>\n",
              "      <td>2</td>\n",
              "      <td>NaN</td>\n",
              "      <td>28</td>\n",
              "      <td>среднее</td>\n",
              "      <td>1</td>\n",
              "      <td>женат / замужем</td>\n",
              "      <td>0</td>\n",
              "      <td>F</td>\n",
              "      <td>сотрудник</td>\n",
              "      <td>0</td>\n",
              "      <td>NaN</td>\n",
              "      <td>приобретение автомобиля</td>\n",
              "    </tr>\n",
              "  </tbody>\n",
              "</table>\n",
              "<p>2174 rows × 12 columns</p>\n",
              "</div>"
            ],
            "text/plain": [
              "       children  days_employed  dob_years education  education_id  \\\n",
              "12            0            NaN         65   среднее             1   \n",
              "26            0            NaN         41   среднее             1   \n",
              "29            0            NaN         63   среднее             1   \n",
              "41            0            NaN         50   среднее             1   \n",
              "55            0            NaN         54   среднее             1   \n",
              "...         ...            ...        ...       ...           ...   \n",
              "21489         2            NaN         47   Среднее             1   \n",
              "21495         1            NaN         50   среднее             1   \n",
              "21497         0            NaN         48    ВЫСШЕЕ             0   \n",
              "21502         1            NaN         42   среднее             1   \n",
              "21510         2            NaN         28   среднее             1   \n",
              "\n",
              "               family_status  family_status_id gender  income_type  debt  \\\n",
              "12          гражданский брак                 1      M    пенсионер     0   \n",
              "26           женат / замужем                 0      M  госслужащий     0   \n",
              "29     Не женат / не замужем                 4      F    пенсионер     0   \n",
              "41           женат / замужем                 0      F  госслужащий     0   \n",
              "55          гражданский брак                 1      F    пенсионер     1   \n",
              "...                      ...               ...    ...          ...   ...   \n",
              "21489        женат / замужем                 0      M    компаньон     0   \n",
              "21495       гражданский брак                 1      F    сотрудник     0   \n",
              "21497        женат / замужем                 0      F    компаньон     0   \n",
              "21502        женат / замужем                 0      F    сотрудник     0   \n",
              "21510        женат / замужем                 0      F    сотрудник     0   \n",
              "\n",
              "       total_income                           purpose  \n",
              "12              NaN                   сыграть свадьбу  \n",
              "26              NaN                       образование  \n",
              "29              NaN  строительство жилой недвижимости  \n",
              "41              NaN  сделка с подержанным автомобилем  \n",
              "55              NaN                   сыграть свадьбу  \n",
              "...             ...                               ...  \n",
              "21489           NaN              сделка с автомобилем  \n",
              "21495           NaN                           свадьба  \n",
              "21497           NaN        строительство недвижимости  \n",
              "21502           NaN  строительство жилой недвижимости  \n",
              "21510           NaN           приобретение автомобиля  \n",
              "\n",
              "[2174 rows x 12 columns]"
            ]
          },
          "execution_count": 468,
          "metadata": {},
          "output_type": "execute_result"
        }
      ],
      "source": [
        "#создание таблицы, в столбцах days_employed, total_income которой отсутствуют значения. Для последних вопросов.\n",
        "data_nan = data.loc[(data['total_income'].isna()) & (data['days_employed'].isna())]\n",
        "data_nan"
      ]
    },
    {
      "cell_type": "markdown",
      "id": "fdb94d7f",
      "metadata": {
        "deletable": false,
        "editable": false,
        "id": "fdb94d7f"
      },
      "source": [
        "**В двух столбцах есть пропущенные значения. Один из них — `days_employed`. Пропуски в этом столбце обработаем на следующем этапе. Другой столбец с пропущенными значениями — `total_income` — хранит данные о доходах. На сумму дохода сильнее всего влияет тип занятости, поэтому заполнить пропуски в этом столбце нужно медианным значением по каждому типу из столбца `income_type`. Например, у человека с типом занятости `сотрудник` пропуск в столбце `total_income` должен быть заполнен медианным доходом среди всех записей с тем же типом.**"
      ]
    },
    {
      "cell_type": "code",
      "execution_count": null,
      "id": "9a7f2a0b",
      "metadata": {
        "deletable": false,
        "id": "9a7f2a0b"
      },
      "outputs": [],
      "source": [
        "for t in data['income_type'].unique():\n",
        "    data.loc[(data['income_type'] == t) & (data['total_income'].isna()), 'total_income'] = \\\n",
        "    data.loc[(data['income_type'] == t), 'total_income'].median()"
      ]
    },
    {
      "cell_type": "markdown",
      "id": "4b302476",
      "metadata": {
        "deletable": false,
        "editable": false,
        "id": "4b302476"
      },
      "source": [
        "### Обработка аномальных значений"
      ]
    },
    {
      "cell_type": "markdown",
      "id": "34782119",
      "metadata": {
        "deletable": false,
        "editable": false,
        "id": "34782119"
      },
      "source": [
        "**В данных могут встречаться артефакты (аномалии) — значения, которые не отражают действительность и появились по какой-то ошибке. таким артефактом будет отрицательное количество дней трудового стажа в столбце `days_employed`. Для реальных данных это нормально. Обработаем значения в этом столбце: заменим все отрицательные значения положительными с помощью метода `abs()`.**"
      ]
    },
    {
      "cell_type": "code",
      "execution_count": null,
      "id": "9e7ad1f8",
      "metadata": {
        "deletable": false,
        "id": "9e7ad1f8"
      },
      "outputs": [],
      "source": [
        "data['days_employed'] = data['days_employed'].abs()"
      ]
    },
    {
      "cell_type": "markdown",
      "id": "2dd5bf2e",
      "metadata": {
        "deletable": false,
        "editable": false,
        "id": "2dd5bf2e"
      },
      "source": [
        "**Для каждого типа занятости выведите медианное значение трудового стажа `days_employed` в днях.**"
      ]
    },
    {
      "cell_type": "code",
      "execution_count": null,
      "id": "92dd2e93",
      "metadata": {
        "deletable": false,
        "id": "92dd2e93",
        "outputId": "801ef80e-522b-4668-f34e-565af7432bcf"
      },
      "outputs": [
        {
          "data": {
            "text/plain": [
              "income_type\n",
              "безработный        366413.652744\n",
              "в декрете            3296.759962\n",
              "госслужащий          2689.368353\n",
              "компаньон            1547.382223\n",
              "пенсионер          365213.306266\n",
              "предприниматель       520.848083\n",
              "сотрудник            1574.202821\n",
              "студент               578.751554\n",
              "Name: days_employed, dtype: float64"
            ]
          },
          "execution_count": 471,
          "metadata": {},
          "output_type": "execute_result"
        }
      ],
      "source": [
        "data.groupby('income_type')['days_employed'].agg('median')"
      ]
    },
    {
      "cell_type": "markdown",
      "id": "ac785e07",
      "metadata": {
        "deletable": false,
        "editable": false,
        "id": "ac785e07"
      },
      "source": [
        "У двух типов (безработные и пенсионеры) получатся аномально большие значения. Исправить такие значения сложно, поэтому оставим их как есть. Тем более этот столбец не понадобится нам для исследования."
      ]
    },
    {
      "cell_type": "markdown",
      "id": "ab0db31d",
      "metadata": {
        "deletable": false,
        "editable": false,
        "id": "ab0db31d"
      },
      "source": [
        "**Выведите перечень уникальных значений столбца `children`.**"
      ]
    },
    {
      "cell_type": "code",
      "execution_count": null,
      "id": "3931a02a",
      "metadata": {
        "deletable": false,
        "id": "3931a02a",
        "outputId": "6975b15c-7f95-4697-d16d-a0c79b657b03"
      },
      "outputs": [
        {
          "data": {
            "text/plain": [
              "array([ 1,  0,  3,  2, -1,  4, 20,  5])"
            ]
          },
          "execution_count": 472,
          "metadata": {},
          "output_type": "execute_result"
        }
      ],
      "source": [
        "data['children'].unique()"
      ]
    },
    {
      "cell_type": "markdown",
      "id": "c9c044e2",
      "metadata": {
        "deletable": false,
        "editable": false,
        "id": "c9c044e2"
      },
      "source": [
        "**В столбце `children` есть два аномальных значения. Удалим строки, в которых встречаются такие аномальные значения из датафрейма `data`.**"
      ]
    },
    {
      "cell_type": "code",
      "execution_count": null,
      "id": "9bd3428a",
      "metadata": {
        "deletable": false,
        "id": "9bd3428a"
      },
      "outputs": [],
      "source": [
        "data = data[(data['children'] != -1) & (data['children'] != 20)]"
      ]
    },
    {
      "cell_type": "markdown",
      "id": "06784162",
      "metadata": {
        "deletable": false,
        "editable": false,
        "id": "06784162"
      },
      "source": [
        "**Ещё раз выведем перечень уникальных значений столбца `children`, чтобы убедиться, что артефакты удалены.**"
      ]
    },
    {
      "cell_type": "code",
      "execution_count": null,
      "id": "98c6ecf7",
      "metadata": {
        "deletable": false,
        "id": "98c6ecf7",
        "outputId": "b2097101-d49d-44d9-901b-32a65c9463d1"
      },
      "outputs": [
        {
          "data": {
            "text/plain": [
              "array([1, 0, 3, 2, 4, 5])"
            ]
          },
          "execution_count": 474,
          "metadata": {},
          "output_type": "execute_result"
        }
      ],
      "source": [
        "data['children'].unique()"
      ]
    },
    {
      "cell_type": "markdown",
      "id": "8862bde4",
      "metadata": {
        "deletable": false,
        "editable": false,
        "id": "8862bde4"
      },
      "source": [
        "### Удаление пропусков (продолжение)"
      ]
    },
    {
      "cell_type": "markdown",
      "id": "4719ea5e",
      "metadata": {
        "deletable": false,
        "editable": false,
        "id": "4719ea5e"
      },
      "source": [
        "**Заполним пропуски в столбце `days_employed` медианными значениями по каждого типа занятости `income_type`.**"
      ]
    },
    {
      "cell_type": "code",
      "execution_count": null,
      "id": "f9aa950d",
      "metadata": {
        "deletable": false,
        "id": "f9aa950d"
      },
      "outputs": [],
      "source": [
        "for t in data['income_type'].unique():\n",
        "    data.loc[(data['income_type'] == t) & (data['days_employed'].isna()), 'days_employed'] = \\\n",
        "    data.loc[(data['income_type'] == t), 'days_employed'].median()"
      ]
    },
    {
      "cell_type": "markdown",
      "id": "0f7d5bf8",
      "metadata": {
        "deletable": false,
        "editable": false,
        "id": "0f7d5bf8"
      },
      "source": [
        "**Убедимся, что все пропуски заполнены. Проверим себя и ещё раз выведем количество пропущенных значений для каждого столбца с помощью двух методов.**"
      ]
    },
    {
      "cell_type": "code",
      "execution_count": null,
      "id": "0bb05844",
      "metadata": {
        "deletable": false,
        "id": "0bb05844",
        "outputId": "8da1e4e1-358e-4e87-98c9-f261bce0a7b2"
      },
      "outputs": [
        {
          "data": {
            "text/plain": [
              "children            0\n",
              "days_employed       0\n",
              "dob_years           0\n",
              "education           0\n",
              "education_id        0\n",
              "family_status       0\n",
              "family_status_id    0\n",
              "gender              0\n",
              "income_type         0\n",
              "debt                0\n",
              "total_income        0\n",
              "purpose             0\n",
              "dtype: int64"
            ]
          },
          "execution_count": 476,
          "metadata": {},
          "output_type": "execute_result"
        }
      ],
      "source": [
        "data.isna().sum()"
      ]
    },
    {
      "cell_type": "markdown",
      "id": "c7117f11",
      "metadata": {
        "deletable": false,
        "editable": false,
        "id": "c7117f11"
      },
      "source": [
        "### Изменение типов данных"
      ]
    },
    {
      "cell_type": "markdown",
      "id": "6021ead5",
      "metadata": {
        "deletable": false,
        "editable": false,
        "id": "6021ead5"
      },
      "source": [
        "**Заменим вещественный тип данных в столбце `total_income` на целочисленный с помощью метода `astype()`.**"
      ]
    },
    {
      "cell_type": "code",
      "execution_count": null,
      "id": "ae1a68fc",
      "metadata": {
        "deletable": false,
        "id": "ae1a68fc"
      },
      "outputs": [],
      "source": [
        "data['total_income'] = data['total_income'].astype(int)"
      ]
    },
    {
      "cell_type": "markdown",
      "id": "68fb9366",
      "metadata": {
        "deletable": false,
        "editable": false,
        "id": "68fb9366"
      },
      "source": [
        "### Обработка дубликатов"
      ]
    },
    {
      "cell_type": "markdown",
      "id": "2135cfa2",
      "metadata": {
        "deletable": false,
        "editable": false,
        "id": "2135cfa2"
      },
      "source": [
        "**Обработаем неявные дубликаты в столбце `education`. В этом столбце есть одни и те же значения, но записанные по-разному: с использованием заглавных и строчных букв. Приведем их к нижнему регистру. Проверим остальные столбцы.**"
      ]
    },
    {
      "cell_type": "code",
      "execution_count": null,
      "id": "e2581def",
      "metadata": {
        "deletable": false,
        "id": "e2581def"
      },
      "outputs": [],
      "source": [
        "data['education'] = data['education'].str.lower()"
      ]
    },
    {
      "cell_type": "markdown",
      "id": "dbdef926",
      "metadata": {
        "deletable": false,
        "editable": false,
        "id": "dbdef926"
      },
      "source": [
        "**Выведем на экран количество строк-дубликатов в данных. Если такие строки присутствуют, удалим их.**"
      ]
    },
    {
      "cell_type": "code",
      "execution_count": null,
      "id": "78b15a38",
      "metadata": {
        "deletable": false,
        "id": "78b15a38",
        "outputId": "9684deba-1934-42d1-99e1-cda61740f822"
      },
      "outputs": [
        {
          "data": {
            "text/plain": [
              "71"
            ]
          },
          "execution_count": 479,
          "metadata": {},
          "output_type": "execute_result"
        }
      ],
      "source": [
        "data.duplicated().sum()"
      ]
    },
    {
      "cell_type": "code",
      "execution_count": null,
      "id": "2a0f19b9",
      "metadata": {
        "deletable": false,
        "id": "2a0f19b9"
      },
      "outputs": [],
      "source": [
        "data = data.drop_duplicates()"
      ]
    },
    {
      "cell_type": "markdown",
      "id": "d36ba65b",
      "metadata": {
        "deletable": false,
        "editable": false,
        "id": "d36ba65b"
      },
      "source": [
        "### Категоризация данных"
      ]
    },
    {
      "cell_type": "markdown",
      "id": "ca1169b0",
      "metadata": {
        "deletable": false,
        "editable": false,
        "id": "ca1169b0"
      },
      "source": [
        "**На основании диапазонов, указанных ниже, создадим в датафрейме `data` столбец `total_income_category` с категориями:**\n",
        "\n",
        "- 0–30000 — `'E'`;\n",
        "- 30001–50000 — `'D'`;\n",
        "- 50001–200000 — `'C'`;\n",
        "- 200001–1000000 — `'B'`;\n",
        "- 1000001 и выше — `'A'`.\n",
        "\n",
        "\n",
        "**Например, кредитополучателю с доходом 25000 нужно назначить категорию `'E'`, а клиенту, получающему 235000, — `'B'`. Используем собственную функцию с именем `categorize_income()` и метод `apply()`.**"
      ]
    },
    {
      "cell_type": "code",
      "execution_count": null,
      "id": "12ac6f50",
      "metadata": {
        "deletable": false,
        "id": "12ac6f50"
      },
      "outputs": [],
      "source": [
        "def categorize_income(income):\n",
        "    try:\n",
        "        if 0 <= income <= 30000:\n",
        "            return 'E'\n",
        "        elif 30001 <= income <= 50000:\n",
        "            return 'D'\n",
        "        elif 50001 <= income <= 200000:\n",
        "            return 'C'\n",
        "        elif 200001 <= income <= 1000000:\n",
        "            return 'B'\n",
        "        elif income >= 1000001:\n",
        "            return 'A'\n",
        "    except:\n",
        "        pass"
      ]
    },
    {
      "cell_type": "code",
      "execution_count": null,
      "id": "45aa0c01",
      "metadata": {
        "deletable": false,
        "id": "45aa0c01"
      },
      "outputs": [],
      "source": [
        "data['total_income_category'] = data['total_income'].apply(categorize_income)"
      ]
    },
    {
      "cell_type": "markdown",
      "id": "44ee3404",
      "metadata": {
        "deletable": false,
        "editable": false,
        "id": "44ee3404"
      },
      "source": [
        "**Выведем на экран перечень уникальных целей взятия кредита из столбца `purpose`.**"
      ]
    },
    {
      "cell_type": "code",
      "execution_count": null,
      "id": "1fcdef26",
      "metadata": {
        "deletable": false,
        "id": "1fcdef26",
        "outputId": "673c12d9-7d7e-4ae0-9812-c622c89dd244"
      },
      "outputs": [
        {
          "data": {
            "text/plain": [
              "array(['покупка жилья', 'приобретение автомобиля',\n",
              "       'дополнительное образование', 'сыграть свадьбу',\n",
              "       'операции с жильем', 'образование', 'на проведение свадьбы',\n",
              "       'покупка жилья для семьи', 'покупка недвижимости',\n",
              "       'покупка коммерческой недвижимости', 'покупка жилой недвижимости',\n",
              "       'строительство собственной недвижимости', 'недвижимость',\n",
              "       'строительство недвижимости', 'на покупку подержанного автомобиля',\n",
              "       'на покупку своего автомобиля',\n",
              "       'операции с коммерческой недвижимостью',\n",
              "       'строительство жилой недвижимости', 'жилье',\n",
              "       'операции со своей недвижимостью', 'автомобили',\n",
              "       'заняться образованием', 'сделка с подержанным автомобилем',\n",
              "       'получение образования', 'автомобиль', 'свадьба',\n",
              "       'получение дополнительного образования', 'покупка своего жилья',\n",
              "       'операции с недвижимостью', 'получение высшего образования',\n",
              "       'свой автомобиль', 'сделка с автомобилем',\n",
              "       'профильное образование', 'высшее образование',\n",
              "       'покупка жилья для сдачи', 'на покупку автомобиля', 'ремонт жилью',\n",
              "       'заняться высшим образованием'], dtype=object)"
            ]
          },
          "execution_count": 483,
          "metadata": {},
          "output_type": "execute_result"
        }
      ],
      "source": [
        "data['purpose'].unique()"
      ]
    },
    {
      "cell_type": "markdown",
      "id": "389b623e",
      "metadata": {
        "deletable": false,
        "editable": false,
        "id": "389b623e"
      },
      "source": [
        "**Создадим функцию, которая на основании данных из столбца `purpose` сформирует новый столбец `purpose_category`, в который войдут следующие категории:**\n",
        "\n",
        "- `'операции с автомобилем'`,\n",
        "- `'операции с недвижимостью'`,\n",
        "- `'проведение свадьбы'`,\n",
        "- `'получение образования'`.\n",
        "\n",
        "**Например, если в столбце `purpose` находится подстрока `'на покупку автомобиля'`, то в столбце `purpose_category` должна появиться строка `'операции с автомобилем'`.**\n",
        "\n",
        "**Используем собственную функцию с именем `categorize_purpose()` и метод `apply()`. Изучим данные в столбце `purpose` и определим, какие подстроки помогут нам правильно определить категорию.**"
      ]
    },
    {
      "cell_type": "code",
      "execution_count": null,
      "id": "81409de0",
      "metadata": {
        "deletable": false,
        "id": "81409de0"
      },
      "outputs": [],
      "source": [
        "def categorize_purpose(row):\n",
        "    try:\n",
        "        if 'автом' in row:\n",
        "            return 'операции с автомобилем'\n",
        "        elif 'жил' in row or 'недвиж' in row:\n",
        "            return 'операции с недвижимостью'\n",
        "        elif 'свад' in row:\n",
        "            return 'проведение свадьбы'\n",
        "        elif 'образов' in row:\n",
        "            return 'получение образования'\n",
        "    except:\n",
        "        return 'нет категории'"
      ]
    },
    {
      "cell_type": "code",
      "execution_count": null,
      "id": "e176e91d",
      "metadata": {
        "deletable": false,
        "id": "e176e91d"
      },
      "outputs": [],
      "source": [
        "data['purpose_category'] = data['purpose'].apply(categorize_purpose)"
      ]
    },
    {
      "cell_type": "markdown",
      "id": "0467eaee",
      "metadata": {
        "deletable": false,
        "editable": false,
        "id": "0467eaee"
      },
      "source": [
        "### Шаг 3. Исследуем данные и ответим на вопросы"
      ]
    },
    {
      "cell_type": "markdown",
      "id": "6cb601e5",
      "metadata": {
        "deletable": false,
        "editable": false,
        "id": "6cb601e5"
      },
      "source": [
        "#### 3.1 Есть ли зависимость между количеством детей и возвратом кредита в срок?"
      ]
    },
    {
      "cell_type": "code",
      "execution_count": null,
      "id": "b6ec62c0",
      "metadata": {
        "deletable": false,
        "id": "b6ec62c0",
        "outputId": "fce048a2-f0f2-4713-d386-5ec86ffe7ba8"
      },
      "outputs": [
        {
          "data": {
            "text/html": [
              "<div>\n",
              "<style scoped>\n",
              "    .dataframe tbody tr th:only-of-type {\n",
              "        vertical-align: middle;\n",
              "    }\n",
              "\n",
              "    .dataframe tbody tr th {\n",
              "        vertical-align: top;\n",
              "    }\n",
              "\n",
              "    .dataframe thead tr th {\n",
              "        text-align: left;\n",
              "    }\n",
              "\n",
              "    .dataframe thead tr:last-of-type th {\n",
              "        text-align: right;\n",
              "    }\n",
              "</style>\n",
              "<table border=\"1\" class=\"dataframe\">\n",
              "  <thead>\n",
              "    <tr>\n",
              "      <th></th>\n",
              "      <th>count</th>\n",
              "      <th>sum</th>\n",
              "      <th>mean</th>\n",
              "    </tr>\n",
              "    <tr>\n",
              "      <th></th>\n",
              "      <th>debt</th>\n",
              "      <th>debt</th>\n",
              "      <th>debt</th>\n",
              "    </tr>\n",
              "    <tr>\n",
              "      <th>children</th>\n",
              "      <th></th>\n",
              "      <th></th>\n",
              "      <th></th>\n",
              "    </tr>\n",
              "  </thead>\n",
              "  <tbody>\n",
              "    <tr>\n",
              "      <th>0</th>\n",
              "      <td>14091</td>\n",
              "      <td>1063</td>\n",
              "      <td>0.075438</td>\n",
              "    </tr>\n",
              "    <tr>\n",
              "      <th>1</th>\n",
              "      <td>4808</td>\n",
              "      <td>444</td>\n",
              "      <td>0.092346</td>\n",
              "    </tr>\n",
              "    <tr>\n",
              "      <th>2</th>\n",
              "      <td>2052</td>\n",
              "      <td>194</td>\n",
              "      <td>0.094542</td>\n",
              "    </tr>\n",
              "    <tr>\n",
              "      <th>3</th>\n",
              "      <td>330</td>\n",
              "      <td>27</td>\n",
              "      <td>0.081818</td>\n",
              "    </tr>\n",
              "    <tr>\n",
              "      <th>4</th>\n",
              "      <td>41</td>\n",
              "      <td>4</td>\n",
              "      <td>0.097561</td>\n",
              "    </tr>\n",
              "    <tr>\n",
              "      <th>5</th>\n",
              "      <td>9</td>\n",
              "      <td>0</td>\n",
              "      <td>0.000000</td>\n",
              "    </tr>\n",
              "  </tbody>\n",
              "</table>\n",
              "</div>"
            ],
            "text/plain": [
              "          count   sum      mean\n",
              "           debt  debt      debt\n",
              "children                       \n",
              "0         14091  1063  0.075438\n",
              "1          4808   444  0.092346\n",
              "2          2052   194  0.094542\n",
              "3           330    27  0.081818\n",
              "4            41     4  0.097561\n",
              "5             9     0  0.000000"
            ]
          },
          "execution_count": 486,
          "metadata": {},
          "output_type": "execute_result"
        }
      ],
      "source": [
        "#выведем сводную таблицу по количеству детей\n",
        "#посчитаем число заемщиков, сумму неплатильщиков и их долю от общего числа берущих кредит\n",
        "children_pivot = data.pivot_table(index=['children'],  values = 'debt', aggfunc = ['count', 'sum', 'mean'])\n",
        "\n",
        "children_pivot"
      ]
    },
    {
      "cell_type": "markdown",
      "id": "413b1100",
      "metadata": {
        "deletable": false,
        "id": "413b1100"
      },
      "source": [
        "**Вывод:** В сводной таблице мы  видим, что больше всего людей, которые берут кредит, **не имеют детей**. Далее с увеличением количества детей уменьшается и число заемщиков. \n",
        "Из них во втором столбце **sum debt** наблюдаем самое большое число тех, кто не возвращает вовремя кредит относится к людям **не имеющих детей**. Остальные зачения должников также уменьшаются с увеличением числа детей. \n",
        "Третья колонка **mean debt** - рассказывает нам о том, что отношение числа заемщиков, не возвращающих вовремя кредит, к общему числу людей, взявших кредиты имеет, напротив, меньшее значение у категории людей **не имеющих детей**. У групп с **одним и более детьми** доля неплатильщиков больше, чем у заемщиков **без детей**, и имеет приблизительно одинаковое значение. Единственно у людей, имеющих **5 детей**, количество взявших кредит мало, всего 9, но и должников нет.\n",
        "\n",
        "Отсюда можно сделать вывод, что  **зависимость между количеством детей и возвратом кредита в срок есть, но по задолженности число невовремя оплачивающих кредит меньше всего у  заемщиков, не имеющих детей**"
      ]
    },
    {
      "cell_type": "markdown",
      "id": "11044e7d",
      "metadata": {
        "deletable": false,
        "editable": false,
        "id": "11044e7d"
      },
      "source": [
        "#### 3.2 Есть ли зависимость между семейным положением и возвратом кредита в срок?"
      ]
    },
    {
      "cell_type": "code",
      "execution_count": null,
      "id": "a30514e0",
      "metadata": {
        "deletable": false,
        "id": "a30514e0",
        "outputId": "6248f164-3dcf-4b80-9a81-e10383437f77"
      },
      "outputs": [
        {
          "data": {
            "text/html": [
              "<div>\n",
              "<style scoped>\n",
              "    .dataframe tbody tr th:only-of-type {\n",
              "        vertical-align: middle;\n",
              "    }\n",
              "\n",
              "    .dataframe tbody tr th {\n",
              "        vertical-align: top;\n",
              "    }\n",
              "\n",
              "    .dataframe thead tr th {\n",
              "        text-align: left;\n",
              "    }\n",
              "\n",
              "    .dataframe thead tr:last-of-type th {\n",
              "        text-align: right;\n",
              "    }\n",
              "</style>\n",
              "<table border=\"1\" class=\"dataframe\">\n",
              "  <thead>\n",
              "    <tr>\n",
              "      <th></th>\n",
              "      <th>count</th>\n",
              "      <th>sum</th>\n",
              "      <th>mean</th>\n",
              "    </tr>\n",
              "    <tr>\n",
              "      <th></th>\n",
              "      <th>debt</th>\n",
              "      <th>debt</th>\n",
              "      <th>debt</th>\n",
              "    </tr>\n",
              "    <tr>\n",
              "      <th>family_status</th>\n",
              "      <th></th>\n",
              "      <th></th>\n",
              "      <th></th>\n",
              "    </tr>\n",
              "  </thead>\n",
              "  <tbody>\n",
              "    <tr>\n",
              "      <th>Не женат / не замужем</th>\n",
              "      <td>2796</td>\n",
              "      <td>273</td>\n",
              "      <td>0.097639</td>\n",
              "    </tr>\n",
              "    <tr>\n",
              "      <th>в разводе</th>\n",
              "      <td>1189</td>\n",
              "      <td>84</td>\n",
              "      <td>0.070648</td>\n",
              "    </tr>\n",
              "    <tr>\n",
              "      <th>вдовец / вдова</th>\n",
              "      <td>951</td>\n",
              "      <td>63</td>\n",
              "      <td>0.066246</td>\n",
              "    </tr>\n",
              "    <tr>\n",
              "      <th>гражданский брак</th>\n",
              "      <td>4134</td>\n",
              "      <td>385</td>\n",
              "      <td>0.093130</td>\n",
              "    </tr>\n",
              "    <tr>\n",
              "      <th>женат / замужем</th>\n",
              "      <td>12261</td>\n",
              "      <td>927</td>\n",
              "      <td>0.075606</td>\n",
              "    </tr>\n",
              "  </tbody>\n",
              "</table>\n",
              "</div>"
            ],
            "text/plain": [
              "                       count  sum      mean\n",
              "                        debt debt      debt\n",
              "family_status                              \n",
              "Не женат / не замужем   2796  273  0.097639\n",
              "в разводе               1189   84  0.070648\n",
              "вдовец / вдова           951   63  0.066246\n",
              "гражданский брак        4134  385  0.093130\n",
              "женат / замужем        12261  927  0.075606"
            ]
          },
          "execution_count": 487,
          "metadata": {},
          "output_type": "execute_result"
        }
      ],
      "source": [
        "#выведем сводную таблицу по семейному положению\n",
        "#посчитаем число заемщиков, сумму неплатильщиков и их долю от общего числа берущих кредит\n",
        "family_status_pivot = data.pivot_table(index=['family_status'],  values = 'debt', aggfunc = ['count','sum', 'mean'])\n",
        "family_status_pivot "
      ]
    },
    {
      "cell_type": "markdown",
      "id": "6d4c8337",
      "metadata": {
        "deletable": false,
        "id": "6d4c8337"
      },
      "source": [
        "**Вывод:** В данной сводной таблице больше всего заемщиков с семейны положением **замужем\\женат**, как и колличество неплатильщиков по второй колонке **sum debt**. \n",
        "Исходя из третей колонки **mean debt**, доля людей, несовершающих вовремя платежи по кредиту, меньше всего среди тех, кто имеет статус **вдовец\\вдова**, далее **в разводе**, и чуть больше среди **женат\\замужем**. \n",
        "Остальные:**гражданский брак** и **не женат\\не замужем** имеют наибольшее значение среди других  неплатильщиков.\n",
        "Отсюда можем сделать выввод, что **связь между семейным положением и возвратом кредита в срок имеется.**"
      ]
    },
    {
      "cell_type": "markdown",
      "id": "a408d18d",
      "metadata": {
        "deletable": false,
        "editable": false,
        "id": "a408d18d"
      },
      "source": [
        "#### 3.3 Есть ли зависимость между уровнем дохода и возвратом кредита в срок?"
      ]
    },
    {
      "cell_type": "code",
      "execution_count": null,
      "id": "30cec3f0",
      "metadata": {
        "deletable": false,
        "id": "30cec3f0",
        "scrolled": false,
        "outputId": "628b9559-8b9d-4cac-d64d-6f96d0b851b6"
      },
      "outputs": [
        {
          "data": {
            "text/html": [
              "<div>\n",
              "<style scoped>\n",
              "    .dataframe tbody tr th:only-of-type {\n",
              "        vertical-align: middle;\n",
              "    }\n",
              "\n",
              "    .dataframe tbody tr th {\n",
              "        vertical-align: top;\n",
              "    }\n",
              "\n",
              "    .dataframe thead tr th {\n",
              "        text-align: left;\n",
              "    }\n",
              "\n",
              "    .dataframe thead tr:last-of-type th {\n",
              "        text-align: right;\n",
              "    }\n",
              "</style>\n",
              "<table border=\"1\" class=\"dataframe\">\n",
              "  <thead>\n",
              "    <tr>\n",
              "      <th></th>\n",
              "      <th>count</th>\n",
              "      <th>sum</th>\n",
              "      <th>mean</th>\n",
              "    </tr>\n",
              "    <tr>\n",
              "      <th></th>\n",
              "      <th>debt</th>\n",
              "      <th>debt</th>\n",
              "      <th>debt</th>\n",
              "    </tr>\n",
              "    <tr>\n",
              "      <th>total_income_category</th>\n",
              "      <th></th>\n",
              "      <th></th>\n",
              "      <th></th>\n",
              "    </tr>\n",
              "  </thead>\n",
              "  <tbody>\n",
              "    <tr>\n",
              "      <th>A</th>\n",
              "      <td>25</td>\n",
              "      <td>2</td>\n",
              "      <td>0.080000</td>\n",
              "    </tr>\n",
              "    <tr>\n",
              "      <th>B</th>\n",
              "      <td>5014</td>\n",
              "      <td>354</td>\n",
              "      <td>0.070602</td>\n",
              "    </tr>\n",
              "    <tr>\n",
              "      <th>C</th>\n",
              "      <td>15921</td>\n",
              "      <td>1353</td>\n",
              "      <td>0.084982</td>\n",
              "    </tr>\n",
              "    <tr>\n",
              "      <th>D</th>\n",
              "      <td>349</td>\n",
              "      <td>21</td>\n",
              "      <td>0.060172</td>\n",
              "    </tr>\n",
              "    <tr>\n",
              "      <th>E</th>\n",
              "      <td>22</td>\n",
              "      <td>2</td>\n",
              "      <td>0.090909</td>\n",
              "    </tr>\n",
              "  </tbody>\n",
              "</table>\n",
              "</div>"
            ],
            "text/plain": [
              "                       count   sum      mean\n",
              "                        debt  debt      debt\n",
              "total_income_category                       \n",
              "A                         25     2  0.080000\n",
              "B                       5014   354  0.070602\n",
              "C                      15921  1353  0.084982\n",
              "D                        349    21  0.060172\n",
              "E                         22     2  0.090909"
            ]
          },
          "execution_count": 488,
          "metadata": {},
          "output_type": "execute_result"
        }
      ],
      "source": [
        "#выведем сводную таблицу по категориям дохода\n",
        "#посчитаем число заемщиков, сумму неплатильщиков и их долю от общего числа берущих кредит\n",
        "total_income_category_pivot = data.pivot_table(index=['total_income_category'], \\\n",
        "                                               values = 'debt', aggfunc = ['count','sum', 'mean']) \n",
        "total_income_category_pivot\n"
      ]
    },
    {
      "cell_type": "markdown",
      "id": "0a0c0754",
      "metadata": {
        "deletable": false,
        "id": "0a0c0754"
      },
      "source": [
        "**Вывод:** Таблица составлена по категорям в соответствии с заработком. Максимальное число заемщиков в секторе **C** с доходом от 50 001 до 200 000, но и число неплатильщиков и их доля среди общего количества велико. \n",
        "Самое маленькое значение доли не возвращающих вовремя кредит у людей с доходом **D** от 30 001 до 50 000, далее чуть больше значение доли неплатильщиков у категории **В** с доходом от 200 001 до 1000 000. \n",
        "Думаю, это наиболее интересная для банка группа людей **В**,тк.  Количество людей, берущих кредит велико - на втором месте по значению общего числа, но и маленькая доля неплатильщиков.\n",
        "Категория, имеющая самое большое количество, задерживающих платеж, это с доходом от 0 до 30 000 **Е**, но и количество берущих кредит мало, всго 22 человека. \n",
        "\n",
        "Отсюда сделаем вывод, что  **есть  зависимость между уровнем дохода и возвратом кредита в срок**, наиболее привлекательны категории с доходом **D** и **B**.\n",
        "\n",
        "p.s. Однако 2174 пропуска в данных столбца \"total_income\" ставят под сомнение полученный нами результат. Сводная таблица (или группировка) с данными о зависимости между уровнем дохода и возвратом кредита в срок возможно могла бы выглядеть иначе, если бы не пропущенные данные."
      ]
    },
    {
      "cell_type": "markdown",
      "id": "3a2bbfd5",
      "metadata": {
        "deletable": false,
        "editable": false,
        "id": "3a2bbfd5"
      },
      "source": [
        "#### 3.4 Как разные цели кредита влияют на его возврат в срок?"
      ]
    },
    {
      "cell_type": "code",
      "execution_count": null,
      "id": "b890e18e",
      "metadata": {
        "deletable": false,
        "id": "b890e18e",
        "outputId": "c08b6d90-6d9f-4a3f-bb4b-8504359a9c1d"
      },
      "outputs": [
        {
          "data": {
            "text/html": [
              "<div>\n",
              "<style scoped>\n",
              "    .dataframe tbody tr th:only-of-type {\n",
              "        vertical-align: middle;\n",
              "    }\n",
              "\n",
              "    .dataframe tbody tr th {\n",
              "        vertical-align: top;\n",
              "    }\n",
              "\n",
              "    .dataframe thead tr th {\n",
              "        text-align: left;\n",
              "    }\n",
              "\n",
              "    .dataframe thead tr:last-of-type th {\n",
              "        text-align: right;\n",
              "    }\n",
              "</style>\n",
              "<table border=\"1\" class=\"dataframe\">\n",
              "  <thead>\n",
              "    <tr>\n",
              "      <th></th>\n",
              "      <th>count</th>\n",
              "      <th>sum</th>\n",
              "      <th>mean</th>\n",
              "    </tr>\n",
              "    <tr>\n",
              "      <th></th>\n",
              "      <th>debt</th>\n",
              "      <th>debt</th>\n",
              "      <th>debt</th>\n",
              "    </tr>\n",
              "    <tr>\n",
              "      <th>purpose_category</th>\n",
              "      <th></th>\n",
              "      <th></th>\n",
              "      <th></th>\n",
              "    </tr>\n",
              "  </thead>\n",
              "  <tbody>\n",
              "    <tr>\n",
              "      <th>операции с автомобилем</th>\n",
              "      <td>4279</td>\n",
              "      <td>400</td>\n",
              "      <td>0.093480</td>\n",
              "    </tr>\n",
              "    <tr>\n",
              "      <th>операции с недвижимостью</th>\n",
              "      <td>10751</td>\n",
              "      <td>780</td>\n",
              "      <td>0.072551</td>\n",
              "    </tr>\n",
              "    <tr>\n",
              "      <th>получение образования</th>\n",
              "      <td>3988</td>\n",
              "      <td>369</td>\n",
              "      <td>0.092528</td>\n",
              "    </tr>\n",
              "    <tr>\n",
              "      <th>проведение свадьбы</th>\n",
              "      <td>2313</td>\n",
              "      <td>183</td>\n",
              "      <td>0.079118</td>\n",
              "    </tr>\n",
              "  </tbody>\n",
              "</table>\n",
              "</div>"
            ],
            "text/plain": [
              "                          count  sum      mean\n",
              "                           debt debt      debt\n",
              "purpose_category                              \n",
              "операции с автомобилем     4279  400  0.093480\n",
              "операции с недвижимостью  10751  780  0.072551\n",
              "получение образования      3988  369  0.092528\n",
              "проведение свадьбы         2313  183  0.079118"
            ]
          },
          "execution_count": 489,
          "metadata": {},
          "output_type": "execute_result"
        }
      ],
      "source": [
        "#выведем сводную таблицу по целям кредита\n",
        "#посчитаем число заемщиков, сумму неплатильщиков и их долю от общего числа берущих кредит\n",
        "purpose_category_pivot = data.pivot_table(index=['purpose_category'], values = 'debt', aggfunc = ['count','sum','mean'])\n",
        "purpose_category_pivot"
      ]
    },
    {
      "cell_type": "markdown",
      "id": "44809bcf",
      "metadata": {
        "deletable": false,
        "id": "44809bcf"
      },
      "source": [
        "**Вывод:** Перед нами сводная таблица с количеством людей, имеющие разные цели кредита,  и доли неплатильщиков. Видно, что наибольшее число людей берут кредит на **операции с недвижимостью**, среди них имеются и неплатильщики, доля которых наименьшая, по сравнению с остальными. \n",
        "Далее по общему числу взявших кредит идут цели **операции с автомобилем и получение образования**, среди которых доля невозвращающих  вовремя заем самая наибольшая.\n",
        "На **проведение свадьбы** берет самое маленькое количество людей, доля вносивших платеж невовремя  имеет среднее значение среди всех остальных. \n",
        "Отсюда можем сделать вывод, что **имеется зависимость разных целей кредита и возвратом его в срок.**"
      ]
    },
    {
      "cell_type": "markdown",
      "id": "c0a4181f",
      "metadata": {
        "deletable": false,
        "editable": false,
        "id": "c0a4181f"
      },
      "source": [
        "#### 3.5 Приведите возможные причины появления пропусков в исходных данных."
      ]
    },
    {
      "cell_type": "code",
      "execution_count": null,
      "id": "1e1809a7",
      "metadata": {
        "id": "1e1809a7",
        "outputId": "bab3d312-c777-41e4-82eb-682485bdfa52"
      },
      "outputs": [
        {
          "data": {
            "text/html": [
              "<div>\n",
              "<style scoped>\n",
              "    .dataframe tbody tr th:only-of-type {\n",
              "        vertical-align: middle;\n",
              "    }\n",
              "\n",
              "    .dataframe tbody tr th {\n",
              "        vertical-align: top;\n",
              "    }\n",
              "\n",
              "    .dataframe thead th {\n",
              "        text-align: right;\n",
              "    }\n",
              "</style>\n",
              "<table border=\"1\" class=\"dataframe\">\n",
              "  <thead>\n",
              "    <tr style=\"text-align: right;\">\n",
              "      <th></th>\n",
              "      <th>children</th>\n",
              "      <th>days_employed</th>\n",
              "      <th>dob_years</th>\n",
              "      <th>education</th>\n",
              "      <th>education_id</th>\n",
              "      <th>family_status</th>\n",
              "      <th>family_status_id</th>\n",
              "      <th>gender</th>\n",
              "      <th>income_type</th>\n",
              "      <th>debt</th>\n",
              "      <th>total_income</th>\n",
              "      <th>purpose</th>\n",
              "    </tr>\n",
              "  </thead>\n",
              "  <tbody>\n",
              "    <tr>\n",
              "      <th>12</th>\n",
              "      <td>0</td>\n",
              "      <td>NaN</td>\n",
              "      <td>65</td>\n",
              "      <td>среднее</td>\n",
              "      <td>1</td>\n",
              "      <td>гражданский брак</td>\n",
              "      <td>1</td>\n",
              "      <td>M</td>\n",
              "      <td>пенсионер</td>\n",
              "      <td>0</td>\n",
              "      <td>NaN</td>\n",
              "      <td>сыграть свадьбу</td>\n",
              "    </tr>\n",
              "    <tr>\n",
              "      <th>26</th>\n",
              "      <td>0</td>\n",
              "      <td>NaN</td>\n",
              "      <td>41</td>\n",
              "      <td>среднее</td>\n",
              "      <td>1</td>\n",
              "      <td>женат / замужем</td>\n",
              "      <td>0</td>\n",
              "      <td>M</td>\n",
              "      <td>госслужащий</td>\n",
              "      <td>0</td>\n",
              "      <td>NaN</td>\n",
              "      <td>образование</td>\n",
              "    </tr>\n",
              "    <tr>\n",
              "      <th>29</th>\n",
              "      <td>0</td>\n",
              "      <td>NaN</td>\n",
              "      <td>63</td>\n",
              "      <td>среднее</td>\n",
              "      <td>1</td>\n",
              "      <td>Не женат / не замужем</td>\n",
              "      <td>4</td>\n",
              "      <td>F</td>\n",
              "      <td>пенсионер</td>\n",
              "      <td>0</td>\n",
              "      <td>NaN</td>\n",
              "      <td>строительство жилой недвижимости</td>\n",
              "    </tr>\n",
              "    <tr>\n",
              "      <th>41</th>\n",
              "      <td>0</td>\n",
              "      <td>NaN</td>\n",
              "      <td>50</td>\n",
              "      <td>среднее</td>\n",
              "      <td>1</td>\n",
              "      <td>женат / замужем</td>\n",
              "      <td>0</td>\n",
              "      <td>F</td>\n",
              "      <td>госслужащий</td>\n",
              "      <td>0</td>\n",
              "      <td>NaN</td>\n",
              "      <td>сделка с подержанным автомобилем</td>\n",
              "    </tr>\n",
              "    <tr>\n",
              "      <th>55</th>\n",
              "      <td>0</td>\n",
              "      <td>NaN</td>\n",
              "      <td>54</td>\n",
              "      <td>среднее</td>\n",
              "      <td>1</td>\n",
              "      <td>гражданский брак</td>\n",
              "      <td>1</td>\n",
              "      <td>F</td>\n",
              "      <td>пенсионер</td>\n",
              "      <td>1</td>\n",
              "      <td>NaN</td>\n",
              "      <td>сыграть свадьбу</td>\n",
              "    </tr>\n",
              "    <tr>\n",
              "      <th>...</th>\n",
              "      <td>...</td>\n",
              "      <td>...</td>\n",
              "      <td>...</td>\n",
              "      <td>...</td>\n",
              "      <td>...</td>\n",
              "      <td>...</td>\n",
              "      <td>...</td>\n",
              "      <td>...</td>\n",
              "      <td>...</td>\n",
              "      <td>...</td>\n",
              "      <td>...</td>\n",
              "      <td>...</td>\n",
              "    </tr>\n",
              "    <tr>\n",
              "      <th>21489</th>\n",
              "      <td>2</td>\n",
              "      <td>NaN</td>\n",
              "      <td>47</td>\n",
              "      <td>Среднее</td>\n",
              "      <td>1</td>\n",
              "      <td>женат / замужем</td>\n",
              "      <td>0</td>\n",
              "      <td>M</td>\n",
              "      <td>компаньон</td>\n",
              "      <td>0</td>\n",
              "      <td>NaN</td>\n",
              "      <td>сделка с автомобилем</td>\n",
              "    </tr>\n",
              "    <tr>\n",
              "      <th>21495</th>\n",
              "      <td>1</td>\n",
              "      <td>NaN</td>\n",
              "      <td>50</td>\n",
              "      <td>среднее</td>\n",
              "      <td>1</td>\n",
              "      <td>гражданский брак</td>\n",
              "      <td>1</td>\n",
              "      <td>F</td>\n",
              "      <td>сотрудник</td>\n",
              "      <td>0</td>\n",
              "      <td>NaN</td>\n",
              "      <td>свадьба</td>\n",
              "    </tr>\n",
              "    <tr>\n",
              "      <th>21497</th>\n",
              "      <td>0</td>\n",
              "      <td>NaN</td>\n",
              "      <td>48</td>\n",
              "      <td>ВЫСШЕЕ</td>\n",
              "      <td>0</td>\n",
              "      <td>женат / замужем</td>\n",
              "      <td>0</td>\n",
              "      <td>F</td>\n",
              "      <td>компаньон</td>\n",
              "      <td>0</td>\n",
              "      <td>NaN</td>\n",
              "      <td>строительство недвижимости</td>\n",
              "    </tr>\n",
              "    <tr>\n",
              "      <th>21502</th>\n",
              "      <td>1</td>\n",
              "      <td>NaN</td>\n",
              "      <td>42</td>\n",
              "      <td>среднее</td>\n",
              "      <td>1</td>\n",
              "      <td>женат / замужем</td>\n",
              "      <td>0</td>\n",
              "      <td>F</td>\n",
              "      <td>сотрудник</td>\n",
              "      <td>0</td>\n",
              "      <td>NaN</td>\n",
              "      <td>строительство жилой недвижимости</td>\n",
              "    </tr>\n",
              "    <tr>\n",
              "      <th>21510</th>\n",
              "      <td>2</td>\n",
              "      <td>NaN</td>\n",
              "      <td>28</td>\n",
              "      <td>среднее</td>\n",
              "      <td>1</td>\n",
              "      <td>женат / замужем</td>\n",
              "      <td>0</td>\n",
              "      <td>F</td>\n",
              "      <td>сотрудник</td>\n",
              "      <td>0</td>\n",
              "      <td>NaN</td>\n",
              "      <td>приобретение автомобиля</td>\n",
              "    </tr>\n",
              "  </tbody>\n",
              "</table>\n",
              "<p>2174 rows × 12 columns</p>\n",
              "</div>"
            ],
            "text/plain": [
              "       children  days_employed  dob_years education  education_id  \\\n",
              "12            0            NaN         65   среднее             1   \n",
              "26            0            NaN         41   среднее             1   \n",
              "29            0            NaN         63   среднее             1   \n",
              "41            0            NaN         50   среднее             1   \n",
              "55            0            NaN         54   среднее             1   \n",
              "...         ...            ...        ...       ...           ...   \n",
              "21489         2            NaN         47   Среднее             1   \n",
              "21495         1            NaN         50   среднее             1   \n",
              "21497         0            NaN         48    ВЫСШЕЕ             0   \n",
              "21502         1            NaN         42   среднее             1   \n",
              "21510         2            NaN         28   среднее             1   \n",
              "\n",
              "               family_status  family_status_id gender  income_type  debt  \\\n",
              "12          гражданский брак                 1      M    пенсионер     0   \n",
              "26           женат / замужем                 0      M  госслужащий     0   \n",
              "29     Не женат / не замужем                 4      F    пенсионер     0   \n",
              "41           женат / замужем                 0      F  госслужащий     0   \n",
              "55          гражданский брак                 1      F    пенсионер     1   \n",
              "...                      ...               ...    ...          ...   ...   \n",
              "21489        женат / замужем                 0      M    компаньон     0   \n",
              "21495       гражданский брак                 1      F    сотрудник     0   \n",
              "21497        женат / замужем                 0      F    компаньон     0   \n",
              "21502        женат / замужем                 0      F    сотрудник     0   \n",
              "21510        женат / замужем                 0      F    сотрудник     0   \n",
              "\n",
              "       total_income                           purpose  \n",
              "12              NaN                   сыграть свадьбу  \n",
              "26              NaN                       образование  \n",
              "29              NaN  строительство жилой недвижимости  \n",
              "41              NaN  сделка с подержанным автомобилем  \n",
              "55              NaN                   сыграть свадьбу  \n",
              "...             ...                               ...  \n",
              "21489           NaN              сделка с автомобилем  \n",
              "21495           NaN                           свадьба  \n",
              "21497           NaN        строительство недвижимости  \n",
              "21502           NaN  строительство жилой недвижимости  \n",
              "21510           NaN           приобретение автомобиля  \n",
              "\n",
              "[2174 rows x 12 columns]"
            ]
          },
          "execution_count": 490,
          "metadata": {},
          "output_type": "execute_result"
        }
      ],
      "source": [
        "#выше была создана таблица, в столбцах days_employed, total_income которой отсутствуют значения. \n",
        "data_nan"
      ]
    },
    {
      "cell_type": "code",
      "execution_count": null,
      "id": "2fb2ee3a",
      "metadata": {
        "id": "2fb2ee3a",
        "outputId": "3e545baf-f5b9-439f-e4ee-bbd2043a528b"
      },
      "outputs": [
        {
          "data": {
            "text/plain": [
              "сотрудник          1105\n",
              "компаньон           508\n",
              "пенсионер           413\n",
              "госслужащий         147\n",
              "предприниматель       1\n",
              "Name: income_type, dtype: int64"
            ]
          },
          "execution_count": 491,
          "metadata": {},
          "output_type": "execute_result"
        }
      ],
      "source": [
        "#посчитаем частоту уникальных значений в столбце 'income_type'\n",
        "data_nan['income_type'].value_counts()"
      ]
    },
    {
      "cell_type": "code",
      "execution_count": null,
      "id": "b85f36ce",
      "metadata": {
        "id": "b85f36ce",
        "outputId": "bfee5d47-3b34-43c8-a3e2-e5b809c6a0d4"
      },
      "outputs": [
        {
          "data": {
            "text/plain": [
              "0    2004\n",
              "1     170\n",
              "Name: debt, dtype: int64"
            ]
          },
          "execution_count": 492,
          "metadata": {},
          "output_type": "execute_result"
        }
      ],
      "source": [
        "#посчитаем число выплачивающих вовремя и должников в столбце 'debt'\n",
        "data_nan['debt'].value_counts()"
      ]
    },
    {
      "cell_type": "code",
      "execution_count": null,
      "id": "2917c8e9",
      "metadata": {
        "id": "2917c8e9",
        "outputId": "325b92f0-e52e-4541-e7c9-d6d5a479d533"
      },
      "outputs": [
        {
          "data": {
            "text/plain": [
              "операции с недвижимостью    1082\n",
              "получение образования        425\n",
              "операции с автомобилем       418\n",
              "проведение свадьбы           249\n",
              "Name: purpose_category, dtype: int64"
            ]
          },
          "execution_count": 493,
          "metadata": {},
          "output_type": "execute_result"
        }
      ],
      "source": [
        "#приведем цели кредита к единым значениям\n",
        "data_nan['purpose_category'] = data_nan['purpose'].apply(categorize_purpose)\n",
        "data_nan['purpose_category'].value_counts()"
      ]
    },
    {
      "cell_type": "markdown",
      "id": "d26eba90",
      "metadata": {
        "id": "d26eba90"
      },
      "source": [
        "Была создана таблица, в столбцах days_employed, total_income которой отсутствуют значения. Посчитала частоту уникальных значений в столбце 'income_type'. Видно, что встречаются разные типы занятости. Из них Сотрудник встречается чаще всего.\n",
        "\n",
        "Посчитаем число выплачивающих вовремя и должников в столбце 'debt'. Большое всего выплачивающих вовремя, но и должники имеются.\n",
        "\n",
        "Цели кредита также разные у клиентов с пропусками, максимальное количество у берущих кредит на операции с недвижимостью. При осмотре таблице также видны разные значения и в других столбцах.\n",
        "\n",
        "Возможно, пропуски имеют клиенты, которые имеют карточки, обслуживающиеся именно этим банком, например, зарплатные, либо берущие кредит - это работники или партнеры этого банка, либо они предоставляют некий залог в качестве гарантий выплаты кредита банку, информации о которых нам неизвестна. \n",
        "\n",
        "В наших данных пропуски в столбцах \"трудовой стаж\" и \"ежемесячный доход\" абсолютно идентичны. Количество строк с отсутствующими данными в обоих указанных столбцах совпадает и равно 2174. Маловероятно, что специалисты по выдаче кредитов, заполнив все без исключения ячейки других столбцов по каждому кредитополучателю, оставляли незаполненными именно два показателя, и сделали это ровно 2174 раза в каждом столбце. \n",
        "\n",
        "Даже не проводя проверку, во всех ли случаях незаполненные ячейки находятся в одной и то же строке с высокой долей вероятности можно утверждать, что произошла техническая ошибка при формировании таблицы с исходными данными (либо некий сбой во время выгрузки данных на анализ, либо при объединении данных в единый файл, который также должен был передаваться на анализ, либо эти данные не собирались)."
      ]
    },
    {
      "cell_type": "markdown",
      "id": "691dfa57",
      "metadata": {
        "deletable": false,
        "editable": false,
        "id": "691dfa57"
      },
      "source": [
        "#### 3.6 Объясните, почему заполнить пропуски медианным значением — лучшее решение для количественных переменных."
      ]
    },
    {
      "cell_type": "markdown",
      "id": "68e88a86",
      "metadata": {
        "deletable": false,
        "id": "68e88a86"
      },
      "source": [
        "*Ответ:* Медианое значение делит выборку значений пополам. На среднее арифметическое же очень сильно влияют очень большие или очень маленькие значения в наборе данных, выбросы. Соответственно, по итогу будет либо завышенное значение, либо заниженное. Медиана лишена влияния таких выбросов."
      ]
    },
    {
      "cell_type": "markdown",
      "id": "f267cf9f",
      "metadata": {
        "deletable": false,
        "editable": false,
        "id": "f267cf9f"
      },
      "source": [
        "### Шаг 4: общий вывод."
      ]
    },
    {
      "cell_type": "markdown",
      "id": "010f83d7",
      "metadata": {
        "deletable": false,
        "id": "010f83d7"
      },
      "source": [
        " Из полученных данных можно сделать вывод, что **есть зависимость между количеством детей и выплат кредита в срок.** Наибольшая категория людей берущая кредит не имеет детей, и среди нее же наименьшая доля заемщиков, вовремя не выплачивающих платежи. Далее с увеличением количества детей уменьшается число берущих кредиты , а вот доля неплатильщиков приблизительно одинакова высока среди тех, кто имеет детей. \n",
        "\n",
        "Также  **зависимость между семейным положением и возвратом кредита в срок есть.** Во-первых, и число берущих кредит больше у людей с семейным положением **женат\\замужем**, а доля задолжников одна из самых маленьких. Те, кто в **гражданском браке или не замужем\\не женаты**, иемют наибольшее число должников. **В разводе и вдовы\\вдовцы** берут кредит меньше раз, но и должников среди них самое маленькое количество.\n",
        "\n",
        "Рассмотрены также заемщики по уровню дохода. Отмеченно, что наибольшее число берущих кредит среди категории людей **С** с уровнем дохода от 50 001 до 200 000, но и доля должников высока. Вторая категоря по общему  количеству заемщиков это **В** с уровнем дохода от 200 001 до 1000 000, среди них доля неплатильщиков одна из наименьших. С самой маленькой долей должников категория **D** с доходом от 30 001 до 50 000, но и общее количество берущих кредит мало. Категория **А** и **Е** имеет наименьшее количество людей с кредитом и высокие доли неплатильщиков. Соответственно, **есть зависимость между уровнем дохода и возвратом кредита в срок.** \n",
        "\n",
        "**Разные цели кредита также влияют на его возврат в срок**. Так наименьшая доля неплательщиков наблюдается среди людей взявших кредит **на операции с недвижимостью**, также и общее число берущих для этой цели самое большое. \n",
        "\n",
        "Чуть больше доля среди неплатильщиков с целью кредита **проведение свадьбы**, но общая доля заемщиков самая маленькая. Остальные категории целей кредита: **получение образования и операции с автомобилем** имеют приблизительно одинаковое количество заемщиков и одинаково высокую долю\tнеплатильщиков."
      ]
    },
    {
      "cell_type": "code",
      "execution_count": null,
      "id": "d93e7059",
      "metadata": {
        "id": "d93e7059"
      },
      "outputs": [],
      "source": []
    }
  ],
  "metadata": {
    "ExecuteTimeLog": [
      {
        "duration": 94,
        "start_time": "2022-10-26T16:42:35.465Z"
      },
      {
        "duration": 66,
        "start_time": "2022-10-26T16:47:32.723Z"
      },
      {
        "duration": 523,
        "start_time": "2022-10-26T16:47:39.297Z"
      },
      {
        "duration": 27,
        "start_time": "2022-10-26T16:47:39.822Z"
      },
      {
        "duration": 37,
        "start_time": "2022-10-26T16:47:39.851Z"
      },
      {
        "duration": 18,
        "start_time": "2022-10-26T16:47:39.893Z"
      },
      {
        "duration": 39,
        "start_time": "2022-10-26T16:47:39.913Z"
      },
      {
        "duration": 3,
        "start_time": "2022-10-26T16:47:39.954Z"
      },
      {
        "duration": 29,
        "start_time": "2022-10-26T16:47:39.959Z"
      },
      {
        "duration": 18,
        "start_time": "2022-10-26T16:47:39.991Z"
      },
      {
        "duration": 13,
        "start_time": "2022-10-26T16:47:40.011Z"
      },
      {
        "duration": 9,
        "start_time": "2022-10-26T16:47:40.027Z"
      },
      {
        "duration": 38,
        "start_time": "2022-10-26T16:47:40.038Z"
      },
      {
        "duration": 13,
        "start_time": "2022-10-26T16:47:40.084Z"
      },
      {
        "duration": 15,
        "start_time": "2022-10-26T16:47:40.099Z"
      },
      {
        "duration": 17,
        "start_time": "2022-10-26T16:47:40.115Z"
      },
      {
        "duration": 24,
        "start_time": "2022-10-26T16:47:40.134Z"
      },
      {
        "duration": 25,
        "start_time": "2022-10-26T16:47:40.159Z"
      },
      {
        "duration": 9,
        "start_time": "2022-10-26T16:47:40.192Z"
      },
      {
        "duration": 14,
        "start_time": "2022-10-26T16:47:40.203Z"
      },
      {
        "duration": 10,
        "start_time": "2022-10-26T16:47:40.219Z"
      },
      {
        "duration": 4,
        "start_time": "2022-10-26T16:47:40.232Z"
      },
      {
        "duration": 21,
        "start_time": "2022-10-26T16:47:40.237Z"
      },
      {
        "duration": 48,
        "start_time": "2022-10-26T16:47:40.260Z"
      },
      {
        "duration": 3,
        "start_time": "2022-10-26T16:47:40.310Z"
      },
      {
        "duration": 6,
        "start_time": "2022-10-26T16:47:40.315Z"
      },
      {
        "duration": 8,
        "start_time": "2022-10-26T16:47:40.323Z"
      },
      {
        "duration": 38,
        "start_time": "2022-10-26T17:01:15.216Z"
      },
      {
        "duration": 41,
        "start_time": "2022-10-26T17:02:59.748Z"
      },
      {
        "duration": 43,
        "start_time": "2022-10-26T17:03:40.775Z"
      },
      {
        "duration": 31,
        "start_time": "2022-10-26T17:04:59.296Z"
      },
      {
        "duration": 76,
        "start_time": "2022-10-26T17:05:29.228Z"
      },
      {
        "duration": 68,
        "start_time": "2022-10-26T17:05:53.696Z"
      },
      {
        "duration": 37,
        "start_time": "2022-10-26T17:05:59.706Z"
      },
      {
        "duration": 32,
        "start_time": "2022-10-26T17:06:42.544Z"
      },
      {
        "duration": 64,
        "start_time": "2022-10-27T07:46:56.178Z"
      },
      {
        "duration": 670,
        "start_time": "2022-10-27T07:47:06.138Z"
      },
      {
        "duration": 32,
        "start_time": "2022-10-27T07:47:06.812Z"
      },
      {
        "duration": 21,
        "start_time": "2022-10-27T07:47:06.846Z"
      },
      {
        "duration": 11,
        "start_time": "2022-10-27T07:47:06.870Z"
      },
      {
        "duration": 53,
        "start_time": "2022-10-27T07:47:06.883Z"
      },
      {
        "duration": 7,
        "start_time": "2022-10-27T07:47:06.938Z"
      },
      {
        "duration": 19,
        "start_time": "2022-10-27T07:47:06.947Z"
      },
      {
        "duration": 7,
        "start_time": "2022-10-27T07:47:06.968Z"
      },
      {
        "duration": 28,
        "start_time": "2022-10-27T07:47:06.978Z"
      },
      {
        "duration": 11,
        "start_time": "2022-10-27T07:47:07.021Z"
      },
      {
        "duration": 41,
        "start_time": "2022-10-27T07:47:07.040Z"
      },
      {
        "duration": 13,
        "start_time": "2022-10-27T07:47:07.082Z"
      },
      {
        "duration": 16,
        "start_time": "2022-10-27T07:47:07.097Z"
      },
      {
        "duration": 22,
        "start_time": "2022-10-27T07:47:07.115Z"
      },
      {
        "duration": 19,
        "start_time": "2022-10-27T07:47:07.139Z"
      },
      {
        "duration": 17,
        "start_time": "2022-10-27T07:47:07.159Z"
      },
      {
        "duration": 3,
        "start_time": "2022-10-27T07:47:07.178Z"
      },
      {
        "duration": 29,
        "start_time": "2022-10-27T07:47:07.182Z"
      },
      {
        "duration": 22,
        "start_time": "2022-10-27T07:47:07.214Z"
      },
      {
        "duration": 5,
        "start_time": "2022-10-27T07:47:07.238Z"
      },
      {
        "duration": 13,
        "start_time": "2022-10-27T07:47:07.244Z"
      },
      {
        "duration": 28,
        "start_time": "2022-10-27T07:47:07.259Z"
      },
      {
        "duration": 52,
        "start_time": "2022-10-27T07:47:07.288Z"
      },
      {
        "duration": 34,
        "start_time": "2022-10-27T07:47:07.342Z"
      },
      {
        "duration": 58,
        "start_time": "2022-10-27T07:47:07.379Z"
      },
      {
        "duration": 25,
        "start_time": "2022-10-27T07:47:35.838Z"
      },
      {
        "duration": 28,
        "start_time": "2022-10-27T07:48:14.525Z"
      },
      {
        "duration": 65,
        "start_time": "2022-10-27T08:34:27.962Z"
      },
      {
        "duration": 31,
        "start_time": "2022-10-27T08:34:53.643Z"
      },
      {
        "duration": 34,
        "start_time": "2022-10-27T08:36:32.896Z"
      },
      {
        "duration": 40,
        "start_time": "2022-10-27T08:36:59.062Z"
      },
      {
        "duration": 47,
        "start_time": "2022-10-27T08:37:30.772Z"
      },
      {
        "duration": 33,
        "start_time": "2022-10-27T08:37:59.170Z"
      },
      {
        "duration": 30,
        "start_time": "2022-10-27T08:38:47.419Z"
      },
      {
        "duration": 31,
        "start_time": "2022-10-27T08:38:53.842Z"
      },
      {
        "duration": 35,
        "start_time": "2022-10-27T08:39:13.636Z"
      },
      {
        "duration": 44,
        "start_time": "2022-10-27T08:39:27.970Z"
      },
      {
        "duration": 31,
        "start_time": "2022-10-27T08:39:48.768Z"
      },
      {
        "duration": 497,
        "start_time": "2022-10-28T09:28:06.245Z"
      },
      {
        "duration": 28,
        "start_time": "2022-10-28T09:28:06.744Z"
      },
      {
        "duration": 17,
        "start_time": "2022-10-28T09:28:06.774Z"
      },
      {
        "duration": 11,
        "start_time": "2022-10-28T09:28:06.793Z"
      },
      {
        "duration": 62,
        "start_time": "2022-10-28T09:28:06.806Z"
      },
      {
        "duration": 4,
        "start_time": "2022-10-28T09:28:06.871Z"
      },
      {
        "duration": 19,
        "start_time": "2022-10-28T09:28:06.877Z"
      },
      {
        "duration": 29,
        "start_time": "2022-10-28T09:28:06.898Z"
      },
      {
        "duration": 12,
        "start_time": "2022-10-28T09:28:06.929Z"
      },
      {
        "duration": 5,
        "start_time": "2022-10-28T09:28:06.942Z"
      },
      {
        "duration": 36,
        "start_time": "2022-10-28T09:28:06.949Z"
      },
      {
        "duration": 11,
        "start_time": "2022-10-28T09:28:06.987Z"
      },
      {
        "duration": 4,
        "start_time": "2022-10-28T09:28:07.000Z"
      },
      {
        "duration": 18,
        "start_time": "2022-10-28T09:28:07.007Z"
      },
      {
        "duration": 39,
        "start_time": "2022-10-28T09:28:07.027Z"
      },
      {
        "duration": 19,
        "start_time": "2022-10-28T09:28:07.068Z"
      },
      {
        "duration": 5,
        "start_time": "2022-10-28T09:28:07.089Z"
      },
      {
        "duration": 17,
        "start_time": "2022-10-28T09:28:07.095Z"
      },
      {
        "duration": 16,
        "start_time": "2022-10-28T09:28:07.114Z"
      },
      {
        "duration": 22,
        "start_time": "2022-10-28T09:28:07.132Z"
      },
      {
        "duration": 13,
        "start_time": "2022-10-28T09:28:07.156Z"
      },
      {
        "duration": 39,
        "start_time": "2022-10-28T09:28:07.171Z"
      },
      {
        "duration": 61,
        "start_time": "2022-10-28T09:28:07.213Z"
      },
      {
        "duration": 37,
        "start_time": "2022-10-28T09:28:07.276Z"
      },
      {
        "duration": 51,
        "start_time": "2022-10-28T09:28:07.316Z"
      },
      {
        "duration": 46,
        "start_time": "2022-10-28T16:28:13.072Z"
      },
      {
        "duration": 1087,
        "start_time": "2022-10-28T16:28:18.673Z"
      },
      {
        "duration": 19,
        "start_time": "2022-10-28T16:28:19.762Z"
      },
      {
        "duration": 13,
        "start_time": "2022-10-28T16:28:19.783Z"
      },
      {
        "duration": 9,
        "start_time": "2022-10-28T16:28:19.797Z"
      },
      {
        "duration": 32,
        "start_time": "2022-10-28T16:28:19.807Z"
      },
      {
        "duration": 2,
        "start_time": "2022-10-28T16:28:19.841Z"
      },
      {
        "duration": 9,
        "start_time": "2022-10-28T16:28:19.845Z"
      },
      {
        "duration": 4,
        "start_time": "2022-10-28T16:28:19.855Z"
      },
      {
        "duration": 8,
        "start_time": "2022-10-28T16:28:19.860Z"
      },
      {
        "duration": 3,
        "start_time": "2022-10-28T16:28:19.871Z"
      },
      {
        "duration": 52,
        "start_time": "2022-10-28T16:28:19.875Z"
      },
      {
        "duration": 9,
        "start_time": "2022-10-28T16:28:19.928Z"
      },
      {
        "duration": 5,
        "start_time": "2022-10-28T16:28:19.938Z"
      },
      {
        "duration": 13,
        "start_time": "2022-10-28T16:28:19.944Z"
      },
      {
        "duration": 18,
        "start_time": "2022-10-28T16:28:19.958Z"
      },
      {
        "duration": 15,
        "start_time": "2022-10-28T16:28:19.977Z"
      },
      {
        "duration": 30,
        "start_time": "2022-10-28T16:28:19.994Z"
      },
      {
        "duration": 14,
        "start_time": "2022-10-28T16:28:20.025Z"
      },
      {
        "duration": 6,
        "start_time": "2022-10-28T16:28:20.040Z"
      },
      {
        "duration": 5,
        "start_time": "2022-10-28T16:28:20.047Z"
      },
      {
        "duration": 14,
        "start_time": "2022-10-28T16:28:20.053Z"
      },
      {
        "duration": 26,
        "start_time": "2022-10-28T16:28:20.069Z"
      },
      {
        "duration": 40,
        "start_time": "2022-10-28T16:28:20.097Z"
      },
      {
        "duration": 24,
        "start_time": "2022-10-28T16:28:20.138Z"
      },
      {
        "duration": 26,
        "start_time": "2022-10-28T16:28:20.163Z"
      },
      {
        "duration": 33,
        "start_time": "2022-10-28T16:40:13.846Z"
      },
      {
        "duration": 50,
        "start_time": "2022-10-28T16:44:50.962Z"
      },
      {
        "duration": 41,
        "start_time": "2022-10-28T16:45:53.763Z"
      },
      {
        "duration": 47,
        "start_time": "2022-10-28T16:46:50.764Z"
      },
      {
        "duration": 4,
        "start_time": "2022-10-28T16:52:38.647Z"
      },
      {
        "duration": 33,
        "start_time": "2022-10-28T16:57:48.249Z"
      },
      {
        "duration": 35,
        "start_time": "2022-10-28T17:46:08.862Z"
      },
      {
        "duration": 14,
        "start_time": "2022-10-28T17:46:27.498Z"
      },
      {
        "duration": 68,
        "start_time": "2022-10-28T17:46:46.812Z"
      },
      {
        "duration": 14,
        "start_time": "2022-10-28T17:46:46.882Z"
      },
      {
        "duration": 18,
        "start_time": "2022-10-28T17:46:46.897Z"
      },
      {
        "duration": 8,
        "start_time": "2022-10-28T17:46:46.917Z"
      },
      {
        "duration": 32,
        "start_time": "2022-10-28T17:46:46.927Z"
      },
      {
        "duration": 3,
        "start_time": "2022-10-28T17:46:46.961Z"
      },
      {
        "duration": 11,
        "start_time": "2022-10-28T17:46:46.967Z"
      },
      {
        "duration": 4,
        "start_time": "2022-10-28T17:46:46.980Z"
      },
      {
        "duration": 6,
        "start_time": "2022-10-28T17:46:46.986Z"
      },
      {
        "duration": 32,
        "start_time": "2022-10-28T17:46:46.994Z"
      },
      {
        "duration": 34,
        "start_time": "2022-10-28T17:46:47.028Z"
      },
      {
        "duration": 10,
        "start_time": "2022-10-28T17:46:47.065Z"
      },
      {
        "duration": 4,
        "start_time": "2022-10-28T17:46:47.216Z"
      },
      {
        "duration": 18,
        "start_time": "2022-10-28T17:46:47.221Z"
      },
      {
        "duration": 18,
        "start_time": "2022-10-28T17:46:47.241Z"
      },
      {
        "duration": 15,
        "start_time": "2022-10-28T17:46:47.261Z"
      },
      {
        "duration": 4,
        "start_time": "2022-10-28T17:46:47.278Z"
      },
      {
        "duration": 14,
        "start_time": "2022-10-28T17:46:47.283Z"
      },
      {
        "duration": 10,
        "start_time": "2022-10-28T17:46:47.298Z"
      },
      {
        "duration": 7,
        "start_time": "2022-10-28T17:46:47.309Z"
      },
      {
        "duration": 7,
        "start_time": "2022-10-28T17:46:47.322Z"
      },
      {
        "duration": 25,
        "start_time": "2022-10-28T17:46:47.348Z"
      },
      {
        "duration": 25,
        "start_time": "2022-10-28T17:46:47.374Z"
      },
      {
        "duration": 33,
        "start_time": "2022-10-28T17:46:47.401Z"
      },
      {
        "duration": 28,
        "start_time": "2022-10-28T17:46:47.435Z"
      },
      {
        "duration": 68,
        "start_time": "2022-10-28T17:47:32.501Z"
      },
      {
        "duration": 14,
        "start_time": "2022-10-28T17:47:32.571Z"
      },
      {
        "duration": 32,
        "start_time": "2022-10-28T17:47:32.586Z"
      },
      {
        "duration": 17,
        "start_time": "2022-10-28T17:47:32.620Z"
      },
      {
        "duration": 31,
        "start_time": "2022-10-28T17:47:32.638Z"
      },
      {
        "duration": 31,
        "start_time": "2022-10-28T17:47:32.671Z"
      },
      {
        "duration": 3,
        "start_time": "2022-10-28T17:47:32.704Z"
      },
      {
        "duration": 20,
        "start_time": "2022-10-28T17:47:32.708Z"
      },
      {
        "duration": 16,
        "start_time": "2022-10-28T17:47:32.730Z"
      },
      {
        "duration": 12,
        "start_time": "2022-10-28T17:47:32.747Z"
      },
      {
        "duration": 29,
        "start_time": "2022-10-28T17:47:32.760Z"
      },
      {
        "duration": 35,
        "start_time": "2022-10-28T17:47:32.791Z"
      },
      {
        "duration": 10,
        "start_time": "2022-10-28T17:47:32.828Z"
      },
      {
        "duration": 21,
        "start_time": "2022-10-28T17:47:32.839Z"
      },
      {
        "duration": 18,
        "start_time": "2022-10-28T17:47:32.862Z"
      },
      {
        "duration": 28,
        "start_time": "2022-10-28T17:47:32.883Z"
      },
      {
        "duration": 24,
        "start_time": "2022-10-28T17:47:32.913Z"
      },
      {
        "duration": 23,
        "start_time": "2022-10-28T17:47:32.939Z"
      },
      {
        "duration": 25,
        "start_time": "2022-10-28T17:47:32.964Z"
      },
      {
        "duration": 11,
        "start_time": "2022-10-28T17:47:32.991Z"
      },
      {
        "duration": 13,
        "start_time": "2022-10-28T17:47:33.004Z"
      },
      {
        "duration": 27,
        "start_time": "2022-10-28T17:47:33.019Z"
      },
      {
        "duration": 33,
        "start_time": "2022-10-28T17:47:33.048Z"
      },
      {
        "duration": 38,
        "start_time": "2022-10-28T17:47:33.083Z"
      },
      {
        "duration": 34,
        "start_time": "2022-10-28T17:47:33.123Z"
      },
      {
        "duration": 26,
        "start_time": "2022-10-28T17:47:33.158Z"
      },
      {
        "duration": 6,
        "start_time": "2022-10-28T18:08:29.849Z"
      },
      {
        "duration": 7,
        "start_time": "2022-10-28T18:09:24.817Z"
      },
      {
        "duration": 4,
        "start_time": "2022-10-28T18:11:55.832Z"
      },
      {
        "duration": 54,
        "start_time": "2022-10-28T18:18:02.975Z"
      },
      {
        "duration": 54,
        "start_time": "2022-10-28T18:23:44.251Z"
      },
      {
        "duration": 44,
        "start_time": "2022-10-28T18:24:00.984Z"
      },
      {
        "duration": 59,
        "start_time": "2022-10-28T18:24:13.583Z"
      },
      {
        "duration": 45,
        "start_time": "2022-10-28T18:24:38.591Z"
      },
      {
        "duration": 42,
        "start_time": "2022-10-28T18:25:18.334Z"
      },
      {
        "duration": 41,
        "start_time": "2022-10-28T18:25:25.162Z"
      },
      {
        "duration": 40,
        "start_time": "2022-10-28T18:25:45.896Z"
      },
      {
        "duration": 66,
        "start_time": "2022-10-28T18:26:11.063Z"
      },
      {
        "duration": 45,
        "start_time": "2022-10-28T18:26:36.460Z"
      },
      {
        "duration": 44,
        "start_time": "2022-10-29T08:57:34.337Z"
      },
      {
        "duration": 912,
        "start_time": "2022-10-29T08:57:37.938Z"
      },
      {
        "duration": 31,
        "start_time": "2022-10-29T08:57:38.860Z"
      },
      {
        "duration": 22,
        "start_time": "2022-10-29T08:57:38.893Z"
      },
      {
        "duration": 15,
        "start_time": "2022-10-29T08:57:38.918Z"
      },
      {
        "duration": 52,
        "start_time": "2022-10-29T08:57:38.934Z"
      },
      {
        "duration": 53,
        "start_time": "2022-10-29T08:57:38.989Z"
      },
      {
        "duration": 4,
        "start_time": "2022-10-29T08:57:39.044Z"
      },
      {
        "duration": 30,
        "start_time": "2022-10-29T08:57:39.051Z"
      },
      {
        "duration": 7,
        "start_time": "2022-10-29T08:57:39.083Z"
      },
      {
        "duration": 19,
        "start_time": "2022-10-29T08:57:39.093Z"
      },
      {
        "duration": 44,
        "start_time": "2022-10-29T08:57:39.114Z"
      },
      {
        "duration": 73,
        "start_time": "2022-10-29T08:57:39.161Z"
      },
      {
        "duration": 17,
        "start_time": "2022-10-29T08:57:39.240Z"
      },
      {
        "duration": 7,
        "start_time": "2022-10-29T08:57:39.259Z"
      },
      {
        "duration": 15,
        "start_time": "2022-10-29T08:57:39.271Z"
      },
      {
        "duration": 44,
        "start_time": "2022-10-29T08:57:39.289Z"
      },
      {
        "duration": 35,
        "start_time": "2022-10-29T08:57:39.341Z"
      },
      {
        "duration": 3,
        "start_time": "2022-10-29T08:57:39.378Z"
      },
      {
        "duration": 11,
        "start_time": "2022-10-29T08:57:39.383Z"
      },
      {
        "duration": 8,
        "start_time": "2022-10-29T08:57:39.396Z"
      },
      {
        "duration": 3,
        "start_time": "2022-10-29T08:57:39.406Z"
      },
      {
        "duration": 15,
        "start_time": "2022-10-29T08:57:39.410Z"
      },
      {
        "duration": 38,
        "start_time": "2022-10-29T08:57:39.431Z"
      },
      {
        "duration": 39,
        "start_time": "2022-10-29T08:57:39.470Z"
      },
      {
        "duration": 39,
        "start_time": "2022-10-29T08:57:39.511Z"
      },
      {
        "duration": 31,
        "start_time": "2022-10-29T08:57:39.552Z"
      },
      {
        "duration": 4,
        "start_time": "2022-10-29T09:02:37.601Z"
      },
      {
        "duration": 3,
        "start_time": "2022-10-29T09:04:29.422Z"
      },
      {
        "duration": 61,
        "start_time": "2022-10-29T09:05:08.496Z"
      },
      {
        "duration": 71,
        "start_time": "2022-10-29T09:05:26.167Z"
      },
      {
        "duration": 42,
        "start_time": "2022-10-29T09:05:36.639Z"
      },
      {
        "duration": 6,
        "start_time": "2022-10-29T09:07:39.748Z"
      },
      {
        "duration": 39,
        "start_time": "2022-10-29T09:08:50.075Z"
      },
      {
        "duration": 8,
        "start_time": "2022-10-29T09:09:10.603Z"
      },
      {
        "duration": 8,
        "start_time": "2022-10-29T09:09:37.702Z"
      },
      {
        "duration": 7,
        "start_time": "2022-10-29T09:10:41.365Z"
      },
      {
        "duration": 7,
        "start_time": "2022-10-29T09:10:48.353Z"
      },
      {
        "duration": 9,
        "start_time": "2022-10-29T09:11:09.948Z"
      },
      {
        "duration": 4,
        "start_time": "2022-10-29T09:13:03.103Z"
      },
      {
        "duration": 5,
        "start_time": "2022-10-29T09:13:13.033Z"
      },
      {
        "duration": 5,
        "start_time": "2022-10-29T09:13:41.189Z"
      },
      {
        "duration": 11,
        "start_time": "2022-10-29T09:14:25.246Z"
      },
      {
        "duration": 74,
        "start_time": "2022-10-29T09:15:03.691Z"
      },
      {
        "duration": 14,
        "start_time": "2022-10-29T09:15:03.768Z"
      },
      {
        "duration": 18,
        "start_time": "2022-10-29T09:15:03.784Z"
      },
      {
        "duration": 30,
        "start_time": "2022-10-29T09:15:03.805Z"
      },
      {
        "duration": 18,
        "start_time": "2022-10-29T09:15:03.836Z"
      },
      {
        "duration": 32,
        "start_time": "2022-10-29T09:15:03.856Z"
      },
      {
        "duration": 3,
        "start_time": "2022-10-29T09:15:03.890Z"
      },
      {
        "duration": 31,
        "start_time": "2022-10-29T09:15:03.895Z"
      },
      {
        "duration": 11,
        "start_time": "2022-10-29T09:15:03.929Z"
      },
      {
        "duration": 11,
        "start_time": "2022-10-29T09:15:03.941Z"
      },
      {
        "duration": 8,
        "start_time": "2022-10-29T09:15:03.953Z"
      },
      {
        "duration": 32,
        "start_time": "2022-10-29T09:15:03.963Z"
      },
      {
        "duration": 34,
        "start_time": "2022-10-29T09:15:03.997Z"
      },
      {
        "duration": 12,
        "start_time": "2022-10-29T09:15:04.034Z"
      },
      {
        "duration": 16,
        "start_time": "2022-10-29T09:15:04.048Z"
      },
      {
        "duration": 21,
        "start_time": "2022-10-29T09:15:04.066Z"
      },
      {
        "duration": 16,
        "start_time": "2022-10-29T09:15:04.088Z"
      },
      {
        "duration": 3,
        "start_time": "2022-10-29T09:15:04.106Z"
      },
      {
        "duration": 27,
        "start_time": "2022-10-29T09:15:04.111Z"
      },
      {
        "duration": 9,
        "start_time": "2022-10-29T09:15:04.139Z"
      },
      {
        "duration": 8,
        "start_time": "2022-10-29T09:15:04.149Z"
      },
      {
        "duration": 29,
        "start_time": "2022-10-29T09:15:04.159Z"
      },
      {
        "duration": 31,
        "start_time": "2022-10-29T09:15:04.189Z"
      },
      {
        "duration": 35,
        "start_time": "2022-10-29T09:15:04.224Z"
      },
      {
        "duration": 27,
        "start_time": "2022-10-29T09:15:04.261Z"
      },
      {
        "duration": 45,
        "start_time": "2022-10-29T09:15:04.290Z"
      },
      {
        "duration": 839,
        "start_time": "2022-10-29T09:21:33.418Z"
      },
      {
        "duration": 0,
        "start_time": "2022-10-29T09:25:08.165Z"
      },
      {
        "duration": 0,
        "start_time": "2022-10-29T09:31:27.968Z"
      },
      {
        "duration": 0,
        "start_time": "2022-10-29T09:31:27.969Z"
      },
      {
        "duration": 0,
        "start_time": "2022-10-29T09:31:27.970Z"
      },
      {
        "duration": 0,
        "start_time": "2022-10-29T09:31:27.971Z"
      },
      {
        "duration": 0,
        "start_time": "2022-10-29T09:31:27.973Z"
      },
      {
        "duration": 0,
        "start_time": "2022-10-29T09:31:27.974Z"
      },
      {
        "duration": 0,
        "start_time": "2022-10-29T09:31:27.975Z"
      },
      {
        "duration": 0,
        "start_time": "2022-10-29T09:31:27.976Z"
      },
      {
        "duration": 0,
        "start_time": "2022-10-29T09:31:27.977Z"
      },
      {
        "duration": 0,
        "start_time": "2022-10-29T09:31:27.978Z"
      },
      {
        "duration": 0,
        "start_time": "2022-10-29T09:31:27.979Z"
      },
      {
        "duration": 0,
        "start_time": "2022-10-29T09:31:27.980Z"
      },
      {
        "duration": 0,
        "start_time": "2022-10-29T09:31:27.981Z"
      },
      {
        "duration": 0,
        "start_time": "2022-10-29T09:31:27.982Z"
      },
      {
        "duration": 0,
        "start_time": "2022-10-29T09:31:27.983Z"
      },
      {
        "duration": 0,
        "start_time": "2022-10-29T09:31:27.984Z"
      },
      {
        "duration": 0,
        "start_time": "2022-10-29T09:31:27.985Z"
      },
      {
        "duration": 0,
        "start_time": "2022-10-29T09:31:27.986Z"
      },
      {
        "duration": 0,
        "start_time": "2022-10-29T09:31:27.987Z"
      },
      {
        "duration": 0,
        "start_time": "2022-10-29T09:31:27.988Z"
      },
      {
        "duration": 0,
        "start_time": "2022-10-29T09:31:27.989Z"
      },
      {
        "duration": 0,
        "start_time": "2022-10-29T09:31:27.990Z"
      },
      {
        "duration": 0,
        "start_time": "2022-10-29T09:31:27.990Z"
      },
      {
        "duration": 0,
        "start_time": "2022-10-29T09:31:27.992Z"
      },
      {
        "duration": 0,
        "start_time": "2022-10-29T09:31:27.992Z"
      },
      {
        "duration": 0,
        "start_time": "2022-10-29T09:31:27.996Z"
      },
      {
        "duration": 12,
        "start_time": "2022-10-29T09:31:34.962Z"
      },
      {
        "duration": 79,
        "start_time": "2022-10-29T09:32:00.560Z"
      },
      {
        "duration": 21,
        "start_time": "2022-10-29T09:32:00.641Z"
      },
      {
        "duration": 17,
        "start_time": "2022-10-29T09:32:00.664Z"
      },
      {
        "duration": 13,
        "start_time": "2022-10-29T09:32:00.683Z"
      },
      {
        "duration": 73,
        "start_time": "2022-10-29T09:32:00.699Z"
      },
      {
        "duration": 13,
        "start_time": "2022-10-29T09:32:00.774Z"
      },
      {
        "duration": 23,
        "start_time": "2022-10-29T09:32:00.788Z"
      },
      {
        "duration": 37,
        "start_time": "2022-10-29T09:32:00.812Z"
      },
      {
        "duration": 22,
        "start_time": "2022-10-29T09:32:00.850Z"
      },
      {
        "duration": 23,
        "start_time": "2022-10-29T09:32:00.874Z"
      },
      {
        "duration": 90,
        "start_time": "2022-10-29T09:32:00.898Z"
      },
      {
        "duration": 10,
        "start_time": "2022-10-29T09:32:00.990Z"
      },
      {
        "duration": 9,
        "start_time": "2022-10-29T09:32:01.001Z"
      },
      {
        "duration": 70,
        "start_time": "2022-10-29T09:32:01.012Z"
      },
      {
        "duration": 36,
        "start_time": "2022-10-29T09:32:01.084Z"
      },
      {
        "duration": 46,
        "start_time": "2022-10-29T09:32:01.128Z"
      },
      {
        "duration": 6,
        "start_time": "2022-10-29T09:32:01.176Z"
      },
      {
        "duration": 51,
        "start_time": "2022-10-29T09:32:01.184Z"
      },
      {
        "duration": 25,
        "start_time": "2022-10-29T09:32:01.245Z"
      },
      {
        "duration": 12,
        "start_time": "2022-10-29T09:32:01.273Z"
      },
      {
        "duration": 13,
        "start_time": "2022-10-29T09:32:01.287Z"
      },
      {
        "duration": 56,
        "start_time": "2022-10-29T09:32:01.304Z"
      },
      {
        "duration": 35,
        "start_time": "2022-10-29T09:32:01.362Z"
      },
      {
        "duration": 47,
        "start_time": "2022-10-29T09:32:01.399Z"
      },
      {
        "duration": 44,
        "start_time": "2022-10-29T09:32:01.452Z"
      },
      {
        "duration": 5,
        "start_time": "2022-10-29T09:32:24.068Z"
      },
      {
        "duration": 8,
        "start_time": "2022-10-29T09:33:51.985Z"
      },
      {
        "duration": 8,
        "start_time": "2022-10-29T09:34:30.843Z"
      },
      {
        "duration": 9,
        "start_time": "2022-10-29T09:39:36.877Z"
      },
      {
        "duration": 10,
        "start_time": "2022-10-29T09:44:37.841Z"
      },
      {
        "duration": 9,
        "start_time": "2022-10-29T09:45:06.461Z"
      },
      {
        "duration": 9,
        "start_time": "2022-10-29T09:46:05.670Z"
      },
      {
        "duration": 8,
        "start_time": "2022-10-29T09:46:12.568Z"
      },
      {
        "duration": 8,
        "start_time": "2022-10-29T09:46:42.605Z"
      },
      {
        "duration": 4,
        "start_time": "2022-10-29T09:46:53.463Z"
      },
      {
        "duration": 11,
        "start_time": "2022-10-29T09:47:31.958Z"
      },
      {
        "duration": 79,
        "start_time": "2022-10-29T09:47:51.960Z"
      },
      {
        "duration": 20,
        "start_time": "2022-10-29T09:47:52.041Z"
      },
      {
        "duration": 24,
        "start_time": "2022-10-29T09:47:52.062Z"
      },
      {
        "duration": 9,
        "start_time": "2022-10-29T09:47:52.088Z"
      },
      {
        "duration": 23,
        "start_time": "2022-10-29T09:47:52.099Z"
      },
      {
        "duration": 63,
        "start_time": "2022-10-29T09:47:52.124Z"
      },
      {
        "duration": 4,
        "start_time": "2022-10-29T09:47:52.189Z"
      },
      {
        "duration": 11,
        "start_time": "2022-10-29T09:47:52.194Z"
      },
      {
        "duration": 6,
        "start_time": "2022-10-29T09:47:52.206Z"
      },
      {
        "duration": 8,
        "start_time": "2022-10-29T09:47:52.213Z"
      },
      {
        "duration": 40,
        "start_time": "2022-10-29T09:47:52.223Z"
      },
      {
        "duration": 32,
        "start_time": "2022-10-29T09:47:52.265Z"
      },
      {
        "duration": 9,
        "start_time": "2022-10-29T09:47:52.298Z"
      },
      {
        "duration": 3,
        "start_time": "2022-10-29T09:47:52.309Z"
      },
      {
        "duration": 17,
        "start_time": "2022-10-29T09:47:52.314Z"
      },
      {
        "duration": 54,
        "start_time": "2022-10-29T09:47:52.333Z"
      },
      {
        "duration": 16,
        "start_time": "2022-10-29T09:47:52.389Z"
      },
      {
        "duration": 3,
        "start_time": "2022-10-29T09:47:52.407Z"
      },
      {
        "duration": 21,
        "start_time": "2022-10-29T09:47:52.411Z"
      },
      {
        "duration": 31,
        "start_time": "2022-10-29T09:47:52.434Z"
      },
      {
        "duration": 3,
        "start_time": "2022-10-29T09:47:52.467Z"
      },
      {
        "duration": 12,
        "start_time": "2022-10-29T09:47:52.471Z"
      },
      {
        "duration": 22,
        "start_time": "2022-10-29T09:47:52.485Z"
      },
      {
        "duration": 30,
        "start_time": "2022-10-29T09:47:52.508Z"
      },
      {
        "duration": 32,
        "start_time": "2022-10-29T09:47:52.540Z"
      },
      {
        "duration": 25,
        "start_time": "2022-10-29T09:47:52.574Z"
      },
      {
        "duration": 76,
        "start_time": "2022-10-29T09:48:32.637Z"
      },
      {
        "duration": 26,
        "start_time": "2022-10-29T09:48:32.715Z"
      },
      {
        "duration": 61,
        "start_time": "2022-10-29T09:48:32.743Z"
      },
      {
        "duration": 27,
        "start_time": "2022-10-29T09:48:32.806Z"
      },
      {
        "duration": 78,
        "start_time": "2022-10-29T09:48:32.834Z"
      },
      {
        "duration": 88,
        "start_time": "2022-10-29T09:48:32.913Z"
      },
      {
        "duration": 3,
        "start_time": "2022-10-29T09:48:33.002Z"
      },
      {
        "duration": 23,
        "start_time": "2022-10-29T09:48:33.006Z"
      },
      {
        "duration": 54,
        "start_time": "2022-10-29T09:48:33.030Z"
      },
      {
        "duration": 25,
        "start_time": "2022-10-29T09:48:33.086Z"
      },
      {
        "duration": 80,
        "start_time": "2022-10-29T09:48:33.112Z"
      },
      {
        "duration": 76,
        "start_time": "2022-10-29T09:48:33.194Z"
      },
      {
        "duration": 21,
        "start_time": "2022-10-29T09:48:33.271Z"
      },
      {
        "duration": 19,
        "start_time": "2022-10-29T09:48:33.294Z"
      },
      {
        "duration": 74,
        "start_time": "2022-10-29T09:48:33.314Z"
      },
      {
        "duration": 30,
        "start_time": "2022-10-29T09:48:33.390Z"
      },
      {
        "duration": 65,
        "start_time": "2022-10-29T09:48:33.425Z"
      },
      {
        "duration": 10,
        "start_time": "2022-10-29T09:48:33.491Z"
      },
      {
        "duration": 72,
        "start_time": "2022-10-29T09:48:33.502Z"
      },
      {
        "duration": 17,
        "start_time": "2022-10-29T09:48:33.575Z"
      },
      {
        "duration": 23,
        "start_time": "2022-10-29T09:48:33.594Z"
      },
      {
        "duration": 57,
        "start_time": "2022-10-29T09:48:33.619Z"
      },
      {
        "duration": 36,
        "start_time": "2022-10-29T09:48:33.678Z"
      },
      {
        "duration": 63,
        "start_time": "2022-10-29T09:48:33.716Z"
      },
      {
        "duration": 24,
        "start_time": "2022-10-29T09:48:33.780Z"
      },
      {
        "duration": 86,
        "start_time": "2022-10-29T09:48:33.807Z"
      },
      {
        "duration": 93,
        "start_time": "2022-10-29T09:49:32.706Z"
      },
      {
        "duration": 14,
        "start_time": "2022-10-29T09:49:32.800Z"
      },
      {
        "duration": 28,
        "start_time": "2022-10-29T09:49:32.815Z"
      },
      {
        "duration": 24,
        "start_time": "2022-10-29T09:49:32.846Z"
      },
      {
        "duration": 12,
        "start_time": "2022-10-29T09:49:32.871Z"
      },
      {
        "duration": 0,
        "start_time": "2022-10-29T09:49:32.884Z"
      },
      {
        "duration": 0,
        "start_time": "2022-10-29T09:49:32.885Z"
      },
      {
        "duration": 0,
        "start_time": "2022-10-29T09:49:32.886Z"
      },
      {
        "duration": 0,
        "start_time": "2022-10-29T09:49:32.887Z"
      },
      {
        "duration": 0,
        "start_time": "2022-10-29T09:49:32.888Z"
      },
      {
        "duration": 4,
        "start_time": "2022-10-29T09:49:32.947Z"
      },
      {
        "duration": 38,
        "start_time": "2022-10-29T09:49:32.953Z"
      },
      {
        "duration": 9,
        "start_time": "2022-10-29T09:49:32.992Z"
      },
      {
        "duration": 11,
        "start_time": "2022-10-29T09:49:33.003Z"
      },
      {
        "duration": 0,
        "start_time": "2022-10-29T09:49:33.016Z"
      },
      {
        "duration": 0,
        "start_time": "2022-10-29T09:49:33.018Z"
      },
      {
        "duration": 19,
        "start_time": "2022-10-29T09:49:33.039Z"
      },
      {
        "duration": 4,
        "start_time": "2022-10-29T09:49:33.060Z"
      },
      {
        "duration": 19,
        "start_time": "2022-10-29T09:49:33.066Z"
      },
      {
        "duration": 6,
        "start_time": "2022-10-29T09:49:33.087Z"
      },
      {
        "duration": 3,
        "start_time": "2022-10-29T09:49:33.100Z"
      },
      {
        "duration": 19,
        "start_time": "2022-10-29T09:49:33.116Z"
      },
      {
        "duration": 34,
        "start_time": "2022-10-29T09:49:33.143Z"
      },
      {
        "duration": 25,
        "start_time": "2022-10-29T09:49:33.179Z"
      },
      {
        "duration": 34,
        "start_time": "2022-10-29T09:49:33.205Z"
      },
      {
        "duration": 30,
        "start_time": "2022-10-29T09:49:33.241Z"
      },
      {
        "duration": 87,
        "start_time": "2022-10-29T09:50:55.486Z"
      },
      {
        "duration": 14,
        "start_time": "2022-10-29T09:50:55.574Z"
      },
      {
        "duration": 45,
        "start_time": "2022-10-29T09:50:55.590Z"
      },
      {
        "duration": 43,
        "start_time": "2022-10-29T09:50:55.637Z"
      },
      {
        "duration": 24,
        "start_time": "2022-10-29T09:50:55.682Z"
      },
      {
        "duration": 68,
        "start_time": "2022-10-29T09:50:55.708Z"
      },
      {
        "duration": 4,
        "start_time": "2022-10-29T09:50:55.778Z"
      },
      {
        "duration": 17,
        "start_time": "2022-10-29T09:50:55.784Z"
      },
      {
        "duration": 8,
        "start_time": "2022-10-29T09:50:55.803Z"
      },
      {
        "duration": 13,
        "start_time": "2022-10-29T09:50:55.812Z"
      },
      {
        "duration": 30,
        "start_time": "2022-10-29T09:50:55.837Z"
      },
      {
        "duration": 42,
        "start_time": "2022-10-29T09:50:55.869Z"
      },
      {
        "duration": 16,
        "start_time": "2022-10-29T09:50:55.912Z"
      },
      {
        "duration": 45,
        "start_time": "2022-10-29T09:50:55.934Z"
      },
      {
        "duration": 21,
        "start_time": "2022-10-29T09:50:55.981Z"
      },
      {
        "duration": 29,
        "start_time": "2022-10-29T09:50:56.003Z"
      },
      {
        "duration": 29,
        "start_time": "2022-10-29T09:50:56.036Z"
      },
      {
        "duration": 8,
        "start_time": "2022-10-29T09:50:56.066Z"
      },
      {
        "duration": 17,
        "start_time": "2022-10-29T09:50:56.075Z"
      },
      {
        "duration": 16,
        "start_time": "2022-10-29T09:50:56.094Z"
      },
      {
        "duration": 9,
        "start_time": "2022-10-29T09:50:56.111Z"
      },
      {
        "duration": 58,
        "start_time": "2022-10-29T09:50:56.124Z"
      },
      {
        "duration": 34,
        "start_time": "2022-10-29T09:50:56.183Z"
      },
      {
        "duration": 37,
        "start_time": "2022-10-29T09:50:56.218Z"
      },
      {
        "duration": 40,
        "start_time": "2022-10-29T09:50:56.256Z"
      },
      {
        "duration": 26,
        "start_time": "2022-10-29T09:50:56.297Z"
      },
      {
        "duration": 76,
        "start_time": "2022-10-29T09:51:45.372Z"
      },
      {
        "duration": 16,
        "start_time": "2022-10-29T09:51:45.449Z"
      },
      {
        "duration": 20,
        "start_time": "2022-10-29T09:51:45.467Z"
      },
      {
        "duration": 9,
        "start_time": "2022-10-29T09:51:45.489Z"
      },
      {
        "duration": 28,
        "start_time": "2022-10-29T09:51:45.500Z"
      },
      {
        "duration": 0,
        "start_time": "2022-10-29T09:51:45.529Z"
      },
      {
        "duration": 0,
        "start_time": "2022-10-29T09:51:45.530Z"
      },
      {
        "duration": 0,
        "start_time": "2022-10-29T09:51:45.530Z"
      },
      {
        "duration": 5,
        "start_time": "2022-10-29T09:51:45.552Z"
      },
      {
        "duration": 10,
        "start_time": "2022-10-29T09:51:45.559Z"
      },
      {
        "duration": 4,
        "start_time": "2022-10-29T09:51:45.582Z"
      },
      {
        "duration": 42,
        "start_time": "2022-10-29T09:51:45.601Z"
      },
      {
        "duration": 16,
        "start_time": "2022-10-29T09:51:45.644Z"
      },
      {
        "duration": 13,
        "start_time": "2022-10-29T09:51:45.662Z"
      },
      {
        "duration": 0,
        "start_time": "2022-10-29T09:51:45.677Z"
      },
      {
        "duration": 20,
        "start_time": "2022-10-29T09:51:45.679Z"
      },
      {
        "duration": 29,
        "start_time": "2022-10-29T09:51:45.723Z"
      },
      {
        "duration": 7,
        "start_time": "2022-10-29T09:51:45.755Z"
      },
      {
        "duration": 17,
        "start_time": "2022-10-29T09:51:45.764Z"
      },
      {
        "duration": 10,
        "start_time": "2022-10-29T09:51:45.782Z"
      },
      {
        "duration": 4,
        "start_time": "2022-10-29T09:51:45.793Z"
      },
      {
        "duration": 13,
        "start_time": "2022-10-29T09:51:45.798Z"
      },
      {
        "duration": 38,
        "start_time": "2022-10-29T09:51:45.813Z"
      },
      {
        "duration": 26,
        "start_time": "2022-10-29T09:51:45.853Z"
      },
      {
        "duration": 24,
        "start_time": "2022-10-29T09:51:45.881Z"
      },
      {
        "duration": 36,
        "start_time": "2022-10-29T09:51:45.928Z"
      },
      {
        "duration": 90,
        "start_time": "2022-10-29T09:52:11.612Z"
      },
      {
        "duration": 16,
        "start_time": "2022-10-29T09:52:11.704Z"
      },
      {
        "duration": 39,
        "start_time": "2022-10-29T09:52:11.726Z"
      },
      {
        "duration": 11,
        "start_time": "2022-10-29T09:52:11.767Z"
      },
      {
        "duration": 43567,
        "start_time": "2022-10-29T09:52:11.779Z"
      },
      {
        "duration": 32,
        "start_time": "2022-10-29T09:52:55.350Z"
      },
      {
        "duration": 4,
        "start_time": "2022-10-29T09:52:55.383Z"
      },
      {
        "duration": 15,
        "start_time": "2022-10-29T09:52:55.389Z"
      },
      {
        "duration": 11,
        "start_time": "2022-10-29T09:52:55.406Z"
      },
      {
        "duration": 19,
        "start_time": "2022-10-29T09:52:55.418Z"
      },
      {
        "duration": 16,
        "start_time": "2022-10-29T09:52:55.440Z"
      },
      {
        "duration": 34,
        "start_time": "2022-10-29T09:52:55.458Z"
      },
      {
        "duration": 9,
        "start_time": "2022-10-29T09:52:55.494Z"
      },
      {
        "duration": 5,
        "start_time": "2022-10-29T09:52:55.504Z"
      },
      {
        "duration": 18,
        "start_time": "2022-10-29T09:52:55.510Z"
      },
      {
        "duration": 32,
        "start_time": "2022-10-29T09:52:55.534Z"
      },
      {
        "duration": 16,
        "start_time": "2022-10-29T09:52:55.568Z"
      },
      {
        "duration": 3,
        "start_time": "2022-10-29T09:52:55.585Z"
      },
      {
        "duration": 12,
        "start_time": "2022-10-29T09:52:55.589Z"
      },
      {
        "duration": 6,
        "start_time": "2022-10-29T09:52:55.603Z"
      },
      {
        "duration": 5,
        "start_time": "2022-10-29T09:52:55.611Z"
      },
      {
        "duration": 35,
        "start_time": "2022-10-29T09:52:55.617Z"
      },
      {
        "duration": 34,
        "start_time": "2022-10-29T09:52:55.655Z"
      },
      {
        "duration": 27,
        "start_time": "2022-10-29T09:52:55.690Z"
      },
      {
        "duration": 34,
        "start_time": "2022-10-29T09:52:55.719Z"
      },
      {
        "duration": 31,
        "start_time": "2022-10-29T09:52:55.756Z"
      },
      {
        "duration": 66,
        "start_time": "2022-10-29T09:53:31.513Z"
      },
      {
        "duration": 31548,
        "start_time": "2022-10-29T09:57:09.160Z"
      },
      {
        "duration": 9,
        "start_time": "2022-10-29T09:58:09.985Z"
      },
      {
        "duration": 8,
        "start_time": "2022-10-29T09:58:23.267Z"
      },
      {
        "duration": 8,
        "start_time": "2022-10-29T10:01:09.349Z"
      },
      {
        "duration": 31600,
        "start_time": "2022-10-29T10:01:21.849Z"
      },
      {
        "duration": 70,
        "start_time": "2022-10-29T10:07:03.156Z"
      },
      {
        "duration": 20,
        "start_time": "2022-10-29T10:07:03.228Z"
      },
      {
        "duration": 20,
        "start_time": "2022-10-29T10:07:03.250Z"
      },
      {
        "duration": 10,
        "start_time": "2022-10-29T10:07:03.272Z"
      },
      {
        "duration": 78,
        "start_time": "2022-10-29T10:08:08.159Z"
      },
      {
        "duration": 23,
        "start_time": "2022-10-29T10:08:08.243Z"
      },
      {
        "duration": 17,
        "start_time": "2022-10-29T10:08:08.268Z"
      },
      {
        "duration": 10,
        "start_time": "2022-10-29T10:08:08.286Z"
      },
      {
        "duration": 62339,
        "start_time": "2022-10-29T10:08:08.298Z"
      },
      {
        "duration": 34,
        "start_time": "2022-10-29T10:09:10.648Z"
      },
      {
        "duration": 3,
        "start_time": "2022-10-29T10:09:10.684Z"
      },
      {
        "duration": 16,
        "start_time": "2022-10-29T10:09:10.689Z"
      },
      {
        "duration": 47,
        "start_time": "2022-10-29T10:09:10.707Z"
      },
      {
        "duration": 5,
        "start_time": "2022-10-29T10:09:10.756Z"
      },
      {
        "duration": 5,
        "start_time": "2022-10-29T10:09:10.762Z"
      },
      {
        "duration": 37,
        "start_time": "2022-10-29T10:09:10.768Z"
      },
      {
        "duration": 11,
        "start_time": "2022-10-29T10:09:10.806Z"
      },
      {
        "duration": 11,
        "start_time": "2022-10-29T10:09:10.819Z"
      },
      {
        "duration": 29,
        "start_time": "2022-10-29T10:09:10.839Z"
      },
      {
        "duration": 20,
        "start_time": "2022-10-29T10:09:10.870Z"
      },
      {
        "duration": 17,
        "start_time": "2022-10-29T10:09:10.891Z"
      },
      {
        "duration": 3,
        "start_time": "2022-10-29T10:09:10.910Z"
      },
      {
        "duration": 18,
        "start_time": "2022-10-29T10:09:10.915Z"
      },
      {
        "duration": 25,
        "start_time": "2022-10-29T10:09:10.935Z"
      },
      {
        "duration": 3,
        "start_time": "2022-10-29T10:09:10.962Z"
      },
      {
        "duration": 11,
        "start_time": "2022-10-29T10:09:10.967Z"
      },
      {
        "duration": 26,
        "start_time": "2022-10-29T10:09:10.979Z"
      },
      {
        "duration": 44,
        "start_time": "2022-10-29T10:09:11.007Z"
      },
      {
        "duration": 28,
        "start_time": "2022-10-29T10:09:11.052Z"
      },
      {
        "duration": 28,
        "start_time": "2022-10-29T10:09:11.081Z"
      },
      {
        "duration": 91,
        "start_time": "2022-10-29T10:09:27.118Z"
      },
      {
        "duration": 33,
        "start_time": "2022-10-29T10:09:27.211Z"
      },
      {
        "duration": 29,
        "start_time": "2022-10-29T10:09:27.249Z"
      },
      {
        "duration": 12,
        "start_time": "2022-10-29T10:09:27.280Z"
      },
      {
        "duration": 4,
        "start_time": "2022-10-29T10:09:27.606Z"
      },
      {
        "duration": 47,
        "start_time": "2022-10-29T10:09:27.620Z"
      },
      {
        "duration": 3,
        "start_time": "2022-10-29T10:09:27.669Z"
      },
      {
        "duration": 11,
        "start_time": "2022-10-29T10:09:27.674Z"
      },
      {
        "duration": 4,
        "start_time": "2022-10-29T10:09:27.688Z"
      },
      {
        "duration": 6,
        "start_time": "2022-10-29T10:09:27.693Z"
      },
      {
        "duration": 32,
        "start_time": "2022-10-29T10:09:27.725Z"
      },
      {
        "duration": 34,
        "start_time": "2022-10-29T10:09:27.758Z"
      },
      {
        "duration": 10,
        "start_time": "2022-10-29T10:09:27.794Z"
      },
      {
        "duration": 8,
        "start_time": "2022-10-29T10:09:27.806Z"
      },
      {
        "duration": 25,
        "start_time": "2022-10-29T10:09:27.815Z"
      },
      {
        "duration": 31,
        "start_time": "2022-10-29T10:09:27.844Z"
      },
      {
        "duration": 16,
        "start_time": "2022-10-29T10:09:27.877Z"
      },
      {
        "duration": 3,
        "start_time": "2022-10-29T10:09:27.895Z"
      },
      {
        "duration": 22,
        "start_time": "2022-10-29T10:09:27.901Z"
      },
      {
        "duration": 15,
        "start_time": "2022-10-29T10:09:27.925Z"
      },
      {
        "duration": 19,
        "start_time": "2022-10-29T10:09:27.942Z"
      },
      {
        "duration": 20,
        "start_time": "2022-10-29T10:09:27.962Z"
      },
      {
        "duration": 25,
        "start_time": "2022-10-29T10:09:27.983Z"
      },
      {
        "duration": 43,
        "start_time": "2022-10-29T10:09:28.010Z"
      },
      {
        "duration": 24,
        "start_time": "2022-10-29T10:09:28.056Z"
      },
      {
        "duration": 27,
        "start_time": "2022-10-29T10:09:28.081Z"
      },
      {
        "duration": 132,
        "start_time": "2022-10-29T10:15:45.644Z"
      },
      {
        "duration": 43,
        "start_time": "2022-10-29T10:15:45.799Z"
      },
      {
        "duration": 471,
        "start_time": "2022-10-29T10:20:41.640Z"
      },
      {
        "duration": 34,
        "start_time": "2022-10-29T10:20:42.113Z"
      },
      {
        "duration": 14,
        "start_time": "2022-10-29T10:20:42.152Z"
      },
      {
        "duration": 8,
        "start_time": "2022-10-29T10:20:42.168Z"
      },
      {
        "duration": 0,
        "start_time": "2022-10-29T10:21:37.260Z"
      },
      {
        "duration": 0,
        "start_time": "2022-10-29T10:21:37.261Z"
      },
      {
        "duration": 0,
        "start_time": "2022-10-29T10:21:37.262Z"
      },
      {
        "duration": 0,
        "start_time": "2022-10-29T10:21:37.262Z"
      },
      {
        "duration": 0,
        "start_time": "2022-10-29T10:21:37.263Z"
      },
      {
        "duration": 0,
        "start_time": "2022-10-29T10:21:37.264Z"
      },
      {
        "duration": 0,
        "start_time": "2022-10-29T10:21:37.265Z"
      },
      {
        "duration": 0,
        "start_time": "2022-10-29T10:21:37.266Z"
      },
      {
        "duration": 0,
        "start_time": "2022-10-29T10:21:37.267Z"
      },
      {
        "duration": 0,
        "start_time": "2022-10-29T10:21:37.268Z"
      },
      {
        "duration": 0,
        "start_time": "2022-10-29T10:21:37.269Z"
      },
      {
        "duration": 0,
        "start_time": "2022-10-29T10:21:37.270Z"
      },
      {
        "duration": 0,
        "start_time": "2022-10-29T10:21:37.270Z"
      },
      {
        "duration": 0,
        "start_time": "2022-10-29T10:21:37.271Z"
      },
      {
        "duration": 0,
        "start_time": "2022-10-29T10:21:37.272Z"
      },
      {
        "duration": 0,
        "start_time": "2022-10-29T10:21:37.273Z"
      },
      {
        "duration": 0,
        "start_time": "2022-10-29T10:21:37.274Z"
      },
      {
        "duration": 0,
        "start_time": "2022-10-29T10:21:37.276Z"
      },
      {
        "duration": 0,
        "start_time": "2022-10-29T10:21:37.277Z"
      },
      {
        "duration": 0,
        "start_time": "2022-10-29T10:21:37.326Z"
      },
      {
        "duration": 0,
        "start_time": "2022-10-29T10:21:37.327Z"
      },
      {
        "duration": 1,
        "start_time": "2022-10-29T10:21:37.327Z"
      },
      {
        "duration": 0,
        "start_time": "2022-10-29T10:21:37.328Z"
      },
      {
        "duration": 0,
        "start_time": "2022-10-29T10:21:37.329Z"
      },
      {
        "duration": 0,
        "start_time": "2022-10-29T10:21:37.335Z"
      },
      {
        "duration": 0,
        "start_time": "2022-10-29T10:21:37.335Z"
      },
      {
        "duration": 446,
        "start_time": "2022-10-29T10:21:45.873Z"
      },
      {
        "duration": 33,
        "start_time": "2022-10-29T10:21:46.321Z"
      },
      {
        "duration": 29,
        "start_time": "2022-10-29T10:21:46.356Z"
      },
      {
        "duration": 9,
        "start_time": "2022-10-29T10:21:46.387Z"
      },
      {
        "duration": 4,
        "start_time": "2022-10-29T10:21:46.397Z"
      },
      {
        "duration": 0,
        "start_time": "2022-10-29T10:21:46.428Z"
      },
      {
        "duration": 0,
        "start_time": "2022-10-29T10:21:46.429Z"
      },
      {
        "duration": 0,
        "start_time": "2022-10-29T10:21:46.430Z"
      },
      {
        "duration": 0,
        "start_time": "2022-10-29T10:21:46.431Z"
      },
      {
        "duration": 0,
        "start_time": "2022-10-29T10:21:46.431Z"
      },
      {
        "duration": 0,
        "start_time": "2022-10-29T10:21:46.432Z"
      },
      {
        "duration": 0,
        "start_time": "2022-10-29T10:21:46.435Z"
      },
      {
        "duration": 0,
        "start_time": "2022-10-29T10:21:46.436Z"
      },
      {
        "duration": 0,
        "start_time": "2022-10-29T10:21:46.436Z"
      },
      {
        "duration": 0,
        "start_time": "2022-10-29T10:21:46.437Z"
      },
      {
        "duration": 0,
        "start_time": "2022-10-29T10:21:46.438Z"
      },
      {
        "duration": 0,
        "start_time": "2022-10-29T10:21:46.438Z"
      },
      {
        "duration": 0,
        "start_time": "2022-10-29T10:21:46.439Z"
      },
      {
        "duration": 0,
        "start_time": "2022-10-29T10:21:46.440Z"
      },
      {
        "duration": 0,
        "start_time": "2022-10-29T10:21:46.440Z"
      },
      {
        "duration": 0,
        "start_time": "2022-10-29T10:21:46.441Z"
      },
      {
        "duration": 0,
        "start_time": "2022-10-29T10:21:46.442Z"
      },
      {
        "duration": 1,
        "start_time": "2022-10-29T10:21:46.442Z"
      },
      {
        "duration": 0,
        "start_time": "2022-10-29T10:21:46.443Z"
      },
      {
        "duration": 0,
        "start_time": "2022-10-29T10:21:46.444Z"
      },
      {
        "duration": 0,
        "start_time": "2022-10-29T10:21:46.450Z"
      },
      {
        "duration": 54450,
        "start_time": "2022-10-29T10:23:01.561Z"
      },
      {
        "duration": 13,
        "start_time": "2022-10-29T10:23:56.064Z"
      },
      {
        "duration": 59,
        "start_time": "2022-10-29T10:25:46.249Z"
      },
      {
        "duration": 8,
        "start_time": "2022-10-29T10:25:54.746Z"
      },
      {
        "duration": 47109,
        "start_time": "2022-10-29T10:27:03.286Z"
      },
      {
        "duration": 97,
        "start_time": "2022-10-29T10:36:52.219Z"
      },
      {
        "duration": 98,
        "start_time": "2022-10-29T10:37:01.124Z"
      },
      {
        "duration": 12,
        "start_time": "2022-10-29T10:37:05.764Z"
      },
      {
        "duration": 67,
        "start_time": "2022-10-29T10:40:14.275Z"
      },
      {
        "duration": 40,
        "start_time": "2022-10-29T10:40:14.450Z"
      },
      {
        "duration": 10,
        "start_time": "2022-10-29T10:40:21.144Z"
      },
      {
        "duration": 12,
        "start_time": "2022-10-29T10:40:31.615Z"
      },
      {
        "duration": 504,
        "start_time": "2022-10-29T10:54:00.304Z"
      },
      {
        "duration": 45,
        "start_time": "2022-10-29T10:54:00.810Z"
      },
      {
        "duration": 24,
        "start_time": "2022-10-29T10:54:00.859Z"
      },
      {
        "duration": 55,
        "start_time": "2022-10-29T10:54:00.885Z"
      },
      {
        "duration": 56518,
        "start_time": "2022-10-29T10:54:00.942Z"
      },
      {
        "duration": 43,
        "start_time": "2022-10-29T10:54:57.462Z"
      },
      {
        "duration": 4,
        "start_time": "2022-10-29T10:54:57.507Z"
      },
      {
        "duration": 75,
        "start_time": "2022-10-29T10:54:57.513Z"
      },
      {
        "duration": 16,
        "start_time": "2022-10-29T10:54:57.590Z"
      },
      {
        "duration": 10,
        "start_time": "2022-10-29T10:54:57.608Z"
      },
      {
        "duration": 36,
        "start_time": "2022-10-29T10:54:57.620Z"
      },
      {
        "duration": 34,
        "start_time": "2022-10-29T10:54:57.659Z"
      },
      {
        "duration": 9,
        "start_time": "2022-10-29T10:54:57.695Z"
      },
      {
        "duration": 4,
        "start_time": "2022-10-29T10:54:57.706Z"
      },
      {
        "duration": 18,
        "start_time": "2022-10-29T10:54:57.711Z"
      },
      {
        "duration": 44,
        "start_time": "2022-10-29T10:54:57.738Z"
      },
      {
        "duration": 14,
        "start_time": "2022-10-29T10:54:57.784Z"
      },
      {
        "duration": 3,
        "start_time": "2022-10-29T10:54:57.800Z"
      },
      {
        "duration": 11,
        "start_time": "2022-10-29T10:54:57.804Z"
      },
      {
        "duration": 14,
        "start_time": "2022-10-29T10:54:57.816Z"
      },
      {
        "duration": 27,
        "start_time": "2022-10-29T10:54:57.835Z"
      },
      {
        "duration": 11,
        "start_time": "2022-10-29T10:54:57.864Z"
      },
      {
        "duration": 29,
        "start_time": "2022-10-29T10:54:57.876Z"
      },
      {
        "duration": 38,
        "start_time": "2022-10-29T10:54:57.906Z"
      },
      {
        "duration": 32,
        "start_time": "2022-10-29T10:54:57.945Z"
      },
      {
        "duration": 26,
        "start_time": "2022-10-29T10:54:57.979Z"
      },
      {
        "duration": 68,
        "start_time": "2022-10-29T10:57:52.294Z"
      },
      {
        "duration": 7,
        "start_time": "2022-10-29T10:59:41.769Z"
      },
      {
        "duration": 5,
        "start_time": "2022-10-29T11:01:53.561Z"
      },
      {
        "duration": 15,
        "start_time": "2022-10-29T11:05:17.317Z"
      },
      {
        "duration": 0,
        "start_time": "2022-10-29T11:08:33.003Z"
      },
      {
        "duration": 48,
        "start_time": "2022-10-29T11:08:48.160Z"
      },
      {
        "duration": 77,
        "start_time": "2022-10-29T11:10:28.977Z"
      },
      {
        "duration": 59,
        "start_time": "2022-10-29T11:13:51.082Z"
      },
      {
        "duration": 46,
        "start_time": "2022-10-29T11:14:44.747Z"
      },
      {
        "duration": 43,
        "start_time": "2022-10-29T11:15:43.849Z"
      },
      {
        "duration": 6,
        "start_time": "2022-10-29T11:22:32.110Z"
      },
      {
        "duration": 5,
        "start_time": "2022-10-29T11:22:59.349Z"
      },
      {
        "duration": 5,
        "start_time": "2022-10-29T11:23:04.659Z"
      },
      {
        "duration": 439,
        "start_time": "2022-10-29T11:23:18.857Z"
      },
      {
        "duration": 5,
        "start_time": "2022-10-29T11:23:27.105Z"
      },
      {
        "duration": 4,
        "start_time": "2022-10-29T11:25:27.358Z"
      },
      {
        "duration": 11,
        "start_time": "2022-10-29T11:25:48.267Z"
      },
      {
        "duration": 84,
        "start_time": "2022-10-29T11:26:01.687Z"
      },
      {
        "duration": 14,
        "start_time": "2022-10-29T11:26:01.773Z"
      },
      {
        "duration": 31,
        "start_time": "2022-10-29T11:26:01.788Z"
      },
      {
        "duration": 26,
        "start_time": "2022-10-29T11:26:01.821Z"
      },
      {
        "duration": 22,
        "start_time": "2022-10-29T11:26:01.849Z"
      },
      {
        "duration": 37,
        "start_time": "2022-10-29T11:26:01.873Z"
      },
      {
        "duration": 3,
        "start_time": "2022-10-29T11:26:01.912Z"
      },
      {
        "duration": 37,
        "start_time": "2022-10-29T11:26:01.916Z"
      },
      {
        "duration": 5,
        "start_time": "2022-10-29T11:26:01.955Z"
      },
      {
        "duration": 8,
        "start_time": "2022-10-29T11:26:01.962Z"
      },
      {
        "duration": 14,
        "start_time": "2022-10-29T11:26:01.972Z"
      },
      {
        "duration": 40,
        "start_time": "2022-10-29T11:26:01.987Z"
      },
      {
        "duration": 17,
        "start_time": "2022-10-29T11:26:02.036Z"
      },
      {
        "duration": 3,
        "start_time": "2022-10-29T11:26:02.055Z"
      },
      {
        "duration": 16,
        "start_time": "2022-10-29T11:26:02.059Z"
      },
      {
        "duration": 23,
        "start_time": "2022-10-29T11:26:02.077Z"
      },
      {
        "duration": 41,
        "start_time": "2022-10-29T11:26:02.102Z"
      },
      {
        "duration": 3,
        "start_time": "2022-10-29T11:26:02.153Z"
      },
      {
        "duration": 14,
        "start_time": "2022-10-29T11:26:02.158Z"
      },
      {
        "duration": 6,
        "start_time": "2022-10-29T11:26:02.174Z"
      },
      {
        "duration": 6,
        "start_time": "2022-10-29T11:26:02.181Z"
      },
      {
        "duration": 14,
        "start_time": "2022-10-29T11:26:02.189Z"
      },
      {
        "duration": 40,
        "start_time": "2022-10-29T11:26:02.218Z"
      },
      {
        "duration": 26,
        "start_time": "2022-10-29T11:26:02.259Z"
      },
      {
        "duration": 25,
        "start_time": "2022-10-29T11:26:02.286Z"
      },
      {
        "duration": 34,
        "start_time": "2022-10-29T11:26:02.336Z"
      },
      {
        "duration": 54,
        "start_time": "2022-10-29T11:26:57.882Z"
      },
      {
        "duration": 65,
        "start_time": "2022-10-29T11:27:33.281Z"
      },
      {
        "duration": 63,
        "start_time": "2022-10-29T11:27:55.113Z"
      },
      {
        "duration": 51,
        "start_time": "2022-10-29T11:28:27.045Z"
      },
      {
        "duration": 63,
        "start_time": "2022-10-29T11:32:39.381Z"
      },
      {
        "duration": 13,
        "start_time": "2022-10-29T11:33:52.918Z"
      },
      {
        "duration": 8,
        "start_time": "2022-10-29T11:33:58.024Z"
      },
      {
        "duration": 5,
        "start_time": "2022-10-29T11:34:18.093Z"
      },
      {
        "duration": 6,
        "start_time": "2022-10-29T11:35:18.865Z"
      },
      {
        "duration": 11,
        "start_time": "2022-10-29T11:35:44.660Z"
      },
      {
        "duration": 83,
        "start_time": "2022-10-29T11:35:50.061Z"
      },
      {
        "duration": 18,
        "start_time": "2022-10-29T11:35:50.148Z"
      },
      {
        "duration": 47,
        "start_time": "2022-10-29T11:35:50.167Z"
      },
      {
        "duration": 42,
        "start_time": "2022-10-29T11:35:50.216Z"
      },
      {
        "duration": 27,
        "start_time": "2022-10-29T11:35:50.260Z"
      },
      {
        "duration": 76,
        "start_time": "2022-10-29T11:35:50.289Z"
      },
      {
        "duration": 18,
        "start_time": "2022-10-29T11:35:50.366Z"
      },
      {
        "duration": 33,
        "start_time": "2022-10-29T11:35:50.386Z"
      },
      {
        "duration": 30,
        "start_time": "2022-10-29T11:35:50.420Z"
      },
      {
        "duration": 38,
        "start_time": "2022-10-29T11:35:50.451Z"
      },
      {
        "duration": 23,
        "start_time": "2022-10-29T11:35:50.491Z"
      },
      {
        "duration": 65,
        "start_time": "2022-10-29T11:35:50.516Z"
      },
      {
        "duration": 9,
        "start_time": "2022-10-29T11:35:50.583Z"
      },
      {
        "duration": 13,
        "start_time": "2022-10-29T11:35:50.593Z"
      },
      {
        "duration": 50,
        "start_time": "2022-10-29T11:35:50.607Z"
      },
      {
        "duration": 27,
        "start_time": "2022-10-29T11:35:50.659Z"
      },
      {
        "duration": 27,
        "start_time": "2022-10-29T11:35:50.687Z"
      },
      {
        "duration": 46,
        "start_time": "2022-10-29T11:35:50.715Z"
      },
      {
        "duration": 30,
        "start_time": "2022-10-29T11:35:50.762Z"
      },
      {
        "duration": 60,
        "start_time": "2022-10-29T11:35:50.794Z"
      },
      {
        "duration": 18,
        "start_time": "2022-10-29T11:35:50.856Z"
      },
      {
        "duration": 35,
        "start_time": "2022-10-29T11:35:50.876Z"
      },
      {
        "duration": 64,
        "start_time": "2022-10-29T11:35:50.912Z"
      },
      {
        "duration": 65,
        "start_time": "2022-10-29T11:35:50.978Z"
      },
      {
        "duration": 36,
        "start_time": "2022-10-29T11:35:51.044Z"
      },
      {
        "duration": 80,
        "start_time": "2022-10-29T11:35:51.082Z"
      },
      {
        "duration": 12,
        "start_time": "2022-10-29T11:36:16.866Z"
      },
      {
        "duration": 11,
        "start_time": "2022-10-29T11:36:29.574Z"
      },
      {
        "duration": 88,
        "start_time": "2022-10-29T11:36:35.494Z"
      },
      {
        "duration": 13,
        "start_time": "2022-10-29T11:36:35.584Z"
      },
      {
        "duration": 17,
        "start_time": "2022-10-29T11:36:35.598Z"
      },
      {
        "duration": 26,
        "start_time": "2022-10-29T11:36:35.616Z"
      },
      {
        "duration": 17,
        "start_time": "2022-10-29T11:36:35.648Z"
      },
      {
        "duration": 40,
        "start_time": "2022-10-29T11:36:35.667Z"
      },
      {
        "duration": 4,
        "start_time": "2022-10-29T11:36:35.708Z"
      },
      {
        "duration": 34,
        "start_time": "2022-10-29T11:36:35.714Z"
      },
      {
        "duration": 21,
        "start_time": "2022-10-29T11:36:35.750Z"
      },
      {
        "duration": 13,
        "start_time": "2022-10-29T11:36:35.772Z"
      },
      {
        "duration": 6,
        "start_time": "2022-10-29T11:36:35.786Z"
      },
      {
        "duration": 46,
        "start_time": "2022-10-29T11:36:35.810Z"
      },
      {
        "duration": 9,
        "start_time": "2022-10-29T11:36:35.858Z"
      },
      {
        "duration": 6,
        "start_time": "2022-10-29T11:36:35.869Z"
      },
      {
        "duration": 10,
        "start_time": "2022-10-29T11:36:35.888Z"
      },
      {
        "duration": 30,
        "start_time": "2022-10-29T11:36:35.917Z"
      },
      {
        "duration": 16,
        "start_time": "2022-10-29T11:36:35.948Z"
      },
      {
        "duration": 3,
        "start_time": "2022-10-29T11:36:35.965Z"
      },
      {
        "duration": 9,
        "start_time": "2022-10-29T11:36:35.980Z"
      },
      {
        "duration": 5,
        "start_time": "2022-10-29T11:36:36.008Z"
      },
      {
        "duration": 7,
        "start_time": "2022-10-29T11:36:36.036Z"
      },
      {
        "duration": 8,
        "start_time": "2022-10-29T11:36:36.053Z"
      },
      {
        "duration": 23,
        "start_time": "2022-10-29T11:36:36.081Z"
      },
      {
        "duration": 39,
        "start_time": "2022-10-29T11:36:36.113Z"
      },
      {
        "duration": 23,
        "start_time": "2022-10-29T11:36:36.153Z"
      },
      {
        "duration": 27,
        "start_time": "2022-10-29T11:36:36.185Z"
      },
      {
        "duration": 49,
        "start_time": "2022-10-29T11:37:09.151Z"
      },
      {
        "duration": 65,
        "start_time": "2022-10-29T11:38:32.392Z"
      },
      {
        "duration": 5,
        "start_time": "2022-10-29T11:48:27.361Z"
      },
      {
        "duration": 15,
        "start_time": "2022-10-29T11:48:37.246Z"
      },
      {
        "duration": 83,
        "start_time": "2022-10-29T11:48:42.514Z"
      },
      {
        "duration": 14,
        "start_time": "2022-10-29T11:48:42.599Z"
      },
      {
        "duration": 33,
        "start_time": "2022-10-29T11:48:42.614Z"
      },
      {
        "duration": 14,
        "start_time": "2022-10-29T11:48:42.649Z"
      },
      {
        "duration": 10,
        "start_time": "2022-10-29T11:48:42.664Z"
      },
      {
        "duration": 31,
        "start_time": "2022-10-29T11:48:42.676Z"
      },
      {
        "duration": 3,
        "start_time": "2022-10-29T11:48:42.708Z"
      },
      {
        "duration": 37,
        "start_time": "2022-10-29T11:48:42.712Z"
      },
      {
        "duration": 4,
        "start_time": "2022-10-29T11:48:42.752Z"
      },
      {
        "duration": 6,
        "start_time": "2022-10-29T11:48:42.758Z"
      },
      {
        "duration": 6,
        "start_time": "2022-10-29T11:48:42.765Z"
      },
      {
        "duration": 31,
        "start_time": "2022-10-29T11:48:42.772Z"
      },
      {
        "duration": 9,
        "start_time": "2022-10-29T11:48:42.804Z"
      },
      {
        "duration": 26,
        "start_time": "2022-10-29T11:48:42.814Z"
      },
      {
        "duration": 19,
        "start_time": "2022-10-29T11:48:42.842Z"
      },
      {
        "duration": 18,
        "start_time": "2022-10-29T11:48:42.862Z"
      },
      {
        "duration": 16,
        "start_time": "2022-10-29T11:48:42.882Z"
      },
      {
        "duration": 3,
        "start_time": "2022-10-29T11:48:42.900Z"
      },
      {
        "duration": 12,
        "start_time": "2022-10-29T11:48:42.904Z"
      },
      {
        "duration": 11,
        "start_time": "2022-10-29T11:48:42.932Z"
      },
      {
        "duration": 8,
        "start_time": "2022-10-29T11:48:42.945Z"
      },
      {
        "duration": 12,
        "start_time": "2022-10-29T11:48:42.954Z"
      },
      {
        "duration": 26,
        "start_time": "2022-10-29T11:48:42.967Z"
      },
      {
        "duration": 27,
        "start_time": "2022-10-29T11:48:42.994Z"
      },
      {
        "duration": 36,
        "start_time": "2022-10-29T11:48:43.039Z"
      },
      {
        "duration": 27,
        "start_time": "2022-10-29T11:48:43.076Z"
      },
      {
        "duration": 11,
        "start_time": "2022-10-29T11:48:55.685Z"
      },
      {
        "duration": 18,
        "start_time": "2022-10-29T11:49:32.878Z"
      },
      {
        "duration": 102,
        "start_time": "2022-10-29T11:49:39.137Z"
      },
      {
        "duration": 20,
        "start_time": "2022-10-29T11:49:39.241Z"
      },
      {
        "duration": 26,
        "start_time": "2022-10-29T11:49:39.262Z"
      },
      {
        "duration": 9,
        "start_time": "2022-10-29T11:49:39.290Z"
      },
      {
        "duration": 36,
        "start_time": "2022-10-29T11:49:39.300Z"
      },
      {
        "duration": 51,
        "start_time": "2022-10-29T11:49:39.337Z"
      },
      {
        "duration": 4,
        "start_time": "2022-10-29T11:49:39.389Z"
      },
      {
        "duration": 26,
        "start_time": "2022-10-29T11:49:39.394Z"
      },
      {
        "duration": 27,
        "start_time": "2022-10-29T11:49:39.421Z"
      },
      {
        "duration": 12,
        "start_time": "2022-10-29T11:49:39.450Z"
      },
      {
        "duration": 20,
        "start_time": "2022-10-29T11:49:39.463Z"
      },
      {
        "duration": 42,
        "start_time": "2022-10-29T11:49:39.485Z"
      },
      {
        "duration": 14,
        "start_time": "2022-10-29T11:49:39.534Z"
      },
      {
        "duration": 4,
        "start_time": "2022-10-29T11:49:39.552Z"
      },
      {
        "duration": 19,
        "start_time": "2022-10-29T11:49:39.557Z"
      },
      {
        "duration": 63,
        "start_time": "2022-10-29T11:49:39.577Z"
      },
      {
        "duration": 21,
        "start_time": "2022-10-29T11:49:39.643Z"
      },
      {
        "duration": 3,
        "start_time": "2022-10-29T11:49:39.666Z"
      },
      {
        "duration": 17,
        "start_time": "2022-10-29T11:49:39.670Z"
      },
      {
        "duration": 5,
        "start_time": "2022-10-29T11:49:39.689Z"
      },
      {
        "duration": 7,
        "start_time": "2022-10-29T11:49:39.695Z"
      },
      {
        "duration": 13,
        "start_time": "2022-10-29T11:49:39.704Z"
      },
      {
        "duration": 51,
        "start_time": "2022-10-29T11:49:39.718Z"
      },
      {
        "duration": 26,
        "start_time": "2022-10-29T11:49:39.771Z"
      },
      {
        "duration": 40,
        "start_time": "2022-10-29T11:49:39.799Z"
      },
      {
        "duration": 28,
        "start_time": "2022-10-29T11:49:39.842Z"
      },
      {
        "duration": 75,
        "start_time": "2022-10-29T11:50:31.016Z"
      },
      {
        "duration": 14,
        "start_time": "2022-10-29T11:50:31.093Z"
      },
      {
        "duration": 54,
        "start_time": "2022-10-29T11:50:31.108Z"
      },
      {
        "duration": 10,
        "start_time": "2022-10-29T11:50:31.164Z"
      },
      {
        "duration": 883,
        "start_time": "2022-10-29T11:50:31.175Z"
      },
      {
        "duration": 0,
        "start_time": "2022-10-29T11:50:32.060Z"
      },
      {
        "duration": 0,
        "start_time": "2022-10-29T11:50:32.061Z"
      },
      {
        "duration": 0,
        "start_time": "2022-10-29T11:50:32.062Z"
      },
      {
        "duration": 0,
        "start_time": "2022-10-29T11:50:32.063Z"
      },
      {
        "duration": 0,
        "start_time": "2022-10-29T11:50:32.064Z"
      },
      {
        "duration": 0,
        "start_time": "2022-10-29T11:50:32.065Z"
      },
      {
        "duration": 0,
        "start_time": "2022-10-29T11:50:32.066Z"
      },
      {
        "duration": 0,
        "start_time": "2022-10-29T11:50:32.067Z"
      },
      {
        "duration": 0,
        "start_time": "2022-10-29T11:50:32.068Z"
      },
      {
        "duration": 0,
        "start_time": "2022-10-29T11:50:32.069Z"
      },
      {
        "duration": 0,
        "start_time": "2022-10-29T11:50:32.070Z"
      },
      {
        "duration": 0,
        "start_time": "2022-10-29T11:50:32.071Z"
      },
      {
        "duration": 0,
        "start_time": "2022-10-29T11:50:32.072Z"
      },
      {
        "duration": 0,
        "start_time": "2022-10-29T11:50:32.072Z"
      },
      {
        "duration": 0,
        "start_time": "2022-10-29T11:50:32.074Z"
      },
      {
        "duration": 0,
        "start_time": "2022-10-29T11:50:32.075Z"
      },
      {
        "duration": 0,
        "start_time": "2022-10-29T11:50:32.076Z"
      },
      {
        "duration": 0,
        "start_time": "2022-10-29T11:50:32.076Z"
      },
      {
        "duration": 0,
        "start_time": "2022-10-29T11:50:32.078Z"
      },
      {
        "duration": 0,
        "start_time": "2022-10-29T11:50:32.079Z"
      },
      {
        "duration": 0,
        "start_time": "2022-10-29T11:50:32.080Z"
      },
      {
        "duration": 16,
        "start_time": "2022-10-29T11:51:08.940Z"
      },
      {
        "duration": 102,
        "start_time": "2022-10-29T11:51:16.576Z"
      },
      {
        "duration": 15,
        "start_time": "2022-10-29T11:51:16.680Z"
      },
      {
        "duration": 16,
        "start_time": "2022-10-29T11:51:16.696Z"
      },
      {
        "duration": 21,
        "start_time": "2022-10-29T11:51:16.723Z"
      },
      {
        "duration": 15,
        "start_time": "2022-10-29T11:51:16.746Z"
      },
      {
        "duration": 32,
        "start_time": "2022-10-29T11:51:16.762Z"
      },
      {
        "duration": 4,
        "start_time": "2022-10-29T11:51:16.796Z"
      },
      {
        "duration": 12,
        "start_time": "2022-10-29T11:51:16.802Z"
      },
      {
        "duration": 7,
        "start_time": "2022-10-29T11:51:16.828Z"
      },
      {
        "duration": 22,
        "start_time": "2022-10-29T11:51:16.837Z"
      },
      {
        "duration": 8,
        "start_time": "2022-10-29T11:51:16.860Z"
      },
      {
        "duration": 34,
        "start_time": "2022-10-29T11:51:16.870Z"
      },
      {
        "duration": 10,
        "start_time": "2022-10-29T11:51:16.905Z"
      },
      {
        "duration": 17,
        "start_time": "2022-10-29T11:51:16.917Z"
      },
      {
        "duration": 20,
        "start_time": "2022-10-29T11:51:16.941Z"
      },
      {
        "duration": 19,
        "start_time": "2022-10-29T11:51:16.963Z"
      },
      {
        "duration": 17,
        "start_time": "2022-10-29T11:51:16.984Z"
      },
      {
        "duration": 4,
        "start_time": "2022-10-29T11:51:17.002Z"
      },
      {
        "duration": 31,
        "start_time": "2022-10-29T11:51:17.007Z"
      },
      {
        "duration": 13,
        "start_time": "2022-10-29T11:51:17.039Z"
      },
      {
        "duration": 8,
        "start_time": "2022-10-29T11:51:17.054Z"
      },
      {
        "duration": 10,
        "start_time": "2022-10-29T11:51:17.064Z"
      },
      {
        "duration": 28,
        "start_time": "2022-10-29T11:51:17.076Z"
      },
      {
        "duration": 37,
        "start_time": "2022-10-29T11:51:17.106Z"
      },
      {
        "duration": 26,
        "start_time": "2022-10-29T11:51:17.150Z"
      },
      {
        "duration": 27,
        "start_time": "2022-10-29T11:51:17.177Z"
      },
      {
        "duration": 66,
        "start_time": "2022-10-29T11:58:22.748Z"
      },
      {
        "duration": 36,
        "start_time": "2022-10-29T11:58:22.816Z"
      },
      {
        "duration": 15,
        "start_time": "2022-10-29T11:58:22.853Z"
      },
      {
        "duration": 8,
        "start_time": "2022-10-29T11:58:22.870Z"
      },
      {
        "duration": 82,
        "start_time": "2022-10-29T11:58:22.880Z"
      },
      {
        "duration": 0,
        "start_time": "2022-10-29T11:58:22.964Z"
      },
      {
        "duration": 0,
        "start_time": "2022-10-29T11:58:22.965Z"
      },
      {
        "duration": 0,
        "start_time": "2022-10-29T11:58:22.967Z"
      },
      {
        "duration": 0,
        "start_time": "2022-10-29T11:58:22.968Z"
      },
      {
        "duration": 0,
        "start_time": "2022-10-29T11:58:22.969Z"
      },
      {
        "duration": 0,
        "start_time": "2022-10-29T11:58:22.970Z"
      },
      {
        "duration": 0,
        "start_time": "2022-10-29T11:58:22.971Z"
      },
      {
        "duration": 0,
        "start_time": "2022-10-29T11:58:22.972Z"
      },
      {
        "duration": 0,
        "start_time": "2022-10-29T11:58:22.973Z"
      },
      {
        "duration": 11,
        "start_time": "2022-10-29T11:58:22.975Z"
      },
      {
        "duration": 17,
        "start_time": "2022-10-29T11:58:22.990Z"
      },
      {
        "duration": 24,
        "start_time": "2022-10-29T11:58:23.008Z"
      },
      {
        "duration": 5,
        "start_time": "2022-10-29T11:58:23.042Z"
      },
      {
        "duration": 41,
        "start_time": "2022-10-29T11:58:23.049Z"
      },
      {
        "duration": 9,
        "start_time": "2022-10-29T11:58:23.093Z"
      },
      {
        "duration": 10,
        "start_time": "2022-10-29T11:58:23.104Z"
      },
      {
        "duration": 49,
        "start_time": "2022-10-29T11:58:23.116Z"
      },
      {
        "duration": 28,
        "start_time": "2022-10-29T11:58:23.167Z"
      },
      {
        "duration": 43,
        "start_time": "2022-10-29T11:58:23.197Z"
      },
      {
        "duration": 34,
        "start_time": "2022-10-29T11:58:23.242Z"
      },
      {
        "duration": 28,
        "start_time": "2022-10-29T11:58:23.278Z"
      },
      {
        "duration": 75,
        "start_time": "2022-10-29T12:10:55.099Z"
      },
      {
        "duration": 63,
        "start_time": "2022-10-29T12:11:18.409Z"
      },
      {
        "duration": 68,
        "start_time": "2022-10-29T12:11:22.742Z"
      },
      {
        "duration": 36,
        "start_time": "2022-10-29T12:11:22.812Z"
      },
      {
        "duration": 17,
        "start_time": "2022-10-29T12:11:22.849Z"
      },
      {
        "duration": 9,
        "start_time": "2022-10-29T12:11:22.868Z"
      },
      {
        "duration": 70,
        "start_time": "2022-10-29T12:11:22.878Z"
      },
      {
        "duration": 0,
        "start_time": "2022-10-29T12:11:22.949Z"
      },
      {
        "duration": 0,
        "start_time": "2022-10-29T12:11:22.950Z"
      },
      {
        "duration": 0,
        "start_time": "2022-10-29T12:11:22.951Z"
      },
      {
        "duration": 0,
        "start_time": "2022-10-29T12:11:22.952Z"
      },
      {
        "duration": 0,
        "start_time": "2022-10-29T12:11:22.954Z"
      },
      {
        "duration": 0,
        "start_time": "2022-10-29T12:11:22.955Z"
      },
      {
        "duration": 0,
        "start_time": "2022-10-29T12:11:22.956Z"
      },
      {
        "duration": 0,
        "start_time": "2022-10-29T12:11:22.957Z"
      },
      {
        "duration": 12,
        "start_time": "2022-10-29T12:11:22.958Z"
      },
      {
        "duration": 0,
        "start_time": "2022-10-29T12:11:22.972Z"
      },
      {
        "duration": 15,
        "start_time": "2022-10-29T12:11:22.982Z"
      },
      {
        "duration": 39,
        "start_time": "2022-10-29T12:11:22.998Z"
      },
      {
        "duration": 5,
        "start_time": "2022-10-29T12:11:23.043Z"
      },
      {
        "duration": 17,
        "start_time": "2022-10-29T12:11:23.050Z"
      },
      {
        "duration": 8,
        "start_time": "2022-10-29T12:11:23.069Z"
      },
      {
        "duration": 7,
        "start_time": "2022-10-29T12:11:23.079Z"
      },
      {
        "duration": 10,
        "start_time": "2022-10-29T12:11:23.087Z"
      },
      {
        "duration": 45,
        "start_time": "2022-10-29T12:11:23.098Z"
      },
      {
        "duration": 28,
        "start_time": "2022-10-29T12:11:23.145Z"
      },
      {
        "duration": 25,
        "start_time": "2022-10-29T12:11:23.175Z"
      },
      {
        "duration": 47,
        "start_time": "2022-10-29T12:11:23.202Z"
      },
      {
        "duration": 31,
        "start_time": "2022-10-29T12:12:31.714Z"
      },
      {
        "duration": 77,
        "start_time": "2022-10-29T12:12:56.219Z"
      },
      {
        "duration": 15,
        "start_time": "2022-10-29T12:12:56.298Z"
      },
      {
        "duration": 59,
        "start_time": "2022-10-29T12:12:56.315Z"
      },
      {
        "duration": 16,
        "start_time": "2022-10-29T12:12:56.900Z"
      },
      {
        "duration": 48,
        "start_time": "2022-10-29T12:12:56.918Z"
      },
      {
        "duration": 52,
        "start_time": "2022-10-29T12:12:56.968Z"
      },
      {
        "duration": 19,
        "start_time": "2022-10-29T12:12:57.022Z"
      },
      {
        "duration": 27,
        "start_time": "2022-10-29T12:12:57.044Z"
      },
      {
        "duration": 26,
        "start_time": "2022-10-29T12:12:57.073Z"
      },
      {
        "duration": 13,
        "start_time": "2022-10-29T12:12:57.101Z"
      },
      {
        "duration": 44,
        "start_time": "2022-10-29T12:12:57.115Z"
      },
      {
        "duration": 53,
        "start_time": "2022-10-29T12:12:57.161Z"
      },
      {
        "duration": 25,
        "start_time": "2022-10-29T12:12:57.215Z"
      },
      {
        "duration": 15,
        "start_time": "2022-10-29T12:12:57.243Z"
      },
      {
        "duration": 19,
        "start_time": "2022-10-29T12:12:57.260Z"
      },
      {
        "duration": 30,
        "start_time": "2022-10-29T12:12:57.281Z"
      },
      {
        "duration": 29,
        "start_time": "2022-10-29T12:12:57.313Z"
      },
      {
        "duration": 16,
        "start_time": "2022-10-29T12:12:57.344Z"
      },
      {
        "duration": 13,
        "start_time": "2022-10-29T12:12:57.361Z"
      },
      {
        "duration": 15,
        "start_time": "2022-10-29T12:12:57.375Z"
      },
      {
        "duration": 25,
        "start_time": "2022-10-29T12:12:57.391Z"
      },
      {
        "duration": 40,
        "start_time": "2022-10-29T12:12:57.418Z"
      },
      {
        "duration": 46,
        "start_time": "2022-10-29T12:12:57.460Z"
      },
      {
        "duration": 72,
        "start_time": "2022-10-29T12:12:57.508Z"
      },
      {
        "duration": 24,
        "start_time": "2022-10-29T12:12:57.581Z"
      },
      {
        "duration": 50,
        "start_time": "2022-10-29T12:12:57.606Z"
      },
      {
        "duration": 7,
        "start_time": "2022-10-29T12:16:02.239Z"
      },
      {
        "duration": 10,
        "start_time": "2022-10-29T12:16:18.612Z"
      },
      {
        "duration": 78,
        "start_time": "2022-10-29T12:16:46.346Z"
      },
      {
        "duration": 22,
        "start_time": "2022-10-29T12:16:46.426Z"
      },
      {
        "duration": 28,
        "start_time": "2022-10-29T12:16:46.450Z"
      },
      {
        "duration": 9,
        "start_time": "2022-10-29T12:16:46.480Z"
      },
      {
        "duration": 9,
        "start_time": "2022-10-29T12:16:46.490Z"
      },
      {
        "duration": 63,
        "start_time": "2022-10-29T12:16:46.500Z"
      },
      {
        "duration": 4,
        "start_time": "2022-10-29T12:16:46.565Z"
      },
      {
        "duration": 12,
        "start_time": "2022-10-29T12:16:46.570Z"
      },
      {
        "duration": 4,
        "start_time": "2022-10-29T12:16:46.583Z"
      },
      {
        "duration": 7,
        "start_time": "2022-10-29T12:16:46.589Z"
      },
      {
        "duration": 5,
        "start_time": "2022-10-29T12:16:46.597Z"
      },
      {
        "duration": 68,
        "start_time": "2022-10-29T12:16:46.604Z"
      },
      {
        "duration": 9,
        "start_time": "2022-10-29T12:16:46.674Z"
      },
      {
        "duration": 4,
        "start_time": "2022-10-29T12:16:46.684Z"
      },
      {
        "duration": 13,
        "start_time": "2022-10-29T12:16:46.689Z"
      },
      {
        "duration": 56,
        "start_time": "2022-10-29T12:16:46.704Z"
      },
      {
        "duration": 18,
        "start_time": "2022-10-29T12:16:46.761Z"
      },
      {
        "duration": 3,
        "start_time": "2022-10-29T12:16:46.781Z"
      },
      {
        "duration": 11,
        "start_time": "2022-10-29T12:16:46.786Z"
      },
      {
        "duration": 5,
        "start_time": "2022-10-29T12:16:46.798Z"
      },
      {
        "duration": 3,
        "start_time": "2022-10-29T12:16:46.805Z"
      },
      {
        "duration": 23,
        "start_time": "2022-10-29T12:16:46.809Z"
      },
      {
        "duration": 34,
        "start_time": "2022-10-29T12:16:46.833Z"
      },
      {
        "duration": 25,
        "start_time": "2022-10-29T12:16:46.868Z"
      },
      {
        "duration": 40,
        "start_time": "2022-10-29T12:16:46.894Z"
      },
      {
        "duration": 44,
        "start_time": "2022-10-29T12:16:46.935Z"
      },
      {
        "duration": 28,
        "start_time": "2022-10-29T12:25:17.712Z"
      },
      {
        "duration": 87,
        "start_time": "2022-10-29T12:32:03.471Z"
      },
      {
        "duration": 15,
        "start_time": "2022-10-29T12:32:03.560Z"
      },
      {
        "duration": 16,
        "start_time": "2022-10-29T12:32:03.577Z"
      },
      {
        "duration": 9,
        "start_time": "2022-10-29T12:32:03.594Z"
      },
      {
        "duration": 44,
        "start_time": "2022-10-29T12:32:03.604Z"
      },
      {
        "duration": 32,
        "start_time": "2022-10-29T12:32:03.650Z"
      },
      {
        "duration": 3,
        "start_time": "2022-10-29T12:32:03.683Z"
      },
      {
        "duration": 11,
        "start_time": "2022-10-29T12:32:03.687Z"
      },
      {
        "duration": 4,
        "start_time": "2022-10-29T12:32:03.700Z"
      },
      {
        "duration": 26,
        "start_time": "2022-10-29T12:32:03.705Z"
      },
      {
        "duration": 6,
        "start_time": "2022-10-29T12:32:03.744Z"
      },
      {
        "duration": 33,
        "start_time": "2022-10-29T12:32:03.751Z"
      },
      {
        "duration": 9,
        "start_time": "2022-10-29T12:32:03.786Z"
      },
      {
        "duration": 5,
        "start_time": "2022-10-29T12:32:03.796Z"
      },
      {
        "duration": 11,
        "start_time": "2022-10-29T12:32:03.802Z"
      },
      {
        "duration": 60,
        "start_time": "2022-10-29T12:32:03.814Z"
      },
      {
        "duration": 18,
        "start_time": "2022-10-29T12:32:03.875Z"
      },
      {
        "duration": 3,
        "start_time": "2022-10-29T12:32:03.895Z"
      },
      {
        "duration": 15,
        "start_time": "2022-10-29T12:32:03.900Z"
      },
      {
        "duration": 37,
        "start_time": "2022-10-29T12:32:03.916Z"
      },
      {
        "duration": 3,
        "start_time": "2022-10-29T12:32:03.955Z"
      },
      {
        "duration": 13,
        "start_time": "2022-10-29T12:32:03.959Z"
      },
      {
        "duration": 26,
        "start_time": "2022-10-29T12:32:03.973Z"
      },
      {
        "duration": 47,
        "start_time": "2022-10-29T12:32:04.000Z"
      },
      {
        "duration": 25,
        "start_time": "2022-10-29T12:32:04.048Z"
      },
      {
        "duration": 26,
        "start_time": "2022-10-29T12:32:04.075Z"
      },
      {
        "duration": 9,
        "start_time": "2022-10-29T12:33:42.240Z"
      },
      {
        "duration": 85,
        "start_time": "2022-10-29T12:34:01.301Z"
      },
      {
        "duration": 13,
        "start_time": "2022-10-29T12:34:01.388Z"
      },
      {
        "duration": 36,
        "start_time": "2022-10-29T12:34:01.403Z"
      },
      {
        "duration": 26,
        "start_time": "2022-10-29T12:34:01.449Z"
      },
      {
        "duration": 12,
        "start_time": "2022-10-29T12:34:01.477Z"
      },
      {
        "duration": 23,
        "start_time": "2022-10-29T12:34:01.490Z"
      },
      {
        "duration": 47,
        "start_time": "2022-10-29T12:34:01.514Z"
      },
      {
        "duration": 3,
        "start_time": "2022-10-29T12:34:01.562Z"
      },
      {
        "duration": 22,
        "start_time": "2022-10-29T12:34:01.567Z"
      },
      {
        "duration": 13,
        "start_time": "2022-10-29T12:34:01.591Z"
      },
      {
        "duration": 28,
        "start_time": "2022-10-29T12:34:01.606Z"
      },
      {
        "duration": 28,
        "start_time": "2022-10-29T12:34:01.635Z"
      },
      {
        "duration": 37,
        "start_time": "2022-10-29T12:34:01.664Z"
      },
      {
        "duration": 9,
        "start_time": "2022-10-29T12:34:01.702Z"
      },
      {
        "duration": 5,
        "start_time": "2022-10-29T12:34:01.713Z"
      },
      {
        "duration": 33,
        "start_time": "2022-10-29T12:34:01.720Z"
      },
      {
        "duration": 24,
        "start_time": "2022-10-29T12:34:01.755Z"
      },
      {
        "duration": 18,
        "start_time": "2022-10-29T12:34:01.781Z"
      },
      {
        "duration": 3,
        "start_time": "2022-10-29T12:34:01.801Z"
      },
      {
        "duration": 42,
        "start_time": "2022-10-29T12:34:01.806Z"
      },
      {
        "duration": 23,
        "start_time": "2022-10-29T12:34:01.850Z"
      },
      {
        "duration": 6,
        "start_time": "2022-10-29T12:34:01.875Z"
      },
      {
        "duration": 13,
        "start_time": "2022-10-29T12:34:01.882Z"
      },
      {
        "duration": 45,
        "start_time": "2022-10-29T12:34:01.896Z"
      },
      {
        "duration": 27,
        "start_time": "2022-10-29T12:34:01.944Z"
      },
      {
        "duration": 47,
        "start_time": "2022-10-29T12:34:01.973Z"
      },
      {
        "duration": 35,
        "start_time": "2022-10-29T12:34:02.028Z"
      },
      {
        "duration": 85,
        "start_time": "2022-10-29T12:36:59.297Z"
      },
      {
        "duration": 14,
        "start_time": "2022-10-29T12:36:59.383Z"
      },
      {
        "duration": 33,
        "start_time": "2022-10-29T12:36:59.398Z"
      },
      {
        "duration": 16,
        "start_time": "2022-10-29T12:36:59.433Z"
      },
      {
        "duration": 10,
        "start_time": "2022-10-29T12:36:59.451Z"
      },
      {
        "duration": 19,
        "start_time": "2022-10-29T12:36:59.462Z"
      },
      {
        "duration": 64,
        "start_time": "2022-10-29T12:36:59.483Z"
      },
      {
        "duration": 3,
        "start_time": "2022-10-29T12:36:59.550Z"
      },
      {
        "duration": 10,
        "start_time": "2022-10-29T12:36:59.556Z"
      },
      {
        "duration": 4,
        "start_time": "2022-10-29T12:36:59.569Z"
      },
      {
        "duration": 9,
        "start_time": "2022-10-29T12:36:59.574Z"
      },
      {
        "duration": 4,
        "start_time": "2022-10-29T12:36:59.584Z"
      },
      {
        "duration": 70,
        "start_time": "2022-10-29T12:36:59.589Z"
      },
      {
        "duration": 11,
        "start_time": "2022-10-29T12:36:59.660Z"
      },
      {
        "duration": 6,
        "start_time": "2022-10-29T12:36:59.672Z"
      },
      {
        "duration": 14,
        "start_time": "2022-10-29T12:36:59.679Z"
      },
      {
        "duration": 17,
        "start_time": "2022-10-29T12:36:59.695Z"
      },
      {
        "duration": 31,
        "start_time": "2022-10-29T12:36:59.723Z"
      },
      {
        "duration": 3,
        "start_time": "2022-10-29T12:36:59.757Z"
      },
      {
        "duration": 13,
        "start_time": "2022-10-29T12:36:59.761Z"
      },
      {
        "duration": 5,
        "start_time": "2022-10-29T12:36:59.775Z"
      },
      {
        "duration": 5,
        "start_time": "2022-10-29T12:36:59.781Z"
      },
      {
        "duration": 9,
        "start_time": "2022-10-29T12:36:59.787Z"
      },
      {
        "duration": 52,
        "start_time": "2022-10-29T12:36:59.798Z"
      },
      {
        "duration": 25,
        "start_time": "2022-10-29T12:36:59.852Z"
      },
      {
        "duration": 24,
        "start_time": "2022-10-29T12:36:59.878Z"
      },
      {
        "duration": 56,
        "start_time": "2022-10-29T12:36:59.903Z"
      },
      {
        "duration": 72,
        "start_time": "2022-10-29T12:40:59.542Z"
      },
      {
        "duration": 22,
        "start_time": "2022-10-29T12:40:59.616Z"
      },
      {
        "duration": 25,
        "start_time": "2022-10-29T12:40:59.640Z"
      },
      {
        "duration": 10,
        "start_time": "2022-10-29T12:40:59.667Z"
      },
      {
        "duration": 12,
        "start_time": "2022-10-29T12:40:59.679Z"
      },
      {
        "duration": 22,
        "start_time": "2022-10-29T12:40:59.692Z"
      },
      {
        "duration": 16,
        "start_time": "2022-10-29T12:40:59.725Z"
      },
      {
        "duration": 1,
        "start_time": "2022-10-29T12:40:59.743Z"
      },
      {
        "duration": 0,
        "start_time": "2022-10-29T12:40:59.745Z"
      },
      {
        "duration": 0,
        "start_time": "2022-10-29T12:40:59.746Z"
      },
      {
        "duration": 0,
        "start_time": "2022-10-29T12:40:59.748Z"
      },
      {
        "duration": 0,
        "start_time": "2022-10-29T12:40:59.749Z"
      },
      {
        "duration": 7,
        "start_time": "2022-10-29T12:40:59.752Z"
      },
      {
        "duration": 32,
        "start_time": "2022-10-29T12:40:59.761Z"
      },
      {
        "duration": 46,
        "start_time": "2022-10-29T12:40:59.795Z"
      },
      {
        "duration": 20,
        "start_time": "2022-10-29T12:40:59.843Z"
      },
      {
        "duration": 0,
        "start_time": "2022-10-29T12:40:59.865Z"
      },
      {
        "duration": 0,
        "start_time": "2022-10-29T12:40:59.866Z"
      },
      {
        "duration": 0,
        "start_time": "2022-10-29T12:40:59.868Z"
      },
      {
        "duration": 0,
        "start_time": "2022-10-29T12:40:59.869Z"
      },
      {
        "duration": 0,
        "start_time": "2022-10-29T12:40:59.870Z"
      },
      {
        "duration": 5,
        "start_time": "2022-10-29T12:40:59.878Z"
      },
      {
        "duration": 3,
        "start_time": "2022-10-29T12:40:59.894Z"
      },
      {
        "duration": 33,
        "start_time": "2022-10-29T12:40:59.904Z"
      },
      {
        "duration": 27,
        "start_time": "2022-10-29T12:40:59.947Z"
      },
      {
        "duration": 25,
        "start_time": "2022-10-29T12:40:59.975Z"
      },
      {
        "duration": 22,
        "start_time": "2022-10-29T12:41:00.002Z"
      },
      {
        "duration": 41,
        "start_time": "2022-10-29T12:41:00.042Z"
      },
      {
        "duration": 104,
        "start_time": "2022-10-29T12:42:40.902Z"
      },
      {
        "duration": 23,
        "start_time": "2022-10-29T12:42:41.008Z"
      },
      {
        "duration": 25,
        "start_time": "2022-10-29T12:42:41.034Z"
      },
      {
        "duration": 14,
        "start_time": "2022-10-29T12:42:41.062Z"
      },
      {
        "duration": 10,
        "start_time": "2022-10-29T12:42:41.078Z"
      },
      {
        "duration": 53,
        "start_time": "2022-10-29T12:42:41.090Z"
      },
      {
        "duration": 5,
        "start_time": "2022-10-29T12:42:41.144Z"
      },
      {
        "duration": 34,
        "start_time": "2022-10-29T12:42:41.151Z"
      },
      {
        "duration": 3,
        "start_time": "2022-10-29T12:42:41.186Z"
      },
      {
        "duration": 17,
        "start_time": "2022-10-29T12:42:41.191Z"
      },
      {
        "duration": 18,
        "start_time": "2022-10-29T12:42:41.209Z"
      },
      {
        "duration": 10,
        "start_time": "2022-10-29T12:42:41.228Z"
      },
      {
        "duration": 9,
        "start_time": "2022-10-29T12:42:41.240Z"
      },
      {
        "duration": 33,
        "start_time": "2022-10-29T12:42:41.251Z"
      },
      {
        "duration": 10,
        "start_time": "2022-10-29T12:42:41.285Z"
      },
      {
        "duration": 5,
        "start_time": "2022-10-29T12:42:41.296Z"
      },
      {
        "duration": 36,
        "start_time": "2022-10-29T12:42:41.302Z"
      },
      {
        "duration": 19,
        "start_time": "2022-10-29T12:42:41.341Z"
      },
      {
        "duration": 19,
        "start_time": "2022-10-29T12:42:41.361Z"
      },
      {
        "duration": 4,
        "start_time": "2022-10-29T12:42:41.382Z"
      },
      {
        "duration": 13,
        "start_time": "2022-10-29T12:42:41.387Z"
      },
      {
        "duration": 31,
        "start_time": "2022-10-29T12:42:41.402Z"
      },
      {
        "duration": 4,
        "start_time": "2022-10-29T12:42:41.435Z"
      },
      {
        "duration": 15,
        "start_time": "2022-10-29T12:42:41.441Z"
      },
      {
        "duration": 27,
        "start_time": "2022-10-29T12:42:41.458Z"
      },
      {
        "duration": 45,
        "start_time": "2022-10-29T12:42:41.486Z"
      },
      {
        "duration": 26,
        "start_time": "2022-10-29T12:42:41.533Z"
      },
      {
        "duration": 32,
        "start_time": "2022-10-29T12:42:41.562Z"
      },
      {
        "duration": 21,
        "start_time": "2022-10-29T13:34:41.660Z"
      },
      {
        "duration": 6,
        "start_time": "2022-10-29T13:35:31.535Z"
      },
      {
        "duration": 7,
        "start_time": "2022-10-29T13:39:32.947Z"
      },
      {
        "duration": 6,
        "start_time": "2022-10-29T13:41:59.409Z"
      },
      {
        "duration": 4,
        "start_time": "2022-10-29T13:43:39.616Z"
      },
      {
        "duration": 7,
        "start_time": "2022-10-29T13:43:41.504Z"
      },
      {
        "duration": 4,
        "start_time": "2022-10-29T13:44:14.144Z"
      },
      {
        "duration": 6,
        "start_time": "2022-10-29T13:44:39.760Z"
      },
      {
        "duration": 63,
        "start_time": "2022-10-29T13:58:18.748Z"
      },
      {
        "duration": 44,
        "start_time": "2022-10-29T13:58:30.761Z"
      },
      {
        "duration": 41,
        "start_time": "2022-10-29T13:58:51.698Z"
      },
      {
        "duration": 45,
        "start_time": "2022-10-29T13:59:35.511Z"
      },
      {
        "duration": 49,
        "start_time": "2022-10-29T14:00:33.725Z"
      },
      {
        "duration": 83,
        "start_time": "2022-10-29T14:03:29.575Z"
      },
      {
        "duration": 71,
        "start_time": "2022-10-29T14:03:37.077Z"
      },
      {
        "duration": 46,
        "start_time": "2022-10-29T14:04:19.816Z"
      },
      {
        "duration": 41,
        "start_time": "2022-10-29T14:05:19.295Z"
      },
      {
        "duration": 49,
        "start_time": "2022-10-29T14:13:44.222Z"
      },
      {
        "duration": 69,
        "start_time": "2022-10-29T14:13:48.265Z"
      },
      {
        "duration": 14,
        "start_time": "2022-10-29T14:13:48.336Z"
      },
      {
        "duration": 15,
        "start_time": "2022-10-29T14:13:48.351Z"
      },
      {
        "duration": 9,
        "start_time": "2022-10-29T14:13:48.368Z"
      },
      {
        "duration": 37,
        "start_time": "2022-10-29T14:13:48.386Z"
      },
      {
        "duration": 32,
        "start_time": "2022-10-29T14:13:48.425Z"
      },
      {
        "duration": 3,
        "start_time": "2022-10-29T14:13:48.458Z"
      },
      {
        "duration": 7,
        "start_time": "2022-10-29T14:13:48.472Z"
      },
      {
        "duration": 4,
        "start_time": "2022-10-29T14:13:48.504Z"
      },
      {
        "duration": 5,
        "start_time": "2022-10-29T14:13:48.527Z"
      },
      {
        "duration": 4,
        "start_time": "2022-10-29T14:13:48.558Z"
      },
      {
        "duration": 31,
        "start_time": "2022-10-29T14:13:48.583Z"
      },
      {
        "duration": 10,
        "start_time": "2022-10-29T14:13:48.616Z"
      },
      {
        "duration": 3,
        "start_time": "2022-10-29T14:13:48.639Z"
      },
      {
        "duration": 10,
        "start_time": "2022-10-29T14:13:48.667Z"
      },
      {
        "duration": 16,
        "start_time": "2022-10-29T14:13:48.697Z"
      },
      {
        "duration": 17,
        "start_time": "2022-10-29T14:13:48.718Z"
      },
      {
        "duration": 3,
        "start_time": "2022-10-29T14:13:48.745Z"
      },
      {
        "duration": 9,
        "start_time": "2022-10-29T14:13:48.766Z"
      },
      {
        "duration": 6,
        "start_time": "2022-10-29T14:13:48.795Z"
      },
      {
        "duration": 3,
        "start_time": "2022-10-29T14:13:48.820Z"
      },
      {
        "duration": 8,
        "start_time": "2022-10-29T14:13:48.840Z"
      },
      {
        "duration": 31,
        "start_time": "2022-10-29T14:13:48.905Z"
      },
      {
        "duration": 37,
        "start_time": "2022-10-29T14:13:48.938Z"
      },
      {
        "duration": 53,
        "start_time": "2022-10-29T14:13:48.977Z"
      },
      {
        "duration": 31,
        "start_time": "2022-10-29T14:13:49.032Z"
      },
      {
        "duration": 20,
        "start_time": "2022-10-29T14:13:49.065Z"
      },
      {
        "duration": 6,
        "start_time": "2022-10-29T14:13:49.087Z"
      },
      {
        "duration": 32,
        "start_time": "2022-10-29T14:13:49.095Z"
      },
      {
        "duration": 19,
        "start_time": "2022-10-29T14:13:49.129Z"
      },
      {
        "duration": 50,
        "start_time": "2022-10-29T14:13:49.157Z"
      }
    ],
    "colab": {
      "provenance": []
    },
    "kernelspec": {
      "display_name": "Python 3 (ipykernel)",
      "language": "python",
      "name": "python3"
    },
    "language_info": {
      "codemirror_mode": {
        "name": "ipython",
        "version": 3
      },
      "file_extension": ".py",
      "mimetype": "text/x-python",
      "name": "python",
      "nbconvert_exporter": "python",
      "pygments_lexer": "ipython3",
      "version": "3.9.5"
    },
    "toc": {
      "base_numbering": 1,
      "nav_menu": {},
      "number_sections": true,
      "sideBar": true,
      "skip_h1_title": true,
      "title_cell": "Table of Contents",
      "title_sidebar": "Contents",
      "toc_cell": false,
      "toc_position": {},
      "toc_section_display": true,
      "toc_window_display": true
    }
  },
  "nbformat": 4,
  "nbformat_minor": 5
}