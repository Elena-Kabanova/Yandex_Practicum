{
  "cells": [
    {
      "cell_type": "markdown",
      "metadata": {
        "id": "Ij17KZzTvyf0"
      },
      "source": [
        "# Исследование на выявление определяющих успешность игры закономерности.\n",
        "\n",
        "Перед нами данные интернет-магазина «Стримчик», который продаёт по всему миру компьютерные игры. Из открытых источников доступны исторические данные о продажах игр, оценки пользователей и экспертов, жанры и платформы (например, Xbox или PlayStation). Нужно выявить определяющие успешность игры закономерности. Это позволит сделать ставку на потенциально популярный продукт и спланировать рекламные кампании. Перед нами данные до 2016 года. 2016 год не полный, не содержит данные за декабрь."
      ]
    },
    {
      "cell_type": "markdown",
      "metadata": {
        "id": "uZXU_tWjvygD"
      },
      "source": [
        "### Шаг. Откроем файл с данными и изучим общую информацию. "
      ]
    },
    {
      "cell_type": "code",
      "execution_count": null,
      "metadata": {
        "id": "w5Ap-LpwvygI",
        "outputId": "978d5a4d-cfbc-4e3e-8005-117b12a6906d"
      },
      "outputs": [
        {
          "data": {
            "text/plain": [
              "<bound method DataFrame.info of                                 Name Platform  Year_of_Release         Genre  \\\n",
              "0                         Wii Sports      Wii           2006.0        Sports   \n",
              "1                  Super Mario Bros.      NES           1985.0      Platform   \n",
              "2                     Mario Kart Wii      Wii           2008.0        Racing   \n",
              "3                  Wii Sports Resort      Wii           2009.0        Sports   \n",
              "4           Pokemon Red/Pokemon Blue       GB           1996.0  Role-Playing   \n",
              "...                              ...      ...              ...           ...   \n",
              "16710  Samurai Warriors: Sanada Maru      PS3           2016.0        Action   \n",
              "16711               LMA Manager 2007     X360           2006.0        Sports   \n",
              "16712        Haitaka no Psychedelica      PSV           2016.0     Adventure   \n",
              "16713               Spirits & Spells      GBA           2003.0      Platform   \n",
              "16714            Winning Post 8 2016      PSV           2016.0    Simulation   \n",
              "\n",
              "       NA_sales  EU_sales  JP_sales  Other_sales  Critic_Score User_Score  \\\n",
              "0         41.36     28.96      3.77         8.45          76.0          8   \n",
              "1         29.08      3.58      6.81         0.77           NaN        NaN   \n",
              "2         15.68     12.76      3.79         3.29          82.0        8.3   \n",
              "3         15.61     10.93      3.28         2.95          80.0          8   \n",
              "4         11.27      8.89     10.22         1.00           NaN        NaN   \n",
              "...         ...       ...       ...          ...           ...        ...   \n",
              "16710      0.00      0.00      0.01         0.00           NaN        NaN   \n",
              "16711      0.00      0.01      0.00         0.00           NaN        NaN   \n",
              "16712      0.00      0.00      0.01         0.00           NaN        NaN   \n",
              "16713      0.01      0.00      0.00         0.00           NaN        NaN   \n",
              "16714      0.00      0.00      0.01         0.00           NaN        NaN   \n",
              "\n",
              "      Rating  \n",
              "0          E  \n",
              "1        NaN  \n",
              "2          E  \n",
              "3          E  \n",
              "4        NaN  \n",
              "...      ...  \n",
              "16710    NaN  \n",
              "16711    NaN  \n",
              "16712    NaN  \n",
              "16713    NaN  \n",
              "16714    NaN  \n",
              "\n",
              "[16715 rows x 11 columns]>"
            ]
          },
          "execution_count": 70,
          "metadata": {},
          "output_type": "execute_result"
        }
      ],
      "source": [
        "#импортируем библиотеку\n",
        "#сохраним в переменную датафрейм, выведем информацию\n",
        "import pandas as pd\n",
        "import datetime\n",
        "import matplotlib.pyplot as plt\n",
        "from scipy import stats as st\n",
        "import numpy as np\n",
        "import seaborn as sns\n",
        "\n",
        "data = pd.read_csv('/datasets/games.csv') \n",
        "data.info "
      ]
    },
    {
      "cell_type": "markdown",
      "metadata": {
        "id": "wdVjFwCGvygb"
      },
      "source": [
        " Имеем датасет с 11 колонками и 16715 строк. видно, наглядно что имеются пропуски в колонках, названия колонок имеют заглавные буквы, года имеют не целые значения. "
      ]
    },
    {
      "cell_type": "markdown",
      "metadata": {
        "id": "hT5QkB3kvygh"
      },
      "source": [
        "### Шаг. Предобработка данных"
      ]
    },
    {
      "cell_type": "code",
      "execution_count": null,
      "metadata": {
        "id": "QIJSdkWavygn",
        "outputId": "fbb7b197-6a1a-4985-a428-3b0d7fbb5521"
      },
      "outputs": [
        {
          "data": {
            "text/plain": [
              "Index(['name', 'platform', 'year_of_release', 'genre', 'na_sales', 'eu_sales',\n",
              "       'jp_sales', 'other_sales', 'critic_score', 'user_score', 'rating'],\n",
              "      dtype='object')"
            ]
          },
          "execution_count": 2,
          "metadata": {},
          "output_type": "execute_result"
        }
      ],
      "source": [
        "#Заменим названия столбцов (приведем к нижнему регистру)\n",
        "data.columns = data.columns.str.lower()\n",
        "data.columns            "
      ]
    },
    {
      "cell_type": "code",
      "execution_count": null,
      "metadata": {
        "id": "USNxubBuvyg1",
        "outputId": "c91709ee-90d7-4668-aec2-b2254563a828"
      },
      "outputs": [
        {
          "data": {
            "text/plain": [
              "name                object\n",
              "platform            object\n",
              "year_of_release    float64\n",
              "genre               object\n",
              "na_sales           float64\n",
              "eu_sales           float64\n",
              "jp_sales           float64\n",
              "other_sales        float64\n",
              "critic_score       float64\n",
              "user_score          object\n",
              "rating              object\n",
              "dtype: object"
            ]
          },
          "execution_count": 3,
          "metadata": {},
          "output_type": "execute_result"
        }
      ],
      "source": [
        "#изучим типы колонок\n",
        "data.dtypes"
      ]
    },
    {
      "cell_type": "markdown",
      "metadata": {
        "id": "b9FSQrA5vyg7"
      },
      "source": [
        "Примечательно, что в столбце **year_of_release** год выпуска имеет не целое число, также с оценкой критиков в столбце **critic_score— оценка критиков** - значения с точкой,  а **user_score — оценка пользователей** должно быть числом, а имеет тип строки. Переведем столбцы в нужный тип данных. Но для начала изучим пропуски в столбцах."
      ]
    },
    {
      "cell_type": "code",
      "execution_count": null,
      "metadata": {
        "id": "iFbKnyYyvyg9",
        "outputId": "3888fdc1-23e5-40ba-a7bb-820df01af4e2"
      },
      "outputs": [
        {
          "data": {
            "text/plain": [
              "name                0.011965\n",
              "platform            0.000000\n",
              "year_of_release     1.609333\n",
              "genre               0.011965\n",
              "na_sales            0.000000\n",
              "eu_sales            0.000000\n",
              "jp_sales            0.000000\n",
              "other_sales         0.000000\n",
              "critic_score       51.319174\n",
              "user_score         40.089740\n",
              "rating             40.478612\n",
              "dtype: float64"
            ]
          },
          "execution_count": 4,
          "metadata": {},
          "output_type": "execute_result"
        }
      ],
      "source": [
        "#изучим пропуски в датасете, опредилим их долю\n",
        "data.isna().mean()*100"
      ]
    },
    {
      "cell_type": "markdown",
      "metadata": {
        "id": "zKBCmqOMvyhF"
      },
      "source": [
        "В столбцах  **name и genre** очень маленький процент пропусков, поэтому можно удалить эти строки, они не повлияют на наше исследование. В столбце **year_of_release** 1,6% не указано годов выпуска также маленький процент, заменим пустые значения на ноль. В **critic_score, user_score, rating** большой процент пропусков, в первом случае даже больше половины -51,3%, остальные  40%. "
      ]
    },
    {
      "cell_type": "code",
      "execution_count": null,
      "metadata": {
        "id": "HLulx3UBvyhJ"
      },
      "outputs": [],
      "source": [
        "#заполним год выпуска значением 0\n",
        "data['year_of_release'] = data['year_of_release'].fillna(0)"
      ]
    },
    {
      "cell_type": "code",
      "execution_count": null,
      "metadata": {
        "id": "IaL24dIevyhM",
        "outputId": "21bda6f6-0994-4fb7-8625-feca5915a344"
      },
      "outputs": [
        {
          "data": {
            "text/plain": [
              "0        2006\n",
              "1        1985\n",
              "2        2008\n",
              "3        2009\n",
              "4        1996\n",
              "         ... \n",
              "16710    2016\n",
              "16711    2006\n",
              "16712    2016\n",
              "16713    2003\n",
              "16714    2016\n",
              "Name: year_of_release, Length: 16715, dtype: int32"
            ]
          },
          "execution_count": 6,
          "metadata": {},
          "output_type": "execute_result"
        }
      ],
      "source": [
        "#переведем в целочисленный тип столбец с годами\n",
        "data['year_of_release'] = data['year_of_release'].astype('int32')\n",
        "data['year_of_release']"
      ]
    },
    {
      "cell_type": "code",
      "execution_count": null,
      "metadata": {
        "id": "EpF2z_b9vyhT",
        "outputId": "09a2ff94-b05b-4c96-a3b2-4af4f8fcf2ed"
      },
      "outputs": [
        {
          "data": {
            "text/plain": [
              "0"
            ]
          },
          "execution_count": 7,
          "metadata": {},
          "output_type": "execute_result"
        }
      ],
      "source": [
        "#удаление строк с пропуском в столбцах 'name', 'genre'\n",
        "data = data.dropna(subset=['name', 'genre'], axis = 0)\n",
        "data['name'].isna().sum()"
      ]
    },
    {
      "cell_type": "code",
      "execution_count": null,
      "metadata": {
        "id": "1nDXcxTVvyhX",
        "outputId": "06e869ff-ba65-4370-bfc5-9bed36280e48"
      },
      "outputs": [
        {
          "data": {
            "text/plain": [
              "0"
            ]
          },
          "execution_count": 8,
          "metadata": {},
          "output_type": "execute_result"
        }
      ],
      "source": [
        "#проверим пропуски в столбце genre\n",
        "data['genre'].isna().sum()"
      ]
    },
    {
      "cell_type": "code",
      "execution_count": null,
      "metadata": {
        "id": "m-jn9nawvyha",
        "outputId": "1522fba4-9ee7-4283-d732-534de2f2bd73"
      },
      "outputs": [
        {
          "data": {
            "text/plain": [
              "array(['Sports', 'Platform', 'Racing', 'Role-Playing', 'Puzzle', 'Misc',\n",
              "       'Shooter', 'Simulation', 'Action', 'Fighting', 'Adventure',\n",
              "       'Strategy'], dtype=object)"
            ]
          },
          "execution_count": 9,
          "metadata": {},
          "output_type": "execute_result"
        }
      ],
      "source": [
        "#проверим значения genre на уникальность\n",
        "data['genre'].unique()"
      ]
    },
    {
      "cell_type": "markdown",
      "metadata": {
        "id": "kH27jFWWvyhe"
      },
      "source": [
        "Жанры не имеют каких то аномалий, поэтому не нуждаются в дополнительном преобразовании."
      ]
    },
    {
      "cell_type": "code",
      "execution_count": null,
      "metadata": {
        "id": "rNbCW0DLvyhg",
        "outputId": "2af88f93-b6be-4c70-cd17-1c8c9ef1f089"
      },
      "outputs": [
        {
          "data": {
            "text/plain": [
              "array(['8', nan, '8.3', '8.5', '6.6', '8.4', '8.6', '7.7', '6.3', '7.4',\n",
              "       '8.2', '9', '7.9', '8.1', '8.7', '7.1', '3.4', '5.3', '4.8', '3.2',\n",
              "       '8.9', '6.4', '7.8', '7.5', '2.6', '7.2', '9.2', '7', '7.3', '4.3',\n",
              "       '7.6', '5.7', '5', '9.1', '6.5', 'tbd', '8.8', '6.9', '9.4', '6.8',\n",
              "       '6.1', '6.7', '5.4', '4', '4.9', '4.5', '9.3', '6.2', '4.2', '6',\n",
              "       '3.7', '4.1', '5.8', '5.6', '5.5', '4.4', '4.6', '5.9', '3.9',\n",
              "       '3.1', '2.9', '5.2', '3.3', '4.7', '5.1', '3.5', '2.5', '1.9', '3',\n",
              "       '2.7', '2.2', '2', '9.5', '2.1', '3.6', '2.8', '1.8', '3.8', '0',\n",
              "       '1.6', '9.6', '2.4', '1.7', '1.1', '0.3', '1.5', '0.7', '1.2',\n",
              "       '2.3', '0.5', '1.3', '0.2', '0.6', '1.4', '0.9', '1', '9.7'],\n",
              "      dtype=object)"
            ]
          },
          "execution_count": 10,
          "metadata": {},
          "output_type": "execute_result"
        }
      ],
      "source": [
        "#изучим уникальные значения оценки пользователей\n",
        "data['user_score'].unique()"
      ]
    },
    {
      "cell_type": "markdown",
      "metadata": {
        "id": "kxdMcnZUvyhj"
      },
      "source": [
        "Интересно, что среди чисел оценки есть оценка -'tbd'. Посмотрим какое количество значений с таким значением"
      ]
    },
    {
      "cell_type": "code",
      "execution_count": null,
      "metadata": {
        "scrolled": true,
        "id": "6eYScvjqvyhm",
        "outputId": "a9926751-c7cf-4c49-c33c-0377026393e0"
      },
      "outputs": [
        {
          "data": {
            "text/plain": [
              "tbd    2424\n",
              "7.8     324\n",
              "8       290\n",
              "8.2     282\n",
              "8.3     254\n",
              "       ... \n",
              "0.7       2\n",
              "1.5       2\n",
              "1.9       2\n",
              "9.7       1\n",
              "0         1\n",
              "Name: user_score, Length: 96, dtype: int64"
            ]
          },
          "execution_count": 11,
          "metadata": {},
          "output_type": "execute_result"
        }
      ],
      "source": [
        "#посчитаем количество разных оценок клиента\n",
        "data['user_score'].value_counts()"
      ]
    },
    {
      "cell_type": "markdown",
      "metadata": {
        "id": "xVSDj5tNvyhq"
      },
      "source": [
        "**tbd** занимает по количеству оценок самое первое место и составляет больше всех значений -2424. To Be Determined, то есть \"Будет определено\". Очень часто подобное сокращение можно встретить в анонсах компьютерных игр в графе \"Дата выхода\". Когда разработчик той или иной игры уже сообщил о том, что она готовится к выходу, но пока еще не может назвать точную дату, именно это сокращение и используется. Этот вариант самый распространенный."
      ]
    },
    {
      "cell_type": "code",
      "execution_count": null,
      "metadata": {
        "id": "-PJ7X_ilvyhs",
        "outputId": "c4d13f30-6a41-4252-eb8a-666d55ad2831"
      },
      "outputs": [
        {
          "data": {
            "text/plain": [
              "unknown    14289\n",
              "tbd         2424\n",
              "Name: user_score_tbd, dtype: int64"
            ]
          },
          "execution_count": 12,
          "metadata": {},
          "output_type": "execute_result"
        }
      ],
      "source": [
        "#создадим отдельный столбец с tbd оценкой пользователей\n",
        "pd.set_option('mode.chained_assignment', None)\n",
        "data['user_score_tbd'] = data.loc[data['user_score'] == 'tbd', 'user_score']\n",
        "data['user_score_tbd'] = data['user_score_tbd'].fillna('unknown')\n",
        "data['user_score_tbd'].value_counts()"
      ]
    },
    {
      "cell_type": "markdown",
      "metadata": {
        "id": "F9q6F-VCvyhy"
      },
      "source": [
        "Вынесем в отдельный столбец игры,  ожидающие оценку со значением **tbd**."
      ]
    },
    {
      "cell_type": "code",
      "execution_count": null,
      "metadata": {
        "id": "os6366fXvyh1"
      },
      "outputs": [],
      "source": [
        "#заменим значения в user_score с tbd на ноль\n",
        "data.loc[data['user_score'] == 'tbd', 'user_score'] =\\\n",
        "data.loc[data['user_score'] == 0, 'user_score']"
      ]
    },
    {
      "cell_type": "code",
      "execution_count": null,
      "metadata": {
        "id": "e7o_5WH_vyh4"
      },
      "outputs": [],
      "source": [
        "#заполним пропускив user_score нулевыми значениями\n",
        "data['user_score'] = data['user_score'].fillna(0)"
      ]
    },
    {
      "cell_type": "code",
      "execution_count": null,
      "metadata": {
        "id": "kaeIgpXKvyh9",
        "outputId": "64beb401-a2b9-4905-ba62-a0548fd80c43"
      },
      "outputs": [
        {
          "data": {
            "text/plain": [
              "0"
            ]
          },
          "execution_count": 15,
          "metadata": {},
          "output_type": "execute_result"
        }
      ],
      "source": [
        "#проверим столбец user_score на наличие пропусков\n",
        "data['user_score'].isna().sum()"
      ]
    },
    {
      "cell_type": "code",
      "execution_count": null,
      "metadata": {
        "id": "BD9hOT1fvyiA"
      },
      "outputs": [],
      "source": [
        "#переведем столбец user_score в тип float64\n",
        "data['user_score'] = data['user_score'].astype('float32')"
      ]
    },
    {
      "cell_type": "markdown",
      "metadata": {
        "id": "XBpsQ3C2vyiU"
      },
      "source": [
        "Заменим значения tbd и пустые на ноль, т.к. мы их вынесли в другой столбец. Пропуски заполнили также на ноль,т.к. скорее всего это игры просто не имеющие оценок пользователей. Это необходимо, чтобы перевести столбец к типу float64, для удобства построения графиков и обработки данных."
      ]
    },
    {
      "cell_type": "code",
      "execution_count": null,
      "metadata": {
        "id": "n_AJwhtevyiW",
        "outputId": "c4d1b294-5c1b-4832-e8a3-8dbdeaae32be"
      },
      "outputs": [
        {
          "data": {
            "text/plain": [
              "array([76., nan, 82., 80., 89., 58., 87., 91., 61., 97., 95., 77., 88.,\n",
              "       83., 94., 93., 85., 86., 98., 96., 90., 84., 73., 74., 78., 92.,\n",
              "       71., 72., 68., 62., 49., 67., 81., 66., 56., 79., 70., 59., 64.,\n",
              "       75., 60., 63., 69., 50., 25., 42., 44., 55., 48., 57., 29., 47.,\n",
              "       65., 54., 20., 53., 37., 38., 33., 52., 30., 32., 43., 45., 51.,\n",
              "       40., 46., 39., 34., 35., 41., 36., 28., 31., 27., 26., 19., 23.,\n",
              "       24., 21., 17., 22., 13.])"
            ]
          },
          "execution_count": 17,
          "metadata": {},
          "output_type": "execute_result"
        }
      ],
      "source": [
        "#изучим столбец critic_score на уникальные значения\n",
        "data['critic_score'].unique()"
      ]
    },
    {
      "cell_type": "code",
      "execution_count": null,
      "metadata": {
        "id": "u40IzvFtvyiZ"
      },
      "outputs": [],
      "source": [
        "#заменим пустые значение critic_score на ноль\n",
        "data['critic_score'] = data['critic_score'].fillna(0)"
      ]
    },
    {
      "cell_type": "code",
      "execution_count": null,
      "metadata": {
        "id": "xJ-Xb025vyib",
        "outputId": "a004d95d-6cb0-4bea-98ec-87f7b1b8dd45"
      },
      "outputs": [
        {
          "data": {
            "text/plain": [
              "0"
            ]
          },
          "execution_count": 19,
          "metadata": {},
          "output_type": "execute_result"
        }
      ],
      "source": [
        "#проверим пропуски в столбце critic_score\n",
        "data['critic_score'].isna().sum()"
      ]
    },
    {
      "cell_type": "code",
      "execution_count": null,
      "metadata": {
        "id": "czqPwovnvyif",
        "outputId": "d8504b24-f9ba-4682-f407-50d73c3dbfe3"
      },
      "outputs": [
        {
          "data": {
            "text/plain": [
              "0        76.0\n",
              "1         0.0\n",
              "2        82.0\n",
              "3        80.0\n",
              "4         0.0\n",
              "         ... \n",
              "16710     0.0\n",
              "16711     0.0\n",
              "16712     0.0\n",
              "16713     0.0\n",
              "16714     0.0\n",
              "Name: critic_score, Length: 16713, dtype: float32"
            ]
          },
          "execution_count": 20,
          "metadata": {},
          "output_type": "execute_result"
        }
      ],
      "source": [
        "#переведем в целочисленный тип столбец critic_score\n",
        "data['critic_score'] = data['critic_score'].astype('float32')\n",
        "data['critic_score']"
      ]
    },
    {
      "cell_type": "code",
      "execution_count": null,
      "metadata": {
        "id": "PnSY5HHTvyij",
        "outputId": "7f8882da-d351-4c46-cc21-4b8e17b0d919"
      },
      "outputs": [
        {
          "data": {
            "text/plain": [
              "array(['E', nan, 'M', 'T', 'E10+', 'K-A', 'AO', 'EC', 'RP'], dtype=object)"
            ]
          },
          "execution_count": 21,
          "metadata": {},
          "output_type": "execute_result"
        }
      ],
      "source": [
        "#изучим столбец rating на уникальные значения\n",
        "data['rating'].unique()"
      ]
    },
    {
      "cell_type": "code",
      "execution_count": null,
      "metadata": {
        "id": "OdUJN2xMvyin",
        "outputId": "d6acd695-9b1d-4577-c85a-c32f8f257396"
      },
      "outputs": [
        {
          "data": {
            "text/plain": [
              "unknown    6764\n",
              "E          3990\n",
              "T          2961\n",
              "M          1563\n",
              "E10+       1420\n",
              "EC            8\n",
              "RP            3\n",
              "K-A           3\n",
              "AO            1\n",
              "Name: rating, dtype: int64"
            ]
          },
          "execution_count": 22,
          "metadata": {},
          "output_type": "execute_result"
        }
      ],
      "source": [
        "#заменим пустые значение rating на unknown\n",
        "data['rating'] = data['rating'].fillna('unknown')\n",
        "data['rating'].value_counts()"
      ]
    },
    {
      "cell_type": "code",
      "execution_count": null,
      "metadata": {
        "id": "jUgkNmP2vyit",
        "outputId": "ccf8e042-8401-47f7-e17e-ca55e20100df"
      },
      "outputs": [
        {
          "data": {
            "text/plain": [
              "0"
            ]
          },
          "execution_count": 23,
          "metadata": {},
          "output_type": "execute_result"
        }
      ],
      "source": [
        "#проверим пропуски в столбце rating\n",
        "data['rating'].isna().sum()"
      ]
    },
    {
      "cell_type": "code",
      "execution_count": null,
      "metadata": {
        "id": "VXsCWjlAvyiw",
        "outputId": "03ff7321-bf2e-43e1-dd87-db256089a372"
      },
      "outputs": [
        {
          "data": {
            "text/plain": [
              "name               0.0\n",
              "platform           0.0\n",
              "year_of_release    0.0\n",
              "genre              0.0\n",
              "na_sales           0.0\n",
              "eu_sales           0.0\n",
              "jp_sales           0.0\n",
              "other_sales        0.0\n",
              "critic_score       0.0\n",
              "user_score         0.0\n",
              "rating             0.0\n",
              "user_score_tbd     0.0\n",
              "dtype: float64"
            ]
          },
          "execution_count": 24,
          "metadata": {},
          "output_type": "execute_result"
        }
      ],
      "source": [
        "#изучим пропуски в датасете, опредилим их долю\n",
        "data.isna().mean()*100"
      ]
    },
    {
      "cell_type": "code",
      "execution_count": null,
      "metadata": {
        "id": "yzhnpaL6vyi0",
        "outputId": "3d71f7b4-b25b-4c86-90a0-769248bac53e"
      },
      "outputs": [
        {
          "data": {
            "text/plain": [
              "0        82.54\n",
              "1        40.24\n",
              "2        35.52\n",
              "3        32.77\n",
              "4        31.38\n",
              "         ...  \n",
              "16710     0.01\n",
              "16711     0.01\n",
              "16712     0.01\n",
              "16713     0.01\n",
              "16714     0.01\n",
              "Name: all_sales_sum, Length: 16713, dtype: float64"
            ]
          },
          "execution_count": 25,
          "metadata": {},
          "output_type": "execute_result"
        }
      ],
      "source": [
        "#создадим столбец с суммой от продаж по всем регионам\n",
        "data['all_sales_sum'] = data[['na_sales','eu_sales','jp_sales','other_sales']].sum(axis=1)\n",
        "data['all_sales_sum']"
      ]
    },
    {
      "cell_type": "code",
      "execution_count": null,
      "metadata": {
        "id": "zEfFltRgvyjE",
        "outputId": "ff18bd5b-1b8d-4816-8600-eb27d8d661d2"
      },
      "outputs": [
        {
          "data": {
            "text/plain": [
              "0"
            ]
          },
          "execution_count": 26,
          "metadata": {},
          "output_type": "execute_result"
        }
      ],
      "source": [
        "#проверим на наличие дубликатов датасет\n",
        "data.duplicated().sum()"
      ]
    },
    {
      "cell_type": "markdown",
      "metadata": {
        "id": "S80UKppPvyjH"
      },
      "source": [
        "### Шаг. Проведем исследовательский анализ данных"
      ]
    },
    {
      "cell_type": "code",
      "execution_count": null,
      "metadata": {
        "id": "1fo1luiPvyjK",
        "outputId": "861a8b99-39cc-4f48-ffba-2fb7341f657d"
      },
      "outputs": [
        {
          "data": {
            "image/png": "[encoded data removed]",
            "text/plain": [
              "<Figure size 1800x720 with 1 Axes>"
            ]
          },
          "metadata": {
            "needs_background": "light"
          },
          "output_type": "display_data"
        }
      ],
      "source": [
        "#построим график по сводной таблице - зависимости суммы продаж платформ от года\n",
        "data.groupby(['platform', 'year_of_release'])['all_sales_sum'].sum().unstack('platform')\\\n",
        ".plot(kind='bar', grid=True, figsize=(25, 10), stacked=True)\n",
        "plt.title('All sales sum Platform games vs Years')\n",
        "plt.ylabel('All sales sum')\n",
        "plt.xlabel('Platform games vs Years')\n",
        "plt.show()"
      ]
    },
    {
      "cell_type": "code",
      "execution_count": null,
      "metadata": {
        "id": "AU16YdwUvyjQ",
        "outputId": "696fe7da-c0e1-468f-87c1-40c405232d27"
      },
      "outputs": [
        {
          "data": {
            "text/html": [
              "<div>\n",
              "<style scoped>\n",
              "    .dataframe tbody tr th:only-of-type {\n",
              "        vertical-align: middle;\n",
              "    }\n",
              "\n",
              "    .dataframe tbody tr th {\n",
              "        vertical-align: top;\n",
              "    }\n",
              "\n",
              "    .dataframe thead tr th {\n",
              "        text-align: left;\n",
              "    }\n",
              "\n",
              "    .dataframe thead tr:last-of-type th {\n",
              "        text-align: right;\n",
              "    }\n",
              "</style>\n",
              "<table border=\"1\" class=\"dataframe\">\n",
              "  <thead>\n",
              "    <tr>\n",
              "      <th></th>\n",
              "      <th>all_sales_sum</th>\n",
              "      <th colspan=\"2\" halign=\"left\">year_of_release</th>\n",
              "    </tr>\n",
              "    <tr>\n",
              "      <th></th>\n",
              "      <th>sum</th>\n",
              "      <th>nunique</th>\n",
              "      <th>count</th>\n",
              "    </tr>\n",
              "    <tr>\n",
              "      <th>platform</th>\n",
              "      <th></th>\n",
              "      <th></th>\n",
              "      <th></th>\n",
              "    </tr>\n",
              "  </thead>\n",
              "  <tbody>\n",
              "    <tr>\n",
              "      <th>PS2</th>\n",
              "      <td>1255.77</td>\n",
              "      <td>13</td>\n",
              "      <td>2161</td>\n",
              "    </tr>\n",
              "    <tr>\n",
              "      <th>X360</th>\n",
              "      <td>971.42</td>\n",
              "      <td>13</td>\n",
              "      <td>1262</td>\n",
              "    </tr>\n",
              "    <tr>\n",
              "      <th>PS3</th>\n",
              "      <td>939.65</td>\n",
              "      <td>12</td>\n",
              "      <td>1331</td>\n",
              "    </tr>\n",
              "    <tr>\n",
              "      <th>Wii</th>\n",
              "      <td>907.51</td>\n",
              "      <td>12</td>\n",
              "      <td>1320</td>\n",
              "    </tr>\n",
              "    <tr>\n",
              "      <th>DS</th>\n",
              "      <td>806.12</td>\n",
              "      <td>12</td>\n",
              "      <td>2151</td>\n",
              "    </tr>\n",
              "    <tr>\n",
              "      <th>PS</th>\n",
              "      <td>730.86</td>\n",
              "      <td>11</td>\n",
              "      <td>1197</td>\n",
              "    </tr>\n",
              "    <tr>\n",
              "      <th>GBA</th>\n",
              "      <td>317.85</td>\n",
              "      <td>9</td>\n",
              "      <td>822</td>\n",
              "    </tr>\n",
              "    <tr>\n",
              "      <th>PS4</th>\n",
              "      <td>314.14</td>\n",
              "      <td>4</td>\n",
              "      <td>392</td>\n",
              "    </tr>\n",
              "    <tr>\n",
              "      <th>PSP</th>\n",
              "      <td>294.05</td>\n",
              "      <td>13</td>\n",
              "      <td>1209</td>\n",
              "    </tr>\n",
              "    <tr>\n",
              "      <th>PC</th>\n",
              "      <td>259.52</td>\n",
              "      <td>27</td>\n",
              "      <td>974</td>\n",
              "    </tr>\n",
              "    <tr>\n",
              "      <th>3DS</th>\n",
              "      <td>259.00</td>\n",
              "      <td>7</td>\n",
              "      <td>520</td>\n",
              "    </tr>\n",
              "    <tr>\n",
              "      <th>XB</th>\n",
              "      <td>257.74</td>\n",
              "      <td>10</td>\n",
              "      <td>824</td>\n",
              "    </tr>\n",
              "    <tr>\n",
              "      <th>GB</th>\n",
              "      <td>255.46</td>\n",
              "      <td>14</td>\n",
              "      <td>98</td>\n",
              "    </tr>\n",
              "    <tr>\n",
              "      <th>NES</th>\n",
              "      <td>251.05</td>\n",
              "      <td>12</td>\n",
              "      <td>98</td>\n",
              "    </tr>\n",
              "    <tr>\n",
              "      <th>N64</th>\n",
              "      <td>218.68</td>\n",
              "      <td>8</td>\n",
              "      <td>319</td>\n",
              "    </tr>\n",
              "    <tr>\n",
              "      <th>SNES</th>\n",
              "      <td>200.04</td>\n",
              "      <td>10</td>\n",
              "      <td>239</td>\n",
              "    </tr>\n",
              "    <tr>\n",
              "      <th>GC</th>\n",
              "      <td>198.93</td>\n",
              "      <td>8</td>\n",
              "      <td>556</td>\n",
              "    </tr>\n",
              "    <tr>\n",
              "      <th>XOne</th>\n",
              "      <td>159.32</td>\n",
              "      <td>4</td>\n",
              "      <td>247</td>\n",
              "    </tr>\n",
              "    <tr>\n",
              "      <th>2600</th>\n",
              "      <td>96.98</td>\n",
              "      <td>11</td>\n",
              "      <td>133</td>\n",
              "    </tr>\n",
              "    <tr>\n",
              "      <th>WiiU</th>\n",
              "      <td>82.19</td>\n",
              "      <td>5</td>\n",
              "      <td>147</td>\n",
              "    </tr>\n",
              "    <tr>\n",
              "      <th>PSV</th>\n",
              "      <td>54.07</td>\n",
              "      <td>7</td>\n",
              "      <td>430</td>\n",
              "    </tr>\n",
              "    <tr>\n",
              "      <th>SAT</th>\n",
              "      <td>33.59</td>\n",
              "      <td>6</td>\n",
              "      <td>173</td>\n",
              "    </tr>\n",
              "    <tr>\n",
              "      <th>GEN</th>\n",
              "      <td>28.35</td>\n",
              "      <td>5</td>\n",
              "      <td>27</td>\n",
              "    </tr>\n",
              "    <tr>\n",
              "      <th>DC</th>\n",
              "      <td>15.95</td>\n",
              "      <td>7</td>\n",
              "      <td>52</td>\n",
              "    </tr>\n",
              "    <tr>\n",
              "      <th>SCD</th>\n",
              "      <td>1.86</td>\n",
              "      <td>2</td>\n",
              "      <td>6</td>\n",
              "    </tr>\n",
              "    <tr>\n",
              "      <th>NG</th>\n",
              "      <td>1.44</td>\n",
              "      <td>4</td>\n",
              "      <td>12</td>\n",
              "    </tr>\n",
              "    <tr>\n",
              "      <th>WS</th>\n",
              "      <td>1.42</td>\n",
              "      <td>3</td>\n",
              "      <td>6</td>\n",
              "    </tr>\n",
              "    <tr>\n",
              "      <th>TG16</th>\n",
              "      <td>0.16</td>\n",
              "      <td>1</td>\n",
              "      <td>2</td>\n",
              "    </tr>\n",
              "    <tr>\n",
              "      <th>3DO</th>\n",
              "      <td>0.10</td>\n",
              "      <td>2</td>\n",
              "      <td>3</td>\n",
              "    </tr>\n",
              "    <tr>\n",
              "      <th>GG</th>\n",
              "      <td>0.04</td>\n",
              "      <td>1</td>\n",
              "      <td>1</td>\n",
              "    </tr>\n",
              "    <tr>\n",
              "      <th>PCFX</th>\n",
              "      <td>0.03</td>\n",
              "      <td>1</td>\n",
              "      <td>1</td>\n",
              "    </tr>\n",
              "  </tbody>\n",
              "</table>\n",
              "</div>"
            ],
            "text/plain": [
              "         all_sales_sum year_of_release      \n",
              "                   sum         nunique count\n",
              "platform                                    \n",
              "PS2            1255.77              13  2161\n",
              "X360            971.42              13  1262\n",
              "PS3             939.65              12  1331\n",
              "Wii             907.51              12  1320\n",
              "DS              806.12              12  2151\n",
              "PS              730.86              11  1197\n",
              "GBA             317.85               9   822\n",
              "PS4             314.14               4   392\n",
              "PSP             294.05              13  1209\n",
              "PC              259.52              27   974\n",
              "3DS             259.00               7   520\n",
              "XB              257.74              10   824\n",
              "GB              255.46              14    98\n",
              "NES             251.05              12    98\n",
              "N64             218.68               8   319\n",
              "SNES            200.04              10   239\n",
              "GC              198.93               8   556\n",
              "XOne            159.32               4   247\n",
              "2600             96.98              11   133\n",
              "WiiU             82.19               5   147\n",
              "PSV              54.07               7   430\n",
              "SAT              33.59               6   173\n",
              "GEN              28.35               5    27\n",
              "DC               15.95               7    52\n",
              "SCD               1.86               2     6\n",
              "NG                1.44               4    12\n",
              "WS                1.42               3     6\n",
              "TG16              0.16               1     2\n",
              "3DO               0.10               2     3\n",
              "GG                0.04               1     1\n",
              "PCFX              0.03               1     1"
            ]
          },
          "execution_count": 28,
          "metadata": {},
          "output_type": "execute_result"
        }
      ],
      "source": [
        "#сгруппируем данные по продажам платформ с увеличением по сумме продаж\n",
        "#в таблице также число продаж и количество лет выпуска каждой платформы\n",
        "data.groupby('platform').agg({'all_sales_sum':['sum'], 'year_of_release':['nunique','count']}).\\\n",
        "sort_values(by=('all_sales_sum',   'sum'), ascending=False)"
      ]
    },
    {
      "cell_type": "markdown",
      "metadata": {
        "id": "p5EAPOsnvyjX"
      },
      "source": [
        "По графику видно, что продажи увеличились вдвое и стали рости после 1996 года и до 2008года, затем пошли на снижение. Также до 1990 года было малое число различных платформ, где-то 1-2 шт. Также отметим, что среднее количество лет выпуска платформы 11-12 лет. Дольше всех выпускается платформа  PC - 27 лет. Достаточно высокие суммы продаж и одновременно высокое число продаж у первых 6 платформ."
      ]
    },
    {
      "cell_type": "code",
      "execution_count": null,
      "metadata": {
        "id": "wHatR_UwvyjZ"
      },
      "outputs": [],
      "source": [
        "#сохраним в новый датасет данные с 2012 года\n",
        "data_from_2012 = data.query('year_of_release >= 2012')"
      ]
    },
    {
      "cell_type": "markdown",
      "metadata": {
        "id": "JKlsU7sUvyjg"
      },
      "source": [
        " За **актуальный период** выберем период за последние 5 лет от 2012 года по минимальной границе выбросов release_min_year_of_release, помним, что 2016 год не полный, там отсутствуют данные за декабрь. "
      ]
    },
    {
      "cell_type": "code",
      "execution_count": null,
      "metadata": {
        "id": "ytzSrxvDvyjl",
        "outputId": "3e465233-bf5c-4a05-804a-03c5ec5a89d9"
      },
      "outputs": [
        {
          "data": {
            "image/png": "[encoded data removed]",
            "text/plain": [
              "<Figure size 1800x720 with 1 Axes>"
            ]
          },
          "metadata": {
            "needs_background": "light"
          },
          "output_type": "display_data"
        }
      ],
      "source": [
        "#построим график по сводной таблице - зависимости суммы продаж платформ c 2012 года\n",
        "data_from_2012.groupby(['platform', 'year_of_release'])['all_sales_sum'].sum().unstack('platform')\\\n",
        ".plot(kind='bar', grid=True, figsize=(25, 10), stacked=True)\n",
        "plt.title('All sales sum Platform games vs from 2012 Year')\n",
        "plt.ylabel('All sales sum')\n",
        "plt.xlabel('Platform games vs  Years')\n",
        "plt.show()"
      ]
    },
    {
      "cell_type": "code",
      "execution_count": null,
      "metadata": {
        "scrolled": false,
        "id": "oEy82rJyvyjo",
        "outputId": "d569b8ff-48e1-4aac-dc7d-31efcd140e25"
      },
      "outputs": [
        {
          "data": {
            "text/html": [
              "<div>\n",
              "<style scoped>\n",
              "    .dataframe tbody tr th:only-of-type {\n",
              "        vertical-align: middle;\n",
              "    }\n",
              "\n",
              "    .dataframe tbody tr th {\n",
              "        vertical-align: top;\n",
              "    }\n",
              "\n",
              "    .dataframe thead th {\n",
              "        text-align: right;\n",
              "    }\n",
              "</style>\n",
              "<table border=\"1\" class=\"dataframe\">\n",
              "  <thead>\n",
              "    <tr style=\"text-align: right;\">\n",
              "      <th>platform</th>\n",
              "      <th>3DS</th>\n",
              "      <th>DS</th>\n",
              "      <th>PC</th>\n",
              "      <th>PS3</th>\n",
              "      <th>PS4</th>\n",
              "      <th>PSP</th>\n",
              "      <th>PSV</th>\n",
              "      <th>Wii</th>\n",
              "      <th>WiiU</th>\n",
              "      <th>X360</th>\n",
              "      <th>XOne</th>\n",
              "    </tr>\n",
              "    <tr>\n",
              "      <th>year_of_release</th>\n",
              "      <th></th>\n",
              "      <th></th>\n",
              "      <th></th>\n",
              "      <th></th>\n",
              "      <th></th>\n",
              "      <th></th>\n",
              "      <th></th>\n",
              "      <th></th>\n",
              "      <th></th>\n",
              "      <th></th>\n",
              "      <th></th>\n",
              "    </tr>\n",
              "  </thead>\n",
              "  <tbody>\n",
              "    <tr>\n",
              "      <th>2012</th>\n",
              "      <td>51.36</td>\n",
              "      <td>11.01</td>\n",
              "      <td>23.22</td>\n",
              "      <td>107.36</td>\n",
              "      <td>NaN</td>\n",
              "      <td>7.69</td>\n",
              "      <td>16.19</td>\n",
              "      <td>21.71</td>\n",
              "      <td>17.56</td>\n",
              "      <td>99.74</td>\n",
              "      <td>NaN</td>\n",
              "    </tr>\n",
              "    <tr>\n",
              "      <th>2013</th>\n",
              "      <td>56.57</td>\n",
              "      <td>1.54</td>\n",
              "      <td>12.38</td>\n",
              "      <td>113.25</td>\n",
              "      <td>25.99</td>\n",
              "      <td>3.14</td>\n",
              "      <td>10.59</td>\n",
              "      <td>8.59</td>\n",
              "      <td>21.65</td>\n",
              "      <td>88.58</td>\n",
              "      <td>18.96</td>\n",
              "    </tr>\n",
              "    <tr>\n",
              "      <th>2014</th>\n",
              "      <td>43.76</td>\n",
              "      <td>NaN</td>\n",
              "      <td>13.28</td>\n",
              "      <td>47.76</td>\n",
              "      <td>100.00</td>\n",
              "      <td>0.24</td>\n",
              "      <td>11.90</td>\n",
              "      <td>3.75</td>\n",
              "      <td>22.03</td>\n",
              "      <td>34.74</td>\n",
              "      <td>54.07</td>\n",
              "    </tr>\n",
              "    <tr>\n",
              "      <th>2015</th>\n",
              "      <td>27.78</td>\n",
              "      <td>NaN</td>\n",
              "      <td>8.52</td>\n",
              "      <td>16.82</td>\n",
              "      <td>118.90</td>\n",
              "      <td>0.12</td>\n",
              "      <td>6.25</td>\n",
              "      <td>1.14</td>\n",
              "      <td>16.35</td>\n",
              "      <td>11.96</td>\n",
              "      <td>60.14</td>\n",
              "    </tr>\n",
              "    <tr>\n",
              "      <th>2016</th>\n",
              "      <td>15.14</td>\n",
              "      <td>NaN</td>\n",
              "      <td>5.25</td>\n",
              "      <td>3.60</td>\n",
              "      <td>69.25</td>\n",
              "      <td>NaN</td>\n",
              "      <td>4.25</td>\n",
              "      <td>0.18</td>\n",
              "      <td>4.60</td>\n",
              "      <td>1.52</td>\n",
              "      <td>26.15</td>\n",
              "    </tr>\n",
              "  </tbody>\n",
              "</table>\n",
              "</div>"
            ],
            "text/plain": [
              "platform           3DS     DS     PC     PS3     PS4   PSP    PSV    Wii  \\\n",
              "year_of_release                                                            \n",
              "2012             51.36  11.01  23.22  107.36     NaN  7.69  16.19  21.71   \n",
              "2013             56.57   1.54  12.38  113.25   25.99  3.14  10.59   8.59   \n",
              "2014             43.76    NaN  13.28   47.76  100.00  0.24  11.90   3.75   \n",
              "2015             27.78    NaN   8.52   16.82  118.90  0.12   6.25   1.14   \n",
              "2016             15.14    NaN   5.25    3.60   69.25   NaN   4.25   0.18   \n",
              "\n",
              "platform          WiiU   X360   XOne  \n",
              "year_of_release                       \n",
              "2012             17.56  99.74    NaN  \n",
              "2013             21.65  88.58  18.96  \n",
              "2014             22.03  34.74  54.07  \n",
              "2015             16.35  11.96  60.14  \n",
              "2016              4.60   1.52  26.15  "
            ]
          },
          "execution_count": 31,
          "metadata": {},
          "output_type": "execute_result"
        }
      ],
      "source": [
        "#сводная таблица - зависимости суммы продаж платформ c 2012 года\n",
        "pd.set_option('display.max_columns', None)\n",
        "data_from_2012.groupby(['platform', 'year_of_release'])\\\n",
        "['all_sales_sum'].sum().unstack('platform')"
      ]
    },
    {
      "cell_type": "markdown",
      "metadata": {
        "id": "tXo16ywNvyjr"
      },
      "source": [
        "За **актуальный период** выберем период с 2012 до 2016 год. Имеем ввиду, что 2016 год не полный, там отсутствуют данные за декабрь. По таблице и графику видно, что максимальные продажи к 2015 году имеют платформы PS4 и  XOne, у остальных значения упали в 2015 году, вероятно, что и в 2016 году не догонят уже значения предыдущего года. \n",
        "Также отметим, что эти две платформы появились в 2013 году. Помним, что средняя жизнь одной платформы около 10-12 лет, это значит, что и продажи **PS4 и  XOne** будут расти. \n",
        "\n",
        "Также интересна платформа **PC**, которая выпускается 27 лет и видно, что продажи по ней то высокие, тонзкие, то опять немного растут. Поэтому отметим и ее. Платформа **PSV**  значения не большие, но можно понаблюдать за ней."
      ]
    },
    {
      "cell_type": "code",
      "execution_count": null,
      "metadata": {
        "id": "bZOkECXOvyjt",
        "outputId": "cd2eee1a-5631-42b4-fb4d-921197df7aee"
      },
      "outputs": [
        {
          "data": {
            "image/png": "[encoded data removed]",
            "text/plain": [
              "<Figure size 432x288 with 1 Axes>"
            ]
          },
          "metadata": {
            "needs_background": "light"
          },
          "output_type": "display_data"
        }
      ],
      "source": [
        "#построим диаграмму размаха \n",
        "sns.boxplot(data=data_from_2012, y='all_sales_sum', x='platform')\n",
        "plt.title('Диаграмма размаха для платформ')\n",
        "plt.ylim(0, 2.0)\n",
        "plt.grid(True)\n",
        "plt.show()"
      ]
    },
    {
      "cell_type": "markdown",
      "metadata": {
        "id": "AyqT78t7vyj4"
      },
      "source": [
        " Из диаграмм размаха видно, что медианы и расстояние q1 -1.5*IQR у всех платформ смещены  влево, ближе к нулю, очень много выбросов вверх."
      ]
    },
    {
      "cell_type": "code",
      "execution_count": null,
      "metadata": {
        "id": "rKkbof-Tvyj8",
        "outputId": "4e4e5635-c003-404f-8609-6af242a521e2"
      },
      "outputs": [
        {
          "data": {
            "image/png": "[encoded data removed]",
            "text/plain": [
              "<Figure size 432x288 with 1 Axes>"
            ]
          },
          "metadata": {
            "needs_background": "light"
          },
          "output_type": "display_data"
        }
      ],
      "source": [
        "#построим диаграмму размаха для \"PS4\", \"XOne\", \"PC\"\n",
        "sns.boxplot(data= data_from_2012.query('platform == [\"PS4\", \"XOne\", \"PC\"]'),\\\n",
        "            y='all_sales_sum', x='platform')\n",
        "plt.title('Диаграмма размаха для платформ PS4, XOne, PC')\n",
        "plt.ylim(0, 2)\n",
        "plt.grid(True)\n",
        "plt.show()"
      ]
    },
    {
      "cell_type": "markdown",
      "metadata": {
        "id": "-wsI_HxfvykA"
      },
      "source": [
        " Рассмотрим подробно диаграммы размаха трех интересующих нас платформ **\"PS4\", \"XOne\", \"PC\"**. Отметим, что медианы и минимальная граница выбросов смещены влево, ближе к нулю. Рассстояние от третьего квартиля и макимальная граница выбросов имеют широкий диапазон. Медианы у платформ **PS4 и XOne имеют близкое положение, и сами диаграммы схожи. Когда как у платформы **PC** сама диаграмма мала и медиана около 10. "
      ]
    },
    {
      "cell_type": "code",
      "execution_count": null,
      "metadata": {
        "id": "3gixY6jZvykI",
        "outputId": "3575d44d-8c32-47ff-a331-d560f0242305"
      },
      "outputs": [
        {
          "data": {
            "text/html": [
              "<div>\n",
              "<style scoped>\n",
              "    .dataframe tbody tr th:only-of-type {\n",
              "        vertical-align: middle;\n",
              "    }\n",
              "\n",
              "    .dataframe tbody tr th {\n",
              "        vertical-align: top;\n",
              "    }\n",
              "\n",
              "    .dataframe thead th {\n",
              "        text-align: right;\n",
              "    }\n",
              "</style>\n",
              "<table border=\"1\" class=\"dataframe\">\n",
              "  <thead>\n",
              "    <tr style=\"text-align: right;\">\n",
              "      <th></th>\n",
              "      <th>count</th>\n",
              "      <th>mean</th>\n",
              "      <th>std</th>\n",
              "      <th>min</th>\n",
              "      <th>25%</th>\n",
              "      <th>50%</th>\n",
              "      <th>75%</th>\n",
              "      <th>max</th>\n",
              "    </tr>\n",
              "    <tr>\n",
              "      <th>platform</th>\n",
              "      <th></th>\n",
              "      <th></th>\n",
              "      <th></th>\n",
              "      <th></th>\n",
              "      <th></th>\n",
              "      <th></th>\n",
              "      <th></th>\n",
              "      <th></th>\n",
              "    </tr>\n",
              "  </thead>\n",
              "  <tbody>\n",
              "    <tr>\n",
              "      <th>3DS</th>\n",
              "      <td>396.0</td>\n",
              "      <td>0.491439</td>\n",
              "      <td>1.387161</td>\n",
              "      <td>0.01</td>\n",
              "      <td>0.0400</td>\n",
              "      <td>0.11</td>\n",
              "      <td>0.3125</td>\n",
              "      <td>14.60</td>\n",
              "    </tr>\n",
              "    <tr>\n",
              "      <th>DS</th>\n",
              "      <td>31.0</td>\n",
              "      <td>0.404839</td>\n",
              "      <td>1.439245</td>\n",
              "      <td>0.01</td>\n",
              "      <td>0.0200</td>\n",
              "      <td>0.05</td>\n",
              "      <td>0.1850</td>\n",
              "      <td>8.06</td>\n",
              "    </tr>\n",
              "    <tr>\n",
              "      <th>PC</th>\n",
              "      <td>250.0</td>\n",
              "      <td>0.250600</td>\n",
              "      <td>0.494640</td>\n",
              "      <td>0.01</td>\n",
              "      <td>0.0300</td>\n",
              "      <td>0.08</td>\n",
              "      <td>0.2400</td>\n",
              "      <td>5.14</td>\n",
              "    </tr>\n",
              "    <tr>\n",
              "      <th>PS3</th>\n",
              "      <td>493.0</td>\n",
              "      <td>0.585781</td>\n",
              "      <td>1.462855</td>\n",
              "      <td>0.01</td>\n",
              "      <td>0.0500</td>\n",
              "      <td>0.20</td>\n",
              "      <td>0.6100</td>\n",
              "      <td>21.05</td>\n",
              "    </tr>\n",
              "    <tr>\n",
              "      <th>PS4</th>\n",
              "      <td>392.0</td>\n",
              "      <td>0.801378</td>\n",
              "      <td>1.609456</td>\n",
              "      <td>0.01</td>\n",
              "      <td>0.0600</td>\n",
              "      <td>0.20</td>\n",
              "      <td>0.7300</td>\n",
              "      <td>14.63</td>\n",
              "    </tr>\n",
              "    <tr>\n",
              "      <th>PSP</th>\n",
              "      <td>173.0</td>\n",
              "      <td>0.064682</td>\n",
              "      <td>0.071296</td>\n",
              "      <td>0.01</td>\n",
              "      <td>0.0200</td>\n",
              "      <td>0.03</td>\n",
              "      <td>0.0900</td>\n",
              "      <td>0.36</td>\n",
              "    </tr>\n",
              "    <tr>\n",
              "      <th>PSV</th>\n",
              "      <td>411.0</td>\n",
              "      <td>0.119659</td>\n",
              "      <td>0.203011</td>\n",
              "      <td>0.01</td>\n",
              "      <td>0.0200</td>\n",
              "      <td>0.05</td>\n",
              "      <td>0.1200</td>\n",
              "      <td>1.96</td>\n",
              "    </tr>\n",
              "    <tr>\n",
              "      <th>Wii</th>\n",
              "      <td>54.0</td>\n",
              "      <td>0.655000</td>\n",
              "      <td>1.165447</td>\n",
              "      <td>0.01</td>\n",
              "      <td>0.0625</td>\n",
              "      <td>0.18</td>\n",
              "      <td>0.6875</td>\n",
              "      <td>6.76</td>\n",
              "    </tr>\n",
              "    <tr>\n",
              "      <th>WiiU</th>\n",
              "      <td>147.0</td>\n",
              "      <td>0.559116</td>\n",
              "      <td>1.058836</td>\n",
              "      <td>0.01</td>\n",
              "      <td>0.0800</td>\n",
              "      <td>0.22</td>\n",
              "      <td>0.5250</td>\n",
              "      <td>7.09</td>\n",
              "    </tr>\n",
              "    <tr>\n",
              "      <th>X360</th>\n",
              "      <td>292.0</td>\n",
              "      <td>0.810068</td>\n",
              "      <td>1.712069</td>\n",
              "      <td>0.01</td>\n",
              "      <td>0.1000</td>\n",
              "      <td>0.31</td>\n",
              "      <td>0.8700</td>\n",
              "      <td>16.27</td>\n",
              "    </tr>\n",
              "    <tr>\n",
              "      <th>XOne</th>\n",
              "      <td>247.0</td>\n",
              "      <td>0.645020</td>\n",
              "      <td>1.036139</td>\n",
              "      <td>0.01</td>\n",
              "      <td>0.0600</td>\n",
              "      <td>0.22</td>\n",
              "      <td>0.6850</td>\n",
              "      <td>7.39</td>\n",
              "    </tr>\n",
              "  </tbody>\n",
              "</table>\n",
              "</div>"
            ],
            "text/plain": [
              "          count      mean       std   min     25%   50%     75%    max\n",
              "platform                                                              \n",
              "3DS       396.0  0.491439  1.387161  0.01  0.0400  0.11  0.3125  14.60\n",
              "DS         31.0  0.404839  1.439245  0.01  0.0200  0.05  0.1850   8.06\n",
              "PC        250.0  0.250600  0.494640  0.01  0.0300  0.08  0.2400   5.14\n",
              "PS3       493.0  0.585781  1.462855  0.01  0.0500  0.20  0.6100  21.05\n",
              "PS4       392.0  0.801378  1.609456  0.01  0.0600  0.20  0.7300  14.63\n",
              "PSP       173.0  0.064682  0.071296  0.01  0.0200  0.03  0.0900   0.36\n",
              "PSV       411.0  0.119659  0.203011  0.01  0.0200  0.05  0.1200   1.96\n",
              "Wii        54.0  0.655000  1.165447  0.01  0.0625  0.18  0.6875   6.76\n",
              "WiiU      147.0  0.559116  1.058836  0.01  0.0800  0.22  0.5250   7.09\n",
              "X360      292.0  0.810068  1.712069  0.01  0.1000  0.31  0.8700  16.27\n",
              "XOne      247.0  0.645020  1.036139  0.01  0.0600  0.22  0.6850   7.39"
            ]
          },
          "execution_count": 74,
          "metadata": {},
          "output_type": "execute_result"
        }
      ],
      "source": [
        "#выведем список характерных значений для платформ \n",
        "data_from_2012.groupby('platform')['all_sales_sum'].describe()"
      ]
    },
    {
      "cell_type": "markdown",
      "metadata": {
        "id": "qInfRf3yvykM"
      },
      "source": [
        "Рассмотрим для трех интересующих нас платформ **\"PS4\", \"XOne\", \"PC\"** диаграмму рассеивания и таблицы со списком характерных значений.\n",
        "\n",
        "Видно, что у платформы **PC** медиана на значении 0,08, ср. значение 0,25, стандартное отклонение 0,49.\n",
        "\n",
        "У платформы **PS4** медиана на значении 0,20, ср. значение 0,80, а вот стандартное отклонение 1,6.\n",
        "\n",
        "У платформы **XOne** медиана на значении 0,31, ср. значение 0,81, а вот стандартное отклонение 1,7.\n",
        "\n",
        "Интересно, что платформа **PSV** медиана на значении 0,05, ср. значение 0,12, стандартное отклонение 0,2, среди тех, которые еще выпускаются, это самое маленькое отклонение. Т.е. у **PSV** разброс величин отличается от среднего на 0,2.\n",
        "\n",
        "Отметим, что у всех платформ минимальное значение 0,01, а медианы приблизительно одинаковы, по графику и таблице видно, что третий квартиль у всех разный."
      ]
    },
    {
      "cell_type": "code",
      "execution_count": null,
      "metadata": {
        "id": "oHXund3hvykP",
        "outputId": "2044c39d-96c3-4ff9-8258-7d61117eb59c"
      },
      "outputs": [
        {
          "data": {
            "image/png": "[encoded data removed]",
            "text/plain": [
              "<Figure size 576x576 with 1 Axes>"
            ]
          },
          "metadata": {
            "needs_background": "light"
          },
          "output_type": "display_data"
        }
      ],
      "source": [
        "#построим диаграмму рассеивания для XOne\n",
        "data_from_2012.query(\"platform=='XOne'\").\\\n",
        "plot(x='critic_score', y='all_sales_sum', kind='scatter', alpha=0.7,\\\n",
        "          grid=True, figsize=(8,8), xlim=(15,100))\n",
        "plt.title('All sales sum vs Critic score for XOne Platform games from 2012 Year')\n",
        "plt.show()"
      ]
    },
    {
      "cell_type": "code",
      "execution_count": null,
      "metadata": {
        "id": "Pc7aJLk3vykZ",
        "outputId": "89edae40-0b7b-47ee-e216-1cdf82142611"
      },
      "outputs": [
        {
          "data": {
            "text/html": [
              "<div>\n",
              "<style scoped>\n",
              "    .dataframe tbody tr th:only-of-type {\n",
              "        vertical-align: middle;\n",
              "    }\n",
              "\n",
              "    .dataframe tbody tr th {\n",
              "        vertical-align: top;\n",
              "    }\n",
              "\n",
              "    .dataframe thead th {\n",
              "        text-align: right;\n",
              "    }\n",
              "</style>\n",
              "<table border=\"1\" class=\"dataframe\">\n",
              "  <thead>\n",
              "    <tr style=\"text-align: right;\">\n",
              "      <th></th>\n",
              "      <th>all_sales_sum</th>\n",
              "      <th>critic_score</th>\n",
              "    </tr>\n",
              "  </thead>\n",
              "  <tbody>\n",
              "    <tr>\n",
              "      <th>all_sales_sum</th>\n",
              "      <td>1.000000</td>\n",
              "      <td>0.274839</td>\n",
              "    </tr>\n",
              "    <tr>\n",
              "      <th>critic_score</th>\n",
              "      <td>0.274839</td>\n",
              "      <td>1.000000</td>\n",
              "    </tr>\n",
              "  </tbody>\n",
              "</table>\n",
              "</div>"
            ],
            "text/plain": [
              "               all_sales_sum  critic_score\n",
              "all_sales_sum       1.000000      0.274839\n",
              "critic_score        0.274839      1.000000"
            ]
          },
          "execution_count": 36,
          "metadata": {},
          "output_type": "execute_result"
        }
      ],
      "source": [
        "#выведем значения корреляции сумм продаж от оценки критиков для платформы XOne\n",
        "data_from_2012.query(\"platform=='XOne'\")[['all_sales_sum', 'critic_score']].corr()"
      ]
    },
    {
      "cell_type": "markdown",
      "metadata": {
        "id": "Y5-EQ6-cvykb"
      },
      "source": [
        "Видно по диаграмме рассеивания для платформы **XOne** видно, что значения в основном находятся от 60 до 80 по оси оценки критиков, и до 1 по оси общей сумме продаж. По коэффициенту Пирсона, значение которого 0,27, можно сделать вывод, что значение далеко от 1. Поэтому с ростом одной величины, вторая растет, но не значительно."
      ]
    },
    {
      "cell_type": "code",
      "execution_count": null,
      "metadata": {
        "id": "xmwSafDovyke",
        "outputId": "96e021c7-27c9-431f-b091-2c5cebe9e293"
      },
      "outputs": [
        {
          "data": {
            "image/png": "[encoded data removed]",
            "text/plain": [
              "<Figure size 576x576 with 1 Axes>"
            ]
          },
          "metadata": {
            "needs_background": "light"
          },
          "output_type": "display_data"
        }
      ],
      "source": [
        "#построим диаграмму рассеивания для XOne\n",
        "data_from_2012.query(\"platform=='XOne'\").\\\n",
        "plot(x='user_score', y='all_sales_sum', kind='scatter', alpha=0.7,\\\n",
        "          grid=True, figsize=(8,8), xlim=(1,10))\n",
        "plt.title('All sales sum vs User score for XOne Platform games from 2012 Year')\n",
        "plt.show()"
      ]
    },
    {
      "cell_type": "code",
      "execution_count": null,
      "metadata": {
        "id": "xzUsJ053vykj",
        "outputId": "b5c1e245-fec4-4de4-a2ae-5cd790ff6dc1"
      },
      "outputs": [
        {
          "data": {
            "text/html": [
              "<div>\n",
              "<style scoped>\n",
              "    .dataframe tbody tr th:only-of-type {\n",
              "        vertical-align: middle;\n",
              "    }\n",
              "\n",
              "    .dataframe tbody tr th {\n",
              "        vertical-align: top;\n",
              "    }\n",
              "\n",
              "    .dataframe thead th {\n",
              "        text-align: right;\n",
              "    }\n",
              "</style>\n",
              "<table border=\"1\" class=\"dataframe\">\n",
              "  <thead>\n",
              "    <tr style=\"text-align: right;\">\n",
              "      <th></th>\n",
              "      <th>all_sales_sum</th>\n",
              "      <th>user_score</th>\n",
              "    </tr>\n",
              "  </thead>\n",
              "  <tbody>\n",
              "    <tr>\n",
              "      <th>all_sales_sum</th>\n",
              "      <td>1.000000</td>\n",
              "      <td>0.116563</td>\n",
              "    </tr>\n",
              "    <tr>\n",
              "      <th>user_score</th>\n",
              "      <td>0.116563</td>\n",
              "      <td>1.000000</td>\n",
              "    </tr>\n",
              "  </tbody>\n",
              "</table>\n",
              "</div>"
            ],
            "text/plain": [
              "               all_sales_sum  user_score\n",
              "all_sales_sum       1.000000    0.116563\n",
              "user_score          0.116563    1.000000"
            ]
          },
          "execution_count": 38,
          "metadata": {},
          "output_type": "execute_result"
        }
      ],
      "source": [
        "#выведем значения корреляции сумм продаж от оценки пользователей для платформы XOne\n",
        "data_from_2012.query(\"platform=='XOne'\")[['all_sales_sum', 'user_score']].corr()"
      ]
    },
    {
      "cell_type": "markdown",
      "metadata": {
        "id": "2cv1MkAOvykn"
      },
      "source": [
        "Видно по диаграмме рассеивания для платформы **XOne** видно, что значения в основном находятся от 6 до 8 по оси оценки пользователей, и до 1 по оси общей сумме продаж. По коэффициенту Пирсона, значение которого 0,12, можно сделать вывод, что значение далеко от 1. Поэтому с ростом одной величины, вторая почти не растет, т.к. значение близко к нулю."
      ]
    },
    {
      "cell_type": "code",
      "execution_count": null,
      "metadata": {
        "id": "7kMvXjkLvykq",
        "outputId": "7d4d803e-708d-4a72-a194-9274bac4347b"
      },
      "outputs": [
        {
          "data": {
            "image/png": "[encoded data removed]",
            "text/plain": [
              "<Figure size 576x576 with 1 Axes>"
            ]
          },
          "metadata": {
            "needs_background": "light"
          },
          "output_type": "display_data"
        }
      ],
      "source": [
        "#построим диаграмму рассеивания для PS4\n",
        "data_from_2012.query(\"platform=='PS4'\").\\\n",
        "plot(x='critic_score', y='all_sales_sum', kind='scatter', alpha=0.7,\\\n",
        "          grid=True, figsize=(8,8), xlim=(15,100))\n",
        "plt.title('All sales sum vs Critic score for PS4 Platform games from 2012 Year')\n",
        "plt.show()"
      ]
    },
    {
      "cell_type": "code",
      "execution_count": null,
      "metadata": {
        "id": "HH81AQ0Xvykv",
        "outputId": "c3326cae-a271-40e4-f340-48b3e5c9b26e"
      },
      "outputs": [
        {
          "data": {
            "text/html": [
              "<div>\n",
              "<style scoped>\n",
              "    .dataframe tbody tr th:only-of-type {\n",
              "        vertical-align: middle;\n",
              "    }\n",
              "\n",
              "    .dataframe tbody tr th {\n",
              "        vertical-align: top;\n",
              "    }\n",
              "\n",
              "    .dataframe thead th {\n",
              "        text-align: right;\n",
              "    }\n",
              "</style>\n",
              "<table border=\"1\" class=\"dataframe\">\n",
              "  <thead>\n",
              "    <tr style=\"text-align: right;\">\n",
              "      <th></th>\n",
              "      <th>all_sales_sum</th>\n",
              "      <th>critic_score</th>\n",
              "    </tr>\n",
              "  </thead>\n",
              "  <tbody>\n",
              "    <tr>\n",
              "      <th>all_sales_sum</th>\n",
              "      <td>1.00000</td>\n",
              "      <td>0.22755</td>\n",
              "    </tr>\n",
              "    <tr>\n",
              "      <th>critic_score</th>\n",
              "      <td>0.22755</td>\n",
              "      <td>1.00000</td>\n",
              "    </tr>\n",
              "  </tbody>\n",
              "</table>\n",
              "</div>"
            ],
            "text/plain": [
              "               all_sales_sum  critic_score\n",
              "all_sales_sum        1.00000       0.22755\n",
              "critic_score         0.22755       1.00000"
            ]
          },
          "execution_count": 40,
          "metadata": {},
          "output_type": "execute_result"
        }
      ],
      "source": [
        "#выведем значения корреляции сумм продаж от оценки критиков для платформы PS4\n",
        "data_from_2012.query(\"platform=='PS4'\")[['all_sales_sum', 'critic_score']].corr()"
      ]
    },
    {
      "cell_type": "markdown",
      "metadata": {
        "id": "_iRxsknUvyky"
      },
      "source": [
        "Видно по диаграмме рассеивания для платформы **PS4** видно, что значения в основном находятся от 60 до 80 по оси оценки критиков, и до 1 по оси общей сумме продаж. По коэффициенту Пирсона, значение которого 0,23, можно сделать вывод, что значение далеко от 1. Поэтому с ростом одной величины, вторая растет, но не значительно."
      ]
    },
    {
      "cell_type": "code",
      "execution_count": null,
      "metadata": {
        "id": "vZjl7N1Lvyk2",
        "outputId": "1d3fa29b-932f-4d08-df8e-7ba07c4ce473"
      },
      "outputs": [
        {
          "data": {
            "image/png": "[encoded data removed]",
            "text/plain": [
              "<Figure size 576x576 with 1 Axes>"
            ]
          },
          "metadata": {
            "needs_background": "light"
          },
          "output_type": "display_data"
        }
      ],
      "source": [
        "#построим диаграмму рассеивания для PS4\n",
        "data_from_2012.query(\"platform=='PS4'\").\\\n",
        "plot(x='user_score', y='all_sales_sum', kind='scatter', alpha=0.7,\\\n",
        "          grid=True, figsize=(8,8), xlim=(1,10)) \n",
        "plt.title('All sales sum vs User score for PS4 Platform games from 2012 Year')\n",
        "plt.show()"
      ]
    },
    {
      "cell_type": "code",
      "execution_count": null,
      "metadata": {
        "id": "zCcMhyu0vyk5",
        "outputId": "3de047fc-7533-4853-831e-27c9ef870089"
      },
      "outputs": [
        {
          "data": {
            "text/html": [
              "<div>\n",
              "<style scoped>\n",
              "    .dataframe tbody tr th:only-of-type {\n",
              "        vertical-align: middle;\n",
              "    }\n",
              "\n",
              "    .dataframe tbody tr th {\n",
              "        vertical-align: top;\n",
              "    }\n",
              "\n",
              "    .dataframe thead th {\n",
              "        text-align: right;\n",
              "    }\n",
              "</style>\n",
              "<table border=\"1\" class=\"dataframe\">\n",
              "  <thead>\n",
              "    <tr style=\"text-align: right;\">\n",
              "      <th></th>\n",
              "      <th>all_sales_sum</th>\n",
              "      <th>user_score</th>\n",
              "    </tr>\n",
              "  </thead>\n",
              "  <tbody>\n",
              "    <tr>\n",
              "      <th>all_sales_sum</th>\n",
              "      <td>1.000000</td>\n",
              "      <td>0.113116</td>\n",
              "    </tr>\n",
              "    <tr>\n",
              "      <th>user_score</th>\n",
              "      <td>0.113116</td>\n",
              "      <td>1.000000</td>\n",
              "    </tr>\n",
              "  </tbody>\n",
              "</table>\n",
              "</div>"
            ],
            "text/plain": [
              "               all_sales_sum  user_score\n",
              "all_sales_sum       1.000000    0.113116\n",
              "user_score          0.113116    1.000000"
            ]
          },
          "execution_count": 42,
          "metadata": {},
          "output_type": "execute_result"
        }
      ],
      "source": [
        "#выведем значения корреляции сумм продаж от оценки пользователей для платформы PS4\n",
        "data_from_2012.query(\"platform=='PS4'\")[['all_sales_sum', 'user_score']].corr()"
      ]
    },
    {
      "cell_type": "markdown",
      "metadata": {
        "id": "RF7qnNT5vyk7"
      },
      "source": [
        "Видно по диаграмме рассеивания для платформы **PS4** видно, что значения в основном находятся от 6 до 8 по оси оценки пользователей, и до 1 по оси общей сумме продаж, много около нуля. По коэффициенту Пирсона, значение которого 0,11, можно сделать вывод, что значение далеко от 1. Поэтому с ростом одной величины, вторая почти не растет, т.к. значение близко к нулю.\n",
        "\n",
        "По анализу диаграмм двух перспективных платформ и коффицента коррляции сделаем вывод для всех остальных платформ, что оценка критиков незначительно влияет на увеличение продаж, а оценка пользователей еще меньше.  "
      ]
    },
    {
      "cell_type": "code",
      "execution_count": null,
      "metadata": {
        "id": "gLcXrSLhvylB",
        "outputId": "a11d21f6-832d-4b17-da9b-4e5d11bcdaa7"
      },
      "outputs": [
        {
          "data": {
            "text/plain": [
              "Action          1031\n",
              "Role-Playing     370\n",
              "Adventure        302\n",
              "Sports           268\n",
              "Shooter          235\n",
              "Misc             192\n",
              "Racing           115\n",
              "Fighting         109\n",
              "Platform          85\n",
              "Simulation        80\n",
              "Strategy          71\n",
              "Puzzle            28\n",
              "Name: genre, dtype: int64"
            ]
          },
          "execution_count": 43,
          "metadata": {},
          "output_type": "execute_result"
        }
      ],
      "source": [
        "#выведем популярные жанры\n",
        "data_from_2012['genre'].value_counts()"
      ]
    },
    {
      "cell_type": "markdown",
      "metadata": {
        "id": "QeZhA-D4vylD"
      },
      "source": [
        "По количеству продаж значительно выделяются **Action**."
      ]
    },
    {
      "cell_type": "code",
      "execution_count": null,
      "metadata": {
        "id": "vx3rOyYEvylG",
        "outputId": "6b259809-3dda-4d44-fdcb-2a378c54d528"
      },
      "outputs": [
        {
          "data": {
            "text/html": [
              "<div>\n",
              "<style scoped>\n",
              "    .dataframe tbody tr th:only-of-type {\n",
              "        vertical-align: middle;\n",
              "    }\n",
              "\n",
              "    .dataframe tbody tr th {\n",
              "        vertical-align: top;\n",
              "    }\n",
              "\n",
              "    .dataframe thead th {\n",
              "        text-align: right;\n",
              "    }\n",
              "</style>\n",
              "<table border=\"1\" class=\"dataframe\">\n",
              "  <thead>\n",
              "    <tr style=\"text-align: right;\">\n",
              "      <th></th>\n",
              "      <th>all_sales_sum</th>\n",
              "    </tr>\n",
              "    <tr>\n",
              "      <th>genre</th>\n",
              "      <th></th>\n",
              "    </tr>\n",
              "  </thead>\n",
              "  <tbody>\n",
              "    <tr>\n",
              "      <th>Shooter</th>\n",
              "      <td>1.296723</td>\n",
              "    </tr>\n",
              "    <tr>\n",
              "      <th>Platform</th>\n",
              "      <td>0.717647</td>\n",
              "    </tr>\n",
              "    <tr>\n",
              "      <th>Sports</th>\n",
              "      <td>0.675634</td>\n",
              "    </tr>\n",
              "    <tr>\n",
              "      <th>Role-Playing</th>\n",
              "      <td>0.521081</td>\n",
              "    </tr>\n",
              "    <tr>\n",
              "      <th>Racing</th>\n",
              "      <td>0.465217</td>\n",
              "    </tr>\n",
              "    <tr>\n",
              "      <th>Misc</th>\n",
              "      <td>0.442917</td>\n",
              "    </tr>\n",
              "    <tr>\n",
              "      <th>Simulation</th>\n",
              "      <td>0.439000</td>\n",
              "    </tr>\n",
              "    <tr>\n",
              "      <th>Action</th>\n",
              "      <td>0.427856</td>\n",
              "    </tr>\n",
              "    <tr>\n",
              "      <th>Fighting</th>\n",
              "      <td>0.408165</td>\n",
              "    </tr>\n",
              "    <tr>\n",
              "      <th>Strategy</th>\n",
              "      <td>0.187887</td>\n",
              "    </tr>\n",
              "    <tr>\n",
              "      <th>Puzzle</th>\n",
              "      <td>0.174643</td>\n",
              "    </tr>\n",
              "    <tr>\n",
              "      <th>Adventure</th>\n",
              "      <td>0.097450</td>\n",
              "    </tr>\n",
              "  </tbody>\n",
              "</table>\n",
              "</div>"
            ],
            "text/plain": [
              "              all_sales_sum\n",
              "genre                      \n",
              "Shooter            1.296723\n",
              "Platform           0.717647\n",
              "Sports             0.675634\n",
              "Role-Playing       0.521081\n",
              "Racing             0.465217\n",
              "Misc               0.442917\n",
              "Simulation         0.439000\n",
              "Action             0.427856\n",
              "Fighting           0.408165\n",
              "Strategy           0.187887\n",
              "Puzzle             0.174643\n",
              "Adventure          0.097450"
            ]
          },
          "execution_count": 44,
          "metadata": {},
          "output_type": "execute_result"
        }
      ],
      "source": [
        "#выведем сводную таблицу продаваемых жанров\n",
        "data_from_2012.pivot_table(index='genre', values='all_sales_sum').\\\n",
        "sort_values(by=('all_sales_sum'), ascending=False)"
      ]
    },
    {
      "cell_type": "markdown",
      "metadata": {
        "id": "THJOHXMmvylJ"
      },
      "source": [
        "По общей сумме продаж лидирует жанр **Shooter**, второе место занимает **Platform**, затем **Sports, Role-Playing, Racing** имеют приблизительно одинаковые продажи, остальные ниже."
      ]
    },
    {
      "cell_type": "markdown",
      "metadata": {
        "id": "WZAcQPNuvylQ"
      },
      "source": [
        "### Шаг  Составьте портрет пользователя каждого региона"
      ]
    },
    {
      "cell_type": "code",
      "execution_count": null,
      "metadata": {
        "id": "3bzbKp8ovylX",
        "outputId": "20ea0215-5109-4b3d-9b0f-26da35739ec9"
      },
      "outputs": [
        {
          "data": {
            "text/html": [
              "<div>\n",
              "<style scoped>\n",
              "    .dataframe tbody tr th:only-of-type {\n",
              "        vertical-align: middle;\n",
              "    }\n",
              "\n",
              "    .dataframe tbody tr th {\n",
              "        vertical-align: top;\n",
              "    }\n",
              "\n",
              "    .dataframe thead th {\n",
              "        text-align: right;\n",
              "    }\n",
              "</style>\n",
              "<table border=\"1\" class=\"dataframe\">\n",
              "  <thead>\n",
              "    <tr style=\"text-align: right;\">\n",
              "      <th></th>\n",
              "      <th>na_sales</th>\n",
              "    </tr>\n",
              "    <tr>\n",
              "      <th>platform</th>\n",
              "      <th></th>\n",
              "    </tr>\n",
              "  </thead>\n",
              "  <tbody>\n",
              "    <tr>\n",
              "      <th>X360</th>\n",
              "      <td>140.05</td>\n",
              "    </tr>\n",
              "    <tr>\n",
              "      <th>PS4</th>\n",
              "      <td>108.74</td>\n",
              "    </tr>\n",
              "    <tr>\n",
              "      <th>PS3</th>\n",
              "      <td>103.38</td>\n",
              "    </tr>\n",
              "    <tr>\n",
              "      <th>XOne</th>\n",
              "      <td>93.12</td>\n",
              "    </tr>\n",
              "    <tr>\n",
              "      <th>3DS</th>\n",
              "      <td>55.31</td>\n",
              "    </tr>\n",
              "  </tbody>\n",
              "</table>\n",
              "</div>"
            ],
            "text/plain": [
              "          na_sales\n",
              "platform          \n",
              "X360        140.05\n",
              "PS4         108.74\n",
              "PS3         103.38\n",
              "XOne         93.12\n",
              "3DS          55.31"
            ]
          },
          "execution_count": 45,
          "metadata": {},
          "output_type": "execute_result"
        }
      ],
      "source": [
        "#выведем первые 5 лидирующих платформ по продажам в Северной Америке\n",
        "five_platform_na = data_from_2012.groupby('platform')[['na_sales']].sum().\\\n",
        "sort_values(by=('na_sales'), ascending=False).head()\n",
        "five_platform_na"
      ]
    },
    {
      "cell_type": "code",
      "execution_count": null,
      "metadata": {
        "id": "9dbFyLg7vylb",
        "outputId": "6896c9a6-3d17-48d2-a07d-b896c02a1248"
      },
      "outputs": [
        {
          "data": {
            "text/plain": [
              "array(['PS3', 'X360', 'PS4', '3DS', 'Others', 'XOne'], dtype=object)"
            ]
          },
          "execution_count": 46,
          "metadata": {},
          "output_type": "execute_result"
        }
      ],
      "source": [
        "#создадим столбец включающий 5 лидирующих платформ и другие в Северной Америке\n",
        "data_from_2012['five_platform_na'] = data_from_2012['platform'].\\\n",
        "where(data_from_2012['platform'].isin(five_platform_na.index), 'Others')\n",
        "data_from_2012['five_platform_na'].unique()"
      ]
    },
    {
      "cell_type": "code",
      "execution_count": null,
      "metadata": {
        "id": "ouJdvYEVvylh",
        "outputId": "a6ecbbb5-9fd5-41f1-fd74-022955692053"
      },
      "outputs": [
        {
          "data": {
            "image/png": "[encoded data removed]",
            "text/plain": [
              "<Figure size 864x576 with 1 Axes>"
            ]
          },
          "metadata": {},
          "output_type": "display_data"
        }
      ],
      "source": [
        "#выведем график долей платформ по продажам в Северной Америке\n",
        "data_from_2012.groupby('five_platform_na')[['na_sales']].sum().\\\n",
        "plot(title='Доли продаж платформ в Северной Америке', kind='pie',\\\n",
        "     y='na_sales', figsize=(12,8), autopct='%1.1f%%')\n",
        "plt.legend(bbox_to_anchor=(0.6, 0.3, 0.6, 0.6))\n",
        "plt.show()"
      ]
    },
    {
      "cell_type": "markdown",
      "metadata": {
        "id": "SRVPdcNbvylj"
      },
      "source": [
        "В Северной Америке 5 самых продаваемых платформ являются **X360, PS4, PS3, XOne, 3DS** по убыванию.\n",
        "\n",
        "От общей доли продаж **X360** имеет 23.7%, **PS4** - 18.4%, **PS3, XOne, 3DS** - 17.5%, 15.8% и 9.4% соответственно. Доля продаж всех остальных платформ 15.3% "
      ]
    },
    {
      "cell_type": "code",
      "execution_count": null,
      "metadata": {
        "id": "g1FFkh6Vvyln",
        "outputId": "68f7ca56-13bf-4749-861e-bd8cab4d0ead"
      },
      "outputs": [
        {
          "data": {
            "text/html": [
              "<div>\n",
              "<style scoped>\n",
              "    .dataframe tbody tr th:only-of-type {\n",
              "        vertical-align: middle;\n",
              "    }\n",
              "\n",
              "    .dataframe tbody tr th {\n",
              "        vertical-align: top;\n",
              "    }\n",
              "\n",
              "    .dataframe thead th {\n",
              "        text-align: right;\n",
              "    }\n",
              "</style>\n",
              "<table border=\"1\" class=\"dataframe\">\n",
              "  <thead>\n",
              "    <tr style=\"text-align: right;\">\n",
              "      <th></th>\n",
              "      <th>eu_sales</th>\n",
              "    </tr>\n",
              "    <tr>\n",
              "      <th>platform</th>\n",
              "      <th></th>\n",
              "    </tr>\n",
              "  </thead>\n",
              "  <tbody>\n",
              "    <tr>\n",
              "      <th>PS4</th>\n",
              "      <td>141.09</td>\n",
              "    </tr>\n",
              "    <tr>\n",
              "      <th>PS3</th>\n",
              "      <td>106.86</td>\n",
              "    </tr>\n",
              "    <tr>\n",
              "      <th>X360</th>\n",
              "      <td>74.52</td>\n",
              "    </tr>\n",
              "    <tr>\n",
              "      <th>XOne</th>\n",
              "      <td>51.59</td>\n",
              "    </tr>\n",
              "    <tr>\n",
              "      <th>3DS</th>\n",
              "      <td>42.64</td>\n",
              "    </tr>\n",
              "  </tbody>\n",
              "</table>\n",
              "</div>"
            ],
            "text/plain": [
              "          eu_sales\n",
              "platform          \n",
              "PS4         141.09\n",
              "PS3         106.86\n",
              "X360         74.52\n",
              "XOne         51.59\n",
              "3DS          42.64"
            ]
          },
          "execution_count": 48,
          "metadata": {},
          "output_type": "execute_result"
        }
      ],
      "source": [
        "#выведем первые 5 лидирующих платформ по продажам в Европе\n",
        "five_platform_eu = data_from_2012.groupby('platform')[['eu_sales']].sum().\\\n",
        "sort_values(by=('eu_sales'), ascending=False).head()\n",
        "five_platform_eu"
      ]
    },
    {
      "cell_type": "code",
      "execution_count": null,
      "metadata": {
        "id": "O6M5nqR7vylq",
        "outputId": "ac154dcf-f823-410b-cecd-4aa54c8dc19e"
      },
      "outputs": [
        {
          "data": {
            "text/plain": [
              "array(['PS3', 'X360', 'PS4', '3DS', 'Others', 'XOne'], dtype=object)"
            ]
          },
          "execution_count": 49,
          "metadata": {},
          "output_type": "execute_result"
        }
      ],
      "source": [
        "#создадим столбец включающий 5 лидирующих платформ и другие в Европе\n",
        "data_from_2012['five_platform_eu'] = data_from_2012['platform'].\\\n",
        "where(data_from_2012['platform'].isin(five_platform_eu.index), 'Others')\n",
        "data_from_2012['five_platform_eu'].unique()"
      ]
    },
    {
      "cell_type": "code",
      "execution_count": null,
      "metadata": {
        "id": "Alq5G682vylu",
        "outputId": "871bc8e8-ed34-4755-c1cd-77dd10e6eed8"
      },
      "outputs": [
        {
          "data": {
            "image/png": "[encoded data removed]",
            "text/plain": [
              "<Figure size 864x576 with 1 Axes>"
            ]
          },
          "metadata": {},
          "output_type": "display_data"
        }
      ],
      "source": [
        "#выведем график долей платформ по продажам в Европе\n",
        "data_from_2012.groupby('five_platform_eu')[['eu_sales']].sum().\\\n",
        "plot(title='Доли продаж платформ в Европе', kind='pie',\\\n",
        "     y='eu_sales', figsize=(12,8), autopct='%1.1f%%')\n",
        "plt.legend(bbox_to_anchor=(0.6, 0.3, 0.6, 0.6))\n",
        "plt.show()"
      ]
    },
    {
      "cell_type": "markdown",
      "metadata": {
        "id": "StQOJ8Mavylx"
      },
      "source": [
        "В Европе 5 самых продаваемых платформ  являются **PS4, PS3, X360, XOne, 3DS** по убыванию. **PS4**  преобладает по продажам и большого преобладания по продажам по сравнению среди остальных нет.\n",
        "\n",
        "От общей доли продаж **PS4** имеет 27.8%, **PS3** - 21.1%, **X360, XOne, 3DS** - 14.7%, 10.2% и 8.4% соответственно. Доля продаж всех остальных платформ 17.8% "
      ]
    },
    {
      "cell_type": "code",
      "execution_count": null,
      "metadata": {
        "id": "zGeCU6bVvylz",
        "outputId": "0b9faf89-3a15-40cc-999d-4da3f52ca4b0"
      },
      "outputs": [
        {
          "data": {
            "text/html": [
              "<div>\n",
              "<style scoped>\n",
              "    .dataframe tbody tr th:only-of-type {\n",
              "        vertical-align: middle;\n",
              "    }\n",
              "\n",
              "    .dataframe tbody tr th {\n",
              "        vertical-align: top;\n",
              "    }\n",
              "\n",
              "    .dataframe thead th {\n",
              "        text-align: right;\n",
              "    }\n",
              "</style>\n",
              "<table border=\"1\" class=\"dataframe\">\n",
              "  <thead>\n",
              "    <tr style=\"text-align: right;\">\n",
              "      <th></th>\n",
              "      <th>jp_sales</th>\n",
              "    </tr>\n",
              "    <tr>\n",
              "      <th>platform</th>\n",
              "      <th></th>\n",
              "    </tr>\n",
              "  </thead>\n",
              "  <tbody>\n",
              "    <tr>\n",
              "      <th>3DS</th>\n",
              "      <td>87.79</td>\n",
              "    </tr>\n",
              "    <tr>\n",
              "      <th>PS3</th>\n",
              "      <td>35.29</td>\n",
              "    </tr>\n",
              "    <tr>\n",
              "      <th>PSV</th>\n",
              "      <td>21.04</td>\n",
              "    </tr>\n",
              "    <tr>\n",
              "      <th>PS4</th>\n",
              "      <td>15.96</td>\n",
              "    </tr>\n",
              "    <tr>\n",
              "      <th>WiiU</th>\n",
              "      <td>13.01</td>\n",
              "    </tr>\n",
              "  </tbody>\n",
              "</table>\n",
              "</div>"
            ],
            "text/plain": [
              "          jp_sales\n",
              "platform          \n",
              "3DS          87.79\n",
              "PS3          35.29\n",
              "PSV          21.04\n",
              "PS4          15.96\n",
              "WiiU         13.01"
            ]
          },
          "execution_count": 51,
          "metadata": {},
          "output_type": "execute_result"
        }
      ],
      "source": [
        "#выведем первые 5 лидирующих платформ по продажам в Японии\n",
        "five_platform_jp = data_from_2012.groupby('platform')[['jp_sales']].sum().\\\n",
        "sort_values(by=('jp_sales'), ascending=False).head()\n",
        "five_platform_jp"
      ]
    },
    {
      "cell_type": "code",
      "execution_count": null,
      "metadata": {
        "id": "oOCppt-mvyl2",
        "outputId": "a4f43a8c-9f4d-4b16-eeb6-7c458e4f1e68"
      },
      "outputs": [
        {
          "data": {
            "text/plain": [
              "array(['PS3', 'Others', 'PS4', '3DS', 'WiiU', 'PSV'], dtype=object)"
            ]
          },
          "execution_count": 52,
          "metadata": {},
          "output_type": "execute_result"
        }
      ],
      "source": [
        "#создадим столбец включающий 5 лидирующих платформ и другие в Японии\n",
        "data_from_2012['five_platform_jp'] = data_from_2012['platform'].\\\n",
        "where(data_from_2012['platform'].isin(five_platform_jp.index), 'Others')\n",
        "data_from_2012['five_platform_jp'].unique()"
      ]
    },
    {
      "cell_type": "code",
      "execution_count": null,
      "metadata": {
        "id": "_L_X19Wgvyl5",
        "outputId": "31d58005-040a-48c7-b5bb-ac8c134c7596"
      },
      "outputs": [
        {
          "data": {
            "image/png": "[encoded data removed]",
            "text/plain": [
              "<Figure size 864x576 with 1 Axes>"
            ]
          },
          "metadata": {},
          "output_type": "display_data"
        }
      ],
      "source": [
        "#выведем график долей платформ по продажам в Японии\n",
        "data_from_2012.groupby('five_platform_jp')[['jp_sales']].sum().\\\n",
        "                                    plot(title='Доли продаж платформ в Японии', kind='pie',\\\n",
        "     y='jp_sales', figsize=(12,8), autopct='%1.1f%%') \n",
        "plt.legend(bbox_to_anchor=(0.6, 0.3, 0.6, 0.6))\n",
        "plt.show()"
      ]
    },
    {
      "cell_type": "markdown",
      "metadata": {
        "id": "q2olhx4avyl_"
      },
      "source": [
        "В Японии 5 самых продаваемых платформ являются **3DS, PS3, PSV, PS4, WiiU** по убыванию. **3DS**  имеет наибольшее преобладание по продажам по сравнению с остальными. Остальные приблизительно в одном диапазоне.\n",
        "\n",
        "От общей доли продаж **3DS** имеет 45.6%, **PS3** - 18.3%, **PSV, PS4, WiiU** - 10.9%, 8.3% и 6.8% соответственно. Доля продаж всех остальных платформ 10.1%.\n",
        "\n",
        "Так же отметим, что самая популярная платформа в Японии **3DS**, занимает 5 место в Европе и Северной Америке. "
      ]
    },
    {
      "cell_type": "code",
      "execution_count": null,
      "metadata": {
        "id": "jMluMQx4vymC",
        "outputId": "df64556a-01a8-47da-b6c1-9c3df84f1f90"
      },
      "outputs": [
        {
          "data": {
            "text/html": [
              "<div>\n",
              "<style scoped>\n",
              "    .dataframe tbody tr th:only-of-type {\n",
              "        vertical-align: middle;\n",
              "    }\n",
              "\n",
              "    .dataframe tbody tr th {\n",
              "        vertical-align: top;\n",
              "    }\n",
              "\n",
              "    .dataframe thead th {\n",
              "        text-align: right;\n",
              "    }\n",
              "</style>\n",
              "<table border=\"1\" class=\"dataframe\">\n",
              "  <thead>\n",
              "    <tr style=\"text-align: right;\">\n",
              "      <th></th>\n",
              "      <th>na_sales</th>\n",
              "    </tr>\n",
              "    <tr>\n",
              "      <th>genre</th>\n",
              "      <th></th>\n",
              "    </tr>\n",
              "  </thead>\n",
              "  <tbody>\n",
              "    <tr>\n",
              "      <th>Action</th>\n",
              "      <td>177.84</td>\n",
              "    </tr>\n",
              "    <tr>\n",
              "      <th>Shooter</th>\n",
              "      <td>144.77</td>\n",
              "    </tr>\n",
              "    <tr>\n",
              "      <th>Sports</th>\n",
              "      <td>81.53</td>\n",
              "    </tr>\n",
              "    <tr>\n",
              "      <th>Role-Playing</th>\n",
              "      <td>64.00</td>\n",
              "    </tr>\n",
              "    <tr>\n",
              "      <th>Misc</th>\n",
              "      <td>38.19</td>\n",
              "    </tr>\n",
              "  </tbody>\n",
              "</table>\n",
              "</div>"
            ],
            "text/plain": [
              "              na_sales\n",
              "genre                 \n",
              "Action          177.84\n",
              "Shooter         144.77\n",
              "Sports           81.53\n",
              "Role-Playing     64.00\n",
              "Misc             38.19"
            ]
          },
          "execution_count": 54,
          "metadata": {},
          "output_type": "execute_result"
        }
      ],
      "source": [
        "#выведем пять популярных жанров игр в Северной Америке\n",
        "data_from_2012.groupby('genre')[['na_sales']].sum().\\\n",
        "sort_values(by=('na_sales'), ascending=False).head()"
      ]
    },
    {
      "cell_type": "markdown",
      "metadata": {
        "id": "fjaoVzSwvymH"
      },
      "source": [
        "Пять популярных жанров игр в Северной Америке - **Action, Shooter, Sports, Role-Playing, Misc**. Лидирующие значения у **Action, Shooter** составляют 177,84 и 144,77, остальные имеют меньше продаж и  приблизительно находятся в одном диапазоне."
      ]
    },
    {
      "cell_type": "code",
      "execution_count": null,
      "metadata": {
        "id": "x6ucGXVZvymL",
        "outputId": "7af5f4c3-483f-4e53-8a47-4d03b06d44f2"
      },
      "outputs": [
        {
          "data": {
            "text/html": [
              "<div>\n",
              "<style scoped>\n",
              "    .dataframe tbody tr th:only-of-type {\n",
              "        vertical-align: middle;\n",
              "    }\n",
              "\n",
              "    .dataframe tbody tr th {\n",
              "        vertical-align: top;\n",
              "    }\n",
              "\n",
              "    .dataframe thead th {\n",
              "        text-align: right;\n",
              "    }\n",
              "</style>\n",
              "<table border=\"1\" class=\"dataframe\">\n",
              "  <thead>\n",
              "    <tr style=\"text-align: right;\">\n",
              "      <th></th>\n",
              "      <th>eu_sales</th>\n",
              "    </tr>\n",
              "    <tr>\n",
              "      <th>genre</th>\n",
              "      <th></th>\n",
              "    </tr>\n",
              "  </thead>\n",
              "  <tbody>\n",
              "    <tr>\n",
              "      <th>Action</th>\n",
              "      <td>159.34</td>\n",
              "    </tr>\n",
              "    <tr>\n",
              "      <th>Shooter</th>\n",
              "      <td>113.47</td>\n",
              "    </tr>\n",
              "    <tr>\n",
              "      <th>Sports</th>\n",
              "      <td>69.09</td>\n",
              "    </tr>\n",
              "    <tr>\n",
              "      <th>Role-Playing</th>\n",
              "      <td>48.53</td>\n",
              "    </tr>\n",
              "    <tr>\n",
              "      <th>Racing</th>\n",
              "      <td>27.29</td>\n",
              "    </tr>\n",
              "  </tbody>\n",
              "</table>\n",
              "</div>"
            ],
            "text/plain": [
              "              eu_sales\n",
              "genre                 \n",
              "Action          159.34\n",
              "Shooter         113.47\n",
              "Sports           69.09\n",
              "Role-Playing     48.53\n",
              "Racing           27.29"
            ]
          },
          "execution_count": 55,
          "metadata": {},
          "output_type": "execute_result"
        }
      ],
      "source": [
        "#выведем пять популярных жанров игр в Европе\n",
        "data_from_2012.groupby('genre')[['eu_sales']].sum().\\\n",
        "sort_values(by=('eu_sales'), ascending=False).head()"
      ]
    },
    {
      "cell_type": "markdown",
      "metadata": {
        "id": "KMZr2BKWvymS"
      },
      "source": [
        "Пять популярных жанров игр в Европе - **Action, Shooter, Sports, Role-Playing, Racing**. Лидирующие значения у **Action, Shooter** составляют 159,34 и 113,47,  остальные имеют меньше продаж и  приблизительно находятся в одном диапазоне."
      ]
    },
    {
      "cell_type": "code",
      "execution_count": null,
      "metadata": {
        "scrolled": true,
        "id": "8g3mtGaevymU",
        "outputId": "332e40e4-c69f-41e7-b349-0796fc9699f8"
      },
      "outputs": [
        {
          "data": {
            "text/html": [
              "<div>\n",
              "<style scoped>\n",
              "    .dataframe tbody tr th:only-of-type {\n",
              "        vertical-align: middle;\n",
              "    }\n",
              "\n",
              "    .dataframe tbody tr th {\n",
              "        vertical-align: top;\n",
              "    }\n",
              "\n",
              "    .dataframe thead th {\n",
              "        text-align: right;\n",
              "    }\n",
              "</style>\n",
              "<table border=\"1\" class=\"dataframe\">\n",
              "  <thead>\n",
              "    <tr style=\"text-align: right;\">\n",
              "      <th></th>\n",
              "      <th>jp_sales</th>\n",
              "    </tr>\n",
              "    <tr>\n",
              "      <th>genre</th>\n",
              "      <th></th>\n",
              "    </tr>\n",
              "  </thead>\n",
              "  <tbody>\n",
              "    <tr>\n",
              "      <th>Role-Playing</th>\n",
              "      <td>65.44</td>\n",
              "    </tr>\n",
              "    <tr>\n",
              "      <th>Action</th>\n",
              "      <td>52.80</td>\n",
              "    </tr>\n",
              "    <tr>\n",
              "      <th>Misc</th>\n",
              "      <td>12.86</td>\n",
              "    </tr>\n",
              "    <tr>\n",
              "      <th>Simulation</th>\n",
              "      <td>10.41</td>\n",
              "    </tr>\n",
              "    <tr>\n",
              "      <th>Fighting</th>\n",
              "      <td>9.44</td>\n",
              "    </tr>\n",
              "  </tbody>\n",
              "</table>\n",
              "</div>"
            ],
            "text/plain": [
              "              jp_sales\n",
              "genre                 \n",
              "Role-Playing     65.44\n",
              "Action           52.80\n",
              "Misc             12.86\n",
              "Simulation       10.41\n",
              "Fighting          9.44"
            ]
          },
          "execution_count": 56,
          "metadata": {},
          "output_type": "execute_result"
        }
      ],
      "source": [
        "#выведем пять популярных жанров игр в Японии\n",
        "data_from_2012.groupby('genre')[['jp_sales']].sum().\\\n",
        "sort_values(by=('jp_sales'), ascending=False).head()"
      ]
    },
    {
      "cell_type": "markdown",
      "metadata": {
        "id": "LbuhxsI9vymf"
      },
      "source": [
        "Пять популярных жанров игр в Японии - **Role-Playing, Action, Misc,  Simulation, Fighting**. Лидирующие значения у **Role-Playing** составляют 65,44, **Action** - 52,80, остальные имеют меньше продаж и  приблизительно находятся в одном диапазоне.\n",
        "\n",
        "Отметим, что в Европе и Северной Америке поппулярные платформы **Action, Shooter**, а в Японии **Role-Playing, Action**."
      ]
    },
    {
      "cell_type": "code",
      "execution_count": null,
      "metadata": {
        "id": "1f2Ym-Grvymh",
        "outputId": "26fa8384-8e84-4708-e34a-807db0144192"
      },
      "outputs": [
        {
          "data": {
            "text/html": [
              "<div>\n",
              "<style scoped>\n",
              "    .dataframe tbody tr th:only-of-type {\n",
              "        vertical-align: middle;\n",
              "    }\n",
              "\n",
              "    .dataframe tbody tr th {\n",
              "        vertical-align: top;\n",
              "    }\n",
              "\n",
              "    .dataframe thead th {\n",
              "        text-align: right;\n",
              "    }\n",
              "</style>\n",
              "<table border=\"1\" class=\"dataframe\">\n",
              "  <thead>\n",
              "    <tr style=\"text-align: right;\">\n",
              "      <th></th>\n",
              "      <th>na_sales</th>\n",
              "    </tr>\n",
              "    <tr>\n",
              "      <th>rating</th>\n",
              "      <th></th>\n",
              "    </tr>\n",
              "  </thead>\n",
              "  <tbody>\n",
              "    <tr>\n",
              "      <th>M</th>\n",
              "      <td>231.57</td>\n",
              "    </tr>\n",
              "    <tr>\n",
              "      <th>E</th>\n",
              "      <td>114.37</td>\n",
              "    </tr>\n",
              "    <tr>\n",
              "      <th>unknown</th>\n",
              "      <td>103.31</td>\n",
              "    </tr>\n",
              "    <tr>\n",
              "      <th>E10+</th>\n",
              "      <td>75.70</td>\n",
              "    </tr>\n",
              "    <tr>\n",
              "      <th>T</th>\n",
              "      <td>66.02</td>\n",
              "    </tr>\n",
              "  </tbody>\n",
              "</table>\n",
              "</div>"
            ],
            "text/plain": [
              "         na_sales\n",
              "rating           \n",
              "M          231.57\n",
              "E          114.37\n",
              "unknown    103.31\n",
              "E10+        75.70\n",
              "T           66.02"
            ]
          },
          "execution_count": 57,
          "metadata": {},
          "output_type": "execute_result"
        }
      ],
      "source": [
        "#выведем продажи 5 самых продаваемых рейтингов в Северной Америке\n",
        "data_from_2012.groupby('rating')[['na_sales']].sum().\\\n",
        "sort_values(by=('na_sales'), ascending=False).head()"
      ]
    },
    {
      "cell_type": "markdown",
      "metadata": {
        "id": "-jWI6StRvymk"
      },
      "source": [
        "Пять популярных рейтингов игр в Северной Америке - **M, E, unknown, E10+, T**. Лидирующие значения у **M** составляют 231,57, **E** - 114,37, **unknown** - 103,37,  остальные имеют меньше продаж."
      ]
    },
    {
      "cell_type": "code",
      "execution_count": null,
      "metadata": {
        "id": "gOVRzB4Pvymm",
        "outputId": "c433fa7c-3b27-47ac-e53d-2252fe7b669c"
      },
      "outputs": [
        {
          "data": {
            "text/html": [
              "<div>\n",
              "<style scoped>\n",
              "    .dataframe tbody tr th:only-of-type {\n",
              "        vertical-align: middle;\n",
              "    }\n",
              "\n",
              "    .dataframe tbody tr th {\n",
              "        vertical-align: top;\n",
              "    }\n",
              "\n",
              "    .dataframe thead th {\n",
              "        text-align: right;\n",
              "    }\n",
              "</style>\n",
              "<table border=\"1\" class=\"dataframe\">\n",
              "  <thead>\n",
              "    <tr style=\"text-align: right;\">\n",
              "      <th></th>\n",
              "      <th>eu_sales</th>\n",
              "    </tr>\n",
              "    <tr>\n",
              "      <th>rating</th>\n",
              "      <th></th>\n",
              "    </tr>\n",
              "  </thead>\n",
              "  <tbody>\n",
              "    <tr>\n",
              "      <th>M</th>\n",
              "      <td>193.96</td>\n",
              "    </tr>\n",
              "    <tr>\n",
              "      <th>E</th>\n",
              "      <td>113.03</td>\n",
              "    </tr>\n",
              "    <tr>\n",
              "      <th>unknown</th>\n",
              "      <td>91.50</td>\n",
              "    </tr>\n",
              "    <tr>\n",
              "      <th>E10+</th>\n",
              "      <td>55.37</td>\n",
              "    </tr>\n",
              "    <tr>\n",
              "      <th>T</th>\n",
              "      <td>52.96</td>\n",
              "    </tr>\n",
              "  </tbody>\n",
              "</table>\n",
              "</div>"
            ],
            "text/plain": [
              "         eu_sales\n",
              "rating           \n",
              "M          193.96\n",
              "E          113.03\n",
              "unknown     91.50\n",
              "E10+        55.37\n",
              "T           52.96"
            ]
          },
          "execution_count": 58,
          "metadata": {},
          "output_type": "execute_result"
        }
      ],
      "source": [
        "#выведем продажи 5 самых продаваемых рейтингов в Европе\n",
        "data_from_2012.groupby('rating')[['eu_sales']].sum().\\\n",
        "sort_values(by=('eu_sales'), ascending=False).head()"
      ]
    },
    {
      "cell_type": "markdown",
      "metadata": {
        "id": "PwOq2VsJvymp"
      },
      "source": [
        "Пять популярных рейтингов игр в Европе те же  - **M, E, unknown, E10+, T**. Лидирующие значения у **M** составляют 193,96, **E** - 113,03,  **unknown** - 91,50, остальные имеют меньше продаж и  приблизительно находятся в одном диапазоне."
      ]
    },
    {
      "cell_type": "code",
      "execution_count": null,
      "metadata": {
        "id": "dAVgcCaNvymr",
        "outputId": "b09addf8-f62d-4343-a534-7218936340f8"
      },
      "outputs": [
        {
          "data": {
            "text/html": [
              "<div>\n",
              "<style scoped>\n",
              "    .dataframe tbody tr th:only-of-type {\n",
              "        vertical-align: middle;\n",
              "    }\n",
              "\n",
              "    .dataframe tbody tr th {\n",
              "        vertical-align: top;\n",
              "    }\n",
              "\n",
              "    .dataframe thead th {\n",
              "        text-align: right;\n",
              "    }\n",
              "</style>\n",
              "<table border=\"1\" class=\"dataframe\">\n",
              "  <thead>\n",
              "    <tr style=\"text-align: right;\">\n",
              "      <th></th>\n",
              "      <th>jp_sales</th>\n",
              "    </tr>\n",
              "    <tr>\n",
              "      <th>rating</th>\n",
              "      <th></th>\n",
              "    </tr>\n",
              "  </thead>\n",
              "  <tbody>\n",
              "    <tr>\n",
              "      <th>unknown</th>\n",
              "      <td>108.84</td>\n",
              "    </tr>\n",
              "    <tr>\n",
              "      <th>E</th>\n",
              "      <td>28.33</td>\n",
              "    </tr>\n",
              "    <tr>\n",
              "      <th>T</th>\n",
              "      <td>26.02</td>\n",
              "    </tr>\n",
              "    <tr>\n",
              "      <th>M</th>\n",
              "      <td>21.20</td>\n",
              "    </tr>\n",
              "    <tr>\n",
              "      <th>E10+</th>\n",
              "      <td>8.19</td>\n",
              "    </tr>\n",
              "  </tbody>\n",
              "</table>\n",
              "</div>"
            ],
            "text/plain": [
              "         jp_sales\n",
              "rating           \n",
              "unknown    108.84\n",
              "E           28.33\n",
              "T           26.02\n",
              "M           21.20\n",
              "E10+         8.19"
            ]
          },
          "execution_count": 59,
          "metadata": {},
          "output_type": "execute_result"
        }
      ],
      "source": [
        "#выведем продажи 5 самых продаваемых рейтингов в Японии\n",
        "data_from_2012.groupby('rating')[['jp_sales']].sum().\\\n",
        "sort_values(by=('jp_sales'), ascending=False).head()"
      ]
    },
    {
      "cell_type": "markdown",
      "metadata": {
        "id": "TmkSBq7nvymu"
      },
      "source": [
        "Пять популярных рейтингов игр в Японии  - **unknown, E, T, M, E10+**. Лидирующие значения у игр не имеющих рейтинг **unknown** составляют 108,84, **E** -28,33, **T** -26,02 остальные имеют меньше продаж. \n",
        "\n",
        "Отметим, что популярная платформа в Японии **unknown**, занимает 3 место в Европе и Северной Америке."
      ]
    },
    {
      "cell_type": "markdown",
      "metadata": {
        "id": "uw5oluCqvymz"
      },
      "source": [
        "### Шаг. Проверьте гипотезы"
      ]
    },
    {
      "cell_type": "code",
      "execution_count": null,
      "metadata": {
        "id": "SIV3bS_zvym2",
        "outputId": "26d0f311-4f0d-435d-c933-f3e161a38061"
      },
      "outputs": [
        {
          "name": "stdout",
          "output_type": "stream",
          "text": [
            "Средние пользовательские оценки XOne: 4.805263\n",
            "Средние пользовательские оценки PC: 5.2972\n",
            "0.06811017214972821\n",
            "Не получилось отвергнуть нулевую гипотезу\n"
          ]
        }
      ],
      "source": [
        "#Проверим Hо гипотезу, что средние пользовательские рейтинги платформ Xbox One и PC одинаковые\n",
        "XOne = data_from_2012[data_from_2012['platform'] =='XOne']['user_score']\n",
        "PC = data_from_2012[data_from_2012['platform'] =='PC']['user_score']\n",
        "\n",
        "print('Средние пользовательские оценки XOne:', XOne.mean())\n",
        "print('Средние пользовательские оценки PC:', PC.mean())\n",
        "\n",
        "results = st.ttest_ind(\n",
        "    XOne,\n",
        "    PC,\n",
        "    equal_var=False\n",
        ")\n",
        "   \n",
        "\n",
        "alpha = 0.05\n",
        "\n",
        "print(results.pvalue)\n",
        "\n",
        "if results.pvalue < alpha:\n",
        "    print(\"Отвергаем нулевую гипотезу\")\n",
        "else:\n",
        "    print(\"Не получилось отвергнуть нулевую гипотезу\")"
      ]
    },
    {
      "cell_type": "markdown",
      "metadata": {
        "id": "Ke_9WWkGvym4"
      },
      "source": [
        "**Hо гипотеза** - средние пользовательские рейтинги платформ Xbox One и PC одинаковые.\n",
        "\n",
        "**H1 гипотеза** - средние пользовательские рейтинги платформ Xbox One и PC разные.\n",
        "\n",
        "Видим, что Средние пользовательские оценки **XOne: 4.81**, а Средние пользовательские оценки **PC: 5.30**, вероятность получить наблюдаемый результат **pvalue = 0.068** это больше порогового значения **alpha =0.05**. Поэтому не получилось отвергнуть нулевую гипотезу"
      ]
    },
    {
      "cell_type": "code",
      "execution_count": null,
      "metadata": {
        "id": "gAsuieiFvym9",
        "outputId": "05aab8ee-8857-4a3b-91a1-a08b1f88279c"
      },
      "outputs": [
        {
          "name": "stdout",
          "output_type": "stream",
          "text": [
            "Среднее пользовательских рейтингов Action: 3.4621727\n",
            "Среднее пользовательских рейтингов Sports: 3.9697762\n",
            "0.01416698849151676\n",
            "Отвергаем нулевую гипотезу\n"
          ]
        }
      ],
      "source": [
        "#Выберем за Hо гипотезу - Средние пользовательские рейтинги жанров Action и Sports одинаковые.\n",
        "action = data_from_2012[data_from_2012['genre'] =='Action']['user_score']\n",
        "sports = data_from_2012[data_from_2012['genre'] =='Sports']['user_score']\n",
        "\n",
        "print('Среднее пользовательских рейтингов Action:', action.mean())\n",
        "print('Среднее пользовательских рейтингов Sports:', sports.mean())\n",
        "\n",
        "results = st.ttest_ind(\n",
        "    action,\n",
        "    sports,\n",
        "    equal_var=False\n",
        ")\n",
        "   \n",
        "\n",
        "alpha = 0.05\n",
        "\n",
        "print(results.pvalue)\n",
        "\n",
        "if results.pvalue < alpha:\n",
        "    print(\"Отвергаем нулевую гипотезу\")\n",
        "else:\n",
        "    print(\"Не получилось отвергнуть нулевую гипотезу\")"
      ]
    },
    {
      "cell_type": "markdown",
      "metadata": {
        "id": "CO2O4xEqvynA"
      },
      "source": [
        "Выберем за **Hо гипотезу** - Средние пользовательские рейтинги жанров Action и Sports одинаковые.\n",
        "\n",
        " **H1 гипотеза** - Средние пользовательские рейтинги жанров Action и Sports разные.\n",
        "\n",
        "Видим, что Среднее пользовательских рейтингов **Action: 3.46**, а Среднее пользовательских рейтингов **Sports: 3.97**, они не равны. Вероятность получить наблюдаемый результат **pvalue = 0.014** меньше порогового значения **alpha =0.05**. Поэтому Отвергаем нулевую гипотезу.\n"
      ]
    },
    {
      "cell_type": "markdown",
      "metadata": {
        "id": "hdg-B8UZvynE"
      },
      "source": [
        "### Шаг. Общий вывод"
      ]
    },
    {
      "cell_type": "markdown",
      "metadata": {
        "id": "LHudTuwjvynF"
      },
      "source": [
        "Были изученны данные интернет-магазина «Стримчик», который продаёт по всему миру компьютерные игры. Из открытых источников доступны исторические данные о продажах игр, оценки пользователей и экспертов, жанры и платформы (например, Xbox или PlayStation). Задача выявить определяющие успешность игры закономерности. Чтобы сделать ставку на потенциально популярный продукт и спланировать рекламные кампании. Перед нами данные были до 2016 года. 2016 год не полный, не содержит данные за декабрь.\n",
        "\n",
        "Данные в столбцах **critic_score, user_score, rating** имели большой процент пропусков, в первом случае даже больше половины -51,3%, остальные  40%. Не все платормы были оценены критиками и пользователями.\n",
        "\n",
        "За **актуальный период** выберем период с 2012 до 2016 год. Имеем ввиду, что 2016 год не полный, там отсутствуют данные за декабрь. По таблице и графику видно, что максимальные продажи к 2015 году имеют платформы PS4 и  XOne, у остальных значения упали в 2015 году, вероятно, что и в 2016 году не догонят уже значения предыдущего года. \n",
        "Также отметим, что эти две платформы появились в 2013 году. Помним, что средняя жизнь одной платформы около 10-12 лет, это значит, что и продажи **PS4 и  XOne** будут расти. \n",
        "\n",
        "Также интересна платформа **PC**, которая выпускается 27 лет и видно, что продажи по ней то высокие, тонзкие, то опять немного растут. Поэтому отметим и ее. Платформа **PSV**  значения не большие, но можно понаблюдать за ней.\n",
        "\n",
        "По диаграммам размаха трех интересующих нас платформ **\"PS4\", \"XOne\", \"PC\"**. Отметили, что медианы и минимальная граница выбросов смещены влево, ближе к нулю. Рассстояние от третьего квартиля и макимальная граница выбросов имеют широкий диапазон. Медианы у платформ **PS4 и XOne** имеют близкое положение, и сами диаграммы схожи. Когда как у платформы **PC** сама диаграмма мала и медиана около 10.\n",
        "\n",
        "Видно, что у платформы **PC** медиана на значении 0,08, ср. значение 0,25, стандартное отклонение 0,49.\n",
        "\n",
        "У платформы **PS4** медиана на значении 0,20, ср. значение 0,80, а вот стандартное отклонение 1,6.\n",
        "\n",
        "У платформы **XOne** медиана на значении 0,31, ср. значение 0,81, а вот стандартное отклонение 1,7.\n",
        "\n",
        "Интересно, что платформа **PSV** медиана на значении 0,05, ср. значение 0,12, стандартное отклонение 0,2, среди тех, которые еще выпускаются, это самое маленькое отклонение. Т.е. у **PSV** разброс величин отличается от среднего на 0,2.\n",
        "\n",
        "Отметим, что у всех платформ минимальное значение 0,01, а медианы приблизительно одинаковы, по графику и таблице видно, что третий квартиль у всех разный.\n",
        "\n",
        "По анализу диаграмм двух перспективных платформ **PS4 и  XOne** и коффицента коррляции сделали вывод для всех остальных платформ, что оценка критиков незначительно влияет на увеличение продаж, а оценка пользователей еще меньше. Они обе ближе к нулю, чем к 1.  \n",
        "\n",
        "По количеству общих продаж значительно выделяются жанры **Action**\n",
        "\n",
        "По общей сумме продаж лидирует жанр **Shooter**, второе место занимает **Platform**, затем **Sports, Role-Playing, Racing** имеют приблизительно одинаковые продажи, остальные ниже.\n",
        "\n",
        "В Северной Америке 5 самых продаваемых платформ являются **X360, PS4, PS3, XOne, 3DS** по убыванию.\n",
        "\n",
        "От общей доли продаж в Северной Америке **X360** имеет 23.7%, **PS4** - 18.4%, **PS3, XOne, 3DS** - 17.5%, 15.8% и 9.4% соответственно. Доля продаж всех остальных платформ 15.3% \n",
        "\n",
        "В Европе 5 самых продаваемых платформ  являются **PS4, PS3, X360, XOne, 3DS** по убыванию. **PS4**  преобладает по продажам и большого преобладания по продажам по сравнению среди остальных нет.\n",
        "\n",
        "От общей доли продаж в Европе **PS4** имеет 27.8%, **PS3** - 21.1%, **X360, XOne, 3DS** - 14.7%, 10.2% и 8.4% соответственно. Доля продаж всех остальных платформ 17.8% \n",
        "\n",
        "В Японии 5 самых продаваемых платформ являются **3DS, PS3, PSV, PS4, WiiU** по убыванию. **3DS**  имеет наибольшее преобладание по продажам по сравнению с остальными. Остальные приблизительно в одном диапазоне.\n",
        "\n",
        "От общей доли продаж в Японии **3DS** имеет 45.6%, **PS3** - 18.3%, **PSV, PS4, WiiU** - 10.9%, 8.3% и 6.8% соответственно. Доля продаж всех остальных платформ 10.1%.\n",
        "\n",
        "Так же отметим, что самая популярная платформа в Японии **3DS**, занимает 5 место в Европе и Северной Америке. \n",
        "\n",
        "Пять популярных жанров игр в Северной Америке - **Action, Shooter, Sports, Role-Playing, Misc**. Лидирующие значения у **Action, Shooter** составляют 177,84 и 144,77, остальные имеют меньше продаж и  приблизительно находятся в одном диапазоне.\n",
        "\n",
        "Пять популярных жанров игр в Европе - **Action, Shooter, Sports, Role-Playing, Racing**. Лидирующие значения у **Action, Shooter** составляют 159,34 и 113,47,  остальные имеют меньше продаж и  приблизительно находятся в одном диапазоне.\n",
        "\n",
        "Пять популярных жанров игр в Японии - **Role-Playing, Action, Misc,  Simulation, Fighting**. Лидирующие значения у **Role-Playing** составляют 65,44, **Action** - 52,80, остальные имеют меньше продаж и  приблизительно находятся в одном диапазоне.\n",
        "\n",
        "Отметим, что в Европе и Северной Америке поппулярные платформы **Action, Shooter**, а в Японии **Role-Playing, Action**.\n",
        "\n",
        "Пять популярных рейтингов игр в Северной Америке - **M, E, unknown, E10+, T**. Лидирующие значения у **M** составляют 231,57, **E** - 114,37, **unknown** - 103,37,  остальные имеют меньше продаж.\n",
        "\n",
        "Пять популярных рейтингов игр в Европе те же  - **M, E, unknown, E10+, T**. Лидирующие значения у **M** составляют 193,96, **E** - 113,03,  **unknown** - 91,50, остальные имеют меньше продаж и  приблизительно находятся в одном диапазоне.\n",
        "\n",
        "Пять популярных рейтингов игр в Японии  - **unknown, E, T, M, E10+**. Лидирующие значения у игр не имеющих рейтинг **unknown** составляют 108,84, **E** -28,33, **T** -26,02 остальные имеют меньше продаж. \n",
        "\n",
        "Отметим, что популярная платформа в Японии **unknown**, занимает 3 место в Европе и Северной Америке.\n",
        "\n",
        "Средние пользовательские рейтинги платформ **Xbox One и PC одинаковые**.\n",
        "Средние пользовательские рейтинги жанров **Action и Sports разные**."
      ]
    },
    {
      "cell_type": "code",
      "execution_count": null,
      "metadata": {
        "id": "J00K6d1fvynQ"
      },
      "outputs": [],
      "source": []
    }
  ],
  "metadata": {
    "ExecuteTimeLog": [
      {
        "duration": 918,
        "start_time": "2022-11-28T15:30:30.254Z"
      },
      {
        "duration": 71,
        "start_time": "2022-11-28T15:39:59.440Z"
      },
      {
        "duration": 42,
        "start_time": "2022-11-28T15:51:24.029Z"
      },
      {
        "duration": 57,
        "start_time": "2022-11-28T15:51:32.332Z"
      },
      {
        "duration": 5,
        "start_time": "2022-11-28T15:52:46.518Z"
      },
      {
        "duration": 11,
        "start_time": "2022-11-28T15:52:57.013Z"
      },
      {
        "duration": 6,
        "start_time": "2022-11-28T15:53:03.985Z"
      },
      {
        "duration": 59,
        "start_time": "2022-11-28T15:53:30.962Z"
      },
      {
        "duration": 50,
        "start_time": "2022-11-28T15:55:27.041Z"
      },
      {
        "duration": 7,
        "start_time": "2022-11-28T15:56:02.899Z"
      },
      {
        "duration": 6,
        "start_time": "2022-11-28T15:56:18.661Z"
      },
      {
        "duration": 6,
        "start_time": "2022-11-28T15:56:40.474Z"
      },
      {
        "duration": 6,
        "start_time": "2022-11-28T15:57:09.302Z"
      },
      {
        "duration": 5,
        "start_time": "2022-11-28T16:00:07.050Z"
      },
      {
        "duration": 14,
        "start_time": "2022-11-28T16:09:10.376Z"
      },
      {
        "duration": 4,
        "start_time": "2022-11-28T16:12:10.749Z"
      },
      {
        "duration": 9,
        "start_time": "2022-11-28T16:12:12.210Z"
      },
      {
        "duration": 11,
        "start_time": "2022-11-28T16:15:52.012Z"
      },
      {
        "duration": 16,
        "start_time": "2022-11-28T16:17:10.973Z"
      },
      {
        "duration": 9,
        "start_time": "2022-11-28T16:17:32.540Z"
      },
      {
        "duration": 62,
        "start_time": "2022-11-28T16:17:39.435Z"
      },
      {
        "duration": 6,
        "start_time": "2022-11-28T16:17:39.498Z"
      },
      {
        "duration": 8,
        "start_time": "2022-11-28T16:17:39.505Z"
      },
      {
        "duration": 12,
        "start_time": "2022-11-28T16:17:39.514Z"
      },
      {
        "duration": 7,
        "start_time": "2022-11-28T16:17:39.527Z"
      },
      {
        "duration": 19,
        "start_time": "2022-11-28T16:17:39.538Z"
      },
      {
        "duration": 5,
        "start_time": "2022-11-28T16:19:28.360Z"
      },
      {
        "duration": 8,
        "start_time": "2022-11-28T16:21:13.545Z"
      },
      {
        "duration": 7,
        "start_time": "2022-11-28T16:29:30.519Z"
      },
      {
        "duration": 6,
        "start_time": "2022-11-28T16:29:42.233Z"
      },
      {
        "duration": 5,
        "start_time": "2022-11-28T16:30:22.070Z"
      },
      {
        "duration": 11,
        "start_time": "2022-11-28T16:33:38.358Z"
      },
      {
        "duration": 11,
        "start_time": "2022-11-28T16:38:20.933Z"
      },
      {
        "duration": 11,
        "start_time": "2022-11-28T16:38:32.392Z"
      },
      {
        "duration": 4,
        "start_time": "2022-11-28T16:38:38.294Z"
      },
      {
        "duration": 5,
        "start_time": "2022-11-28T17:02:35.691Z"
      },
      {
        "duration": 6,
        "start_time": "2022-11-28T17:03:50.284Z"
      },
      {
        "duration": 17,
        "start_time": "2022-11-28T17:04:53.471Z"
      },
      {
        "duration": 5,
        "start_time": "2022-11-28T17:07:11.906Z"
      },
      {
        "duration": 5,
        "start_time": "2022-11-28T18:13:40.765Z"
      },
      {
        "duration": 7,
        "start_time": "2022-11-28T18:14:46.267Z"
      },
      {
        "duration": 47,
        "start_time": "2022-11-29T10:31:19.602Z"
      },
      {
        "duration": 925,
        "start_time": "2022-11-29T10:31:28.582Z"
      },
      {
        "duration": 6,
        "start_time": "2022-11-29T10:31:29.510Z"
      },
      {
        "duration": 7,
        "start_time": "2022-11-29T10:31:29.518Z"
      },
      {
        "duration": 12,
        "start_time": "2022-11-29T10:31:29.528Z"
      },
      {
        "duration": 4,
        "start_time": "2022-11-29T10:31:29.542Z"
      },
      {
        "duration": 8,
        "start_time": "2022-11-29T10:31:29.547Z"
      },
      {
        "duration": 44,
        "start_time": "2022-11-29T10:31:29.557Z"
      },
      {
        "duration": 4,
        "start_time": "2022-11-29T10:31:29.602Z"
      },
      {
        "duration": 7,
        "start_time": "2022-11-29T10:31:29.608Z"
      },
      {
        "duration": 8,
        "start_time": "2022-11-29T10:31:29.617Z"
      },
      {
        "duration": 16,
        "start_time": "2022-11-29T10:31:29.627Z"
      },
      {
        "duration": 5,
        "start_time": "2022-11-29T10:31:29.645Z"
      },
      {
        "duration": 8,
        "start_time": "2022-11-29T10:31:29.651Z"
      },
      {
        "duration": 37,
        "start_time": "2022-11-29T10:31:29.660Z"
      },
      {
        "duration": 9,
        "start_time": "2022-11-29T10:31:29.699Z"
      },
      {
        "duration": 5,
        "start_time": "2022-11-29T10:32:25.249Z"
      },
      {
        "duration": 5,
        "start_time": "2022-11-29T10:33:23.376Z"
      },
      {
        "duration": 7,
        "start_time": "2022-11-29T10:33:33.376Z"
      },
      {
        "duration": 8,
        "start_time": "2022-11-29T10:33:56.086Z"
      },
      {
        "duration": 6,
        "start_time": "2022-11-29T10:34:08.830Z"
      },
      {
        "duration": 5,
        "start_time": "2022-11-29T10:34:55.339Z"
      },
      {
        "duration": 7,
        "start_time": "2022-11-29T10:35:12.692Z"
      },
      {
        "duration": 9,
        "start_time": "2022-11-29T10:35:42.948Z"
      },
      {
        "duration": 10,
        "start_time": "2022-11-29T10:36:00.218Z"
      },
      {
        "duration": 25,
        "start_time": "2022-11-29T11:04:24.117Z"
      },
      {
        "duration": 24,
        "start_time": "2022-11-29T11:05:01.651Z"
      },
      {
        "duration": 9,
        "start_time": "2022-11-29T11:05:27.072Z"
      },
      {
        "duration": 41,
        "start_time": "2022-11-29T11:05:50.004Z"
      },
      {
        "duration": 11,
        "start_time": "2022-11-29T11:06:10.329Z"
      },
      {
        "duration": 8,
        "start_time": "2022-11-29T11:10:57.073Z"
      },
      {
        "duration": 4,
        "start_time": "2022-11-29T11:11:29.466Z"
      },
      {
        "duration": 183,
        "start_time": "2022-11-29T11:11:43.894Z"
      },
      {
        "duration": 920,
        "start_time": "2022-11-30T08:20:11.185Z"
      },
      {
        "duration": 5,
        "start_time": "2022-11-30T08:20:12.107Z"
      },
      {
        "duration": 39,
        "start_time": "2022-11-30T08:20:12.114Z"
      },
      {
        "duration": 20,
        "start_time": "2022-11-30T08:20:12.155Z"
      },
      {
        "duration": 27,
        "start_time": "2022-11-30T08:20:12.177Z"
      },
      {
        "duration": 29,
        "start_time": "2022-11-30T08:20:12.205Z"
      },
      {
        "duration": 54,
        "start_time": "2022-11-30T08:20:12.236Z"
      },
      {
        "duration": 39,
        "start_time": "2022-11-30T08:20:12.291Z"
      },
      {
        "duration": 103,
        "start_time": "2022-11-30T08:20:12.331Z"
      },
      {
        "duration": 0,
        "start_time": "2022-11-30T08:20:12.436Z"
      },
      {
        "duration": 0,
        "start_time": "2022-11-30T08:20:12.439Z"
      },
      {
        "duration": 0,
        "start_time": "2022-11-30T08:20:12.440Z"
      },
      {
        "duration": 0,
        "start_time": "2022-11-30T08:20:12.441Z"
      },
      {
        "duration": 0,
        "start_time": "2022-11-30T08:20:12.443Z"
      },
      {
        "duration": 0,
        "start_time": "2022-11-30T08:20:12.445Z"
      },
      {
        "duration": 0,
        "start_time": "2022-11-30T08:20:12.452Z"
      },
      {
        "duration": 0,
        "start_time": "2022-11-30T08:20:12.453Z"
      },
      {
        "duration": 0,
        "start_time": "2022-11-30T08:20:12.454Z"
      },
      {
        "duration": 0,
        "start_time": "2022-11-30T08:20:12.456Z"
      },
      {
        "duration": 0,
        "start_time": "2022-11-30T08:20:12.457Z"
      },
      {
        "duration": 14,
        "start_time": "2022-11-30T08:20:46.011Z"
      },
      {
        "duration": 8,
        "start_time": "2022-11-30T08:31:16.268Z"
      },
      {
        "duration": 981,
        "start_time": "2022-11-30T08:31:32.910Z"
      },
      {
        "duration": 59,
        "start_time": "2022-11-30T08:31:41.459Z"
      },
      {
        "duration": 5,
        "start_time": "2022-11-30T08:31:41.520Z"
      },
      {
        "duration": 17,
        "start_time": "2022-11-30T08:31:41.526Z"
      },
      {
        "duration": 15,
        "start_time": "2022-11-30T08:31:41.545Z"
      },
      {
        "duration": 13,
        "start_time": "2022-11-30T08:31:41.562Z"
      },
      {
        "duration": 9,
        "start_time": "2022-11-30T08:31:41.577Z"
      },
      {
        "duration": 17,
        "start_time": "2022-11-30T08:31:41.588Z"
      },
      {
        "duration": 5,
        "start_time": "2022-11-30T08:31:41.606Z"
      },
      {
        "duration": 15,
        "start_time": "2022-11-30T08:31:41.612Z"
      },
      {
        "duration": 0,
        "start_time": "2022-11-30T08:31:41.628Z"
      },
      {
        "duration": 0,
        "start_time": "2022-11-30T08:31:41.629Z"
      },
      {
        "duration": 0,
        "start_time": "2022-11-30T08:31:41.630Z"
      },
      {
        "duration": 0,
        "start_time": "2022-11-30T08:31:41.631Z"
      },
      {
        "duration": 0,
        "start_time": "2022-11-30T08:31:41.633Z"
      },
      {
        "duration": 0,
        "start_time": "2022-11-30T08:31:41.633Z"
      },
      {
        "duration": 15,
        "start_time": "2022-11-30T08:31:41.654Z"
      },
      {
        "duration": 6,
        "start_time": "2022-11-30T08:31:41.671Z"
      },
      {
        "duration": 5,
        "start_time": "2022-11-30T08:31:41.679Z"
      },
      {
        "duration": 8,
        "start_time": "2022-11-30T08:31:41.693Z"
      },
      {
        "duration": 4,
        "start_time": "2022-11-30T08:31:41.711Z"
      },
      {
        "duration": 5,
        "start_time": "2022-11-30T08:31:41.721Z"
      },
      {
        "duration": 9,
        "start_time": "2022-11-30T08:32:16.854Z"
      },
      {
        "duration": 8,
        "start_time": "2022-11-30T08:32:27.596Z"
      },
      {
        "duration": 7,
        "start_time": "2022-11-30T08:32:35.060Z"
      },
      {
        "duration": 62,
        "start_time": "2022-11-30T08:33:22.901Z"
      },
      {
        "duration": 5,
        "start_time": "2022-11-30T08:33:22.965Z"
      },
      {
        "duration": 8,
        "start_time": "2022-11-30T08:33:22.971Z"
      },
      {
        "duration": 12,
        "start_time": "2022-11-30T08:33:22.981Z"
      },
      {
        "duration": 3,
        "start_time": "2022-11-30T08:33:22.995Z"
      },
      {
        "duration": 7,
        "start_time": "2022-11-30T08:33:22.999Z"
      },
      {
        "duration": 11,
        "start_time": "2022-11-30T08:33:23.008Z"
      },
      {
        "duration": 35,
        "start_time": "2022-11-30T08:33:23.020Z"
      },
      {
        "duration": 15,
        "start_time": "2022-11-30T08:33:23.057Z"
      },
      {
        "duration": 0,
        "start_time": "2022-11-30T08:33:23.074Z"
      },
      {
        "duration": 0,
        "start_time": "2022-11-30T08:33:23.075Z"
      },
      {
        "duration": 0,
        "start_time": "2022-11-30T08:33:23.076Z"
      },
      {
        "duration": 0,
        "start_time": "2022-11-30T08:33:23.077Z"
      },
      {
        "duration": 0,
        "start_time": "2022-11-30T08:33:23.078Z"
      },
      {
        "duration": 0,
        "start_time": "2022-11-30T08:33:23.079Z"
      },
      {
        "duration": 0,
        "start_time": "2022-11-30T08:33:23.080Z"
      },
      {
        "duration": 0,
        "start_time": "2022-11-30T08:33:23.081Z"
      },
      {
        "duration": 0,
        "start_time": "2022-11-30T08:33:23.083Z"
      },
      {
        "duration": 0,
        "start_time": "2022-11-30T08:33:23.084Z"
      },
      {
        "duration": 0,
        "start_time": "2022-11-30T08:33:23.084Z"
      },
      {
        "duration": 0,
        "start_time": "2022-11-30T08:33:23.086Z"
      },
      {
        "duration": 2,
        "start_time": "2022-11-30T08:33:49.373Z"
      },
      {
        "duration": 59,
        "start_time": "2022-11-30T08:34:06.288Z"
      },
      {
        "duration": 4,
        "start_time": "2022-11-30T08:34:06.349Z"
      },
      {
        "duration": 7,
        "start_time": "2022-11-30T08:34:06.355Z"
      },
      {
        "duration": 10,
        "start_time": "2022-11-30T08:34:06.364Z"
      },
      {
        "duration": 4,
        "start_time": "2022-11-30T08:34:06.376Z"
      },
      {
        "duration": 16,
        "start_time": "2022-11-30T08:34:06.381Z"
      },
      {
        "duration": 9,
        "start_time": "2022-11-30T08:34:06.399Z"
      },
      {
        "duration": 4,
        "start_time": "2022-11-30T08:34:06.410Z"
      },
      {
        "duration": 5,
        "start_time": "2022-11-30T08:34:06.415Z"
      },
      {
        "duration": 32,
        "start_time": "2022-11-30T08:34:06.423Z"
      },
      {
        "duration": 13,
        "start_time": "2022-11-30T08:34:06.457Z"
      },
      {
        "duration": 11,
        "start_time": "2022-11-30T08:34:06.472Z"
      },
      {
        "duration": 7,
        "start_time": "2022-11-30T08:34:06.485Z"
      },
      {
        "duration": 68,
        "start_time": "2022-11-30T08:34:06.493Z"
      },
      {
        "duration": 0,
        "start_time": "2022-11-30T08:34:06.563Z"
      },
      {
        "duration": 0,
        "start_time": "2022-11-30T08:34:06.564Z"
      },
      {
        "duration": 0,
        "start_time": "2022-11-30T08:34:06.565Z"
      },
      {
        "duration": 0,
        "start_time": "2022-11-30T08:34:06.566Z"
      },
      {
        "duration": 0,
        "start_time": "2022-11-30T08:34:06.568Z"
      },
      {
        "duration": 0,
        "start_time": "2022-11-30T08:34:06.569Z"
      },
      {
        "duration": 0,
        "start_time": "2022-11-30T08:34:06.570Z"
      },
      {
        "duration": 8,
        "start_time": "2022-11-30T08:35:42.012Z"
      },
      {
        "duration": 11,
        "start_time": "2022-11-30T08:35:57.823Z"
      },
      {
        "duration": 112,
        "start_time": "2022-11-30T08:37:05.990Z"
      },
      {
        "duration": 10,
        "start_time": "2022-11-30T08:37:39.261Z"
      },
      {
        "duration": 73,
        "start_time": "2022-11-30T08:37:58.922Z"
      },
      {
        "duration": 5,
        "start_time": "2022-11-30T08:37:58.997Z"
      },
      {
        "duration": 17,
        "start_time": "2022-11-30T08:37:59.003Z"
      },
      {
        "duration": 20,
        "start_time": "2022-11-30T08:37:59.022Z"
      },
      {
        "duration": 12,
        "start_time": "2022-11-30T08:37:59.043Z"
      },
      {
        "duration": 16,
        "start_time": "2022-11-30T08:37:59.056Z"
      },
      {
        "duration": 9,
        "start_time": "2022-11-30T08:37:59.073Z"
      },
      {
        "duration": 5,
        "start_time": "2022-11-30T08:37:59.084Z"
      },
      {
        "duration": 6,
        "start_time": "2022-11-30T08:37:59.090Z"
      },
      {
        "duration": 7,
        "start_time": "2022-11-30T08:37:59.098Z"
      },
      {
        "duration": 9,
        "start_time": "2022-11-30T08:37:59.106Z"
      },
      {
        "duration": 11,
        "start_time": "2022-11-30T08:37:59.117Z"
      },
      {
        "duration": 30,
        "start_time": "2022-11-30T08:37:59.129Z"
      },
      {
        "duration": 285,
        "start_time": "2022-11-30T08:37:59.168Z"
      },
      {
        "duration": 0,
        "start_time": "2022-11-30T08:37:59.454Z"
      },
      {
        "duration": 0,
        "start_time": "2022-11-30T08:37:59.455Z"
      },
      {
        "duration": 0,
        "start_time": "2022-11-30T08:37:59.457Z"
      },
      {
        "duration": 0,
        "start_time": "2022-11-30T08:37:59.458Z"
      },
      {
        "duration": 0,
        "start_time": "2022-11-30T08:37:59.459Z"
      },
      {
        "duration": 0,
        "start_time": "2022-11-30T08:37:59.460Z"
      },
      {
        "duration": 11,
        "start_time": "2022-11-30T08:38:47.000Z"
      },
      {
        "duration": 58,
        "start_time": "2022-11-30T08:38:52.234Z"
      },
      {
        "duration": 4,
        "start_time": "2022-11-30T08:38:52.294Z"
      },
      {
        "duration": 10,
        "start_time": "2022-11-30T08:38:52.300Z"
      },
      {
        "duration": 10,
        "start_time": "2022-11-30T08:38:52.312Z"
      },
      {
        "duration": 4,
        "start_time": "2022-11-30T08:38:52.323Z"
      },
      {
        "duration": 7,
        "start_time": "2022-11-30T08:38:52.328Z"
      },
      {
        "duration": 23,
        "start_time": "2022-11-30T08:38:52.337Z"
      },
      {
        "duration": 5,
        "start_time": "2022-11-30T08:38:52.361Z"
      },
      {
        "duration": 5,
        "start_time": "2022-11-30T08:38:52.368Z"
      },
      {
        "duration": 9,
        "start_time": "2022-11-30T08:38:52.375Z"
      },
      {
        "duration": 26,
        "start_time": "2022-11-30T08:38:52.387Z"
      },
      {
        "duration": 16,
        "start_time": "2022-11-30T08:38:52.416Z"
      },
      {
        "duration": 27,
        "start_time": "2022-11-30T08:38:52.435Z"
      },
      {
        "duration": 277,
        "start_time": "2022-11-30T08:38:52.463Z"
      },
      {
        "duration": 0,
        "start_time": "2022-11-30T08:38:52.741Z"
      },
      {
        "duration": 0,
        "start_time": "2022-11-30T08:38:52.743Z"
      },
      {
        "duration": 0,
        "start_time": "2022-11-30T08:38:52.743Z"
      },
      {
        "duration": 0,
        "start_time": "2022-11-30T08:38:52.744Z"
      },
      {
        "duration": 0,
        "start_time": "2022-11-30T08:38:52.746Z"
      },
      {
        "duration": 0,
        "start_time": "2022-11-30T08:38:52.746Z"
      },
      {
        "duration": 60,
        "start_time": "2022-11-30T08:39:26.552Z"
      },
      {
        "duration": 5,
        "start_time": "2022-11-30T08:39:26.613Z"
      },
      {
        "duration": 6,
        "start_time": "2022-11-30T08:39:26.620Z"
      },
      {
        "duration": 15,
        "start_time": "2022-11-30T08:39:26.628Z"
      },
      {
        "duration": 6,
        "start_time": "2022-11-30T08:39:26.645Z"
      },
      {
        "duration": 13,
        "start_time": "2022-11-30T08:39:26.653Z"
      },
      {
        "duration": 14,
        "start_time": "2022-11-30T08:39:26.667Z"
      },
      {
        "duration": 5,
        "start_time": "2022-11-30T08:39:26.683Z"
      },
      {
        "duration": 6,
        "start_time": "2022-11-30T08:39:26.690Z"
      },
      {
        "duration": 8,
        "start_time": "2022-11-30T08:39:26.697Z"
      },
      {
        "duration": 9,
        "start_time": "2022-11-30T08:39:26.707Z"
      },
      {
        "duration": 12,
        "start_time": "2022-11-30T08:39:26.718Z"
      },
      {
        "duration": 24,
        "start_time": "2022-11-30T08:39:26.731Z"
      },
      {
        "duration": 302,
        "start_time": "2022-11-30T08:39:26.757Z"
      },
      {
        "duration": 0,
        "start_time": "2022-11-30T08:39:27.061Z"
      },
      {
        "duration": 0,
        "start_time": "2022-11-30T08:39:27.062Z"
      },
      {
        "duration": 0,
        "start_time": "2022-11-30T08:39:27.063Z"
      },
      {
        "duration": 0,
        "start_time": "2022-11-30T08:39:27.064Z"
      },
      {
        "duration": 0,
        "start_time": "2022-11-30T08:39:27.065Z"
      },
      {
        "duration": 0,
        "start_time": "2022-11-30T08:39:27.066Z"
      },
      {
        "duration": 13,
        "start_time": "2022-11-30T08:41:33.993Z"
      },
      {
        "duration": 14,
        "start_time": "2022-11-30T08:41:38.574Z"
      },
      {
        "duration": 11,
        "start_time": "2022-11-30T08:43:00.796Z"
      },
      {
        "duration": 58,
        "start_time": "2022-11-30T08:43:10.149Z"
      },
      {
        "duration": 5,
        "start_time": "2022-11-30T08:43:10.209Z"
      },
      {
        "duration": 9,
        "start_time": "2022-11-30T08:43:10.216Z"
      },
      {
        "duration": 11,
        "start_time": "2022-11-30T08:43:10.227Z"
      },
      {
        "duration": 3,
        "start_time": "2022-11-30T08:43:10.240Z"
      },
      {
        "duration": 10,
        "start_time": "2022-11-30T08:43:10.244Z"
      },
      {
        "duration": 9,
        "start_time": "2022-11-30T08:43:10.256Z"
      },
      {
        "duration": 5,
        "start_time": "2022-11-30T08:43:10.267Z"
      },
      {
        "duration": 4,
        "start_time": "2022-11-30T08:43:10.274Z"
      },
      {
        "duration": 7,
        "start_time": "2022-11-30T08:43:10.281Z"
      },
      {
        "duration": 10,
        "start_time": "2022-11-30T08:43:10.289Z"
      },
      {
        "duration": 16,
        "start_time": "2022-11-30T08:43:10.301Z"
      },
      {
        "duration": 35,
        "start_time": "2022-11-30T08:43:10.319Z"
      },
      {
        "duration": 307,
        "start_time": "2022-11-30T08:43:10.356Z"
      },
      {
        "duration": 0,
        "start_time": "2022-11-30T08:43:10.664Z"
      },
      {
        "duration": 0,
        "start_time": "2022-11-30T08:43:10.665Z"
      },
      {
        "duration": 0,
        "start_time": "2022-11-30T08:43:10.666Z"
      },
      {
        "duration": 0,
        "start_time": "2022-11-30T08:43:10.667Z"
      },
      {
        "duration": 0,
        "start_time": "2022-11-30T08:43:10.668Z"
      },
      {
        "duration": 0,
        "start_time": "2022-11-30T08:43:10.669Z"
      },
      {
        "duration": 8,
        "start_time": "2022-11-30T08:43:46.573Z"
      },
      {
        "duration": 7,
        "start_time": "2022-11-30T08:45:01.836Z"
      },
      {
        "duration": 6,
        "start_time": "2022-11-30T08:45:06.711Z"
      },
      {
        "duration": 5,
        "start_time": "2022-11-30T08:45:41.626Z"
      },
      {
        "duration": 11,
        "start_time": "2022-11-30T08:46:38.603Z"
      },
      {
        "duration": 1206,
        "start_time": "2022-11-30T08:48:07.582Z"
      },
      {
        "duration": 5,
        "start_time": "2022-11-30T08:49:02.686Z"
      },
      {
        "duration": 298,
        "start_time": "2022-11-30T08:49:52.013Z"
      },
      {
        "duration": 7,
        "start_time": "2022-11-30T08:50:37.600Z"
      },
      {
        "duration": 5,
        "start_time": "2022-11-30T08:51:03.033Z"
      },
      {
        "duration": 7,
        "start_time": "2022-11-30T08:51:05.386Z"
      },
      {
        "duration": 5,
        "start_time": "2022-11-30T08:51:11.611Z"
      },
      {
        "duration": 7,
        "start_time": "2022-11-30T08:51:14.181Z"
      },
      {
        "duration": 278,
        "start_time": "2022-11-30T08:57:20.523Z"
      },
      {
        "duration": 280,
        "start_time": "2022-11-30T08:59:57.827Z"
      },
      {
        "duration": 3,
        "start_time": "2022-11-30T09:03:14.365Z"
      },
      {
        "duration": 14,
        "start_time": "2022-11-30T09:03:18.347Z"
      },
      {
        "duration": 6,
        "start_time": "2022-11-30T09:05:57.770Z"
      },
      {
        "duration": 6,
        "start_time": "2022-11-30T09:07:26.830Z"
      },
      {
        "duration": 6,
        "start_time": "2022-11-30T09:08:12.238Z"
      },
      {
        "duration": 3,
        "start_time": "2022-11-30T09:08:57.814Z"
      },
      {
        "duration": 5,
        "start_time": "2022-11-30T09:09:23.625Z"
      },
      {
        "duration": 7,
        "start_time": "2022-11-30T09:09:47.985Z"
      },
      {
        "duration": 5,
        "start_time": "2022-11-30T09:11:59.141Z"
      },
      {
        "duration": 7,
        "start_time": "2022-11-30T09:12:55.868Z"
      },
      {
        "duration": 8,
        "start_time": "2022-11-30T09:13:43.550Z"
      },
      {
        "duration": 5,
        "start_time": "2022-11-30T09:15:30.497Z"
      },
      {
        "duration": 10,
        "start_time": "2022-11-30T09:16:46.340Z"
      },
      {
        "duration": 18,
        "start_time": "2022-11-30T09:23:25.009Z"
      },
      {
        "duration": 17,
        "start_time": "2022-11-30T09:23:34.530Z"
      },
      {
        "duration": 58,
        "start_time": "2022-11-30T09:25:02.731Z"
      },
      {
        "duration": 5,
        "start_time": "2022-11-30T09:25:02.791Z"
      },
      {
        "duration": 10,
        "start_time": "2022-11-30T09:25:02.798Z"
      },
      {
        "duration": 11,
        "start_time": "2022-11-30T09:25:02.812Z"
      },
      {
        "duration": 3,
        "start_time": "2022-11-30T09:25:02.834Z"
      },
      {
        "duration": 6,
        "start_time": "2022-11-30T09:25:02.863Z"
      },
      {
        "duration": 9,
        "start_time": "2022-11-30T09:25:02.888Z"
      },
      {
        "duration": 4,
        "start_time": "2022-11-30T09:25:02.915Z"
      },
      {
        "duration": 5,
        "start_time": "2022-11-30T09:25:02.945Z"
      },
      {
        "duration": 7,
        "start_time": "2022-11-30T09:25:02.973Z"
      },
      {
        "duration": 10,
        "start_time": "2022-11-30T09:25:03.009Z"
      },
      {
        "duration": 6,
        "start_time": "2022-11-30T09:25:03.055Z"
      },
      {
        "duration": 5,
        "start_time": "2022-11-30T09:25:03.086Z"
      },
      {
        "duration": 5,
        "start_time": "2022-11-30T09:25:03.135Z"
      },
      {
        "duration": 7,
        "start_time": "2022-11-30T09:25:03.171Z"
      },
      {
        "duration": 5,
        "start_time": "2022-11-30T09:25:03.532Z"
      },
      {
        "duration": 3,
        "start_time": "2022-11-30T09:25:03.546Z"
      },
      {
        "duration": 4,
        "start_time": "2022-11-30T09:25:03.580Z"
      },
      {
        "duration": 7,
        "start_time": "2022-11-30T09:25:03.608Z"
      },
      {
        "duration": 5,
        "start_time": "2022-11-30T09:25:03.640Z"
      },
      {
        "duration": 8,
        "start_time": "2022-11-30T09:25:03.670Z"
      },
      {
        "duration": 5,
        "start_time": "2022-11-30T09:25:03.698Z"
      },
      {
        "duration": 10,
        "start_time": "2022-11-30T09:25:03.731Z"
      },
      {
        "duration": 16,
        "start_time": "2022-11-30T09:25:03.764Z"
      },
      {
        "duration": 16,
        "start_time": "2022-11-30T09:25:03.793Z"
      },
      {
        "duration": 7,
        "start_time": "2022-11-30T09:25:03.847Z"
      },
      {
        "duration": 6,
        "start_time": "2022-11-30T09:25:03.864Z"
      },
      {
        "duration": 9,
        "start_time": "2022-11-30T09:25:03.887Z"
      },
      {
        "duration": 4,
        "start_time": "2022-11-30T09:25:03.909Z"
      },
      {
        "duration": 5,
        "start_time": "2022-11-30T09:25:03.935Z"
      },
      {
        "duration": 290,
        "start_time": "2022-11-30T09:25:59.338Z"
      },
      {
        "duration": 3,
        "start_time": "2022-11-30T09:28:06.255Z"
      },
      {
        "duration": 3,
        "start_time": "2022-11-30T09:28:53.138Z"
      },
      {
        "duration": 3,
        "start_time": "2022-11-30T09:29:08.028Z"
      },
      {
        "duration": 4,
        "start_time": "2022-11-30T09:29:18.951Z"
      },
      {
        "duration": 86,
        "start_time": "2022-11-30T09:38:32.064Z"
      },
      {
        "duration": 296,
        "start_time": "2022-11-30T09:38:41.183Z"
      },
      {
        "duration": 5,
        "start_time": "2022-11-30T09:43:17.114Z"
      },
      {
        "duration": 5,
        "start_time": "2022-11-30T09:43:59.674Z"
      },
      {
        "duration": 6,
        "start_time": "2022-11-30T09:44:07.034Z"
      },
      {
        "duration": 325,
        "start_time": "2022-11-30T09:44:12.199Z"
      },
      {
        "duration": 293,
        "start_time": "2022-11-30T09:46:36.077Z"
      },
      {
        "duration": 9,
        "start_time": "2022-11-30T09:47:34.210Z"
      },
      {
        "duration": 8,
        "start_time": "2022-11-30T09:48:45.517Z"
      },
      {
        "duration": 57,
        "start_time": "2022-11-30T09:49:31.242Z"
      },
      {
        "duration": 6,
        "start_time": "2022-11-30T09:49:31.301Z"
      },
      {
        "duration": 22,
        "start_time": "2022-11-30T09:49:31.309Z"
      },
      {
        "duration": 56,
        "start_time": "2022-11-30T09:49:31.334Z"
      },
      {
        "duration": 22,
        "start_time": "2022-11-30T09:49:31.392Z"
      },
      {
        "duration": 25,
        "start_time": "2022-11-30T09:49:31.415Z"
      },
      {
        "duration": 22,
        "start_time": "2022-11-30T09:49:31.441Z"
      },
      {
        "duration": 18,
        "start_time": "2022-11-30T09:49:31.464Z"
      },
      {
        "duration": 24,
        "start_time": "2022-11-30T09:49:31.484Z"
      },
      {
        "duration": 21,
        "start_time": "2022-11-30T09:49:31.510Z"
      },
      {
        "duration": 30,
        "start_time": "2022-11-30T09:49:31.533Z"
      },
      {
        "duration": 17,
        "start_time": "2022-11-30T09:49:31.566Z"
      },
      {
        "duration": 12,
        "start_time": "2022-11-30T09:49:31.584Z"
      },
      {
        "duration": 26,
        "start_time": "2022-11-30T09:49:31.598Z"
      },
      {
        "duration": 21,
        "start_time": "2022-11-30T09:49:31.625Z"
      },
      {
        "duration": 14,
        "start_time": "2022-11-30T09:49:31.647Z"
      },
      {
        "duration": 19,
        "start_time": "2022-11-30T09:49:31.663Z"
      },
      {
        "duration": 29,
        "start_time": "2022-11-30T09:49:31.683Z"
      },
      {
        "duration": 17,
        "start_time": "2022-11-30T09:49:31.714Z"
      },
      {
        "duration": 18,
        "start_time": "2022-11-30T09:49:31.732Z"
      },
      {
        "duration": 30,
        "start_time": "2022-11-30T09:49:31.752Z"
      },
      {
        "duration": 19,
        "start_time": "2022-11-30T09:49:31.783Z"
      },
      {
        "duration": 24,
        "start_time": "2022-11-30T09:49:31.804Z"
      },
      {
        "duration": 33,
        "start_time": "2022-11-30T09:49:31.829Z"
      },
      {
        "duration": 38,
        "start_time": "2022-11-30T09:49:31.863Z"
      },
      {
        "duration": 38,
        "start_time": "2022-11-30T09:49:31.902Z"
      },
      {
        "duration": 13,
        "start_time": "2022-11-30T09:49:31.941Z"
      },
      {
        "duration": 25,
        "start_time": "2022-11-30T09:49:31.956Z"
      },
      {
        "duration": 26,
        "start_time": "2022-11-30T09:49:31.982Z"
      },
      {
        "duration": 5,
        "start_time": "2022-11-30T09:49:32.010Z"
      },
      {
        "duration": 22,
        "start_time": "2022-11-30T09:49:32.016Z"
      },
      {
        "duration": 5,
        "start_time": "2022-11-30T09:51:54.930Z"
      },
      {
        "duration": 10,
        "start_time": "2022-11-30T09:56:08.787Z"
      },
      {
        "duration": 58,
        "start_time": "2022-11-30T09:56:18.472Z"
      },
      {
        "duration": 6,
        "start_time": "2022-11-30T09:56:18.532Z"
      },
      {
        "duration": 10,
        "start_time": "2022-11-30T09:56:18.539Z"
      },
      {
        "duration": 14,
        "start_time": "2022-11-30T09:56:18.551Z"
      },
      {
        "duration": 4,
        "start_time": "2022-11-30T09:56:18.567Z"
      },
      {
        "duration": 9,
        "start_time": "2022-11-30T09:56:18.572Z"
      },
      {
        "duration": 9,
        "start_time": "2022-11-30T09:56:18.584Z"
      },
      {
        "duration": 4,
        "start_time": "2022-11-30T09:56:18.595Z"
      },
      {
        "duration": 10,
        "start_time": "2022-11-30T09:56:18.601Z"
      },
      {
        "duration": 5,
        "start_time": "2022-11-30T09:56:18.613Z"
      },
      {
        "duration": 9,
        "start_time": "2022-11-30T09:56:18.652Z"
      },
      {
        "duration": 12,
        "start_time": "2022-11-30T09:56:18.663Z"
      },
      {
        "duration": 9,
        "start_time": "2022-11-30T09:56:18.676Z"
      },
      {
        "duration": 6,
        "start_time": "2022-11-30T09:56:18.686Z"
      },
      {
        "duration": 8,
        "start_time": "2022-11-30T09:56:18.694Z"
      },
      {
        "duration": 6,
        "start_time": "2022-11-30T09:56:18.704Z"
      },
      {
        "duration": 7,
        "start_time": "2022-11-30T09:56:18.712Z"
      },
      {
        "duration": 33,
        "start_time": "2022-11-30T09:56:18.721Z"
      },
      {
        "duration": 5,
        "start_time": "2022-11-30T09:56:18.756Z"
      },
      {
        "duration": 7,
        "start_time": "2022-11-30T09:56:18.763Z"
      },
      {
        "duration": 6,
        "start_time": "2022-11-30T09:56:18.772Z"
      },
      {
        "duration": 9,
        "start_time": "2022-11-30T09:56:18.779Z"
      },
      {
        "duration": 5,
        "start_time": "2022-11-30T09:56:18.790Z"
      },
      {
        "duration": 11,
        "start_time": "2022-11-30T09:56:18.797Z"
      },
      {
        "duration": 6,
        "start_time": "2022-11-30T09:56:18.853Z"
      },
      {
        "duration": 8,
        "start_time": "2022-11-30T09:56:18.861Z"
      },
      {
        "duration": 16,
        "start_time": "2022-11-30T09:56:18.871Z"
      },
      {
        "duration": 5,
        "start_time": "2022-11-30T09:56:18.889Z"
      },
      {
        "duration": 10,
        "start_time": "2022-11-30T09:56:18.896Z"
      },
      {
        "duration": 50,
        "start_time": "2022-11-30T09:56:18.907Z"
      },
      {
        "duration": 5,
        "start_time": "2022-11-30T09:56:18.959Z"
      },
      {
        "duration": 11,
        "start_time": "2022-11-30T09:56:18.966Z"
      },
      {
        "duration": 5,
        "start_time": "2022-11-30T09:57:11.861Z"
      },
      {
        "duration": 24,
        "start_time": "2022-11-30T10:01:29.401Z"
      },
      {
        "duration": 7,
        "start_time": "2022-11-30T10:01:50.812Z"
      },
      {
        "duration": 102,
        "start_time": "2022-11-30T10:04:40.686Z"
      },
      {
        "duration": 6,
        "start_time": "2022-11-30T10:04:52.171Z"
      },
      {
        "duration": 129,
        "start_time": "2022-11-30T10:06:46.200Z"
      },
      {
        "duration": 8,
        "start_time": "2022-11-30T10:08:05.335Z"
      },
      {
        "duration": 6,
        "start_time": "2022-11-30T10:11:17.534Z"
      },
      {
        "duration": 68,
        "start_time": "2022-11-30T10:13:17.990Z"
      },
      {
        "duration": 6,
        "start_time": "2022-11-30T10:13:30.968Z"
      },
      {
        "duration": 5,
        "start_time": "2022-11-30T10:18:07.798Z"
      },
      {
        "duration": 120,
        "start_time": "2022-11-30T10:18:09.657Z"
      },
      {
        "duration": 10,
        "start_time": "2022-11-30T10:19:22.717Z"
      },
      {
        "duration": 7,
        "start_time": "2022-11-30T10:21:00.115Z"
      },
      {
        "duration": 12,
        "start_time": "2022-11-30T10:21:11.804Z"
      },
      {
        "duration": 150,
        "start_time": "2022-11-30T10:21:53.943Z"
      },
      {
        "duration": 19,
        "start_time": "2022-11-30T10:23:34.609Z"
      },
      {
        "duration": 19,
        "start_time": "2022-11-30T10:27:19.567Z"
      },
      {
        "duration": 17,
        "start_time": "2022-11-30T10:30:49.720Z"
      },
      {
        "duration": 19,
        "start_time": "2022-11-30T10:31:29.822Z"
      },
      {
        "duration": 17,
        "start_time": "2022-11-30T10:36:00.923Z"
      },
      {
        "duration": 20,
        "start_time": "2022-11-30T10:36:53.320Z"
      },
      {
        "duration": 21,
        "start_time": "2022-11-30T10:37:30.718Z"
      },
      {
        "duration": 5,
        "start_time": "2022-11-30T10:44:49.005Z"
      },
      {
        "duration": 1143,
        "start_time": "2022-11-30T13:34:50.734Z"
      },
      {
        "duration": 9,
        "start_time": "2022-11-30T13:34:51.880Z"
      },
      {
        "duration": 14,
        "start_time": "2022-11-30T13:34:51.892Z"
      },
      {
        "duration": 40,
        "start_time": "2022-11-30T13:34:51.908Z"
      },
      {
        "duration": 5,
        "start_time": "2022-11-30T13:34:51.950Z"
      },
      {
        "duration": 10,
        "start_time": "2022-11-30T13:34:51.956Z"
      },
      {
        "duration": 13,
        "start_time": "2022-11-30T13:34:51.967Z"
      },
      {
        "duration": 9,
        "start_time": "2022-11-30T13:34:51.982Z"
      },
      {
        "duration": 12,
        "start_time": "2022-11-30T13:34:51.993Z"
      },
      {
        "duration": 7,
        "start_time": "2022-11-30T13:34:52.007Z"
      },
      {
        "duration": 11,
        "start_time": "2022-11-30T13:34:52.016Z"
      },
      {
        "duration": 17,
        "start_time": "2022-11-30T13:34:52.029Z"
      },
      {
        "duration": 36,
        "start_time": "2022-11-30T13:34:52.048Z"
      },
      {
        "duration": 21,
        "start_time": "2022-11-30T13:34:52.086Z"
      },
      {
        "duration": 14,
        "start_time": "2022-11-30T13:34:52.109Z"
      },
      {
        "duration": 8,
        "start_time": "2022-11-30T13:34:52.125Z"
      },
      {
        "duration": 7,
        "start_time": "2022-11-30T13:34:52.135Z"
      },
      {
        "duration": 5,
        "start_time": "2022-11-30T13:34:52.144Z"
      },
      {
        "duration": 6,
        "start_time": "2022-11-30T13:34:52.151Z"
      },
      {
        "duration": 11,
        "start_time": "2022-11-30T13:34:52.159Z"
      },
      {
        "duration": 7,
        "start_time": "2022-11-30T13:34:52.179Z"
      },
      {
        "duration": 19,
        "start_time": "2022-11-30T13:34:52.188Z"
      },
      {
        "duration": 15,
        "start_time": "2022-11-30T13:34:52.208Z"
      },
      {
        "duration": 14,
        "start_time": "2022-11-30T13:34:52.225Z"
      },
      {
        "duration": 7,
        "start_time": "2022-11-30T13:34:52.240Z"
      },
      {
        "duration": 32,
        "start_time": "2022-11-30T13:34:52.248Z"
      },
      {
        "duration": 11,
        "start_time": "2022-11-30T13:34:52.283Z"
      },
      {
        "duration": 14,
        "start_time": "2022-11-30T13:34:52.298Z"
      },
      {
        "duration": 142,
        "start_time": "2022-11-30T13:34:52.314Z"
      },
      {
        "duration": 24,
        "start_time": "2022-11-30T13:34:52.458Z"
      },
      {
        "duration": 15,
        "start_time": "2022-11-30T13:34:52.484Z"
      },
      {
        "duration": 16,
        "start_time": "2022-11-30T13:34:52.502Z"
      },
      {
        "duration": 16,
        "start_time": "2022-11-30T13:34:52.520Z"
      },
      {
        "duration": 124,
        "start_time": "2022-11-30T13:34:52.538Z"
      },
      {
        "duration": 183,
        "start_time": "2022-11-30T13:34:52.664Z"
      },
      {
        "duration": 4,
        "start_time": "2022-11-30T13:34:52.849Z"
      },
      {
        "duration": 91,
        "start_time": "2022-11-30T13:34:52.855Z"
      },
      {
        "duration": 0,
        "start_time": "2022-11-30T13:34:52.948Z"
      },
      {
        "duration": 0,
        "start_time": "2022-11-30T13:34:52.950Z"
      },
      {
        "duration": 0,
        "start_time": "2022-11-30T13:34:52.952Z"
      },
      {
        "duration": 0,
        "start_time": "2022-11-30T13:34:52.953Z"
      },
      {
        "duration": 59,
        "start_time": "2022-11-30T13:36:25.746Z"
      },
      {
        "duration": 730,
        "start_time": "2022-11-30T13:38:39.368Z"
      },
      {
        "duration": 587,
        "start_time": "2022-11-30T13:39:00.389Z"
      },
      {
        "duration": 67,
        "start_time": "2022-11-30T13:40:07.884Z"
      },
      {
        "duration": 25,
        "start_time": "2022-11-30T13:40:16.425Z"
      },
      {
        "duration": 24,
        "start_time": "2022-11-30T13:40:40.760Z"
      },
      {
        "duration": 6,
        "start_time": "2022-11-30T13:41:01.266Z"
      },
      {
        "duration": 98,
        "start_time": "2022-11-30T13:41:44.938Z"
      },
      {
        "duration": 24,
        "start_time": "2022-11-30T13:42:11.272Z"
      },
      {
        "duration": 6,
        "start_time": "2022-11-30T13:42:24.547Z"
      },
      {
        "duration": 70,
        "start_time": "2022-11-30T13:42:32.688Z"
      },
      {
        "duration": 28,
        "start_time": "2022-11-30T13:42:57.049Z"
      },
      {
        "duration": 28,
        "start_time": "2022-11-30T13:43:06.661Z"
      },
      {
        "duration": 258,
        "start_time": "2022-11-30T13:48:07.545Z"
      },
      {
        "duration": 0,
        "start_time": "2022-11-30T13:48:07.829Z"
      },
      {
        "duration": 7,
        "start_time": "2022-11-30T13:48:40.097Z"
      },
      {
        "duration": 13,
        "start_time": "2022-11-30T13:48:55.735Z"
      },
      {
        "duration": 8,
        "start_time": "2022-11-30T13:49:48.642Z"
      },
      {
        "duration": 267,
        "start_time": "2022-11-30T13:50:25.983Z"
      },
      {
        "duration": 13,
        "start_time": "2022-11-30T13:51:29.463Z"
      },
      {
        "duration": 65,
        "start_time": "2022-11-30T13:51:52.416Z"
      },
      {
        "duration": 6,
        "start_time": "2022-11-30T13:51:52.483Z"
      },
      {
        "duration": 32,
        "start_time": "2022-11-30T13:51:52.490Z"
      },
      {
        "duration": 25,
        "start_time": "2022-11-30T13:51:52.524Z"
      },
      {
        "duration": 23,
        "start_time": "2022-11-30T13:51:52.550Z"
      },
      {
        "duration": 45,
        "start_time": "2022-11-30T13:51:52.574Z"
      },
      {
        "duration": 40,
        "start_time": "2022-11-30T13:51:52.621Z"
      },
      {
        "duration": 23,
        "start_time": "2022-11-30T13:51:52.663Z"
      },
      {
        "duration": 31,
        "start_time": "2022-11-30T13:51:52.689Z"
      },
      {
        "duration": 28,
        "start_time": "2022-11-30T13:51:52.722Z"
      },
      {
        "duration": 35,
        "start_time": "2022-11-30T13:51:52.751Z"
      },
      {
        "duration": 29,
        "start_time": "2022-11-30T13:51:52.789Z"
      },
      {
        "duration": 32,
        "start_time": "2022-11-30T13:51:52.820Z"
      },
      {
        "duration": 24,
        "start_time": "2022-11-30T13:51:52.855Z"
      },
      {
        "duration": 17,
        "start_time": "2022-11-30T13:51:52.882Z"
      },
      {
        "duration": 15,
        "start_time": "2022-11-30T13:51:52.901Z"
      },
      {
        "duration": 33,
        "start_time": "2022-11-30T13:51:52.917Z"
      },
      {
        "duration": 19,
        "start_time": "2022-11-30T13:51:52.951Z"
      },
      {
        "duration": 20,
        "start_time": "2022-11-30T13:51:52.971Z"
      },
      {
        "duration": 19,
        "start_time": "2022-11-30T13:51:52.994Z"
      },
      {
        "duration": 18,
        "start_time": "2022-11-30T13:51:53.016Z"
      },
      {
        "duration": 56,
        "start_time": "2022-11-30T13:51:53.037Z"
      },
      {
        "duration": 19,
        "start_time": "2022-11-30T13:51:53.095Z"
      },
      {
        "duration": 39,
        "start_time": "2022-11-30T13:51:53.116Z"
      },
      {
        "duration": 30,
        "start_time": "2022-11-30T13:51:53.156Z"
      },
      {
        "duration": 25,
        "start_time": "2022-11-30T13:51:53.188Z"
      },
      {
        "duration": 17,
        "start_time": "2022-11-30T13:51:53.215Z"
      },
      {
        "duration": 27,
        "start_time": "2022-11-30T13:51:53.233Z"
      },
      {
        "duration": 133,
        "start_time": "2022-11-30T13:51:53.262Z"
      },
      {
        "duration": 9,
        "start_time": "2022-11-30T13:51:53.396Z"
      },
      {
        "duration": 13,
        "start_time": "2022-11-30T13:51:53.407Z"
      },
      {
        "duration": 21,
        "start_time": "2022-11-30T13:51:53.422Z"
      },
      {
        "duration": 9,
        "start_time": "2022-11-30T13:51:53.445Z"
      },
      {
        "duration": 129,
        "start_time": "2022-11-30T13:51:53.455Z"
      },
      {
        "duration": 167,
        "start_time": "2022-11-30T13:51:53.586Z"
      },
      {
        "duration": 3,
        "start_time": "2022-11-30T13:51:53.754Z"
      },
      {
        "duration": 30,
        "start_time": "2022-11-30T13:51:53.758Z"
      },
      {
        "duration": 310,
        "start_time": "2022-11-30T13:51:53.789Z"
      },
      {
        "duration": 18,
        "start_time": "2022-11-30T13:51:54.101Z"
      },
      {
        "duration": 18,
        "start_time": "2022-11-30T13:51:54.123Z"
      },
      {
        "duration": 35,
        "start_time": "2022-11-30T13:51:54.143Z"
      },
      {
        "duration": 12,
        "start_time": "2022-11-30T13:51:54.181Z"
      },
      {
        "duration": 24,
        "start_time": "2022-11-30T13:51:54.195Z"
      },
      {
        "duration": 15,
        "start_time": "2022-11-30T13:53:06.803Z"
      },
      {
        "duration": 9,
        "start_time": "2022-11-30T13:59:00.004Z"
      },
      {
        "duration": 13,
        "start_time": "2022-11-30T13:59:10.212Z"
      },
      {
        "duration": 9,
        "start_time": "2022-11-30T13:59:49.155Z"
      },
      {
        "duration": 16,
        "start_time": "2022-11-30T14:01:39.610Z"
      },
      {
        "duration": 15,
        "start_time": "2022-11-30T14:05:19.225Z"
      },
      {
        "duration": 14,
        "start_time": "2022-11-30T14:05:32.175Z"
      },
      {
        "duration": 138,
        "start_time": "2022-11-30T14:07:27.732Z"
      },
      {
        "duration": 149,
        "start_time": "2022-11-30T14:07:56.614Z"
      },
      {
        "duration": 2632,
        "start_time": "2022-11-30T14:12:22.752Z"
      },
      {
        "duration": 2590,
        "start_time": "2022-11-30T14:16:10.500Z"
      },
      {
        "duration": 451,
        "start_time": "2022-11-30T14:18:01.775Z"
      },
      {
        "duration": 143,
        "start_time": "2022-11-30T14:18:21.027Z"
      },
      {
        "duration": 4,
        "start_time": "2022-11-30T14:25:27.337Z"
      },
      {
        "duration": 47,
        "start_time": "2022-11-30T14:25:43.703Z"
      },
      {
        "duration": 8,
        "start_time": "2022-11-30T14:26:52.381Z"
      },
      {
        "duration": 9,
        "start_time": "2022-11-30T14:27:29.401Z"
      },
      {
        "duration": 13,
        "start_time": "2022-11-30T14:28:25.239Z"
      },
      {
        "duration": 59,
        "start_time": "2022-11-30T14:41:24.962Z"
      },
      {
        "duration": 6,
        "start_time": "2022-11-30T14:41:25.023Z"
      },
      {
        "duration": 19,
        "start_time": "2022-11-30T14:41:25.031Z"
      },
      {
        "duration": 21,
        "start_time": "2022-11-30T14:41:25.052Z"
      },
      {
        "duration": 11,
        "start_time": "2022-11-30T14:41:25.075Z"
      },
      {
        "duration": 13,
        "start_time": "2022-11-30T14:41:25.088Z"
      },
      {
        "duration": 23,
        "start_time": "2022-11-30T14:41:25.102Z"
      },
      {
        "duration": 7,
        "start_time": "2022-11-30T14:41:25.129Z"
      },
      {
        "duration": 8,
        "start_time": "2022-11-30T14:41:25.138Z"
      },
      {
        "duration": 15,
        "start_time": "2022-11-30T14:41:25.147Z"
      },
      {
        "duration": 19,
        "start_time": "2022-11-30T14:41:25.163Z"
      },
      {
        "duration": 12,
        "start_time": "2022-11-30T14:41:25.183Z"
      },
      {
        "duration": 9,
        "start_time": "2022-11-30T14:41:25.196Z"
      },
      {
        "duration": 8,
        "start_time": "2022-11-30T14:41:25.206Z"
      },
      {
        "duration": 24,
        "start_time": "2022-11-30T14:41:25.216Z"
      },
      {
        "duration": 24,
        "start_time": "2022-11-30T14:41:25.242Z"
      },
      {
        "duration": 14,
        "start_time": "2022-11-30T14:41:25.267Z"
      },
      {
        "duration": 13,
        "start_time": "2022-11-30T14:41:25.282Z"
      },
      {
        "duration": 29,
        "start_time": "2022-11-30T14:41:25.297Z"
      },
      {
        "duration": 21,
        "start_time": "2022-11-30T14:41:25.327Z"
      },
      {
        "duration": 23,
        "start_time": "2022-11-30T14:41:25.350Z"
      },
      {
        "duration": 17,
        "start_time": "2022-11-30T14:41:25.374Z"
      },
      {
        "duration": 7,
        "start_time": "2022-11-30T14:41:25.393Z"
      },
      {
        "duration": 18,
        "start_time": "2022-11-30T14:41:25.401Z"
      },
      {
        "duration": 15,
        "start_time": "2022-11-30T14:41:25.421Z"
      },
      {
        "duration": 15,
        "start_time": "2022-11-30T14:41:25.437Z"
      },
      {
        "duration": 8,
        "start_time": "2022-11-30T14:41:25.453Z"
      },
      {
        "duration": 14,
        "start_time": "2022-11-30T14:41:25.464Z"
      },
      {
        "duration": 124,
        "start_time": "2022-11-30T14:41:25.480Z"
      },
      {
        "duration": 9,
        "start_time": "2022-11-30T14:41:25.606Z"
      },
      {
        "duration": 19,
        "start_time": "2022-11-30T14:41:25.616Z"
      },
      {
        "duration": 12,
        "start_time": "2022-11-30T14:41:25.636Z"
      },
      {
        "duration": 17,
        "start_time": "2022-11-30T14:41:25.649Z"
      },
      {
        "duration": 117,
        "start_time": "2022-11-30T14:41:25.668Z"
      },
      {
        "duration": 4124,
        "start_time": "2022-11-30T14:41:25.787Z"
      },
      {
        "duration": 12,
        "start_time": "2022-11-30T14:41:29.913Z"
      },
      {
        "duration": 65,
        "start_time": "2022-11-30T14:41:29.926Z"
      },
      {
        "duration": 0,
        "start_time": "2022-11-30T14:41:29.993Z"
      },
      {
        "duration": 0,
        "start_time": "2022-11-30T14:41:29.994Z"
      },
      {
        "duration": 0,
        "start_time": "2022-11-30T14:41:29.994Z"
      },
      {
        "duration": 0,
        "start_time": "2022-11-30T14:41:29.995Z"
      },
      {
        "duration": 0,
        "start_time": "2022-11-30T14:41:29.997Z"
      },
      {
        "duration": 0,
        "start_time": "2022-11-30T14:41:29.998Z"
      },
      {
        "duration": 19,
        "start_time": "2022-11-30T14:41:49.489Z"
      },
      {
        "duration": 11,
        "start_time": "2022-11-30T14:43:16.048Z"
      },
      {
        "duration": 11,
        "start_time": "2022-11-30T14:43:52.198Z"
      },
      {
        "duration": 12,
        "start_time": "2022-11-30T14:50:57.135Z"
      },
      {
        "duration": 26,
        "start_time": "2022-11-30T14:51:25.256Z"
      },
      {
        "duration": 28,
        "start_time": "2022-11-30T15:27:37.075Z"
      },
      {
        "duration": 20,
        "start_time": "2022-11-30T15:30:32.906Z"
      },
      {
        "duration": 17,
        "start_time": "2022-11-30T15:39:17.751Z"
      },
      {
        "duration": 309,
        "start_time": "2022-11-30T15:39:40.608Z"
      },
      {
        "duration": 11,
        "start_time": "2022-11-30T15:40:53.726Z"
      },
      {
        "duration": 13,
        "start_time": "2022-11-30T15:40:57.648Z"
      },
      {
        "duration": 11,
        "start_time": "2022-11-30T15:41:14.555Z"
      },
      {
        "duration": 57,
        "start_time": "2022-11-30T15:41:19.110Z"
      },
      {
        "duration": 6,
        "start_time": "2022-11-30T15:41:19.169Z"
      },
      {
        "duration": 13,
        "start_time": "2022-11-30T15:41:19.177Z"
      },
      {
        "duration": 11,
        "start_time": "2022-11-30T15:41:19.192Z"
      },
      {
        "duration": 5,
        "start_time": "2022-11-30T15:41:19.205Z"
      },
      {
        "duration": 7,
        "start_time": "2022-11-30T15:41:19.211Z"
      },
      {
        "duration": 10,
        "start_time": "2022-11-30T15:41:19.219Z"
      },
      {
        "duration": 4,
        "start_time": "2022-11-30T15:41:19.231Z"
      },
      {
        "duration": 6,
        "start_time": "2022-11-30T15:41:19.237Z"
      },
      {
        "duration": 6,
        "start_time": "2022-11-30T15:41:19.244Z"
      },
      {
        "duration": 31,
        "start_time": "2022-11-30T15:41:19.251Z"
      },
      {
        "duration": 12,
        "start_time": "2022-11-30T15:41:19.284Z"
      },
      {
        "duration": 6,
        "start_time": "2022-11-30T15:41:19.297Z"
      },
      {
        "duration": 4,
        "start_time": "2022-11-30T15:41:19.305Z"
      },
      {
        "duration": 7,
        "start_time": "2022-11-30T15:41:19.311Z"
      },
      {
        "duration": 6,
        "start_time": "2022-11-30T15:41:19.321Z"
      },
      {
        "duration": 4,
        "start_time": "2022-11-30T15:41:19.338Z"
      },
      {
        "duration": 3,
        "start_time": "2022-11-30T15:41:19.348Z"
      },
      {
        "duration": 17,
        "start_time": "2022-11-30T15:41:19.362Z"
      },
      {
        "duration": 5,
        "start_time": "2022-11-30T15:41:19.381Z"
      },
      {
        "duration": 8,
        "start_time": "2022-11-30T15:41:19.387Z"
      },
      {
        "duration": 8,
        "start_time": "2022-11-30T15:41:19.399Z"
      },
      {
        "duration": 4,
        "start_time": "2022-11-30T15:41:19.415Z"
      },
      {
        "duration": 9,
        "start_time": "2022-11-30T15:41:19.430Z"
      },
      {
        "duration": 11,
        "start_time": "2022-11-30T15:41:19.442Z"
      },
      {
        "duration": 28,
        "start_time": "2022-11-30T15:41:19.454Z"
      },
      {
        "duration": 8,
        "start_time": "2022-11-30T15:41:19.484Z"
      },
      {
        "duration": 5,
        "start_time": "2022-11-30T15:41:19.494Z"
      },
      {
        "duration": 137,
        "start_time": "2022-11-30T15:41:19.501Z"
      },
      {
        "duration": 8,
        "start_time": "2022-11-30T15:41:19.641Z"
      },
      {
        "duration": 6,
        "start_time": "2022-11-30T15:41:19.650Z"
      },
      {
        "duration": 21,
        "start_time": "2022-11-30T15:41:19.658Z"
      },
      {
        "duration": 8,
        "start_time": "2022-11-30T15:41:19.681Z"
      },
      {
        "duration": 122,
        "start_time": "2022-11-30T15:41:19.690Z"
      },
      {
        "duration": 2436,
        "start_time": "2022-11-30T15:41:19.814Z"
      },
      {
        "duration": 13,
        "start_time": "2022-11-30T15:41:22.251Z"
      },
      {
        "duration": 252,
        "start_time": "2022-11-30T15:41:22.266Z"
      },
      {
        "duration": 2,
        "start_time": "2022-11-30T15:41:22.520Z"
      },
      {
        "duration": 8,
        "start_time": "2022-11-30T15:41:22.524Z"
      },
      {
        "duration": 8,
        "start_time": "2022-11-30T15:41:22.534Z"
      },
      {
        "duration": 5,
        "start_time": "2022-11-30T15:41:22.543Z"
      },
      {
        "duration": 7,
        "start_time": "2022-11-30T15:41:22.550Z"
      },
      {
        "duration": 11,
        "start_time": "2022-11-30T15:42:00.467Z"
      },
      {
        "duration": 19,
        "start_time": "2022-11-30T15:42:14.803Z"
      },
      {
        "duration": 18,
        "start_time": "2022-11-30T15:52:51.456Z"
      },
      {
        "duration": 14,
        "start_time": "2022-11-30T15:53:18.617Z"
      },
      {
        "duration": 179,
        "start_time": "2022-11-30T15:54:02.844Z"
      },
      {
        "duration": 203,
        "start_time": "2022-11-30T16:01:39.420Z"
      },
      {
        "duration": 189,
        "start_time": "2022-11-30T16:02:08.740Z"
      },
      {
        "duration": 222,
        "start_time": "2022-11-30T16:03:50.893Z"
      },
      {
        "duration": 14,
        "start_time": "2022-11-30T16:39:34.720Z"
      },
      {
        "duration": 12,
        "start_time": "2022-11-30T16:40:08.694Z"
      },
      {
        "duration": 213,
        "start_time": "2022-11-30T16:40:23.104Z"
      },
      {
        "duration": 12,
        "start_time": "2022-11-30T16:42:49.100Z"
      },
      {
        "duration": 342,
        "start_time": "2022-11-30T16:48:32.923Z"
      },
      {
        "duration": 335,
        "start_time": "2022-11-30T16:51:45.617Z"
      },
      {
        "duration": 11,
        "start_time": "2022-11-30T16:55:41.902Z"
      },
      {
        "duration": 18,
        "start_time": "2022-11-30T16:57:00.809Z"
      },
      {
        "duration": 28,
        "start_time": "2022-11-30T16:57:50.922Z"
      },
      {
        "duration": 93,
        "start_time": "2022-11-30T17:08:52.146Z"
      },
      {
        "duration": 13,
        "start_time": "2022-11-30T17:08:59.908Z"
      },
      {
        "duration": 11,
        "start_time": "2022-11-30T17:14:58.476Z"
      },
      {
        "duration": 12,
        "start_time": "2022-11-30T17:15:10.932Z"
      },
      {
        "duration": 229,
        "start_time": "2022-11-30T17:16:13.429Z"
      },
      {
        "duration": 73,
        "start_time": "2022-11-30T17:16:51.317Z"
      },
      {
        "duration": 207,
        "start_time": "2022-11-30T17:17:03.349Z"
      },
      {
        "duration": 37,
        "start_time": "2022-11-30T17:19:31.859Z"
      },
      {
        "duration": 50,
        "start_time": "2022-11-30T17:31:53.721Z"
      },
      {
        "duration": 41,
        "start_time": "2022-11-30T17:33:28.250Z"
      },
      {
        "duration": 114,
        "start_time": "2022-11-30T17:34:17.361Z"
      },
      {
        "duration": 38,
        "start_time": "2022-11-30T17:37:02.487Z"
      },
      {
        "duration": 141,
        "start_time": "2022-11-30T17:37:09.581Z"
      },
      {
        "duration": 39,
        "start_time": "2022-11-30T17:37:16.694Z"
      },
      {
        "duration": 139,
        "start_time": "2022-11-30T17:37:59.063Z"
      },
      {
        "duration": 140,
        "start_time": "2022-11-30T17:38:18.322Z"
      },
      {
        "duration": 139,
        "start_time": "2022-11-30T17:39:51.197Z"
      },
      {
        "duration": 152,
        "start_time": "2022-11-30T17:40:50.433Z"
      },
      {
        "duration": 140,
        "start_time": "2022-11-30T17:41:39.872Z"
      },
      {
        "duration": 136,
        "start_time": "2022-11-30T17:46:21.597Z"
      },
      {
        "duration": 151,
        "start_time": "2022-11-30T17:46:39.973Z"
      },
      {
        "duration": 141,
        "start_time": "2022-11-30T17:46:53.385Z"
      },
      {
        "duration": 140,
        "start_time": "2022-11-30T17:47:05.401Z"
      },
      {
        "duration": 1226,
        "start_time": "2022-11-30T17:56:57.889Z"
      },
      {
        "duration": 11,
        "start_time": "2022-11-30T17:57:16.818Z"
      },
      {
        "duration": 12,
        "start_time": "2022-11-30T17:57:47.305Z"
      },
      {
        "duration": 11,
        "start_time": "2022-11-30T17:58:29.575Z"
      },
      {
        "duration": 11,
        "start_time": "2022-11-30T17:59:51.742Z"
      },
      {
        "duration": 852,
        "start_time": "2022-12-01T10:09:37.038Z"
      },
      {
        "duration": 6,
        "start_time": "2022-12-01T10:09:37.892Z"
      },
      {
        "duration": 7,
        "start_time": "2022-12-01T10:09:37.899Z"
      },
      {
        "duration": 14,
        "start_time": "2022-12-01T10:09:37.908Z"
      },
      {
        "duration": 8,
        "start_time": "2022-12-01T10:09:37.923Z"
      },
      {
        "duration": 7,
        "start_time": "2022-12-01T10:09:37.933Z"
      },
      {
        "duration": 10,
        "start_time": "2022-12-01T10:09:37.941Z"
      },
      {
        "duration": 5,
        "start_time": "2022-12-01T10:09:37.952Z"
      },
      {
        "duration": 6,
        "start_time": "2022-12-01T10:09:37.958Z"
      },
      {
        "duration": 7,
        "start_time": "2022-12-01T10:09:37.966Z"
      },
      {
        "duration": 8,
        "start_time": "2022-12-01T10:09:37.974Z"
      },
      {
        "duration": 18,
        "start_time": "2022-12-01T10:09:37.983Z"
      },
      {
        "duration": 20,
        "start_time": "2022-12-01T10:09:38.002Z"
      },
      {
        "duration": 11,
        "start_time": "2022-12-01T10:09:38.024Z"
      },
      {
        "duration": 7,
        "start_time": "2022-12-01T10:09:38.036Z"
      },
      {
        "duration": 7,
        "start_time": "2022-12-01T10:09:38.044Z"
      },
      {
        "duration": 7,
        "start_time": "2022-12-01T10:09:38.053Z"
      },
      {
        "duration": 11,
        "start_time": "2022-12-01T10:09:38.061Z"
      },
      {
        "duration": 6,
        "start_time": "2022-12-01T10:09:38.073Z"
      },
      {
        "duration": 14,
        "start_time": "2022-12-01T10:09:38.080Z"
      },
      {
        "duration": 6,
        "start_time": "2022-12-01T10:09:38.095Z"
      },
      {
        "duration": 11,
        "start_time": "2022-12-01T10:09:38.102Z"
      },
      {
        "duration": 7,
        "start_time": "2022-12-01T10:09:38.114Z"
      },
      {
        "duration": 9,
        "start_time": "2022-12-01T10:09:38.122Z"
      },
      {
        "duration": 9,
        "start_time": "2022-12-01T10:09:38.133Z"
      },
      {
        "duration": 16,
        "start_time": "2022-12-01T10:09:38.143Z"
      },
      {
        "duration": 7,
        "start_time": "2022-12-01T10:09:38.161Z"
      },
      {
        "duration": 4,
        "start_time": "2022-12-01T10:09:38.171Z"
      },
      {
        "duration": 146,
        "start_time": "2022-12-01T10:09:38.177Z"
      },
      {
        "duration": 8,
        "start_time": "2022-12-01T10:09:38.324Z"
      },
      {
        "duration": 5,
        "start_time": "2022-12-01T10:09:38.334Z"
      },
      {
        "duration": 12,
        "start_time": "2022-12-01T10:09:38.341Z"
      },
      {
        "duration": 6,
        "start_time": "2022-12-01T10:09:38.354Z"
      },
      {
        "duration": 2550,
        "start_time": "2022-12-01T10:09:38.362Z"
      },
      {
        "duration": 22,
        "start_time": "2022-12-01T10:09:40.913Z"
      },
      {
        "duration": 226,
        "start_time": "2022-12-01T10:09:40.936Z"
      },
      {
        "duration": 9,
        "start_time": "2022-12-01T10:09:41.164Z"
      },
      {
        "duration": 338,
        "start_time": "2022-12-01T10:09:41.175Z"
      },
      {
        "duration": 30,
        "start_time": "2022-12-01T10:09:41.521Z"
      },
      {
        "duration": 218,
        "start_time": "2022-12-01T10:09:41.553Z"
      },
      {
        "duration": 38,
        "start_time": "2022-12-01T10:09:41.772Z"
      },
      {
        "duration": 175,
        "start_time": "2022-12-01T10:09:41.812Z"
      },
      {
        "duration": 10,
        "start_time": "2022-12-01T10:09:41.989Z"
      },
      {
        "duration": 159,
        "start_time": "2022-12-01T10:09:42.001Z"
      },
      {
        "duration": 11,
        "start_time": "2022-12-01T10:09:42.162Z"
      },
      {
        "duration": 278,
        "start_time": "2022-12-01T10:09:42.175Z"
      },
      {
        "duration": 12,
        "start_time": "2022-12-01T10:09:42.454Z"
      },
      {
        "duration": 165,
        "start_time": "2022-12-01T10:09:42.467Z"
      },
      {
        "duration": 12,
        "start_time": "2022-12-01T10:09:42.634Z"
      },
      {
        "duration": 27,
        "start_time": "2022-12-01T10:09:42.648Z"
      },
      {
        "duration": 293,
        "start_time": "2022-12-01T10:09:42.677Z"
      },
      {
        "duration": 3,
        "start_time": "2022-12-01T10:09:42.971Z"
      },
      {
        "duration": 2,
        "start_time": "2022-12-01T10:10:45.331Z"
      },
      {
        "duration": 6,
        "start_time": "2022-12-01T10:12:30.112Z"
      },
      {
        "duration": 13,
        "start_time": "2022-12-01T10:15:08.194Z"
      },
      {
        "duration": 75,
        "start_time": "2022-12-01T10:16:12.655Z"
      },
      {
        "duration": 17,
        "start_time": "2022-12-01T10:16:23.278Z"
      },
      {
        "duration": 3,
        "start_time": "2022-12-01T10:19:18.139Z"
      },
      {
        "duration": 14,
        "start_time": "2022-12-01T10:24:10.410Z"
      },
      {
        "duration": 13,
        "start_time": "2022-12-01T10:24:21.644Z"
      },
      {
        "duration": 14,
        "start_time": "2022-12-01T10:25:16.734Z"
      },
      {
        "duration": 14,
        "start_time": "2022-12-01T10:26:37.370Z"
      },
      {
        "duration": 13,
        "start_time": "2022-12-01T10:27:10.105Z"
      },
      {
        "duration": 17,
        "start_time": "2022-12-01T10:35:30.694Z"
      },
      {
        "duration": 14,
        "start_time": "2022-12-01T10:35:52.444Z"
      },
      {
        "duration": 113,
        "start_time": "2022-12-01T10:36:42.056Z"
      },
      {
        "duration": 16,
        "start_time": "2022-12-01T10:36:50.306Z"
      },
      {
        "duration": 14,
        "start_time": "2022-12-01T10:50:24.634Z"
      },
      {
        "duration": 14,
        "start_time": "2022-12-01T10:50:42.112Z"
      },
      {
        "duration": 14,
        "start_time": "2022-12-01T10:50:50.769Z"
      },
      {
        "duration": 14,
        "start_time": "2022-12-01T10:51:54.499Z"
      },
      {
        "duration": 13,
        "start_time": "2022-12-01T10:52:29.446Z"
      },
      {
        "duration": 19,
        "start_time": "2022-12-01T10:52:47.594Z"
      },
      {
        "duration": 18,
        "start_time": "2022-12-01T10:54:00.593Z"
      },
      {
        "duration": 13,
        "start_time": "2022-12-01T10:54:36.160Z"
      },
      {
        "duration": 13,
        "start_time": "2022-12-01T10:54:48.562Z"
      },
      {
        "duration": 13,
        "start_time": "2022-12-01T10:55:26.918Z"
      },
      {
        "duration": 13,
        "start_time": "2022-12-01T10:55:32.317Z"
      },
      {
        "duration": 931,
        "start_time": "2022-12-01T11:04:11.410Z"
      },
      {
        "duration": 3,
        "start_time": "2022-12-01T11:05:15.730Z"
      },
      {
        "duration": 2,
        "start_time": "2022-12-01T11:05:36.477Z"
      },
      {
        "duration": 5,
        "start_time": "2022-12-01T11:16:29.045Z"
      },
      {
        "duration": 298,
        "start_time": "2022-12-01T11:19:57.356Z"
      },
      {
        "duration": 5,
        "start_time": "2022-12-01T11:20:19.065Z"
      },
      {
        "duration": 935,
        "start_time": "2022-12-01T11:20:20.827Z"
      },
      {
        "duration": 35,
        "start_time": "2022-12-01T11:20:46.426Z"
      },
      {
        "duration": 318,
        "start_time": "2022-12-01T11:21:43.350Z"
      },
      {
        "duration": 58,
        "start_time": "2022-12-01T11:21:59.261Z"
      },
      {
        "duration": 140,
        "start_time": "2022-12-01T11:22:27.835Z"
      },
      {
        "duration": 11,
        "start_time": "2022-12-01T11:22:40.786Z"
      },
      {
        "duration": 230,
        "start_time": "2022-12-01T11:22:53.791Z"
      },
      {
        "duration": 154,
        "start_time": "2022-12-01T11:23:15.201Z"
      },
      {
        "duration": 14,
        "start_time": "2022-12-01T11:23:25.123Z"
      },
      {
        "duration": 154,
        "start_time": "2022-12-01T11:23:38.455Z"
      },
      {
        "duration": 10,
        "start_time": "2022-12-01T11:23:47.360Z"
      },
      {
        "duration": 6,
        "start_time": "2022-12-01T11:23:56.148Z"
      },
      {
        "duration": 13,
        "start_time": "2022-12-01T11:24:05.920Z"
      },
      {
        "duration": 13,
        "start_time": "2022-12-01T11:24:15.303Z"
      },
      {
        "duration": 14,
        "start_time": "2022-12-01T11:24:23.710Z"
      },
      {
        "duration": 13,
        "start_time": "2022-12-01T11:24:32.001Z"
      },
      {
        "duration": 13,
        "start_time": "2022-12-01T11:24:38.881Z"
      },
      {
        "duration": 13,
        "start_time": "2022-12-01T11:24:48.068Z"
      },
      {
        "duration": 12,
        "start_time": "2022-12-01T11:24:57.981Z"
      },
      {
        "duration": 14,
        "start_time": "2022-12-01T11:25:06.507Z"
      },
      {
        "duration": 14,
        "start_time": "2022-12-01T11:25:13.170Z"
      },
      {
        "duration": 14,
        "start_time": "2022-12-01T11:25:20.504Z"
      },
      {
        "duration": 4,
        "start_time": "2022-12-01T14:44:03.614Z"
      },
      {
        "duration": 64,
        "start_time": "2022-12-01T14:47:14.137Z"
      },
      {
        "duration": 11,
        "start_time": "2022-12-01T14:51:01.224Z"
      },
      {
        "duration": 1036,
        "start_time": "2022-12-01T14:51:05.043Z"
      },
      {
        "duration": 9,
        "start_time": "2022-12-01T14:51:06.083Z"
      },
      {
        "duration": 24,
        "start_time": "2022-12-01T14:51:06.095Z"
      },
      {
        "duration": 32,
        "start_time": "2022-12-01T14:51:06.122Z"
      },
      {
        "duration": 22,
        "start_time": "2022-12-01T14:51:06.156Z"
      },
      {
        "duration": 40,
        "start_time": "2022-12-01T14:51:06.181Z"
      },
      {
        "duration": 26,
        "start_time": "2022-12-01T14:51:06.223Z"
      },
      {
        "duration": 42,
        "start_time": "2022-12-01T14:51:06.251Z"
      },
      {
        "duration": 23,
        "start_time": "2022-12-01T14:51:06.295Z"
      },
      {
        "duration": 22,
        "start_time": "2022-12-01T14:51:06.321Z"
      },
      {
        "duration": 20,
        "start_time": "2022-12-01T14:51:06.345Z"
      },
      {
        "duration": 20,
        "start_time": "2022-12-01T14:51:06.367Z"
      },
      {
        "duration": 19,
        "start_time": "2022-12-01T14:51:06.389Z"
      },
      {
        "duration": 40,
        "start_time": "2022-12-01T14:51:06.410Z"
      },
      {
        "duration": 18,
        "start_time": "2022-12-01T14:51:06.452Z"
      },
      {
        "duration": 20,
        "start_time": "2022-12-01T14:51:06.472Z"
      },
      {
        "duration": 18,
        "start_time": "2022-12-01T14:51:06.494Z"
      },
      {
        "duration": 13,
        "start_time": "2022-12-01T14:51:06.514Z"
      },
      {
        "duration": 38,
        "start_time": "2022-12-01T14:51:06.529Z"
      },
      {
        "duration": 40,
        "start_time": "2022-12-01T14:51:06.569Z"
      },
      {
        "duration": 43,
        "start_time": "2022-12-01T14:51:06.611Z"
      },
      {
        "duration": 18,
        "start_time": "2022-12-01T14:51:06.657Z"
      },
      {
        "duration": 24,
        "start_time": "2022-12-01T14:51:06.677Z"
      },
      {
        "duration": 39,
        "start_time": "2022-12-01T14:51:06.703Z"
      },
      {
        "duration": 12,
        "start_time": "2022-12-01T14:51:06.744Z"
      },
      {
        "duration": 22,
        "start_time": "2022-12-01T14:51:06.758Z"
      },
      {
        "duration": 24,
        "start_time": "2022-12-01T14:51:06.781Z"
      },
      {
        "duration": 8,
        "start_time": "2022-12-01T14:51:06.809Z"
      },
      {
        "duration": 23,
        "start_time": "2022-12-01T14:51:06.819Z"
      },
      {
        "duration": 38,
        "start_time": "2022-12-01T14:51:06.844Z"
      },
      {
        "duration": 3297,
        "start_time": "2022-12-01T14:51:06.885Z"
      },
      {
        "duration": 25,
        "start_time": "2022-12-01T14:51:10.184Z"
      },
      {
        "duration": 3,
        "start_time": "2022-12-01T14:51:10.210Z"
      },
      {
        "duration": 16,
        "start_time": "2022-12-01T14:51:10.215Z"
      },
      {
        "duration": 1264,
        "start_time": "2022-12-01T14:51:10.233Z"
      },
      {
        "duration": 2,
        "start_time": "2022-12-01T14:51:11.500Z"
      },
      {
        "duration": 16,
        "start_time": "2022-12-01T14:51:11.503Z"
      },
      {
        "duration": 58,
        "start_time": "2022-12-01T14:51:11.521Z"
      },
      {
        "duration": 643,
        "start_time": "2022-12-01T14:51:11.581Z"
      },
      {
        "duration": 78,
        "start_time": "2022-12-01T14:51:12.226Z"
      },
      {
        "duration": 207,
        "start_time": "2022-12-01T14:51:12.305Z"
      },
      {
        "duration": 14,
        "start_time": "2022-12-01T14:51:12.514Z"
      },
      {
        "duration": 182,
        "start_time": "2022-12-01T14:51:12.530Z"
      },
      {
        "duration": 12,
        "start_time": "2022-12-01T14:51:12.715Z"
      },
      {
        "duration": 208,
        "start_time": "2022-12-01T14:51:12.729Z"
      },
      {
        "duration": 14,
        "start_time": "2022-12-01T14:51:12.939Z"
      },
      {
        "duration": 184,
        "start_time": "2022-12-01T14:51:12.955Z"
      },
      {
        "duration": 14,
        "start_time": "2022-12-01T14:51:13.141Z"
      },
      {
        "duration": 30,
        "start_time": "2022-12-01T14:51:13.158Z"
      },
      {
        "duration": 41,
        "start_time": "2022-12-01T14:51:13.190Z"
      },
      {
        "duration": 51,
        "start_time": "2022-12-01T14:51:13.233Z"
      },
      {
        "duration": 43,
        "start_time": "2022-12-01T14:51:13.285Z"
      },
      {
        "duration": 23,
        "start_time": "2022-12-01T14:51:13.330Z"
      },
      {
        "duration": 25,
        "start_time": "2022-12-01T14:51:13.355Z"
      },
      {
        "duration": 25,
        "start_time": "2022-12-01T14:51:13.382Z"
      },
      {
        "duration": 29,
        "start_time": "2022-12-01T14:51:13.409Z"
      },
      {
        "duration": 49,
        "start_time": "2022-12-01T14:51:13.440Z"
      },
      {
        "duration": 57,
        "start_time": "2022-12-01T14:51:13.490Z"
      },
      {
        "duration": 60,
        "start_time": "2022-12-01T14:51:13.548Z"
      },
      {
        "duration": 26,
        "start_time": "2022-12-01T14:51:13.609Z"
      },
      {
        "duration": 46,
        "start_time": "2022-12-01T14:51:13.637Z"
      },
      {
        "duration": 169,
        "start_time": "2022-12-01T14:51:13.685Z"
      },
      {
        "duration": 2,
        "start_time": "2022-12-01T14:51:13.856Z"
      },
      {
        "duration": 31,
        "start_time": "2022-12-01T14:51:13.860Z"
      },
      {
        "duration": 38,
        "start_time": "2022-12-01T14:54:45.330Z"
      },
      {
        "duration": 40,
        "start_time": "2022-12-01T14:55:15.243Z"
      },
      {
        "duration": 66,
        "start_time": "2022-12-01T15:00:33.094Z"
      },
      {
        "duration": 6,
        "start_time": "2022-12-01T15:01:26.982Z"
      },
      {
        "duration": 38,
        "start_time": "2022-12-01T15:02:46.249Z"
      },
      {
        "duration": 16,
        "start_time": "2022-12-01T15:02:54.958Z"
      },
      {
        "duration": 12,
        "start_time": "2022-12-01T15:03:24.246Z"
      },
      {
        "duration": 8,
        "start_time": "2022-12-01T15:03:34.178Z"
      },
      {
        "duration": 371,
        "start_time": "2022-12-01T15:06:53.982Z"
      },
      {
        "duration": 157,
        "start_time": "2022-12-01T15:14:38.546Z"
      },
      {
        "duration": 131,
        "start_time": "2022-12-01T15:37:36.563Z"
      },
      {
        "duration": 1370,
        "start_time": "2022-12-01T15:37:44.236Z"
      },
      {
        "duration": 8,
        "start_time": "2022-12-01T15:37:45.608Z"
      },
      {
        "duration": 17,
        "start_time": "2022-12-01T15:37:45.618Z"
      },
      {
        "duration": 90,
        "start_time": "2022-12-01T15:37:45.638Z"
      },
      {
        "duration": 17,
        "start_time": "2022-12-01T15:37:45.730Z"
      },
      {
        "duration": 17,
        "start_time": "2022-12-01T15:37:45.749Z"
      },
      {
        "duration": 20,
        "start_time": "2022-12-01T15:37:45.767Z"
      },
      {
        "duration": 16,
        "start_time": "2022-12-01T15:37:45.788Z"
      },
      {
        "duration": 14,
        "start_time": "2022-12-01T15:37:45.806Z"
      },
      {
        "duration": 8,
        "start_time": "2022-12-01T15:37:45.823Z"
      },
      {
        "duration": 17,
        "start_time": "2022-12-01T15:37:45.833Z"
      },
      {
        "duration": 15,
        "start_time": "2022-12-01T15:37:45.852Z"
      },
      {
        "duration": 7,
        "start_time": "2022-12-01T15:37:45.869Z"
      },
      {
        "duration": 7,
        "start_time": "2022-12-01T15:37:45.877Z"
      },
      {
        "duration": 13,
        "start_time": "2022-12-01T15:37:45.886Z"
      },
      {
        "duration": 22,
        "start_time": "2022-12-01T15:37:45.901Z"
      },
      {
        "duration": 7,
        "start_time": "2022-12-01T15:37:45.925Z"
      },
      {
        "duration": 14,
        "start_time": "2022-12-01T15:37:45.934Z"
      },
      {
        "duration": 7,
        "start_time": "2022-12-01T15:37:45.952Z"
      },
      {
        "duration": 22,
        "start_time": "2022-12-01T15:37:45.961Z"
      },
      {
        "duration": 17,
        "start_time": "2022-12-01T15:37:45.985Z"
      },
      {
        "duration": 104,
        "start_time": "2022-12-01T15:37:46.004Z"
      },
      {
        "duration": 19,
        "start_time": "2022-12-01T15:37:46.110Z"
      },
      {
        "duration": 18,
        "start_time": "2022-12-01T15:37:46.130Z"
      },
      {
        "duration": 3,
        "start_time": "2022-12-01T15:37:46.150Z"
      },
      {
        "duration": 17,
        "start_time": "2022-12-01T15:37:46.155Z"
      },
      {
        "duration": 22,
        "start_time": "2022-12-01T15:37:46.174Z"
      },
      {
        "duration": 7,
        "start_time": "2022-12-01T15:37:46.201Z"
      },
      {
        "duration": 19,
        "start_time": "2022-12-01T15:37:46.221Z"
      },
      {
        "duration": 6,
        "start_time": "2022-12-01T15:37:46.243Z"
      },
      {
        "duration": 3108,
        "start_time": "2022-12-01T15:37:46.255Z"
      },
      {
        "duration": 23,
        "start_time": "2022-12-01T15:37:49.365Z"
      },
      {
        "duration": 19,
        "start_time": "2022-12-01T15:37:49.390Z"
      },
      {
        "duration": 1232,
        "start_time": "2022-12-01T15:37:49.420Z"
      },
      {
        "duration": 2,
        "start_time": "2022-12-01T15:37:50.654Z"
      },
      {
        "duration": 71,
        "start_time": "2022-12-01T15:37:50.658Z"
      },
      {
        "duration": 9,
        "start_time": "2022-12-01T15:37:50.731Z"
      },
      {
        "duration": 719,
        "start_time": "2022-12-01T15:37:50.741Z"
      },
      {
        "duration": 187,
        "start_time": "2022-12-01T15:37:51.462Z"
      },
      {
        "duration": 103,
        "start_time": "2022-12-01T15:37:51.651Z"
      },
      {
        "duration": 248,
        "start_time": "2022-12-01T15:37:51.756Z"
      },
      {
        "duration": 21,
        "start_time": "2022-12-01T15:37:52.007Z"
      },
      {
        "duration": 203,
        "start_time": "2022-12-01T15:37:52.030Z"
      },
      {
        "duration": 14,
        "start_time": "2022-12-01T15:37:52.239Z"
      },
      {
        "duration": 173,
        "start_time": "2022-12-01T15:37:52.255Z"
      },
      {
        "duration": 12,
        "start_time": "2022-12-01T15:37:52.430Z"
      },
      {
        "duration": 239,
        "start_time": "2022-12-01T15:37:52.443Z"
      },
      {
        "duration": 15,
        "start_time": "2022-12-01T15:37:52.685Z"
      },
      {
        "duration": 33,
        "start_time": "2022-12-01T15:37:52.702Z"
      },
      {
        "duration": 26,
        "start_time": "2022-12-01T15:37:52.737Z"
      },
      {
        "duration": 24,
        "start_time": "2022-12-01T15:37:52.765Z"
      },
      {
        "duration": 18,
        "start_time": "2022-12-01T15:37:52.790Z"
      },
      {
        "duration": 33,
        "start_time": "2022-12-01T15:37:52.810Z"
      },
      {
        "duration": 26,
        "start_time": "2022-12-01T15:37:52.845Z"
      },
      {
        "duration": 18,
        "start_time": "2022-12-01T15:37:52.873Z"
      },
      {
        "duration": 44,
        "start_time": "2022-12-01T15:37:52.893Z"
      },
      {
        "duration": 18,
        "start_time": "2022-12-01T15:37:52.939Z"
      },
      {
        "duration": 18,
        "start_time": "2022-12-01T15:37:52.959Z"
      },
      {
        "duration": 43,
        "start_time": "2022-12-01T15:37:52.979Z"
      },
      {
        "duration": 16,
        "start_time": "2022-12-01T15:37:53.024Z"
      },
      {
        "duration": 60,
        "start_time": "2022-12-01T15:37:53.042Z"
      },
      {
        "duration": 0,
        "start_time": "2022-12-01T15:37:53.120Z"
      },
      {
        "duration": 0,
        "start_time": "2022-12-01T15:37:53.122Z"
      },
      {
        "duration": 0,
        "start_time": "2022-12-01T15:37:53.123Z"
      },
      {
        "duration": 0,
        "start_time": "2022-12-01T15:37:53.125Z"
      },
      {
        "duration": 19,
        "start_time": "2022-12-01T15:38:38.568Z"
      },
      {
        "duration": 505,
        "start_time": "2022-12-01T15:40:17.140Z"
      },
      {
        "duration": 12,
        "start_time": "2022-12-01T15:40:34.581Z"
      },
      {
        "duration": 10,
        "start_time": "2022-12-01T15:46:20.994Z"
      },
      {
        "duration": 11,
        "start_time": "2022-12-01T15:46:27.770Z"
      },
      {
        "duration": 161,
        "start_time": "2022-12-01T16:07:20.914Z"
      },
      {
        "duration": 151,
        "start_time": "2022-12-01T16:08:48.665Z"
      },
      {
        "duration": 157,
        "start_time": "2022-12-01T16:09:49.229Z"
      },
      {
        "duration": 144,
        "start_time": "2022-12-01T16:10:36.864Z"
      },
      {
        "duration": 149,
        "start_time": "2022-12-01T16:11:26.001Z"
      },
      {
        "duration": 168,
        "start_time": "2022-12-01T16:11:50.619Z"
      },
      {
        "duration": 154,
        "start_time": "2022-12-01T16:11:56.703Z"
      },
      {
        "duration": 64,
        "start_time": "2022-12-02T10:58:20.822Z"
      },
      {
        "duration": 1555,
        "start_time": "2022-12-02T10:58:26.890Z"
      },
      {
        "duration": 6,
        "start_time": "2022-12-02T10:58:28.446Z"
      },
      {
        "duration": 11,
        "start_time": "2022-12-02T10:58:28.454Z"
      },
      {
        "duration": 14,
        "start_time": "2022-12-02T10:58:28.467Z"
      },
      {
        "duration": 4,
        "start_time": "2022-12-02T10:58:28.483Z"
      },
      {
        "duration": 7,
        "start_time": "2022-12-02T10:58:28.489Z"
      },
      {
        "duration": 12,
        "start_time": "2022-12-02T10:58:28.498Z"
      },
      {
        "duration": 6,
        "start_time": "2022-12-02T10:58:28.538Z"
      },
      {
        "duration": 6,
        "start_time": "2022-12-02T10:58:28.546Z"
      },
      {
        "duration": 9,
        "start_time": "2022-12-02T10:58:28.555Z"
      },
      {
        "duration": 9,
        "start_time": "2022-12-02T10:58:28.565Z"
      },
      {
        "duration": 12,
        "start_time": "2022-12-02T10:58:28.576Z"
      },
      {
        "duration": 6,
        "start_time": "2022-12-02T10:58:28.590Z"
      },
      {
        "duration": 6,
        "start_time": "2022-12-02T10:58:28.597Z"
      },
      {
        "duration": 35,
        "start_time": "2022-12-02T10:58:28.605Z"
      },
      {
        "duration": 6,
        "start_time": "2022-12-02T10:58:28.642Z"
      },
      {
        "duration": 7,
        "start_time": "2022-12-02T10:58:28.650Z"
      },
      {
        "duration": 4,
        "start_time": "2022-12-02T10:58:28.659Z"
      },
      {
        "duration": 5,
        "start_time": "2022-12-02T10:58:28.665Z"
      },
      {
        "duration": 7,
        "start_time": "2022-12-02T10:58:28.671Z"
      },
      {
        "duration": 6,
        "start_time": "2022-12-02T10:58:28.680Z"
      },
      {
        "duration": 12,
        "start_time": "2022-12-02T10:58:28.688Z"
      },
      {
        "duration": 38,
        "start_time": "2022-12-02T10:58:28.701Z"
      },
      {
        "duration": 14,
        "start_time": "2022-12-02T10:58:28.740Z"
      },
      {
        "duration": 2,
        "start_time": "2022-12-02T10:58:28.756Z"
      },
      {
        "duration": 9,
        "start_time": "2022-12-02T10:58:28.760Z"
      },
      {
        "duration": 15,
        "start_time": "2022-12-02T10:58:28.771Z"
      },
      {
        "duration": 5,
        "start_time": "2022-12-02T10:58:28.790Z"
      },
      {
        "duration": 45,
        "start_time": "2022-12-02T10:58:28.797Z"
      },
      {
        "duration": 11,
        "start_time": "2022-12-02T10:58:28.844Z"
      },
      {
        "duration": 2834,
        "start_time": "2022-12-02T10:58:28.857Z"
      },
      {
        "duration": 21,
        "start_time": "2022-12-02T10:58:31.693Z"
      },
      {
        "duration": 27,
        "start_time": "2022-12-02T10:58:31.716Z"
      },
      {
        "duration": 1266,
        "start_time": "2022-12-02T10:58:31.745Z"
      },
      {
        "duration": 2,
        "start_time": "2022-12-02T10:58:33.013Z"
      },
      {
        "duration": 65,
        "start_time": "2022-12-02T10:58:33.017Z"
      },
      {
        "duration": 2,
        "start_time": "2022-12-02T10:58:33.084Z"
      },
      {
        "duration": 359,
        "start_time": "2022-12-02T10:58:33.088Z"
      },
      {
        "duration": 148,
        "start_time": "2022-12-02T10:58:33.448Z"
      },
      {
        "duration": 74,
        "start_time": "2022-12-02T10:58:33.598Z"
      },
      {
        "duration": 187,
        "start_time": "2022-12-02T10:58:33.674Z"
      },
      {
        "duration": 12,
        "start_time": "2022-12-02T10:58:33.862Z"
      },
      {
        "duration": 172,
        "start_time": "2022-12-02T10:58:33.876Z"
      },
      {
        "duration": 10,
        "start_time": "2022-12-02T10:58:34.050Z"
      },
      {
        "duration": 190,
        "start_time": "2022-12-02T10:58:34.062Z"
      },
      {
        "duration": 11,
        "start_time": "2022-12-02T10:58:34.254Z"
      },
      {
        "duration": 173,
        "start_time": "2022-12-02T10:58:34.267Z"
      },
      {
        "duration": 11,
        "start_time": "2022-12-02T10:58:34.442Z"
      },
      {
        "duration": 13,
        "start_time": "2022-12-02T10:58:34.455Z"
      },
      {
        "duration": 17,
        "start_time": "2022-12-02T10:58:34.469Z"
      },
      {
        "duration": 14,
        "start_time": "2022-12-02T10:58:34.488Z"
      },
      {
        "duration": 798,
        "start_time": "2022-12-02T10:58:34.504Z"
      },
      {
        "duration": 13,
        "start_time": "2022-12-02T10:58:35.304Z"
      },
      {
        "duration": 15,
        "start_time": "2022-12-02T10:58:35.319Z"
      },
      {
        "duration": 15,
        "start_time": "2022-12-02T10:58:35.335Z"
      },
      {
        "duration": 12,
        "start_time": "2022-12-02T10:58:35.351Z"
      },
      {
        "duration": 12,
        "start_time": "2022-12-02T10:58:35.365Z"
      },
      {
        "duration": 12,
        "start_time": "2022-12-02T10:58:35.378Z"
      },
      {
        "duration": 12,
        "start_time": "2022-12-02T10:58:35.391Z"
      },
      {
        "duration": 14,
        "start_time": "2022-12-02T10:58:35.436Z"
      },
      {
        "duration": 11,
        "start_time": "2022-12-02T10:58:35.452Z"
      },
      {
        "duration": 13,
        "start_time": "2022-12-02T10:58:35.464Z"
      },
      {
        "duration": 173,
        "start_time": "2022-12-02T10:58:35.479Z"
      },
      {
        "duration": 2,
        "start_time": "2022-12-02T10:58:35.654Z"
      },
      {
        "duration": 5,
        "start_time": "2022-12-02T10:58:35.658Z"
      },
      {
        "duration": 525,
        "start_time": "2022-12-02T11:07:55.428Z"
      },
      {
        "duration": 563,
        "start_time": "2022-12-02T11:23:42.778Z"
      },
      {
        "duration": 620,
        "start_time": "2022-12-02T11:24:21.744Z"
      },
      {
        "duration": 637,
        "start_time": "2022-12-02T11:24:36.457Z"
      },
      {
        "duration": 599,
        "start_time": "2022-12-02T11:24:57.726Z"
      },
      {
        "duration": 1217,
        "start_time": "2022-12-02T11:33:57.053Z"
      },
      {
        "duration": 1189,
        "start_time": "2022-12-02T11:37:35.515Z"
      },
      {
        "duration": 75,
        "start_time": "2022-12-02T11:39:18.187Z"
      },
      {
        "duration": 1128,
        "start_time": "2022-12-02T11:44:43.880Z"
      },
      {
        "duration": 16,
        "start_time": "2022-12-02T11:45:59.410Z"
      },
      {
        "duration": 1099,
        "start_time": "2022-12-02T11:46:13.790Z"
      },
      {
        "duration": 1295,
        "start_time": "2022-12-02T11:47:05.153Z"
      },
      {
        "duration": 529,
        "start_time": "2022-12-02T11:50:05.339Z"
      },
      {
        "duration": 518,
        "start_time": "2022-12-02T11:54:42.654Z"
      },
      {
        "duration": 531,
        "start_time": "2022-12-02T11:54:55.953Z"
      },
      {
        "duration": 502,
        "start_time": "2022-12-02T11:55:09.371Z"
      },
      {
        "duration": 671,
        "start_time": "2022-12-02T11:55:37.354Z"
      },
      {
        "duration": 598,
        "start_time": "2022-12-02T11:56:08.501Z"
      },
      {
        "duration": 654,
        "start_time": "2022-12-02T11:56:17.501Z"
      },
      {
        "duration": 640,
        "start_time": "2022-12-02T11:56:33.887Z"
      },
      {
        "duration": 638,
        "start_time": "2022-12-02T11:56:44.679Z"
      },
      {
        "duration": 691,
        "start_time": "2022-12-02T11:56:53.808Z"
      },
      {
        "duration": 810,
        "start_time": "2022-12-02T11:57:00.094Z"
      },
      {
        "duration": 689,
        "start_time": "2022-12-02T11:57:06.719Z"
      },
      {
        "duration": 14,
        "start_time": "2022-12-02T12:01:36.663Z"
      },
      {
        "duration": 24,
        "start_time": "2022-12-02T12:01:47.415Z"
      },
      {
        "duration": 17,
        "start_time": "2022-12-02T12:04:55.520Z"
      },
      {
        "duration": 17,
        "start_time": "2022-12-02T12:05:29.401Z"
      },
      {
        "duration": 16,
        "start_time": "2022-12-02T12:06:49.999Z"
      },
      {
        "duration": 23,
        "start_time": "2022-12-02T13:22:48.182Z"
      },
      {
        "duration": 26,
        "start_time": "2022-12-02T13:22:59.845Z"
      },
      {
        "duration": 24,
        "start_time": "2022-12-02T13:23:37.600Z"
      },
      {
        "duration": 16,
        "start_time": "2022-12-02T13:24:12.157Z"
      },
      {
        "duration": 8,
        "start_time": "2022-12-02T13:24:50.926Z"
      },
      {
        "duration": 9,
        "start_time": "2022-12-02T13:24:57.891Z"
      },
      {
        "duration": 1338,
        "start_time": "2022-12-02T13:47:14.161Z"
      },
      {
        "duration": 705,
        "start_time": "2022-12-02T13:47:37.336Z"
      },
      {
        "duration": 731,
        "start_time": "2022-12-02T13:48:40.989Z"
      },
      {
        "duration": 6,
        "start_time": "2022-12-02T13:55:58.879Z"
      },
      {
        "duration": 23,
        "start_time": "2022-12-02T13:56:43.236Z"
      },
      {
        "duration": 81,
        "start_time": "2022-12-02T13:57:36.311Z"
      },
      {
        "duration": 82,
        "start_time": "2022-12-02T13:57:56.694Z"
      },
      {
        "duration": 14,
        "start_time": "2022-12-02T13:58:49.548Z"
      },
      {
        "duration": 18,
        "start_time": "2022-12-02T14:00:15.796Z"
      },
      {
        "duration": 15,
        "start_time": "2022-12-02T14:02:46.909Z"
      },
      {
        "duration": 3,
        "start_time": "2022-12-02T14:42:04.505Z"
      },
      {
        "duration": 11,
        "start_time": "2022-12-02T14:50:27.060Z"
      },
      {
        "duration": 14,
        "start_time": "2022-12-02T14:50:49.179Z"
      },
      {
        "duration": 15,
        "start_time": "2022-12-02T14:51:30.161Z"
      },
      {
        "duration": 19,
        "start_time": "2022-12-02T14:53:13.361Z"
      },
      {
        "duration": 25,
        "start_time": "2022-12-02T14:54:24.210Z"
      },
      {
        "duration": 6,
        "start_time": "2022-12-02T14:55:08.718Z"
      },
      {
        "duration": 3,
        "start_time": "2022-12-02T15:03:32.397Z"
      },
      {
        "duration": 17,
        "start_time": "2022-12-02T15:14:47.830Z"
      },
      {
        "duration": 67,
        "start_time": "2022-12-02T15:15:10.947Z"
      },
      {
        "duration": 6,
        "start_time": "2022-12-02T15:15:11.016Z"
      },
      {
        "duration": 23,
        "start_time": "2022-12-02T15:15:11.025Z"
      },
      {
        "duration": 12,
        "start_time": "2022-12-02T15:15:11.068Z"
      },
      {
        "duration": 4,
        "start_time": "2022-12-02T15:15:11.098Z"
      },
      {
        "duration": 8,
        "start_time": "2022-12-02T15:15:11.136Z"
      },
      {
        "duration": 12,
        "start_time": "2022-12-02T15:15:11.162Z"
      },
      {
        "duration": 5,
        "start_time": "2022-12-02T15:15:11.195Z"
      },
      {
        "duration": 4,
        "start_time": "2022-12-02T15:15:11.223Z"
      },
      {
        "duration": 6,
        "start_time": "2022-12-02T15:15:11.256Z"
      },
      {
        "duration": 7,
        "start_time": "2022-12-02T15:15:11.283Z"
      },
      {
        "duration": 12,
        "start_time": "2022-12-02T15:15:11.315Z"
      },
      {
        "duration": 7,
        "start_time": "2022-12-02T15:15:11.339Z"
      },
      {
        "duration": 4,
        "start_time": "2022-12-02T15:15:11.356Z"
      },
      {
        "duration": 5,
        "start_time": "2022-12-02T15:15:11.382Z"
      },
      {
        "duration": 5,
        "start_time": "2022-12-02T15:15:11.402Z"
      },
      {
        "duration": 6,
        "start_time": "2022-12-02T15:15:11.434Z"
      },
      {
        "duration": 4,
        "start_time": "2022-12-02T15:15:11.452Z"
      },
      {
        "duration": 5,
        "start_time": "2022-12-02T15:15:11.480Z"
      },
      {
        "duration": 7,
        "start_time": "2022-12-02T15:15:11.505Z"
      },
      {
        "duration": 6,
        "start_time": "2022-12-02T15:15:11.532Z"
      },
      {
        "duration": 10,
        "start_time": "2022-12-02T15:15:11.558Z"
      },
      {
        "duration": 6,
        "start_time": "2022-12-02T15:15:11.581Z"
      },
      {
        "duration": 12,
        "start_time": "2022-12-02T15:15:11.619Z"
      },
      {
        "duration": 2,
        "start_time": "2022-12-02T15:15:11.640Z"
      },
      {
        "duration": 8,
        "start_time": "2022-12-02T15:15:11.678Z"
      },
      {
        "duration": 16,
        "start_time": "2022-12-02T15:15:11.705Z"
      },
      {
        "duration": 6,
        "start_time": "2022-12-02T15:15:11.742Z"
      },
      {
        "duration": 8,
        "start_time": "2022-12-02T15:15:11.779Z"
      },
      {
        "duration": 8,
        "start_time": "2022-12-02T15:15:11.816Z"
      },
      {
        "duration": 3056,
        "start_time": "2022-12-02T15:15:11.853Z"
      },
      {
        "duration": 29,
        "start_time": "2022-12-02T15:15:14.911Z"
      },
      {
        "duration": 9,
        "start_time": "2022-12-02T15:15:14.942Z"
      },
      {
        "duration": 1534,
        "start_time": "2022-12-02T15:15:14.953Z"
      },
      {
        "duration": 3,
        "start_time": "2022-12-02T15:15:16.488Z"
      },
      {
        "duration": 56,
        "start_time": "2022-12-02T15:15:16.492Z"
      },
      {
        "duration": 2,
        "start_time": "2022-12-02T15:15:16.550Z"
      },
      {
        "duration": 378,
        "start_time": "2022-12-02T15:15:16.554Z"
      },
      {
        "duration": 154,
        "start_time": "2022-12-02T15:15:16.937Z"
      },
      {
        "duration": 80,
        "start_time": "2022-12-02T15:15:17.094Z"
      },
      {
        "duration": 173,
        "start_time": "2022-12-02T15:15:17.176Z"
      },
      {
        "duration": 12,
        "start_time": "2022-12-02T15:15:17.351Z"
      },
      {
        "duration": 178,
        "start_time": "2022-12-02T15:15:17.365Z"
      },
      {
        "duration": 12,
        "start_time": "2022-12-02T15:15:17.545Z"
      },
      {
        "duration": 188,
        "start_time": "2022-12-02T15:15:17.559Z"
      },
      {
        "duration": 13,
        "start_time": "2022-12-02T15:15:17.750Z"
      },
      {
        "duration": 194,
        "start_time": "2022-12-02T15:15:17.766Z"
      },
      {
        "duration": 13,
        "start_time": "2022-12-02T15:15:17.962Z"
      },
      {
        "duration": 7,
        "start_time": "2022-12-02T15:15:17.977Z"
      },
      {
        "duration": 18,
        "start_time": "2022-12-02T15:15:17.986Z"
      },
      {
        "duration": 39,
        "start_time": "2022-12-02T15:15:18.006Z"
      },
      {
        "duration": 0,
        "start_time": "2022-12-02T15:15:18.047Z"
      },
      {
        "duration": 0,
        "start_time": "2022-12-02T15:15:18.048Z"
      },
      {
        "duration": 0,
        "start_time": "2022-12-02T15:15:18.050Z"
      },
      {
        "duration": 0,
        "start_time": "2022-12-02T15:15:18.051Z"
      },
      {
        "duration": 0,
        "start_time": "2022-12-02T15:15:18.052Z"
      },
      {
        "duration": 0,
        "start_time": "2022-12-02T15:15:18.053Z"
      },
      {
        "duration": 0,
        "start_time": "2022-12-02T15:15:18.054Z"
      },
      {
        "duration": 0,
        "start_time": "2022-12-02T15:15:18.055Z"
      },
      {
        "duration": 0,
        "start_time": "2022-12-02T15:15:18.056Z"
      },
      {
        "duration": 0,
        "start_time": "2022-12-02T15:15:18.057Z"
      },
      {
        "duration": 0,
        "start_time": "2022-12-02T15:15:18.058Z"
      },
      {
        "duration": 0,
        "start_time": "2022-12-02T15:15:18.059Z"
      },
      {
        "duration": 0,
        "start_time": "2022-12-02T15:15:18.060Z"
      },
      {
        "duration": 0,
        "start_time": "2022-12-02T15:15:18.061Z"
      },
      {
        "duration": 0,
        "start_time": "2022-12-02T15:15:18.061Z"
      },
      {
        "duration": 0,
        "start_time": "2022-12-02T15:15:18.062Z"
      },
      {
        "duration": 0,
        "start_time": "2022-12-02T15:15:18.063Z"
      },
      {
        "duration": 14,
        "start_time": "2022-12-02T15:15:42.410Z"
      },
      {
        "duration": 13,
        "start_time": "2022-12-02T15:17:18.146Z"
      },
      {
        "duration": 12,
        "start_time": "2022-12-02T15:23:39.353Z"
      },
      {
        "duration": 12,
        "start_time": "2022-12-02T15:23:50.478Z"
      },
      {
        "duration": 12,
        "start_time": "2022-12-02T15:24:23.274Z"
      },
      {
        "duration": 59,
        "start_time": "2022-12-02T15:26:18.364Z"
      },
      {
        "duration": 6,
        "start_time": "2022-12-02T15:26:18.426Z"
      },
      {
        "duration": 8,
        "start_time": "2022-12-02T15:26:18.434Z"
      },
      {
        "duration": 11,
        "start_time": "2022-12-02T15:26:18.451Z"
      },
      {
        "duration": 4,
        "start_time": "2022-12-02T15:26:18.485Z"
      },
      {
        "duration": 6,
        "start_time": "2022-12-02T15:26:18.508Z"
      },
      {
        "duration": 11,
        "start_time": "2022-12-02T15:26:18.543Z"
      },
      {
        "duration": 6,
        "start_time": "2022-12-02T15:26:18.577Z"
      },
      {
        "duration": 6,
        "start_time": "2022-12-02T15:26:18.616Z"
      },
      {
        "duration": 7,
        "start_time": "2022-12-02T15:26:18.657Z"
      },
      {
        "duration": 10,
        "start_time": "2022-12-02T15:26:18.691Z"
      },
      {
        "duration": 13,
        "start_time": "2022-12-02T15:26:18.743Z"
      },
      {
        "duration": 8,
        "start_time": "2022-12-02T15:26:18.771Z"
      },
      {
        "duration": 5,
        "start_time": "2022-12-02T15:26:18.798Z"
      },
      {
        "duration": 7,
        "start_time": "2022-12-02T15:26:18.832Z"
      },
      {
        "duration": 8,
        "start_time": "2022-12-02T15:26:18.853Z"
      },
      {
        "duration": 7,
        "start_time": "2022-12-02T15:26:18.887Z"
      },
      {
        "duration": 5,
        "start_time": "2022-12-02T15:26:18.908Z"
      },
      {
        "duration": 6,
        "start_time": "2022-12-02T15:26:18.935Z"
      },
      {
        "duration": 10,
        "start_time": "2022-12-02T15:26:18.964Z"
      },
      {
        "duration": 6,
        "start_time": "2022-12-02T15:26:18.988Z"
      },
      {
        "duration": 12,
        "start_time": "2022-12-02T15:26:19.014Z"
      },
      {
        "duration": 13,
        "start_time": "2022-12-02T15:26:19.041Z"
      },
      {
        "duration": 14,
        "start_time": "2022-12-02T15:26:19.065Z"
      },
      {
        "duration": 3,
        "start_time": "2022-12-02T15:26:19.089Z"
      },
      {
        "duration": 9,
        "start_time": "2022-12-02T15:26:19.115Z"
      },
      {
        "duration": 18,
        "start_time": "2022-12-02T15:26:19.146Z"
      },
      {
        "duration": 7,
        "start_time": "2022-12-02T15:26:19.214Z"
      },
      {
        "duration": 24,
        "start_time": "2022-12-02T15:26:19.223Z"
      },
      {
        "duration": 8,
        "start_time": "2022-12-02T15:26:19.258Z"
      },
      {
        "duration": 3129,
        "start_time": "2022-12-02T15:26:19.270Z"
      },
      {
        "duration": 20,
        "start_time": "2022-12-02T15:26:22.402Z"
      },
      {
        "duration": 8,
        "start_time": "2022-12-02T15:26:22.437Z"
      },
      {
        "duration": 1496,
        "start_time": "2022-12-02T15:26:22.447Z"
      },
      {
        "duration": 3,
        "start_time": "2022-12-02T15:26:23.944Z"
      },
      {
        "duration": 43,
        "start_time": "2022-12-02T15:26:23.948Z"
      },
      {
        "duration": 2,
        "start_time": "2022-12-02T15:26:23.993Z"
      },
      {
        "duration": 386,
        "start_time": "2022-12-02T15:26:23.996Z"
      },
      {
        "duration": 157,
        "start_time": "2022-12-02T15:26:24.383Z"
      },
      {
        "duration": 66,
        "start_time": "2022-12-02T15:26:24.543Z"
      },
      {
        "duration": 189,
        "start_time": "2022-12-02T15:26:24.611Z"
      },
      {
        "duration": 13,
        "start_time": "2022-12-02T15:26:24.802Z"
      },
      {
        "duration": 184,
        "start_time": "2022-12-02T15:26:24.817Z"
      },
      {
        "duration": 13,
        "start_time": "2022-12-02T15:26:25.004Z"
      },
      {
        "duration": 189,
        "start_time": "2022-12-02T15:26:25.019Z"
      },
      {
        "duration": 13,
        "start_time": "2022-12-02T15:26:25.210Z"
      },
      {
        "duration": 170,
        "start_time": "2022-12-02T15:26:25.238Z"
      },
      {
        "duration": 13,
        "start_time": "2022-12-02T15:26:25.410Z"
      },
      {
        "duration": 7,
        "start_time": "2022-12-02T15:26:25.438Z"
      },
      {
        "duration": 17,
        "start_time": "2022-12-02T15:26:25.447Z"
      },
      {
        "duration": 707,
        "start_time": "2022-12-02T15:26:25.466Z"
      },
      {
        "duration": 17,
        "start_time": "2022-12-02T15:26:26.176Z"
      },
      {
        "duration": 688,
        "start_time": "2022-12-02T15:26:26.194Z"
      },
      {
        "duration": 16,
        "start_time": "2022-12-02T15:26:26.884Z"
      },
      {
        "duration": 687,
        "start_time": "2022-12-02T15:26:26.902Z"
      },
      {
        "duration": 17,
        "start_time": "2022-12-02T15:26:27.591Z"
      },
      {
        "duration": 751,
        "start_time": "2022-12-02T15:26:27.610Z"
      },
      {
        "duration": 17,
        "start_time": "2022-12-02T15:26:28.365Z"
      },
      {
        "duration": 14,
        "start_time": "2022-12-02T15:26:28.384Z"
      },
      {
        "duration": 44,
        "start_time": "2022-12-02T15:26:28.400Z"
      },
      {
        "duration": 16,
        "start_time": "2022-12-02T15:26:28.446Z"
      },
      {
        "duration": 16,
        "start_time": "2022-12-02T15:26:28.465Z"
      },
      {
        "duration": 15,
        "start_time": "2022-12-02T15:26:28.483Z"
      },
      {
        "duration": 46,
        "start_time": "2022-12-02T15:26:28.500Z"
      },
      {
        "duration": 17,
        "start_time": "2022-12-02T15:26:28.548Z"
      },
      {
        "duration": 198,
        "start_time": "2022-12-02T15:26:28.567Z"
      },
      {
        "duration": 3,
        "start_time": "2022-12-02T15:26:28.767Z"
      },
      {
        "duration": 17,
        "start_time": "2022-12-02T15:26:28.771Z"
      },
      {
        "duration": 13,
        "start_time": "2022-12-02T15:34:38.213Z"
      },
      {
        "duration": 10,
        "start_time": "2022-12-02T15:35:36.187Z"
      },
      {
        "duration": 5,
        "start_time": "2022-12-02T15:35:44.042Z"
      },
      {
        "duration": 7,
        "start_time": "2022-12-02T15:36:12.331Z"
      },
      {
        "duration": 64,
        "start_time": "2022-12-02T15:36:28.027Z"
      },
      {
        "duration": 7,
        "start_time": "2022-12-02T15:36:28.093Z"
      },
      {
        "duration": 20,
        "start_time": "2022-12-02T15:36:28.101Z"
      },
      {
        "duration": 31,
        "start_time": "2022-12-02T15:36:28.123Z"
      },
      {
        "duration": 32,
        "start_time": "2022-12-02T15:36:28.157Z"
      },
      {
        "duration": 41,
        "start_time": "2022-12-02T15:36:28.191Z"
      },
      {
        "duration": 27,
        "start_time": "2022-12-02T15:36:28.234Z"
      },
      {
        "duration": 34,
        "start_time": "2022-12-02T15:36:28.263Z"
      },
      {
        "duration": 17,
        "start_time": "2022-12-02T15:36:28.300Z"
      },
      {
        "duration": 21,
        "start_time": "2022-12-02T15:36:28.319Z"
      },
      {
        "duration": 25,
        "start_time": "2022-12-02T15:36:28.343Z"
      },
      {
        "duration": 21,
        "start_time": "2022-12-02T15:36:28.370Z"
      },
      {
        "duration": 13,
        "start_time": "2022-12-02T15:36:28.393Z"
      },
      {
        "duration": 13,
        "start_time": "2022-12-02T15:36:28.411Z"
      },
      {
        "duration": 15,
        "start_time": "2022-12-02T15:36:28.440Z"
      },
      {
        "duration": 14,
        "start_time": "2022-12-02T15:36:28.462Z"
      },
      {
        "duration": 6,
        "start_time": "2022-12-02T15:36:28.496Z"
      },
      {
        "duration": 3,
        "start_time": "2022-12-02T15:36:28.520Z"
      },
      {
        "duration": 5,
        "start_time": "2022-12-02T15:36:28.551Z"
      },
      {
        "duration": 7,
        "start_time": "2022-12-02T15:36:28.578Z"
      },
      {
        "duration": 5,
        "start_time": "2022-12-02T15:36:28.607Z"
      },
      {
        "duration": 10,
        "start_time": "2022-12-02T15:36:28.636Z"
      },
      {
        "duration": 5,
        "start_time": "2022-12-02T15:36:28.663Z"
      },
      {
        "duration": 14,
        "start_time": "2022-12-02T15:36:28.697Z"
      },
      {
        "duration": 23,
        "start_time": "2022-12-02T15:36:28.716Z"
      },
      {
        "duration": 21,
        "start_time": "2022-12-02T15:36:28.751Z"
      },
      {
        "duration": 40,
        "start_time": "2022-12-02T15:36:28.782Z"
      },
      {
        "duration": 20,
        "start_time": "2022-12-02T15:36:28.825Z"
      },
      {
        "duration": 38,
        "start_time": "2022-12-02T15:36:28.849Z"
      },
      {
        "duration": 39,
        "start_time": "2022-12-02T15:36:28.890Z"
      },
      {
        "duration": 3627,
        "start_time": "2022-12-02T15:36:28.931Z"
      },
      {
        "duration": 22,
        "start_time": "2022-12-02T15:36:32.561Z"
      },
      {
        "duration": 27,
        "start_time": "2022-12-02T15:36:32.585Z"
      },
      {
        "duration": 1287,
        "start_time": "2022-12-02T15:36:32.615Z"
      },
      {
        "duration": 2,
        "start_time": "2022-12-02T15:36:33.905Z"
      },
      {
        "duration": 328,
        "start_time": "2022-12-02T15:36:33.910Z"
      },
      {
        "duration": 4,
        "start_time": "2022-12-02T15:36:34.240Z"
      },
      {
        "duration": 793,
        "start_time": "2022-12-02T15:36:34.245Z"
      },
      {
        "duration": 168,
        "start_time": "2022-12-02T15:36:35.040Z"
      },
      {
        "duration": 75,
        "start_time": "2022-12-02T15:36:35.211Z"
      },
      {
        "duration": 191,
        "start_time": "2022-12-02T15:36:35.288Z"
      },
      {
        "duration": 13,
        "start_time": "2022-12-02T15:36:35.480Z"
      },
      {
        "duration": 184,
        "start_time": "2022-12-02T15:36:35.495Z"
      },
      {
        "duration": 12,
        "start_time": "2022-12-02T15:36:35.681Z"
      },
      {
        "duration": 201,
        "start_time": "2022-12-02T15:36:35.695Z"
      },
      {
        "duration": 12,
        "start_time": "2022-12-02T15:36:35.898Z"
      },
      {
        "duration": 327,
        "start_time": "2022-12-02T15:36:35.911Z"
      },
      {
        "duration": 13,
        "start_time": "2022-12-02T15:36:36.240Z"
      },
      {
        "duration": 9,
        "start_time": "2022-12-02T15:36:36.254Z"
      },
      {
        "duration": 17,
        "start_time": "2022-12-02T15:36:36.265Z"
      },
      {
        "duration": 11,
        "start_time": "2022-12-02T15:36:36.283Z"
      },
      {
        "duration": 0,
        "start_time": "2022-12-02T15:36:36.296Z"
      },
      {
        "duration": 0,
        "start_time": "2022-12-02T15:36:36.298Z"
      },
      {
        "duration": 0,
        "start_time": "2022-12-02T15:36:36.299Z"
      },
      {
        "duration": 0,
        "start_time": "2022-12-02T15:36:36.300Z"
      },
      {
        "duration": 0,
        "start_time": "2022-12-02T15:36:36.342Z"
      },
      {
        "duration": 0,
        "start_time": "2022-12-02T15:36:36.344Z"
      },
      {
        "duration": 0,
        "start_time": "2022-12-02T15:36:36.346Z"
      },
      {
        "duration": 0,
        "start_time": "2022-12-02T15:36:36.347Z"
      },
      {
        "duration": 0,
        "start_time": "2022-12-02T15:36:36.349Z"
      },
      {
        "duration": 0,
        "start_time": "2022-12-02T15:36:36.350Z"
      },
      {
        "duration": 0,
        "start_time": "2022-12-02T15:36:36.351Z"
      },
      {
        "duration": 0,
        "start_time": "2022-12-02T15:36:36.353Z"
      },
      {
        "duration": 1,
        "start_time": "2022-12-02T15:36:36.353Z"
      },
      {
        "duration": 0,
        "start_time": "2022-12-02T15:36:36.355Z"
      },
      {
        "duration": 0,
        "start_time": "2022-12-02T15:36:36.356Z"
      },
      {
        "duration": 0,
        "start_time": "2022-12-02T15:36:36.357Z"
      },
      {
        "duration": 0,
        "start_time": "2022-12-02T15:36:36.358Z"
      },
      {
        "duration": 5,
        "start_time": "2022-12-02T15:37:45.770Z"
      },
      {
        "duration": 3,
        "start_time": "2022-12-02T15:39:00.818Z"
      },
      {
        "duration": 66,
        "start_time": "2022-12-02T15:39:10.652Z"
      },
      {
        "duration": 6,
        "start_time": "2022-12-02T15:39:10.720Z"
      },
      {
        "duration": 22,
        "start_time": "2022-12-02T15:39:10.728Z"
      },
      {
        "duration": 24,
        "start_time": "2022-12-02T15:39:10.752Z"
      },
      {
        "duration": 4,
        "start_time": "2022-12-02T15:39:10.789Z"
      },
      {
        "duration": 8,
        "start_time": "2022-12-02T15:39:10.819Z"
      },
      {
        "duration": 13,
        "start_time": "2022-12-02T15:39:10.849Z"
      },
      {
        "duration": 7,
        "start_time": "2022-12-02T15:39:10.876Z"
      },
      {
        "duration": 6,
        "start_time": "2022-12-02T15:39:10.909Z"
      },
      {
        "duration": 7,
        "start_time": "2022-12-02T15:39:10.943Z"
      },
      {
        "duration": 10,
        "start_time": "2022-12-02T15:39:10.977Z"
      },
      {
        "duration": 17,
        "start_time": "2022-12-02T15:39:11.012Z"
      },
      {
        "duration": 12,
        "start_time": "2022-12-02T15:39:11.037Z"
      },
      {
        "duration": 9,
        "start_time": "2022-12-02T15:39:11.061Z"
      },
      {
        "duration": 7,
        "start_time": "2022-12-02T15:39:11.089Z"
      },
      {
        "duration": 8,
        "start_time": "2022-12-02T15:39:11.115Z"
      },
      {
        "duration": 15,
        "start_time": "2022-12-02T15:39:11.156Z"
      },
      {
        "duration": 29,
        "start_time": "2022-12-02T15:39:11.176Z"
      },
      {
        "duration": 26,
        "start_time": "2022-12-02T15:39:11.207Z"
      },
      {
        "duration": 14,
        "start_time": "2022-12-02T15:39:11.235Z"
      },
      {
        "duration": 16,
        "start_time": "2022-12-02T15:39:11.262Z"
      },
      {
        "duration": 9,
        "start_time": "2022-12-02T15:39:11.292Z"
      },
      {
        "duration": 6,
        "start_time": "2022-12-02T15:39:11.322Z"
      },
      {
        "duration": 13,
        "start_time": "2022-12-02T15:39:11.350Z"
      },
      {
        "duration": 2,
        "start_time": "2022-12-02T15:39:11.375Z"
      },
      {
        "duration": 9,
        "start_time": "2022-12-02T15:39:11.406Z"
      },
      {
        "duration": 18,
        "start_time": "2022-12-02T15:39:11.434Z"
      },
      {
        "duration": 6,
        "start_time": "2022-12-02T15:39:11.467Z"
      },
      {
        "duration": 10,
        "start_time": "2022-12-02T15:39:11.505Z"
      },
      {
        "duration": 7,
        "start_time": "2022-12-02T15:39:11.531Z"
      },
      {
        "duration": 3267,
        "start_time": "2022-12-02T15:39:11.579Z"
      },
      {
        "duration": 23,
        "start_time": "2022-12-02T15:39:14.848Z"
      },
      {
        "duration": 8,
        "start_time": "2022-12-02T15:39:14.873Z"
      },
      {
        "duration": 1259,
        "start_time": "2022-12-02T15:39:14.884Z"
      },
      {
        "duration": 2,
        "start_time": "2022-12-02T15:39:16.145Z"
      },
      {
        "duration": 91,
        "start_time": "2022-12-02T15:39:16.149Z"
      },
      {
        "duration": 3,
        "start_time": "2022-12-02T15:39:16.242Z"
      },
      {
        "duration": 844,
        "start_time": "2022-12-02T15:39:16.247Z"
      },
      {
        "duration": 170,
        "start_time": "2022-12-02T15:39:17.093Z"
      },
      {
        "duration": 80,
        "start_time": "2022-12-02T15:39:17.266Z"
      },
      {
        "duration": 192,
        "start_time": "2022-12-02T15:39:17.347Z"
      },
      {
        "duration": 14,
        "start_time": "2022-12-02T15:39:17.541Z"
      },
      {
        "duration": 219,
        "start_time": "2022-12-02T15:39:17.557Z"
      },
      {
        "duration": 13,
        "start_time": "2022-12-02T15:39:17.778Z"
      },
      {
        "duration": 233,
        "start_time": "2022-12-02T15:39:17.793Z"
      },
      {
        "duration": 19,
        "start_time": "2022-12-02T15:39:18.028Z"
      },
      {
        "duration": 204,
        "start_time": "2022-12-02T15:39:18.049Z"
      },
      {
        "duration": 13,
        "start_time": "2022-12-02T15:39:18.255Z"
      },
      {
        "duration": 14,
        "start_time": "2022-12-02T15:39:18.270Z"
      },
      {
        "duration": 40,
        "start_time": "2022-12-02T15:39:18.286Z"
      },
      {
        "duration": 26,
        "start_time": "2022-12-02T15:39:18.329Z"
      },
      {
        "duration": 46,
        "start_time": "2022-12-02T15:39:18.357Z"
      },
      {
        "duration": 803,
        "start_time": "2022-12-02T15:39:18.405Z"
      },
      {
        "duration": 31,
        "start_time": "2022-12-02T15:39:19.210Z"
      },
      {
        "duration": 727,
        "start_time": "2022-12-02T15:39:19.244Z"
      },
      {
        "duration": 17,
        "start_time": "2022-12-02T15:39:19.973Z"
      },
      {
        "duration": 792,
        "start_time": "2022-12-02T15:39:19.993Z"
      },
      {
        "duration": 15,
        "start_time": "2022-12-02T15:39:20.789Z"
      },
      {
        "duration": 36,
        "start_time": "2022-12-02T15:39:20.806Z"
      },
      {
        "duration": 15,
        "start_time": "2022-12-02T15:39:20.844Z"
      },
      {
        "duration": 24,
        "start_time": "2022-12-02T15:39:20.861Z"
      },
      {
        "duration": 32,
        "start_time": "2022-12-02T15:39:20.887Z"
      },
      {
        "duration": 32,
        "start_time": "2022-12-02T15:39:20.922Z"
      },
      {
        "duration": 29,
        "start_time": "2022-12-02T15:39:20.956Z"
      },
      {
        "duration": 23,
        "start_time": "2022-12-02T15:39:20.986Z"
      },
      {
        "duration": 167,
        "start_time": "2022-12-02T15:39:21.011Z"
      },
      {
        "duration": 3,
        "start_time": "2022-12-02T15:39:21.180Z"
      },
      {
        "duration": 11,
        "start_time": "2022-12-02T15:39:21.186Z"
      },
      {
        "duration": 11,
        "start_time": "2022-12-02T15:39:48.516Z"
      },
      {
        "duration": 257,
        "start_time": "2022-12-02T15:40:36.447Z"
      },
      {
        "duration": 11,
        "start_time": "2022-12-02T15:42:03.057Z"
      },
      {
        "duration": 19,
        "start_time": "2022-12-02T15:42:22.715Z"
      },
      {
        "duration": 9,
        "start_time": "2022-12-02T15:42:26.975Z"
      },
      {
        "duration": 238,
        "start_time": "2022-12-02T15:42:51.202Z"
      },
      {
        "duration": 18,
        "start_time": "2022-12-02T15:43:24.377Z"
      },
      {
        "duration": 10,
        "start_time": "2022-12-02T15:44:15.716Z"
      },
      {
        "duration": 241,
        "start_time": "2022-12-02T15:44:58.075Z"
      },
      {
        "duration": 10,
        "start_time": "2022-12-02T16:19:19.856Z"
      },
      {
        "duration": 13,
        "start_time": "2022-12-02T16:20:01.541Z"
      },
      {
        "duration": 13,
        "start_time": "2022-12-02T16:20:13.118Z"
      },
      {
        "duration": 13,
        "start_time": "2022-12-02T16:21:01.557Z"
      },
      {
        "duration": 12,
        "start_time": "2022-12-02T16:38:54.839Z"
      },
      {
        "duration": 14,
        "start_time": "2022-12-02T16:40:13.685Z"
      },
      {
        "duration": 12,
        "start_time": "2022-12-02T16:51:57.016Z"
      },
      {
        "duration": 1488,
        "start_time": "2022-12-03T08:30:16.944Z"
      },
      {
        "duration": 6,
        "start_time": "2022-12-03T08:30:18.434Z"
      },
      {
        "duration": 21,
        "start_time": "2022-12-03T08:30:18.441Z"
      },
      {
        "duration": 17,
        "start_time": "2022-12-03T08:30:18.464Z"
      },
      {
        "duration": 31,
        "start_time": "2022-12-03T08:30:18.483Z"
      },
      {
        "duration": 32,
        "start_time": "2022-12-03T08:30:18.516Z"
      },
      {
        "duration": 13,
        "start_time": "2022-12-03T08:30:18.550Z"
      },
      {
        "duration": 12,
        "start_time": "2022-12-03T08:30:18.565Z"
      },
      {
        "duration": 15,
        "start_time": "2022-12-03T08:30:18.579Z"
      },
      {
        "duration": 8,
        "start_time": "2022-12-03T08:30:18.596Z"
      },
      {
        "duration": 12,
        "start_time": "2022-12-03T08:30:18.606Z"
      },
      {
        "duration": 37,
        "start_time": "2022-12-03T08:30:18.620Z"
      },
      {
        "duration": 28,
        "start_time": "2022-12-03T08:30:18.659Z"
      },
      {
        "duration": 14,
        "start_time": "2022-12-03T08:30:18.689Z"
      },
      {
        "duration": 38,
        "start_time": "2022-12-03T08:30:18.704Z"
      },
      {
        "duration": 20,
        "start_time": "2022-12-03T08:30:18.744Z"
      },
      {
        "duration": 7,
        "start_time": "2022-12-03T08:30:18.766Z"
      },
      {
        "duration": 16,
        "start_time": "2022-12-03T08:30:18.775Z"
      },
      {
        "duration": 8,
        "start_time": "2022-12-03T08:30:18.793Z"
      },
      {
        "duration": 27,
        "start_time": "2022-12-03T08:30:18.803Z"
      },
      {
        "duration": 22,
        "start_time": "2022-12-03T08:30:18.832Z"
      },
      {
        "duration": 17,
        "start_time": "2022-12-03T08:30:18.855Z"
      },
      {
        "duration": 27,
        "start_time": "2022-12-03T08:30:18.874Z"
      },
      {
        "duration": 44,
        "start_time": "2022-12-03T08:30:18.902Z"
      },
      {
        "duration": 45,
        "start_time": "2022-12-03T08:30:18.948Z"
      },
      {
        "duration": 0,
        "start_time": "2022-12-03T08:30:18.996Z"
      },
      {
        "duration": 0,
        "start_time": "2022-12-03T08:30:18.997Z"
      },
      {
        "duration": 0,
        "start_time": "2022-12-03T08:30:18.998Z"
      },
      {
        "duration": 0,
        "start_time": "2022-12-03T08:30:19.001Z"
      },
      {
        "duration": 0,
        "start_time": "2022-12-03T08:30:19.002Z"
      },
      {
        "duration": 0,
        "start_time": "2022-12-03T08:30:19.005Z"
      },
      {
        "duration": 0,
        "start_time": "2022-12-03T08:30:19.007Z"
      },
      {
        "duration": 0,
        "start_time": "2022-12-03T08:30:19.008Z"
      },
      {
        "duration": 0,
        "start_time": "2022-12-03T08:30:19.009Z"
      },
      {
        "duration": 0,
        "start_time": "2022-12-03T08:30:19.011Z"
      },
      {
        "duration": 0,
        "start_time": "2022-12-03T08:30:19.012Z"
      },
      {
        "duration": 0,
        "start_time": "2022-12-03T08:30:19.014Z"
      },
      {
        "duration": 0,
        "start_time": "2022-12-03T08:30:19.014Z"
      },
      {
        "duration": 0,
        "start_time": "2022-12-03T08:30:19.015Z"
      },
      {
        "duration": 0,
        "start_time": "2022-12-03T08:30:19.016Z"
      },
      {
        "duration": 1,
        "start_time": "2022-12-03T08:30:19.016Z"
      },
      {
        "duration": 0,
        "start_time": "2022-12-03T08:30:19.017Z"
      },
      {
        "duration": 0,
        "start_time": "2022-12-03T08:30:19.018Z"
      },
      {
        "duration": 0,
        "start_time": "2022-12-03T08:30:19.019Z"
      },
      {
        "duration": 0,
        "start_time": "2022-12-03T08:30:19.020Z"
      },
      {
        "duration": 0,
        "start_time": "2022-12-03T08:30:19.020Z"
      },
      {
        "duration": 0,
        "start_time": "2022-12-03T08:30:19.021Z"
      },
      {
        "duration": 0,
        "start_time": "2022-12-03T08:30:19.022Z"
      },
      {
        "duration": 0,
        "start_time": "2022-12-03T08:30:19.023Z"
      },
      {
        "duration": 0,
        "start_time": "2022-12-03T08:30:19.023Z"
      },
      {
        "duration": 0,
        "start_time": "2022-12-03T08:30:19.024Z"
      },
      {
        "duration": 0,
        "start_time": "2022-12-03T08:30:19.025Z"
      },
      {
        "duration": 0,
        "start_time": "2022-12-03T08:30:19.026Z"
      },
      {
        "duration": 0,
        "start_time": "2022-12-03T08:30:19.027Z"
      },
      {
        "duration": 0,
        "start_time": "2022-12-03T08:30:19.027Z"
      },
      {
        "duration": 0,
        "start_time": "2022-12-03T08:30:19.028Z"
      },
      {
        "duration": 0,
        "start_time": "2022-12-03T08:30:19.029Z"
      },
      {
        "duration": 1,
        "start_time": "2022-12-03T08:30:19.031Z"
      },
      {
        "duration": 0,
        "start_time": "2022-12-03T08:30:19.034Z"
      },
      {
        "duration": 0,
        "start_time": "2022-12-03T08:30:19.035Z"
      },
      {
        "duration": 0,
        "start_time": "2022-12-03T08:30:19.036Z"
      },
      {
        "duration": 0,
        "start_time": "2022-12-03T08:30:19.038Z"
      },
      {
        "duration": 0,
        "start_time": "2022-12-03T08:30:19.039Z"
      },
      {
        "duration": 0,
        "start_time": "2022-12-03T08:30:19.041Z"
      },
      {
        "duration": 0,
        "start_time": "2022-12-03T08:30:19.043Z"
      },
      {
        "duration": 7,
        "start_time": "2022-12-03T08:31:27.947Z"
      },
      {
        "duration": 12,
        "start_time": "2022-12-03T08:31:43.264Z"
      },
      {
        "duration": 7,
        "start_time": "2022-12-03T08:32:54.353Z"
      },
      {
        "duration": 428,
        "start_time": "2022-12-03T08:34:08.525Z"
      },
      {
        "duration": 25,
        "start_time": "2022-12-03T08:34:22.002Z"
      },
      {
        "duration": 256,
        "start_time": "2022-12-03T08:34:51.161Z"
      },
      {
        "duration": 228,
        "start_time": "2022-12-03T08:35:04.077Z"
      },
      {
        "duration": 128,
        "start_time": "2022-12-03T08:35:24.751Z"
      },
      {
        "duration": 245,
        "start_time": "2022-12-03T08:39:59.964Z"
      },
      {
        "duration": 312,
        "start_time": "2022-12-03T08:40:18.348Z"
      },
      {
        "duration": 265,
        "start_time": "2022-12-03T08:40:33.599Z"
      },
      {
        "duration": 232,
        "start_time": "2022-12-03T08:40:54.987Z"
      },
      {
        "duration": 149,
        "start_time": "2022-12-03T08:43:36.939Z"
      },
      {
        "duration": 38,
        "start_time": "2022-12-03T08:43:56.087Z"
      },
      {
        "duration": 189,
        "start_time": "2022-12-03T08:46:53.253Z"
      },
      {
        "duration": 174,
        "start_time": "2022-12-03T08:47:28.761Z"
      },
      {
        "duration": 180,
        "start_time": "2022-12-03T08:47:55.364Z"
      },
      {
        "duration": 211,
        "start_time": "2022-12-03T08:48:07.547Z"
      },
      {
        "duration": 195,
        "start_time": "2022-12-03T08:54:59.174Z"
      },
      {
        "duration": 11,
        "start_time": "2022-12-03T08:57:39.243Z"
      },
      {
        "duration": 253,
        "start_time": "2022-12-03T08:58:02.832Z"
      },
      {
        "duration": 191,
        "start_time": "2022-12-03T08:58:33.149Z"
      },
      {
        "duration": 193,
        "start_time": "2022-12-03T08:58:43.198Z"
      },
      {
        "duration": 212,
        "start_time": "2022-12-03T08:58:51.995Z"
      },
      {
        "duration": 12,
        "start_time": "2022-12-03T08:59:09.992Z"
      },
      {
        "duration": 185,
        "start_time": "2022-12-03T08:59:55.208Z"
      },
      {
        "duration": 200,
        "start_time": "2022-12-03T09:00:24.898Z"
      },
      {
        "duration": 12,
        "start_time": "2022-12-03T09:00:42.660Z"
      },
      {
        "duration": 174,
        "start_time": "2022-12-03T09:01:03.189Z"
      },
      {
        "duration": 197,
        "start_time": "2022-12-03T09:01:24.664Z"
      },
      {
        "duration": 12,
        "start_time": "2022-12-03T09:03:20.941Z"
      },
      {
        "duration": 7,
        "start_time": "2022-12-03T09:03:31.226Z"
      },
      {
        "duration": 3173,
        "start_time": "2022-12-03T09:04:48.260Z"
      },
      {
        "duration": 26,
        "start_time": "2022-12-03T09:05:29.707Z"
      },
      {
        "duration": 16,
        "start_time": "2022-12-03T09:07:39.360Z"
      },
      {
        "duration": 13,
        "start_time": "2022-12-03T09:20:53.522Z"
      },
      {
        "duration": 15,
        "start_time": "2022-12-03T09:21:06.081Z"
      },
      {
        "duration": 8,
        "start_time": "2022-12-03T09:21:12.007Z"
      },
      {
        "duration": 7,
        "start_time": "2022-12-03T09:21:34.196Z"
      },
      {
        "duration": 251,
        "start_time": "2022-12-03T09:22:24.174Z"
      },
      {
        "duration": 14,
        "start_time": "2022-12-03T09:26:55.935Z"
      },
      {
        "duration": 7,
        "start_time": "2022-12-03T09:27:23.466Z"
      },
      {
        "duration": 237,
        "start_time": "2022-12-03T09:29:48.335Z"
      },
      {
        "duration": 17,
        "start_time": "2022-12-03T09:48:06.005Z"
      },
      {
        "duration": 11,
        "start_time": "2022-12-03T09:50:15.415Z"
      },
      {
        "duration": 262,
        "start_time": "2022-12-03T09:50:33.404Z"
      },
      {
        "duration": 262,
        "start_time": "2022-12-03T09:55:04.053Z"
      },
      {
        "duration": 20,
        "start_time": "2022-12-03T10:00:08.847Z"
      },
      {
        "duration": 18,
        "start_time": "2022-12-03T10:01:25.865Z"
      },
      {
        "duration": 16,
        "start_time": "2022-12-03T10:02:17.157Z"
      },
      {
        "duration": 16,
        "start_time": "2022-12-03T10:04:02.623Z"
      },
      {
        "duration": 15,
        "start_time": "2022-12-03T10:06:14.029Z"
      },
      {
        "duration": 15,
        "start_time": "2022-12-03T10:08:07.564Z"
      },
      {
        "duration": 15,
        "start_time": "2022-12-03T10:11:17.080Z"
      },
      {
        "duration": 9,
        "start_time": "2022-12-03T10:13:42.701Z"
      },
      {
        "duration": 686,
        "start_time": "2022-12-03T10:14:53.231Z"
      },
      {
        "duration": 11,
        "start_time": "2022-12-03T10:15:07.333Z"
      },
      {
        "duration": 213,
        "start_time": "2022-12-03T10:39:49.271Z"
      },
      {
        "duration": 14,
        "start_time": "2022-12-03T10:40:05.974Z"
      },
      {
        "duration": 15,
        "start_time": "2022-12-03T10:43:23.374Z"
      },
      {
        "duration": 366,
        "start_time": "2022-12-03T11:27:35.988Z"
      },
      {
        "duration": 522,
        "start_time": "2022-12-03T11:28:33.419Z"
      },
      {
        "duration": 288,
        "start_time": "2022-12-03T11:28:45.264Z"
      },
      {
        "duration": 277,
        "start_time": "2022-12-03T11:28:53.902Z"
      },
      {
        "duration": 267,
        "start_time": "2022-12-03T11:32:40.860Z"
      },
      {
        "duration": 288,
        "start_time": "2022-12-03T11:34:27.898Z"
      },
      {
        "duration": 321,
        "start_time": "2022-12-03T11:44:48.834Z"
      },
      {
        "duration": 370,
        "start_time": "2022-12-03T11:57:05.232Z"
      },
      {
        "duration": 294,
        "start_time": "2022-12-03T11:57:18.874Z"
      },
      {
        "duration": 252,
        "start_time": "2022-12-03T12:13:10.450Z"
      },
      {
        "duration": 57,
        "start_time": "2022-12-03T17:23:33.877Z"
      },
      {
        "duration": 1406,
        "start_time": "2022-12-03T17:23:41.618Z"
      },
      {
        "duration": 39,
        "start_time": "2022-12-03T17:23:43.026Z"
      },
      {
        "duration": 0,
        "start_time": "2022-12-03T17:23:43.069Z"
      },
      {
        "duration": 0,
        "start_time": "2022-12-03T17:23:43.070Z"
      },
      {
        "duration": 0,
        "start_time": "2022-12-03T17:23:43.072Z"
      },
      {
        "duration": 0,
        "start_time": "2022-12-03T17:23:43.074Z"
      },
      {
        "duration": 0,
        "start_time": "2022-12-03T17:23:43.075Z"
      },
      {
        "duration": 0,
        "start_time": "2022-12-03T17:23:43.076Z"
      },
      {
        "duration": 0,
        "start_time": "2022-12-03T17:23:43.078Z"
      },
      {
        "duration": 0,
        "start_time": "2022-12-03T17:23:43.079Z"
      },
      {
        "duration": 0,
        "start_time": "2022-12-03T17:23:43.081Z"
      },
      {
        "duration": 0,
        "start_time": "2022-12-03T17:23:43.082Z"
      },
      {
        "duration": 0,
        "start_time": "2022-12-03T17:23:43.083Z"
      },
      {
        "duration": 0,
        "start_time": "2022-12-03T17:23:43.085Z"
      },
      {
        "duration": 0,
        "start_time": "2022-12-03T17:23:43.086Z"
      },
      {
        "duration": 0,
        "start_time": "2022-12-03T17:23:43.087Z"
      },
      {
        "duration": 0,
        "start_time": "2022-12-03T17:23:43.089Z"
      },
      {
        "duration": 0,
        "start_time": "2022-12-03T17:23:43.090Z"
      },
      {
        "duration": 0,
        "start_time": "2022-12-03T17:23:43.092Z"
      },
      {
        "duration": 0,
        "start_time": "2022-12-03T17:23:43.093Z"
      },
      {
        "duration": 0,
        "start_time": "2022-12-03T17:23:43.095Z"
      },
      {
        "duration": 0,
        "start_time": "2022-12-03T17:23:43.096Z"
      },
      {
        "duration": 0,
        "start_time": "2022-12-03T17:23:43.098Z"
      },
      {
        "duration": 0,
        "start_time": "2022-12-03T17:23:43.099Z"
      },
      {
        "duration": 0,
        "start_time": "2022-12-03T17:23:43.100Z"
      },
      {
        "duration": 0,
        "start_time": "2022-12-03T17:23:43.102Z"
      },
      {
        "duration": 0,
        "start_time": "2022-12-03T17:23:43.103Z"
      },
      {
        "duration": 0,
        "start_time": "2022-12-03T17:23:43.104Z"
      },
      {
        "duration": 0,
        "start_time": "2022-12-03T17:23:43.106Z"
      },
      {
        "duration": 0,
        "start_time": "2022-12-03T17:23:43.107Z"
      },
      {
        "duration": 0,
        "start_time": "2022-12-03T17:23:43.109Z"
      },
      {
        "duration": 0,
        "start_time": "2022-12-03T17:23:43.110Z"
      },
      {
        "duration": 0,
        "start_time": "2022-12-03T17:23:43.111Z"
      },
      {
        "duration": 0,
        "start_time": "2022-12-03T17:23:43.112Z"
      },
      {
        "duration": 0,
        "start_time": "2022-12-03T17:23:43.114Z"
      },
      {
        "duration": 0,
        "start_time": "2022-12-03T17:23:43.115Z"
      },
      {
        "duration": 0,
        "start_time": "2022-12-03T17:23:43.116Z"
      },
      {
        "duration": 0,
        "start_time": "2022-12-03T17:23:43.118Z"
      },
      {
        "duration": 0,
        "start_time": "2022-12-03T17:23:43.119Z"
      },
      {
        "duration": 0,
        "start_time": "2022-12-03T17:23:43.120Z"
      },
      {
        "duration": 0,
        "start_time": "2022-12-03T17:23:43.122Z"
      },
      {
        "duration": 0,
        "start_time": "2022-12-03T17:23:43.123Z"
      },
      {
        "duration": 0,
        "start_time": "2022-12-03T17:23:43.124Z"
      },
      {
        "duration": 0,
        "start_time": "2022-12-03T17:23:43.125Z"
      },
      {
        "duration": 0,
        "start_time": "2022-12-03T17:23:43.126Z"
      },
      {
        "duration": 0,
        "start_time": "2022-12-03T17:23:43.127Z"
      },
      {
        "duration": 0,
        "start_time": "2022-12-03T17:23:43.128Z"
      },
      {
        "duration": 0,
        "start_time": "2022-12-03T17:23:43.129Z"
      },
      {
        "duration": 0,
        "start_time": "2022-12-03T17:23:43.130Z"
      },
      {
        "duration": 0,
        "start_time": "2022-12-03T17:23:43.131Z"
      },
      {
        "duration": 0,
        "start_time": "2022-12-03T17:23:43.132Z"
      },
      {
        "duration": 0,
        "start_time": "2022-12-03T17:23:43.133Z"
      },
      {
        "duration": 0,
        "start_time": "2022-12-03T17:23:43.134Z"
      },
      {
        "duration": 0,
        "start_time": "2022-12-03T17:23:43.135Z"
      },
      {
        "duration": 0,
        "start_time": "2022-12-03T17:23:43.196Z"
      },
      {
        "duration": 0,
        "start_time": "2022-12-03T17:23:43.197Z"
      },
      {
        "duration": 0,
        "start_time": "2022-12-03T17:23:43.198Z"
      },
      {
        "duration": 0,
        "start_time": "2022-12-03T17:23:43.200Z"
      },
      {
        "duration": 0,
        "start_time": "2022-12-03T17:23:43.201Z"
      },
      {
        "duration": 0,
        "start_time": "2022-12-03T17:23:43.202Z"
      },
      {
        "duration": 0,
        "start_time": "2022-12-03T17:23:43.203Z"
      },
      {
        "duration": 0,
        "start_time": "2022-12-03T17:23:43.204Z"
      },
      {
        "duration": 0,
        "start_time": "2022-12-03T17:23:43.205Z"
      },
      {
        "duration": 1215,
        "start_time": "2022-12-03T17:25:20.017Z"
      },
      {
        "duration": 45,
        "start_time": "2022-12-03T17:25:21.234Z"
      },
      {
        "duration": 0,
        "start_time": "2022-12-03T17:25:21.283Z"
      },
      {
        "duration": 0,
        "start_time": "2022-12-03T17:25:21.284Z"
      },
      {
        "duration": 0,
        "start_time": "2022-12-03T17:25:21.286Z"
      },
      {
        "duration": 0,
        "start_time": "2022-12-03T17:25:21.288Z"
      },
      {
        "duration": 0,
        "start_time": "2022-12-03T17:25:21.289Z"
      },
      {
        "duration": 0,
        "start_time": "2022-12-03T17:25:21.291Z"
      },
      {
        "duration": 1,
        "start_time": "2022-12-03T17:25:21.292Z"
      },
      {
        "duration": 0,
        "start_time": "2022-12-03T17:25:21.294Z"
      },
      {
        "duration": 0,
        "start_time": "2022-12-03T17:25:21.296Z"
      },
      {
        "duration": 0,
        "start_time": "2022-12-03T17:25:21.297Z"
      },
      {
        "duration": 0,
        "start_time": "2022-12-03T17:25:21.299Z"
      },
      {
        "duration": 0,
        "start_time": "2022-12-03T17:25:21.300Z"
      },
      {
        "duration": 0,
        "start_time": "2022-12-03T17:25:21.302Z"
      },
      {
        "duration": 0,
        "start_time": "2022-12-03T17:25:21.303Z"
      },
      {
        "duration": 0,
        "start_time": "2022-12-03T17:25:21.305Z"
      },
      {
        "duration": 0,
        "start_time": "2022-12-03T17:25:21.306Z"
      },
      {
        "duration": 0,
        "start_time": "2022-12-03T17:25:21.307Z"
      },
      {
        "duration": 0,
        "start_time": "2022-12-03T17:25:21.309Z"
      },
      {
        "duration": 0,
        "start_time": "2022-12-03T17:25:21.310Z"
      },
      {
        "duration": 0,
        "start_time": "2022-12-03T17:25:21.312Z"
      },
      {
        "duration": 0,
        "start_time": "2022-12-03T17:25:21.313Z"
      },
      {
        "duration": 0,
        "start_time": "2022-12-03T17:25:21.315Z"
      },
      {
        "duration": 0,
        "start_time": "2022-12-03T17:25:21.316Z"
      },
      {
        "duration": 0,
        "start_time": "2022-12-03T17:25:21.322Z"
      },
      {
        "duration": 0,
        "start_time": "2022-12-03T17:25:21.324Z"
      },
      {
        "duration": 0,
        "start_time": "2022-12-03T17:25:21.325Z"
      },
      {
        "duration": 0,
        "start_time": "2022-12-03T17:25:21.326Z"
      },
      {
        "duration": 0,
        "start_time": "2022-12-03T17:25:21.328Z"
      },
      {
        "duration": 0,
        "start_time": "2022-12-03T17:25:21.328Z"
      },
      {
        "duration": 0,
        "start_time": "2022-12-03T17:25:21.330Z"
      },
      {
        "duration": 0,
        "start_time": "2022-12-03T17:25:21.331Z"
      },
      {
        "duration": 0,
        "start_time": "2022-12-03T17:25:21.333Z"
      },
      {
        "duration": 0,
        "start_time": "2022-12-03T17:25:21.334Z"
      },
      {
        "duration": 0,
        "start_time": "2022-12-03T17:25:21.335Z"
      },
      {
        "duration": 0,
        "start_time": "2022-12-03T17:25:21.337Z"
      },
      {
        "duration": 0,
        "start_time": "2022-12-03T17:25:21.397Z"
      },
      {
        "duration": 0,
        "start_time": "2022-12-03T17:25:21.399Z"
      },
      {
        "duration": 0,
        "start_time": "2022-12-03T17:25:21.400Z"
      },
      {
        "duration": 0,
        "start_time": "2022-12-03T17:25:21.401Z"
      },
      {
        "duration": 0,
        "start_time": "2022-12-03T17:25:21.402Z"
      },
      {
        "duration": 0,
        "start_time": "2022-12-03T17:25:21.403Z"
      },
      {
        "duration": 0,
        "start_time": "2022-12-03T17:25:21.404Z"
      },
      {
        "duration": 0,
        "start_time": "2022-12-03T17:25:21.405Z"
      },
      {
        "duration": 0,
        "start_time": "2022-12-03T17:25:21.406Z"
      },
      {
        "duration": 0,
        "start_time": "2022-12-03T17:25:21.407Z"
      },
      {
        "duration": 0,
        "start_time": "2022-12-03T17:25:21.408Z"
      },
      {
        "duration": 0,
        "start_time": "2022-12-03T17:25:21.409Z"
      },
      {
        "duration": 0,
        "start_time": "2022-12-03T17:25:21.410Z"
      },
      {
        "duration": 0,
        "start_time": "2022-12-03T17:25:21.411Z"
      },
      {
        "duration": 0,
        "start_time": "2022-12-03T17:25:21.412Z"
      },
      {
        "duration": 0,
        "start_time": "2022-12-03T17:25:21.413Z"
      },
      {
        "duration": 0,
        "start_time": "2022-12-03T17:25:21.414Z"
      },
      {
        "duration": 0,
        "start_time": "2022-12-03T17:25:21.416Z"
      },
      {
        "duration": 0,
        "start_time": "2022-12-03T17:25:21.417Z"
      },
      {
        "duration": 0,
        "start_time": "2022-12-03T17:25:21.418Z"
      },
      {
        "duration": 0,
        "start_time": "2022-12-03T17:25:21.419Z"
      },
      {
        "duration": 0,
        "start_time": "2022-12-03T17:25:21.420Z"
      },
      {
        "duration": 0,
        "start_time": "2022-12-03T17:25:21.421Z"
      },
      {
        "duration": 0,
        "start_time": "2022-12-03T17:25:21.422Z"
      },
      {
        "duration": 200,
        "start_time": "2022-12-03T17:25:21.425Z"
      },
      {
        "duration": 0,
        "start_time": "2022-12-03T17:25:21.627Z"
      },
      {
        "duration": 64,
        "start_time": "2022-12-03T17:25:55.300Z"
      },
      {
        "duration": 52,
        "start_time": "2022-12-03T17:25:55.366Z"
      },
      {
        "duration": 0,
        "start_time": "2022-12-03T17:25:55.419Z"
      },
      {
        "duration": 0,
        "start_time": "2022-12-03T17:25:55.421Z"
      },
      {
        "duration": 0,
        "start_time": "2022-12-03T17:25:55.422Z"
      },
      {
        "duration": 0,
        "start_time": "2022-12-03T17:25:55.423Z"
      },
      {
        "duration": 725,
        "start_time": "2022-12-03T17:25:55.425Z"
      },
      {
        "duration": 0,
        "start_time": "2022-12-03T17:25:56.154Z"
      },
      {
        "duration": 1,
        "start_time": "2022-12-03T17:25:56.155Z"
      },
      {
        "duration": 0,
        "start_time": "2022-12-03T17:25:56.158Z"
      },
      {
        "duration": 0,
        "start_time": "2022-12-03T17:25:56.159Z"
      },
      {
        "duration": 0,
        "start_time": "2022-12-03T17:25:56.161Z"
      },
      {
        "duration": 0,
        "start_time": "2022-12-03T17:25:56.162Z"
      },
      {
        "duration": 0,
        "start_time": "2022-12-03T17:25:56.163Z"
      },
      {
        "duration": 0,
        "start_time": "2022-12-03T17:25:56.164Z"
      },
      {
        "duration": 0,
        "start_time": "2022-12-03T17:25:56.166Z"
      },
      {
        "duration": 0,
        "start_time": "2022-12-03T17:25:56.167Z"
      },
      {
        "duration": 1,
        "start_time": "2022-12-03T17:25:56.168Z"
      },
      {
        "duration": 0,
        "start_time": "2022-12-03T17:25:56.170Z"
      },
      {
        "duration": 0,
        "start_time": "2022-12-03T17:25:56.171Z"
      },
      {
        "duration": 0,
        "start_time": "2022-12-03T17:25:56.173Z"
      },
      {
        "duration": 0,
        "start_time": "2022-12-03T17:25:56.174Z"
      },
      {
        "duration": 0,
        "start_time": "2022-12-03T17:25:56.175Z"
      },
      {
        "duration": 0,
        "start_time": "2022-12-03T17:25:56.177Z"
      },
      {
        "duration": 0,
        "start_time": "2022-12-03T17:25:56.179Z"
      },
      {
        "duration": 0,
        "start_time": "2022-12-03T17:25:56.180Z"
      },
      {
        "duration": 0,
        "start_time": "2022-12-03T17:25:56.182Z"
      },
      {
        "duration": 0,
        "start_time": "2022-12-03T17:25:56.183Z"
      },
      {
        "duration": 0,
        "start_time": "2022-12-03T17:25:56.185Z"
      },
      {
        "duration": 0,
        "start_time": "2022-12-03T17:25:56.186Z"
      },
      {
        "duration": 0,
        "start_time": "2022-12-03T17:25:56.188Z"
      },
      {
        "duration": 0,
        "start_time": "2022-12-03T17:25:56.197Z"
      },
      {
        "duration": 1,
        "start_time": "2022-12-03T17:25:56.198Z"
      },
      {
        "duration": 0,
        "start_time": "2022-12-03T17:25:56.201Z"
      },
      {
        "duration": 0,
        "start_time": "2022-12-03T17:25:56.201Z"
      },
      {
        "duration": 0,
        "start_time": "2022-12-03T17:25:56.203Z"
      },
      {
        "duration": 0,
        "start_time": "2022-12-03T17:25:56.204Z"
      },
      {
        "duration": 0,
        "start_time": "2022-12-03T17:25:56.205Z"
      },
      {
        "duration": 0,
        "start_time": "2022-12-03T17:25:56.207Z"
      },
      {
        "duration": 0,
        "start_time": "2022-12-03T17:25:56.209Z"
      },
      {
        "duration": 0,
        "start_time": "2022-12-03T17:25:56.209Z"
      },
      {
        "duration": 0,
        "start_time": "2022-12-03T17:25:56.211Z"
      },
      {
        "duration": 13,
        "start_time": "2022-12-03T17:25:56.215Z"
      },
      {
        "duration": 0,
        "start_time": "2022-12-03T17:25:56.230Z"
      },
      {
        "duration": 0,
        "start_time": "2022-12-03T17:25:56.231Z"
      },
      {
        "duration": 10,
        "start_time": "2022-12-03T17:25:56.301Z"
      },
      {
        "duration": 0,
        "start_time": "2022-12-03T17:25:56.313Z"
      },
      {
        "duration": 0,
        "start_time": "2022-12-03T17:25:56.314Z"
      },
      {
        "duration": 0,
        "start_time": "2022-12-03T17:25:56.315Z"
      },
      {
        "duration": 19,
        "start_time": "2022-12-03T17:25:56.319Z"
      },
      {
        "duration": 0,
        "start_time": "2022-12-03T17:25:56.339Z"
      },
      {
        "duration": 8,
        "start_time": "2022-12-03T17:25:56.355Z"
      },
      {
        "duration": 30,
        "start_time": "2022-12-03T17:25:56.371Z"
      },
      {
        "duration": 0,
        "start_time": "2022-12-03T17:25:56.403Z"
      },
      {
        "duration": 12,
        "start_time": "2022-12-03T17:25:56.405Z"
      },
      {
        "duration": 12,
        "start_time": "2022-12-03T17:25:56.432Z"
      },
      {
        "duration": 9,
        "start_time": "2022-12-03T17:25:56.463Z"
      },
      {
        "duration": 10,
        "start_time": "2022-12-03T17:25:56.493Z"
      },
      {
        "duration": 9,
        "start_time": "2022-12-03T17:25:56.526Z"
      },
      {
        "duration": 9,
        "start_time": "2022-12-03T17:25:56.553Z"
      },
      {
        "duration": 8,
        "start_time": "2022-12-03T17:25:56.580Z"
      },
      {
        "duration": 10,
        "start_time": "2022-12-03T17:25:56.620Z"
      },
      {
        "duration": 9,
        "start_time": "2022-12-03T17:25:56.654Z"
      },
      {
        "duration": 40,
        "start_time": "2022-12-03T17:26:49.434Z"
      },
      {
        "duration": 62,
        "start_time": "2022-12-03T17:27:21.956Z"
      },
      {
        "duration": 5,
        "start_time": "2022-12-03T17:27:22.407Z"
      },
      {
        "duration": 5,
        "start_time": "2022-12-03T17:27:22.438Z"
      },
      {
        "duration": 14,
        "start_time": "2022-12-03T17:27:22.461Z"
      },
      {
        "duration": 4,
        "start_time": "2022-12-03T17:27:22.494Z"
      },
      {
        "duration": 6,
        "start_time": "2022-12-03T17:27:22.516Z"
      },
      {
        "duration": 12,
        "start_time": "2022-12-03T17:27:22.543Z"
      },
      {
        "duration": 5,
        "start_time": "2022-12-03T17:27:22.561Z"
      },
      {
        "duration": 5,
        "start_time": "2022-12-03T17:27:22.586Z"
      },
      {
        "duration": 5,
        "start_time": "2022-12-03T17:27:22.612Z"
      },
      {
        "duration": 7,
        "start_time": "2022-12-03T17:27:22.636Z"
      },
      {
        "duration": 17,
        "start_time": "2022-12-03T17:27:22.671Z"
      },
      {
        "duration": 6,
        "start_time": "2022-12-03T17:27:22.695Z"
      },
      {
        "duration": 4,
        "start_time": "2022-12-03T17:27:22.717Z"
      },
      {
        "duration": 6,
        "start_time": "2022-12-03T17:27:22.744Z"
      },
      {
        "duration": 5,
        "start_time": "2022-12-03T17:27:22.795Z"
      },
      {
        "duration": 5,
        "start_time": "2022-12-03T17:27:22.825Z"
      },
      {
        "duration": 3,
        "start_time": "2022-12-03T17:27:22.844Z"
      },
      {
        "duration": 5,
        "start_time": "2022-12-03T17:27:22.873Z"
      },
      {
        "duration": 8,
        "start_time": "2022-12-03T17:27:22.894Z"
      },
      {
        "duration": 7,
        "start_time": "2022-12-03T17:27:22.918Z"
      },
      {
        "duration": 8,
        "start_time": "2022-12-03T17:27:22.937Z"
      },
      {
        "duration": 5,
        "start_time": "2022-12-03T17:27:22.968Z"
      },
      {
        "duration": 11,
        "start_time": "2022-12-03T17:27:22.996Z"
      },
      {
        "duration": 11,
        "start_time": "2022-12-03T17:27:23.009Z"
      },
      {
        "duration": 17,
        "start_time": "2022-12-03T17:27:23.044Z"
      },
      {
        "duration": 2910,
        "start_time": "2022-12-03T17:27:23.063Z"
      },
      {
        "duration": 29,
        "start_time": "2022-12-03T17:27:25.975Z"
      },
      {
        "duration": 8,
        "start_time": "2022-12-03T17:27:26.005Z"
      },
      {
        "duration": 435,
        "start_time": "2022-12-03T17:27:26.016Z"
      },
      {
        "duration": 25,
        "start_time": "2022-12-03T17:27:26.452Z"
      },
      {
        "duration": 395,
        "start_time": "2022-12-03T17:27:26.479Z"
      },
      {
        "duration": 0,
        "start_time": "2022-12-03T17:27:26.877Z"
      },
      {
        "duration": 0,
        "start_time": "2022-12-03T17:27:26.878Z"
      },
      {
        "duration": 0,
        "start_time": "2022-12-03T17:27:26.879Z"
      },
      {
        "duration": 0,
        "start_time": "2022-12-03T17:27:26.896Z"
      },
      {
        "duration": 0,
        "start_time": "2022-12-03T17:27:26.898Z"
      },
      {
        "duration": 0,
        "start_time": "2022-12-03T17:27:26.899Z"
      },
      {
        "duration": 0,
        "start_time": "2022-12-03T17:27:26.900Z"
      },
      {
        "duration": 0,
        "start_time": "2022-12-03T17:27:26.901Z"
      },
      {
        "duration": 0,
        "start_time": "2022-12-03T17:27:26.902Z"
      },
      {
        "duration": 0,
        "start_time": "2022-12-03T17:27:26.903Z"
      },
      {
        "duration": 0,
        "start_time": "2022-12-03T17:27:26.904Z"
      },
      {
        "duration": 0,
        "start_time": "2022-12-03T17:27:26.905Z"
      },
      {
        "duration": 0,
        "start_time": "2022-12-03T17:27:26.906Z"
      },
      {
        "duration": 0,
        "start_time": "2022-12-03T17:27:26.907Z"
      },
      {
        "duration": 0,
        "start_time": "2022-12-03T17:27:26.908Z"
      },
      {
        "duration": 0,
        "start_time": "2022-12-03T17:27:26.909Z"
      },
      {
        "duration": 0,
        "start_time": "2022-12-03T17:27:26.910Z"
      },
      {
        "duration": 0,
        "start_time": "2022-12-03T17:27:26.911Z"
      },
      {
        "duration": 0,
        "start_time": "2022-12-03T17:27:26.912Z"
      },
      {
        "duration": 0,
        "start_time": "2022-12-03T17:27:26.912Z"
      },
      {
        "duration": 0,
        "start_time": "2022-12-03T17:27:26.914Z"
      },
      {
        "duration": 0,
        "start_time": "2022-12-03T17:27:26.914Z"
      },
      {
        "duration": 0,
        "start_time": "2022-12-03T17:27:26.916Z"
      },
      {
        "duration": 0,
        "start_time": "2022-12-03T17:27:26.916Z"
      },
      {
        "duration": 0,
        "start_time": "2022-12-03T17:27:26.917Z"
      },
      {
        "duration": 0,
        "start_time": "2022-12-03T17:27:26.918Z"
      },
      {
        "duration": 0,
        "start_time": "2022-12-03T17:27:26.919Z"
      },
      {
        "duration": 0,
        "start_time": "2022-12-03T17:27:26.920Z"
      },
      {
        "duration": 0,
        "start_time": "2022-12-03T17:27:26.922Z"
      },
      {
        "duration": 0,
        "start_time": "2022-12-03T17:27:26.922Z"
      },
      {
        "duration": 237,
        "start_time": "2022-12-03T17:28:31.949Z"
      },
      {
        "duration": 256,
        "start_time": "2022-12-03T17:28:43.504Z"
      },
      {
        "duration": 250,
        "start_time": "2022-12-03T17:28:53.433Z"
      },
      {
        "duration": 232,
        "start_time": "2022-12-03T17:29:10.691Z"
      },
      {
        "duration": 132,
        "start_time": "2022-12-03T17:29:30.638Z"
      },
      {
        "duration": 223,
        "start_time": "2022-12-03T17:29:37.175Z"
      },
      {
        "duration": 38,
        "start_time": "2022-12-03T17:29:49.521Z"
      },
      {
        "duration": 57,
        "start_time": "2022-12-03T17:29:54.576Z"
      },
      {
        "duration": 5,
        "start_time": "2022-12-03T17:29:54.634Z"
      },
      {
        "duration": 6,
        "start_time": "2022-12-03T17:29:54.647Z"
      },
      {
        "duration": 10,
        "start_time": "2022-12-03T17:29:54.675Z"
      },
      {
        "duration": 3,
        "start_time": "2022-12-03T17:29:54.707Z"
      },
      {
        "duration": 6,
        "start_time": "2022-12-03T17:29:54.724Z"
      },
      {
        "duration": 11,
        "start_time": "2022-12-03T17:29:54.747Z"
      },
      {
        "duration": 5,
        "start_time": "2022-12-03T17:29:54.764Z"
      },
      {
        "duration": 4,
        "start_time": "2022-12-03T17:29:54.781Z"
      },
      {
        "duration": 5,
        "start_time": "2022-12-03T17:29:54.805Z"
      },
      {
        "duration": 7,
        "start_time": "2022-12-03T17:29:54.826Z"
      },
      {
        "duration": 10,
        "start_time": "2022-12-03T17:29:54.850Z"
      },
      {
        "duration": 5,
        "start_time": "2022-12-03T17:29:54.870Z"
      },
      {
        "duration": 4,
        "start_time": "2022-12-03T17:29:54.889Z"
      },
      {
        "duration": 5,
        "start_time": "2022-12-03T17:29:54.909Z"
      },
      {
        "duration": 5,
        "start_time": "2022-12-03T17:29:54.923Z"
      },
      {
        "duration": 6,
        "start_time": "2022-12-03T17:29:54.962Z"
      },
      {
        "duration": 3,
        "start_time": "2022-12-03T17:29:54.979Z"
      },
      {
        "duration": 5,
        "start_time": "2022-12-03T17:29:54.999Z"
      },
      {
        "duration": 7,
        "start_time": "2022-12-03T17:29:55.015Z"
      },
      {
        "duration": 5,
        "start_time": "2022-12-03T17:29:55.032Z"
      },
      {
        "duration": 8,
        "start_time": "2022-12-03T17:29:55.051Z"
      },
      {
        "duration": 5,
        "start_time": "2022-12-03T17:29:55.074Z"
      },
      {
        "duration": 11,
        "start_time": "2022-12-03T17:29:55.091Z"
      },
      {
        "duration": 10,
        "start_time": "2022-12-03T17:29:55.109Z"
      },
      {
        "duration": 16,
        "start_time": "2022-12-03T17:29:55.140Z"
      },
      {
        "duration": 2845,
        "start_time": "2022-12-03T17:29:55.162Z"
      },
      {
        "duration": 19,
        "start_time": "2022-12-03T17:29:58.010Z"
      },
      {
        "duration": 5,
        "start_time": "2022-12-03T17:29:58.030Z"
      },
      {
        "duration": 372,
        "start_time": "2022-12-03T17:29:58.037Z"
      },
      {
        "duration": 22,
        "start_time": "2022-12-03T17:29:58.411Z"
      },
      {
        "duration": 234,
        "start_time": "2022-12-03T17:29:58.435Z"
      },
      {
        "duration": 289,
        "start_time": "2022-12-03T17:29:58.671Z"
      },
      {
        "duration": 47,
        "start_time": "2022-12-03T17:29:58.961Z"
      },
      {
        "duration": 184,
        "start_time": "2022-12-03T17:29:59.010Z"
      },
      {
        "duration": 11,
        "start_time": "2022-12-03T17:29:59.196Z"
      },
      {
        "duration": 189,
        "start_time": "2022-12-03T17:29:59.209Z"
      },
      {
        "duration": 11,
        "start_time": "2022-12-03T17:29:59.400Z"
      },
      {
        "duration": 185,
        "start_time": "2022-12-03T17:29:59.413Z"
      },
      {
        "duration": 11,
        "start_time": "2022-12-03T17:29:59.600Z"
      },
      {
        "duration": 176,
        "start_time": "2022-12-03T17:29:59.613Z"
      },
      {
        "duration": 12,
        "start_time": "2022-12-03T17:29:59.791Z"
      },
      {
        "duration": 9,
        "start_time": "2022-12-03T17:29:59.805Z"
      },
      {
        "duration": 14,
        "start_time": "2022-12-03T17:29:59.815Z"
      },
      {
        "duration": 16,
        "start_time": "2022-12-03T17:29:59.830Z"
      },
      {
        "duration": 12,
        "start_time": "2022-12-03T17:29:59.847Z"
      },
      {
        "duration": 244,
        "start_time": "2022-12-03T17:29:59.861Z"
      },
      {
        "duration": 16,
        "start_time": "2022-12-03T17:30:00.107Z"
      },
      {
        "duration": 9,
        "start_time": "2022-12-03T17:30:00.125Z"
      },
      {
        "duration": 268,
        "start_time": "2022-12-03T17:30:00.136Z"
      },
      {
        "duration": 12,
        "start_time": "2022-12-03T17:30:00.406Z"
      },
      {
        "duration": 16,
        "start_time": "2022-12-03T17:30:00.420Z"
      },
      {
        "duration": 236,
        "start_time": "2022-12-03T17:30:00.437Z"
      },
      {
        "duration": 190,
        "start_time": "2022-12-03T17:30:00.676Z"
      },
      {
        "duration": 16,
        "start_time": "2022-12-03T17:30:00.867Z"
      },
      {
        "duration": 54,
        "start_time": "2022-12-03T17:30:00.885Z"
      },
      {
        "duration": 51,
        "start_time": "2022-12-03T17:30:00.941Z"
      },
      {
        "duration": 39,
        "start_time": "2022-12-03T17:30:00.993Z"
      },
      {
        "duration": 71,
        "start_time": "2022-12-03T17:30:01.034Z"
      },
      {
        "duration": 32,
        "start_time": "2022-12-03T17:30:01.107Z"
      },
      {
        "duration": 29,
        "start_time": "2022-12-03T17:30:01.140Z"
      },
      {
        "duration": 37,
        "start_time": "2022-12-03T17:30:01.171Z"
      },
      {
        "duration": 206,
        "start_time": "2022-12-03T17:35:51.414Z"
      },
      {
        "duration": 50,
        "start_time": "2022-12-03T17:38:16.450Z"
      },
      {
        "duration": 206,
        "start_time": "2022-12-03T17:38:23.749Z"
      },
      {
        "duration": 49,
        "start_time": "2022-12-03T17:40:20.704Z"
      },
      {
        "duration": 13,
        "start_time": "2022-12-03T17:40:27.314Z"
      },
      {
        "duration": 17,
        "start_time": "2022-12-03T17:41:22.317Z"
      },
      {
        "duration": 12,
        "start_time": "2022-12-03T17:42:21.224Z"
      },
      {
        "duration": 14,
        "start_time": "2022-12-03T17:45:16.976Z"
      },
      {
        "duration": 6,
        "start_time": "2022-12-03T17:45:23.804Z"
      },
      {
        "duration": 297,
        "start_time": "2022-12-03T17:45:34.040Z"
      },
      {
        "duration": 7,
        "start_time": "2022-12-03T17:45:41.613Z"
      },
      {
        "duration": 208,
        "start_time": "2022-12-03T17:45:46.938Z"
      },
      {
        "duration": 13,
        "start_time": "2022-12-03T17:45:54.538Z"
      },
      {
        "duration": 13,
        "start_time": "2022-12-03T17:46:35.642Z"
      },
      {
        "duration": 6,
        "start_time": "2022-12-03T17:46:41.149Z"
      },
      {
        "duration": 214,
        "start_time": "2022-12-03T17:46:47.444Z"
      },
      {
        "duration": 11,
        "start_time": "2022-12-03T17:48:36.438Z"
      },
      {
        "duration": 10,
        "start_time": "2022-12-03T17:48:51.468Z"
      },
      {
        "duration": 52,
        "start_time": "2022-12-03T17:49:35.833Z"
      },
      {
        "duration": 10,
        "start_time": "2022-12-03T17:49:41.014Z"
      },
      {
        "duration": 12,
        "start_time": "2022-12-03T17:50:24.771Z"
      },
      {
        "duration": 11,
        "start_time": "2022-12-03T17:51:02.150Z"
      },
      {
        "duration": 43,
        "start_time": "2022-12-03T17:51:31.996Z"
      },
      {
        "duration": 11,
        "start_time": "2022-12-03T17:51:36.770Z"
      },
      {
        "duration": 11,
        "start_time": "2022-12-03T17:52:06.547Z"
      },
      {
        "duration": 11,
        "start_time": "2022-12-03T17:55:52.069Z"
      },
      {
        "duration": 11,
        "start_time": "2022-12-03T17:56:18.255Z"
      },
      {
        "duration": 12,
        "start_time": "2022-12-03T17:56:31.227Z"
      },
      {
        "duration": 8,
        "start_time": "2022-12-03T17:57:08.641Z"
      },
      {
        "duration": 235,
        "start_time": "2022-12-03T17:57:11.627Z"
      },
      {
        "duration": 1589,
        "start_time": "2022-12-04T16:44:52.131Z"
      },
      {
        "duration": 5,
        "start_time": "2022-12-04T16:44:53.722Z"
      },
      {
        "duration": 14,
        "start_time": "2022-12-04T16:44:53.729Z"
      },
      {
        "duration": 17,
        "start_time": "2022-12-04T16:44:53.746Z"
      },
      {
        "duration": 14,
        "start_time": "2022-12-04T16:44:53.765Z"
      },
      {
        "duration": 13,
        "start_time": "2022-12-04T16:44:53.781Z"
      },
      {
        "duration": 13,
        "start_time": "2022-12-04T16:44:53.796Z"
      },
      {
        "duration": 5,
        "start_time": "2022-12-04T16:44:53.811Z"
      },
      {
        "duration": 20,
        "start_time": "2022-12-04T16:44:53.818Z"
      },
      {
        "duration": 6,
        "start_time": "2022-12-04T16:44:53.841Z"
      },
      {
        "duration": 10,
        "start_time": "2022-12-04T16:44:53.848Z"
      },
      {
        "duration": 13,
        "start_time": "2022-12-04T16:44:53.859Z"
      },
      {
        "duration": 7,
        "start_time": "2022-12-04T16:44:53.874Z"
      },
      {
        "duration": 19,
        "start_time": "2022-12-04T16:44:53.882Z"
      },
      {
        "duration": 6,
        "start_time": "2022-12-04T16:44:53.937Z"
      },
      {
        "duration": 8,
        "start_time": "2022-12-04T16:44:53.945Z"
      },
      {
        "duration": 5,
        "start_time": "2022-12-04T16:44:53.955Z"
      },
      {
        "duration": 4,
        "start_time": "2022-12-04T16:44:53.962Z"
      },
      {
        "duration": 7,
        "start_time": "2022-12-04T16:44:53.968Z"
      },
      {
        "duration": 10,
        "start_time": "2022-12-04T16:44:53.977Z"
      },
      {
        "duration": 6,
        "start_time": "2022-12-04T16:44:53.988Z"
      },
      {
        "duration": 48,
        "start_time": "2022-12-04T16:44:53.995Z"
      },
      {
        "duration": 5,
        "start_time": "2022-12-04T16:44:54.045Z"
      },
      {
        "duration": 13,
        "start_time": "2022-12-04T16:44:54.052Z"
      },
      {
        "duration": 10,
        "start_time": "2022-12-04T16:44:54.066Z"
      },
      {
        "duration": 17,
        "start_time": "2022-12-04T16:44:54.078Z"
      },
      {
        "duration": 2986,
        "start_time": "2022-12-04T16:44:54.097Z"
      },
      {
        "duration": 22,
        "start_time": "2022-12-04T16:44:57.087Z"
      },
      {
        "duration": 6,
        "start_time": "2022-12-04T16:44:57.111Z"
      },
      {
        "duration": 393,
        "start_time": "2022-12-04T16:44:57.138Z"
      },
      {
        "duration": 19,
        "start_time": "2022-12-04T16:44:57.537Z"
      },
      {
        "duration": 405,
        "start_time": "2022-12-04T16:44:57.558Z"
      },
      {
        "duration": 157,
        "start_time": "2022-12-04T16:44:57.965Z"
      },
      {
        "duration": 46,
        "start_time": "2022-12-04T16:44:58.124Z"
      },
      {
        "duration": 206,
        "start_time": "2022-12-04T16:44:58.171Z"
      },
      {
        "duration": 13,
        "start_time": "2022-12-04T16:44:58.379Z"
      },
      {
        "duration": 201,
        "start_time": "2022-12-04T16:44:58.394Z"
      },
      {
        "duration": 12,
        "start_time": "2022-12-04T16:44:58.597Z"
      },
      {
        "duration": 207,
        "start_time": "2022-12-04T16:44:58.610Z"
      },
      {
        "duration": 25,
        "start_time": "2022-12-04T16:44:58.819Z"
      },
      {
        "duration": 266,
        "start_time": "2022-12-04T16:44:58.846Z"
      },
      {
        "duration": 12,
        "start_time": "2022-12-04T16:44:59.114Z"
      },
      {
        "duration": 16,
        "start_time": "2022-12-04T16:44:59.138Z"
      },
      {
        "duration": 16,
        "start_time": "2022-12-04T16:44:59.156Z"
      },
      {
        "duration": 12,
        "start_time": "2022-12-04T16:44:59.173Z"
      },
      {
        "duration": 7,
        "start_time": "2022-12-04T16:44:59.186Z"
      },
      {
        "duration": 218,
        "start_time": "2022-12-04T16:44:59.194Z"
      },
      {
        "duration": 11,
        "start_time": "2022-12-04T16:44:59.414Z"
      },
      {
        "duration": 12,
        "start_time": "2022-12-04T16:44:59.427Z"
      },
      {
        "duration": 225,
        "start_time": "2022-12-04T16:44:59.441Z"
      },
      {
        "duration": 10,
        "start_time": "2022-12-04T16:44:59.668Z"
      },
      {
        "duration": 8,
        "start_time": "2022-12-04T16:44:59.679Z"
      },
      {
        "duration": 244,
        "start_time": "2022-12-04T16:44:59.689Z"
      },
      {
        "duration": 11,
        "start_time": "2022-12-04T16:44:59.937Z"
      },
      {
        "duration": 12,
        "start_time": "2022-12-04T16:44:59.949Z"
      },
      {
        "duration": 9,
        "start_time": "2022-12-04T16:44:59.963Z"
      },
      {
        "duration": 10,
        "start_time": "2022-12-04T16:44:59.974Z"
      },
      {
        "duration": 10,
        "start_time": "2022-12-04T16:44:59.986Z"
      },
      {
        "duration": 52,
        "start_time": "2022-12-04T16:44:59.997Z"
      },
      {
        "duration": 13,
        "start_time": "2022-12-04T16:45:00.050Z"
      },
      {
        "duration": 9,
        "start_time": "2022-12-04T16:45:00.065Z"
      },
      {
        "duration": 237,
        "start_time": "2022-12-04T16:45:23.663Z"
      },
      {
        "duration": 246,
        "start_time": "2022-12-04T16:46:29.228Z"
      },
      {
        "duration": 333,
        "start_time": "2022-12-04T16:48:25.591Z"
      },
      {
        "duration": 231,
        "start_time": "2022-12-04T16:55:52.632Z"
      },
      {
        "duration": 153,
        "start_time": "2022-12-04T17:53:52.663Z"
      },
      {
        "duration": 41,
        "start_time": "2022-12-04T17:54:39.772Z"
      },
      {
        "duration": 213,
        "start_time": "2022-12-04T18:03:14.189Z"
      },
      {
        "duration": 10,
        "start_time": "2022-12-04T18:05:57.809Z"
      },
      {
        "duration": 120,
        "start_time": "2022-12-04T18:06:36.262Z"
      },
      {
        "duration": 243,
        "start_time": "2022-12-04T18:06:51.540Z"
      },
      {
        "duration": 150,
        "start_time": "2022-12-04T18:08:20.366Z"
      },
      {
        "duration": 149,
        "start_time": "2022-12-04T18:09:20.384Z"
      },
      {
        "duration": 37,
        "start_time": "2022-12-04T18:09:55.473Z"
      },
      {
        "duration": 314,
        "start_time": "2022-12-04T18:16:02.549Z"
      },
      {
        "duration": 229,
        "start_time": "2022-12-04T18:16:17.146Z"
      },
      {
        "duration": 242,
        "start_time": "2022-12-04T18:18:23.407Z"
      },
      {
        "duration": 234,
        "start_time": "2022-12-04T18:18:43.524Z"
      },
      {
        "duration": 274,
        "start_time": "2022-12-04T18:19:23.629Z"
      },
      {
        "duration": 161,
        "start_time": "2022-12-04T18:21:49.416Z"
      },
      {
        "duration": 272,
        "start_time": "2022-12-04T18:22:18.267Z"
      },
      {
        "duration": 110,
        "start_time": "2022-12-05T10:21:57.586Z"
      }
    ],
    "kernelspec": {
      "display_name": "Python 3 (ipykernel)",
      "language": "python",
      "name": "python3"
    },
    "language_info": {
      "codemirror_mode": {
        "name": "ipython",
        "version": 3
      },
      "file_extension": ".py",
      "mimetype": "text/x-python",
      "name": "python",
      "nbconvert_exporter": "python",
      "pygments_lexer": "ipython3",
      "version": "3.9.5"
    },
    "toc": {
      "base_numbering": 1,
      "nav_menu": {},
      "number_sections": true,
      "sideBar": true,
      "skip_h1_title": true,
      "title_cell": "Table of Contents",
      "title_sidebar": "Contents",
      "toc_cell": false,
      "toc_position": {},
      "toc_section_display": true,
      "toc_window_display": false
    },
    "colab": {
      "provenance": []
    }
  },
  "nbformat": 4,
  "nbformat_minor": 0
}