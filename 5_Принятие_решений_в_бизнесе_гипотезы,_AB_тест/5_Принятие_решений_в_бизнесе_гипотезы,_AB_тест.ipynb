{
  "cells": [
    {
      "cell_type": "markdown",
      "source": [],
      "metadata": {
        "id": "SfVsy2QZ1pkX"
      }
    },
    {
      "cell_type": "markdown",
      "metadata": {
        "id": "o_YgWPiB1QwX"
      },
      "source": [
        "# Принятие решений в бизнесе\n",
        "# Описание проекта\n",
        "\n",
        "Вы — аналитик крупного интернет-магазина. Вместе с отделом маркетинга вы подготовили список гипотез для увеличения выручки.\n",
        "Приоритизируем гипотезы, запустим A/B-тест и проанализируем результаты.\n",
        "\n",
        "Данные для первой части\n",
        "Файл /datasets/hypothesis.csv. \n",
        "\n",
        "    Hypothesis — краткое описание гипотезы;\n",
        "    Reach — охват пользователей по 10-балльной шкале;\n",
        "    Impact — влияние на пользователей по 10-балльной шкале;\n",
        "    Confidence — уверенность в гипотезе по 10-балльной шкале;\n",
        "    Efforts — затраты ресурсов на проверку гипотезы по 10-балльной шкале. Чем больше значение Efforts, тем дороже проверка гипотезы.\n",
        "\n",
        "Данные для второй части\n",
        "Файл /datasets/orders.csv. \n",
        "\n",
        "    transactionId — идентификатор заказа;\n",
        "    visitorId — идентификатор пользователя, совершившего заказ;\n",
        "    date — дата, когда был совершён заказ;\n",
        "    revenue — выручка заказа;\n",
        "    group — группа A/B-теста, в которую попал заказ.\n",
        "\n",
        "Файл /datasets/visitors.csv.\n",
        "\n",
        "    date — дата;\n",
        "    group — группа A/B-теста;\n",
        "    visitors — количество пользователей в указанную дату в указанной группе A/B-теста\n",
        "    \n",
        "### задачи проекта:     \n",
        "Часть 1. Приоритизация гипотез.\n",
        "\n",
        "В файле /datasets/hypothesis.csv 9 гипотез по увеличению выручки интернет-магазина с указанными параметрами Reach, Impact, Confidence, Effort.\n",
        "\n",
        "Задача\n",
        "  - Примените фреймворк ICE для приоритизации гипотез. Отсортируйте их по убыванию приоритета.\n",
        "  - Примените фреймворк RICE для приоритизации гипотез. Отсортируйте их по убыванию приоритета.\n",
        "  - Укажите, как изменилась приоритизация гипотез при применении RICE вместо ICE. Объясните, почему так произошло.\n",
        "    \n",
        "Часть 2. Анализ A/B-теста\n",
        "\n",
        "Вы провели A/B-тест и получили результаты, которые описаны в файлах /datasets/orders.csv и /datasets/visitors.csv.\n",
        "\n",
        "Задача\n",
        "Проанализируйте A/B-тест:\n",
        "\n",
        "    1. Постройте график кумулятивной выручки по группам. Сделайте выводы и предположения.\n",
        "    2. Постройте график кумулятивного среднего чека по группам. Сделайте выводы и предположения.\n",
        "    3. Постройте график относительного изменения кумулятивного среднего чека группы B к группе A. Сделайте выводы и предположения.\n",
        "    4. Постройте график кумулятивного среднего количества заказов на посетителя по группам. Сделайте выводы и предположения.\n",
        "    5. Постройте график относительного изменения кумулятивного среднего количества заказов на посетителя группы B к группе A. Сделайте выводы и предположения.\n",
        "    6. Постройте точечный график количества заказов по пользователям. Сделайте выводы и предположения.\n",
        "    7. Посчитайте 95-й и 99-й перцентили количества заказов на пользователя. Выберите границу для определения аномальных пользователей.\n",
        "    8. Постройте точечный график стоимостей заказов. Сделайте выводы и предположения.\n",
        "    9. Посчитайте 95-й и 99-й перцентили стоимости заказов. Выберите границу для определения аномальных заказов.\n",
        "    10. Посчитайте статистическую значимость различий в среднем количестве заказов на посетителя между группами по «сырым» данным. Сделайте выводы и предположения.\n",
        "    11. Посчитайте статистическую значимость различий в среднем чеке заказа между группами по «сырым» данным. Сделайте выводы и предположения.\n",
        "    12. Посчитайте статистическую значимость различий в среднем количестве заказов на посетителя между группами по «очищенным» данным. Сделайте выводы и предположения.\n",
        "    13. Посчитайте статистическую значимость различий в среднем чеке заказа между группами по «очищенным» данным. Сделайте выводы и предположения.\n",
        "    14. Примите решение по результатам теста и объясните его. Варианты решений: 1. Остановить тест, зафиксировать победу одной из групп. 2. Остановить тест, зафиксировать отсутствие различий между группами. 3. Продолжить тест.\n",
        "\n",
        "### Загрузим данные и подготовим их к анализу"
      ]
    },
    {
      "cell_type": "code",
      "execution_count": null,
      "metadata": {
        "id": "T9t12Oe91QxU"
      },
      "outputs": [],
      "source": [
        "#импортируем библиотеки\n",
        "import pandas as pd\n",
        "import scipy.stats as stats\n",
        "import datetime as dt\n",
        "import numpy as np\n",
        "import matplotlib.pyplot as plt"
      ]
    },
    {
      "cell_type": "code",
      "execution_count": null,
      "metadata": {
        "id": "FVgad3zx1Qxe",
        "outputId": "2de045b3-8f28-4939-d55f-40e00da8e55b"
      },
      "outputs": [
        {
          "data": {
            "text/html": [
              "<div>\n",
              "<style scoped>\n",
              "    .dataframe tbody tr th:only-of-type {\n",
              "        vertical-align: middle;\n",
              "    }\n",
              "\n",
              "    .dataframe tbody tr th {\n",
              "        vertical-align: top;\n",
              "    }\n",
              "\n",
              "    .dataframe thead th {\n",
              "        text-align: right;\n",
              "    }\n",
              "</style>\n",
              "<table border=\"1\" class=\"dataframe\">\n",
              "  <thead>\n",
              "    <tr style=\"text-align: right;\">\n",
              "      <th></th>\n",
              "      <th>date</th>\n",
              "      <th>group</th>\n",
              "      <th>visitors</th>\n",
              "    </tr>\n",
              "  </thead>\n",
              "  <tbody>\n",
              "    <tr>\n",
              "      <th>0</th>\n",
              "      <td>2019-08-01</td>\n",
              "      <td>A</td>\n",
              "      <td>719</td>\n",
              "    </tr>\n",
              "    <tr>\n",
              "      <th>1</th>\n",
              "      <td>2019-08-02</td>\n",
              "      <td>A</td>\n",
              "      <td>619</td>\n",
              "    </tr>\n",
              "    <tr>\n",
              "      <th>2</th>\n",
              "      <td>2019-08-03</td>\n",
              "      <td>A</td>\n",
              "      <td>507</td>\n",
              "    </tr>\n",
              "    <tr>\n",
              "      <th>3</th>\n",
              "      <td>2019-08-04</td>\n",
              "      <td>A</td>\n",
              "      <td>717</td>\n",
              "    </tr>\n",
              "    <tr>\n",
              "      <th>4</th>\n",
              "      <td>2019-08-05</td>\n",
              "      <td>A</td>\n",
              "      <td>756</td>\n",
              "    </tr>\n",
              "  </tbody>\n",
              "</table>\n",
              "</div>"
            ],
            "text/plain": [
              "        date group  visitors\n",
              "0 2019-08-01     A       719\n",
              "1 2019-08-02     A       619\n",
              "2 2019-08-03     A       507\n",
              "3 2019-08-04     A       717\n",
              "4 2019-08-05     A       756"
            ]
          },
          "execution_count": 3,
          "metadata": {},
          "output_type": "execute_result"
        }
      ],
      "source": [
        "#откроем таблицу\n",
        "visitors = pd.read_csv(\n",
        "    '/datasets/visitors.csv', sep=','\n",
        ")\n",
        "visitors['date'] = visitors['date'].map(\n",
        "    lambda x: dt.datetime.strptime(x, '%Y-%m-%d')\n",
        ")\n",
        "visitors.head()"
      ]
    },
    {
      "cell_type": "code",
      "execution_count": null,
      "metadata": {
        "scrolled": true,
        "id": "gEAMo7Tm1Qxm",
        "outputId": "3a6ca116-1bee-4f80-8947-f6005d49f9d2"
      },
      "outputs": [
        {
          "data": {
            "text/html": [
              "<div>\n",
              "<style scoped>\n",
              "    .dataframe tbody tr th:only-of-type {\n",
              "        vertical-align: middle;\n",
              "    }\n",
              "\n",
              "    .dataframe tbody tr th {\n",
              "        vertical-align: top;\n",
              "    }\n",
              "\n",
              "    .dataframe thead th {\n",
              "        text-align: right;\n",
              "    }\n",
              "</style>\n",
              "<table border=\"1\" class=\"dataframe\">\n",
              "  <thead>\n",
              "    <tr style=\"text-align: right;\">\n",
              "      <th></th>\n",
              "      <th>transactionId</th>\n",
              "      <th>visitorId</th>\n",
              "      <th>date</th>\n",
              "      <th>revenue</th>\n",
              "      <th>group</th>\n",
              "    </tr>\n",
              "  </thead>\n",
              "  <tbody>\n",
              "    <tr>\n",
              "      <th>0</th>\n",
              "      <td>3667963787</td>\n",
              "      <td>3312258926</td>\n",
              "      <td>2019-08-15</td>\n",
              "      <td>1650</td>\n",
              "      <td>B</td>\n",
              "    </tr>\n",
              "    <tr>\n",
              "      <th>1</th>\n",
              "      <td>2804400009</td>\n",
              "      <td>3642806036</td>\n",
              "      <td>2019-08-15</td>\n",
              "      <td>730</td>\n",
              "      <td>B</td>\n",
              "    </tr>\n",
              "    <tr>\n",
              "      <th>2</th>\n",
              "      <td>2961555356</td>\n",
              "      <td>4069496402</td>\n",
              "      <td>2019-08-15</td>\n",
              "      <td>400</td>\n",
              "      <td>A</td>\n",
              "    </tr>\n",
              "    <tr>\n",
              "      <th>3</th>\n",
              "      <td>3797467345</td>\n",
              "      <td>1196621759</td>\n",
              "      <td>2019-08-15</td>\n",
              "      <td>9759</td>\n",
              "      <td>B</td>\n",
              "    </tr>\n",
              "    <tr>\n",
              "      <th>4</th>\n",
              "      <td>2282983706</td>\n",
              "      <td>2322279887</td>\n",
              "      <td>2019-08-15</td>\n",
              "      <td>2308</td>\n",
              "      <td>B</td>\n",
              "    </tr>\n",
              "  </tbody>\n",
              "</table>\n",
              "</div>"
            ],
            "text/plain": [
              "   transactionId   visitorId       date  revenue group\n",
              "0     3667963787  3312258926 2019-08-15     1650     B\n",
              "1     2804400009  3642806036 2019-08-15      730     B\n",
              "2     2961555356  4069496402 2019-08-15      400     A\n",
              "3     3797467345  1196621759 2019-08-15     9759     B\n",
              "4     2282983706  2322279887 2019-08-15     2308     B"
            ]
          },
          "execution_count": 4,
          "metadata": {},
          "output_type": "execute_result"
        }
      ],
      "source": [
        "#откроем таблицу\n",
        "orders = pd.read_csv('/datasets/orders.csv', sep=',')\n",
        "orders['date'] = orders['date'].map(\n",
        "    lambda x: dt.datetime.strptime(x, '%Y-%m-%d')\n",
        ")\n",
        "orders.head()"
      ]
    },
    {
      "cell_type": "code",
      "execution_count": null,
      "metadata": {
        "id": "XuTz59c11Qxz",
        "outputId": "c591c9b4-5c74-4375-ace5-dbf20f6c8dc0"
      },
      "outputs": [
        {
          "data": {
            "text/html": [
              "<div>\n",
              "<style scoped>\n",
              "    .dataframe tbody tr th:only-of-type {\n",
              "        vertical-align: middle;\n",
              "    }\n",
              "\n",
              "    .dataframe tbody tr th {\n",
              "        vertical-align: top;\n",
              "    }\n",
              "\n",
              "    .dataframe thead th {\n",
              "        text-align: right;\n",
              "    }\n",
              "</style>\n",
              "<table border=\"1\" class=\"dataframe\">\n",
              "  <thead>\n",
              "    <tr style=\"text-align: right;\">\n",
              "      <th></th>\n",
              "      <th>Hypothesis</th>\n",
              "      <th>Reach</th>\n",
              "      <th>Impact</th>\n",
              "      <th>Confidence</th>\n",
              "      <th>Efforts</th>\n",
              "    </tr>\n",
              "  </thead>\n",
              "  <tbody>\n",
              "    <tr>\n",
              "      <th>0</th>\n",
              "      <td>Добавить два новых канала привлечения трафика, что позволит привлекать на 30% больше пользователей</td>\n",
              "      <td>3</td>\n",
              "      <td>10</td>\n",
              "      <td>8</td>\n",
              "      <td>6</td>\n",
              "    </tr>\n",
              "    <tr>\n",
              "      <th>1</th>\n",
              "      <td>Запустить собственную службу доставки, что сократит срок доставки заказов</td>\n",
              "      <td>2</td>\n",
              "      <td>5</td>\n",
              "      <td>4</td>\n",
              "      <td>10</td>\n",
              "    </tr>\n",
              "    <tr>\n",
              "      <th>2</th>\n",
              "      <td>Добавить блоки рекомендаций товаров на сайт интернет магазина, чтобы повысить конверсию и средний чек заказа</td>\n",
              "      <td>8</td>\n",
              "      <td>3</td>\n",
              "      <td>7</td>\n",
              "      <td>3</td>\n",
              "    </tr>\n",
              "    <tr>\n",
              "      <th>3</th>\n",
              "      <td>Изменить структура категорий, что увеличит конверсию, т.к. пользователи быстрее найдут нужный товар</td>\n",
              "      <td>8</td>\n",
              "      <td>3</td>\n",
              "      <td>3</td>\n",
              "      <td>8</td>\n",
              "    </tr>\n",
              "    <tr>\n",
              "      <th>4</th>\n",
              "      <td>Изменить цвет фона главной страницы, чтобы увеличить вовлеченность пользователей</td>\n",
              "      <td>3</td>\n",
              "      <td>1</td>\n",
              "      <td>1</td>\n",
              "      <td>1</td>\n",
              "    </tr>\n",
              "    <tr>\n",
              "      <th>5</th>\n",
              "      <td>Добавить страницу отзывов клиентов о магазине, что позволит увеличить количество заказов</td>\n",
              "      <td>3</td>\n",
              "      <td>2</td>\n",
              "      <td>2</td>\n",
              "      <td>3</td>\n",
              "    </tr>\n",
              "    <tr>\n",
              "      <th>6</th>\n",
              "      <td>Показать на главной странице баннеры с актуальными акциями и распродажами, чтобы увеличить конверсию</td>\n",
              "      <td>5</td>\n",
              "      <td>3</td>\n",
              "      <td>8</td>\n",
              "      <td>3</td>\n",
              "    </tr>\n",
              "    <tr>\n",
              "      <th>7</th>\n",
              "      <td>Добавить форму подписки на все основные страницы, чтобы собрать базу клиентов для email-рассылок</td>\n",
              "      <td>10</td>\n",
              "      <td>7</td>\n",
              "      <td>8</td>\n",
              "      <td>5</td>\n",
              "    </tr>\n",
              "    <tr>\n",
              "      <th>8</th>\n",
              "      <td>Запустить акцию, дающую скидку на товар в день рождения</td>\n",
              "      <td>1</td>\n",
              "      <td>9</td>\n",
              "      <td>9</td>\n",
              "      <td>5</td>\n",
              "    </tr>\n",
              "  </tbody>\n",
              "</table>\n",
              "</div>"
            ],
            "text/plain": [
              "                                                                                                     Hypothesis  \\\n",
              "0            Добавить два новых канала привлечения трафика, что позволит привлекать на 30% больше пользователей   \n",
              "1                                     Запустить собственную службу доставки, что сократит срок доставки заказов   \n",
              "2  Добавить блоки рекомендаций товаров на сайт интернет магазина, чтобы повысить конверсию и средний чек заказа   \n",
              "3           Изменить структура категорий, что увеличит конверсию, т.к. пользователи быстрее найдут нужный товар   \n",
              "4                              Изменить цвет фона главной страницы, чтобы увеличить вовлеченность пользователей   \n",
              "5                      Добавить страницу отзывов клиентов о магазине, что позволит увеличить количество заказов   \n",
              "6          Показать на главной странице баннеры с актуальными акциями и распродажами, чтобы увеличить конверсию   \n",
              "7              Добавить форму подписки на все основные страницы, чтобы собрать базу клиентов для email-рассылок   \n",
              "8                                                       Запустить акцию, дающую скидку на товар в день рождения   \n",
              "\n",
              "   Reach  Impact  Confidence  Efforts  \n",
              "0      3      10           8        6  \n",
              "1      2       5           4       10  \n",
              "2      8       3           7        3  \n",
              "3      8       3           3        8  \n",
              "4      3       1           1        1  \n",
              "5      3       2           2        3  \n",
              "6      5       3           8        3  \n",
              "7     10       7           8        5  \n",
              "8      1       9           9        5  "
            ]
          },
          "execution_count": 5,
          "metadata": {},
          "output_type": "execute_result"
        }
      ],
      "source": [
        "#откроем таблицу\n",
        "pd.options.display.max_colwidth = 150\n",
        "hypothesis = pd.read_csv('/datasets/hypothesis.csv')\n",
        "hypothesis"
      ]
    },
    {
      "cell_type": "markdown",
      "metadata": {
        "id": "3LB9NCP41QyA"
      },
      "source": [
        "**При ознакомлении с таблицами данных:** Таблица **orders** содержит информацию о заказах. **visitors** хранит дату, группу и количество пользователей в указанную дату в указанной группе A/B-теста.   В **hypothesis** 9 гипотез по увеличению выручки интернет-магазина с указанными параметрами Reach, Impact, Confidence, Effort."
      ]
    },
    {
      "cell_type": "code",
      "execution_count": null,
      "metadata": {
        "id": "8JoAJBS21QyD",
        "outputId": "356e012e-f9df-4daf-e5a0-a3ab3e56ca1d"
      },
      "outputs": [
        {
          "data": {
            "text/plain": [
              "date        datetime64[ns]\n",
              "group               object\n",
              "visitors             int64\n",
              "dtype: object"
            ]
          },
          "execution_count": 5,
          "metadata": {},
          "output_type": "execute_result"
        }
      ],
      "source": [
        "#изучим типы колонок\n",
        "visitors.dtypes"
      ]
    },
    {
      "cell_type": "code",
      "execution_count": null,
      "metadata": {
        "id": "RUgkdnyf1QyI",
        "outputId": "95e9b28e-e2a9-4e64-dab5-ca1ab885276b"
      },
      "outputs": [
        {
          "data": {
            "text/plain": [
              "transactionId             int64\n",
              "visitorId                 int64\n",
              "date             datetime64[ns]\n",
              "revenue                   int64\n",
              "group                    object\n",
              "dtype: object"
            ]
          },
          "execution_count": 6,
          "metadata": {},
          "output_type": "execute_result"
        }
      ],
      "source": [
        "#изучим типы колонок\n",
        "orders.dtypes"
      ]
    },
    {
      "cell_type": "code",
      "execution_count": null,
      "metadata": {
        "id": "C6PgWQGs1QyL",
        "outputId": "454786ab-db84-4bd4-a238-fecf4ece4d4f"
      },
      "outputs": [
        {
          "data": {
            "text/plain": [
              "Hypothesis    object\n",
              "Reach          int64\n",
              "Impact         int64\n",
              "Confidence     int64\n",
              "Efforts        int64\n",
              "dtype: object"
            ]
          },
          "execution_count": 7,
          "metadata": {},
          "output_type": "execute_result"
        }
      ],
      "source": [
        "#изучим типы колонок\n",
        "hypothesis.dtypes"
      ]
    },
    {
      "cell_type": "markdown",
      "metadata": {
        "id": "aupqvWny1QyO"
      },
      "source": [
        "Все типы данных соответствуют их содержанию."
      ]
    },
    {
      "cell_type": "code",
      "execution_count": null,
      "metadata": {
        "id": "azZf3_8m1QyR",
        "outputId": "598fc2d9-3bff-4693-cbf0-f70e52054795"
      },
      "outputs": [
        {
          "data": {
            "text/plain": [
              "date        0.0\n",
              "group       0.0\n",
              "visitors    0.0\n",
              "dtype: float64"
            ]
          },
          "execution_count": 8,
          "metadata": {},
          "output_type": "execute_result"
        }
      ],
      "source": [
        "#изучим пропуски в значениях \n",
        "visitors.isna().mean()"
      ]
    },
    {
      "cell_type": "code",
      "execution_count": null,
      "metadata": {
        "id": "nMvIVcBr1QyT",
        "outputId": "dc6ed9d3-2376-4d4d-b9d5-6a18442aa092"
      },
      "outputs": [
        {
          "data": {
            "text/plain": [
              "transactionId    0.0\n",
              "visitorId        0.0\n",
              "date             0.0\n",
              "revenue          0.0\n",
              "group            0.0\n",
              "dtype: float64"
            ]
          },
          "execution_count": 9,
          "metadata": {},
          "output_type": "execute_result"
        }
      ],
      "source": [
        "#изучим пропуски в значениях \n",
        "orders.isna().mean()"
      ]
    },
    {
      "cell_type": "code",
      "execution_count": null,
      "metadata": {
        "id": "cYgHAfIj1QyW",
        "outputId": "79b05f15-b548-44b6-f2ed-de315652a16d"
      },
      "outputs": [
        {
          "data": {
            "text/plain": [
              "Hypothesis    0.0\n",
              "Reach         0.0\n",
              "Impact        0.0\n",
              "Confidence    0.0\n",
              "Efforts       0.0\n",
              "dtype: float64"
            ]
          },
          "execution_count": 10,
          "metadata": {},
          "output_type": "execute_result"
        }
      ],
      "source": [
        "#изучим пропуски в значениях \n",
        "hypothesis.isna().mean()"
      ]
    },
    {
      "cell_type": "markdown",
      "metadata": {
        "id": "1uu63bp51Qyc"
      },
      "source": [
        "Пустых значений в таблицах нет."
      ]
    },
    {
      "cell_type": "code",
      "execution_count": null,
      "metadata": {
        "id": "bjo5jNhw1Qyf",
        "outputId": "5c7a44c0-98da-41a2-efa4-f2b8b4417703"
      },
      "outputs": [
        {
          "data": {
            "text/plain": [
              "B    640\n",
              "A    557\n",
              "Name: group, dtype: int64"
            ]
          },
          "execution_count": 11,
          "metadata": {},
          "output_type": "execute_result"
        }
      ],
      "source": [
        "#проверим число заказов  в группах\n",
        "orders['group'].value_counts()"
      ]
    },
    {
      "cell_type": "code",
      "execution_count": null,
      "metadata": {
        "id": "wXQSGxry1Qyj",
        "outputId": "cc24dd73-2cd1-4641-fc12-9cbd41d7bafd"
      },
      "outputs": [
        {
          "data": {
            "text/plain": [
              "A    31\n",
              "B    31\n",
              "Name: group, dtype: int64"
            ]
          },
          "execution_count": 12,
          "metadata": {},
          "output_type": "execute_result"
        }
      ],
      "source": [
        "#проверим распределение по группам\n",
        "visitors['group'].value_counts()"
      ]
    },
    {
      "cell_type": "code",
      "execution_count": null,
      "metadata": {
        "id": "JCIWmEN31Qym",
        "outputId": "52f44ae1-9d48-4fc3-cf95-caf8c8e8688d"
      },
      "outputs": [
        {
          "data": {
            "text/plain": [
              "1031"
            ]
          },
          "execution_count": 13,
          "metadata": {},
          "output_type": "execute_result"
        }
      ],
      "source": [
        "#количество уникальных пользователей\n",
        "orders['visitorId'].nunique()"
      ]
    },
    {
      "cell_type": "code",
      "execution_count": null,
      "metadata": {
        "id": "-Ui0GOeX1Qyp",
        "outputId": "2cd01b5b-24ad-4970-8dd7-3f9be1e49609"
      },
      "outputs": [
        {
          "data": {
            "text/plain": [
              "1197"
            ]
          },
          "execution_count": 14,
          "metadata": {},
          "output_type": "execute_result"
        }
      ],
      "source": [
        "#посчитаем число строк в таблице\n",
        "len(orders['visitorId'])"
      ]
    },
    {
      "cell_type": "code",
      "execution_count": null,
      "metadata": {
        "id": "nMrd7Ef41Qyr",
        "outputId": "22abbbd9-4fc5-412f-b2aa-fcbc663b87f7"
      },
      "outputs": [
        {
          "data": {
            "text/plain": [
              "58"
            ]
          },
          "execution_count": 15,
          "metadata": {},
          "output_type": "execute_result"
        }
      ],
      "source": [
        "#найдем количество пользователей, которые присутствуют и группе А и в группе В\n",
        "len(np.intersect1d(orders.query('group==\"A\"')['visitorId'].unique(),\\\n",
        "                   orders.query('group==\"B\"')['visitorId'].unique()))"
      ]
    },
    {
      "cell_type": "markdown",
      "metadata": {
        "id": "UWt9TVKt1Qyu"
      },
      "source": [
        "Возможно, одни и е же пользователи попали в две группы теста-их 58 человек - это говорит об ошибке в сборе данных. Удаление этих пользователей повлияет на конверсию, поскольку мы можем удалить этих пользователей из таблицы с заказами, но не можем удалить из таблицы с визитами, так ка там данные агрегированы за день. Принято решение не удалять пользователей, попавших в обе группы."
      ]
    },
    {
      "cell_type": "code",
      "execution_count": null,
      "metadata": {
        "id": "p4-5GaHh1Qy1",
        "outputId": "31c47fb4-0427-46f9-bbc3-0a4fee57d646"
      },
      "outputs": [
        {
          "data": {
            "text/plain": [
              "0"
            ]
          },
          "execution_count": 16,
          "metadata": {},
          "output_type": "execute_result"
        }
      ],
      "source": [
        "#проверим на наличие дубликатов в таблице\n",
        "visitors.duplicated().sum()"
      ]
    },
    {
      "cell_type": "code",
      "execution_count": null,
      "metadata": {
        "id": "X0m2xiGJ1Qy6",
        "outputId": "6d2594db-1f17-4f7a-8ac1-f93e2a4638a7"
      },
      "outputs": [
        {
          "data": {
            "text/plain": [
              "0"
            ]
          },
          "execution_count": 17,
          "metadata": {},
          "output_type": "execute_result"
        }
      ],
      "source": [
        "#проверим на наличие дубликатов в таблице\n",
        "orders.duplicated().sum()"
      ]
    },
    {
      "cell_type": "code",
      "execution_count": null,
      "metadata": {
        "id": "-L1DFbdX1Qy-",
        "outputId": "bccf3bde-368c-44a3-c945-642004219373"
      },
      "outputs": [
        {
          "data": {
            "text/plain": [
              "0"
            ]
          },
          "execution_count": 18,
          "metadata": {},
          "output_type": "execute_result"
        }
      ],
      "source": [
        "#проверим на наличие дубликатов в таблице\n",
        "hypothesis.duplicated().sum()"
      ]
    },
    {
      "cell_type": "markdown",
      "metadata": {
        "id": "ItQpDubk1QzC"
      },
      "source": [
        "Дубликатов  в таблицах нет."
      ]
    },
    {
      "cell_type": "code",
      "execution_count": null,
      "metadata": {
        "id": "T_VGez_h1QzM",
        "outputId": "4fa76798-dc67-4b86-f746-14945ba92332"
      },
      "outputs": [
        {
          "data": {
            "text/plain": [
              "'Начало теста:'"
            ]
          },
          "metadata": {},
          "output_type": "display_data"
        },
        {
          "data": {
            "text/plain": [
              "Timestamp('2019-08-01 00:00:00')"
            ]
          },
          "metadata": {},
          "output_type": "display_data"
        },
        {
          "data": {
            "text/plain": [
              "'Конец теста:'"
            ]
          },
          "metadata": {},
          "output_type": "display_data"
        },
        {
          "data": {
            "text/plain": [
              "Timestamp('2019-08-31 00:00:00')"
            ]
          },
          "metadata": {},
          "output_type": "display_data"
        }
      ],
      "source": [
        "#определим временные рамки теста\n",
        "display('Начало теста:',orders['date'].min())\n",
        "display('Конец теста:', orders['date'].max() )"
      ]
    },
    {
      "cell_type": "code",
      "execution_count": null,
      "metadata": {
        "id": "fSGtS2x81QzR",
        "outputId": "a893347e-c047-4a42-f74a-f9273e11a77d"
      },
      "outputs": [
        {
          "data": {
            "text/plain": [
              "'В группе A число пользователей:'"
            ]
          },
          "metadata": {},
          "output_type": "display_data"
        },
        {
          "data": {
            "text/plain": [
              "503"
            ]
          },
          "metadata": {},
          "output_type": "display_data"
        },
        {
          "data": {
            "text/plain": [
              "'В группе В число пользователей:'"
            ]
          },
          "metadata": {},
          "output_type": "display_data"
        },
        {
          "data": {
            "text/plain": [
              "586"
            ]
          },
          "metadata": {},
          "output_type": "display_data"
        }
      ],
      "source": [
        "display('В группе A число пользователей:',\\\n",
        "        orders.query('group==\"A\"')['visitorId'].nunique())\n",
        "display('В группе В число пользователей:',\\\n",
        "        orders.query('group==\"B\"')['visitorId'].nunique())"
      ]
    },
    {
      "cell_type": "markdown",
      "metadata": {
        "id": "oqV_2OWd1QzU"
      },
      "source": [
        "\n",
        "При анализе таблиц установили, что групп две :А и В.\n",
        "    \n",
        "Определили, что начало теста приходится на дату - 2019-08-01,\n",
        "    а конец - 2019-08-31.\n",
        "В группе A число пользователей:503\n",
        "\n",
        "В группе В число пользователей:586  \n",
        "\n",
        "В группе В больше число пользователей.\n",
        "Общее число уникальных пользователей как раз составляет 1031, если вычесть 58 аномальных пользователей. Без вычета-1089 человек.\n"
      ]
    },
    {
      "cell_type": "markdown",
      "metadata": {
        "id": "h6fCHAc61QzW"
      },
      "source": [
        "## Часть. Приоритизация гипотез."
      ]
    },
    {
      "cell_type": "markdown",
      "metadata": {
        "id": "hXbG3Pns1QzZ"
      },
      "source": [
        "### Примените фреймворк ICE для приоритизации гипотез. Отсортируйте их по убыванию приоритета."
      ]
    },
    {
      "cell_type": "code",
      "execution_count": null,
      "metadata": {
        "id": "cFgyFXoe1Qz8",
        "outputId": "cf2a3db4-b6a4-4195-a2d1-c38d724e4792"
      },
      "outputs": [
        {
          "data": {
            "text/html": [
              "<div>\n",
              "<style scoped>\n",
              "    .dataframe tbody tr th:only-of-type {\n",
              "        vertical-align: middle;\n",
              "    }\n",
              "\n",
              "    .dataframe tbody tr th {\n",
              "        vertical-align: top;\n",
              "    }\n",
              "\n",
              "    .dataframe thead th {\n",
              "        text-align: right;\n",
              "    }\n",
              "</style>\n",
              "<table border=\"1\" class=\"dataframe\">\n",
              "  <thead>\n",
              "    <tr style=\"text-align: right;\">\n",
              "      <th></th>\n",
              "      <th>Hypothesis</th>\n",
              "      <th>ICE</th>\n",
              "    </tr>\n",
              "  </thead>\n",
              "  <tbody>\n",
              "    <tr>\n",
              "      <th>8</th>\n",
              "      <td>Запустить акцию, дающую скидку на товар в день рождения</td>\n",
              "      <td>16.20</td>\n",
              "    </tr>\n",
              "    <tr>\n",
              "      <th>0</th>\n",
              "      <td>Добавить два новых канала привлечения трафика, что позволит привлекать на 30% больше пользователей</td>\n",
              "      <td>13.33</td>\n",
              "    </tr>\n",
              "    <tr>\n",
              "      <th>7</th>\n",
              "      <td>Добавить форму подписки на все основные страницы, чтобы собрать базу клиентов для email-рассылок</td>\n",
              "      <td>11.20</td>\n",
              "    </tr>\n",
              "    <tr>\n",
              "      <th>6</th>\n",
              "      <td>Показать на главной странице баннеры с актуальными акциями и распродажами, чтобы увеличить конве...</td>\n",
              "      <td>8.00</td>\n",
              "    </tr>\n",
              "    <tr>\n",
              "      <th>2</th>\n",
              "      <td>Добавить блоки рекомендаций товаров на сайт интернет магазина, чтобы повысить конверсию и средни...</td>\n",
              "      <td>7.00</td>\n",
              "    </tr>\n",
              "    <tr>\n",
              "      <th>1</th>\n",
              "      <td>Запустить собственную службу доставки, что сократит срок доставки заказов</td>\n",
              "      <td>2.00</td>\n",
              "    </tr>\n",
              "    <tr>\n",
              "      <th>5</th>\n",
              "      <td>Добавить страницу отзывов клиентов о магазине, что позволит увеличить количество заказов</td>\n",
              "      <td>1.33</td>\n",
              "    </tr>\n",
              "    <tr>\n",
              "      <th>3</th>\n",
              "      <td>Изменить структура категорий, что увеличит конверсию, т.к. пользователи быстрее найдут нужный товар</td>\n",
              "      <td>1.12</td>\n",
              "    </tr>\n",
              "    <tr>\n",
              "      <th>4</th>\n",
              "      <td>Изменить цвет фона главной страницы, чтобы увеличить вовлеченность пользователей</td>\n",
              "      <td>1.00</td>\n",
              "    </tr>\n",
              "  </tbody>\n",
              "</table>\n",
              "</div>"
            ],
            "text/plain": [
              "                                                                                            Hypothesis  \\\n",
              "8                                              Запустить акцию, дающую скидку на товар в день рождения   \n",
              "0   Добавить два новых канала привлечения трафика, что позволит привлекать на 30% больше пользователей   \n",
              "7     Добавить форму подписки на все основные страницы, чтобы собрать базу клиентов для email-рассылок   \n",
              "6  Показать на главной странице баннеры с актуальными акциями и распродажами, чтобы увеличить конве...   \n",
              "2  Добавить блоки рекомендаций товаров на сайт интернет магазина, чтобы повысить конверсию и средни...   \n",
              "1                            Запустить собственную службу доставки, что сократит срок доставки заказов   \n",
              "5             Добавить страницу отзывов клиентов о магазине, что позволит увеличить количество заказов   \n",
              "3  Изменить структура категорий, что увеличит конверсию, т.к. пользователи быстрее найдут нужный товар   \n",
              "4                     Изменить цвет фона главной страницы, чтобы увеличить вовлеченность пользователей   \n",
              "\n",
              "     ICE  \n",
              "8  16.20  \n",
              "0  13.33  \n",
              "7  11.20  \n",
              "6   8.00  \n",
              "2   7.00  \n",
              "1   2.00  \n",
              "5   1.33  \n",
              "3   1.12  \n",
              "4   1.00  "
            ]
          },
          "execution_count": 19,
          "metadata": {},
          "output_type": "execute_result"
        }
      ],
      "source": [
        "#воспользуемся методом приоритезации ICE\n",
        "pd.options.display.max_colwidth = 100\n",
        "hypothesis['ICE'] = round((hypothesis['Impact']*hypothesis['Confidence'])/\\\n",
        "                          hypothesis['Efforts'],2)\n",
        "hypothesis[['Hypothesis', 'ICE']].sort_values(by='ICE', ascending=False)"
      ]
    },
    {
      "cell_type": "markdown",
      "metadata": {
        "id": "DARpSJlA1Q0C"
      },
      "source": [
        "Наиболее перспективны гипотезы по методу ICE 8,0,7."
      ]
    },
    {
      "cell_type": "markdown",
      "metadata": {
        "id": "_0rlFj7k1Q0S"
      },
      "source": [
        "### Примените фреймворк RICE для приоритизации гипотез. Отсортируйте их по убыванию приоритета."
      ]
    },
    {
      "cell_type": "code",
      "execution_count": null,
      "metadata": {
        "id": "UZAjnQ6T1Q0U",
        "outputId": "47d8d8f6-343e-4fbe-f0ee-f6a564429d6e"
      },
      "outputs": [
        {
          "data": {
            "text/html": [
              "<div>\n",
              "<style scoped>\n",
              "    .dataframe tbody tr th:only-of-type {\n",
              "        vertical-align: middle;\n",
              "    }\n",
              "\n",
              "    .dataframe tbody tr th {\n",
              "        vertical-align: top;\n",
              "    }\n",
              "\n",
              "    .dataframe thead th {\n",
              "        text-align: right;\n",
              "    }\n",
              "</style>\n",
              "<table border=\"1\" class=\"dataframe\">\n",
              "  <thead>\n",
              "    <tr style=\"text-align: right;\">\n",
              "      <th></th>\n",
              "      <th>Hypothesis</th>\n",
              "      <th>RICE</th>\n",
              "    </tr>\n",
              "  </thead>\n",
              "  <tbody>\n",
              "    <tr>\n",
              "      <th>7</th>\n",
              "      <td>Добавить форму подписки на все основные страницы, чтобы собрать базу клиентов для email-рассылок</td>\n",
              "      <td>112.0</td>\n",
              "    </tr>\n",
              "    <tr>\n",
              "      <th>2</th>\n",
              "      <td>Добавить блоки рекомендаций товаров на сайт интернет магазина, чтобы повысить конверсию и средний чек заказа</td>\n",
              "      <td>56.0</td>\n",
              "    </tr>\n",
              "    <tr>\n",
              "      <th>0</th>\n",
              "      <td>Добавить два новых канала привлечения трафика, что позволит привлекать на 30% больше пользователей</td>\n",
              "      <td>40.0</td>\n",
              "    </tr>\n",
              "    <tr>\n",
              "      <th>6</th>\n",
              "      <td>Показать на главной странице баннеры с актуальными акциями и распродажами, чтобы увеличить конверсию</td>\n",
              "      <td>40.0</td>\n",
              "    </tr>\n",
              "    <tr>\n",
              "      <th>8</th>\n",
              "      <td>Запустить акцию, дающую скидку на товар в день рождения</td>\n",
              "      <td>16.2</td>\n",
              "    </tr>\n",
              "    <tr>\n",
              "      <th>3</th>\n",
              "      <td>Изменить структура категорий, что увеличит конверсию, т.к. пользователи быстрее найдут нужный товар</td>\n",
              "      <td>9.0</td>\n",
              "    </tr>\n",
              "    <tr>\n",
              "      <th>1</th>\n",
              "      <td>Запустить собственную службу доставки, что сократит срок доставки заказов</td>\n",
              "      <td>4.0</td>\n",
              "    </tr>\n",
              "    <tr>\n",
              "      <th>5</th>\n",
              "      <td>Добавить страницу отзывов клиентов о магазине, что позволит увеличить количество заказов</td>\n",
              "      <td>4.0</td>\n",
              "    </tr>\n",
              "    <tr>\n",
              "      <th>4</th>\n",
              "      <td>Изменить цвет фона главной страницы, чтобы увеличить вовлеченность пользователей</td>\n",
              "      <td>3.0</td>\n",
              "    </tr>\n",
              "  </tbody>\n",
              "</table>\n",
              "</div>"
            ],
            "text/plain": [
              "                                                                                                     Hypothesis  \\\n",
              "7              Добавить форму подписки на все основные страницы, чтобы собрать базу клиентов для email-рассылок   \n",
              "2  Добавить блоки рекомендаций товаров на сайт интернет магазина, чтобы повысить конверсию и средний чек заказа   \n",
              "0            Добавить два новых канала привлечения трафика, что позволит привлекать на 30% больше пользователей   \n",
              "6          Показать на главной странице баннеры с актуальными акциями и распродажами, чтобы увеличить конверсию   \n",
              "8                                                       Запустить акцию, дающую скидку на товар в день рождения   \n",
              "3           Изменить структура категорий, что увеличит конверсию, т.к. пользователи быстрее найдут нужный товар   \n",
              "1                                     Запустить собственную службу доставки, что сократит срок доставки заказов   \n",
              "5                      Добавить страницу отзывов клиентов о магазине, что позволит увеличить количество заказов   \n",
              "4                              Изменить цвет фона главной страницы, чтобы увеличить вовлеченность пользователей   \n",
              "\n",
              "    RICE  \n",
              "7  112.0  \n",
              "2   56.0  \n",
              "0   40.0  \n",
              "6   40.0  \n",
              "8   16.2  \n",
              "3    9.0  \n",
              "1    4.0  \n",
              "5    4.0  \n",
              "4    3.0  "
            ]
          },
          "execution_count": 52,
          "metadata": {},
          "output_type": "execute_result"
        }
      ],
      "source": [
        "#воспользуемся методом приоритезации RICE\n",
        "pd.options.display.max_colwidth = 120\n",
        "hypothesis['RICE'] = (hypothesis['Reach']*hypothesis['Impact']*hypothesis['Confidence'])/hypothesis['Efforts']\n",
        "hypothesis[['Hypothesis', 'RICE']].sort_values(by='RICE', ascending=False)"
      ]
    },
    {
      "cell_type": "markdown",
      "metadata": {
        "id": "a14OEWwJ1Q0Y"
      },
      "source": [
        "Наиболее перспективны гипотезы по методу RICE 7,2,0,6."
      ]
    },
    {
      "cell_type": "markdown",
      "metadata": {
        "id": "jaFy_ysi1Q0h"
      },
      "source": [
        "    \n",
        "Считали так: ICE=Impact*Confidence/Efforts,\n",
        "\n",
        "где Impact -насколько сильно изменение повлияло на пользователей, их опыт и удовлетворение от продукта.\n",
        "    \n",
        "Confidence -насколько уверены, что это изменение повлияло на пользователей именно так.\n",
        "    \n",
        "Efforts -сколько стоит протестировать эту гипотезу\n",
        "\n",
        "Наиболее перспективны гипотезы по методу **ICE 8,0,7**:\n",
        "- 8 \tЗапустить акцию, дающую скидку на товар в день рождения -\t16.2\n",
        "- 0 \tДобавить два новых канала привлечения трафика, что позволит привлекать на 30% больше пользователей -\t13.3\n",
        "- 7 \tДобавить форму подписки на все основные страницы, чтобы собрать базу клиентов для email-рассылок -\t11.2\n",
        "\n",
        "RICE=Reach*Impact*Confidence/Efforts\n",
        " \n",
        " Reach - скольких пользователей затронет изменение, которое мы хотим внести.\n",
        "    \n",
        " Impact - насколько сильно изменение повлияло на пользователей, их опыт и удовлетворение от продукта.\n",
        "    \n",
        " Confidence - насколько уверены, что это изменение повлияло на пользователей именно так.\n",
        "    \n",
        " Efforts -сколько стоит протестировать эту гипотезу\n",
        "\n",
        "Наиболее перспективны гипотезы по методу **RICE 7,2,0,6**.\n",
        "- 7 \tДобавить форму подписки на все основные страницы, чтобы собрать базу клиентов для email-рассылок -\t112.0\n",
        "- 2 \tДобавить блоки рекомендаций товаров на сайт интернет магазина, чтобы повысить конверсию и средний чек заказа -\t56.0\n",
        "- 0 \tДобавить два новых канала привлечения трафика, что позволит привлекать на 30% больше пользователей -\t40.0\n",
        "- 6 \tПоказать на главной странице баннеры с актуальными акциями и распродажами, чтобы увеличить конверсию -\t40.0\n",
        "\n",
        "\n",
        "Изменилась приоритизация гипотез при применении RICE вместо ICE, охваты пользователей, использованные в методе RICE повлияли на изменения. \n"
      ]
    },
    {
      "cell_type": "markdown",
      "metadata": {
        "id": "QC4ecfBO1Q0o"
      },
      "source": [
        "## Часть. Анализ A/B-теста"
      ]
    },
    {
      "cell_type": "markdown",
      "metadata": {
        "id": "ZbQGtoaT1Q0q"
      },
      "source": [
        "### Постройте график кумулятивной выручки по группам. Сделайте выводы и предположения.\n"
      ]
    },
    {
      "cell_type": "code",
      "execution_count": null,
      "metadata": {
        "id": "6_viwL8o1Q0s"
      },
      "outputs": [],
      "source": [
        "# создаем массив уникальных пар значений дат и групп теста\n",
        "datesGroups = orders[['date','group']].drop_duplicates()"
      ]
    },
    {
      "cell_type": "code",
      "execution_count": null,
      "metadata": {
        "id": "BoVgYkY11Q0w"
      },
      "outputs": [],
      "source": [
        "# получаем агрегированные кумулятивные по дням данные о заказах \n",
        "ordersAggregated = datesGroups.apply(lambda x: orders[np.logical_and(orders['date'] <= x['date'],\\\n",
        "                                    orders['group'] == x['group'])].agg({'date':'max', 'group':'max',\\\n",
        "                                'transactionId':'nunique', 'visitorId':'nunique', 'revenue' : 'sum'}), axis=1)\\\n",
        "                                .sort_values(by=['date','group'])"
      ]
    },
    {
      "cell_type": "code",
      "execution_count": null,
      "metadata": {
        "id": "rj7aKZm91Q0z"
      },
      "outputs": [],
      "source": [
        "# получаем агрегированные кумулятивные по дням данные о посетителях интернет-магазина \n",
        "visitorsAggregated = datesGroups.apply(lambda x: visitors[np.logical_and(visitors['date'] <= x['date'],\\\n",
        "                                                                         visitors['group'] == x['group'])]\\\n",
        "                                       .agg({'date' : 'max', 'group' : 'max', 'visitors' : 'sum'}), axis=1)\\\n",
        "                                       .sort_values(by=['date','group'])"
      ]
    },
    {
      "cell_type": "code",
      "execution_count": null,
      "metadata": {
        "id": "Gb_JOJDc1Q02",
        "outputId": "77a2576d-d2b6-4e48-c752-56b5a1e9227c"
      },
      "outputs": [
        {
          "name": "stdout",
          "output_type": "stream",
          "text": [
            "        date group  orders  buyers  revenue  visitors\n",
            "0 2019-08-01     A      24      20   148579       719\n",
            "1 2019-08-01     B      21      20   101217       713\n",
            "2 2019-08-02     A      44      38   242401      1338\n",
            "3 2019-08-02     B      45      43   266748      1294\n",
            "4 2019-08-03     A      68      62   354874      1845\n"
          ]
        }
      ],
      "source": [
        "# объединяем кумулятивные данные в одной таблице и присваиваем ее столбцам понятные названия\n",
        "cumulativeData = ordersAggregated.merge(visitorsAggregated, left_on=['date', 'group'], right_on=['date', 'group'])\n",
        "cumulativeData.columns = ['date', 'group', 'orders', 'buyers', 'revenue', 'visitors']\n",
        "\n",
        "print(cumulativeData.head(5)) "
      ]
    },
    {
      "cell_type": "code",
      "execution_count": null,
      "metadata": {
        "id": "JtZRFfKd1Q08"
      },
      "outputs": [],
      "source": [
        "# датафрейм с кумулятивным количеством заказов и кумулятивной выручкой по дням в группе А\n",
        "cumulativeRevenueA = cumulativeData[cumulativeData['group']=='A'][['date','revenue', 'orders']]"
      ]
    },
    {
      "cell_type": "code",
      "execution_count": null,
      "metadata": {
        "id": "CxL7yS1O1Q0_"
      },
      "outputs": [],
      "source": [
        "# датафрейм с кумулятивным количеством заказов и кумулятивной выручкой по дням в группе B\n",
        "cumulativeRevenueB = cumulativeData[cumulativeData['group']=='B'][['date','revenue', 'orders']]"
      ]
    },
    {
      "cell_type": "code",
      "execution_count": null,
      "metadata": {
        "id": "JChHSFiV1Q1C",
        "outputId": "30c8112b-c914-480a-f56e-27a31904071c"
      },
      "outputs": [
        {
          "data": {
            "image/png": "[encoded data removed]",
            "text/plain": [
              "<Figure size 432x288 with 1 Axes>"
            ]
          },
          "metadata": {
            "needs_background": "light"
          },
          "output_type": "display_data"
        }
      ],
      "source": [
        "# Строим график выручки группы А\n",
        "plt.plot(cumulativeRevenueA['date'], cumulativeRevenueA['revenue'], label='A')\n",
        "\n",
        "# Строим график выручки группы B\n",
        "plt.plot(cumulativeRevenueB['date'], cumulativeRevenueB['revenue'], label='B')\n",
        "\n",
        "plt.legend() \n",
        "\n",
        "plt.title('Графики кумулятивной выручки по группам А,B')\n",
        "plt.xlabel('Дата')\n",
        "plt.ylabel('Куммулятивная выручка заказов')\n",
        "plt.grid(True)\n",
        "plt.xticks(rotation=45) \n",
        "\n",
        "plt.show()"
      ]
    },
    {
      "cell_type": "markdown",
      "metadata": {
        "id": "JpiHYPQE1Q1G"
      },
      "source": [
        "По **Графику кумулятивной выручки** видно , что оба значения групп А и В ростут приблизитльно в одном диапазоне где-то до 17 августе, по после которого значение группы В имеет явный скачок. Кумулятивная выручка  у группы В больше на протяжении всего времени."
      ]
    },
    {
      "cell_type": "markdown",
      "metadata": {
        "id": "UFviqpLY1Q1J"
      },
      "source": [
        "### Постройте график кумулятивного среднего чека по группам. Сделайте выводы и предположения."
      ]
    },
    {
      "cell_type": "code",
      "execution_count": null,
      "metadata": {
        "id": "4YtnGO2A1Q1L",
        "outputId": "2f64a1c8-e5f9-4e6d-991b-c9cbdb7a44f2"
      },
      "outputs": [
        {
          "data": {
            "image/png": "[encoded data removed]",
            "text/plain": [
              "<Figure size 432x288 with 1 Axes>"
            ]
          },
          "metadata": {
            "needs_background": "light"
          },
          "output_type": "display_data"
        }
      ],
      "source": [
        "#Построим графики среднего чека по группам\n",
        "plt.plot(cumulativeRevenueA['date'], cumulativeRevenueA['revenue']/cumulativeRevenueA['orders'], label='A')\n",
        "plt.plot(cumulativeRevenueB['date'], cumulativeRevenueB['revenue']/cumulativeRevenueB['orders'], label='B')\n",
        "plt.legend() \n",
        "plt.title('Графики кумулятивного среднего чека по группам А,B')\n",
        "plt.xlabel('Дата')\n",
        "plt.ylabel('Сумма чека')\n",
        "plt.grid(True)\n",
        "plt.xticks(rotation=45) \n",
        "\n",
        "plt.show()"
      ]
    },
    {
      "cell_type": "markdown",
      "metadata": {
        "id": "fAe6fXQi1Q1P"
      },
      "source": [
        "По **Графику кумулятивного среднего чека по группам А,B** отметим, что Средний чек группы В выше на протяжении всего периода, кроме начала месяца и 13 августа. Виден, также резкий скачок после 17 августа, что говорит об резком увеличении среднего чека в группе В.С последующим медленным спадом. В группе А идет сначала спад с начала месяца до 06 августа, а затем увеличени кумулятивного среднего чека до 13 августа. Далее значение колеблется вдоль одной суммы в 7000. Графики выручки обеих групп в нескольких точках резко растут. Это может сигнализировать о всплесках числа заказов, либо о появлении очень дорогих заказов в выборке. "
      ]
    },
    {
      "cell_type": "markdown",
      "metadata": {
        "id": "F0ID4eId1Q1R"
      },
      "source": [
        "### Постройте график относительного изменения кумулятивного среднего чека группы B к группе A. Сделайте выводы и предположения"
      ]
    },
    {
      "cell_type": "code",
      "execution_count": null,
      "metadata": {
        "id": "R9jOlShU1Q1V",
        "outputId": "9f56e011-3b60-45e0-d450-b4befd54d895"
      },
      "outputs": [
        {
          "data": {
            "image/png": "[encoded data removed]",
            "text/plain": [
              "<Figure size 432x288 with 1 Axes>"
            ]
          },
          "metadata": {
            "needs_background": "light"
          },
          "output_type": "display_data"
        }
      ],
      "source": [
        "# собираем данные в одном датафрейме\n",
        "mergedCumulativeRevenue = cumulativeRevenueA.merge(cumulativeRevenueB, left_on='date',\\\n",
        "                                                   right_on='date', how='left', suffixes=['A', 'B'])\n",
        "\n",
        "# cтроим отношение средних чеков\n",
        "plt.plot(mergedCumulativeRevenue['date'], (mergedCumulativeRevenue['revenueB']/mergedCumulativeRevenue['ordersB'])/\\\n",
        "         (mergedCumulativeRevenue['revenueA']/mergedCumulativeRevenue['ordersA'])-1)\n",
        "\n",
        "# добавляем ось X\n",
        "plt.axhline(y=0, color='black', linestyle='--') \n",
        "\n",
        "plt.title('Относительное изменение кумулятивного среднего чека группы B к группе A')\n",
        "plt.xlabel('Дата')\n",
        "plt.ylabel('Относительное различие')\n",
        "plt.grid(True)\n",
        "plt.xticks(rotation=45) \n",
        "\n",
        "plt.show()"
      ]
    },
    {
      "cell_type": "markdown",
      "metadata": {
        "id": "AVl50kcG1Q1X"
      },
      "source": [
        "По графику **Относительного изменения кумулятивного среднего чека группы B к группе A**  видно, что средний чек группы В выше везде, кроме начала месяца и 13 августа.В нескольких точках график различия между сегментами резко «скачет». Возможно, имеются крупные заказы и выбросы."
      ]
    },
    {
      "cell_type": "markdown",
      "metadata": {
        "id": "LMjiHTB21Q1a"
      },
      "source": [
        "### Постройте график кумулятивного среднего количества заказов на посетителя по группам. Сделайте выводы и предположения."
      ]
    },
    {
      "cell_type": "code",
      "execution_count": null,
      "metadata": {
        "id": "0uh_-rjY1Q1c"
      },
      "outputs": [],
      "source": [
        "# считаем кумулятивное среднего количество заказов на посетителя по группам\n",
        "cumulativeData['conversion'] = cumulativeData['orders']/cumulativeData['visitors']"
      ]
    },
    {
      "cell_type": "code",
      "execution_count": null,
      "metadata": {
        "id": "Xw3UbMFi1Q1g"
      },
      "outputs": [],
      "source": [
        "# отделяем данные по группе A\n",
        "cumulativeDataA = cumulativeData[cumulativeData['group']=='A']"
      ]
    },
    {
      "cell_type": "code",
      "execution_count": null,
      "metadata": {
        "id": "ZhpDlPlb1Q1i"
      },
      "outputs": [],
      "source": [
        "# отделяем данные по группе B\n",
        "cumulativeDataB = cumulativeData[cumulativeData['group']=='B']"
      ]
    },
    {
      "cell_type": "code",
      "execution_count": null,
      "metadata": {
        "id": "hV_ZQM5x1Q1n",
        "outputId": "7aa73ac8-54db-4c04-a51e-8d96fd18fe41"
      },
      "outputs": [
        {
          "data": {
            "image/png": "[encoded data removed]",
            "text/plain": [
              "<Figure size 432x288 with 1 Axes>"
            ]
          },
          "metadata": {
            "needs_background": "light"
          },
          "output_type": "display_data"
        }
      ],
      "source": [
        "# строим графики\n",
        "plt.plot(cumulativeDataA['date'], cumulativeDataA['conversion'], label='A')\n",
        "plt.plot(cumulativeDataB['date'], cumulativeDataB['conversion'], label='B')\n",
        "plt.legend()\n",
        "plt.title('Кумулятивное среднего количество заказов на посетителя по группам А, В')\n",
        "plt.xlabel('Дата')\n",
        "plt.ylabel('Среднее количество заказов')\n",
        "plt.grid(True)\n",
        "plt.xticks(rotation=45) \n",
        "\n",
        "plt.show()"
      ]
    },
    {
      "cell_type": "markdown",
      "metadata": {
        "id": "nG1Es9zo1Q1q"
      },
      "source": [
        "Видим по графику **Кумулятивного среднего количества заказов на посетителя по группам А, В** , что значения находятся в диапазоне от 2,9 до 3,7.В начале кумулятивное среднее количество заказов имеет пиковые значения в обоих группах,  у  группы А больше,но затем пошла на спад с 05 августа и колеблется в одном диапазоне, а у группы В наблюдается также плавный спад."
      ]
    },
    {
      "cell_type": "markdown",
      "metadata": {
        "id": "vaYyl30B1Q1r"
      },
      "source": [
        "### Постройте график относительного изменения кумулятивного среднего количества заказов на посетителя группы B к группе A. Сделайте выводы и предположения."
      ]
    },
    {
      "cell_type": "code",
      "execution_count": null,
      "metadata": {
        "id": "lxim2bJc1Q1u"
      },
      "outputs": [],
      "source": [
        "# собираем данные в одном датафрейме\n",
        "mergedCumulativeConversions = cumulativeDataA[['date','conversion']].\\\n",
        "  merge(cumulativeDataB[['date','conversion']], left_on='date', right_on='date', how='left', suffixes=['A', 'B'])"
      ]
    },
    {
      "cell_type": "code",
      "execution_count": null,
      "metadata": {
        "id": "tirmrc9X1Q1w",
        "outputId": "a72ff688-98fc-46e9-a326-82dc046616bd"
      },
      "outputs": [
        {
          "data": {
            "image/png": "[encoded data removed]",
            "text/plain": [
              "<Figure size 432x288 with 1 Axes>"
            ]
          },
          "metadata": {
            "needs_background": "light"
          },
          "output_type": "display_data"
        }
      ],
      "source": [
        "#Построим график относительного различия кумулятивных конверсий\n",
        "plt.plot(mergedCumulativeConversions['date'], mergedCumulativeConversions['conversionB']/\\\n",
        "    mergedCumulativeConversions['conversionA']-1) \n",
        "\n",
        "plt.axhline(y=0, color='black', linestyle='--')\n",
        "plt.axhline(y=0.1, color='grey', linestyle='--')\n",
        "\n",
        "plt.title('Кумулятивное среднее количество заказов группы B относительно группы A')\n",
        "plt.xlabel('Дата')\n",
        "plt.ylabel('Относительное различие')\n",
        "plt.grid(True)\n",
        "plt.xticks(rotation=45) \n",
        "\n",
        "plt.show()"
      ]
    },
    {
      "cell_type": "markdown",
      "metadata": {
        "id": "dK0us4Zn1Q1z"
      },
      "source": [
        "По графику **Кумулятивное среднее количество заказов группы B относительно группы A** видно, что в начале теста группа B значительно проигрывала группе A, затем вырвалась вперёд и находилась в одном диапазоне, не ниже прироста в 10% относительного группы А."
      ]
    },
    {
      "cell_type": "markdown",
      "metadata": {
        "id": "NTUWV47W1Q2A"
      },
      "source": [
        "### Постройте точечный график количества заказов по пользователям. Сделайте выводы и предположения."
      ]
    },
    {
      "cell_type": "code",
      "execution_count": null,
      "metadata": {
        "id": "7Vzo_D5H1Q2C"
      },
      "outputs": [],
      "source": [
        "#Подсчитаем количество заказов по пользователям\n",
        "ordersByUsers = (\n",
        "    orders.groupby('visitorId', as_index=False)\n",
        "    .agg({'transactionId': 'nunique'})\n",
        ")\n",
        "\n",
        "ordersByUsers.columns = ['userId', 'orders']"
      ]
    },
    {
      "cell_type": "code",
      "execution_count": null,
      "metadata": {
        "id": "HNFnW6r51Q2G",
        "outputId": "a3e8d288-c68e-4b06-a582-26244c49fce4"
      },
      "outputs": [
        {
          "data": {
            "text/html": [
              "<div>\n",
              "<style scoped>\n",
              "    .dataframe tbody tr th:only-of-type {\n",
              "        vertical-align: middle;\n",
              "    }\n",
              "\n",
              "    .dataframe tbody tr th {\n",
              "        vertical-align: top;\n",
              "    }\n",
              "\n",
              "    .dataframe thead th {\n",
              "        text-align: right;\n",
              "    }\n",
              "</style>\n",
              "<table border=\"1\" class=\"dataframe\">\n",
              "  <thead>\n",
              "    <tr style=\"text-align: right;\">\n",
              "      <th></th>\n",
              "      <th>userId</th>\n",
              "      <th>orders</th>\n",
              "    </tr>\n",
              "  </thead>\n",
              "  <tbody>\n",
              "    <tr>\n",
              "      <th>1023</th>\n",
              "      <td>4256040402</td>\n",
              "      <td>11</td>\n",
              "    </tr>\n",
              "    <tr>\n",
              "      <th>591</th>\n",
              "      <td>2458001652</td>\n",
              "      <td>11</td>\n",
              "    </tr>\n",
              "    <tr>\n",
              "      <th>569</th>\n",
              "      <td>2378935119</td>\n",
              "      <td>9</td>\n",
              "    </tr>\n",
              "    <tr>\n",
              "      <th>487</th>\n",
              "      <td>2038680547</td>\n",
              "      <td>8</td>\n",
              "    </tr>\n",
              "    <tr>\n",
              "      <th>44</th>\n",
              "      <td>199603092</td>\n",
              "      <td>5</td>\n",
              "    </tr>\n",
              "    <tr>\n",
              "      <th>744</th>\n",
              "      <td>3062433592</td>\n",
              "      <td>5</td>\n",
              "    </tr>\n",
              "    <tr>\n",
              "      <th>55</th>\n",
              "      <td>237748145</td>\n",
              "      <td>5</td>\n",
              "    </tr>\n",
              "    <tr>\n",
              "      <th>917</th>\n",
              "      <td>3803269165</td>\n",
              "      <td>5</td>\n",
              "    </tr>\n",
              "    <tr>\n",
              "      <th>299</th>\n",
              "      <td>1230306981</td>\n",
              "      <td>5</td>\n",
              "    </tr>\n",
              "    <tr>\n",
              "      <th>897</th>\n",
              "      <td>3717692402</td>\n",
              "      <td>5</td>\n",
              "    </tr>\n",
              "  </tbody>\n",
              "</table>\n",
              "</div>"
            ],
            "text/plain": [
              "          userId  orders\n",
              "1023  4256040402      11\n",
              "591   2458001652      11\n",
              "569   2378935119       9\n",
              "487   2038680547       8\n",
              "44     199603092       5\n",
              "744   3062433592       5\n",
              "55     237748145       5\n",
              "917   3803269165       5\n",
              "299   1230306981       5\n",
              "897   3717692402       5"
            ]
          },
          "execution_count": 51,
          "metadata": {},
          "output_type": "execute_result"
        }
      ],
      "source": [
        "#выведем  количество заказов по пользователям\n",
        "ordersByUsers.sort_values(by='orders', ascending=False).head(10)"
      ]
    },
    {
      "cell_type": "markdown",
      "metadata": {
        "id": "OO8rkRgM1Q2I"
      },
      "source": [
        "Есть пользователи, которые совершали 11,9,8 и 5 заказов."
      ]
    },
    {
      "cell_type": "code",
      "execution_count": null,
      "metadata": {
        "id": "zi4Eqn1S1Q2L",
        "outputId": "76c4c28b-7036-4130-8acc-1425d8751210"
      },
      "outputs": [
        {
          "data": {
            "image/png": "[encoded data removed]",
            "text/plain": [
              "<Figure size 432x288 with 1 Axes>"
            ]
          },
          "metadata": {
            "needs_background": "light"
          },
          "output_type": "display_data"
        }
      ],
      "source": [
        "#Построим точечную диаграмму числа заказов на одного пользователя\n",
        "x_values = pd.Series(range(0,len(ordersByUsers)))\n",
        "\n",
        "plt.scatter(x_values, ordersByUsers['orders']) \n",
        "plt.title('Точечная диаграмма числа заказов на одного пользователя')\n",
        "plt.xlabel('Пользователи')\n",
        "plt.ylabel('Число заказов')\n",
        "plt.grid(True)\n",
        "\n",
        "plt.show()"
      ]
    },
    {
      "cell_type": "markdown",
      "metadata": {
        "id": "9XIXRrkL1Q2N"
      },
      "source": [
        "По **Точечной диаграмме числа заказов на одного пользователя** много пользователей с 1 и 2 заказами, с 3-мя уже меньше значительно. И есть выбивающиеся заказы в районе 8,9,11."
      ]
    },
    {
      "cell_type": "code",
      "execution_count": null,
      "metadata": {
        "id": "8EyzKksj1Q2Q",
        "outputId": "6ffe8c6a-d0ae-4f18-cb88-cb748306c12b"
      },
      "outputs": [
        {
          "data": {
            "image/png": "[encoded data removed]",
            "text/plain": [
              "<Figure size 432x288 with 1 Axes>"
            ]
          },
          "metadata": {
            "needs_background": "light"
          },
          "output_type": "display_data"
        }
      ],
      "source": [
        "#Построим гистрограмму распределения количества заказов на одного пользователя\n",
        "plt.hist(ordersByUsers['orders'])\n",
        "plt.title('Гистрограмму распределения количества заказов на одного пользователя')\n",
        "plt.ylabel('Пользователи')\n",
        "plt.xlabel('Число заказов')\n",
        "plt.grid(True)\n",
        "plt.show()"
      ]
    },
    {
      "cell_type": "markdown",
      "metadata": {
        "id": "XpNeDdX11Q2T"
      },
      "source": [
        "По **Гистрограмме распределения количества заказов на одного пользователя** также видно, что оснавная масса пользователей совершает больше всего едоничных покупок, значительно меньше уже по 2 покупки, остальные еще меньше."
      ]
    },
    {
      "cell_type": "markdown",
      "metadata": {
        "id": "NHWpErrP1Q2Z"
      },
      "source": [
        "### Посчитайте 95-й и 99-й перцентили количества заказов на пользователя. Выберите границу для определения аномальных пользователей."
      ]
    },
    {
      "cell_type": "code",
      "execution_count": null,
      "metadata": {
        "id": "yEN7Ircg1Q2e",
        "outputId": "7597172f-4c43-4fd4-e1af-a28f4d4c1877"
      },
      "outputs": [
        {
          "name": "stdout",
          "output_type": "stream",
          "text": [
            "[2. 4.]\n"
          ]
        }
      ],
      "source": [
        "#Посчитаем выборочные перцентили количества заказов на одного пользователя\n",
        "print(np.percentile(ordersByUsers['orders'], [ 95, 99])) "
      ]
    },
    {
      "cell_type": "markdown",
      "metadata": {
        "id": "zZGl58sY1Q2q"
      },
      "source": [
        "По посчитанным **95-й и 99-й перцентилям количества заказов на пользователя** получили, что Не более 5% пользователей оформляли 2 заказов. И 1% пользователей заказывали более 4 раз. \n",
        "Разумно выбрать 2  заказа на одного пользователя за верхнюю границу числа заказов, и отсеять аномальных пользователей по ней.\n"
      ]
    },
    {
      "cell_type": "markdown",
      "metadata": {
        "id": "X2mx_Y531Q2s"
      },
      "source": [
        "### Постройте точечный график стоимостей заказов. Сделайте выводы и предположения."
      ]
    },
    {
      "cell_type": "code",
      "execution_count": null,
      "metadata": {
        "id": "GrK3Wpvv1Q2u",
        "outputId": "f10fead1-a586-4ff3-c833-cf0748bb6d03"
      },
      "outputs": [
        {
          "data": {
            "image/png": "[encoded data removed]",
            "text/plain": [
              "<Figure size 432x288 with 1 Axes>"
            ]
          },
          "metadata": {
            "needs_background": "light"
          },
          "output_type": "display_data"
        }
      ],
      "source": [
        "#Построим точечный график стоимостей заказов\n",
        "x_values = pd.Series(range(0,len(orders['revenue'])))\n",
        "\n",
        "plt.scatter(x_values, orders['revenue']) \n",
        "plt.title('Точечный график стоимостей заказов')\n",
        "plt.xlabel('Пользователи')\n",
        "plt.ylabel('Стоимость заказов')\n",
        "plt.grid(True)\n",
        "ylim\n",
        "plt.show()"
      ]
    },
    {
      "cell_type": "markdown",
      "metadata": {
        "id": "F_8MVslS1Q2w"
      },
      "source": [
        "По **Точечному графику стоимостей заказов** видно, что имеются выбивающиеся из основной массы значения. В основном, стоимость большинства заказов находится в диапазоне до 20 000."
      ]
    },
    {
      "cell_type": "code",
      "execution_count": null,
      "metadata": {
        "id": "RXnWGzuN1Q27",
        "outputId": "fa2ae76f-4a62-4ee4-f299-d27324d36cec"
      },
      "outputs": [
        {
          "data": {
            "image/png": "[encoded data removed]",
            "text/plain": [
              "<Figure size 432x288 with 1 Axes>"
            ]
          },
          "metadata": {
            "needs_background": "light"
          },
          "output_type": "display_data"
        }
      ],
      "source": [
        "#Построим точечный график стоимостей заказов\n",
        "x_values = pd.Series(range(0,len(orders['revenue'])))\n",
        "\n",
        "plt.scatter(x_values, orders['revenue']) \n",
        "plt.title('Точечный график стоимостей заказов')\n",
        "plt.xlabel('Пользователи')\n",
        "plt.ylabel('Стоимость заказов')\n",
        "plt.ylim(0,20000)\n",
        "plt.grid(True)\n",
        "\n",
        "plt.show()"
      ]
    },
    {
      "cell_type": "markdown",
      "metadata": {
        "id": "TwlTu-_H1Q2-"
      },
      "source": [
        "По **Точечному графику стоимостей заказов до 20 000** видно, что очень много заказов на рубеже до 2500, по 7500 уже значительно меньше пользователей совершает покупки."
      ]
    },
    {
      "cell_type": "markdown",
      "metadata": {
        "id": "B_JnPMG21Q3A"
      },
      "source": [
        "### Посчитайте 95-й и 99-й перцентили стоимости заказов. Выберите границу для определения аномальных заказов."
      ]
    },
    {
      "cell_type": "code",
      "execution_count": null,
      "metadata": {
        "id": "-e-CAidJ1Q3C",
        "outputId": "3c400c2b-5bd1-46be-f7e4-2dd1da2f2857"
      },
      "outputs": [
        {
          "data": {
            "text/plain": [
              "array([28000. , 58233.2])"
            ]
          },
          "execution_count": 76,
          "metadata": {},
          "output_type": "execute_result"
        }
      ],
      "source": [
        "#Определим  95 и 99 перцентили стоимости заказов\n",
        "np.percentile(orders['revenue'], [95, 99])"
      ]
    },
    {
      "cell_type": "markdown",
      "metadata": {
        "id": "AADOV7uI1Q3I"
      },
      "source": [
        "По посчитанным **95-й и 99-й перцентилям стоимости заказов** получили, что 5% совершили заказ на 28 000, и лишь 1% на 58233.2. "
      ]
    },
    {
      "cell_type": "markdown",
      "metadata": {
        "id": "gtDzcpi11Q3K"
      },
      "source": [
        "### Посчитайте статистическую значимость различий в среднем количестве заказов на посетителя между группами по «сырым» данным. Сделайте выводы и предположения.\n",
        "\n",
        "Посчитаем статистическую значимость различий в среднем числе заказов на пользователя и среднем чеке между группами по «сырым» данным — без удаления аномальных пользователей.\n",
        "\n",
        "Сформулируем гипотезы. Нулевая: различий в среднем количестве заказов между группами нет.\n",
        "\n",
        "Альтернативная: различия в среднем между группами есть.\n"
      ]
    },
    {
      "cell_type": "code",
      "execution_count": null,
      "metadata": {
        "id": "ItSQB6H21Q3S",
        "outputId": "56ff2529-bd64-4684-b257-e5190a291287"
      },
      "outputs": [
        {
          "name": "stdout",
          "output_type": "stream",
          "text": [
            "p-значение:  9.431352044110174e-19\n",
            "Отвергаем нулевую гипотезу: распределение не нормально\n"
          ]
        }
      ],
      "source": [
        "# Проверим, нормально ли распределены стоимости заказов\n",
        "alpha = 0.05  # критический уровень статистической значимости\n",
        "\n",
        "results = stats.shapiro(x_values)\n",
        "p_value = results[\n",
        "    1\n",
        "]  # второе значение в массиве результатов (с индексом 1) - p-value\n",
        "\n",
        "print('p-значение: ', p_value)\n",
        "\n",
        "if p_value < alpha:\n",
        "    print('Отвергаем нулевую гипотезу: распределение не нормально')\n",
        "else:\n",
        "    print('Не получилось отвергнуть нулевую гипотезу, всё нормально') "
      ]
    },
    {
      "cell_type": "markdown",
      "metadata": {
        "id": "cpRu5sSh1Q3V"
      },
      "source": [
        "    \n",
        "**Применим тест Манна-Уитни.**\n",
        "    \n",
        "Главное отличие этого непараметрического метода в том, что он работают с рангами, — номерами значений в упорядоченном ряду, — никак не учитывая сами значения. Поэтому к нему прибегают тогда, когда работа с самими значениями невозможна из-за выбросов, сильно сдвигающих параметрические результаты. А выбросы  у нас есть. \n",
        "    \n",
        "  И второе условие тоже есть - распределение стоимости заказов не нормально.\n",
        "    \n"
      ]
    },
    {
      "cell_type": "code",
      "execution_count": null,
      "metadata": {
        "id": "KaBG45c81Q3Z"
      },
      "outputs": [],
      "source": [
        "#количество заказов в выбранную дату в группе A\n",
        "visitorsADaily = visitors[visitors['group'] == 'A'][['date', 'visitors']]\n",
        "visitorsADaily.columns = ['date', 'visitorsPerDateA']"
      ]
    },
    {
      "cell_type": "code",
      "execution_count": null,
      "metadata": {
        "id": "yrsItt5n1Q3c"
      },
      "outputs": [],
      "source": [
        "# количество пользователей до выбранной даты включительно в группе A\n",
        "visitorsACummulative = visitorsADaily.apply(\n",
        "    lambda x: visitorsADaily[visitorsADaily['date'] <= x['date']].agg(\n",
        "        {'date': 'max', 'visitorsPerDateA': 'sum'}\n",
        "    ),\n",
        "    axis=1,\n",
        ")\n",
        "visitorsACummulative.columns = ['date', 'visitorsCummulativeA']"
      ]
    },
    {
      "cell_type": "code",
      "execution_count": null,
      "metadata": {
        "id": "jJPHOssx1Q3g"
      },
      "outputs": [],
      "source": [
        "#количество заказов в выбранную дату в группе B\n",
        "visitorsBDaily = visitors[visitors['group'] == 'B'][['date', 'visitors']]\n",
        "visitorsBDaily.columns = ['date', 'visitorsPerDateB']"
      ]
    },
    {
      "cell_type": "code",
      "execution_count": null,
      "metadata": {
        "id": "VdF-6uq71Q3j"
      },
      "outputs": [],
      "source": [
        "## количество пользователей до выбранной даты включительно в группе B\n",
        "visitorsBCummulative = visitorsBDaily.apply(\n",
        "    lambda x: visitorsBDaily[visitorsBDaily['date'] <= x['date']].agg(\n",
        "        {'date': 'max', 'visitorsPerDateB': 'sum'}\n",
        "    ),\n",
        "    axis=1,\n",
        ")\n",
        "visitorsBCummulative.columns = ['date', 'visitorsCummulativeB']"
      ]
    },
    {
      "cell_type": "code",
      "execution_count": null,
      "metadata": {
        "id": "NWKf-2IE1Q3r"
      },
      "outputs": [],
      "source": [
        "#ordersPerDateA — количество заказов в выбранную дату в группе A;\n",
        "#revenuePerDateA — суммарная выручка в выбранную дату в группе A;\n",
        "ordersADaily = (\n",
        "    orders[orders['group'] == 'A'][['date', 'transactionId', 'visitorId', 'revenue']]\n",
        "    .groupby('date', as_index=False)\n",
        "    .agg({'transactionId': pd.Series.nunique, 'revenue': 'sum'})\n",
        ")\n",
        "ordersADaily.columns = ['date', 'ordersPerDateA', 'revenuePerDateA']"
      ]
    },
    {
      "cell_type": "code",
      "execution_count": null,
      "metadata": {
        "id": "wy_3_T1C1Q3v"
      },
      "outputs": [],
      "source": [
        "#ordersCummulativeA — суммарное число заказов до выбранной даты включительно в группе A;\n",
        "#revenueCummulativeA — суммарная выручка до выбранной даты включительно в группе A;\n",
        "ordersACummulative = ordersADaily.apply(\n",
        "    lambda x: ordersADaily[ordersADaily['date'] <= x['date']].agg(\n",
        "        {'date': 'max', 'ordersPerDateA': 'sum', 'revenuePerDateA': 'sum'}\n",
        "    ),\n",
        "    axis=1,\n",
        ").sort_values(by=['date'])\n",
        "ordersACummulative.columns = [\n",
        "    'date',\n",
        "    'ordersCummulativeA',\n",
        "    'revenueCummulativeA',\n",
        "]"
      ]
    },
    {
      "cell_type": "code",
      "execution_count": null,
      "metadata": {
        "id": "1Mj3wJGh1Q3z"
      },
      "outputs": [],
      "source": [
        "#ordersPerDateB — количество заказов в выбранную дату в группе B;\n",
        "#revenuePerDateB — суммарная выручка в выбранную дату в группе B;\n",
        "ordersBDaily = (\n",
        "    orders[orders['group'] == 'B'][['date', 'transactionId', 'visitorId', 'revenue']]\n",
        "    .groupby('date', as_index=False)\n",
        "    .agg({'transactionId': pd.Series.nunique, 'revenue': 'sum'})\n",
        ")\n",
        "ordersBDaily.columns = ['date', 'ordersPerDateB', 'revenuePerDateB']"
      ]
    },
    {
      "cell_type": "code",
      "execution_count": null,
      "metadata": {
        "id": "xr1Yoz3c1Q35"
      },
      "outputs": [],
      "source": [
        "#ordersCummulativeB — суммарное число заказов до выбранной даты включительно в группе B;\n",
        "#revenueCummulativeB — суммарная выручка до выбранной даты включительно в группе B;\n",
        "ordersBCummulative = ordersBDaily.apply(\n",
        "    lambda x: ordersBDaily[ordersBDaily['date'] <= x['date']].agg(\n",
        "        {'date': 'max', 'ordersPerDateB': 'sum', 'revenuePerDateB': 'sum'}\n",
        "    ),\n",
        "    axis=1,\n",
        ").sort_values(by=['date'])\n",
        "\n",
        "ordersBCummulative.columns = [\n",
        "    'date',\n",
        "    'ordersCummulativeB',\n",
        "    'revenueCummulativeB',\n",
        "]"
      ]
    },
    {
      "cell_type": "code",
      "execution_count": null,
      "metadata": {
        "id": "lCaCWKaP1Q39",
        "outputId": "91429318-13a3-4dad-fb72-a72fe6647eeb"
      },
      "outputs": [
        {
          "name": "stdout",
          "output_type": "stream",
          "text": [
            "        date  ordersPerDateA  revenuePerDateA  ordersPerDateB  \\\n",
            "0 2019-08-01              24           148579              21   \n",
            "1 2019-08-02              20            93822              24   \n",
            "2 2019-08-03              24           112473              16   \n",
            "3 2019-08-04              16            70825              17   \n",
            "4 2019-08-05              25           124218              23   \n",
            "\n",
            "   revenuePerDateB  ordersCummulativeA  revenueCummulativeA  \\\n",
            "0           101217                  24               148579   \n",
            "1           165531                  44               242401   \n",
            "2           114248                  68               354874   \n",
            "3           108571                  84               425699   \n",
            "4            92428                 109               549917   \n",
            "\n",
            "   ordersCummulativeB  revenueCummulativeB  visitorsPerDateA  \\\n",
            "0                  21               101217               719   \n",
            "1                  45               266748               619   \n",
            "2                  61               380996               507   \n",
            "3                  78               489567               717   \n",
            "4                 101               581995               756   \n",
            "\n",
            "   visitorsPerDateB  visitorsCummulativeA  visitorsCummulativeB  \n",
            "0               713                   719                   713  \n",
            "1               581                  1338                  1294  \n",
            "2               509                  1845                  1803  \n",
            "3               770                  2562                  2573  \n",
            "4               707                  3318                  3280  \n"
          ]
        }
      ],
      "source": [
        "#объединим данные в один датафрейм\n",
        "data = (\n",
        "    ordersADaily.merge(\n",
        "        ordersBDaily, left_on='date', right_on='date', how='left'\n",
        "    )\n",
        "    .merge(ordersACummulative, left_on='date', right_on='date', how='left')\n",
        "    .merge(ordersBCummulative, left_on='date', right_on='date', how='left')\n",
        "    .merge(visitorsADaily, left_on='date', right_on='date', how='left')\n",
        "    .merge(visitorsBDaily, left_on='date', right_on='date', how='left')\n",
        "    .merge(visitorsACummulative, left_on='date', right_on='date', how='left')\n",
        "    .merge(visitorsBCummulative, left_on='date', right_on='date', how='left')\n",
        ")\n",
        "\n",
        "print(data.head(5)) "
      ]
    },
    {
      "cell_type": "code",
      "execution_count": null,
      "metadata": {
        "id": "TXzqKZ9l1Q4C"
      },
      "outputs": [],
      "source": [
        "#Создадим переменную ordersByUsersA со столбцами ['userId', 'orders'] для группы А \n",
        "ordersByUsersA = (\n",
        "    orders[orders['group'] == 'A']\n",
        "    .groupby('visitorId', as_index=False)\n",
        "    .agg({'transactionId': pd.Series.nunique})\n",
        ")\n",
        "ordersByUsersA.columns = ['userId', 'orders']"
      ]
    },
    {
      "cell_type": "code",
      "execution_count": null,
      "metadata": {
        "id": "9VKoEQJr1Q4F"
      },
      "outputs": [],
      "source": [
        "#Создадим переменную ordersByUsersВ со столбцами ['userId', 'orders']для группы В\n",
        "ordersByUsersB = (\n",
        "    orders[orders['group'] == 'B']\n",
        "    .groupby('visitorId', as_index=False)\n",
        "    .agg({'transactionId': pd.Series.nunique})\n",
        ")\n",
        "ordersByUsersB.columns = ['userId', 'orders'] "
      ]
    },
    {
      "cell_type": "markdown",
      "metadata": {
        "id": "qlp_548x1Q4I"
      },
      "source": [
        "Объявим переменные sampleA и sampleB, в которых пользователям из разных групп будет соответствовать количество заказов. Тем, кто ничего не заказал, будут соответствовать нули. Это нужно, чтобы подготовить выборки к проверке критерием Манна-Уитни."
      ]
    },
    {
      "cell_type": "code",
      "execution_count": null,
      "metadata": {
        "id": "7T7787kl1Q4J"
      },
      "outputs": [],
      "source": [
        "sampleA = pd.concat(\n",
        "    [\n",
        "        ordersByUsersA['orders'],\n",
        "        pd.Series(\n",
        "            0,\n",
        "            index=np.arange(\n",
        "                data['visitorsPerDateA'].sum() - len(ordersByUsersA['orders'])\n",
        "            ),\n",
        "            name='orders',\n",
        "        ),\n",
        "    ],\n",
        "    axis=0,\n",
        ")"
      ]
    },
    {
      "cell_type": "code",
      "execution_count": null,
      "metadata": {
        "id": "i8VRMDFY1Q4N"
      },
      "outputs": [],
      "source": [
        "sampleB = pd.concat(\n",
        "    [\n",
        "        ordersByUsersB['orders'],\n",
        "        pd.Series(\n",
        "            0,\n",
        "            index=np.arange(\n",
        "                data['visitorsPerDateB'].sum() - len(ordersByUsersB['orders'])\n",
        "            ),\n",
        "            name='orders',\n",
        "        ),\n",
        "    ],\n",
        "    axis=0,\n",
        ")"
      ]
    },
    {
      "cell_type": "code",
      "execution_count": null,
      "metadata": {
        "scrolled": true,
        "id": "AFy3b5V71Q4P",
        "outputId": "dc75ab48-e6aa-4507-a64f-97917ff5bcbf"
      },
      "outputs": [
        {
          "name": "stdout",
          "output_type": "stream",
          "text": [
            "p-value: 0.017\n"
          ]
        }
      ],
      "source": [
        "#Выведем относительный прирост среднего числа заказов группы B\n",
        "print('p-value:',\"{0:.3f}\".format(stats.mannwhitneyu(sampleA, sampleB)[1]))"
      ]
    },
    {
      "cell_type": "code",
      "execution_count": null,
      "metadata": {
        "id": "DB2srNsT1Q4S",
        "outputId": "f36cfb53-9b9d-4429-8be2-d1ec8ff00430"
      },
      "outputs": [
        {
          "name": "stdout",
          "output_type": "stream",
          "text": [
            "Относительная разница между сравниваемыми величинами: 0.138\n"
          ]
        }
      ],
      "source": [
        "#Выведем относительный прирост среднего числа заказов группы B по отношению к группе А\n",
        "print('Относительная разница между сравниваемыми величинами:',\\\n",
        "        \"{0:.3f}\".format(sampleB.mean() / sampleA.mean() - 1))"
      ]
    },
    {
      "cell_type": "markdown",
      "metadata": {
        "id": "eByN8Lys1Q4U"
      },
      "source": [
        "Вывод: По «сырым» данным различия в среднем числе заказов групп A и B есть. \n",
        "Первое число — p-value = 0.017 меньше 0.05. \n",
        "\n",
        "Значит, нулевую гипотезу о том, что статистически значимых различий в среднем числе заказов между группами нет,  отвергаем. Однако относительный выигрыш группы B равен 13.8% — второе число в выводе."
      ]
    },
    {
      "cell_type": "markdown",
      "metadata": {
        "id": "hWwOU1Mk1Q4f"
      },
      "source": [
        "### Посчитайте статистическую значимость различий в среднем чеке заказа между группами по «сырым» данным. Сделайте выводы и предположения."
      ]
    },
    {
      "cell_type": "markdown",
      "metadata": {
        "id": "YMTkP_EQ1Q4h"
      },
      "source": [
        "Теперь проверим статистическую значимость различий в среднем чеке между сегментами. \n",
        "\n",
        "Нулевая гипотеза: различий в среднем чеке между группами нет. \n",
        "\n",
        "Альтернативная гипотеза: различия в среднем чеке между группами есть"
      ]
    },
    {
      "cell_type": "code",
      "execution_count": null,
      "metadata": {
        "id": "iVJ0L1Me1Q4j",
        "outputId": "56734b13-925c-440f-991f-112254c09642"
      },
      "outputs": [
        {
          "name": "stdout",
          "output_type": "stream",
          "text": [
            "p-value: 0.729\n"
          ]
        }
      ],
      "source": [
        "#Рассчитаем статистическую значимость различий в среднем чеке\n",
        "print('p-value:','{0:.3f}'.format(stats.mannwhitneyu(orders[orders['group']=='A']\\\n",
        "                                          ['revenue'], orders[orders['group']=='B']['revenue'])[1]))"
      ]
    },
    {
      "cell_type": "code",
      "execution_count": null,
      "metadata": {
        "id": "SZMyY4Cj1Q4m",
        "outputId": "85327910-292e-4b9e-a75f-a058f39f4335"
      },
      "outputs": [
        {
          "name": "stdout",
          "output_type": "stream",
          "text": [
            "относительная разница между сравниваемыми величинами: 0.259\n"
          ]
        }
      ],
      "source": [
        "#найдём относительные различия в среднем чеке между группами\n",
        "print('Относительная разница между сравниваемыми величинами:',\\\n",
        "        '{0:.3f}'.format(orders[orders['group']=='B']['revenue'].\\\n",
        "                         mean()/orders[orders['group']=='A']['revenue'].mean()-1))"
      ]
    },
    {
      "cell_type": "markdown",
      "metadata": {
        "id": "VAXVzHa-1Q4p"
      },
      "source": [
        "P-value значительно больше 0.05. Значит, **причин отвергать нулевую гипотезу** и считать, что в среднем чеке есть различия, **нет**. Впрочем, средний чек группы B выше среднего чека группы A на  25,9%."
      ]
    },
    {
      "cell_type": "markdown",
      "metadata": {
        "id": "a7Lonjml1Q4t"
      },
      "source": [
        "Напомним, что найденные  95-й и 99-й перцентили средних чеков равны 28 000 и 58 233.2 рублям. А 95-й и 99-й перцентили количества заказов на одного пользователя равны 2 и 4 заказа на пользователя.\n",
        "\n",
        "**Примем за аномальных пользователей** тех, кто совершил **больше 2 заказов** или совершил заказ **дороже 28 000 рублей**. Так мы уберём 5% пользователей с наибольшим числом заказов и от 1% до 5% пользователей с дорогими заказами. \n",
        "\n",
        "Сделаем срезы пользователей с числом заказов больше 2 — usersWithManyOrders и пользователей, совершивших заказы дороже 28 000 — usersWithExpensiveOrders. Объединим их в таблице abnormalUsers. \n",
        "Узнаем, сколько всего аномальных пользователей"
      ]
    },
    {
      "cell_type": "code",
      "execution_count": null,
      "metadata": {
        "id": "PGLdEDcp1Q4y",
        "outputId": "d3a635e8-93c2-4caa-835f-fec709527175"
      },
      "outputs": [
        {
          "name": "stdout",
          "output_type": "stream",
          "text": [
            "1099    148427295\n",
            "18      199603092\n",
            "928     204675465\n",
            "23      237748145\n",
            "37      249864742\n",
            "dtype: int64\n",
            "74\n"
          ]
        }
      ],
      "source": [
        "x=2 #число покупок для верхней границы\n",
        "usersWithManyOrders = pd.concat(\n",
        "    [\n",
        "        ordersByUsersA[ordersByUsersA['orders'] > np.percentile(x, 95)]['userId'],\n",
        "        ordersByUsersB[ordersByUsersB['orders'] > np.percentile(x, 95)]['userId'],\n",
        "    ],\n",
        "    axis=0,\n",
        ")\n",
        "usersWithExpensiveOrders = orders[orders['revenue'] > 28000]['visitorId']\n",
        "abnormalUsers = (\n",
        "    pd.concat([usersWithManyOrders, usersWithExpensiveOrders], axis=0)\n",
        "    .drop_duplicates()\n",
        "    .sort_values()\n",
        ")\n",
        "print(abnormalUsers.head(5))\n",
        "print(abnormalUsers.shape[0]) "
      ]
    },
    {
      "cell_type": "markdown",
      "metadata": {
        "id": "KMmowp9D1Q40"
      },
      "source": [
        "74 аномальных пользователей. \n",
        "Узнаем, как их действия повлияли на результаты теста. Посчитаем статистическую значимость различий в среднем количестве заказов между группами теста по очищенным данным. Сначала подготовим выборки количества заказов по пользователям по группам теста:"
      ]
    },
    {
      "cell_type": "code",
      "execution_count": null,
      "metadata": {
        "id": "q9dgjOct1Q5E",
        "outputId": "7bb96d8d-2519-4241-ac0a-34120eee99fa"
      },
      "outputs": [
        {
          "name": "stdout",
          "output_type": "stream",
          "text": [
            "Oтносительные потери составляют(%): 7.18\n"
          ]
        }
      ],
      "source": [
        "#отношение количества аномальных пользователей к общем количеству пользователей\n",
        "print('Oтносительные потери составляют(%):',\\\n",
        "        round(((len(abnormalUsers)/orders['visitorId'].nunique())*100), 2))"
      ]
    },
    {
      "cell_type": "markdown",
      "metadata": {
        "id": "4DyoKF3K1Q5H"
      },
      "source": [
        "\n",
        "Oтносительные потери после удаления 74 аномальных пользователей составляют: 7.18%\n",
        "  "
      ]
    },
    {
      "cell_type": "code",
      "execution_count": null,
      "metadata": {
        "id": "XBUErA1X1Q5J"
      },
      "outputs": [],
      "source": [
        "sampleAFiltered = pd.concat(\n",
        "    [\n",
        "        ordersByUsersA[\n",
        "            np.logical_not(ordersByUsersA['userId'].isin(abnormalUsers))\n",
        "        ]['orders'],\n",
        "        pd.Series(\n",
        "            0,\n",
        "            index=np.arange(\n",
        "                data['visitorsPerDateA'].sum() - len(ordersByUsersA['orders'])\n",
        "            ),\n",
        "            name='orders',\n",
        "        ),\n",
        "    ],\n",
        "    axis=0,\n",
        ")\n",
        "\n",
        "sampleBFiltered = pd.concat(\n",
        "    [\n",
        "        ordersByUsersB[\n",
        "            np.logical_not(ordersByUsersB['userId'].isin(abnormalUsers))\n",
        "        ]['orders'],\n",
        "        pd.Series(\n",
        "            0,\n",
        "            index=np.arange(\n",
        "                data['visitorsPerDateB'].sum() - len(ordersByUsersB['orders'])\n",
        "            ),\n",
        "            name='orders',\n",
        "        ),\n",
        "    ],\n",
        "    axis=0,\n",
        ") "
      ]
    },
    {
      "cell_type": "code",
      "execution_count": null,
      "metadata": {
        "id": "W4ZjJBmx1Q5K",
        "outputId": "08b1f0f8-284e-4674-f8c4-a7571fb2a997"
      },
      "outputs": [
        {
          "name": "stdout",
          "output_type": "stream",
          "text": [
            "p-value: 0.013\n",
            "Относительная разница между сравниваемыми величинами: 0.173\n"
          ]
        }
      ],
      "source": [
        "#Применим статистический критерий Манна-Уитни к полученным выборкам\n",
        "print('p-value:','{0:.3f}'.format(stats.mannwhitneyu(sampleAFiltered, sampleBFiltered)[1]))\n",
        "print('Относительная разница между сравниваемыми величинами:',\\\n",
        "      '{0:.3f}'.format(sampleBFiltered.mean()/sampleAFiltered.mean()-1)) "
      ]
    },
    {
      "cell_type": "markdown",
      "metadata": {
        "id": "BpBiV2Ry1Q5N"
      },
      "source": [
        "После очищения от аномальных выбросов результаты **по среднему количеству заказов** практически не изменились. Было 0.017 стало 0,013. Разница между сегментами: было 0,138 стало 0,173. т.е незначительно увеличилось количество заказов в группе В по отношению к группе А."
      ]
    },
    {
      "cell_type": "code",
      "execution_count": null,
      "metadata": {
        "id": "b5Ul1W0m1Q5Q",
        "outputId": "d8eb7de6-e4cf-469e-9f86-b74f80270260"
      },
      "outputs": [
        {
          "name": "stdout",
          "output_type": "stream",
          "text": [
            "p-value:0.738\n",
            "Относительная разница между сравниваемыми величинами: -0.020\n"
          ]
        }
      ],
      "source": [
        "#результаты по среднему чеку\n",
        "print('p-value:'\n",
        "    '{0:.3f}'.format(\n",
        "        stats.mannwhitneyu(\n",
        "            orders[\n",
        "                np.logical_and(\n",
        "                    orders['group'] == 'A',\n",
        "                    np.logical_not(orders['visitorId'].isin(abnormalUsers)),\n",
        "                )\n",
        "            ]['revenue'],\n",
        "            orders[\n",
        "                np.logical_and(\n",
        "                    orders['group'] == 'B',\n",
        "                    np.logical_not(orders['visitorId'].isin(abnormalUsers)),\n",
        "                )\n",
        "            ]['revenue'],\n",
        "        )[1]\n",
        "    )\n",
        ")\n",
        "\n",
        "print('Относительная разница между сравниваемыми величинами:',\n",
        "    \"{0:.3f}\".format(\n",
        "        orders[\n",
        "            np.logical_and(\n",
        "                orders['group'] == 'B',\n",
        "                np.logical_not(orders['visitorId'].isin(abnormalUsers)),\n",
        "            )\n",
        "        ]['revenue'].mean()\n",
        "        / orders[\n",
        "            np.logical_and(\n",
        "                orders['group'] == 'A',\n",
        "                np.logical_not(orders['visitorId'].isin(abnormalUsers)),\n",
        "            )\n",
        "        ]['revenue'].mean()\n",
        "        - 1\n",
        "    )\n",
        ") "
      ]
    },
    {
      "cell_type": "markdown",
      "metadata": {
        "id": "VFmTLLMR1Q5U"
      },
      "source": [
        "После очищения от аномальных выбросов результаты **по среднему чеку** P-value увеличился, Было 0.729 стало 0,738. Но и разница между сегментами изменилась. Было 0.259 стало -0,020. Т.е. аномально большая сумма заказов была в группе В, что искажало общую картину. После удаления информации об этих заказах, видно, что средний чек в группе В ниже, чем у группы А на 20%."
      ]
    },
    {
      "cell_type": "markdown",
      "metadata": {
        "id": "8upzxVm41Q5Y"
      },
      "source": [
        "### Выводы\n",
        "Подготовим список гипотез для увеличения выручки в интернет-магазине.\n",
        "\n",
        "**При ознакомлении с таблицами данных:** Таблица **orders** содержит информацию о заказах. **visitors** хранит дату, группу и количество пользователей в указанную дату в указанной группе A/B-теста.   В **hypothesis** 9 гипотез по увеличению выручки интернет-магазина с указанными параметрами Reach, Impact, Confidence, Effort.\n",
        "\n",
        "Привели все данные к нужному типу данных. Обнаружили. что пустых значений в таблицах нет, дубликатов нет. Однако,  одни и е же пользователи попали в две группы теста-их 58 человек - это говорит об ошибке в сборе данных. Удаление этих пользователей повлияет на конверсию, поскольку мы можем удалить этих пользователей из таблицы с заказами, но не можем удалить из таблицы с визитами, так ка там данные агрегированы за день. Принято решение не удалять пользователей, попавших в обе группы.\n",
        "\n",
        "Наиболее перспективны гипотезы по методу **ICE 8,0,7**:\n",
        "- 8 \tЗапустить акцию, дающую скидку на товар в день рождения -\t16.2\n",
        "- 0 \tДобавить два новых канала привлечения трафика, что позволит привлекать на 30% больше пользователей -\t13.3\n",
        "- 7 \tДобавить форму подписки на все основные страницы, чтобы собрать базу клиентов для email-рассылок -\t11.2\n",
        "\n",
        "Наиболее перспективны гипотезы по методу **RICE 7,2,0,6**.\n",
        "- 7 \tДобавить форму подписки на все основные страницы, чтобы собрать базу клиентов для email-рассылок -\t112.0\n",
        "- 2 \tДобавить блоки рекомендаций товаров на сайт интернет магазина, чтобы повысить конверсию и средний чек заказа -\t56.0\n",
        "- 0 \tДобавить два новых канала привлечения трафика, что позволит привлекать на 30% больше пользователей -\t40.0\n",
        "- 6 \tПоказать на главной странице баннеры с актуальными акциями и распродажами, чтобы увеличить конверсию -\t40.0\n",
        "\n",
        "Изменилась приоритизация гипотез при применении RICE вместо ICE, охваты пользователей, использованные в методе RICE повлияли на изменения.\n",
        "\n",
        "По **Графику кумулятивной выручки** увидели , что оба значения групп А и В ростут приблизитльно в одном диапазоне где-то до 17 августе, по после которого значение группы В имеет явный скачок. Кумулятивная выручка  у группы В больше на протяжении всего времени.\n",
        "\n",
        "По **Графику кумулятивного среднего чека по группам А,B** отметили, что Средний чек группы В выше на протяжении всего периода, кроме начала месяца и 13 августа. Виден, также резкий скачок после 17 августа, что говорит об резком увеличении среднего чека в группе В.С последующим медленным спадом. В группе А идет сначала спад с начала месяца до 06 августа, а затем увеличени кумулятивного среднего чека до 13 августа. Далее значение колеблется вдоль одной суммы в 7000. Графики выручки обеих групп в нескольких точках резко растут. Это может сигнализировать о всплесках числа заказов, либо о появлении очень дорогих заказов в выборке. \n",
        "\n",
        "По графику **Относительного изменения кумулятивного среднего чека группы B к группе A**  видно, что средний чек группы В выше везде, кроме начала месяца и 13 августа.В нескольких точках график различия между сегментами резко «скачет». Возможно, имеются крупные заказы и выбросы.\n",
        "\n",
        "Отметили по графику **Кумулятивного среднего количества заказов на посетителя по группам А, В** , что значения находятся в диапазоне от 2,9 до 3,7.В начале кумулятивное среднее количество заказов имеет пиковые значения в обоих группах,  у  группы А больше,но затем пошла на спад с 05 августа и колеблется в одном диапазоне, а у группы В наблюдается также плавный спад.\n",
        "\n",
        "По графику **Относительного прироста конверсии группы B относительно группы A** видели, что в начале теста группа B значительно проигрывала группе A, затем вырвалась вперёд и находилась в одном диапазоне.\n",
        "\n",
        "Выявили, что есть пользователи, которые совершали и по 11,9,8 и 5 заказов.\n",
        "\n",
        "По **Точечной диаграмме числа заказов на одного пользователя** много пользователей с 1 и 2 заказами, с 3-мя уже меньше значительно. И есть выбивающиеся заказы в районе 8,9,11.\n",
        "\n",
        "По **Гистрограмме распределения количества заказов на одного пользователя** также видели, что оснавная масса пользователей совершает больше всего едоничных покупок, значительно меньше уже по 2 покупки, остальные еще меньше.\n",
        "\n",
        "По посчитанным **95-й и 99-й перцентилям количества заказов на пользователя** получили, что Не более 5% пользователей оформляли 2 заказов. И 1% пользователей заказывали более 4 раз. \n",
        "Разумно выбрать 2  заказа на одного пользователя за верхнюю границу числа заказов, и отсеять аномальных пользователей по ней.\n",
        "\n",
        "По **Точечному графику стоимостей заказов** видно, что имеются выбивающиеся из основной массы значения. В основном, стоимость большинства заказов находится в диапазоне до 20 000.\n",
        "\n",
        "По **Точечному графику стоимостей заказов до 20 000** видно, что очень много заказов на рубеже до 2500, по 7500 уже значительно меньше пользователей совершает покупки.\n",
        "\n",
        "По посчитанным **95-й и 99-й перцентилям стоимости заказов** получили, что 5% совершили заказ на 28 000, и лишь 1% на 58233.2. Выявили 74 аномальных пользователей. Oтносительные потери после удаления 74 аномальных пользователей составили: 7.18%. Узнали, как их действия повлияли на результаты теста.\n",
        "\n",
        "**Применим тест Манна-Уитни.**\n",
        "Главное отличие этого непараметрического метода в том, что он работают с рангами, — номерами значений в упорядоченном ряду, — никак не учитывая сами значения. Поэтому к нему прибегают тогда, когда работа с самими значениями невозможна из-за выбросов, сильно сдвигающих параметрические результаты. А выбросы  у нас есть. \n",
        "    \n",
        "  И второе условие тоже есть - распределение стоимости заказов не нормально.\n",
        "\n",
        "Посчитали **статистическую значимость различий в среднем числе заказов на пользователя и среднем чеке между группами по «сырым» данным — без удаления аномальных пользователей**.\n",
        "\n",
        "- Сформулируем гипотезы. Нулевая: различий в среднем количестве заказов между группами нет.\n",
        "\n",
        "- Альтернативная: различия в среднем между группами есть.\n",
        "\n",
        "Вывод: По «сырым» данным различия в среднем числе заказов групп A и B есть. \n",
        "Первое число — p-value = 0.017 меньше 0.05. \n",
        "\n",
        "Значит, нулевую гипотезу о том, что статистически значимых различий в среднем числе заказов между группами нет,  отвергаем. Однако относительный выигрыш группы B равен 13.8% — второе число в выводе.\n",
        "\n",
        "Проверили **статистическую значимость различий в среднем чеке между сегментами**. \n",
        "\n",
        "- Нулевая гипотеза: различий в среднем чеке между группами нет. \n",
        "\n",
        "- Альтернативная гипотеза: различия в среднем чеке между группами есть\n",
        "\n",
        "P-value значительно больше 0.05. Значит, причин отвергать нулевую гипотезу и считать, что в среднем чеке есть различия, нет. Впрочем, средний чек группы B выше среднего чека группы A на 25,9%.\n",
        "\n",
        "Приняли за аномальных пользователей тех, кто совершил больше 2 заказов или совершил заказ дороже 28 000 рублей. Так мы уберём 5% пользователей с наибольшим числом заказов и от 1% до 5% пользователей с дорогими заказами. \n",
        "\n",
        "После очищения от аномальных выбросов результаты **по среднему количеству заказов** практически не изменились. Было 0.017 стало 0,013. Разница между сегментами: было 0,138 стало 0,173.т.е незначительно увеличилось количество заказов в группе В по отношению к группе А.\n",
        "\n",
        "После очищения от аномальных выбросов результаты **по среднему чеку** P-value увеличился, Было 0.729 стало 0,738. Но и разница между сегментами изменилась. Было 0.259 стало -0,020. Т.е. аномально большая сумма заказов была в группе В, что искажало общую картину. После удаления информации об этих заказах, видно, что средний чек в группе В ниже, чем у группы А на 20%.\n",
        "\n",
        "\n",
        "- Есть статистически значимое различие по среднему количеству заказов между группами  по «сырым», и по данным после фильтрации аномалий ;\n",
        "- Есть статистически значимое различие по среднему чеку между группами  по «сырым», и по данным после фильтрации аномалий;\n",
        "- Oтносительные различия в среднем чеке между группами после удаления аномальных значений изменились значительно. По «сырым» данным средний чек группы В был больше на 25,9%, чем у группы А. А после фильтрации стал ниже на 20%, чем у группы А.\n",
        "- Также незначительно увеличилось количество заказов после удаления аномальных значений в группе В по отношению к группе А.\n",
        "\n",
        " Остановим тест, зафиксировав  различия между группами.\n"
      ]
    }
  ],
  "metadata": {
    "ExecuteTimeLog": [
      {
        "duration": 814,
        "start_time": "2023-02-11T18:43:42.242Z"
      },
      {
        "duration": 82,
        "start_time": "2023-02-11T18:43:43.147Z"
      },
      {
        "duration": 1132,
        "start_time": "2023-02-11T18:44:32.491Z"
      },
      {
        "duration": 11,
        "start_time": "2023-02-11T18:45:03.911Z"
      },
      {
        "duration": 17,
        "start_time": "2023-02-11T18:46:22.491Z"
      },
      {
        "duration": 6,
        "start_time": "2023-02-11T18:47:52.827Z"
      },
      {
        "duration": 12,
        "start_time": "2023-02-11T18:48:16.037Z"
      },
      {
        "duration": 873,
        "start_time": "2023-02-13T11:11:00.038Z"
      },
      {
        "duration": 74,
        "start_time": "2023-02-13T11:11:00.913Z"
      },
      {
        "duration": 8,
        "start_time": "2023-02-13T11:11:01.788Z"
      },
      {
        "duration": 11,
        "start_time": "2023-02-13T11:11:03.462Z"
      },
      {
        "duration": 7,
        "start_time": "2023-02-13T11:11:08.606Z"
      },
      {
        "duration": 10,
        "start_time": "2023-02-13T11:11:12.108Z"
      },
      {
        "duration": 89,
        "start_time": "2023-02-13T11:11:15.656Z"
      },
      {
        "duration": 317,
        "start_time": "2023-02-13T11:11:16.627Z"
      },
      {
        "duration": 26,
        "start_time": "2023-02-13T11:12:11.890Z"
      },
      {
        "duration": 218,
        "start_time": "2023-02-13T11:12:50.573Z"
      },
      {
        "duration": 28,
        "start_time": "2023-02-13T11:13:02.367Z"
      },
      {
        "duration": 25,
        "start_time": "2023-02-13T11:13:09.986Z"
      },
      {
        "duration": 10,
        "start_time": "2023-02-13T11:13:16.061Z"
      },
      {
        "duration": 11,
        "start_time": "2023-02-13T11:14:24.717Z"
      },
      {
        "duration": 5,
        "start_time": "2023-02-13T11:15:23.693Z"
      },
      {
        "duration": 25,
        "start_time": "2023-02-13T11:16:06.869Z"
      },
      {
        "duration": 12,
        "start_time": "2023-02-13T11:16:39.923Z"
      },
      {
        "duration": 171,
        "start_time": "2023-02-13T11:17:17.218Z"
      },
      {
        "duration": 119,
        "start_time": "2023-02-13T11:17:18.956Z"
      },
      {
        "duration": 11,
        "start_time": "2023-02-13T11:17:30.881Z"
      },
      {
        "duration": 5,
        "start_time": "2023-02-13T11:18:55.007Z"
      },
      {
        "duration": 5,
        "start_time": "2023-02-13T11:18:56.431Z"
      },
      {
        "duration": 8,
        "start_time": "2023-02-13T11:18:57.460Z"
      },
      {
        "duration": 434,
        "start_time": "2023-02-13T11:19:17.536Z"
      },
      {
        "duration": 273,
        "start_time": "2023-02-13T11:19:32.367Z"
      },
      {
        "duration": 202,
        "start_time": "2023-02-13T11:20:17.778Z"
      },
      {
        "duration": 301,
        "start_time": "2023-02-13T11:21:26.786Z"
      },
      {
        "duration": 5,
        "start_time": "2023-02-13T11:25:13.450Z"
      },
      {
        "duration": 3,
        "start_time": "2023-02-13T11:25:15.049Z"
      },
      {
        "duration": 4,
        "start_time": "2023-02-13T11:25:15.893Z"
      },
      {
        "duration": 196,
        "start_time": "2023-02-13T11:25:16.565Z"
      },
      {
        "duration": 19,
        "start_time": "2023-02-13T11:27:00.144Z"
      },
      {
        "duration": 8,
        "start_time": "2023-02-13T11:27:12.918Z"
      },
      {
        "duration": 298,
        "start_time": "2023-02-13T11:27:13.756Z"
      },
      {
        "duration": 751,
        "start_time": "2023-02-13T11:29:46.547Z"
      },
      {
        "duration": 140,
        "start_time": "2023-02-13T11:30:42.305Z"
      },
      {
        "duration": 14,
        "start_time": "2023-02-13T11:33:53.161Z"
      },
      {
        "duration": 20,
        "start_time": "2023-02-13T11:34:10.803Z"
      },
      {
        "duration": 210,
        "start_time": "2023-02-13T11:34:49.571Z"
      },
      {
        "duration": 10,
        "start_time": "2023-02-13T11:35:55.511Z"
      },
      {
        "duration": 111,
        "start_time": "2023-02-13T11:36:19.010Z"
      },
      {
        "duration": 109,
        "start_time": "2023-02-13T11:37:20.915Z"
      },
      {
        "duration": 207,
        "start_time": "2023-02-13T11:37:25.554Z"
      },
      {
        "duration": 116,
        "start_time": "2023-02-13T11:37:40.666Z"
      },
      {
        "duration": 1253,
        "start_time": "2023-02-13T15:15:58.269Z"
      },
      {
        "duration": 154,
        "start_time": "2023-02-13T15:15:59.524Z"
      },
      {
        "duration": 8,
        "start_time": "2023-02-13T15:15:59.680Z"
      },
      {
        "duration": 9,
        "start_time": "2023-02-13T15:15:59.690Z"
      },
      {
        "duration": 7,
        "start_time": "2023-02-13T15:16:01.387Z"
      },
      {
        "duration": 10,
        "start_time": "2023-02-13T15:16:01.834Z"
      },
      {
        "duration": 103,
        "start_time": "2023-02-13T15:16:02.280Z"
      },
      {
        "duration": 176,
        "start_time": "2023-02-13T15:16:02.556Z"
      },
      {
        "duration": 127,
        "start_time": "2023-02-13T15:16:02.964Z"
      },
      {
        "duration": 60,
        "start_time": "2023-02-13T15:16:09.964Z"
      },
      {
        "duration": 30,
        "start_time": "2023-02-13T15:16:11.093Z"
      },
      {
        "duration": 7,
        "start_time": "2023-02-13T15:16:12.388Z"
      },
      {
        "duration": 174,
        "start_time": "2023-02-13T15:16:13.078Z"
      },
      {
        "duration": 139,
        "start_time": "2023-02-13T15:16:13.727Z"
      },
      {
        "duration": 10,
        "start_time": "2023-02-13T15:16:14.359Z"
      },
      {
        "duration": 6,
        "start_time": "2023-02-13T15:16:15.054Z"
      },
      {
        "duration": 4,
        "start_time": "2023-02-13T15:16:15.849Z"
      },
      {
        "duration": 271,
        "start_time": "2023-02-13T15:16:16.663Z"
      },
      {
        "duration": 174,
        "start_time": "2023-02-13T15:16:17.301Z"
      },
      {
        "duration": 327,
        "start_time": "2023-02-13T15:16:18.221Z"
      },
      {
        "duration": 4,
        "start_time": "2023-02-13T15:16:19.918Z"
      },
      {
        "duration": 4,
        "start_time": "2023-02-13T15:16:20.771Z"
      },
      {
        "duration": 4,
        "start_time": "2023-02-13T15:16:21.561Z"
      },
      {
        "duration": 220,
        "start_time": "2023-02-13T15:16:22.705Z"
      },
      {
        "duration": 9,
        "start_time": "2023-02-13T15:16:24.470Z"
      },
      {
        "duration": 270,
        "start_time": "2023-02-13T15:16:25.665Z"
      },
      {
        "duration": 139,
        "start_time": "2023-02-13T15:16:28.274Z"
      },
      {
        "duration": 9,
        "start_time": "2023-02-13T15:16:31.074Z"
      },
      {
        "duration": 109,
        "start_time": "2023-02-13T15:16:31.942Z"
      },
      {
        "duration": 126,
        "start_time": "2023-02-13T15:16:33.670Z"
      },
      {
        "duration": 4,
        "start_time": "2023-02-13T15:17:56.911Z"
      },
      {
        "duration": 5,
        "start_time": "2023-02-13T15:27:26.717Z"
      },
      {
        "duration": 73,
        "start_time": "2023-02-13T15:27:27.456Z"
      },
      {
        "duration": 5,
        "start_time": "2023-02-13T15:27:28.151Z"
      },
      {
        "duration": 57,
        "start_time": "2023-02-13T15:27:28.820Z"
      },
      {
        "duration": 15,
        "start_time": "2023-02-13T15:27:29.494Z"
      },
      {
        "duration": 86,
        "start_time": "2023-02-13T15:27:30.166Z"
      },
      {
        "duration": 16,
        "start_time": "2023-02-13T15:27:30.962Z"
      },
      {
        "duration": 61,
        "start_time": "2023-02-13T15:27:31.689Z"
      },
      {
        "duration": 31,
        "start_time": "2023-02-13T15:27:32.590Z"
      },
      {
        "duration": 137,
        "start_time": "2023-02-13T15:27:34.733Z"
      },
      {
        "duration": 94,
        "start_time": "2023-02-13T15:27:35.590Z"
      },
      {
        "duration": 7,
        "start_time": "2023-02-13T15:27:36.638Z"
      },
      {
        "duration": 5,
        "start_time": "2023-02-13T15:27:37.599Z"
      },
      {
        "duration": 28,
        "start_time": "2023-02-13T15:27:38.723Z"
      },
      {
        "duration": 6,
        "start_time": "2023-02-13T15:27:39.944Z"
      },
      {
        "duration": 15,
        "start_time": "2023-02-13T15:30:24.773Z"
      },
      {
        "duration": 13,
        "start_time": "2023-02-13T15:30:25.818Z"
      },
      {
        "duration": 5,
        "start_time": "2023-02-13T15:48:17.124Z"
      },
      {
        "duration": 7,
        "start_time": "2023-02-13T15:48:24.549Z"
      },
      {
        "duration": 151,
        "start_time": "2023-02-13T15:49:35.346Z"
      },
      {
        "duration": 3,
        "start_time": "2023-02-13T16:09:46.687Z"
      },
      {
        "duration": 34,
        "start_time": "2023-02-13T16:09:47.415Z"
      },
      {
        "duration": 7,
        "start_time": "2023-02-13T16:09:48.079Z"
      },
      {
        "duration": 10,
        "start_time": "2023-02-13T16:09:48.887Z"
      },
      {
        "duration": 7,
        "start_time": "2023-02-13T16:09:52.237Z"
      },
      {
        "duration": 11,
        "start_time": "2023-02-13T16:09:54.277Z"
      },
      {
        "duration": 69,
        "start_time": "2023-02-13T16:09:57.123Z"
      },
      {
        "duration": 32,
        "start_time": "2023-02-13T16:09:58.375Z"
      },
      {
        "duration": 8,
        "start_time": "2023-02-13T16:09:59.164Z"
      },
      {
        "duration": 261,
        "start_time": "2023-02-13T16:10:00.649Z"
      },
      {
        "duration": 144,
        "start_time": "2023-02-13T16:10:01.777Z"
      },
      {
        "duration": 11,
        "start_time": "2023-02-13T16:10:02.473Z"
      },
      {
        "duration": 9,
        "start_time": "2023-02-13T16:10:03.128Z"
      },
      {
        "duration": 5,
        "start_time": "2023-02-13T16:10:03.935Z"
      },
      {
        "duration": 239,
        "start_time": "2023-02-13T16:10:04.731Z"
      },
      {
        "duration": 190,
        "start_time": "2023-02-13T16:10:05.586Z"
      },
      {
        "duration": 322,
        "start_time": "2023-02-13T16:10:06.299Z"
      },
      {
        "duration": 5,
        "start_time": "2023-02-13T16:10:07.850Z"
      },
      {
        "duration": 4,
        "start_time": "2023-02-13T16:10:09.511Z"
      },
      {
        "duration": 4,
        "start_time": "2023-02-13T16:10:11.580Z"
      },
      {
        "duration": 195,
        "start_time": "2023-02-13T16:10:12.391Z"
      },
      {
        "duration": 9,
        "start_time": "2023-02-13T16:10:17.603Z"
      },
      {
        "duration": 316,
        "start_time": "2023-02-13T16:10:22.282Z"
      },
      {
        "duration": 135,
        "start_time": "2023-02-13T16:10:24.861Z"
      },
      {
        "duration": 5,
        "start_time": "2023-02-13T16:10:28.108Z"
      },
      {
        "duration": 170,
        "start_time": "2023-02-13T16:10:32.588Z"
      },
      {
        "duration": 116,
        "start_time": "2023-02-13T16:10:33.497Z"
      },
      {
        "duration": 6,
        "start_time": "2023-02-13T16:10:34.476Z"
      },
      {
        "duration": 1579,
        "start_time": "2023-02-13T16:22:17.887Z"
      },
      {
        "duration": 1369,
        "start_time": "2023-02-13T16:22:56.958Z"
      },
      {
        "duration": 82,
        "start_time": "2023-02-13T16:23:32.622Z"
      },
      {
        "duration": 76,
        "start_time": "2023-02-13T16:23:33.502Z"
      },
      {
        "duration": 1353,
        "start_time": "2023-02-13T16:23:34.192Z"
      },
      {
        "duration": 0,
        "start_time": "2023-02-13T16:23:35.547Z"
      },
      {
        "duration": 26,
        "start_time": "2023-02-13T16:23:35.781Z"
      },
      {
        "duration": 6,
        "start_time": "2023-02-13T16:24:07.836Z"
      },
      {
        "duration": 71,
        "start_time": "2023-02-13T16:24:08.559Z"
      },
      {
        "duration": 5,
        "start_time": "2023-02-13T16:24:09.295Z"
      },
      {
        "duration": 51,
        "start_time": "2023-02-13T16:24:10.093Z"
      },
      {
        "duration": 15,
        "start_time": "2023-02-13T16:24:11.060Z"
      },
      {
        "duration": 56,
        "start_time": "2023-02-13T16:24:12.001Z"
      },
      {
        "duration": 24,
        "start_time": "2023-02-13T16:24:12.709Z"
      },
      {
        "duration": 88,
        "start_time": "2023-02-13T16:24:13.458Z"
      },
      {
        "duration": 39,
        "start_time": "2023-02-13T16:24:14.520Z"
      },
      {
        "duration": 82,
        "start_time": "2023-02-13T16:24:16.497Z"
      },
      {
        "duration": 104,
        "start_time": "2023-02-13T16:24:17.393Z"
      },
      {
        "duration": 6,
        "start_time": "2023-02-13T16:24:18.401Z"
      },
      {
        "duration": 5,
        "start_time": "2023-02-13T16:24:19.678Z"
      },
      {
        "duration": 41,
        "start_time": "2023-02-13T16:24:20.504Z"
      },
      {
        "duration": 5,
        "start_time": "2023-02-13T16:24:21.461Z"
      },
      {
        "duration": 9,
        "start_time": "2023-02-13T16:24:23.732Z"
      },
      {
        "duration": 10,
        "start_time": "2023-02-13T16:24:24.699Z"
      },
      {
        "duration": 1599,
        "start_time": "2023-02-13T16:24:27.825Z"
      },
      {
        "duration": 15,
        "start_time": "2023-02-13T16:24:54.697Z"
      },
      {
        "duration": 9,
        "start_time": "2023-02-13T16:30:37.407Z"
      },
      {
        "duration": 24,
        "start_time": "2023-02-13T16:31:07.619Z"
      },
      {
        "duration": 1399,
        "start_time": "2023-02-13T16:33:15.823Z"
      },
      {
        "duration": 1369,
        "start_time": "2023-02-13T16:34:14.707Z"
      },
      {
        "duration": 16,
        "start_time": "2023-02-13T16:34:30.408Z"
      },
      {
        "duration": 309,
        "start_time": "2023-02-13T17:46:29.663Z"
      },
      {
        "duration": 213,
        "start_time": "2023-02-13T17:47:08.895Z"
      },
      {
        "duration": 215,
        "start_time": "2023-02-13T17:47:33.770Z"
      },
      {
        "duration": 232,
        "start_time": "2023-02-13T17:50:05.626Z"
      },
      {
        "duration": 395,
        "start_time": "2023-02-13T18:20:56.388Z"
      },
      {
        "duration": 200,
        "start_time": "2023-02-13T18:21:55.984Z"
      },
      {
        "duration": 207,
        "start_time": "2023-02-13T18:22:45.091Z"
      },
      {
        "duration": 3,
        "start_time": "2023-02-13T18:37:50.857Z"
      },
      {
        "duration": 36,
        "start_time": "2023-02-13T18:37:51.807Z"
      },
      {
        "duration": 78,
        "start_time": "2023-02-13T18:38:04.168Z"
      },
      {
        "duration": 33,
        "start_time": "2023-02-13T18:39:06.350Z"
      },
      {
        "duration": 33,
        "start_time": "2023-02-13T18:41:26.255Z"
      },
      {
        "duration": 9,
        "start_time": "2023-02-13T18:49:19.819Z"
      },
      {
        "duration": 5,
        "start_time": "2023-02-13T18:52:13.034Z"
      },
      {
        "duration": 11,
        "start_time": "2023-02-13T19:00:54.613Z"
      },
      {
        "duration": 61,
        "start_time": "2023-02-13T19:01:01.759Z"
      },
      {
        "duration": 5,
        "start_time": "2023-02-13T19:01:05.897Z"
      },
      {
        "duration": 7,
        "start_time": "2023-02-13T19:04:11.268Z"
      },
      {
        "duration": 10,
        "start_time": "2023-02-13T19:04:14.164Z"
      },
      {
        "duration": 7,
        "start_time": "2023-02-13T19:04:17.800Z"
      },
      {
        "duration": 6,
        "start_time": "2023-02-13T19:05:33.381Z"
      },
      {
        "duration": 9,
        "start_time": "2023-02-13T19:05:34.706Z"
      },
      {
        "duration": 6,
        "start_time": "2023-02-13T19:05:35.567Z"
      },
      {
        "duration": 1311,
        "start_time": "2023-02-14T08:22:38.425Z"
      },
      {
        "duration": 11,
        "start_time": "2023-02-14T08:22:39.858Z"
      },
      {
        "duration": 89,
        "start_time": "2023-02-14T08:22:42.781Z"
      },
      {
        "duration": 63,
        "start_time": "2023-02-14T08:22:44.888Z"
      },
      {
        "duration": 4,
        "start_time": "2023-02-14T08:22:48.508Z"
      },
      {
        "duration": 5,
        "start_time": "2023-02-14T08:22:50.367Z"
      },
      {
        "duration": 5,
        "start_time": "2023-02-14T08:22:52.295Z"
      },
      {
        "duration": 8,
        "start_time": "2023-02-14T08:22:55.281Z"
      },
      {
        "duration": 7,
        "start_time": "2023-02-14T08:22:56.312Z"
      },
      {
        "duration": 8,
        "start_time": "2023-02-14T08:22:57.859Z"
      },
      {
        "duration": 8,
        "start_time": "2023-02-14T08:22:59.763Z"
      },
      {
        "duration": 7,
        "start_time": "2023-02-14T08:23:01.139Z"
      },
      {
        "duration": 5,
        "start_time": "2023-02-14T08:23:02.102Z"
      },
      {
        "duration": 11,
        "start_time": "2023-02-14T08:23:31.423Z"
      },
      {
        "duration": 5,
        "start_time": "2023-02-14T08:33:35.910Z"
      },
      {
        "duration": 4,
        "start_time": "2023-02-14T08:33:41.527Z"
      },
      {
        "duration": 4,
        "start_time": "2023-02-14T08:33:58.159Z"
      },
      {
        "duration": 4,
        "start_time": "2023-02-14T08:34:22.115Z"
      },
      {
        "duration": 26,
        "start_time": "2023-02-14T08:35:17.744Z"
      },
      {
        "duration": 5,
        "start_time": "2023-02-14T08:35:38.411Z"
      },
      {
        "duration": 7,
        "start_time": "2023-02-14T08:36:19.859Z"
      },
      {
        "duration": 5,
        "start_time": "2023-02-14T08:38:12.648Z"
      },
      {
        "duration": 5,
        "start_time": "2023-02-14T08:39:45.281Z"
      },
      {
        "duration": 96,
        "start_time": "2023-02-14T08:50:37.966Z"
      },
      {
        "duration": 8,
        "start_time": "2023-02-14T08:50:46.648Z"
      },
      {
        "duration": 12,
        "start_time": "2023-02-14T08:50:47.472Z"
      },
      {
        "duration": 7,
        "start_time": "2023-02-14T08:50:48.853Z"
      },
      {
        "duration": 12,
        "start_time": "2023-02-14T08:50:49.551Z"
      },
      {
        "duration": 6,
        "start_time": "2023-02-14T08:50:51.904Z"
      },
      {
        "duration": 167,
        "start_time": "2023-02-14T08:50:52.755Z"
      },
      {
        "duration": 122,
        "start_time": "2023-02-14T08:50:53.561Z"
      },
      {
        "duration": 13,
        "start_time": "2023-02-14T08:50:54.315Z"
      },
      {
        "duration": 6,
        "start_time": "2023-02-14T08:50:55.184Z"
      },
      {
        "duration": 5,
        "start_time": "2023-02-14T08:50:56.283Z"
      },
      {
        "duration": 289,
        "start_time": "2023-02-14T08:50:57.504Z"
      },
      {
        "duration": 201,
        "start_time": "2023-02-14T08:50:59.777Z"
      },
      {
        "duration": 365,
        "start_time": "2023-02-14T08:51:01.351Z"
      },
      {
        "duration": 4,
        "start_time": "2023-02-14T08:51:03.856Z"
      },
      {
        "duration": 5,
        "start_time": "2023-02-14T08:51:04.750Z"
      },
      {
        "duration": 5,
        "start_time": "2023-02-14T08:51:05.549Z"
      },
      {
        "duration": 317,
        "start_time": "2023-02-14T08:51:06.258Z"
      },
      {
        "duration": 227,
        "start_time": "2023-02-14T08:51:55.449Z"
      },
      {
        "duration": 739,
        "start_time": "2023-02-14T08:54:02.943Z"
      },
      {
        "duration": 5,
        "start_time": "2023-02-14T08:54:15.182Z"
      },
      {
        "duration": 9,
        "start_time": "2023-02-14T08:56:55.672Z"
      },
      {
        "duration": 5,
        "start_time": "2023-02-14T08:57:14.880Z"
      },
      {
        "duration": 1269,
        "start_time": "2023-02-15T08:44:50.555Z"
      },
      {
        "duration": 144,
        "start_time": "2023-02-15T08:44:51.826Z"
      },
      {
        "duration": 104,
        "start_time": "2023-02-15T08:44:51.971Z"
      },
      {
        "duration": 83,
        "start_time": "2023-02-15T08:44:56.390Z"
      },
      {
        "duration": 5,
        "start_time": "2023-02-15T08:44:59.954Z"
      },
      {
        "duration": 5,
        "start_time": "2023-02-15T08:45:00.899Z"
      },
      {
        "duration": 5,
        "start_time": "2023-02-15T08:45:13.157Z"
      },
      {
        "duration": 7,
        "start_time": "2023-02-15T08:45:16.429Z"
      },
      {
        "duration": 6,
        "start_time": "2023-02-15T08:45:17.273Z"
      },
      {
        "duration": 6,
        "start_time": "2023-02-15T08:45:18.046Z"
      },
      {
        "duration": 119,
        "start_time": "2023-02-15T08:48:06.733Z"
      },
      {
        "duration": 3,
        "start_time": "2023-02-15T08:48:22.556Z"
      },
      {
        "duration": 10,
        "start_time": "2023-02-15T08:51:18.395Z"
      },
      {
        "duration": 10,
        "start_time": "2023-02-15T08:52:31.662Z"
      },
      {
        "duration": 13,
        "start_time": "2023-02-15T08:53:36.773Z"
      },
      {
        "duration": 11,
        "start_time": "2023-02-15T09:10:22.362Z"
      },
      {
        "duration": 11,
        "start_time": "2023-02-15T09:11:09.737Z"
      },
      {
        "duration": 3,
        "start_time": "2023-02-15T09:49:17.527Z"
      },
      {
        "duration": 32,
        "start_time": "2023-02-15T09:49:18.187Z"
      },
      {
        "duration": 51,
        "start_time": "2023-02-15T09:49:18.918Z"
      },
      {
        "duration": 34,
        "start_time": "2023-02-15T09:49:21.089Z"
      },
      {
        "duration": 5,
        "start_time": "2023-02-15T09:49:24.753Z"
      },
      {
        "duration": 6,
        "start_time": "2023-02-15T09:49:27.038Z"
      },
      {
        "duration": 7,
        "start_time": "2023-02-15T09:49:28.923Z"
      },
      {
        "duration": 7,
        "start_time": "2023-02-15T09:49:30.585Z"
      },
      {
        "duration": 7,
        "start_time": "2023-02-15T09:49:31.292Z"
      },
      {
        "duration": 8,
        "start_time": "2023-02-15T09:49:32.079Z"
      },
      {
        "duration": 7,
        "start_time": "2023-02-15T09:49:34.656Z"
      },
      {
        "duration": 6,
        "start_time": "2023-02-15T09:49:35.606Z"
      },
      {
        "duration": 4,
        "start_time": "2023-02-15T09:53:56.415Z"
      },
      {
        "duration": 4,
        "start_time": "2023-02-15T09:54:57.531Z"
      },
      {
        "duration": 14,
        "start_time": "2023-02-15T10:00:56.907Z"
      },
      {
        "duration": 15,
        "start_time": "2023-02-15T10:01:06.958Z"
      },
      {
        "duration": 14,
        "start_time": "2023-02-15T10:01:28.078Z"
      },
      {
        "duration": 10,
        "start_time": "2023-02-15T10:01:47.664Z"
      },
      {
        "duration": 12,
        "start_time": "2023-02-15T10:04:51.632Z"
      },
      {
        "duration": 3,
        "start_time": "2023-02-15T10:07:16.819Z"
      },
      {
        "duration": 10,
        "start_time": "2023-02-15T10:11:31.267Z"
      },
      {
        "duration": 6,
        "start_time": "2023-02-15T10:11:39.687Z"
      },
      {
        "duration": 151,
        "start_time": "2023-02-15T10:11:40.296Z"
      },
      {
        "duration": 111,
        "start_time": "2023-02-15T10:11:40.835Z"
      },
      {
        "duration": 10,
        "start_time": "2023-02-15T10:11:41.399Z"
      },
      {
        "duration": 5,
        "start_time": "2023-02-15T10:11:42.004Z"
      },
      {
        "duration": 5,
        "start_time": "2023-02-15T10:11:42.808Z"
      },
      {
        "duration": 293,
        "start_time": "2023-02-15T10:11:43.536Z"
      },
      {
        "duration": 185,
        "start_time": "2023-02-15T10:36:00.743Z"
      },
      {
        "duration": 180,
        "start_time": "2023-02-15T10:36:11.494Z"
      },
      {
        "duration": 13,
        "start_time": "2023-02-15T10:44:10.265Z"
      },
      {
        "duration": 3,
        "start_time": "2023-02-15T10:44:14.057Z"
      },
      {
        "duration": 4,
        "start_time": "2023-02-15T10:44:14.737Z"
      },
      {
        "duration": 4,
        "start_time": "2023-02-15T10:44:15.357Z"
      },
      {
        "duration": 296,
        "start_time": "2023-02-15T10:44:16.181Z"
      },
      {
        "duration": 214,
        "start_time": "2023-02-15T10:44:56.472Z"
      },
      {
        "duration": 305,
        "start_time": "2023-02-15T10:45:03.120Z"
      },
      {
        "duration": 238,
        "start_time": "2023-02-15T10:45:22.917Z"
      },
      {
        "duration": 302,
        "start_time": "2023-02-15T10:45:51.788Z"
      },
      {
        "duration": 1150,
        "start_time": "2023-02-15T14:12:36.926Z"
      },
      {
        "duration": 162,
        "start_time": "2023-02-15T14:12:38.078Z"
      },
      {
        "duration": 114,
        "start_time": "2023-02-15T14:12:38.666Z"
      },
      {
        "duration": 91,
        "start_time": "2023-02-15T14:12:39.451Z"
      },
      {
        "duration": 4,
        "start_time": "2023-02-15T14:12:40.925Z"
      },
      {
        "duration": 5,
        "start_time": "2023-02-15T14:12:41.607Z"
      },
      {
        "duration": 4,
        "start_time": "2023-02-15T14:12:42.281Z"
      },
      {
        "duration": 7,
        "start_time": "2023-02-15T14:12:43.526Z"
      },
      {
        "duration": 7,
        "start_time": "2023-02-15T14:12:43.858Z"
      },
      {
        "duration": 9,
        "start_time": "2023-02-15T14:12:44.464Z"
      },
      {
        "duration": 9,
        "start_time": "2023-02-15T14:12:45.425Z"
      },
      {
        "duration": 5,
        "start_time": "2023-02-15T14:12:45.859Z"
      },
      {
        "duration": 5,
        "start_time": "2023-02-15T14:12:46.386Z"
      },
      {
        "duration": 4,
        "start_time": "2023-02-15T14:12:46.883Z"
      },
      {
        "duration": 10,
        "start_time": "2023-02-15T14:12:47.314Z"
      },
      {
        "duration": 6,
        "start_time": "2023-02-15T14:12:48.192Z"
      },
      {
        "duration": 5,
        "start_time": "2023-02-15T14:12:48.624Z"
      },
      {
        "duration": 6,
        "start_time": "2023-02-15T14:12:49.212Z"
      },
      {
        "duration": 17,
        "start_time": "2023-02-15T14:12:51.073Z"
      },
      {
        "duration": 18,
        "start_time": "2023-02-15T14:12:53.021Z"
      },
      {
        "duration": 7,
        "start_time": "2023-02-15T14:12:56.110Z"
      },
      {
        "duration": 161,
        "start_time": "2023-02-15T14:12:56.860Z"
      },
      {
        "duration": 113,
        "start_time": "2023-02-15T14:12:57.341Z"
      },
      {
        "duration": 10,
        "start_time": "2023-02-15T14:12:57.951Z"
      },
      {
        "duration": 4,
        "start_time": "2023-02-15T14:12:58.624Z"
      },
      {
        "duration": 4,
        "start_time": "2023-02-15T14:12:59.248Z"
      },
      {
        "duration": 291,
        "start_time": "2023-02-15T14:12:59.820Z"
      },
      {
        "duration": 187,
        "start_time": "2023-02-15T14:13:03.114Z"
      },
      {
        "duration": 411,
        "start_time": "2023-02-15T14:13:06.244Z"
      },
      {
        "duration": 4,
        "start_time": "2023-02-15T14:13:13.534Z"
      },
      {
        "duration": 4,
        "start_time": "2023-02-15T14:13:14.229Z"
      },
      {
        "duration": 4,
        "start_time": "2023-02-15T14:13:14.801Z"
      },
      {
        "duration": 222,
        "start_time": "2023-02-15T14:13:15.379Z"
      },
      {
        "duration": 97,
        "start_time": "2023-02-15T14:30:37.537Z"
      },
      {
        "duration": 9,
        "start_time": "2023-02-15T14:37:22.714Z"
      },
      {
        "duration": 7,
        "start_time": "2023-02-15T14:37:36.646Z"
      },
      {
        "duration": 137,
        "start_time": "2023-02-15T14:37:40.179Z"
      },
      {
        "duration": 9,
        "start_time": "2023-02-15T14:38:49.630Z"
      },
      {
        "duration": 115,
        "start_time": "2023-02-15T14:44:48.176Z"
      },
      {
        "duration": 124,
        "start_time": "2023-02-15T14:46:18.674Z"
      },
      {
        "duration": 122,
        "start_time": "2023-02-15T14:47:01.139Z"
      },
      {
        "duration": 117,
        "start_time": "2023-02-15T14:47:16.767Z"
      },
      {
        "duration": 181,
        "start_time": "2023-02-15T14:48:08.221Z"
      },
      {
        "duration": 138,
        "start_time": "2023-02-15T14:49:05.726Z"
      },
      {
        "duration": 139,
        "start_time": "2023-02-15T14:49:11.765Z"
      },
      {
        "duration": 4,
        "start_time": "2023-02-15T14:53:32.844Z"
      },
      {
        "duration": 142,
        "start_time": "2023-02-15T14:57:20.792Z"
      },
      {
        "duration": 5,
        "start_time": "2023-02-15T15:17:17.335Z"
      },
      {
        "duration": 4,
        "start_time": "2023-02-15T15:17:25.120Z"
      },
      {
        "duration": 11,
        "start_time": "2023-02-15T15:58:59.717Z"
      },
      {
        "duration": 12,
        "start_time": "2023-02-15T16:00:41.398Z"
      },
      {
        "duration": 12,
        "start_time": "2023-02-15T16:01:45.671Z"
      },
      {
        "duration": 105,
        "start_time": "2023-02-15T16:15:54.938Z"
      },
      {
        "duration": 10,
        "start_time": "2023-02-15T16:16:05.085Z"
      },
      {
        "duration": 5,
        "start_time": "2023-02-15T16:16:28.852Z"
      },
      {
        "duration": 43,
        "start_time": "2023-02-15T16:16:30.399Z"
      },
      {
        "duration": 5,
        "start_time": "2023-02-15T16:16:31.179Z"
      },
      {
        "duration": 41,
        "start_time": "2023-02-15T16:16:31.857Z"
      },
      {
        "duration": 13,
        "start_time": "2023-02-15T16:16:32.499Z"
      },
      {
        "duration": 46,
        "start_time": "2023-02-15T16:16:33.241Z"
      },
      {
        "duration": 15,
        "start_time": "2023-02-15T16:16:33.751Z"
      },
      {
        "duration": 56,
        "start_time": "2023-02-15T16:16:34.220Z"
      },
      {
        "duration": 25,
        "start_time": "2023-02-15T16:16:34.720Z"
      },
      {
        "duration": 79,
        "start_time": "2023-02-15T16:16:35.313Z"
      },
      {
        "duration": 75,
        "start_time": "2023-02-15T16:16:36.022Z"
      },
      {
        "duration": 4,
        "start_time": "2023-02-15T16:16:37.707Z"
      },
      {
        "duration": 5,
        "start_time": "2023-02-15T16:16:38.600Z"
      },
      {
        "duration": 23,
        "start_time": "2023-02-15T16:16:39.440Z"
      },
      {
        "duration": 5,
        "start_time": "2023-02-15T16:16:40.203Z"
      },
      {
        "duration": 9,
        "start_time": "2023-02-15T16:16:45.212Z"
      },
      {
        "duration": 9,
        "start_time": "2023-02-15T16:16:46.326Z"
      },
      {
        "duration": 9,
        "start_time": "2023-02-15T16:16:50.821Z"
      },
      {
        "duration": 9,
        "start_time": "2023-02-15T16:17:03.789Z"
      },
      {
        "duration": 22,
        "start_time": "2023-02-15T16:17:04.741Z"
      },
      {
        "duration": 13,
        "start_time": "2023-02-15T16:17:18.477Z"
      },
      {
        "duration": 8,
        "start_time": "2023-02-15T16:17:40.965Z"
      },
      {
        "duration": 9,
        "start_time": "2023-02-15T16:17:45.833Z"
      },
      {
        "duration": 22,
        "start_time": "2023-02-15T16:17:47.454Z"
      },
      {
        "duration": 13,
        "start_time": "2023-02-15T16:17:58.669Z"
      },
      {
        "duration": 9,
        "start_time": "2023-02-15T16:21:05.098Z"
      },
      {
        "duration": 7,
        "start_time": "2023-02-15T16:21:10.308Z"
      },
      {
        "duration": 23,
        "start_time": "2023-02-15T16:21:11.214Z"
      },
      {
        "duration": 13,
        "start_time": "2023-02-15T16:21:13.995Z"
      },
      {
        "duration": 5,
        "start_time": "2023-02-15T16:27:33.628Z"
      },
      {
        "duration": 18,
        "start_time": "2023-02-15T16:28:40.020Z"
      },
      {
        "duration": 15,
        "start_time": "2023-02-15T16:29:28.929Z"
      },
      {
        "duration": 11,
        "start_time": "2023-02-15T16:29:53.695Z"
      },
      {
        "duration": 11,
        "start_time": "2023-02-15T16:30:34.983Z"
      },
      {
        "duration": 9,
        "start_time": "2023-02-15T16:30:59.174Z"
      },
      {
        "duration": 1280,
        "start_time": "2023-02-16T08:06:49.632Z"
      },
      {
        "duration": 155,
        "start_time": "2023-02-16T08:06:52.644Z"
      },
      {
        "duration": 125,
        "start_time": "2023-02-16T08:06:53.718Z"
      },
      {
        "duration": 88,
        "start_time": "2023-02-16T08:06:58.226Z"
      },
      {
        "duration": 4,
        "start_time": "2023-02-16T08:07:02.164Z"
      },
      {
        "duration": 6,
        "start_time": "2023-02-16T08:07:02.886Z"
      },
      {
        "duration": 5,
        "start_time": "2023-02-16T08:07:03.612Z"
      },
      {
        "duration": 8,
        "start_time": "2023-02-16T08:07:05.065Z"
      },
      {
        "duration": 9,
        "start_time": "2023-02-16T08:07:05.825Z"
      },
      {
        "duration": 6,
        "start_time": "2023-02-16T08:07:06.538Z"
      },
      {
        "duration": 5,
        "start_time": "2023-02-16T08:07:10.563Z"
      },
      {
        "duration": 5,
        "start_time": "2023-02-16T08:07:11.156Z"
      },
      {
        "duration": 4,
        "start_time": "2023-02-16T08:07:12.008Z"
      },
      {
        "duration": 4,
        "start_time": "2023-02-16T08:07:13.184Z"
      },
      {
        "duration": 11,
        "start_time": "2023-02-16T08:07:13.884Z"
      },
      {
        "duration": 6,
        "start_time": "2023-02-16T08:07:18.522Z"
      },
      {
        "duration": 6,
        "start_time": "2023-02-16T08:07:19.243Z"
      },
      {
        "duration": 6,
        "start_time": "2023-02-16T08:07:19.939Z"
      },
      {
        "duration": 13,
        "start_time": "2023-02-16T08:07:26.049Z"
      },
      {
        "duration": 5,
        "start_time": "2023-02-16T08:41:33.815Z"
      },
      {
        "duration": 6,
        "start_time": "2023-02-16T08:42:34.688Z"
      },
      {
        "duration": 10,
        "start_time": "2023-02-16T08:43:31.889Z"
      },
      {
        "duration": 13,
        "start_time": "2023-02-16T08:49:05.068Z"
      },
      {
        "duration": 13,
        "start_time": "2023-02-16T08:50:33.869Z"
      },
      {
        "duration": 103,
        "start_time": "2023-02-16T08:59:44.246Z"
      },
      {
        "duration": 6,
        "start_time": "2023-02-16T08:59:51.620Z"
      },
      {
        "duration": 162,
        "start_time": "2023-02-16T08:59:52.389Z"
      },
      {
        "duration": 126,
        "start_time": "2023-02-16T08:59:53.146Z"
      },
      {
        "duration": 10,
        "start_time": "2023-02-16T08:59:53.951Z"
      },
      {
        "duration": 6,
        "start_time": "2023-02-16T08:59:55.689Z"
      },
      {
        "duration": 4,
        "start_time": "2023-02-16T08:59:56.520Z"
      },
      {
        "duration": 282,
        "start_time": "2023-02-16T08:59:57.322Z"
      },
      {
        "duration": 200,
        "start_time": "2023-02-16T09:00:00.227Z"
      },
      {
        "duration": 314,
        "start_time": "2023-02-16T09:00:03.787Z"
      },
      {
        "duration": 299,
        "start_time": "2023-02-16T09:03:31.451Z"
      },
      {
        "duration": 267,
        "start_time": "2023-02-16T09:03:44.884Z"
      },
      {
        "duration": 274,
        "start_time": "2023-02-16T09:03:57.980Z"
      },
      {
        "duration": 331,
        "start_time": "2023-02-16T09:04:05.317Z"
      },
      {
        "duration": 3,
        "start_time": "2023-02-16T09:04:38.947Z"
      },
      {
        "duration": 4,
        "start_time": "2023-02-16T09:04:39.750Z"
      },
      {
        "duration": 4,
        "start_time": "2023-02-16T09:04:40.696Z"
      },
      {
        "duration": 192,
        "start_time": "2023-02-16T09:04:41.419Z"
      },
      {
        "duration": 7,
        "start_time": "2023-02-16T09:04:50.120Z"
      },
      {
        "duration": 319,
        "start_time": "2023-02-16T09:04:51.864Z"
      },
      {
        "duration": 377,
        "start_time": "2023-02-16T09:05:07.803Z"
      },
      {
        "duration": 247,
        "start_time": "2023-02-16T09:05:45.803Z"
      },
      {
        "duration": 271,
        "start_time": "2023-02-16T09:05:59.977Z"
      },
      {
        "duration": 340,
        "start_time": "2023-02-16T09:06:15.041Z"
      },
      {
        "duration": 300,
        "start_time": "2023-02-16T09:10:20.035Z"
      },
      {
        "duration": 5,
        "start_time": "2023-02-16T09:11:42.039Z"
      },
      {
        "duration": 9,
        "start_time": "2023-02-16T09:11:43.070Z"
      },
      {
        "duration": 117,
        "start_time": "2023-02-16T09:11:48.782Z"
      },
      {
        "duration": 121,
        "start_time": "2023-02-16T09:11:54.283Z"
      },
      {
        "duration": 4,
        "start_time": "2023-02-16T09:12:00.166Z"
      },
      {
        "duration": 130,
        "start_time": "2023-02-16T09:12:03.889Z"
      },
      {
        "duration": 146,
        "start_time": "2023-02-16T09:16:09.847Z"
      },
      {
        "duration": 153,
        "start_time": "2023-02-16T09:16:19.793Z"
      },
      {
        "duration": 134,
        "start_time": "2023-02-16T09:16:25.747Z"
      },
      {
        "duration": 208,
        "start_time": "2023-02-16T09:16:40.659Z"
      },
      {
        "duration": 153,
        "start_time": "2023-02-16T09:16:52.800Z"
      },
      {
        "duration": 148,
        "start_time": "2023-02-16T09:17:13.537Z"
      },
      {
        "duration": 5,
        "start_time": "2023-02-16T09:34:27.105Z"
      },
      {
        "duration": 5,
        "start_time": "2023-02-16T09:36:46.243Z"
      },
      {
        "duration": 4,
        "start_time": "2023-02-16T09:37:09.331Z"
      },
      {
        "duration": 9,
        "start_time": "2023-02-16T09:37:23.532Z"
      },
      {
        "duration": 10,
        "start_time": "2023-02-16T09:37:31.735Z"
      },
      {
        "duration": 5,
        "start_time": "2023-02-16T09:45:09.346Z"
      },
      {
        "duration": 5,
        "start_time": "2023-02-16T09:48:09.529Z"
      },
      {
        "duration": 10,
        "start_time": "2023-02-16T09:51:28.134Z"
      },
      {
        "duration": 6,
        "start_time": "2023-02-16T09:51:34.945Z"
      },
      {
        "duration": 48,
        "start_time": "2023-02-16T09:51:35.649Z"
      },
      {
        "duration": 8,
        "start_time": "2023-02-16T09:51:36.273Z"
      },
      {
        "duration": 48,
        "start_time": "2023-02-16T09:51:36.842Z"
      },
      {
        "duration": 14,
        "start_time": "2023-02-16T09:51:37.395Z"
      },
      {
        "duration": 58,
        "start_time": "2023-02-16T09:51:37.866Z"
      },
      {
        "duration": 20,
        "start_time": "2023-02-16T09:51:38.357Z"
      },
      {
        "duration": 71,
        "start_time": "2023-02-16T09:51:38.835Z"
      },
      {
        "duration": 25,
        "start_time": "2023-02-16T09:51:39.835Z"
      },
      {
        "duration": 75,
        "start_time": "2023-02-16T09:51:42.301Z"
      },
      {
        "duration": 84,
        "start_time": "2023-02-16T09:51:43.130Z"
      },
      {
        "duration": 9,
        "start_time": "2023-02-16T09:51:45.050Z"
      },
      {
        "duration": 5,
        "start_time": "2023-02-16T09:51:45.852Z"
      },
      {
        "duration": 25,
        "start_time": "2023-02-16T09:51:46.873Z"
      },
      {
        "duration": 5,
        "start_time": "2023-02-16T09:52:31.826Z"
      },
      {
        "duration": 74,
        "start_time": "2023-02-16T09:53:18.918Z"
      },
      {
        "duration": 103,
        "start_time": "2023-02-16T09:53:35.180Z"
      },
      {
        "duration": 11,
        "start_time": "2023-02-16T09:55:02.964Z"
      },
      {
        "duration": 7,
        "start_time": "2023-02-16T09:58:38.665Z"
      },
      {
        "duration": 5,
        "start_time": "2023-02-16T09:58:59.295Z"
      },
      {
        "duration": 6,
        "start_time": "2023-02-16T09:59:18.835Z"
      },
      {
        "duration": 4,
        "start_time": "2023-02-16T09:59:52.240Z"
      },
      {
        "duration": 77,
        "start_time": "2023-02-16T10:01:20.738Z"
      },
      {
        "duration": 110,
        "start_time": "2023-02-16T10:01:41.490Z"
      },
      {
        "duration": 5,
        "start_time": "2023-02-16T10:01:58.541Z"
      },
      {
        "duration": 8,
        "start_time": "2023-02-16T10:02:20.664Z"
      },
      {
        "duration": 9,
        "start_time": "2023-02-16T10:06:18.093Z"
      },
      {
        "duration": 8,
        "start_time": "2023-02-16T10:06:38.256Z"
      },
      {
        "duration": 12,
        "start_time": "2023-02-16T10:20:15.049Z"
      },
      {
        "duration": 10,
        "start_time": "2023-02-16T10:20:19.884Z"
      },
      {
        "duration": 8,
        "start_time": "2023-02-16T10:20:26.825Z"
      },
      {
        "duration": 36,
        "start_time": "2023-02-16T10:20:28.278Z"
      },
      {
        "duration": 13,
        "start_time": "2023-02-16T10:21:01.656Z"
      },
      {
        "duration": 14,
        "start_time": "2023-02-16T10:21:10.146Z"
      },
      {
        "duration": 5,
        "start_time": "2023-02-16T10:21:38.072Z"
      },
      {
        "duration": 21,
        "start_time": "2023-02-16T10:21:50.797Z"
      },
      {
        "duration": 7,
        "start_time": "2023-02-16T10:21:54.750Z"
      },
      {
        "duration": 4,
        "start_time": "2023-02-16T10:22:13.842Z"
      },
      {
        "duration": 45,
        "start_time": "2023-02-16T10:22:29.937Z"
      },
      {
        "duration": 23,
        "start_time": "2023-02-16T10:23:00.742Z"
      },
      {
        "duration": 63,
        "start_time": "2023-02-16T18:34:50.102Z"
      },
      {
        "duration": 1347,
        "start_time": "2023-02-16T18:35:01.057Z"
      },
      {
        "duration": 164,
        "start_time": "2023-02-16T18:35:03.775Z"
      },
      {
        "duration": 123,
        "start_time": "2023-02-16T18:35:06.767Z"
      },
      {
        "duration": 79,
        "start_time": "2023-02-16T18:35:10.684Z"
      },
      {
        "duration": 47,
        "start_time": "2023-02-16T18:35:53.727Z"
      },
      {
        "duration": 46,
        "start_time": "2023-02-16T18:36:01.448Z"
      },
      {
        "duration": 47,
        "start_time": "2023-02-16T18:36:04.243Z"
      }
    ],
    "kernelspec": {
      "display_name": "Python 3 (ipykernel)",
      "language": "python",
      "name": "python3"
    },
    "language_info": {
      "codemirror_mode": {
        "name": "ipython",
        "version": 3
      },
      "file_extension": ".py",
      "mimetype": "text/x-python",
      "name": "python",
      "nbconvert_exporter": "python",
      "pygments_lexer": "ipython3",
      "version": "3.9.5"
    },
    "toc": {
      "base_numbering": 1,
      "nav_menu": {},
      "number_sections": true,
      "sideBar": true,
      "skip_h1_title": true,
      "title_cell": "Table of Contents",
      "title_sidebar": "Contents",
      "toc_cell": false,
      "toc_position": {
        "height": "calc(100% - 180px)",
        "left": "10px",
        "top": "150px",
        "width": "336px"
      },
      "toc_section_display": true,
      "toc_window_display": true
    },
    "colab": {
      "provenance": []
    }
  },
  "nbformat": 4,
  "nbformat_minor": 0
}