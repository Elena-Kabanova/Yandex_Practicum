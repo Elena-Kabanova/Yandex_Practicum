{
  "cells": [
    {
      "cell_type": "markdown",
      "metadata": {
        "id": "9b9JCBB0aDmP"
      },
      "source": [
        "# Описание проекта\n",
        "Вы работаете в стартапе, который продаёт продукты питания. Нужно разобраться, как ведут себя пользователи вашего мобильного приложения. \n",
        "\n",
        "Изучите воронку продаж. Узнайте, как пользователи доходят до покупки. Сколько пользователей доходит до покупки, а сколько — «застревает» на предыдущих шагах? На каких именно?\n",
        "\n",
        "После этого исследуйте\n",
        "результаты A/A/B-эксперимента. Дизайнеры захотели поменять шрифты во всём приложении, а менеджеры испугались, что пользователям будет непривычно. Договорились принять решение по результатам A/A/B-теста. Пользователей разбили на 3 группы: 2 контрольные со старыми шрифтами и одну экспериментальную — с новыми. Выясните, какой шрифт лучше.\n",
        "\n",
        "Создание двух групп A вместо одной имеет определённые преимущества. Если две контрольные группы окажутся равны, вы можете быть уверены в точности проведенного тестирования. Если же между значениями A и A будут существенные различия, это поможет обнаружить факторы, которые привели к искажению результатов. Сравнение контрольных групп также помогает понять, сколько времени и данных потребуется для дальнейших тестов.\n",
        "\n",
        "В случае общей аналитики и A/A/B-эксперимента работайте с одними и теми же данными. В реальных проектах всегда идут эксперименты. Аналитики исследуют качество работы приложения по общим данным, не учитывая принадлежность пользователей к экспериментам."
      ]
    },
    {
      "cell_type": "markdown",
      "metadata": {
        "id": "m3DuTqBpaDmX"
      },
      "source": [
        "# Описание данных\n",
        "\n",
        "Каждая запись в логе — это действие пользователя, или событие. \n",
        "\n",
        "    • EventName — название события;\n",
        "    • DeviceIDHash — уникальный идентификатор пользователя;\n",
        "    • EventTimestamp — время события;\n",
        "    • ExpId — номер эксперимента: 246 и 247 — контрольные группы, а 248 — экспериментальная."
      ]
    },
    {
      "cell_type": "markdown",
      "metadata": {
        "id": "NaUjq56vaDmd"
      },
      "source": [
        "<div class=\"alert alert-success\">\n",
        "<b>Комментарий с комплиментом ревьюера:</b> \n",
        "    \n",
        "Здорово, что выделено содержание, описана цель и данные. 👍\n",
        "    \n",
        "Еще можно добавить заголовок, который будет отражать основную суть проекта проекта и table of contents (ToC) для удобства перемещения по проекту.\n",
        "</div>\n"
      ]
    },
    {
      "cell_type": "markdown",
      "metadata": {
        "id": "HlaoeAo3aDm3"
      },
      "source": [
        "## Шаг. Откройте файл с данными и изучите общую информацию"
      ]
    },
    {
      "cell_type": "code",
      "execution_count": null,
      "metadata": {
        "id": "ANs8ymNtaDnC"
      },
      "outputs": [],
      "source": [
        "#импортируем библиотеки \n",
        "import pandas as pd\n",
        "import numpy as np\n",
        "from datetime import datetime, timedelta\n",
        "from matplotlib import pyplot as plt\n",
        "import seaborn as sns\n",
        "from scipy import stats as st\n",
        "import math as mth\n"
      ]
    },
    {
      "cell_type": "code",
      "execution_count": null,
      "metadata": {
        "id": "O-R0eM-xaDnW",
        "outputId": "e294258e-6f6d-4603-daec-3586effef703"
      },
      "outputs": [
        {
          "data": {
            "text/html": [
              "<div>\n",
              "<style scoped>\n",
              "    .dataframe tbody tr th:only-of-type {\n",
              "        vertical-align: middle;\n",
              "    }\n",
              "\n",
              "    .dataframe tbody tr th {\n",
              "        vertical-align: top;\n",
              "    }\n",
              "\n",
              "    .dataframe thead th {\n",
              "        text-align: right;\n",
              "    }\n",
              "</style>\n",
              "<table border=\"1\" class=\"dataframe\">\n",
              "  <thead>\n",
              "    <tr style=\"text-align: right;\">\n",
              "      <th></th>\n",
              "      <th>EventName</th>\n",
              "      <th>DeviceIDHash</th>\n",
              "      <th>EventTimestamp</th>\n",
              "      <th>ExpId</th>\n",
              "    </tr>\n",
              "  </thead>\n",
              "  <tbody>\n",
              "    <tr>\n",
              "      <th>0</th>\n",
              "      <td>MainScreenAppear</td>\n",
              "      <td>4575588528974610257</td>\n",
              "      <td>1564029816</td>\n",
              "      <td>246</td>\n",
              "    </tr>\n",
              "    <tr>\n",
              "      <th>1</th>\n",
              "      <td>MainScreenAppear</td>\n",
              "      <td>7416695313311560658</td>\n",
              "      <td>1564053102</td>\n",
              "      <td>246</td>\n",
              "    </tr>\n",
              "    <tr>\n",
              "      <th>2</th>\n",
              "      <td>PaymentScreenSuccessful</td>\n",
              "      <td>3518123091307005509</td>\n",
              "      <td>1564054127</td>\n",
              "      <td>248</td>\n",
              "    </tr>\n",
              "    <tr>\n",
              "      <th>3</th>\n",
              "      <td>CartScreenAppear</td>\n",
              "      <td>3518123091307005509</td>\n",
              "      <td>1564054127</td>\n",
              "      <td>248</td>\n",
              "    </tr>\n",
              "    <tr>\n",
              "      <th>4</th>\n",
              "      <td>PaymentScreenSuccessful</td>\n",
              "      <td>6217807653094995999</td>\n",
              "      <td>1564055322</td>\n",
              "      <td>248</td>\n",
              "    </tr>\n",
              "  </tbody>\n",
              "</table>\n",
              "</div>"
            ],
            "text/plain": [
              "                 EventName         DeviceIDHash  EventTimestamp  ExpId\n",
              "0         MainScreenAppear  4575588528974610257      1564029816    246\n",
              "1         MainScreenAppear  7416695313311560658      1564053102    246\n",
              "2  PaymentScreenSuccessful  3518123091307005509      1564054127    248\n",
              "3         CartScreenAppear  3518123091307005509      1564054127    248\n",
              "4  PaymentScreenSuccessful  6217807653094995999      1564055322    248"
            ]
          },
          "execution_count": 2,
          "metadata": {},
          "output_type": "execute_result"
        }
      ],
      "source": [
        "##откроем таблицу\n",
        "data = pd.read_csv('/datasets/logs_exp.csv', sep='\\t')\n",
        "data.head()"
      ]
    },
    {
      "cell_type": "markdown",
      "metadata": {
        "id": "VNvKejN-aDnq"
      },
      "source": [
        "При первом знакомстве с таблицей видим, что необходимо название колонок привести к другому виду. Имеем колонки с индексом, с разными названиями событий, уникальные идентификаторы пользователя, время события, которое в секундах, и номерами групп. "
      ]
    },
    {
      "cell_type": "markdown",
      "metadata": {
        "id": "ZJ7r9hwTaDn2"
      },
      "source": [
        "## Шаг. Подготовьте данные"
      ]
    },
    {
      "cell_type": "code",
      "execution_count": null,
      "metadata": {
        "id": "yKt_Ibo2aDn7",
        "outputId": "e908e577-a6ca-4609-f8c6-97495b78c2d5"
      },
      "outputs": [
        {
          "data": {
            "text/plain": [
              "Index(['event_name', 'device_id_hash', 'event_timestamp', 'exp_id'], dtype='object')"
            ]
          },
          "execution_count": 3,
          "metadata": {},
          "output_type": "execute_result"
        }
      ],
      "source": [
        "#переименуем столбцы\n",
        "data.rename(columns = {'EventName':'event_name', 'DeviceIDHash':'device_id_hash',\\\n",
        "                      'EventTimestamp':'event_timestamp', 'ExpId':'exp_id'}, inplace = True )\n",
        "data.columns"
      ]
    },
    {
      "cell_type": "code",
      "execution_count": null,
      "metadata": {
        "id": "mKR3b52IaDoG",
        "outputId": "03075294-553e-4401-bf46-65b4fd337c23"
      },
      "outputs": [
        {
          "name": "stdout",
          "output_type": "stream",
          "text": [
            "<class 'pandas.core.frame.DataFrame'>\n",
            "RangeIndex: 244126 entries, 0 to 244125\n",
            "Data columns (total 4 columns):\n",
            " #   Column           Non-Null Count   Dtype \n",
            "---  ------           --------------   ----- \n",
            " 0   event_name       244126 non-null  object\n",
            " 1   device_id_hash   244126 non-null  int64 \n",
            " 2   event_timestamp  244126 non-null  int64 \n",
            " 3   exp_id           244126 non-null  int64 \n",
            "dtypes: int64(3), object(1)\n",
            "memory usage: 7.5+ MB\n"
          ]
        }
      ],
      "source": [
        "#изучим информацию о таблице\n",
        "data.info()"
      ]
    },
    {
      "cell_type": "code",
      "execution_count": null,
      "metadata": {
        "id": "VTZQNIW_aDoL",
        "outputId": "33471f08-202b-4b12-9019-4d596e6c49b8"
      },
      "outputs": [
        {
          "data": {
            "text/html": [
              "<div>\n",
              "<style scoped>\n",
              "    .dataframe tbody tr th:only-of-type {\n",
              "        vertical-align: middle;\n",
              "    }\n",
              "\n",
              "    .dataframe tbody tr th {\n",
              "        vertical-align: top;\n",
              "    }\n",
              "\n",
              "    .dataframe thead th {\n",
              "        text-align: right;\n",
              "    }\n",
              "</style>\n",
              "<table border=\"1\" class=\"dataframe\">\n",
              "  <thead>\n",
              "    <tr style=\"text-align: right;\">\n",
              "      <th></th>\n",
              "      <th>event_name</th>\n",
              "      <th>device_id_hash</th>\n",
              "      <th>event_timestamp</th>\n",
              "      <th>exp_id</th>\n",
              "      <th>date_time</th>\n",
              "      <th>date</th>\n",
              "    </tr>\n",
              "  </thead>\n",
              "  <tbody>\n",
              "    <tr>\n",
              "      <th>0</th>\n",
              "      <td>MainScreenAppear</td>\n",
              "      <td>4575588528974610257</td>\n",
              "      <td>1564029816</td>\n",
              "      <td>246</td>\n",
              "      <td>2019-07-25 04:43:36</td>\n",
              "      <td>2019-07-25</td>\n",
              "    </tr>\n",
              "    <tr>\n",
              "      <th>1</th>\n",
              "      <td>MainScreenAppear</td>\n",
              "      <td>7416695313311560658</td>\n",
              "      <td>1564053102</td>\n",
              "      <td>246</td>\n",
              "      <td>2019-07-25 11:11:42</td>\n",
              "      <td>2019-07-25</td>\n",
              "    </tr>\n",
              "    <tr>\n",
              "      <th>2</th>\n",
              "      <td>PaymentScreenSuccessful</td>\n",
              "      <td>3518123091307005509</td>\n",
              "      <td>1564054127</td>\n",
              "      <td>248</td>\n",
              "      <td>2019-07-25 11:28:47</td>\n",
              "      <td>2019-07-25</td>\n",
              "    </tr>\n",
              "    <tr>\n",
              "      <th>3</th>\n",
              "      <td>CartScreenAppear</td>\n",
              "      <td>3518123091307005509</td>\n",
              "      <td>1564054127</td>\n",
              "      <td>248</td>\n",
              "      <td>2019-07-25 11:28:47</td>\n",
              "      <td>2019-07-25</td>\n",
              "    </tr>\n",
              "    <tr>\n",
              "      <th>4</th>\n",
              "      <td>PaymentScreenSuccessful</td>\n",
              "      <td>6217807653094995999</td>\n",
              "      <td>1564055322</td>\n",
              "      <td>248</td>\n",
              "      <td>2019-07-25 11:48:42</td>\n",
              "      <td>2019-07-25</td>\n",
              "    </tr>\n",
              "  </tbody>\n",
              "</table>\n",
              "</div>"
            ],
            "text/plain": [
              "                event_name       device_id_hash  event_timestamp  exp_id  \\\n",
              "0         MainScreenAppear  4575588528974610257       1564029816     246   \n",
              "1         MainScreenAppear  7416695313311560658       1564053102     246   \n",
              "2  PaymentScreenSuccessful  3518123091307005509       1564054127     248   \n",
              "3         CartScreenAppear  3518123091307005509       1564054127     248   \n",
              "4  PaymentScreenSuccessful  6217807653094995999       1564055322     248   \n",
              "\n",
              "            date_time       date  \n",
              "0 2019-07-25 04:43:36 2019-07-25  \n",
              "1 2019-07-25 11:11:42 2019-07-25  \n",
              "2 2019-07-25 11:28:47 2019-07-25  \n",
              "3 2019-07-25 11:28:47 2019-07-25  \n",
              "4 2019-07-25 11:48:42 2019-07-25  "
            ]
          },
          "execution_count": 5,
          "metadata": {},
          "output_type": "execute_result"
        }
      ],
      "source": [
        "#cоздадим столбцы\n",
        "data['date_time'] = pd.to_datetime(data['event_timestamp'], unit='s')\n",
        "data['date'] = data['date_time'].astype('datetime64[D]')\n",
        "data.head()"
      ]
    },
    {
      "cell_type": "markdown",
      "metadata": {
        "id": "PrxT_ByOaDoW"
      },
      "source": [
        "Создали столбцы с датой и временем, приведя к нужному формату. Остальные столбцы  имеют правильные типы данных и  корректировка не нужна. Имеем 244126 строк в таблице."
      ]
    },
    {
      "cell_type": "code",
      "execution_count": null,
      "metadata": {
        "id": "8cSAW9e2aDoa",
        "outputId": "45903085-07f6-4e93-9f81-bbb13116598e"
      },
      "outputs": [
        {
          "name": "stdout",
          "output_type": "stream",
          "text": [
            "Количество пользователей, которые присутствуют и группе 246 и в группе 247: 0\n"
          ]
        }
      ],
      "source": [
        "#найдем количество пользователей, которые присутствуют и группе 246 и в группе 247\n",
        "print('Количество пользователей, которые присутствуют и группе 246 и в группе 247: {}'.\\\n",
        "      format(len(np.intersect1d(data.query('exp_id==246')['device_id_hash'].unique(),\\\n",
        "                   data.query('exp_id==247')['device_id_hash'].unique()))))"
      ]
    },
    {
      "cell_type": "code",
      "execution_count": null,
      "metadata": {
        "id": "mQsqoQYbaDog",
        "outputId": "49bcba0c-26e4-49b1-eda2-46baa96edd8a"
      },
      "outputs": [
        {
          "name": "stdout",
          "output_type": "stream",
          "text": [
            "Количество пользователей, которые присутствуют и группе 246 и в группе 248: 0\n"
          ]
        }
      ],
      "source": [
        "#найдем количество пользователей, которые присутствуют и группе 246 и в группе 248\n",
        "print('Количество пользователей, которые присутствуют и группе 246 и в группе 248: {}'.\\\n",
        "      format(len(np.intersect1d(data.query('exp_id==246')['device_id_hash'].unique(),\\\n",
        "                   data.query('exp_id==248')['device_id_hash'].unique()))))"
      ]
    },
    {
      "cell_type": "code",
      "execution_count": null,
      "metadata": {
        "id": "w2-FQzJTaDol",
        "outputId": "c3260a46-e408-4cf2-d765-5536f878e3aa"
      },
      "outputs": [
        {
          "name": "stdout",
          "output_type": "stream",
          "text": [
            "Количество пользователей, которые присутствуют и группе 247 и в группе 248: 0\n"
          ]
        }
      ],
      "source": [
        "#найдем количество пользователей, которые присутствуют и группе 247 и в группе 248\n",
        "print('Количество пользователей, которые присутствуют и группе 247 и в группе 248: {}'.\\\n",
        "      format(len(np.intersect1d(data.query('exp_id==247')['device_id_hash'].unique(),\\\n",
        "                   data.query('exp_id==248')['device_id_hash'].unique()))))"
      ]
    },
    {
      "cell_type": "markdown",
      "metadata": {
        "id": "Qux1r1YxaDoq"
      },
      "source": [
        "Пересечения пользователей в группах нет.\n"
      ]
    },
    {
      "cell_type": "markdown",
      "metadata": {
        "id": "wWpB_AxjaDoz"
      },
      "source": [
        "## Шаг. Изучите и проверьте данные"
      ]
    },
    {
      "cell_type": "code",
      "execution_count": null,
      "metadata": {
        "id": "Wn-_BKORaDo3",
        "outputId": "f7480ddf-235f-467a-83b1-3ecc09225532"
      },
      "outputs": [
        {
          "data": {
            "text/plain": [
              "event_name         0.0\n",
              "device_id_hash     0.0\n",
              "event_timestamp    0.0\n",
              "exp_id             0.0\n",
              "date_time          0.0\n",
              "date               0.0\n",
              "dtype: float64"
            ]
          },
          "execution_count": 9,
          "metadata": {},
          "output_type": "execute_result"
        }
      ],
      "source": [
        "#изучим пропуски в значениях \n",
        "data.isna().mean()"
      ]
    },
    {
      "cell_type": "markdown",
      "metadata": {
        "id": "m5oiQEN2aDo-"
      },
      "source": [
        "*Пропуски в таблице отсутствуют.*"
      ]
    },
    {
      "cell_type": "code",
      "execution_count": null,
      "metadata": {
        "id": "_sohrJmOaDpA",
        "outputId": "6bec5c8e-1425-490a-d1dd-86f7392d2d3b"
      },
      "outputs": [
        {
          "data": {
            "text/plain": [
              "413"
            ]
          },
          "execution_count": 10,
          "metadata": {},
          "output_type": "execute_result"
        }
      ],
      "source": [
        "#проверим на наличие дубликатов в таблице\n",
        "data.duplicated().sum()"
      ]
    },
    {
      "cell_type": "code",
      "execution_count": null,
      "metadata": {
        "id": "3K9TdDg8aDpE"
      },
      "outputs": [],
      "source": [
        "#удалим дубликаты\n",
        "data = data.drop_duplicates().reset_index(drop=True)"
      ]
    },
    {
      "cell_type": "markdown",
      "metadata": {
        "id": "nU2hrE6gaDpI"
      },
      "source": [
        "*Обнаружили 413 дубликатов в таблице, удалим их, чтобы они не влияли на результаты.*"
      ]
    },
    {
      "cell_type": "code",
      "execution_count": null,
      "metadata": {
        "id": "oIZll9KtaDpN",
        "outputId": "894f33eb-c12b-4920-c2e2-23a894bb5026"
      },
      "outputs": [
        {
          "name": "stdout",
          "output_type": "stream",
          "text": [
            "Всего событий в логе: 243713\n"
          ]
        }
      ],
      "source": [
        "#выведем сколько всего событий в логе\n",
        "events = len(data)\n",
        "\n",
        "print('Всего событий в логе: {}'.format(events))"
      ]
    },
    {
      "cell_type": "code",
      "execution_count": null,
      "metadata": {
        "scrolled": true,
        "id": "_OZ76t54aDpS",
        "outputId": "b9e66722-e128-4697-d50e-d1ecbf16b750"
      },
      "outputs": [
        {
          "data": {
            "text/plain": [
              "array(['MainScreenAppear', 'PaymentScreenSuccessful', 'CartScreenAppear',\n",
              "       'OffersScreenAppear', 'Tutorial'], dtype=object)"
            ]
          },
          "execution_count": 13,
          "metadata": {},
          "output_type": "execute_result"
        }
      ],
      "source": [
        "#выведем уникальные значения столбца\n",
        "data['event_name'].unique()"
      ]
    },
    {
      "cell_type": "code",
      "execution_count": null,
      "metadata": {
        "id": "mOq91zhUaDpW",
        "outputId": "bacc84df-81bd-4b89-9ff7-014d9443c5fc"
      },
      "outputs": [
        {
          "name": "stdout",
          "output_type": "stream",
          "text": [
            "Число уникальных пользователей: 7551\n"
          ]
        }
      ],
      "source": [
        "#выведем число уникальных пользователей\n",
        "users = data['device_id_hash'].nunique()\n",
        "print('Число уникальных пользователей: {}'.format(users))"
      ]
    },
    {
      "cell_type": "markdown",
      "metadata": {
        "id": "oEhdaa0aaDpa"
      },
      "source": [
        "*Выяснили, что*\n",
        "*Всего событий в логе: 243713,*\n",
        "\n",
        "*Имеем 5 названий событий,*\n",
        "\n",
        "*Всего число уникальных пользователей: 7551*"
      ]
    },
    {
      "cell_type": "code",
      "execution_count": null,
      "metadata": {
        "id": "QxRfwz2_aDpd",
        "outputId": "07976d48-f5b3-4240-c3c3-1afba2d4b61d"
      },
      "outputs": [
        {
          "name": "stdout",
          "output_type": "stream",
          "text": [
            "Количество событий на одного пользователя: медианное - 20.0, мода - 5\n"
          ]
        }
      ],
      "source": [
        "#выведем среднее значение событий на пользователя\n",
        "print('Количество событий на одного пользователя: медианное - {}, мода - {}'.format(\n",
        "                                                            data['device_id_hash'].value_counts().median(),\n",
        "                                                            data['device_id_hash'].value_counts().mode()[0]))"
      ]
    },
    {
      "cell_type": "markdown",
      "metadata": {
        "id": "-iIB99rwaDph"
      },
      "source": [
        "Медианное количество событий на одного пользователя равно 20, и часто встречающееся число событий -5."
      ]
    },
    {
      "cell_type": "code",
      "execution_count": null,
      "metadata": {
        "id": "QGV7o8IgaDpn",
        "outputId": "8725eb51-165c-4628-f634-98eb9b162374"
      },
      "outputs": [
        {
          "data": {
            "text/plain": [
              "count    7551.000000\n",
              "mean       32.275593\n",
              "std        65.154219\n",
              "min         1.000000\n",
              "25%         9.000000\n",
              "50%        20.000000\n",
              "75%        37.000000\n",
              "max      2307.000000\n",
              "Name: device_id_hash, dtype: float64"
            ]
          },
          "execution_count": 16,
          "metadata": {},
          "output_type": "execute_result"
        }
      ],
      "source": [
        "#посмотрим основные показатели числа событий на пользователя\n",
        "data['device_id_hash'].value_counts().describe()"
      ]
    },
    {
      "cell_type": "markdown",
      "metadata": {
        "id": "W-_3JWLxaDpv"
      },
      "source": [
        " Максимальное число событий у одного пользователя составляет 2308, среднее - 32, медианная -20, даже 75% - это 37 событий. Т.е. есть большие перепады в значениях, выбросы.\n",
        " "
      ]
    },
    {
      "cell_type": "code",
      "execution_count": null,
      "metadata": {
        "id": "WMqUaLXCaDp2",
        "outputId": "d089201d-28aa-403b-c59e-7ba05d324e6d"
      },
      "outputs": [
        {
          "name": "stdout",
          "output_type": "stream",
          "text": [
            "Временные рамки: начало - 2019-07-25 04:43:36, конец - 2019-08-07 21:15:17\n"
          ]
        }
      ],
      "source": [
        "#Выведем минимальное и максимальное значение даты\n",
        "print('Временные рамки: начало - {}, конец - {}'.\\\n",
        "      format(data['date_time'].min(), data['date_time'].max()))"
      ]
    },
    {
      "cell_type": "markdown",
      "metadata": {
        "id": "UEUitR5waDp5"
      },
      "source": [
        "*Определили временные рамки: начало - 2019-07-25 04:43:36, конец - 2019-08-07 21:15:17, т.е  2 недели.*"
      ]
    },
    {
      "cell_type": "code",
      "execution_count": null,
      "metadata": {
        "id": "gK5BaHYfaDp8",
        "outputId": "65d86f8d-65ce-4533-a437-7c64ad71cb66"
      },
      "outputs": [
        {
          "data": {
            "image/png": "[encoded data removed]",
            "text/plain": [
              "<Figure size 432x288 with 1 Axes>"
            ]
          },
          "metadata": {
            "needs_background": "light"
          },
          "output_type": "display_data"
        }
      ],
      "source": [
        "#Построим гистограмму событий по дате\n",
        "plt.hist(data['date_time'])\n",
        "\n",
        "plt.title('Гистрограмма распределения событий по дате')\n",
        "plt.ylabel('Количество событий')\n",
        "plt.xlabel('Дата')\n",
        "plt.grid(True)\n",
        "plt.xticks(rotation=45)\n",
        "\n",
        "plt.show()"
      ]
    },
    {
      "cell_type": "markdown",
      "metadata": {
        "id": "BXQxTKlaaDqF"
      },
      "source": [
        "*По **Гистрограмме распределения событий по дате** видно, что полные данные у нас есть только за период с 1 по 7 августа включительно. Поэтому будем использовать этот период для дальнейшего исследования.*"
      ]
    },
    {
      "cell_type": "code",
      "execution_count": null,
      "metadata": {
        "scrolled": true,
        "id": "nu6hM5nZaDqT",
        "outputId": "a7172623-d677-4ea7-864f-0b55a9ecda86"
      },
      "outputs": [
        {
          "data": {
            "text/html": [
              "<div>\n",
              "<style scoped>\n",
              "    .dataframe tbody tr th:only-of-type {\n",
              "        vertical-align: middle;\n",
              "    }\n",
              "\n",
              "    .dataframe tbody tr th {\n",
              "        vertical-align: top;\n",
              "    }\n",
              "\n",
              "    .dataframe thead th {\n",
              "        text-align: right;\n",
              "    }\n",
              "</style>\n",
              "<table border=\"1\" class=\"dataframe\">\n",
              "  <thead>\n",
              "    <tr style=\"text-align: right;\">\n",
              "      <th></th>\n",
              "      <th>event_name</th>\n",
              "      <th>device_id_hash</th>\n",
              "      <th>event_timestamp</th>\n",
              "      <th>exp_id</th>\n",
              "      <th>date_time</th>\n",
              "      <th>date</th>\n",
              "    </tr>\n",
              "  </thead>\n",
              "  <tbody>\n",
              "    <tr>\n",
              "      <th>2826</th>\n",
              "      <td>Tutorial</td>\n",
              "      <td>3737462046622621720</td>\n",
              "      <td>1564618048</td>\n",
              "      <td>246</td>\n",
              "      <td>2019-08-01 00:07:28</td>\n",
              "      <td>2019-08-01</td>\n",
              "    </tr>\n",
              "    <tr>\n",
              "      <th>2827</th>\n",
              "      <td>MainScreenAppear</td>\n",
              "      <td>3737462046622621720</td>\n",
              "      <td>1564618080</td>\n",
              "      <td>246</td>\n",
              "      <td>2019-08-01 00:08:00</td>\n",
              "      <td>2019-08-01</td>\n",
              "    </tr>\n",
              "    <tr>\n",
              "      <th>2828</th>\n",
              "      <td>MainScreenAppear</td>\n",
              "      <td>3737462046622621720</td>\n",
              "      <td>1564618135</td>\n",
              "      <td>246</td>\n",
              "      <td>2019-08-01 00:08:55</td>\n",
              "      <td>2019-08-01</td>\n",
              "    </tr>\n",
              "    <tr>\n",
              "      <th>2829</th>\n",
              "      <td>OffersScreenAppear</td>\n",
              "      <td>3737462046622621720</td>\n",
              "      <td>1564618138</td>\n",
              "      <td>246</td>\n",
              "      <td>2019-08-01 00:08:58</td>\n",
              "      <td>2019-08-01</td>\n",
              "    </tr>\n",
              "    <tr>\n",
              "      <th>2830</th>\n",
              "      <td>MainScreenAppear</td>\n",
              "      <td>1433840883824088890</td>\n",
              "      <td>1564618139</td>\n",
              "      <td>247</td>\n",
              "      <td>2019-08-01 00:08:59</td>\n",
              "      <td>2019-08-01</td>\n",
              "    </tr>\n",
              "  </tbody>\n",
              "</table>\n",
              "</div>"
            ],
            "text/plain": [
              "              event_name       device_id_hash  event_timestamp  exp_id  \\\n",
              "2826            Tutorial  3737462046622621720       1564618048     246   \n",
              "2827    MainScreenAppear  3737462046622621720       1564618080     246   \n",
              "2828    MainScreenAppear  3737462046622621720       1564618135     246   \n",
              "2829  OffersScreenAppear  3737462046622621720       1564618138     246   \n",
              "2830    MainScreenAppear  1433840883824088890       1564618139     247   \n",
              "\n",
              "               date_time       date  \n",
              "2826 2019-08-01 00:07:28 2019-08-01  \n",
              "2827 2019-08-01 00:08:00 2019-08-01  \n",
              "2828 2019-08-01 00:08:55 2019-08-01  \n",
              "2829 2019-08-01 00:08:58 2019-08-01  \n",
              "2830 2019-08-01 00:08:59 2019-08-01  "
            ]
          },
          "execution_count": 19,
          "metadata": {},
          "output_type": "execute_result"
        }
      ],
      "source": [
        "#Урежим таблицу по выбранной дате\n",
        "data_filterad = pd.to_datetime('2019-08-01', format = '%Y-%m-%d')\n",
        "data = data[data['date'] >= data_filterad]\n",
        "\n",
        "#зададим переменные с числом строк и уникальных пользовотаелей по новой таблице\n",
        "events_filtered = len(data)\n",
        "users_filtered = data['device_id_hash'].nunique()\n",
        "\n",
        "data.head()"
      ]
    },
    {
      "cell_type": "code",
      "execution_count": null,
      "metadata": {
        "id": "2d73LF0maDqr",
        "outputId": "0d702f24-56c3-44fc-93e1-2184c1c50bcb"
      },
      "outputs": [
        {
          "name": "stdout",
          "output_type": "stream",
          "text": [
            "Количество событий до фильтрации - 243713, после - 240887. Разность - 2826 или 1.16%\n",
            "Количество пользователей до фильтрации - 7551, после - 7534. Разность - 17 или 0.23%\n"
          ]
        }
      ],
      "source": [
        "#Выведем количество событий до фильтрации, после и разность\n",
        "print('Количество событий до фильтрации - {}, после - {}. Разность - {} или {}%'.format(\n",
        "                                                                        events, events_filtered,\n",
        "                                                                        events - events_filtered,\n",
        "                                                                        round(100-events_filtered/events*100, 2)))\n",
        "#Выведем количество пользователей до фильтрации, после и разность\n",
        "print('Количество пользователей до фильтрации - {}, после - {}. Разность - {} или {}%'.format(\n",
        "                                                                        users, users_filtered,\n",
        "                                                                        users - users_filtered,\n",
        "                                                                        round(100-users_filtered/users*100, 2)))"
      ]
    },
    {
      "cell_type": "markdown",
      "metadata": {
        "id": "BtwFY7gyaDqv"
      },
      "source": [
        "*Проверили количество событий до фильтрации - 243713, после - 240887. Разность - 2826 или 1.16%.*\n",
        "\n",
        "*Количество пользователей до фильтрации - 7551, после - 7534. Разность - 17 или 0.23%.*\n",
        "\n",
        "*Доля удаленных данных небольшая, поэтому не повлияет на дальнейшее исследование.*"
      ]
    },
    {
      "cell_type": "code",
      "execution_count": null,
      "metadata": {
        "id": "udjpBIePaDrc",
        "outputId": "ddcba15d-615f-4744-ae20-13c6f74dcc36"
      },
      "outputs": [
        {
          "data": {
            "text/plain": [
              "exp_id\n",
              "246    2484\n",
              "247    2513\n",
              "248    2537\n",
              "Name: device_id_hash, dtype: int64"
            ]
          },
          "execution_count": 21,
          "metadata": {},
          "output_type": "execute_result"
        }
      ],
      "source": [
        "#выведем число пользователей в группах\n",
        "data.groupby('exp_id')['device_id_hash'].nunique()"
      ]
    },
    {
      "cell_type": "markdown",
      "metadata": {
        "id": "poAd9r_6aDri"
      },
      "source": [
        "*Видим, что в группе 246 - 2484 уникальных пользователя, в 247 группе - 2513 человек, в 248 группе - 2537 пользователя. Т.е. имеется между ними небольшая разница.*"
      ]
    },
    {
      "cell_type": "markdown",
      "metadata": {
        "id": "O6AZmj5jaDrw"
      },
      "source": [
        "## Шаг. Изучите воронку событий"
      ]
    },
    {
      "cell_type": "code",
      "execution_count": null,
      "metadata": {
        "id": "TXnj5RdiaDry",
        "outputId": "c69b227b-a2ff-43eb-d7f9-53d20d9d38cb"
      },
      "outputs": [
        {
          "data": {
            "text/html": [
              "<div>\n",
              "<style scoped>\n",
              "    .dataframe tbody tr th:only-of-type {\n",
              "        vertical-align: middle;\n",
              "    }\n",
              "\n",
              "    .dataframe tbody tr th {\n",
              "        vertical-align: top;\n",
              "    }\n",
              "\n",
              "    .dataframe thead th {\n",
              "        text-align: right;\n",
              "    }\n",
              "</style>\n",
              "<table border=\"1\" class=\"dataframe\">\n",
              "  <thead>\n",
              "    <tr style=\"text-align: right;\">\n",
              "      <th></th>\n",
              "      <th>event_name</th>\n",
              "    </tr>\n",
              "  </thead>\n",
              "  <tbody>\n",
              "    <tr>\n",
              "      <th>MainScreenAppear</th>\n",
              "      <td>117328</td>\n",
              "    </tr>\n",
              "    <tr>\n",
              "      <th>OffersScreenAppear</th>\n",
              "      <td>46333</td>\n",
              "    </tr>\n",
              "    <tr>\n",
              "      <th>CartScreenAppear</th>\n",
              "      <td>42303</td>\n",
              "    </tr>\n",
              "    <tr>\n",
              "      <th>PaymentScreenSuccessful</th>\n",
              "      <td>33918</td>\n",
              "    </tr>\n",
              "    <tr>\n",
              "      <th>Tutorial</th>\n",
              "      <td>1005</td>\n",
              "    </tr>\n",
              "  </tbody>\n",
              "</table>\n",
              "</div>"
            ],
            "text/plain": [
              "                         event_name\n",
              "MainScreenAppear             117328\n",
              "OffersScreenAppear            46333\n",
              "CartScreenAppear              42303\n",
              "PaymentScreenSuccessful       33918\n",
              "Tutorial                       1005"
            ]
          },
          "execution_count": 22,
          "metadata": {},
          "output_type": "execute_result"
        }
      ],
      "source": [
        "#выведем число пользователей по событиям в таблицу\n",
        "events_count = data['event_name'].value_counts().to_frame()\n",
        "events_count"
      ]
    },
    {
      "cell_type": "code",
      "execution_count": null,
      "metadata": {
        "id": "b7_WpBzaaDr2"
      },
      "outputs": [],
      "source": [
        "#создадим функцию подсчета уникальных пользователей на каждое событие\n",
        "def get_event_count(event):\n",
        "    users_count = data[data['event_name'] == event]['device_id_hash'].nunique()\n",
        "    return users_count"
      ]
    },
    {
      "cell_type": "code",
      "execution_count": null,
      "metadata": {
        "id": "M4RbhyHpaDsC"
      },
      "outputs": [],
      "source": [
        "#добавим столбец уникальных пользователей на каждое событие\n",
        "events_count = events_count.reset_index()\n",
        "events_count['unique_users'] = events_count['index'].apply(get_event_count)\n",
        "events_count = events_count.sort_values(by='unique_users', ascending=False)\n",
        "events_count = events_count.set_index('index')\n",
        "events_count.index.name = None"
      ]
    },
    {
      "cell_type": "code",
      "execution_count": null,
      "metadata": {
        "id": "4ZAYry4OaDsG",
        "outputId": "67a511bc-9a1c-4643-f047-92e78786e038"
      },
      "outputs": [
        {
          "data": {
            "text/html": [
              "<div>\n",
              "<style scoped>\n",
              "    .dataframe tbody tr th:only-of-type {\n",
              "        vertical-align: middle;\n",
              "    }\n",
              "\n",
              "    .dataframe tbody tr th {\n",
              "        vertical-align: top;\n",
              "    }\n",
              "\n",
              "    .dataframe thead th {\n",
              "        text-align: right;\n",
              "    }\n",
              "</style>\n",
              "<table border=\"1\" class=\"dataframe\">\n",
              "  <thead>\n",
              "    <tr style=\"text-align: right;\">\n",
              "      <th></th>\n",
              "      <th>event_name</th>\n",
              "      <th>unique_users</th>\n",
              "      <th>percent</th>\n",
              "    </tr>\n",
              "  </thead>\n",
              "  <tbody>\n",
              "    <tr>\n",
              "      <th>MainScreenAppear</th>\n",
              "      <td>117328</td>\n",
              "      <td>7419</td>\n",
              "      <td>100.00</td>\n",
              "    </tr>\n",
              "    <tr>\n",
              "      <th>OffersScreenAppear</th>\n",
              "      <td>46333</td>\n",
              "      <td>4593</td>\n",
              "      <td>61.91</td>\n",
              "    </tr>\n",
              "    <tr>\n",
              "      <th>CartScreenAppear</th>\n",
              "      <td>42303</td>\n",
              "      <td>3734</td>\n",
              "      <td>50.33</td>\n",
              "    </tr>\n",
              "    <tr>\n",
              "      <th>PaymentScreenSuccessful</th>\n",
              "      <td>33918</td>\n",
              "      <td>3539</td>\n",
              "      <td>47.70</td>\n",
              "    </tr>\n",
              "    <tr>\n",
              "      <th>Tutorial</th>\n",
              "      <td>1005</td>\n",
              "      <td>840</td>\n",
              "      <td>11.32</td>\n",
              "    </tr>\n",
              "  </tbody>\n",
              "</table>\n",
              "</div>"
            ],
            "text/plain": [
              "                         event_name  unique_users  percent\n",
              "MainScreenAppear             117328          7419   100.00\n",
              "OffersScreenAppear            46333          4593    61.91\n",
              "CartScreenAppear              42303          3734    50.33\n",
              "PaymentScreenSuccessful       33918          3539    47.70\n",
              "Tutorial                       1005           840    11.32"
            ]
          },
          "execution_count": 25,
          "metadata": {},
          "output_type": "execute_result"
        }
      ],
      "source": [
        "#создадим столбец доли уникальных пользователей на каждое событие\n",
        "events_count['percent'] = events_count['unique_users'].apply(lambda x: round(x/7419*100, 2))\n",
        "     \n",
        "events_count.head()"
      ]
    },
    {
      "cell_type": "code",
      "execution_count": null,
      "metadata": {
        "id": "GLxnKRPZaDsK",
        "outputId": "78f65a44-63c8-4488-b9d9-7f370756bd68"
      },
      "outputs": [
        {
          "data": {
            "text/html": [
              "<div>\n",
              "<style scoped>\n",
              "    .dataframe tbody tr th:only-of-type {\n",
              "        vertical-align: middle;\n",
              "    }\n",
              "\n",
              "    .dataframe tbody tr th {\n",
              "        vertical-align: top;\n",
              "    }\n",
              "\n",
              "    .dataframe thead th {\n",
              "        text-align: right;\n",
              "    }\n",
              "</style>\n",
              "<table border=\"1\" class=\"dataframe\">\n",
              "  <thead>\n",
              "    <tr style=\"text-align: right;\">\n",
              "      <th></th>\n",
              "      <th>index</th>\n",
              "      <th>event_name</th>\n",
              "      <th>unique_users</th>\n",
              "      <th>percent</th>\n",
              "      <th>percent_user_total</th>\n",
              "    </tr>\n",
              "  </thead>\n",
              "  <tbody>\n",
              "    <tr>\n",
              "      <th>0</th>\n",
              "      <td>MainScreenAppear</td>\n",
              "      <td>117328</td>\n",
              "      <td>7419</td>\n",
              "      <td>100.00</td>\n",
              "      <td>100.000000</td>\n",
              "    </tr>\n",
              "    <tr>\n",
              "      <th>1</th>\n",
              "      <td>OffersScreenAppear</td>\n",
              "      <td>46333</td>\n",
              "      <td>4593</td>\n",
              "      <td>61.91</td>\n",
              "      <td>61.908613</td>\n",
              "    </tr>\n",
              "    <tr>\n",
              "      <th>2</th>\n",
              "      <td>CartScreenAppear</td>\n",
              "      <td>42303</td>\n",
              "      <td>3734</td>\n",
              "      <td>50.33</td>\n",
              "      <td>81.297627</td>\n",
              "    </tr>\n",
              "    <tr>\n",
              "      <th>3</th>\n",
              "      <td>PaymentScreenSuccessful</td>\n",
              "      <td>33918</td>\n",
              "      <td>3539</td>\n",
              "      <td>47.70</td>\n",
              "      <td>94.777718</td>\n",
              "    </tr>\n",
              "    <tr>\n",
              "      <th>4</th>\n",
              "      <td>Tutorial</td>\n",
              "      <td>1005</td>\n",
              "      <td>840</td>\n",
              "      <td>11.32</td>\n",
              "      <td>23.735519</td>\n",
              "    </tr>\n",
              "  </tbody>\n",
              "</table>\n",
              "</div>"
            ],
            "text/plain": [
              "                     index  event_name  unique_users  percent  \\\n",
              "0         MainScreenAppear      117328          7419   100.00   \n",
              "1       OffersScreenAppear       46333          4593    61.91   \n",
              "2         CartScreenAppear       42303          3734    50.33   \n",
              "3  PaymentScreenSuccessful       33918          3539    47.70   \n",
              "4                 Tutorial        1005           840    11.32   \n",
              "\n",
              "   percent_user_total  \n",
              "0          100.000000  \n",
              "1           61.908613  \n",
              "2           81.297627  \n",
              "3           94.777718  \n",
              "4           23.735519  "
            ]
          },
          "execution_count": 26,
          "metadata": {},
          "output_type": "execute_result"
        }
      ],
      "source": [
        "#создадим столбец с долей пользователей, которые перешли от одного этапа на другой\n",
        "events_count = events_count.reset_index(drop=False)\n",
        "for i in events_count.index:\n",
        "    if i ==0:\n",
        "        events_count.loc[i, 'percent_user_total'] = 100\n",
        "    else:\n",
        "        events_count.loc[i, 'percent_user_total'] = (events_count.loc[i,'unique_users']/\n",
        "                                                   events_count.loc[i-1,'unique_users']*100\n",
        "                                                  )\n",
        "events_count"
      ]
    },
    {
      "cell_type": "markdown",
      "metadata": {
        "id": "0rkG60pjaDsP"
      },
      "source": [
        "\n",
        "События происходят в следующем порядке:\n",
        "\n",
        "    MainScreenAppear - появление главного экрана;\n",
        "    Tutorial - прохождение обучения по использоваю приложения (по желанию);\n",
        "    OffersScreenAppear - предложение о товаре (экран с товаром);\n",
        "    CartScreenAppear - переход в корзину;\n",
        "    PaymentScreenSuccessful - экран успешной оплаты заказа.\n",
        "\n",
        "Этап Tutorial тут лишний, так как обязательным не является и не влияет на то, дойдет ли пользователь до финальной покупки или нет. При изучении числа пользователей по событиям, видим, что больше всего человек в **MainScreenAppear -появление главного экрана** -117328, а самое маленькой число участников в событии **Tutorial- прохождение обучения по использоваю приложения (по желанию)** - 1005. Т.е. и событий этого типа слишком мало для анализа по сравнению с другими. Всего 11,32% из всех пользователей доходит от первого события и  до события **Tutorial**.\n",
        "\n",
        "50% из всего числа уникальных пользователей дошли до перехода в корзину. 47,70% людей оплатли свои покупки.\n",
        "\n",
        "Всего уникальных пользователей, которые учавствовали в первом событии - 7419 человека, А всего- 7534, т.е. 115 человек начали свою работу не с **MainScreenAppear - появление главного экрана** на мобильном приложении.\n"
      ]
    },
    {
      "cell_type": "markdown",
      "metadata": {
        "id": "-7SbNwNSaDsT"
      },
      "source": [
        " Доля пользователей, которые перешли из 1 этапа в OffersScreenAppear:2 этап - 61.9%. Доля пользователей, которые закончили выбирать товар на этапе 2 и  перешли в корзину составлет 81,3%, Те, кто прошел от корзины до оплаты 94,7%, до  обучающего ролика дошли лишь 23,7%.\n",
        "    \n"
      ]
    },
    {
      "cell_type": "code",
      "execution_count": null,
      "metadata": {
        "id": "hAXRaMTuaDsl"
      },
      "outputs": [],
      "source": [
        "#создадим таблицу без события Tutorial\n",
        "data_funnel = data[data['event_name'] != 'Tutorial']"
      ]
    },
    {
      "cell_type": "code",
      "execution_count": null,
      "metadata": {
        "id": "cOxstnjoaDss",
        "outputId": "a23b4147-2dcd-42ef-bad6-6647cd7e124c"
      },
      "outputs": [
        {
          "name": "stdout",
          "output_type": "stream",
          "text": [
            "Количество пользователей, которые учавствовали в событии MainScreenAppear:1 этап - 7419\n",
            "Количество пользователей, которые учавствовали в событии OffersScreenAppear:2 этап - 688\n",
            "Количество пользователей, которые учавствовали в событии CartScreenAppear:3 этап - 33\n",
            "Количество пользователей, которые учавствовали в событии PaymentScreenSuccessful:4 этап - 1\n"
          ]
        }
      ],
      "source": [
        "#посчитаем количество пользователей поэтапно\n",
        "users = data.pivot_table(index='device_id_hash', \n",
        "                         columns='event_name', \n",
        "                         values='date',\n",
        "                         aggfunc='min')\n",
        "\n",
        "step_1 = ~users['MainScreenAppear'].isna()\n",
        "step_2 = step_1 & (users['OffersScreenAppear'] > users['MainScreenAppear'])\n",
        "step_3 = step_2 & (users['CartScreenAppear'] > users['OffersScreenAppear'])\n",
        "step_4 = step_3 & (users['PaymentScreenSuccessful'] > users['CartScreenAppear'])\n",
        "\n",
        "n_main_screen = users[step_1].shape[0]\n",
        "print('Количество пользователей, которые учавствовали в событии MainScreenAppear:1 этап - {}'.format(n_main_screen))\n",
        "n_offer = users[step_2].shape[0]\n",
        "print('Количество пользователей, которые учавствовали в событии OffersScreenAppear:2 этап - {}'.format(n_offer))\n",
        "n_cart = users[step_3].shape[0]\n",
        "print('Количество пользователей, которые учавствовали в событии CartScreenAppear:3 этап - {}'.format(n_cart))      \n",
        "n_payment_successful = users[step_4].shape[0]\n",
        "print('Количество пользователей, которые учавствовали в событии PaymentScreenSuccessful:4 этап - {}'\\\n",
        "      .format(n_payment_successful))"
      ]
    },
    {
      "cell_type": "markdown",
      "metadata": {
        "id": "6OazHJdVaDsx"
      },
      "source": [
        "*Количество пользователей, которые начали с события **появление главного экрана**:1 этап - 7419 человек, \n",
        "на 2 этапе **предложение о товаре (экран с товаром)** перешло - 688 человек,\n",
        "**перешли  в корзину**- 3 этап - 33 человека, а **оплатил свои покупки** всего 1 человек.*\n",
        "\n",
        "*Изучим число пользователей в долях по событиям.*"
      ]
    },
    {
      "cell_type": "code",
      "execution_count": null,
      "metadata": {
        "id": "oCL2TifTaDs0",
        "outputId": "07c64079-7548-463a-9f8f-d7679e445298"
      },
      "outputs": [
        {
          "name": "stdout",
          "output_type": "stream",
          "text": [
            "Доля пользователей, которые учавствовали в событии MainScreenAppear:1 этап - 100.0%\n",
            "Доля пользователей, которые учавствовали в событии OffersScreenAppear:2 этап - 9.27%\n",
            "Доля пользователей, которые учавствовали в событии CartScreenAppear:3 этап - 0.44%\n",
            "Доля пользователей, которые учавствовали в событии PaymentScreenSuccessful:4 этап - 0.01%\n"
          ]
        }
      ],
      "source": [
        "#Выведем доли пользователей по событиям\n",
        "print('Доля пользователей, которые учавствовали в событии MainScreenAppear:1 этап - {}%'.format(\n",
        "    round(n_main_screen/n_main_screen*100, 2)))\n",
        "print('Доля пользователей, которые учавствовали в событии OffersScreenAppear:2 этап - {}%'.format(\n",
        "    round(n_offer/n_main_screen*100, 2)))\n",
        "print('Доля пользователей, которые учавствовали в событии CartScreenAppear:3 этап - {}%'.format(\n",
        "    round(n_cart/n_main_screen*100, 2)))\n",
        "print('Доля пользователей, которые учавствовали в событии PaymentScreenSuccessful:4 этап - {}%'.format(\n",
        "    round(n_payment_successful/n_main_screen*100, 2)))"
      ]
    },
    {
      "cell_type": "markdown",
      "metadata": {
        "id": "nYkwApsiaDs3"
      },
      "source": [
        "*Если взять за 100% событие **появление главного экрана**:1 этап, то всего 9,27% перешли к следующему этапу **по предложению о товаре (экран с товаром)** и лишь 0,44% **перешли  в корзину**- 3 этап. А до последнего 4 этапа дошло лишь 0,01%.* \n",
        "\n",
        "*Т.е. большой отсев произошел уже при переходе к товарам и так же могли быть какие то вопросы и трудности при оплате.*"
      ]
    },
    {
      "cell_type": "code",
      "execution_count": null,
      "metadata": {
        "id": "SQCYsnNBaDs6",
        "outputId": "ab80b5e4-add2-47f4-fcd6-8bb328d68070"
      },
      "outputs": [
        {
          "name": "stdout",
          "output_type": "stream",
          "text": [
            "Доля пользователей, которые учавствовали в событии MainScreenAppear:1 этап - 100.0%\n",
            "Доля пользователей, которые перешли из 1 этапа в OffersScreenAppear:2 этап - 9.27%\n",
            "Доля пользователей, которые перешли из 2 этапа в CartScreenAppear:3 этап - 4.8%\n",
            "Доля пользователей, которые перешли из 3 этапа в PaymentScreenSuccessful:4 этап - 3.03%\n"
          ]
        }
      ],
      "source": [
        "#Выведем доли пользователей по событиям\n",
        "print('Доля пользователей, которые учавствовали в событии MainScreenAppear:1 этап - {}%'.format(\n",
        "    round(n_main_screen/n_main_screen*100, 2)))\n",
        "print('Доля пользователей, которые перешли из 1 этапа в OffersScreenAppear:2 этап - {}%'.format(\n",
        "    round(n_offer/n_main_screen*100, 2)))\n",
        "print('Доля пользователей, которые перешли из 2 этапа в CartScreenAppear:3 этап - {}%'.format(\n",
        "    round(n_cart/n_offer*100, 2)))\n",
        "print('Доля пользователей, которые перешли из 3 этапа в PaymentScreenSuccessful:4 этап - {}%'.format(\n",
        "    round(n_payment_successful/n_cart*100, 2)))"
      ]
    },
    {
      "cell_type": "markdown",
      "metadata": {
        "id": "K0m6noUEaDtD"
      },
      "source": [
        "Доля пользователей, которые перешли из 1 этапа в OffersScreenAppear:2 этап - 9.27%. Доля пользователей, которые закончили выбирать товар на этапе 2 и  перешли в корзину составлет 4,8%, Те, кто прошел от корзины до оплаты 3,03%\n",
        "    \n"
      ]
    },
    {
      "cell_type": "markdown",
      "metadata": {
        "id": "5gqANYXFaDtU"
      },
      "source": [
        "## Шаг. Изучите результаты эксперимента"
      ]
    },
    {
      "cell_type": "code",
      "execution_count": null,
      "metadata": {
        "id": "7tVXhERVaDtY",
        "outputId": "d971e779-3994-40db-f6d7-f21cdd20c58b"
      },
      "outputs": [
        {
          "data": {
            "text/html": [
              "<div>\n",
              "<style scoped>\n",
              "    .dataframe tbody tr th:only-of-type {\n",
              "        vertical-align: middle;\n",
              "    }\n",
              "\n",
              "    .dataframe tbody tr th {\n",
              "        vertical-align: top;\n",
              "    }\n",
              "\n",
              "    .dataframe thead th {\n",
              "        text-align: right;\n",
              "    }\n",
              "</style>\n",
              "<table border=\"1\" class=\"dataframe\">\n",
              "  <thead>\n",
              "    <tr style=\"text-align: right;\">\n",
              "      <th></th>\n",
              "      <th>device_id_hash</th>\n",
              "    </tr>\n",
              "    <tr>\n",
              "      <th>exp_id</th>\n",
              "      <th></th>\n",
              "    </tr>\n",
              "  </thead>\n",
              "  <tbody>\n",
              "    <tr>\n",
              "      <th>246</th>\n",
              "      <td>2484</td>\n",
              "    </tr>\n",
              "    <tr>\n",
              "      <th>247</th>\n",
              "      <td>2513</td>\n",
              "    </tr>\n",
              "    <tr>\n",
              "      <th>248</th>\n",
              "      <td>2537</td>\n",
              "    </tr>\n",
              "  </tbody>\n",
              "</table>\n",
              "</div>"
            ],
            "text/plain": [
              "        device_id_hash\n",
              "exp_id                \n",
              "246               2484\n",
              "247               2513\n",
              "248               2537"
            ]
          },
          "execution_count": 31,
          "metadata": {},
          "output_type": "execute_result"
        }
      ],
      "source": [
        "#выведем число пользователей в группах\n",
        "data.groupby('exp_id')['device_id_hash'].nunique().to_frame()"
      ]
    },
    {
      "cell_type": "code",
      "execution_count": null,
      "metadata": {
        "id": "lGVe5hk-aDtb",
        "outputId": "ccae3abc-3b18-4287-808a-9a8f0d8a9ce2"
      },
      "outputs": [
        {
          "data": {
            "text/html": [
              "<div>\n",
              "<style scoped>\n",
              "    .dataframe tbody tr th:only-of-type {\n",
              "        vertical-align: middle;\n",
              "    }\n",
              "\n",
              "    .dataframe tbody tr th {\n",
              "        vertical-align: top;\n",
              "    }\n",
              "\n",
              "    .dataframe thead th {\n",
              "        text-align: right;\n",
              "    }\n",
              "</style>\n",
              "<table border=\"1\" class=\"dataframe\">\n",
              "  <thead>\n",
              "    <tr style=\"text-align: right;\">\n",
              "      <th>event_name</th>\n",
              "      <th>exp_id</th>\n",
              "      <th>CartScreenAppear</th>\n",
              "      <th>MainScreenAppear</th>\n",
              "      <th>OffersScreenAppear</th>\n",
              "      <th>PaymentScreenSuccessful</th>\n",
              "      <th>Tutorial</th>\n",
              "    </tr>\n",
              "  </thead>\n",
              "  <tbody>\n",
              "    <tr>\n",
              "      <th>0</th>\n",
              "      <td>246</td>\n",
              "      <td>1266</td>\n",
              "      <td>2450</td>\n",
              "      <td>1542</td>\n",
              "      <td>1200</td>\n",
              "      <td>278</td>\n",
              "    </tr>\n",
              "    <tr>\n",
              "      <th>1</th>\n",
              "      <td>247</td>\n",
              "      <td>1238</td>\n",
              "      <td>2476</td>\n",
              "      <td>1520</td>\n",
              "      <td>1158</td>\n",
              "      <td>283</td>\n",
              "    </tr>\n",
              "    <tr>\n",
              "      <th>2</th>\n",
              "      <td>248</td>\n",
              "      <td>1230</td>\n",
              "      <td>2493</td>\n",
              "      <td>1531</td>\n",
              "      <td>1181</td>\n",
              "      <td>279</td>\n",
              "    </tr>\n",
              "  </tbody>\n",
              "</table>\n",
              "</div>"
            ],
            "text/plain": [
              "event_name  exp_id  CartScreenAppear  MainScreenAppear  OffersScreenAppear  \\\n",
              "0              246              1266              2450                1542   \n",
              "1              247              1238              2476                1520   \n",
              "2              248              1230              2493                1531   \n",
              "\n",
              "event_name  PaymentScreenSuccessful  Tutorial  \n",
              "0                              1200       278  \n",
              "1                              1158       283  \n",
              "2                              1181       279  "
            ]
          },
          "execution_count": 32,
          "metadata": {},
          "output_type": "execute_result"
        }
      ],
      "source": [
        "#Выведем информацию по событиям по каждой группе\n",
        "users_by_events = data.pivot_table(index = 'exp_id',\n",
        "                                   columns = 'event_name',\n",
        "                                   values = 'device_id_hash',\n",
        "                                   aggfunc = 'nunique').reset_index()\n",
        "users_by_events"
      ]
    },
    {
      "cell_type": "markdown",
      "metadata": {
        "id": "YyzU3-4faDth"
      },
      "source": [
        "*Отметим, что во всех группах числа уникальных пользовотелей по разным событиям распределены приблизительно одинаково.*"
      ]
    },
    {
      "cell_type": "code",
      "execution_count": null,
      "metadata": {
        "id": "WASTikmOaDtj"
      },
      "outputs": [],
      "source": [
        "#напишем функцию получения p_value с заданием alpha- критический уровень статистической значимости\n",
        "def st_test(successes0, successes1, trials0, trials1, alpha):  \n",
        "    \n",
        "# пропорция успехов в первой группе:\n",
        "    p1 = successes0 / trials0 \n",
        "# пропорция успехов во второй группе:\n",
        "    p2 = successes1 / trials1 \n",
        "# пропорция успехов в комбинированном датасете:\n",
        "    p_combined = (successes0 + successes1) / (trials0 + trials1) \n",
        "# разница пропорций в датасетах\n",
        "    difference = p1 - p2\n",
        "# считаем статистику в ст.отклонениях стандартного нормального распределения\n",
        "    z_value = difference / mth.sqrt(p_combined * (1 - p_combined) * (1/trials0 + 1/trials1))\n",
        "# задаем стандартное нормальное распределение (среднее 0, ст.отклонение 1)\n",
        "    distr = st.norm(0, 1) \n",
        "\n",
        "    p_value = (1 - distr.cdf(abs(z_value))) * 2\n",
        "    return p_value"
      ]
    },
    {
      "cell_type": "markdown",
      "metadata": {
        "id": "kfwiT1xbaDtn"
      },
      "source": [
        "*Проведем сравнение двух А-групп и убедимся, что тест был проведен корректно и между ними нет статзначимых различий:*"
      ]
    },
    {
      "cell_type": "code",
      "execution_count": null,
      "metadata": {
        "id": "g8S4fOR8aDtp",
        "outputId": "325abcfb-89c8-48e8-aa6c-6df951678bc9"
      },
      "outputs": [
        {
          "data": {
            "text/html": [
              "<div>\n",
              "<style scoped>\n",
              "    .dataframe tbody tr th:only-of-type {\n",
              "        vertical-align: middle;\n",
              "    }\n",
              "\n",
              "    .dataframe tbody tr th {\n",
              "        vertical-align: top;\n",
              "    }\n",
              "\n",
              "    .dataframe thead th {\n",
              "        text-align: right;\n",
              "    }\n",
              "</style>\n",
              "<table border=\"1\" class=\"dataframe\">\n",
              "  <thead>\n",
              "    <tr style=\"text-align: right;\">\n",
              "      <th>event_name</th>\n",
              "      <th>CartScreenAppear</th>\n",
              "      <th>MainScreenAppear</th>\n",
              "      <th>OffersScreenAppear</th>\n",
              "      <th>PaymentScreenSuccessful</th>\n",
              "      <th>Tutorial</th>\n",
              "      <th>users_count</th>\n",
              "    </tr>\n",
              "    <tr>\n",
              "      <th>exp_id</th>\n",
              "      <th></th>\n",
              "      <th></th>\n",
              "      <th></th>\n",
              "      <th></th>\n",
              "      <th></th>\n",
              "      <th></th>\n",
              "    </tr>\n",
              "  </thead>\n",
              "  <tbody>\n",
              "    <tr>\n",
              "      <th>246</th>\n",
              "      <td>1266</td>\n",
              "      <td>2450</td>\n",
              "      <td>1542</td>\n",
              "      <td>1200</td>\n",
              "      <td>278</td>\n",
              "      <td>2484</td>\n",
              "    </tr>\n",
              "    <tr>\n",
              "      <th>247</th>\n",
              "      <td>1238</td>\n",
              "      <td>2476</td>\n",
              "      <td>1520</td>\n",
              "      <td>1158</td>\n",
              "      <td>283</td>\n",
              "      <td>2513</td>\n",
              "    </tr>\n",
              "    <tr>\n",
              "      <th>248</th>\n",
              "      <td>1230</td>\n",
              "      <td>2493</td>\n",
              "      <td>1531</td>\n",
              "      <td>1181</td>\n",
              "      <td>279</td>\n",
              "      <td>2537</td>\n",
              "    </tr>\n",
              "  </tbody>\n",
              "</table>\n",
              "</div>"
            ],
            "text/plain": [
              "event_name  CartScreenAppear  MainScreenAppear  OffersScreenAppear  \\\n",
              "exp_id                                                               \n",
              "246                     1266              2450                1542   \n",
              "247                     1238              2476                1520   \n",
              "248                     1230              2493                1531   \n",
              "\n",
              "event_name  PaymentScreenSuccessful  Tutorial  users_count  \n",
              "exp_id                                                      \n",
              "246                            1200       278         2484  \n",
              "247                            1158       283         2513  \n",
              "248                            1181       279         2537  "
            ]
          },
          "execution_count": 34,
          "metadata": {},
          "output_type": "execute_result"
        }
      ],
      "source": [
        "#добавим столбец с числом пользователей в таблицу\n",
        "users_count = data.groupby('exp_id')['device_id_hash'].nunique()\n",
        "users_by_events['users_count'] = users_by_events['exp_id'].apply(lambda x: users_count.loc[x])\n",
        "users_by_events = users_by_events.set_index('exp_id')\n",
        "users_by_events"
      ]
    },
    {
      "cell_type": "code",
      "execution_count": null,
      "metadata": {
        "id": "qPozI3tcaDty",
        "outputId": "ff5b5835-fc90-42be-be09-274da599194b"
      },
      "outputs": [
        {
          "data": {
            "text/html": [
              "<div>\n",
              "<style scoped>\n",
              "    .dataframe tbody tr th:only-of-type {\n",
              "        vertical-align: middle;\n",
              "    }\n",
              "\n",
              "    .dataframe tbody tr th {\n",
              "        vertical-align: top;\n",
              "    }\n",
              "\n",
              "    .dataframe thead th {\n",
              "        text-align: right;\n",
              "    }\n",
              "</style>\n",
              "<table border=\"1\" class=\"dataframe\">\n",
              "  <thead>\n",
              "    <tr style=\"text-align: right;\">\n",
              "      <th>event_name</th>\n",
              "      <th>MainScreenAppear</th>\n",
              "      <th>OffersScreenAppear</th>\n",
              "      <th>CartScreenAppear</th>\n",
              "      <th>PaymentScreenSuccessful</th>\n",
              "      <th>Tutorial</th>\n",
              "      <th>users_count</th>\n",
              "    </tr>\n",
              "    <tr>\n",
              "      <th>exp_id</th>\n",
              "      <th></th>\n",
              "      <th></th>\n",
              "      <th></th>\n",
              "      <th></th>\n",
              "      <th></th>\n",
              "      <th></th>\n",
              "    </tr>\n",
              "  </thead>\n",
              "  <tbody>\n",
              "    <tr>\n",
              "      <th>246</th>\n",
              "      <td>2450</td>\n",
              "      <td>1542</td>\n",
              "      <td>1266</td>\n",
              "      <td>1200</td>\n",
              "      <td>278</td>\n",
              "      <td>2484</td>\n",
              "    </tr>\n",
              "    <tr>\n",
              "      <th>247</th>\n",
              "      <td>2476</td>\n",
              "      <td>1520</td>\n",
              "      <td>1238</td>\n",
              "      <td>1158</td>\n",
              "      <td>283</td>\n",
              "      <td>2513</td>\n",
              "    </tr>\n",
              "    <tr>\n",
              "      <th>248</th>\n",
              "      <td>2493</td>\n",
              "      <td>1531</td>\n",
              "      <td>1230</td>\n",
              "      <td>1181</td>\n",
              "      <td>279</td>\n",
              "      <td>2537</td>\n",
              "    </tr>\n",
              "  </tbody>\n",
              "</table>\n",
              "</div>"
            ],
            "text/plain": [
              "event_name  MainScreenAppear  OffersScreenAppear  CartScreenAppear  \\\n",
              "exp_id                                                               \n",
              "246                     2450                1542              1266   \n",
              "247                     2476                1520              1238   \n",
              "248                     2493                1531              1230   \n",
              "\n",
              "event_name  PaymentScreenSuccessful  Tutorial  users_count  \n",
              "exp_id                                                      \n",
              "246                            1200       278         2484  \n",
              "247                            1158       283         2513  \n",
              "248                            1181       279         2537  "
            ]
          },
          "execution_count": 35,
          "metadata": {},
          "output_type": "execute_result"
        }
      ],
      "source": [
        "#Зададим последовательность столбцов по воронке.\n",
        "users_by_events = users_by_events[['MainScreenAppear', 'OffersScreenAppear',\n",
        "                                   'CartScreenAppear', 'PaymentScreenSuccessful', 'Tutorial', 'users_count']]\n",
        "users_by_events = users_by_events.reindex([246, 247, 248])\n",
        "users_by_events   "
      ]
    },
    {
      "cell_type": "markdown",
      "metadata": {
        "id": "UOH862LOaDuB"
      },
      "source": [
        "\n",
        " Сформулируем **Нулевую гипотезу** - Разница между долями учавствующих в событии пользователей в группах статистически незначима.\n",
        "    \n",
        "  **Альтернативная гипотеза** - Разница между долями учавствующих в событии пользователей в группах статистически значима.\n",
        "  Проверим это.\n"
      ]
    },
    {
      "cell_type": "code",
      "execution_count": null,
      "metadata": {
        "id": "HEZyro7NaDuX",
        "outputId": "816e633d-89e2-48b1-cc05-dd94811a2e23"
      },
      "outputs": [
        {
          "name": "stderr",
          "output_type": "stream",
          "text": [
            "/tmp/ipykernel_79/1540392551.py:26: DeprecationWarning: In future, it will be an error for 'np.bool_' scalars to be interpreted as an index\n",
            "  'Результат': result_options[p_value_result >= 0.05]}\n"
          ]
        },
        {
          "data": {
            "text/html": [
              "<div>\n",
              "<style scoped>\n",
              "    .dataframe tbody tr th:only-of-type {\n",
              "        vertical-align: middle;\n",
              "    }\n",
              "\n",
              "    .dataframe tbody tr th {\n",
              "        vertical-align: top;\n",
              "    }\n",
              "\n",
              "    .dataframe thead th {\n",
              "        text-align: right;\n",
              "    }\n",
              "</style>\n",
              "<table border=\"1\" class=\"dataframe\">\n",
              "  <thead>\n",
              "    <tr style=\"text-align: right;\">\n",
              "      <th></th>\n",
              "      <th>Группа_1</th>\n",
              "      <th>Группа_2</th>\n",
              "      <th>Событие</th>\n",
              "      <th>p_alpha</th>\n",
              "      <th>p_value</th>\n",
              "      <th>Результат</th>\n",
              "    </tr>\n",
              "  </thead>\n",
              "  <tbody>\n",
              "    <tr>\n",
              "      <th>0</th>\n",
              "      <td>246</td>\n",
              "      <td>247</td>\n",
              "      <td>MainScreenAppear</td>\n",
              "      <td>0.05</td>\n",
              "      <td>0.75706</td>\n",
              "      <td>Не получилось отвергнуть нулевую гипотезу, нет оснований считать доли разными</td>\n",
              "    </tr>\n",
              "    <tr>\n",
              "      <th>1</th>\n",
              "      <td>246</td>\n",
              "      <td>247</td>\n",
              "      <td>OffersScreenAppear</td>\n",
              "      <td>0.05</td>\n",
              "      <td>0.24810</td>\n",
              "      <td>Не получилось отвергнуть нулевую гипотезу, нет оснований считать доли разными</td>\n",
              "    </tr>\n",
              "    <tr>\n",
              "      <th>2</th>\n",
              "      <td>246</td>\n",
              "      <td>247</td>\n",
              "      <td>CartScreenAppear</td>\n",
              "      <td>0.05</td>\n",
              "      <td>0.22883</td>\n",
              "      <td>Не получилось отвергнуть нулевую гипотезу, нет оснований считать доли разными</td>\n",
              "    </tr>\n",
              "    <tr>\n",
              "      <th>3</th>\n",
              "      <td>246</td>\n",
              "      <td>247</td>\n",
              "      <td>PaymentScreenSuccessful</td>\n",
              "      <td>0.05</td>\n",
              "      <td>0.11457</td>\n",
              "      <td>Не получилось отвергнуть нулевую гипотезу, нет оснований считать доли разными</td>\n",
              "    </tr>\n",
              "  </tbody>\n",
              "</table>\n",
              "</div>"
            ],
            "text/plain": [
              "  Группа_1 Группа_2                  Событие  p_alpha  p_value  \\\n",
              "0      246      247         MainScreenAppear     0.05  0.75706   \n",
              "1      246      247       OffersScreenAppear     0.05  0.24810   \n",
              "2      246      247         CartScreenAppear     0.05  0.22883   \n",
              "3      246      247  PaymentScreenSuccessful     0.05  0.11457   \n",
              "\n",
              "                                                                       Результат  \n",
              "0  Не получилось отвергнуть нулевую гипотезу, нет оснований считать доли разными  \n",
              "1  Не получилось отвергнуть нулевую гипотезу, нет оснований считать доли разными  \n",
              "2  Не получилось отвергнуть нулевую гипотезу, нет оснований считать доли разными  \n",
              "3  Не получилось отвергнуть нулевую гипотезу, нет оснований считать доли разными  "
            ]
          },
          "execution_count": 36,
          "metadata": {},
          "output_type": "execute_result"
        }
      ],
      "source": [
        "#создадим таблицу для вывода результатов по определению разницы между группами 246,247\n",
        "AA_pivot = pd.DataFrame(columns=['Группа_1', 'Группа_2', 'Событие', 'p_alpha', 'p_value', 'Результат'])\n",
        "\n",
        "result_options = [\"Отвергаем нулевую гипотезу - между долями есть статзначимая разница\",\n",
        "                  \"Не получилось отвергнуть нулевую гипотезу, нет оснований считать доли разными\"]\n",
        "\n",
        "group_1 = 246\n",
        "current_row = users_by_events.loc[group_1]\n",
        "group_2 = 247\n",
        "\n",
        "#\n",
        "\n",
        "for event_number in range(4):\n",
        "    curr_event = users_by_events.columns[event_number]\n",
        "    p_value_result = st_test(current_row[curr_event], \n",
        "                                   users_by_events[curr_event][group_2],\n",
        "                                   current_row['users_count'],\n",
        "                                   users_by_events['users_count'][group_2],\n",
        "                                   alpha = .05\n",
        "                           )\n",
        "    new_row = {'Группа_1': group_1,\n",
        "               'Группа_2': group_2,\n",
        "               'Событие': users_by_events.columns[event_number],\n",
        "               'p_alpha': 0.05,\n",
        "               'p_value': round(p_value_result, 5),\n",
        "               'Результат': result_options[p_value_result >= 0.05]}\n",
        "    AA_pivot = AA_pivot.append([new_row])\n",
        "    \n",
        "pd.options.display.max_colwidth = 150\n",
        "AA_pivot.index = range(len(AA_pivot))\n",
        "AA_pivot"
      ]
    },
    {
      "cell_type": "markdown",
      "metadata": {
        "id": "YUcdRt7UaDuc"
      },
      "source": [
        "*Тест проведен корректно - статзначимых различий между двумя А-группами (246 и 247) не обнаружено.*"
      ]
    },
    {
      "cell_type": "code",
      "execution_count": null,
      "metadata": {
        "scrolled": true,
        "id": "UoYzJ8g7aDuj",
        "outputId": "5d703dda-8fdf-44d0-ab2b-131e36eb2e20"
      },
      "outputs": [
        {
          "data": {
            "text/html": [
              "<div>\n",
              "<style scoped>\n",
              "    .dataframe tbody tr th:only-of-type {\n",
              "        vertical-align: middle;\n",
              "    }\n",
              "\n",
              "    .dataframe tbody tr th {\n",
              "        vertical-align: top;\n",
              "    }\n",
              "\n",
              "    .dataframe thead th {\n",
              "        text-align: right;\n",
              "    }\n",
              "</style>\n",
              "<table border=\"1\" class=\"dataframe\">\n",
              "  <thead>\n",
              "    <tr style=\"text-align: right;\">\n",
              "      <th>event_name</th>\n",
              "      <th>MainScreenAppear</th>\n",
              "      <th>OffersScreenAppear</th>\n",
              "      <th>CartScreenAppear</th>\n",
              "      <th>PaymentScreenSuccessful</th>\n",
              "      <th>Tutorial</th>\n",
              "      <th>users_count</th>\n",
              "    </tr>\n",
              "    <tr>\n",
              "      <th>exp_id</th>\n",
              "      <th></th>\n",
              "      <th></th>\n",
              "      <th></th>\n",
              "      <th></th>\n",
              "      <th></th>\n",
              "      <th></th>\n",
              "    </tr>\n",
              "  </thead>\n",
              "  <tbody>\n",
              "    <tr>\n",
              "      <th>246</th>\n",
              "      <td>2450</td>\n",
              "      <td>1542</td>\n",
              "      <td>1266</td>\n",
              "      <td>1200</td>\n",
              "      <td>278</td>\n",
              "      <td>2484</td>\n",
              "    </tr>\n",
              "    <tr>\n",
              "      <th>247</th>\n",
              "      <td>2476</td>\n",
              "      <td>1520</td>\n",
              "      <td>1238</td>\n",
              "      <td>1158</td>\n",
              "      <td>283</td>\n",
              "      <td>2513</td>\n",
              "    </tr>\n",
              "    <tr>\n",
              "      <th>248</th>\n",
              "      <td>2493</td>\n",
              "      <td>1531</td>\n",
              "      <td>1230</td>\n",
              "      <td>1181</td>\n",
              "      <td>279</td>\n",
              "      <td>2537</td>\n",
              "    </tr>\n",
              "  </tbody>\n",
              "</table>\n",
              "</div>"
            ],
            "text/plain": [
              "event_name  MainScreenAppear  OffersScreenAppear  CartScreenAppear  \\\n",
              "exp_id                                                               \n",
              "246                     2450                1542              1266   \n",
              "247                     2476                1520              1238   \n",
              "248                     2493                1531              1230   \n",
              "\n",
              "event_name  PaymentScreenSuccessful  Tutorial  users_count  \n",
              "exp_id                                                      \n",
              "246                            1200       278         2484  \n",
              "247                            1158       283         2513  \n",
              "248                            1181       279         2537  "
            ]
          },
          "execution_count": 37,
          "metadata": {},
          "output_type": "execute_result"
        }
      ],
      "source": [
        "users_by_events "
      ]
    },
    {
      "cell_type": "code",
      "execution_count": null,
      "metadata": {
        "id": "4k8T5vciaDuo",
        "outputId": "5c6168b4-60c8-43c4-9543-beca292bf51d"
      },
      "outputs": [
        {
          "data": {
            "text/plain": [
              "exp_id\n",
              "246    98.63\n",
              "247    98.53\n",
              "248    98.27\n",
              "dtype: float64"
            ]
          },
          "execution_count": 38,
          "metadata": {},
          "output_type": "execute_result"
        }
      ],
      "source": [
        "#Посчитайте долю пользователей популярного события MainScreenAppear\n",
        "round((users_by_events['MainScreenAppear']/users_by_events['users_count'])*100,2)"
      ]
    },
    {
      "cell_type": "markdown",
      "metadata": {
        "id": "ME2d6SX3aDuz"
      },
      "source": [
        " По таблице **users_by_events** мы увидели, что больше всего пользователей в событии показа главного экрана во всех трех группах, их процент от общего числа пользователей у всех групп составляет 98%.\n"
      ]
    },
    {
      "cell_type": "code",
      "execution_count": null,
      "metadata": {
        "id": "HFKSIbeAaDu5",
        "outputId": "f0ab4900-48ba-4af0-d5de-a6e124fed01b"
      },
      "outputs": [
        {
          "data": {
            "text/html": [
              "<div>\n",
              "<style scoped>\n",
              "    .dataframe tbody tr th:only-of-type {\n",
              "        vertical-align: middle;\n",
              "    }\n",
              "\n",
              "    .dataframe tbody tr th {\n",
              "        vertical-align: top;\n",
              "    }\n",
              "\n",
              "    .dataframe thead th {\n",
              "        text-align: right;\n",
              "    }\n",
              "</style>\n",
              "<table border=\"1\" class=\"dataframe\">\n",
              "  <thead>\n",
              "    <tr style=\"text-align: right;\">\n",
              "      <th>event_name</th>\n",
              "      <th>MainScreenAppear</th>\n",
              "      <th>OffersScreenAppear</th>\n",
              "      <th>CartScreenAppear</th>\n",
              "      <th>PaymentScreenSuccessful</th>\n",
              "      <th>Tutorial</th>\n",
              "      <th>users_count</th>\n",
              "    </tr>\n",
              "  </thead>\n",
              "  <tbody>\n",
              "    <tr>\n",
              "      <th>246</th>\n",
              "      <td>2450</td>\n",
              "      <td>1542</td>\n",
              "      <td>1266</td>\n",
              "      <td>1200</td>\n",
              "      <td>278</td>\n",
              "      <td>2484</td>\n",
              "    </tr>\n",
              "    <tr>\n",
              "      <th>247</th>\n",
              "      <td>2476</td>\n",
              "      <td>1520</td>\n",
              "      <td>1238</td>\n",
              "      <td>1158</td>\n",
              "      <td>283</td>\n",
              "      <td>2513</td>\n",
              "    </tr>\n",
              "    <tr>\n",
              "      <th>246_247</th>\n",
              "      <td>4926</td>\n",
              "      <td>3062</td>\n",
              "      <td>2504</td>\n",
              "      <td>2358</td>\n",
              "      <td>561</td>\n",
              "      <td>4997</td>\n",
              "    </tr>\n",
              "    <tr>\n",
              "      <th>248</th>\n",
              "      <td>2493</td>\n",
              "      <td>1531</td>\n",
              "      <td>1230</td>\n",
              "      <td>1181</td>\n",
              "      <td>279</td>\n",
              "      <td>2537</td>\n",
              "    </tr>\n",
              "  </tbody>\n",
              "</table>\n",
              "</div>"
            ],
            "text/plain": [
              "event_name  MainScreenAppear  OffersScreenAppear  CartScreenAppear  \\\n",
              "246                     2450                1542              1266   \n",
              "247                     2476                1520              1238   \n",
              "246_247                 4926                3062              2504   \n",
              "248                     2493                1531              1230   \n",
              "\n",
              "event_name  PaymentScreenSuccessful  Tutorial  users_count  \n",
              "246                            1200       278         2484  \n",
              "247                            1158       283         2513  \n",
              "246_247                        2358       561         4997  \n",
              "248                            1181       279         2537  "
            ]
          },
          "execution_count": 39,
          "metadata": {},
          "output_type": "execute_result"
        }
      ],
      "source": [
        "#объединим группы 246 и 247 в новую колонку\n",
        "new_row = users_by_events.loc[246] + users_by_events.loc[247]\n",
        "new_row.name = '246_247'\n",
        "users_by_events = users_by_events.append([new_row])\n",
        "users_by_events = users_by_events.reindex([246, 247, '246_247', 248])\n",
        "users_by_events"
      ]
    },
    {
      "cell_type": "markdown",
      "metadata": {
        "id": "R57ywpa5aDu_"
      },
      "source": [
        "Теперь посмотрим на результаты АВ-теста:\n",
        "\n",
        "    А-группа: 246, В-группа: 248;\n",
        "    А-группа: 247, В-группа: 248;\n",
        "    А-группа: объединение 246 и 247 групп:\n",
        "\n"
      ]
    },
    {
      "cell_type": "code",
      "execution_count": null,
      "metadata": {
        "id": "7F2-pJGJaDvF",
        "outputId": "78cfa8de-cce2-4636-caa6-83ec80c94aea"
      },
      "outputs": [
        {
          "name": "stderr",
          "output_type": "stream",
          "text": [
            "/tmp/ipykernel_79/3376844521.py:25: DeprecationWarning: In future, it will be an error for 'np.bool_' scalars to be interpreted as an index\n",
            "  'Результат': result_options[p_value_result >= 0.05]}\n"
          ]
        },
        {
          "data": {
            "text/html": [
              "<div>\n",
              "<style scoped>\n",
              "    .dataframe tbody tr th:only-of-type {\n",
              "        vertical-align: middle;\n",
              "    }\n",
              "\n",
              "    .dataframe tbody tr th {\n",
              "        vertical-align: top;\n",
              "    }\n",
              "\n",
              "    .dataframe thead th {\n",
              "        text-align: right;\n",
              "    }\n",
              "</style>\n",
              "<table border=\"1\" class=\"dataframe\">\n",
              "  <thead>\n",
              "    <tr style=\"text-align: right;\">\n",
              "      <th></th>\n",
              "      <th>Группа_1</th>\n",
              "      <th>Группа_2</th>\n",
              "      <th>Событие</th>\n",
              "      <th>p_alpha</th>\n",
              "      <th>p_value</th>\n",
              "      <th>Результат</th>\n",
              "    </tr>\n",
              "  </thead>\n",
              "  <tbody>\n",
              "    <tr>\n",
              "      <th>0</th>\n",
              "      <td>246</td>\n",
              "      <td>248</td>\n",
              "      <td>MainScreenAppear</td>\n",
              "      <td>0.05</td>\n",
              "      <td>0.29497</td>\n",
              "      <td>Не получилось отвергнуть нулевую гипотезу, нет оснований считать доли разными</td>\n",
              "    </tr>\n",
              "    <tr>\n",
              "      <th>1</th>\n",
              "      <td>246</td>\n",
              "      <td>248</td>\n",
              "      <td>OffersScreenAppear</td>\n",
              "      <td>0.05</td>\n",
              "      <td>0.20836</td>\n",
              "      <td>Не получилось отвергнуть нулевую гипотезу, нет оснований считать доли разными</td>\n",
              "    </tr>\n",
              "    <tr>\n",
              "      <th>2</th>\n",
              "      <td>246</td>\n",
              "      <td>248</td>\n",
              "      <td>CartScreenAppear</td>\n",
              "      <td>0.05</td>\n",
              "      <td>0.07843</td>\n",
              "      <td>Не получилось отвергнуть нулевую гипотезу, нет оснований считать доли разными</td>\n",
              "    </tr>\n",
              "    <tr>\n",
              "      <th>3</th>\n",
              "      <td>246</td>\n",
              "      <td>248</td>\n",
              "      <td>PaymentScreenSuccessful</td>\n",
              "      <td>0.05</td>\n",
              "      <td>0.21226</td>\n",
              "      <td>Не получилось отвергнуть нулевую гипотезу, нет оснований считать доли разными</td>\n",
              "    </tr>\n",
              "    <tr>\n",
              "      <th>4</th>\n",
              "      <td>247</td>\n",
              "      <td>248</td>\n",
              "      <td>MainScreenAppear</td>\n",
              "      <td>0.05</td>\n",
              "      <td>0.45871</td>\n",
              "      <td>Не получилось отвергнуть нулевую гипотезу, нет оснований считать доли разными</td>\n",
              "    </tr>\n",
              "    <tr>\n",
              "      <th>5</th>\n",
              "      <td>247</td>\n",
              "      <td>248</td>\n",
              "      <td>OffersScreenAppear</td>\n",
              "      <td>0.05</td>\n",
              "      <td>0.91978</td>\n",
              "      <td>Не получилось отвергнуть нулевую гипотезу, нет оснований считать доли разными</td>\n",
              "    </tr>\n",
              "    <tr>\n",
              "      <th>6</th>\n",
              "      <td>247</td>\n",
              "      <td>248</td>\n",
              "      <td>CartScreenAppear</td>\n",
              "      <td>0.05</td>\n",
              "      <td>0.57862</td>\n",
              "      <td>Не получилось отвергнуть нулевую гипотезу, нет оснований считать доли разными</td>\n",
              "    </tr>\n",
              "    <tr>\n",
              "      <th>7</th>\n",
              "      <td>247</td>\n",
              "      <td>248</td>\n",
              "      <td>PaymentScreenSuccessful</td>\n",
              "      <td>0.05</td>\n",
              "      <td>0.73734</td>\n",
              "      <td>Не получилось отвергнуть нулевую гипотезу, нет оснований считать доли разными</td>\n",
              "    </tr>\n",
              "    <tr>\n",
              "      <th>8</th>\n",
              "      <td>246_247</td>\n",
              "      <td>248</td>\n",
              "      <td>MainScreenAppear</td>\n",
              "      <td>0.05</td>\n",
              "      <td>0.29425</td>\n",
              "      <td>Не получилось отвергнуть нулевую гипотезу, нет оснований считать доли разными</td>\n",
              "    </tr>\n",
              "    <tr>\n",
              "      <th>9</th>\n",
              "      <td>246_247</td>\n",
              "      <td>248</td>\n",
              "      <td>OffersScreenAppear</td>\n",
              "      <td>0.05</td>\n",
              "      <td>0.43426</td>\n",
              "      <td>Не получилось отвергнуть нулевую гипотезу, нет оснований считать доли разными</td>\n",
              "    </tr>\n",
              "    <tr>\n",
              "      <th>10</th>\n",
              "      <td>246_247</td>\n",
              "      <td>248</td>\n",
              "      <td>CartScreenAppear</td>\n",
              "      <td>0.05</td>\n",
              "      <td>0.18176</td>\n",
              "      <td>Не получилось отвергнуть нулевую гипотезу, нет оснований считать доли разными</td>\n",
              "    </tr>\n",
              "    <tr>\n",
              "      <th>11</th>\n",
              "      <td>246_247</td>\n",
              "      <td>248</td>\n",
              "      <td>PaymentScreenSuccessful</td>\n",
              "      <td>0.05</td>\n",
              "      <td>0.60043</td>\n",
              "      <td>Не получилось отвергнуть нулевую гипотезу, нет оснований считать доли разными</td>\n",
              "    </tr>\n",
              "  </tbody>\n",
              "</table>\n",
              "</div>"
            ],
            "text/plain": [
              "   Группа_1 Группа_2                  Событие  p_alpha  p_value  \\\n",
              "0       246      248         MainScreenAppear     0.05  0.29497   \n",
              "1       246      248       OffersScreenAppear     0.05  0.20836   \n",
              "2       246      248         CartScreenAppear     0.05  0.07843   \n",
              "3       246      248  PaymentScreenSuccessful     0.05  0.21226   \n",
              "4       247      248         MainScreenAppear     0.05  0.45871   \n",
              "5       247      248       OffersScreenAppear     0.05  0.91978   \n",
              "6       247      248         CartScreenAppear     0.05  0.57862   \n",
              "7       247      248  PaymentScreenSuccessful     0.05  0.73734   \n",
              "8   246_247      248         MainScreenAppear     0.05  0.29425   \n",
              "9   246_247      248       OffersScreenAppear     0.05  0.43426   \n",
              "10  246_247      248         CartScreenAppear     0.05  0.18176   \n",
              "11  246_247      248  PaymentScreenSuccessful     0.05  0.60043   \n",
              "\n",
              "                                                                        Результат  \n",
              "0   Не получилось отвергнуть нулевую гипотезу, нет оснований считать доли разными  \n",
              "1   Не получилось отвергнуть нулевую гипотезу, нет оснований считать доли разными  \n",
              "2   Не получилось отвергнуть нулевую гипотезу, нет оснований считать доли разными  \n",
              "3   Не получилось отвергнуть нулевую гипотезу, нет оснований считать доли разными  \n",
              "4   Не получилось отвергнуть нулевую гипотезу, нет оснований считать доли разными  \n",
              "5   Не получилось отвергнуть нулевую гипотезу, нет оснований считать доли разными  \n",
              "6   Не получилось отвергнуть нулевую гипотезу, нет оснований считать доли разными  \n",
              "7   Не получилось отвергнуть нулевую гипотезу, нет оснований считать доли разными  \n",
              "8   Не получилось отвергнуть нулевую гипотезу, нет оснований считать доли разными  \n",
              "9   Не получилось отвергнуть нулевую гипотезу, нет оснований считать доли разными  \n",
              "10  Не получилось отвергнуть нулевую гипотезу, нет оснований считать доли разными  \n",
              "11  Не получилось отвергнуть нулевую гипотезу, нет оснований считать доли разными  "
            ]
          },
          "execution_count": 40,
          "metadata": {},
          "output_type": "execute_result"
        }
      ],
      "source": [
        "#создадим таблицу для вывода результатов по определению разницы между группами 246,247,246-247, и 248\n",
        "#Применим критический уровень статистической значимости 0,05\n",
        "AB_pivot = pd.DataFrame(columns=['Группа_1', 'Группа_2', 'Событие', 'p_alpha', 'p_value', 'Результат'])\n",
        "\n",
        "result_options = [\"Отвергаем нулевую гипотезу - между долями есть статзначимая разница\",\n",
        "                  \"Не получилось отвергнуть нулевую гипотезу, нет оснований считать доли разными\"]\n",
        "\n",
        "for i in range(3):\n",
        "    group_1 = users_by_events.index[i]\n",
        "    current_row = users_by_events.loc[group_1]\n",
        "    group_2 = 248\n",
        "    for event_number in range(4):\n",
        "        curr_event = users_by_events.columns[event_number]\n",
        "        p_value_result = st_test(current_row[curr_event], \n",
        "                                       users_by_events[curr_event][group_2],\n",
        "                                       current_row['users_count'],\n",
        "                                       users_by_events['users_count'][group_2],\n",
        "                                       alpha = .05\n",
        "                               )\n",
        "        new_row = {'Группа_1': group_1,\n",
        "                   'Группа_2': group_2,\n",
        "                   'Событие': users_by_events.columns[event_number],\n",
        "                   'p_alpha': 0.05,\n",
        "                   'p_value': round(p_value_result, 5),\n",
        "                   'Результат': result_options[p_value_result >= 0.05]}\n",
        "        AB_pivot = AB_pivot.append([new_row])\n",
        "\n",
        "AB_pivot.index = range(len(AB_pivot))\n",
        "AB_pivot"
      ]
    },
    {
      "cell_type": "markdown",
      "metadata": {
        "id": "R3ndwBmnaDvd"
      },
      "source": [
        "\n",
        "\n",
        "Статзначимых отличий не обнаружено.\n",
        "\n",
        "Мы проводим множественный тест, т.е. берем несколько выборок из одного и того же набора данных. Его особенность в том, что с каждой новой проверкой гипотезы растёт вероятность ошибки первого рода. \n",
        "\n",
        "Ни по одному из проведенных сравнений не обнаружилось статзначимых различий, но мы увеличим вероятность случайно получить в реальном наблюдении значение, далёкое от предполагаемого в нулевой гипотезе. Пусть критический уровень статистической значимости будет рассчитан по методу Шидака. Проверим, как изменилась статзначимая разница между группами.\n"
      ]
    },
    {
      "cell_type": "code",
      "execution_count": null,
      "metadata": {
        "id": "UhtHVIYoaDv8"
      },
      "outputs": [],
      "source": [
        "#введем формулу поправки Шидака\n",
        "alpha = 0.05 # критический уровень статистической значимости\n",
        "m = 4 #число сравнений\n",
        "Shidaka = 1-(1-alpha)**(1/m)"
      ]
    },
    {
      "cell_type": "code",
      "execution_count": null,
      "metadata": {
        "id": "g5c1NEGDaDv_",
        "outputId": "c156f5ac-3a41-47a5-d714-8223e622d1ab"
      },
      "outputs": [
        {
          "name": "stderr",
          "output_type": "stream",
          "text": [
            "/tmp/ipykernel_79/3438920331.py:25: DeprecationWarning: In future, it will be an error for 'np.bool_' scalars to be interpreted as an index\n",
            "  'Результат': result_options[p_value_result >= Shidaka]}\n"
          ]
        },
        {
          "data": {
            "text/html": [
              "<div>\n",
              "<style scoped>\n",
              "    .dataframe tbody tr th:only-of-type {\n",
              "        vertical-align: middle;\n",
              "    }\n",
              "\n",
              "    .dataframe tbody tr th {\n",
              "        vertical-align: top;\n",
              "    }\n",
              "\n",
              "    .dataframe thead th {\n",
              "        text-align: right;\n",
              "    }\n",
              "</style>\n",
              "<table border=\"1\" class=\"dataframe\">\n",
              "  <thead>\n",
              "    <tr style=\"text-align: right;\">\n",
              "      <th></th>\n",
              "      <th>Группа_1</th>\n",
              "      <th>Группа_2</th>\n",
              "      <th>Событие</th>\n",
              "      <th>p_alpha</th>\n",
              "      <th>p_value</th>\n",
              "      <th>Результат</th>\n",
              "    </tr>\n",
              "  </thead>\n",
              "  <tbody>\n",
              "    <tr>\n",
              "      <th>0</th>\n",
              "      <td>246</td>\n",
              "      <td>247</td>\n",
              "      <td>MainScreenAppear</td>\n",
              "      <td>0.012741</td>\n",
              "      <td>0.75706</td>\n",
              "      <td>Не получилось отвергнуть нулевую гипотезу, нет оснований считать доли разными</td>\n",
              "    </tr>\n",
              "    <tr>\n",
              "      <th>1</th>\n",
              "      <td>246</td>\n",
              "      <td>247</td>\n",
              "      <td>OffersScreenAppear</td>\n",
              "      <td>0.012741</td>\n",
              "      <td>0.24810</td>\n",
              "      <td>Не получилось отвергнуть нулевую гипотезу, нет оснований считать доли разными</td>\n",
              "    </tr>\n",
              "    <tr>\n",
              "      <th>2</th>\n",
              "      <td>246</td>\n",
              "      <td>247</td>\n",
              "      <td>CartScreenAppear</td>\n",
              "      <td>0.012741</td>\n",
              "      <td>0.22883</td>\n",
              "      <td>Не получилось отвергнуть нулевую гипотезу, нет оснований считать доли разными</td>\n",
              "    </tr>\n",
              "    <tr>\n",
              "      <th>3</th>\n",
              "      <td>246</td>\n",
              "      <td>247</td>\n",
              "      <td>PaymentScreenSuccessful</td>\n",
              "      <td>0.012741</td>\n",
              "      <td>0.11457</td>\n",
              "      <td>Не получилось отвергнуть нулевую гипотезу, нет оснований считать доли разными</td>\n",
              "    </tr>\n",
              "  </tbody>\n",
              "</table>\n",
              "</div>"
            ],
            "text/plain": [
              "  Группа_1 Группа_2                  Событие   p_alpha  p_value  \\\n",
              "0      246      247         MainScreenAppear  0.012741  0.75706   \n",
              "1      246      247       OffersScreenAppear  0.012741  0.24810   \n",
              "2      246      247         CartScreenAppear  0.012741  0.22883   \n",
              "3      246      247  PaymentScreenSuccessful  0.012741  0.11457   \n",
              "\n",
              "                                                                       Результат  \n",
              "0  Не получилось отвергнуть нулевую гипотезу, нет оснований считать доли разными  \n",
              "1  Не получилось отвергнуть нулевую гипотезу, нет оснований считать доли разными  \n",
              "2  Не получилось отвергнуть нулевую гипотезу, нет оснований считать доли разными  \n",
              "3  Не получилось отвергнуть нулевую гипотезу, нет оснований считать доли разными  "
            ]
          },
          "execution_count": 42,
          "metadata": {},
          "output_type": "execute_result"
        }
      ],
      "source": [
        "#создадим таблицу для вывода результатов по определению разницы между группами 246,247\n",
        "#Применим критический уровень статистической значимости 0,1\n",
        "AA_pivot = pd.DataFrame(columns=['Группа_1', 'Группа_2', 'Событие', 'p_alpha', 'p_value', 'Результат'])\n",
        "\n",
        "result_options = [\"Отвергаем нулевую гипотезу - между долями есть статзначимая разница\",\n",
        "                  \"Не получилось отвергнуть нулевую гипотезу, нет оснований считать доли разными\"]\n",
        "\n",
        "group_1 = 246\n",
        "current_row = users_by_events.loc[group_1]\n",
        "group_2 = 247\n",
        "\n",
        "for event_number in range(4):\n",
        "    curr_event = users_by_events.columns[event_number]\n",
        "    p_value_result = st_test(current_row[curr_event], \n",
        "                                   users_by_events[curr_event][group_2],\n",
        "                                   current_row['users_count'],\n",
        "                                   users_by_events['users_count'][group_2],\n",
        "                                   Shidaka\n",
        "                           )\n",
        "    new_row = {'Группа_1': group_1,\n",
        "               'Группа_2': group_2,\n",
        "               'Событие': users_by_events.columns[event_number],\n",
        "               'p_alpha': Shidaka,\n",
        "               'p_value': round(p_value_result, 5),\n",
        "               'Результат': result_options[p_value_result >= Shidaka]}\n",
        "    AA_pivot = AA_pivot.append([new_row])\n",
        "\n",
        "pd.options.display.max_colwidth = 150\n",
        "AA_pivot.index = range(len(AA_pivot))\n",
        "AA_pivot"
      ]
    },
    {
      "cell_type": "markdown",
      "metadata": {
        "id": "_hofCnsSaDwI"
      },
      "source": [
        "*Статзначимых различий между двумя А-группами (246 и 247) при критическом уровене статистической значимости, рассчитанным по методу Шидака, также не обнаружено.*"
      ]
    },
    {
      "cell_type": "code",
      "execution_count": null,
      "metadata": {
        "id": "hcraVA9UaDwL",
        "outputId": "3588d52e-77ea-4bc3-cc81-73a86215770e"
      },
      "outputs": [
        {
          "ename": "NameError",
          "evalue": "name 'pd' is not defined",
          "output_type": "error",
          "traceback": [
            "\u001b[0;31m---------------------------------------------------------------------------\u001b[0m",
            "\u001b[0;31mNameError\u001b[0m                                 Traceback (most recent call last)",
            "\u001b[0;32m/tmp/ipykernel_31/2751113790.py\u001b[0m in \u001b[0;36m<module>\u001b[0;34m\u001b[0m\n\u001b[1;32m      1\u001b[0m \u001b[0;31m#создадим таблицу для вывода результатов по определению разницы между группами 246,247,246-247, и 248\u001b[0m\u001b[0;34m\u001b[0m\u001b[0;34m\u001b[0m\u001b[0;34m\u001b[0m\u001b[0m\n\u001b[1;32m      2\u001b[0m \u001b[0;31m#Применим критический уровень статистической значимости 0,1\u001b[0m\u001b[0;34m\u001b[0m\u001b[0;34m\u001b[0m\u001b[0;34m\u001b[0m\u001b[0m\n\u001b[0;32m----> 3\u001b[0;31m \u001b[0mAB_pivot\u001b[0m \u001b[0;34m=\u001b[0m \u001b[0mpd\u001b[0m\u001b[0;34m.\u001b[0m\u001b[0mDataFrame\u001b[0m\u001b[0;34m(\u001b[0m\u001b[0mcolumns\u001b[0m\u001b[0;34m=\u001b[0m\u001b[0;34m[\u001b[0m\u001b[0;34m'Группа_1'\u001b[0m\u001b[0;34m,\u001b[0m \u001b[0;34m'Группа_2'\u001b[0m\u001b[0;34m,\u001b[0m \u001b[0;34m'Событие'\u001b[0m\u001b[0;34m,\u001b[0m \u001b[0;34m'p_alpha'\u001b[0m\u001b[0;34m,\u001b[0m \u001b[0;34m'p_value'\u001b[0m\u001b[0;34m,\u001b[0m \u001b[0;34m'Результат'\u001b[0m\u001b[0;34m]\u001b[0m\u001b[0;34m)\u001b[0m\u001b[0;34m\u001b[0m\u001b[0;34m\u001b[0m\u001b[0m\n\u001b[0m\u001b[1;32m      4\u001b[0m \u001b[0;34m\u001b[0m\u001b[0m\n\u001b[1;32m      5\u001b[0m result_options = [\"Отвергаем нулевую гипотезу - между долями есть статзначимая разница\",\n",
            "\u001b[0;31mNameError\u001b[0m: name 'pd' is not defined"
          ]
        }
      ],
      "source": [
        "#создадим таблицу для вывода результатов по определению разницы между группами 246,247,246-247, и 248\n",
        "#Применим критический уровень статистической значимости 0,1\n",
        "AB_pivot = pd.DataFrame(columns=['Группа_1', 'Группа_2', 'Событие', 'p_alpha', 'p_value', 'Результат'])\n",
        "\n",
        "result_options = [\"Отвергаем нулевую гипотезу - между долями есть статзначимая разница\",\n",
        "                  \"Не получилось отвергнуть нулевую гипотезу, нет оснований считать доли разными\"]\n",
        "\n",
        "for i in range(3):\n",
        "    group_1 = users_by_events.index[i]\n",
        "    current_row = users_by_events.loc[group_1]\n",
        "    group_2 = 248\n",
        "    for event_number in range(4):\n",
        "        curr_event = users_by_events.columns[event_number]\n",
        "        p_value_result = st_test(current_row[curr_event], \n",
        "                                       users_by_events[curr_event][group_2],\n",
        "                                       current_row['users_count'],\n",
        "                                       users_by_events['users_count'][group_2],\n",
        "                                       Shidaka\n",
        "                               )\n",
        "        new_row = {'Группа_1': group_1,\n",
        "                   'Группа_2': group_2,\n",
        "                   'Событие': users_by_events.columns[event_number],\n",
        "                   'p_alpha': Shidaka,\n",
        "                   'p_value': round(p_value_result, 5),\n",
        "                   'Результат': result_options[p_value_result >= Shidaka]}\n",
        "        AB_pivot = AB_pivot.append([new_row])\n",
        "\n",
        "AB_pivot.index = range(len(AB_pivot))\n",
        "AB_pivot"
      ]
    },
    {
      "cell_type": "markdown",
      "metadata": {
        "id": "7_a6mUuFaDwW"
      },
      "source": [
        "*Статзначимых различий по событиям между группами 246,247, 246_247 и 248 при критическом уровене статистической значимости, рассчитанным по методу Шидака,  также не обнаружено."
      ]
    },
    {
      "cell_type": "markdown",
      "metadata": {
        "id": "bNZkzB0LaDwY"
      },
      "source": [
        "## Вывод"
      ]
    },
    {
      "cell_type": "markdown",
      "metadata": {
        "id": "x-jSKvi6aDwa"
      },
      "source": [
        " Мы получили данные организации, которая продает продукты питания. И необходимо изучить, как ведут себя пользователи в мобильном приложении. Дизайнеры захотели поменять шрифты во всём приложении. Пользователей разбили на 3 группы: 2 контрольные со старыми шрифтами и одну экспериментальную — с новыми. Необходимобыло выяснить, какой шрифт лучше.\n",
        " Важно было понять - есть ли разница между значениями A и A, что могло бы  помочь обнаружить факторы, которые привели к искажению результатов. Сравнение контрольных групп также помогло понять, сколько времени и данных потребуется для дальнейших тестов.\n",
        " \n",
        "Итак:\n",
        "\n",
        "Каждая запись в логе — это действие пользователя, или событие.\n",
        "\n",
        "• EventName — название события;\n",
        "• DeviceIDHash — уникальный идентификатор пользователя;\n",
        "• EventTimestamp — время события;\n",
        "• ExpId — номер эксперимента: 246 и 247 — контрольные группы, а 248 — экспериментальная.\n",
        "\n",
        "При первом знакомстве с таблицей увидели, что необходимо название колонок привести к другому виду. Есть колонки с индексом, с разными названиями событий, уникальные идентификаторы пользователя, время события, которое в секундах, и номерами групп.\n",
        "\n",
        "Выяснили, что пересечения пользователей в группах нет. \n",
        "\n",
        "Создали столбцы с датой и временем, приведя к нужному формату. Остальные столбцы  имеют правильные типы данных и  корректировка не нужна была. Всего 244126 строк в таблице.\n",
        "\n",
        "Обнаружили 413 дубликатов в таблице и удалили их, чтобы они не влияли на результаты.\n",
        "\n",
        "Выяснили, что Всего событий в логе после удаления дубликатов: 243713,\n",
        "\n",
        "Имеем 5 названий событий,\n",
        "\n",
        "Всего число уникальных пользователей: 7551.\n",
        "\n",
        "Максимальное число событий у одного пользователя составляет 2308, среднее - 32, медианная -20, даже 75% - это 37 событий, и часто встречающееся число событий -5. Т.е. есть большие перепады в значениях, выбросы.\n",
        "\n",
        "Определили временные рамки: начало - 2019-07-25 04:43:36, конец - 2019-08-07 21:15:17, т.е  2 недели.\n",
        "\n",
        "По **Гистрограмме распределения событий по дате** увидели, что полные данные у нас есть только за период с 1 по 7 августа включительно. Поэтому дальше использовали этот период в исследовании.\n",
        "\n",
        "Проверили количество событий до фильтрации - 243713, после - 240887. Разность - 2826 или 1.16%.\n",
        "\n",
        "Количество пользователей до фильтрации - 7551, после - 7534. Разность - 17 или 0.23%.\n",
        "\n",
        "Доля удаленных данных небольшая, поэтому не повлияет на дальнейшее исследование.\n",
        "\n",
        "Отметили, что в группе 246 - 2484 уникальных пользователя, в 247 группе - 2513 человек, в 248 группе - 2537 пользователя. Т.е. имеется между ними небольшая разница.\n",
        "\n",
        "Изучили воронку событий.\n",
        "События происходят в следующем порядке:\n",
        "\n",
        "    MainScreenAppear - появление главного экрана;\n",
        "    Tutorial - прохождение обучения по использоваю приложения (по желанию);\n",
        "    OffersScreenAppear - предложение о товаре (экран с товаром);\n",
        "    CartScreenAppear - переход в корзину;\n",
        "    PaymentScreenSuccessful - экран успешной оплаты заказа.\n",
        "\n",
        "Этап **Tutorial** тут лишний, так как обязательным не является и не влияет на то, дойдет ли пользователь до финальной покупки или нет. При изучении числа пользователей по событиям, видим, что больше всего человек в **MainScreenAppear -появление главного экрана** -117328, а самое маленькой число участников в событии **Tutorial- прохождение обучения по использоваю приложения (по желанию)** - 1005. Т.е. и событий этого типа слишком мало для анализа по сравнению с другими. Всего 11,32% из всех пользователей доходит от первого события и  до события **Tutorial**.\n",
        "\n",
        "50% из всего числа уникальных пользователей дошли до перехода в корзину. 47,70% людей оплатли свои покупки.\n",
        "\n",
        "Всего уникальных пользователей, которые учавствовали в первом событии - 7419 человека, А всего- 7534, т.е. 115 человек начали свою работу не с **MainScreenAppear - появление главного экрана** на мобильном приложении.\n",
        "\n",
        "Количество пользователей, которые начали с события **появление главного экрана**:1 этап - 7419 человек, \n",
        "на 2 этапе **предложение о товаре (экран с товаром)** перешло - 688 человек,\n",
        "**перешли  в корзину**- 3 этап - 33 человека, а **оплатил свои покупки** всего 1 человек.\n",
        "\n",
        "Изучили число пользователей в долях по событиям.\n",
        "\n",
        "Если взять за 100% событие **появление главного экрана**:1 этап, то всего 9,27% перешли к следующему этапу **по предложению о товаре (экран с товаром)** и лишь 0,44% **перешли  в корзину**- 3 этап. А до последнего 4 этапа дошло лишь 0,01%. \n",
        "\n",
        "Т.е. большой отсев произошел уже при переходе к товарам и так же могли быть какие то вопросы и трудности при оплате.\n",
        "\n",
        "Доля пользователей, которые перешли из 1 этапа в OffersScreenAppear:2 этап - 61.9%. Доля пользователей, которые закончили выбирать товар на этапе 2 и  перешли в корзину составлет 81,3%, Те, кто прошел от корзины до оплаты 94,7%\n",
        "\n",
        "При анализе данных по группам выяснили, что во всех группах числа уникальных пользовотелей по разным событиям распределены приблизительно одинаково. Больше всего пользователей в событии **показа главного экрана** во всех трех группах, их процент от общего числа пользователей у всех групп составляет 98%,до  обучающего ролика дошли лишь 23,7%.\n",
        "\n",
        "Сформулировали Нулевую гипотезу - Разница между долями учавствующих в событии пользователей в группах статистически незначима.\n",
        "    \n",
        "  Альтернативная гипотеза - Разница между долями учавствующих в событии пользователей в группах статистически значима.\n",
        "  Проверим это. Проверили это. \n",
        "\n",
        "Провели сравнение двух А-групп и убедились, что тест был проведен корректно и между ними нет статзначимых различий.\n",
        "\n",
        "Затем изучили результаты АВ-теста:\n",
        "\n",
        "- А-группа: 246, В-группа: 248;\n",
        "- А-группа: 247, В-группа: 248;\n",
        "- А-группа: объединение 246 и 247 групп:\n",
        "Статзначимых отличий не обнаружено.\n",
        "\n",
        "Мы проводили множественный тест, т.е. брали несколько выборок из одного и того же набора данных. Его особенность в том, что с каждой новой проверкой гипотезы растёт вероятность ошибки первого рода. \n",
        "\n",
        "Ни по одному из проведенных сравнений не обнаружилось статзначимых различий, но мы увеличим вероятность случайно получить в реальном наблюдении значение, далёкое от предполагаемого в нулевой гипотезе. Установили критический уровень статистической значимости по методу Шидака. Проверили, как изменилась статзначимая разница между группами.\n",
        "\n",
        "Статзначимых различий по событиям между группами 246,247, 246_247 и 248 при критическом уровене статистической значимости, рассчитанным по методу Шидака, также не обнаружено.\n",
        "Поэтому было бы оптимально продолжить тест еще неделю, чтобы побольше получить данных и сравнить с имеющимся результатом.\n",
        "\n",
        "Также поднять вопрос о презентации товаров и перходу в каталог с продуктами. Проверить корректность работы страницы оплаты."
      ]
    },
    {
      "cell_type": "code",
      "execution_count": null,
      "metadata": {
        "id": "BCk9ux_vaDxJ"
      },
      "outputs": [],
      "source": []
    },
    {
      "cell_type": "code",
      "execution_count": null,
      "metadata": {
        "id": "goM_63ZlaDxL"
      },
      "outputs": [],
      "source": []
    }
  ],
  "metadata": {
    "ExecuteTimeLog": [
      {
        "duration": 1417,
        "start_time": "2023-02-17T18:27:03.941Z"
      },
      {
        "duration": 1120,
        "start_time": "2023-02-17T18:27:05.360Z"
      },
      {
        "duration": 304,
        "start_time": "2023-02-17T18:27:30.888Z"
      },
      {
        "duration": 55,
        "start_time": "2023-02-17T18:32:35.649Z"
      },
      {
        "duration": 293,
        "start_time": "2023-02-17T18:32:52.075Z"
      },
      {
        "duration": 160,
        "start_time": "2023-02-17T18:33:07.082Z"
      },
      {
        "duration": 5,
        "start_time": "2023-02-17T18:37:22.446Z"
      },
      {
        "duration": 5,
        "start_time": "2023-02-17T18:38:32.570Z"
      },
      {
        "duration": 28,
        "start_time": "2023-02-17T18:40:56.260Z"
      },
      {
        "duration": 6,
        "start_time": "2023-02-17T18:50:40.959Z"
      },
      {
        "duration": 17,
        "start_time": "2023-02-17T18:51:56.967Z"
      },
      {
        "duration": 98,
        "start_time": "2023-02-17T18:52:18.284Z"
      },
      {
        "duration": 76,
        "start_time": "2023-02-17T18:52:28.167Z"
      },
      {
        "duration": 21,
        "start_time": "2023-02-17T18:53:48.283Z"
      },
      {
        "duration": 30,
        "start_time": "2023-02-17T18:56:41.233Z"
      },
      {
        "duration": 699,
        "start_time": "2023-02-17T18:58:52.323Z"
      },
      {
        "duration": 20,
        "start_time": "2023-02-17T18:59:06.858Z"
      },
      {
        "duration": 11,
        "start_time": "2023-02-17T19:00:18.441Z"
      },
      {
        "duration": 8,
        "start_time": "2023-02-17T19:00:44.292Z"
      },
      {
        "duration": 7,
        "start_time": "2023-02-17T19:00:48.706Z"
      },
      {
        "duration": 9,
        "start_time": "2023-02-17T19:01:09.450Z"
      },
      {
        "duration": 32,
        "start_time": "2023-02-17T19:03:49.824Z"
      },
      {
        "duration": 6,
        "start_time": "2023-02-17T19:06:55.969Z"
      },
      {
        "duration": 6,
        "start_time": "2023-02-17T19:08:16.216Z"
      },
      {
        "duration": 13,
        "start_time": "2023-02-17T19:09:04.657Z"
      },
      {
        "duration": 265,
        "start_time": "2023-02-17T19:10:41.271Z"
      },
      {
        "duration": 1433,
        "start_time": "2023-02-19T16:23:56.752Z"
      },
      {
        "duration": 901,
        "start_time": "2023-02-19T16:23:58.187Z"
      },
      {
        "duration": 5,
        "start_time": "2023-02-19T16:24:31.666Z"
      },
      {
        "duration": 21,
        "start_time": "2023-02-19T16:24:34.057Z"
      },
      {
        "duration": 34,
        "start_time": "2023-02-19T16:24:38.346Z"
      },
      {
        "duration": 18,
        "start_time": "2023-02-19T16:24:42.854Z"
      },
      {
        "duration": 85,
        "start_time": "2023-02-19T16:24:58.955Z"
      },
      {
        "duration": 108,
        "start_time": "2023-02-19T16:25:03.997Z"
      },
      {
        "duration": 20,
        "start_time": "2023-02-19T16:25:07.901Z"
      },
      {
        "duration": 94,
        "start_time": "2023-02-19T16:25:21.951Z"
      },
      {
        "duration": 23,
        "start_time": "2023-02-19T16:25:24.002Z"
      },
      {
        "duration": 8,
        "start_time": "2023-02-19T16:25:25.767Z"
      },
      {
        "duration": 7,
        "start_time": "2023-02-19T16:25:29.987Z"
      },
      {
        "duration": 22,
        "start_time": "2023-02-19T16:25:36.061Z"
      },
      {
        "duration": 7,
        "start_time": "2023-02-19T16:25:38.700Z"
      },
      {
        "duration": 287,
        "start_time": "2023-02-19T16:25:40.838Z"
      },
      {
        "duration": 5,
        "start_time": "2023-02-19T16:39:05.094Z"
      },
      {
        "duration": 5,
        "start_time": "2023-02-19T16:39:24.504Z"
      },
      {
        "duration": 3,
        "start_time": "2023-02-19T16:40:24.002Z"
      },
      {
        "duration": 117,
        "start_time": "2023-02-19T16:46:32.168Z"
      },
      {
        "duration": 15,
        "start_time": "2023-02-19T16:46:45.995Z"
      },
      {
        "duration": 216,
        "start_time": "2023-02-19T16:49:18.848Z"
      },
      {
        "duration": 197,
        "start_time": "2023-02-19T16:49:43.451Z"
      },
      {
        "duration": 208,
        "start_time": "2023-02-19T16:50:37.890Z"
      },
      {
        "duration": 4,
        "start_time": "2023-02-19T16:57:50.893Z"
      },
      {
        "duration": 18,
        "start_time": "2023-02-19T16:57:52.475Z"
      },
      {
        "duration": 7,
        "start_time": "2023-02-19T16:58:27.809Z"
      },
      {
        "duration": 9,
        "start_time": "2023-02-19T16:58:34.269Z"
      },
      {
        "duration": 9,
        "start_time": "2023-02-19T16:59:03.600Z"
      },
      {
        "duration": 10,
        "start_time": "2023-02-19T16:59:30.892Z"
      },
      {
        "duration": 11,
        "start_time": "2023-02-19T17:04:41.750Z"
      },
      {
        "duration": 11,
        "start_time": "2023-02-19T17:05:57.693Z"
      },
      {
        "duration": 8,
        "start_time": "2023-02-19T17:06:57.600Z"
      },
      {
        "duration": 20,
        "start_time": "2023-02-19T17:07:34.399Z"
      },
      {
        "duration": 5,
        "start_time": "2023-02-19T17:09:14.920Z"
      },
      {
        "duration": 8,
        "start_time": "2023-02-19T17:09:52.495Z"
      },
      {
        "duration": 53,
        "start_time": "2023-02-19T17:10:04.458Z"
      },
      {
        "duration": 5,
        "start_time": "2023-02-19T17:10:10.617Z"
      },
      {
        "duration": 6,
        "start_time": "2023-02-19T17:13:57.777Z"
      },
      {
        "duration": 21,
        "start_time": "2023-02-19T17:16:45.384Z"
      },
      {
        "duration": 22,
        "start_time": "2023-02-19T17:23:21.767Z"
      },
      {
        "duration": 8,
        "start_time": "2023-02-19T17:25:55.836Z"
      },
      {
        "duration": 9,
        "start_time": "2023-02-19T17:26:59.338Z"
      },
      {
        "duration": 3,
        "start_time": "2023-02-19T17:27:16.038Z"
      },
      {
        "duration": 8,
        "start_time": "2023-02-19T17:27:17.416Z"
      },
      {
        "duration": 168,
        "start_time": "2023-02-19T17:27:18.667Z"
      },
      {
        "duration": 181,
        "start_time": "2023-02-19T17:28:43.524Z"
      },
      {
        "duration": 15,
        "start_time": "2023-02-19T17:29:51.109Z"
      },
      {
        "duration": 1134,
        "start_time": "2023-02-19T17:30:18.298Z"
      },
      {
        "duration": 152,
        "start_time": "2023-02-19T17:30:19.434Z"
      },
      {
        "duration": 5,
        "start_time": "2023-02-19T17:30:19.587Z"
      },
      {
        "duration": 28,
        "start_time": "2023-02-19T17:30:19.594Z"
      },
      {
        "duration": 29,
        "start_time": "2023-02-19T17:30:19.624Z"
      },
      {
        "duration": 17,
        "start_time": "2023-02-19T17:30:19.655Z"
      },
      {
        "duration": 102,
        "start_time": "2023-02-19T17:30:19.674Z"
      },
      {
        "duration": 96,
        "start_time": "2023-02-19T17:30:19.777Z"
      },
      {
        "duration": 3,
        "start_time": "2023-02-19T17:30:19.875Z"
      },
      {
        "duration": 21,
        "start_time": "2023-02-19T17:30:19.880Z"
      },
      {
        "duration": 9,
        "start_time": "2023-02-19T17:30:19.903Z"
      },
      {
        "duration": 15,
        "start_time": "2023-02-19T17:30:19.914Z"
      },
      {
        "duration": 7,
        "start_time": "2023-02-19T17:30:19.931Z"
      },
      {
        "duration": 5,
        "start_time": "2023-02-19T17:30:19.940Z"
      },
      {
        "duration": 296,
        "start_time": "2023-02-19T17:30:19.946Z"
      },
      {
        "duration": 23,
        "start_time": "2023-02-19T17:30:20.243Z"
      },
      {
        "duration": 4,
        "start_time": "2023-02-19T17:30:20.268Z"
      },
      {
        "duration": 18,
        "start_time": "2023-02-19T17:30:20.273Z"
      },
      {
        "duration": 35,
        "start_time": "2023-02-19T17:30:20.293Z"
      },
      {
        "duration": 3,
        "start_time": "2023-02-19T17:30:20.330Z"
      },
      {
        "duration": 9,
        "start_time": "2023-02-19T17:30:20.335Z"
      },
      {
        "duration": 286,
        "start_time": "2023-02-19T17:30:20.346Z"
      },
      {
        "duration": 7,
        "start_time": "2023-02-19T17:30:50.194Z"
      },
      {
        "duration": 3,
        "start_time": "2023-02-19T17:31:40.105Z"
      },
      {
        "duration": 87,
        "start_time": "2023-02-19T17:31:44.534Z"
      },
      {
        "duration": 83,
        "start_time": "2023-02-19T17:34:12.613Z"
      },
      {
        "duration": 25,
        "start_time": "2023-02-19T17:35:54.696Z"
      },
      {
        "duration": 4,
        "start_time": "2023-02-19T17:35:56.344Z"
      },
      {
        "duration": 82,
        "start_time": "2023-02-19T17:36:00.413Z"
      },
      {
        "duration": 88,
        "start_time": "2023-02-19T17:36:52.458Z"
      },
      {
        "duration": 11,
        "start_time": "2023-02-19T17:37:06.316Z"
      },
      {
        "duration": 84,
        "start_time": "2023-02-19T17:37:36.131Z"
      },
      {
        "duration": 4,
        "start_time": "2023-02-19T17:38:10.573Z"
      },
      {
        "duration": 8,
        "start_time": "2023-02-19T17:38:16.987Z"
      },
      {
        "duration": 642,
        "start_time": "2023-02-19T17:38:34.681Z"
      },
      {
        "duration": 9,
        "start_time": "2023-02-19T17:39:36.719Z"
      },
      {
        "duration": 10,
        "start_time": "2023-02-19T17:40:08.192Z"
      },
      {
        "duration": 1185,
        "start_time": "2023-02-19T17:40:42.450Z"
      },
      {
        "duration": 159,
        "start_time": "2023-02-19T17:40:43.637Z"
      },
      {
        "duration": 5,
        "start_time": "2023-02-19T17:40:43.798Z"
      },
      {
        "duration": 30,
        "start_time": "2023-02-19T17:40:43.805Z"
      },
      {
        "duration": 31,
        "start_time": "2023-02-19T17:40:43.837Z"
      },
      {
        "duration": 16,
        "start_time": "2023-02-19T17:40:43.869Z"
      },
      {
        "duration": 132,
        "start_time": "2023-02-19T17:40:43.887Z"
      },
      {
        "duration": 107,
        "start_time": "2023-02-19T17:40:44.021Z"
      },
      {
        "duration": 4,
        "start_time": "2023-02-19T17:40:44.129Z"
      },
      {
        "duration": 19,
        "start_time": "2023-02-19T17:40:44.136Z"
      },
      {
        "duration": 22,
        "start_time": "2023-02-19T17:40:44.157Z"
      },
      {
        "duration": 7,
        "start_time": "2023-02-19T17:40:44.180Z"
      },
      {
        "duration": 7,
        "start_time": "2023-02-19T17:40:44.189Z"
      },
      {
        "duration": 30,
        "start_time": "2023-02-19T17:40:44.198Z"
      },
      {
        "duration": 278,
        "start_time": "2023-02-19T17:40:44.229Z"
      },
      {
        "duration": 34,
        "start_time": "2023-02-19T17:40:44.509Z"
      },
      {
        "duration": 5,
        "start_time": "2023-02-19T17:40:44.544Z"
      },
      {
        "duration": 13,
        "start_time": "2023-02-19T17:40:44.550Z"
      },
      {
        "duration": 33,
        "start_time": "2023-02-19T17:40:44.565Z"
      },
      {
        "duration": 6,
        "start_time": "2023-02-19T17:40:44.600Z"
      },
      {
        "duration": 109,
        "start_time": "2023-02-19T17:40:44.608Z"
      },
      {
        "duration": 11,
        "start_time": "2023-02-19T17:40:44.719Z"
      },
      {
        "duration": 8,
        "start_time": "2023-02-19T17:40:44.732Z"
      },
      {
        "duration": 13,
        "start_time": "2023-02-19T17:40:44.741Z"
      },
      {
        "duration": 22,
        "start_time": "2023-02-19T17:50:07.407Z"
      },
      {
        "duration": 58,
        "start_time": "2023-02-19T17:59:12.308Z"
      },
      {
        "duration": 102,
        "start_time": "2023-02-19T17:59:51.876Z"
      },
      {
        "duration": 18,
        "start_time": "2023-02-19T18:00:24.735Z"
      },
      {
        "duration": 75,
        "start_time": "2023-02-19T18:00:53.469Z"
      },
      {
        "duration": 56,
        "start_time": "2023-02-19T18:08:26.340Z"
      },
      {
        "duration": 5,
        "start_time": "2023-02-19T18:10:36.670Z"
      },
      {
        "duration": 6,
        "start_time": "2023-02-19T18:12:57.083Z"
      },
      {
        "duration": 37,
        "start_time": "2023-02-19T18:17:27.089Z"
      },
      {
        "duration": 10,
        "start_time": "2023-02-19T18:18:14.572Z"
      },
      {
        "duration": 93,
        "start_time": "2023-02-19T18:18:40.690Z"
      },
      {
        "duration": 4,
        "start_time": "2023-02-19T18:36:28.525Z"
      },
      {
        "duration": 19,
        "start_time": "2023-02-19T18:46:58.920Z"
      },
      {
        "duration": 11997,
        "start_time": "2023-02-19T18:48:44.857Z"
      },
      {
        "duration": 26,
        "start_time": "2023-02-19T18:51:42.666Z"
      },
      {
        "duration": 4,
        "start_time": "2023-02-19T18:56:44.903Z"
      },
      {
        "duration": 21,
        "start_time": "2023-02-19T18:56:46.895Z"
      },
      {
        "duration": 13,
        "start_time": "2023-02-19T18:59:43.882Z"
      },
      {
        "duration": 29,
        "start_time": "2023-02-19T19:00:59.013Z"
      },
      {
        "duration": 90,
        "start_time": "2023-02-19T19:01:12.404Z"
      },
      {
        "duration": 36,
        "start_time": "2023-02-19T19:02:29.860Z"
      },
      {
        "duration": 10,
        "start_time": "2023-02-19T19:02:47.007Z"
      },
      {
        "duration": 17,
        "start_time": "2023-02-19T19:02:54.397Z"
      },
      {
        "duration": 3,
        "start_time": "2023-02-19T19:03:38.307Z"
      },
      {
        "duration": 20,
        "start_time": "2023-02-19T19:03:45.065Z"
      },
      {
        "duration": 4,
        "start_time": "2023-02-19T19:05:20.756Z"
      },
      {
        "duration": 29,
        "start_time": "2023-02-19T19:05:26.492Z"
      },
      {
        "duration": 32,
        "start_time": "2023-02-19T19:14:36.671Z"
      },
      {
        "duration": 1293,
        "start_time": "2023-02-20T15:23:38.932Z"
      },
      {
        "duration": 737,
        "start_time": "2023-02-20T15:23:40.227Z"
      },
      {
        "duration": 5,
        "start_time": "2023-02-20T15:23:48.376Z"
      },
      {
        "duration": 18,
        "start_time": "2023-02-20T15:23:49.271Z"
      },
      {
        "duration": 27,
        "start_time": "2023-02-20T15:23:55.379Z"
      },
      {
        "duration": 15,
        "start_time": "2023-02-20T15:23:59.950Z"
      },
      {
        "duration": 84,
        "start_time": "2023-02-20T15:24:24.248Z"
      },
      {
        "duration": 97,
        "start_time": "2023-02-20T15:24:25.317Z"
      },
      {
        "duration": 3,
        "start_time": "2023-02-20T15:24:29.555Z"
      },
      {
        "duration": 17,
        "start_time": "2023-02-20T15:24:30.659Z"
      },
      {
        "duration": 8,
        "start_time": "2023-02-20T15:24:31.562Z"
      },
      {
        "duration": 2,
        "start_time": "2023-02-20T15:24:51.762Z"
      },
      {
        "duration": 7,
        "start_time": "2023-02-20T15:24:54.823Z"
      },
      {
        "duration": 5,
        "start_time": "2023-02-20T15:24:56.968Z"
      },
      {
        "duration": 286,
        "start_time": "2023-02-20T15:24:58.591Z"
      },
      {
        "duration": 22,
        "start_time": "2023-02-20T15:25:05.756Z"
      },
      {
        "duration": 5,
        "start_time": "2023-02-20T15:25:11.433Z"
      },
      {
        "duration": 31,
        "start_time": "2023-02-20T15:26:30.615Z"
      },
      {
        "duration": 21,
        "start_time": "2023-02-20T15:27:08.592Z"
      },
      {
        "duration": 3,
        "start_time": "2023-02-20T15:27:14.815Z"
      },
      {
        "duration": 73,
        "start_time": "2023-02-20T15:27:16.061Z"
      },
      {
        "duration": 9,
        "start_time": "2023-02-20T15:27:16.793Z"
      },
      {
        "duration": 20,
        "start_time": "2023-02-20T15:27:30.069Z"
      },
      {
        "duration": 63,
        "start_time": "2023-02-20T15:27:31.050Z"
      },
      {
        "duration": 4,
        "start_time": "2023-02-20T15:27:34.219Z"
      },
      {
        "duration": 4,
        "start_time": "2023-02-20T15:28:35.472Z"
      },
      {
        "duration": 6,
        "start_time": "2023-02-20T15:28:55.598Z"
      },
      {
        "duration": 30,
        "start_time": "2023-02-20T15:29:11.079Z"
      },
      {
        "duration": 105,
        "start_time": "2023-02-20T15:52:23.142Z"
      },
      {
        "duration": 5,
        "start_time": "2023-02-20T15:52:31.083Z"
      },
      {
        "duration": 35,
        "start_time": "2023-02-20T15:52:34.442Z"
      },
      {
        "duration": 83,
        "start_time": "2023-02-20T15:52:46.639Z"
      },
      {
        "duration": 4,
        "start_time": "2023-02-20T15:52:53.077Z"
      },
      {
        "duration": 35,
        "start_time": "2023-02-20T15:52:55.792Z"
      },
      {
        "duration": 9,
        "start_time": "2023-02-20T15:53:04.640Z"
      },
      {
        "duration": 27,
        "start_time": "2023-02-20T15:53:11.358Z"
      },
      {
        "duration": 4,
        "start_time": "2023-02-20T15:54:17.068Z"
      },
      {
        "duration": 3,
        "start_time": "2023-02-20T15:54:36.916Z"
      },
      {
        "duration": 3,
        "start_time": "2023-02-20T15:55:11.599Z"
      },
      {
        "duration": 5,
        "start_time": "2023-02-20T15:56:43.253Z"
      },
      {
        "duration": 31,
        "start_time": "2023-02-20T15:58:00.679Z"
      },
      {
        "duration": 27,
        "start_time": "2023-02-20T15:58:06.413Z"
      },
      {
        "duration": 10,
        "start_time": "2023-02-20T16:04:25.353Z"
      },
      {
        "duration": 52,
        "start_time": "2023-02-20T16:05:56.868Z"
      },
      {
        "duration": 13,
        "start_time": "2023-02-20T16:32:00.461Z"
      },
      {
        "duration": 4,
        "start_time": "2023-02-20T16:32:09.424Z"
      },
      {
        "duration": 43,
        "start_time": "2023-02-20T16:32:13.716Z"
      },
      {
        "duration": 78,
        "start_time": "2023-02-20T16:32:21.672Z"
      },
      {
        "duration": 30,
        "start_time": "2023-02-20T16:36:02.974Z"
      },
      {
        "duration": 51,
        "start_time": "2023-02-20T16:37:00.036Z"
      },
      {
        "duration": 82,
        "start_time": "2023-02-20T16:37:55.261Z"
      },
      {
        "duration": 61,
        "start_time": "2023-02-20T16:38:48.301Z"
      },
      {
        "duration": 6,
        "start_time": "2023-02-20T16:55:45.191Z"
      },
      {
        "duration": 1096,
        "start_time": "2023-02-20T16:57:32.345Z"
      },
      {
        "duration": 158,
        "start_time": "2023-02-20T16:57:33.443Z"
      },
      {
        "duration": 5,
        "start_time": "2023-02-20T16:57:33.603Z"
      },
      {
        "duration": 32,
        "start_time": "2023-02-20T16:57:33.611Z"
      },
      {
        "duration": 29,
        "start_time": "2023-02-20T16:57:33.645Z"
      },
      {
        "duration": 17,
        "start_time": "2023-02-20T16:57:33.675Z"
      },
      {
        "duration": 121,
        "start_time": "2023-02-20T16:57:33.694Z"
      },
      {
        "duration": 106,
        "start_time": "2023-02-20T16:57:33.817Z"
      },
      {
        "duration": 14,
        "start_time": "2023-02-20T16:57:33.924Z"
      },
      {
        "duration": 22,
        "start_time": "2023-02-20T16:57:33.940Z"
      },
      {
        "duration": 9,
        "start_time": "2023-02-20T16:57:33.963Z"
      },
      {
        "duration": 9,
        "start_time": "2023-02-20T16:57:33.973Z"
      },
      {
        "duration": 5,
        "start_time": "2023-02-20T16:57:33.984Z"
      },
      {
        "duration": 272,
        "start_time": "2023-02-20T16:57:33.990Z"
      },
      {
        "duration": 22,
        "start_time": "2023-02-20T16:57:34.263Z"
      },
      {
        "duration": 4,
        "start_time": "2023-02-20T16:57:34.286Z"
      },
      {
        "duration": 47,
        "start_time": "2023-02-20T16:57:34.292Z"
      },
      {
        "duration": 20,
        "start_time": "2023-02-20T16:57:34.341Z"
      },
      {
        "duration": 4,
        "start_time": "2023-02-20T16:57:34.363Z"
      },
      {
        "duration": 87,
        "start_time": "2023-02-20T16:57:34.368Z"
      },
      {
        "duration": 9,
        "start_time": "2023-02-20T16:57:34.456Z"
      },
      {
        "duration": 29,
        "start_time": "2023-02-20T16:57:34.466Z"
      },
      {
        "duration": 70,
        "start_time": "2023-02-20T16:57:34.496Z"
      },
      {
        "duration": 4,
        "start_time": "2023-02-20T16:57:34.568Z"
      },
      {
        "duration": 54,
        "start_time": "2023-02-20T16:57:34.573Z"
      },
      {
        "duration": 69,
        "start_time": "2023-02-20T16:57:34.629Z"
      },
      {
        "duration": 4,
        "start_time": "2023-02-20T16:57:34.700Z"
      },
      {
        "duration": 43,
        "start_time": "2023-02-20T16:57:34.706Z"
      },
      {
        "duration": 9,
        "start_time": "2023-02-20T16:57:34.750Z"
      },
      {
        "duration": 31,
        "start_time": "2023-02-20T16:57:34.760Z"
      },
      {
        "duration": 10,
        "start_time": "2023-02-20T16:57:34.792Z"
      },
      {
        "duration": 80,
        "start_time": "2023-02-20T16:57:34.803Z"
      },
      {
        "duration": 31,
        "start_time": "2023-02-20T16:57:34.884Z"
      },
      {
        "duration": 62,
        "start_time": "2023-02-20T16:57:34.917Z"
      },
      {
        "duration": 100,
        "start_time": "2023-02-20T17:04:25.014Z"
      },
      {
        "duration": 1124,
        "start_time": "2023-02-20T17:04:42.614Z"
      },
      {
        "duration": 147,
        "start_time": "2023-02-20T17:04:43.739Z"
      },
      {
        "duration": 5,
        "start_time": "2023-02-20T17:04:43.888Z"
      },
      {
        "duration": 24,
        "start_time": "2023-02-20T17:04:43.895Z"
      },
      {
        "duration": 33,
        "start_time": "2023-02-20T17:04:43.920Z"
      },
      {
        "duration": 14,
        "start_time": "2023-02-20T17:04:43.954Z"
      },
      {
        "duration": 93,
        "start_time": "2023-02-20T17:04:43.969Z"
      },
      {
        "duration": 101,
        "start_time": "2023-02-20T17:04:44.063Z"
      },
      {
        "duration": 4,
        "start_time": "2023-02-20T17:04:44.166Z"
      },
      {
        "duration": 23,
        "start_time": "2023-02-20T17:04:44.172Z"
      },
      {
        "duration": 6,
        "start_time": "2023-02-20T17:04:44.196Z"
      },
      {
        "duration": 6,
        "start_time": "2023-02-20T17:04:44.204Z"
      },
      {
        "duration": 5,
        "start_time": "2023-02-20T17:04:44.237Z"
      },
      {
        "duration": 256,
        "start_time": "2023-02-20T17:04:44.243Z"
      },
      {
        "duration": 22,
        "start_time": "2023-02-20T17:04:44.501Z"
      },
      {
        "duration": 19,
        "start_time": "2023-02-20T17:04:44.525Z"
      },
      {
        "duration": 46,
        "start_time": "2023-02-20T17:04:44.546Z"
      },
      {
        "duration": 21,
        "start_time": "2023-02-20T17:04:44.593Z"
      },
      {
        "duration": 3,
        "start_time": "2023-02-20T17:04:44.637Z"
      },
      {
        "duration": 96,
        "start_time": "2023-02-20T17:04:44.642Z"
      },
      {
        "duration": 8,
        "start_time": "2023-02-20T17:04:44.740Z"
      },
      {
        "duration": 28,
        "start_time": "2023-02-20T17:04:44.749Z"
      },
      {
        "duration": 82,
        "start_time": "2023-02-20T17:04:44.779Z"
      },
      {
        "duration": 6,
        "start_time": "2023-02-20T17:04:44.863Z"
      },
      {
        "duration": 62,
        "start_time": "2023-02-20T17:04:44.871Z"
      },
      {
        "duration": 92,
        "start_time": "2023-02-20T17:04:44.935Z"
      },
      {
        "duration": 13,
        "start_time": "2023-02-20T17:04:45.029Z"
      },
      {
        "duration": 44,
        "start_time": "2023-02-20T17:04:45.045Z"
      },
      {
        "duration": 9,
        "start_time": "2023-02-20T17:04:45.090Z"
      },
      {
        "duration": 46,
        "start_time": "2023-02-20T17:04:45.100Z"
      },
      {
        "duration": 13,
        "start_time": "2023-02-20T17:04:45.148Z"
      },
      {
        "duration": 54,
        "start_time": "2023-02-20T17:04:45.163Z"
      },
      {
        "duration": 48,
        "start_time": "2023-02-20T17:04:45.219Z"
      },
      {
        "duration": 89,
        "start_time": "2023-02-20T17:04:45.269Z"
      },
      {
        "duration": 43,
        "start_time": "2023-02-20T17:17:31.118Z"
      },
      {
        "duration": 8,
        "start_time": "2023-02-20T17:35:37.233Z"
      },
      {
        "duration": 8,
        "start_time": "2023-02-20T17:37:31.155Z"
      },
      {
        "duration": 1116,
        "start_time": "2023-02-20T23:17:42.890Z"
      },
      {
        "duration": 175,
        "start_time": "2023-02-20T23:17:44.009Z"
      },
      {
        "duration": 5,
        "start_time": "2023-02-20T23:17:44.186Z"
      },
      {
        "duration": 37,
        "start_time": "2023-02-20T23:17:44.192Z"
      },
      {
        "duration": 29,
        "start_time": "2023-02-20T23:17:44.231Z"
      },
      {
        "duration": 17,
        "start_time": "2023-02-20T23:17:44.267Z"
      },
      {
        "duration": 92,
        "start_time": "2023-02-20T23:17:44.285Z"
      },
      {
        "duration": 100,
        "start_time": "2023-02-20T23:17:44.379Z"
      },
      {
        "duration": 3,
        "start_time": "2023-02-20T23:17:44.481Z"
      },
      {
        "duration": 38,
        "start_time": "2023-02-20T23:17:44.486Z"
      },
      {
        "duration": 7,
        "start_time": "2023-02-20T23:17:44.525Z"
      },
      {
        "duration": 13,
        "start_time": "2023-02-20T23:17:44.533Z"
      },
      {
        "duration": 17,
        "start_time": "2023-02-20T23:17:44.548Z"
      },
      {
        "duration": 277,
        "start_time": "2023-02-20T23:17:44.567Z"
      },
      {
        "duration": 32,
        "start_time": "2023-02-20T23:17:44.846Z"
      },
      {
        "duration": 4,
        "start_time": "2023-02-20T23:17:44.880Z"
      },
      {
        "duration": 35,
        "start_time": "2023-02-20T23:17:44.886Z"
      },
      {
        "duration": 25,
        "start_time": "2023-02-20T23:17:44.923Z"
      },
      {
        "duration": 5,
        "start_time": "2023-02-20T23:17:44.968Z"
      },
      {
        "duration": 99,
        "start_time": "2023-02-20T23:17:44.974Z"
      },
      {
        "duration": 10,
        "start_time": "2023-02-20T23:17:45.075Z"
      },
      {
        "duration": 37,
        "start_time": "2023-02-20T23:17:45.087Z"
      },
      {
        "duration": 69,
        "start_time": "2023-02-20T23:17:45.126Z"
      },
      {
        "duration": 4,
        "start_time": "2023-02-20T23:17:45.197Z"
      },
      {
        "duration": 40,
        "start_time": "2023-02-20T23:17:45.203Z"
      },
      {
        "duration": 92,
        "start_time": "2023-02-20T23:17:45.245Z"
      },
      {
        "duration": 5,
        "start_time": "2023-02-20T23:17:45.338Z"
      },
      {
        "duration": 48,
        "start_time": "2023-02-20T23:17:45.344Z"
      },
      {
        "duration": 8,
        "start_time": "2023-02-20T23:17:45.393Z"
      },
      {
        "duration": 26,
        "start_time": "2023-02-20T23:17:45.403Z"
      },
      {
        "duration": 10,
        "start_time": "2023-02-20T23:17:45.430Z"
      },
      {
        "duration": 81,
        "start_time": "2023-02-20T23:17:45.441Z"
      },
      {
        "duration": 26,
        "start_time": "2023-02-20T23:17:45.524Z"
      },
      {
        "duration": 61,
        "start_time": "2023-02-20T23:17:45.566Z"
      },
      {
        "duration": 1516,
        "start_time": "2023-02-21T18:30:37.661Z"
      },
      {
        "duration": 825,
        "start_time": "2023-02-21T18:30:39.179Z"
      },
      {
        "duration": 8,
        "start_time": "2023-02-21T18:30:43.324Z"
      },
      {
        "duration": 21,
        "start_time": "2023-02-21T18:30:44.078Z"
      },
      {
        "duration": 61,
        "start_time": "2023-02-21T18:30:46.810Z"
      },
      {
        "duration": 102,
        "start_time": "2023-02-21T18:30:51.917Z"
      },
      {
        "duration": 70,
        "start_time": "2023-02-21T18:31:11.564Z"
      },
      {
        "duration": 114,
        "start_time": "2023-02-21T18:31:26.465Z"
      },
      {
        "duration": 101,
        "start_time": "2023-02-21T18:31:46.592Z"
      },
      {
        "duration": 43,
        "start_time": "2023-02-21T18:32:25.328Z"
      },
      {
        "duration": 20,
        "start_time": "2023-02-21T18:34:46.768Z"
      },
      {
        "duration": 22,
        "start_time": "2023-02-21T18:35:01.968Z"
      },
      {
        "duration": 20,
        "start_time": "2023-02-21T18:35:54.423Z"
      },
      {
        "duration": 20,
        "start_time": "2023-02-21T18:36:19.862Z"
      },
      {
        "duration": 168,
        "start_time": "2023-02-21T18:42:09.296Z"
      },
      {
        "duration": 17,
        "start_time": "2023-02-21T18:42:19.006Z"
      },
      {
        "duration": 16,
        "start_time": "2023-02-21T18:44:49.423Z"
      },
      {
        "duration": 23,
        "start_time": "2023-02-21T18:47:36.289Z"
      },
      {
        "duration": 24,
        "start_time": "2023-02-21T18:47:52.392Z"
      },
      {
        "duration": 12,
        "start_time": "2023-02-21T18:48:12.460Z"
      },
      {
        "duration": 34,
        "start_time": "2023-02-21T18:48:28.386Z"
      },
      {
        "duration": 14,
        "start_time": "2023-02-21T18:49:24.356Z"
      },
      {
        "duration": 30,
        "start_time": "2023-02-21T18:53:40.755Z"
      },
      {
        "duration": 15,
        "start_time": "2023-02-21T18:53:43.860Z"
      },
      {
        "duration": 5,
        "start_time": "2023-02-21T18:54:19.365Z"
      },
      {
        "duration": 25,
        "start_time": "2023-02-21T18:54:20.445Z"
      },
      {
        "duration": 8,
        "start_time": "2023-02-21T18:54:21.274Z"
      },
      {
        "duration": 34,
        "start_time": "2023-02-21T18:54:28.626Z"
      },
      {
        "duration": 5,
        "start_time": "2023-02-21T18:54:31.720Z"
      },
      {
        "duration": 41,
        "start_time": "2023-02-21T18:54:36.035Z"
      },
      {
        "duration": 27,
        "start_time": "2023-02-21T18:54:43.345Z"
      },
      {
        "duration": 3,
        "start_time": "2023-02-21T18:54:46.364Z"
      },
      {
        "duration": 104,
        "start_time": "2023-02-21T18:54:47.187Z"
      },
      {
        "duration": 12,
        "start_time": "2023-02-21T18:54:47.934Z"
      },
      {
        "duration": 22,
        "start_time": "2023-02-21T18:55:05.186Z"
      },
      {
        "duration": 104,
        "start_time": "2023-02-21T18:55:08.626Z"
      },
      {
        "duration": 7,
        "start_time": "2023-02-21T18:55:15.193Z"
      },
      {
        "duration": 11,
        "start_time": "2023-02-21T18:55:48.769Z"
      },
      {
        "duration": 6,
        "start_time": "2023-02-21T18:57:45.916Z"
      },
      {
        "duration": 33,
        "start_time": "2023-02-21T19:28:44.228Z"
      },
      {
        "duration": 89,
        "start_time": "2023-02-21T19:28:45.000Z"
      },
      {
        "duration": 4,
        "start_time": "2023-02-21T19:28:47.575Z"
      },
      {
        "duration": 39,
        "start_time": "2023-02-21T19:28:51.357Z"
      },
      {
        "duration": 11,
        "start_time": "2023-02-21T19:28:53.883Z"
      },
      {
        "duration": 33,
        "start_time": "2023-02-21T19:31:21.722Z"
      },
      {
        "duration": 59,
        "start_time": "2023-02-21T19:33:21.201Z"
      },
      {
        "duration": 32,
        "start_time": "2023-02-21T19:33:44.864Z"
      },
      {
        "duration": 77,
        "start_time": "2023-02-21T19:33:48.409Z"
      },
      {
        "duration": 8,
        "start_time": "2023-02-21T19:47:32.272Z"
      },
      {
        "duration": 6,
        "start_time": "2023-02-21T19:50:52.588Z"
      },
      {
        "duration": 7,
        "start_time": "2023-02-21T19:51:41.882Z"
      },
      {
        "duration": 11,
        "start_time": "2023-02-21T19:51:53.231Z"
      },
      {
        "duration": 7,
        "start_time": "2023-02-21T19:52:06.436Z"
      },
      {
        "duration": 8,
        "start_time": "2023-02-21T19:52:34.577Z"
      },
      {
        "duration": 7,
        "start_time": "2023-02-21T19:53:53.750Z"
      },
      {
        "duration": 6,
        "start_time": "2023-02-21T19:54:23.566Z"
      },
      {
        "duration": 91,
        "start_time": "2023-02-21T19:57:06.804Z"
      },
      {
        "duration": 34,
        "start_time": "2023-02-21T20:06:33.066Z"
      },
      {
        "duration": 1278,
        "start_time": "2023-02-22T12:44:06.171Z"
      },
      {
        "duration": 746,
        "start_time": "2023-02-22T12:44:07.450Z"
      },
      {
        "duration": 5,
        "start_time": "2023-02-22T12:44:08.198Z"
      },
      {
        "duration": 77,
        "start_time": "2023-02-22T12:44:08.205Z"
      },
      {
        "duration": 30,
        "start_time": "2023-02-22T12:44:08.284Z"
      },
      {
        "duration": 28,
        "start_time": "2023-02-22T12:44:08.441Z"
      },
      {
        "duration": 5,
        "start_time": "2023-02-22T12:44:11.324Z"
      },
      {
        "duration": 22,
        "start_time": "2023-02-22T12:44:11.917Z"
      },
      {
        "duration": 26,
        "start_time": "2023-02-22T12:44:12.103Z"
      },
      {
        "duration": 20,
        "start_time": "2023-02-22T12:44:12.606Z"
      },
      {
        "duration": 18,
        "start_time": "2023-02-22T12:44:12.793Z"
      },
      {
        "duration": 18,
        "start_time": "2023-02-22T12:44:12.979Z"
      },
      {
        "duration": 15,
        "start_time": "2023-02-22T12:44:14.134Z"
      },
      {
        "duration": 77,
        "start_time": "2023-02-22T12:44:14.535Z"
      },
      {
        "duration": 86,
        "start_time": "2023-02-22T12:44:14.792Z"
      },
      {
        "duration": 3,
        "start_time": "2023-02-22T12:44:15.428Z"
      },
      {
        "duration": 19,
        "start_time": "2023-02-22T12:44:15.665Z"
      },
      {
        "duration": 9,
        "start_time": "2023-02-22T12:44:15.878Z"
      },
      {
        "duration": 11,
        "start_time": "2023-02-22T12:44:16.268Z"
      },
      {
        "duration": 12,
        "start_time": "2023-02-22T12:44:16.674Z"
      },
      {
        "duration": 6,
        "start_time": "2023-02-22T12:44:17.292Z"
      },
      {
        "duration": 255,
        "start_time": "2023-02-22T12:44:18.033Z"
      },
      {
        "duration": 24,
        "start_time": "2023-02-22T12:44:18.628Z"
      },
      {
        "duration": 4,
        "start_time": "2023-02-22T12:44:19.128Z"
      },
      {
        "duration": 31,
        "start_time": "2023-02-22T12:44:19.970Z"
      },
      {
        "duration": 22,
        "start_time": "2023-02-22T12:44:21.220Z"
      },
      {
        "duration": 3,
        "start_time": "2023-02-22T12:44:21.522Z"
      },
      {
        "duration": 85,
        "start_time": "2023-02-22T12:44:21.806Z"
      },
      {
        "duration": 10,
        "start_time": "2023-02-22T12:44:22.054Z"
      },
      {
        "duration": 22,
        "start_time": "2023-02-22T12:44:22.488Z"
      },
      {
        "duration": 69,
        "start_time": "2023-02-22T12:44:22.990Z"
      },
      {
        "duration": 5,
        "start_time": "2023-02-22T12:44:25.203Z"
      },
      {
        "duration": 6,
        "start_time": "2023-02-22T12:44:26.628Z"
      },
      {
        "duration": 34,
        "start_time": "2023-02-22T12:44:29.225Z"
      },
      {
        "duration": 73,
        "start_time": "2023-02-22T12:44:29.760Z"
      },
      {
        "duration": 4,
        "start_time": "2023-02-22T12:44:30.802Z"
      },
      {
        "duration": 34,
        "start_time": "2023-02-22T12:44:32.077Z"
      },
      {
        "duration": 10,
        "start_time": "2023-02-22T12:44:32.842Z"
      },
      {
        "duration": 39,
        "start_time": "2023-02-22T12:44:34.626Z"
      },
      {
        "duration": 11,
        "start_time": "2023-02-22T12:44:37.496Z"
      },
      {
        "duration": 7,
        "start_time": "2023-02-22T12:44:38.339Z"
      },
      {
        "duration": 13,
        "start_time": "2023-02-22T12:44:43.708Z"
      },
      {
        "duration": 59,
        "start_time": "2023-02-22T12:44:44.188Z"
      },
      {
        "duration": 96,
        "start_time": "2023-02-22T12:44:48.422Z"
      },
      {
        "duration": 3,
        "start_time": "2023-02-22T12:47:20.884Z"
      },
      {
        "duration": 32,
        "start_time": "2023-02-22T12:47:24.533Z"
      },
      {
        "duration": 56,
        "start_time": "2023-02-22T12:47:32.341Z"
      },
      {
        "duration": 2,
        "start_time": "2023-02-22T12:51:39.379Z"
      },
      {
        "duration": 2,
        "start_time": "2023-02-22T12:52:37.107Z"
      },
      {
        "duration": 36,
        "start_time": "2023-02-22T12:52:38.828Z"
      },
      {
        "duration": 57,
        "start_time": "2023-02-22T12:52:42.929Z"
      },
      {
        "duration": 1431,
        "start_time": "2023-02-23T07:44:20.343Z"
      },
      {
        "duration": 521,
        "start_time": "2023-02-23T07:44:21.776Z"
      },
      {
        "duration": 6,
        "start_time": "2023-02-23T07:44:26.693Z"
      },
      {
        "duration": 23,
        "start_time": "2023-02-23T07:44:27.741Z"
      },
      {
        "duration": 31,
        "start_time": "2023-02-23T07:44:28.378Z"
      },
      {
        "duration": 28,
        "start_time": "2023-02-23T07:44:28.961Z"
      },
      {
        "duration": 18,
        "start_time": "2023-02-23T07:44:29.850Z"
      },
      {
        "duration": 20,
        "start_time": "2023-02-23T07:44:31.599Z"
      },
      {
        "duration": 19,
        "start_time": "2023-02-23T07:44:34.604Z"
      },
      {
        "duration": 92,
        "start_time": "2023-02-23T07:44:35.279Z"
      },
      {
        "duration": 93,
        "start_time": "2023-02-23T07:44:35.527Z"
      },
      {
        "duration": 3,
        "start_time": "2023-02-23T07:44:37.103Z"
      },
      {
        "duration": 21,
        "start_time": "2023-02-23T07:44:37.274Z"
      },
      {
        "duration": 7,
        "start_time": "2023-02-23T07:44:37.462Z"
      },
      {
        "duration": 11,
        "start_time": "2023-02-23T07:44:37.900Z"
      },
      {
        "duration": 12,
        "start_time": "2023-02-23T07:44:38.262Z"
      },
      {
        "duration": 5,
        "start_time": "2023-02-23T07:44:40.228Z"
      },
      {
        "duration": 309,
        "start_time": "2023-02-23T07:44:41.335Z"
      },
      {
        "duration": 31,
        "start_time": "2023-02-23T07:44:43.841Z"
      },
      {
        "duration": 4,
        "start_time": "2023-02-23T07:44:46.008Z"
      },
      {
        "duration": 33,
        "start_time": "2023-02-23T07:44:50.543Z"
      },
      {
        "duration": 36,
        "start_time": "2023-02-23T07:44:53.038Z"
      },
      {
        "duration": 4,
        "start_time": "2023-02-23T07:44:54.504Z"
      },
      {
        "duration": 88,
        "start_time": "2023-02-23T07:44:56.600Z"
      },
      {
        "duration": 12,
        "start_time": "2023-02-23T07:44:57.217Z"
      },
      {
        "duration": 5,
        "start_time": "2023-02-23T07:51:01.751Z"
      },
      {
        "duration": 16,
        "start_time": "2023-02-23T07:51:07.586Z"
      },
      {
        "duration": 137,
        "start_time": "2023-02-23T07:55:00.255Z"
      },
      {
        "duration": 20,
        "start_time": "2023-02-23T07:55:17.880Z"
      },
      {
        "duration": 12,
        "start_time": "2023-02-23T07:56:17.329Z"
      },
      {
        "duration": 11,
        "start_time": "2023-02-23T07:56:56.185Z"
      },
      {
        "duration": 10,
        "start_time": "2023-02-23T07:57:48.945Z"
      },
      {
        "duration": 18,
        "start_time": "2023-02-23T07:58:10.011Z"
      },
      {
        "duration": 338,
        "start_time": "2023-02-23T07:59:24.529Z"
      },
      {
        "duration": 20,
        "start_time": "2023-02-23T08:00:12.287Z"
      },
      {
        "duration": 13,
        "start_time": "2023-02-23T08:00:40.520Z"
      },
      {
        "duration": 13,
        "start_time": "2023-02-23T08:02:43.252Z"
      },
      {
        "duration": 12,
        "start_time": "2023-02-23T08:03:05.499Z"
      },
      {
        "duration": 1265,
        "start_time": "2023-02-23T08:03:34.984Z"
      },
      {
        "duration": 181,
        "start_time": "2023-02-23T08:03:36.252Z"
      },
      {
        "duration": 5,
        "start_time": "2023-02-23T08:03:36.435Z"
      },
      {
        "duration": 27,
        "start_time": "2023-02-23T08:03:36.443Z"
      },
      {
        "duration": 32,
        "start_time": "2023-02-23T08:03:36.472Z"
      },
      {
        "duration": 52,
        "start_time": "2023-02-23T08:03:36.506Z"
      },
      {
        "duration": 20,
        "start_time": "2023-02-23T08:03:36.560Z"
      },
      {
        "duration": 25,
        "start_time": "2023-02-23T08:03:36.583Z"
      },
      {
        "duration": 43,
        "start_time": "2023-02-23T08:03:36.610Z"
      },
      {
        "duration": 102,
        "start_time": "2023-02-23T08:03:36.656Z"
      },
      {
        "duration": 116,
        "start_time": "2023-02-23T08:03:36.761Z"
      },
      {
        "duration": 3,
        "start_time": "2023-02-23T08:03:36.879Z"
      },
      {
        "duration": 31,
        "start_time": "2023-02-23T08:03:36.883Z"
      },
      {
        "duration": 23,
        "start_time": "2023-02-23T08:03:36.916Z"
      },
      {
        "duration": 12,
        "start_time": "2023-02-23T08:03:36.941Z"
      },
      {
        "duration": 18,
        "start_time": "2023-02-23T08:03:36.954Z"
      },
      {
        "duration": 16,
        "start_time": "2023-02-23T08:03:36.974Z"
      },
      {
        "duration": 321,
        "start_time": "2023-02-23T08:03:36.991Z"
      },
      {
        "duration": 34,
        "start_time": "2023-02-23T08:03:37.313Z"
      },
      {
        "duration": 4,
        "start_time": "2023-02-23T08:03:37.349Z"
      },
      {
        "duration": 42,
        "start_time": "2023-02-23T08:03:37.355Z"
      },
      {
        "duration": 50,
        "start_time": "2023-02-23T08:03:37.399Z"
      },
      {
        "duration": 11,
        "start_time": "2023-02-23T08:03:37.451Z"
      },
      {
        "duration": 101,
        "start_time": "2023-02-23T08:03:37.463Z"
      },
      {
        "duration": 10,
        "start_time": "2023-02-23T08:03:37.566Z"
      },
      {
        "duration": 16,
        "start_time": "2023-02-23T08:03:37.577Z"
      },
      {
        "duration": 21,
        "start_time": "2023-02-23T08:03:37.595Z"
      },
      {
        "duration": 29,
        "start_time": "2023-02-23T08:03:37.620Z"
      },
      {
        "duration": 70,
        "start_time": "2023-02-23T08:03:37.651Z"
      },
      {
        "duration": 6,
        "start_time": "2023-02-23T08:03:37.737Z"
      },
      {
        "duration": 16,
        "start_time": "2023-02-23T08:03:37.745Z"
      },
      {
        "duration": 42,
        "start_time": "2023-02-23T08:03:37.763Z"
      },
      {
        "duration": 95,
        "start_time": "2023-02-23T08:03:37.807Z"
      },
      {
        "duration": 5,
        "start_time": "2023-02-23T08:03:37.904Z"
      },
      {
        "duration": 71,
        "start_time": "2023-02-23T08:03:37.910Z"
      },
      {
        "duration": 10,
        "start_time": "2023-02-23T08:03:37.982Z"
      },
      {
        "duration": 53,
        "start_time": "2023-02-23T08:03:37.993Z"
      },
      {
        "duration": 24,
        "start_time": "2023-02-23T08:03:38.048Z"
      },
      {
        "duration": 26,
        "start_time": "2023-02-23T08:03:38.074Z"
      },
      {
        "duration": 36,
        "start_time": "2023-02-23T08:03:38.102Z"
      },
      {
        "duration": 82,
        "start_time": "2023-02-23T08:03:38.140Z"
      },
      {
        "duration": 3,
        "start_time": "2023-02-23T08:03:38.224Z"
      },
      {
        "duration": 35,
        "start_time": "2023-02-23T08:03:38.229Z"
      },
      {
        "duration": 130,
        "start_time": "2023-02-23T08:03:38.265Z"
      },
      {
        "duration": 9,
        "start_time": "2023-02-23T08:04:25.753Z"
      },
      {
        "duration": 5,
        "start_time": "2023-02-23T08:04:36.044Z"
      },
      {
        "duration": 2,
        "start_time": "2023-02-23T08:04:48.659Z"
      },
      {
        "duration": 12,
        "start_time": "2023-02-23T08:06:27.433Z"
      },
      {
        "duration": 1317,
        "start_time": "2023-02-23T08:06:42.268Z"
      },
      {
        "duration": 175,
        "start_time": "2023-02-23T08:06:43.587Z"
      },
      {
        "duration": 6,
        "start_time": "2023-02-23T08:06:43.764Z"
      },
      {
        "duration": 54,
        "start_time": "2023-02-23T08:06:43.772Z"
      },
      {
        "duration": 51,
        "start_time": "2023-02-23T08:06:43.828Z"
      },
      {
        "duration": 30,
        "start_time": "2023-02-23T08:06:43.881Z"
      },
      {
        "duration": 17,
        "start_time": "2023-02-23T08:06:43.913Z"
      },
      {
        "duration": 67,
        "start_time": "2023-02-23T08:06:43.931Z"
      },
      {
        "duration": 23,
        "start_time": "2023-02-23T08:06:44.000Z"
      },
      {
        "duration": 99,
        "start_time": "2023-02-23T08:06:44.026Z"
      },
      {
        "duration": 101,
        "start_time": "2023-02-23T08:06:44.127Z"
      },
      {
        "duration": 9,
        "start_time": "2023-02-23T08:06:44.230Z"
      },
      {
        "duration": 53,
        "start_time": "2023-02-23T08:06:44.240Z"
      },
      {
        "duration": 11,
        "start_time": "2023-02-23T08:06:44.295Z"
      },
      {
        "duration": 40,
        "start_time": "2023-02-23T08:06:44.308Z"
      },
      {
        "duration": 34,
        "start_time": "2023-02-23T08:06:44.350Z"
      },
      {
        "duration": 11,
        "start_time": "2023-02-23T08:06:44.386Z"
      },
      {
        "duration": 293,
        "start_time": "2023-02-23T08:06:44.399Z"
      },
      {
        "duration": 26,
        "start_time": "2023-02-23T08:06:44.694Z"
      },
      {
        "duration": 18,
        "start_time": "2023-02-23T08:06:44.721Z"
      },
      {
        "duration": 35,
        "start_time": "2023-02-23T08:06:44.741Z"
      },
      {
        "duration": 25,
        "start_time": "2023-02-23T08:06:44.778Z"
      },
      {
        "duration": 6,
        "start_time": "2023-02-23T08:06:44.805Z"
      },
      {
        "duration": 109,
        "start_time": "2023-02-23T08:06:44.812Z"
      },
      {
        "duration": 21,
        "start_time": "2023-02-23T08:06:44.923Z"
      },
      {
        "duration": 107,
        "start_time": "2023-02-23T08:06:44.946Z"
      },
      {
        "duration": 0,
        "start_time": "2023-02-23T08:06:45.055Z"
      },
      {
        "duration": 0,
        "start_time": "2023-02-23T08:06:45.057Z"
      },
      {
        "duration": 0,
        "start_time": "2023-02-23T08:06:45.058Z"
      },
      {
        "duration": 0,
        "start_time": "2023-02-23T08:06:45.059Z"
      },
      {
        "duration": 0,
        "start_time": "2023-02-23T08:06:45.060Z"
      },
      {
        "duration": 0,
        "start_time": "2023-02-23T08:06:45.061Z"
      },
      {
        "duration": 0,
        "start_time": "2023-02-23T08:06:45.062Z"
      },
      {
        "duration": 0,
        "start_time": "2023-02-23T08:06:45.064Z"
      },
      {
        "duration": 0,
        "start_time": "2023-02-23T08:06:45.065Z"
      },
      {
        "duration": 0,
        "start_time": "2023-02-23T08:06:45.066Z"
      },
      {
        "duration": 0,
        "start_time": "2023-02-23T08:06:45.068Z"
      },
      {
        "duration": 0,
        "start_time": "2023-02-23T08:06:45.068Z"
      },
      {
        "duration": 1,
        "start_time": "2023-02-23T08:06:45.069Z"
      },
      {
        "duration": 0,
        "start_time": "2023-02-23T08:06:45.071Z"
      },
      {
        "duration": 0,
        "start_time": "2023-02-23T08:06:45.072Z"
      },
      {
        "duration": 0,
        "start_time": "2023-02-23T08:06:45.073Z"
      },
      {
        "duration": 0,
        "start_time": "2023-02-23T08:06:45.074Z"
      },
      {
        "duration": 0,
        "start_time": "2023-02-23T08:06:45.075Z"
      },
      {
        "duration": 0,
        "start_time": "2023-02-23T08:06:45.076Z"
      },
      {
        "duration": 15,
        "start_time": "2023-02-23T08:07:35.342Z"
      },
      {
        "duration": 18,
        "start_time": "2023-02-23T08:07:42.598Z"
      },
      {
        "duration": 14,
        "start_time": "2023-02-23T08:07:58.871Z"
      },
      {
        "duration": 15,
        "start_time": "2023-02-23T08:08:14.580Z"
      },
      {
        "duration": 19,
        "start_time": "2023-02-23T08:08:56.981Z"
      },
      {
        "duration": 12,
        "start_time": "2023-02-23T08:14:13.066Z"
      },
      {
        "duration": 1296,
        "start_time": "2023-02-23T08:14:24.902Z"
      },
      {
        "duration": 174,
        "start_time": "2023-02-23T08:14:26.200Z"
      },
      {
        "duration": 5,
        "start_time": "2023-02-23T08:14:26.376Z"
      },
      {
        "duration": 32,
        "start_time": "2023-02-23T08:14:26.384Z"
      },
      {
        "duration": 43,
        "start_time": "2023-02-23T08:14:26.418Z"
      },
      {
        "duration": 31,
        "start_time": "2023-02-23T08:14:26.463Z"
      },
      {
        "duration": 43,
        "start_time": "2023-02-23T08:14:26.496Z"
      },
      {
        "duration": 26,
        "start_time": "2023-02-23T08:14:26.541Z"
      },
      {
        "duration": 19,
        "start_time": "2023-02-23T08:14:26.569Z"
      },
      {
        "duration": 113,
        "start_time": "2023-02-23T08:14:26.590Z"
      },
      {
        "duration": 115,
        "start_time": "2023-02-23T08:14:26.705Z"
      },
      {
        "duration": 5,
        "start_time": "2023-02-23T08:14:26.822Z"
      },
      {
        "duration": 42,
        "start_time": "2023-02-23T08:14:26.828Z"
      },
      {
        "duration": 10,
        "start_time": "2023-02-23T08:14:26.872Z"
      },
      {
        "duration": 39,
        "start_time": "2023-02-23T08:14:26.883Z"
      },
      {
        "duration": 14,
        "start_time": "2023-02-23T08:14:26.924Z"
      },
      {
        "duration": 6,
        "start_time": "2023-02-23T08:14:26.940Z"
      },
      {
        "duration": 302,
        "start_time": "2023-02-23T08:14:26.948Z"
      },
      {
        "duration": 28,
        "start_time": "2023-02-23T08:14:27.252Z"
      },
      {
        "duration": 5,
        "start_time": "2023-02-23T08:14:27.282Z"
      },
      {
        "duration": 59,
        "start_time": "2023-02-23T08:14:27.289Z"
      },
      {
        "duration": 43,
        "start_time": "2023-02-23T08:14:27.350Z"
      },
      {
        "duration": 8,
        "start_time": "2023-02-23T08:14:27.396Z"
      },
      {
        "duration": 115,
        "start_time": "2023-02-23T08:14:27.406Z"
      },
      {
        "duration": 17,
        "start_time": "2023-02-23T08:14:27.523Z"
      },
      {
        "duration": 118,
        "start_time": "2023-02-23T08:14:27.541Z"
      },
      {
        "duration": 0,
        "start_time": "2023-02-23T08:14:27.661Z"
      },
      {
        "duration": 0,
        "start_time": "2023-02-23T08:14:27.662Z"
      },
      {
        "duration": 0,
        "start_time": "2023-02-23T08:14:27.663Z"
      },
      {
        "duration": 0,
        "start_time": "2023-02-23T08:14:27.664Z"
      },
      {
        "duration": 0,
        "start_time": "2023-02-23T08:14:27.666Z"
      },
      {
        "duration": 0,
        "start_time": "2023-02-23T08:14:27.667Z"
      },
      {
        "duration": 0,
        "start_time": "2023-02-23T08:14:27.669Z"
      },
      {
        "duration": 0,
        "start_time": "2023-02-23T08:14:27.670Z"
      },
      {
        "duration": 1,
        "start_time": "2023-02-23T08:14:27.671Z"
      },
      {
        "duration": 0,
        "start_time": "2023-02-23T08:14:27.673Z"
      },
      {
        "duration": 0,
        "start_time": "2023-02-23T08:14:27.674Z"
      },
      {
        "duration": 0,
        "start_time": "2023-02-23T08:14:27.676Z"
      },
      {
        "duration": 0,
        "start_time": "2023-02-23T08:14:27.677Z"
      },
      {
        "duration": 0,
        "start_time": "2023-02-23T08:14:27.678Z"
      },
      {
        "duration": 0,
        "start_time": "2023-02-23T08:14:27.679Z"
      },
      {
        "duration": 0,
        "start_time": "2023-02-23T08:14:27.681Z"
      },
      {
        "duration": 0,
        "start_time": "2023-02-23T08:14:27.682Z"
      },
      {
        "duration": 16,
        "start_time": "2023-02-23T08:15:25.501Z"
      },
      {
        "duration": 1381,
        "start_time": "2023-02-23T19:12:14.160Z"
      },
      {
        "duration": 692,
        "start_time": "2023-02-23T19:12:15.543Z"
      },
      {
        "duration": 7,
        "start_time": "2023-02-23T19:12:16.236Z"
      },
      {
        "duration": 28,
        "start_time": "2023-02-23T19:12:16.244Z"
      },
      {
        "duration": 40,
        "start_time": "2023-02-23T19:12:16.275Z"
      },
      {
        "duration": 30,
        "start_time": "2023-02-23T19:12:16.317Z"
      },
      {
        "duration": 42,
        "start_time": "2023-02-23T19:12:16.349Z"
      },
      {
        "duration": 20,
        "start_time": "2023-02-23T19:12:16.393Z"
      },
      {
        "duration": 19,
        "start_time": "2023-02-23T19:12:16.415Z"
      },
      {
        "duration": 111,
        "start_time": "2023-02-23T19:12:16.436Z"
      },
      {
        "duration": 126,
        "start_time": "2023-02-23T19:12:16.549Z"
      },
      {
        "duration": 14,
        "start_time": "2023-02-23T19:12:16.678Z"
      },
      {
        "duration": 39,
        "start_time": "2023-02-23T19:12:16.694Z"
      },
      {
        "duration": 19,
        "start_time": "2023-02-23T19:12:16.738Z"
      },
      {
        "duration": 20,
        "start_time": "2023-02-23T19:12:16.759Z"
      },
      {
        "duration": 15,
        "start_time": "2023-02-23T19:12:16.781Z"
      },
      {
        "duration": 10,
        "start_time": "2023-02-23T19:12:16.799Z"
      },
      {
        "duration": 267,
        "start_time": "2023-02-23T19:12:16.812Z"
      },
      {
        "duration": 26,
        "start_time": "2023-02-23T19:12:17.081Z"
      },
      {
        "duration": 5,
        "start_time": "2023-02-23T19:12:17.109Z"
      },
      {
        "duration": 35,
        "start_time": "2023-02-23T19:12:17.116Z"
      },
      {
        "duration": 52,
        "start_time": "2023-02-23T19:12:17.153Z"
      },
      {
        "duration": 3,
        "start_time": "2023-02-23T19:12:17.207Z"
      },
      {
        "duration": 94,
        "start_time": "2023-02-23T19:12:17.211Z"
      },
      {
        "duration": 9,
        "start_time": "2023-02-23T19:12:17.307Z"
      },
      {
        "duration": 13,
        "start_time": "2023-02-23T19:12:17.318Z"
      },
      {
        "duration": 24,
        "start_time": "2023-02-23T19:12:17.333Z"
      },
      {
        "duration": 89,
        "start_time": "2023-02-23T19:12:17.358Z"
      },
      {
        "duration": 5,
        "start_time": "2023-02-23T19:12:17.449Z"
      },
      {
        "duration": 9,
        "start_time": "2023-02-23T19:12:17.456Z"
      },
      {
        "duration": 52,
        "start_time": "2023-02-23T19:12:17.467Z"
      },
      {
        "duration": 90,
        "start_time": "2023-02-23T19:12:17.521Z"
      },
      {
        "duration": 4,
        "start_time": "2023-02-23T19:12:17.613Z"
      },
      {
        "duration": 39,
        "start_time": "2023-02-23T19:12:17.619Z"
      },
      {
        "duration": 10,
        "start_time": "2023-02-23T19:12:17.660Z"
      },
      {
        "duration": 32,
        "start_time": "2023-02-23T19:12:17.692Z"
      },
      {
        "duration": 7,
        "start_time": "2023-02-23T19:12:17.726Z"
      },
      {
        "duration": 9,
        "start_time": "2023-02-23T19:12:17.735Z"
      },
      {
        "duration": 45,
        "start_time": "2023-02-23T19:12:17.746Z"
      },
      {
        "duration": 75,
        "start_time": "2023-02-23T19:12:17.794Z"
      },
      {
        "duration": 17,
        "start_time": "2023-02-23T19:12:17.874Z"
      },
      {
        "duration": 40,
        "start_time": "2023-02-23T19:12:17.893Z"
      },
      {
        "duration": 107,
        "start_time": "2023-02-23T19:12:17.935Z"
      },
      {
        "duration": 1145,
        "start_time": "2023-02-23T19:16:05.077Z"
      },
      {
        "duration": 207,
        "start_time": "2023-02-23T19:16:06.226Z"
      },
      {
        "duration": 7,
        "start_time": "2023-02-23T19:16:06.435Z"
      },
      {
        "duration": 33,
        "start_time": "2023-02-23T19:16:06.444Z"
      },
      {
        "duration": 36,
        "start_time": "2023-02-23T19:16:06.490Z"
      },
      {
        "duration": 32,
        "start_time": "2023-02-23T19:16:06.528Z"
      },
      {
        "duration": 41,
        "start_time": "2023-02-23T19:16:06.562Z"
      },
      {
        "duration": 17,
        "start_time": "2023-02-23T19:16:06.604Z"
      },
      {
        "duration": 16,
        "start_time": "2023-02-23T19:16:06.623Z"
      },
      {
        "duration": 99,
        "start_time": "2023-02-23T19:16:06.641Z"
      },
      {
        "duration": 102,
        "start_time": "2023-02-23T19:16:06.742Z"
      },
      {
        "duration": 4,
        "start_time": "2023-02-23T19:16:06.845Z"
      },
      {
        "duration": 21,
        "start_time": "2023-02-23T19:16:06.851Z"
      },
      {
        "duration": 19,
        "start_time": "2023-02-23T19:16:06.875Z"
      },
      {
        "duration": 11,
        "start_time": "2023-02-23T19:16:06.896Z"
      },
      {
        "duration": 14,
        "start_time": "2023-02-23T19:16:06.909Z"
      },
      {
        "duration": 6,
        "start_time": "2023-02-23T19:16:06.924Z"
      },
      {
        "duration": 308,
        "start_time": "2023-02-23T19:16:06.932Z"
      },
      {
        "duration": 25,
        "start_time": "2023-02-23T19:16:07.242Z"
      },
      {
        "duration": 25,
        "start_time": "2023-02-23T19:16:07.268Z"
      },
      {
        "duration": 33,
        "start_time": "2023-02-23T19:16:07.294Z"
      },
      {
        "duration": 23,
        "start_time": "2023-02-23T19:16:07.329Z"
      },
      {
        "duration": 16,
        "start_time": "2023-02-23T19:16:07.353Z"
      },
      {
        "duration": 97,
        "start_time": "2023-02-23T19:16:07.370Z"
      },
      {
        "duration": 9,
        "start_time": "2023-02-23T19:16:07.469Z"
      },
      {
        "duration": 20,
        "start_time": "2023-02-23T19:16:07.479Z"
      },
      {
        "duration": 20,
        "start_time": "2023-02-23T19:16:07.500Z"
      },
      {
        "duration": 80,
        "start_time": "2023-02-23T19:16:07.522Z"
      },
      {
        "duration": 5,
        "start_time": "2023-02-23T19:16:07.604Z"
      },
      {
        "duration": 10,
        "start_time": "2023-02-23T19:16:07.611Z"
      },
      {
        "duration": 35,
        "start_time": "2023-02-23T19:16:07.623Z"
      },
      {
        "duration": 98,
        "start_time": "2023-02-23T19:16:07.660Z"
      },
      {
        "duration": 4,
        "start_time": "2023-02-23T19:16:07.760Z"
      },
      {
        "duration": 51,
        "start_time": "2023-02-23T19:16:07.765Z"
      },
      {
        "duration": 12,
        "start_time": "2023-02-23T19:16:07.818Z"
      },
      {
        "duration": 39,
        "start_time": "2023-02-23T19:16:07.832Z"
      },
      {
        "duration": 8,
        "start_time": "2023-02-23T19:16:07.892Z"
      },
      {
        "duration": 7,
        "start_time": "2023-02-23T19:16:07.901Z"
      },
      {
        "duration": 14,
        "start_time": "2023-02-23T19:16:07.909Z"
      },
      {
        "duration": 74,
        "start_time": "2023-02-23T19:16:07.924Z"
      },
      {
        "duration": 9,
        "start_time": "2023-02-23T19:16:08.001Z"
      },
      {
        "duration": 31,
        "start_time": "2023-02-23T19:16:08.012Z"
      },
      {
        "duration": 122,
        "start_time": "2023-02-23T19:16:08.044Z"
      },
      {
        "duration": 51,
        "start_time": "2023-02-24T07:36:36.235Z"
      }
    ],
    "kernelspec": {
      "display_name": "Python 3 (ipykernel)",
      "language": "python",
      "name": "python3"
    },
    "language_info": {
      "codemirror_mode": {
        "name": "ipython",
        "version": 3
      },
      "file_extension": ".py",
      "mimetype": "text/x-python",
      "name": "python",
      "nbconvert_exporter": "python",
      "pygments_lexer": "ipython3",
      "version": "3.9.5"
    },
    "toc": {
      "base_numbering": 1,
      "nav_menu": {},
      "number_sections": true,
      "sideBar": true,
      "skip_h1_title": true,
      "title_cell": "Table of Contents",
      "title_sidebar": "Contents",
      "toc_cell": false,
      "toc_position": {},
      "toc_section_display": true,
      "toc_window_display": false
    },
    "colab": {
      "provenance": []
    }
  },
  "nbformat": 4,
  "nbformat_minor": 0
}